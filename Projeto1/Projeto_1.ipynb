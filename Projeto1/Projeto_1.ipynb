{
  "nbformat": 4,
  "nbformat_minor": 0,
  "metadata": {
    "kernelspec": {
      "display_name": "Python 3",
      "language": "python",
      "name": "python3"
    },
    "language_info": {
      "codemirror_mode": {
        "name": "ipython",
        "version": 3
      },
      "file_extension": ".py",
      "mimetype": "text/x-python",
      "name": "python",
      "nbconvert_exporter": "python",
      "pygments_lexer": "ipython3",
      "version": "3.8.3"
    },
    "colab": {
      "name": "Projeto_1.ipynb",
      "provenance": [],
      "include_colab_link": true
    }
  },
  "cells": [
    {
      "cell_type": "markdown",
      "metadata": {
        "id": "view-in-github",
        "colab_type": "text"
      },
      "source": [
        "<a href=\"https://colab.research.google.com/github/Edinaldobjr/aulas_de_python/blob/master/Projeto1/Projeto_1.ipynb\" target=\"_parent\"><img src=\"https://colab.research.google.com/assets/colab-badge.svg\" alt=\"Open In Colab\"/></a>"
      ]
    },
    {
      "cell_type": "markdown",
      "metadata": {
        "id": "RI2F69ekUOtF"
      },
      "source": [
        "# Item 1"
      ]
    },
    {
      "cell_type": "code",
      "metadata": {
        "id": "L7fHQgGLUOtH",
        "outputId": "f6ffb398-8e75-4a7f-91ff-95af99962fb0"
      },
      "source": [
        "import math as mt\n",
        "import numpy as np\n",
        "\n",
        "beta = 0.1\n",
        "def gamma(beta):    \n",
        "    return  1/(mt.sqrt(1- beta**2))\n",
        "\n",
        "print(gamma(beta))"
      ],
      "execution_count": null,
      "outputs": [
        {
          "output_type": "stream",
          "text": [
            "1.005037815259212\n"
          ],
          "name": "stdout"
        }
      ]
    },
    {
      "cell_type": "markdown",
      "metadata": {
        "id": "2xViDUiDUOtM"
      },
      "source": [
        "# Item 2"
      ]
    },
    {
      "cell_type": "code",
      "metadata": {
        "id": "OX5JmudLUOtN",
        "outputId": "901c41e9-8de5-4f94-b933-afbfb454c2e8"
      },
      "source": [
        "import math as mt\n",
        "import numpy as np\n",
        "\n",
        "beta = np.array([0.1, 0.2])\n",
        "def gamma(beta):    \n",
        "    nova_lista = []\n",
        "    for (i, valor) in enumerate(beta):\n",
        "        novo_elemento = 1/(mt.sqrt(1- valor**2))\n",
        "        nova_lista.append(novo_elemento)\n",
        "    return nova_lista\n",
        "\n",
        "print(gamma(beta))\n",
        "\n"
      ],
      "execution_count": null,
      "outputs": [
        {
          "output_type": "stream",
          "text": [
            "[1.005037815259212, 1.0206207261596576]\n"
          ],
          "name": "stdout"
        }
      ]
    },
    {
      "cell_type": "markdown",
      "metadata": {
        "id": "Zb2aw-sYUOtS"
      },
      "source": [
        "# Item 3,4"
      ]
    },
    {
      "cell_type": "code",
      "metadata": {
        "id": "qbx0MXFzUOtT",
        "outputId": "56e0a6bd-2dc8-4d41-889e-c6c2166d8115"
      },
      "source": [
        "import math as mt\n",
        "import numpy as np\n",
        "import matplotlib.pyplot as plt\n",
        "%matplotlib inline\n",
        "\n",
        "beta = np.linspace(0,0.995,100)\n",
        "\n",
        "#gamma calculado a partir de Beta\n",
        "def gamma(beta):    \n",
        "    nova_lista = []\n",
        "    for (i, valor) in enumerate(beta):\n",
        "        novo_elemento = 1/(mt.sqrt(1- valor**2))\n",
        "        nova_lista.append(novo_elemento)\n",
        "    return nova_lista\n",
        "\n",
        "#print(gamma3(beta))\n",
        "\n",
        "#print(gamma(beta)*beta)\n",
        "\n",
        "\n",
        "x = beta\n",
        "\n",
        "\n",
        "fig, ax = plt.subplots(1,2,figsize=(9, 4.5), tight_layout=True )\n",
        "ax[0].set_xlabel('β')\n",
        "ax[0].set_ylabel('γ')\n",
        "ax[0].plot(x , gamma(beta), 'r-')\n",
        "\n",
        "ax[1].set_xlabel('β')\n",
        "ax[1].set_ylabel('γβ')\n",
        "ax[1].plot(x , beta*gamma(beta),'b-')\n",
        "\n",
        "#plot = plt.plot(x, gamma3(beta), 'r--', x, gamma3(beta)*beta, 'b-')  comparar os plots\n",
        "fig1, ax1 = plt.subplots(figsize=(9, 4.5), tight_layout=True )\n",
        "ax1.plot(x, gamma(beta), 'r--', x, gamma(beta)*beta, 'b-')\n",
        "ax1.legend(['γ', 'γβ'])\n",
        "ax1.set_xlabel('β')\n",
        "ax1.grid()\n",
        "ax1.fill_between(x,gamma(beta),gamma(beta)*beta, alpha= 0.2)"
      ],
      "execution_count": null,
      "outputs": [
        {
          "output_type": "execute_result",
          "data": {
            "text/plain": [
              "<matplotlib.collections.PolyCollection at 0x1c7ff5b6e50>"
            ]
          },
          "metadata": {
            "tags": []
          },
          "execution_count": 2
        },
        {
          "output_type": "display_data",
          "data": {
            "image/png": "[encoded data removed]",
            "text/plain": [
              "<Figure size 648x324 with 2 Axes>"
            ]
          },
          "metadata": {
            "tags": [],
            "needs_background": "light"
          }
        },
        {
          "output_type": "display_data",
          "data": {
            "image/png": "[encoded data removed]",
            "text/plain": [
              "<Figure size 648x324 with 1 Axes>"
            ]
          },
          "metadata": {
            "tags": [],
            "needs_background": "light"
          }
        }
      ]
    },
    {
      "cell_type": "code",
      "metadata": {
        "scrolled": false,
        "id": "oDIHli7-UOtX",
        "outputId": "3009348e-5363-4870-99ef-544dbb0f6323"
      },
      "source": [
        "gamaβ = gamma(beta)*beta\n",
        "mec = 0.5110\n",
        "I = 1\n",
        "def ln_argument(gamaβ):\n",
        "    lista2 = []\n",
        "    for (i, valor) in enumerate(gamaβ):\n",
        "        novo_elemento2 = (2*mec*(valor)**2)/I\n",
        "        lista2.append(novo_elemento2)\n",
        "    return lista2\n",
        "  \n",
        "#print(ln_argument(gamabeta))  \n",
        "\n",
        "\n",
        "\n",
        "fig, ax = plt.subplots(1,2,figsize=(9, 4.5), tight_layout=True )\n",
        "ax[0].set_xlabel('beta')\n",
        "ax[0].set_ylabel('gamma')\n",
        "ax[0].plot(gamabeta , ln_argument(gamabeta), 'r-')\n",
        "\n",
        "ax[1].semilogy(gamabeta , ln_argument(gamabeta), 'b-')"
      ],
      "execution_count": null,
      "outputs": [
        {
          "output_type": "error",
          "ename": "NameError",
          "evalue": "name 'gamabeta' is not defined",
          "traceback": [
            "\u001b[1;31m---------------------------------------------------------------------------\u001b[0m",
            "\u001b[1;31mNameError\u001b[0m                                 Traceback (most recent call last)",
            "\u001b[1;32m<ipython-input-4-32ade68d0767>\u001b[0m in \u001b[0;36m<module>\u001b[1;34m\u001b[0m\n\u001b[0;32m     16\u001b[0m \u001b[0max\u001b[0m\u001b[1;33m[\u001b[0m\u001b[1;36m0\u001b[0m\u001b[1;33m]\u001b[0m\u001b[1;33m.\u001b[0m\u001b[0mset_xlabel\u001b[0m\u001b[1;33m(\u001b[0m\u001b[1;34m'beta'\u001b[0m\u001b[1;33m)\u001b[0m\u001b[1;33m\u001b[0m\u001b[1;33m\u001b[0m\u001b[0m\n\u001b[0;32m     17\u001b[0m \u001b[0max\u001b[0m\u001b[1;33m[\u001b[0m\u001b[1;36m0\u001b[0m\u001b[1;33m]\u001b[0m\u001b[1;33m.\u001b[0m\u001b[0mset_ylabel\u001b[0m\u001b[1;33m(\u001b[0m\u001b[1;34m'gamma'\u001b[0m\u001b[1;33m)\u001b[0m\u001b[1;33m\u001b[0m\u001b[1;33m\u001b[0m\u001b[0m\n\u001b[1;32m---> 18\u001b[1;33m \u001b[0max\u001b[0m\u001b[1;33m[\u001b[0m\u001b[1;36m0\u001b[0m\u001b[1;33m]\u001b[0m\u001b[1;33m.\u001b[0m\u001b[0mplot\u001b[0m\u001b[1;33m(\u001b[0m\u001b[0mgamabeta\u001b[0m \u001b[1;33m,\u001b[0m \u001b[0mln_argument\u001b[0m\u001b[1;33m(\u001b[0m\u001b[0mgamabeta\u001b[0m\u001b[1;33m)\u001b[0m\u001b[1;33m,\u001b[0m \u001b[1;34m'r-'\u001b[0m\u001b[1;33m)\u001b[0m\u001b[1;33m\u001b[0m\u001b[1;33m\u001b[0m\u001b[0m\n\u001b[0m\u001b[0;32m     19\u001b[0m \u001b[1;33m\u001b[0m\u001b[0m\n\u001b[0;32m     20\u001b[0m \u001b[0max\u001b[0m\u001b[1;33m[\u001b[0m\u001b[1;36m1\u001b[0m\u001b[1;33m]\u001b[0m\u001b[1;33m.\u001b[0m\u001b[0msemilogy\u001b[0m\u001b[1;33m(\u001b[0m\u001b[0mgamabeta\u001b[0m \u001b[1;33m,\u001b[0m \u001b[0mln_argument\u001b[0m\u001b[1;33m(\u001b[0m\u001b[0mgamabeta\u001b[0m\u001b[1;33m)\u001b[0m\u001b[1;33m,\u001b[0m \u001b[1;34m'b-'\u001b[0m\u001b[1;33m)\u001b[0m\u001b[1;33m\u001b[0m\u001b[1;33m\u001b[0m\u001b[0m\n",
            "\u001b[1;31mNameError\u001b[0m: name 'gamabeta' is not defined"
          ]
        },
        {
          "output_type": "display_data",
          "data": {
            "image/png": "[encoded data removed]",
            "text/plain": [
              "<Figure size 648x324 with 2 Axes>"
            ]
          },
          "metadata": {
            "tags": [],
            "needs_background": "light"
          }
        }
      ]
    },
    {
      "cell_type": "markdown",
      "metadata": {
        "id": "9CNJKDbiUOtd"
      },
      "source": [
        "# Item 5,6,7"
      ]
    },
    {
      "cell_type": "code",
      "metadata": {
        "scrolled": true,
        "id": "Y8z8HMyGUOte",
        "outputId": "045209f7-0667-498a-c024-f85353d5cb8e"
      },
      "source": [
        "GB = np.linspace(0.1,100,1000)\n",
        "\n",
        "def ln_argument2(GB):\n",
        "    lista2 = []\n",
        "    for (i, valor) in enumerate(GB):\n",
        "        novo_elemento2 = (2*mec*(valor)**2)/I\n",
        "        lista2.append(novo_elemento2)\n",
        "    return lista2\n",
        "\n",
        "\n",
        "fig, ax = plt.subplots(1,2,figsize=(9, 4.5), tight_layout=True )\n",
        "ax[0].set_xlabel('beta')\n",
        "ax[0].set_ylabel('gamma')\n",
        "ax[0].plot(GB , ln_argument2(GB), 'r-')\n",
        "ax[1].semilogy(GB , ln_argument2(GB), 'b-')\n",
        "ax[0].grid()\n",
        "ax[1].grid()"
      ],
      "execution_count": null,
      "outputs": [
        {
          "output_type": "display_data",
          "data": {
            "image/png": "[encoded data removed]",
            "text/plain": [
              "<Figure size 648x324 with 2 Axes>"
            ]
          },
          "metadata": {
            "tags": [],
            "needs_background": "light"
          }
        }
      ]
    },
    {
      "cell_type": "code",
      "metadata": {
        "id": "l9Y2YRT8UOti",
        "outputId": "b29e62f9-2ed5-4c5e-b0de-ebc4a0d57a9c"
      },
      "source": [
        "import math as mt\n",
        "import numpy as np\n",
        "import matplotlib.pyplot as plt\n",
        "%matplotlib inline\n",
        "c = 3*10**8\n",
        "v = np.linspace(0.01*c,0.99995*c,1000)\n",
        "beta = v/c\n",
        "def gamma3(beta):    \n",
        "    nova_lista = []\n",
        "    for (i, valor) in enumerate(beta):\n",
        "        novo_elemento = 1/(mt.sqrt(1- valor**2))\n",
        "        nova_lista.append(novo_elemento)\n",
        "    return nova_lista\n",
        "\n",
        "#print(gamma3(beta))\n",
        "\n",
        "print(gamma3(beta)*beta)\n",
        "\n",
        "\n",
        "x = beta\n",
        "\n",
        "\n",
        "fig, ax = plt.subplots(1,3,figsize=(9, 4.5), tight_layout=True )\n",
        "ax[0].set_xlabel('beta')\n",
        "ax[0].set_ylabel('gamma')\n",
        "ax[0].plot(x , gamma3(beta), 'r-')\n",
        "\n",
        "ax[1].set_xlabel('beta')\n",
        "ax[1].set_ylabel('gamma*beta')\n",
        "ax[1].plot(x , beta*gamma3(beta),'b-')\n",
        "ax[2].plot(x, gamma3(beta), 'r--', x, gamma3(beta)*beta, 'b-')\n",
        "#plot = plt.plot(x, gamma3(beta), 'r--', x, gamma3(beta)*beta, 'b-')  comparar os plots\n"
      ],
      "execution_count": null,
      "outputs": [
        {
          "output_type": "stream",
          "text": [
            "[1.00005000e-02 1.09916049e-02 1.19827421e-02 1.29739146e-02\n",
            " 1.39651253e-02 1.49563772e-02 1.59476732e-02 1.69390162e-02\n",
            " 1.79304091e-02 1.89218549e-02 1.99133565e-02 2.09049167e-02\n",
            " 2.18965386e-02 2.28882251e-02 2.38799791e-02 2.48718035e-02\n",
            " 2.58637012e-02 2.68556753e-02 2.78477286e-02 2.88398640e-02\n",
            " 2.98320845e-02 3.08243931e-02 3.18167927e-02 3.28092862e-02\n",
            " 3.38018765e-02 3.47945666e-02 3.57873595e-02 3.67802581e-02\n",
            " 3.77732654e-02 3.87663842e-02 3.97596176e-02 4.07529684e-02\n",
            " 4.17464398e-02 4.27400345e-02 4.37337556e-02 4.47276060e-02\n",
            " 4.57215887e-02 4.67157067e-02 4.77099629e-02 4.87043603e-02\n",
            " 4.96989018e-02 5.06935905e-02 5.16884293e-02 5.26834212e-02\n",
            " 5.36785691e-02 5.46738761e-02 5.56693451e-02 5.66649791e-02\n",
            " 5.76607811e-02 5.86567541e-02 5.96529011e-02 6.06492251e-02\n",
            " 6.16457291e-02 6.26424160e-02 6.36392890e-02 6.46363509e-02\n",
            " 6.56336048e-02 6.66310538e-02 6.76287008e-02 6.86265488e-02\n",
            " 6.96246010e-02 7.06228602e-02 7.16213296e-02 7.26200121e-02\n",
            " 7.36189108e-02 7.46180287e-02 7.56173689e-02 7.66169344e-02\n",
            " 7.76167283e-02 7.86167536e-02 7.96170134e-02 8.06175107e-02\n",
            " 8.16182486e-02 8.26192301e-02 8.36204584e-02 8.46219364e-02\n",
            " 8.56236674e-02 8.66256542e-02 8.76279001e-02 8.86304082e-02\n",
            " 8.96331814e-02 9.06362230e-02 9.16395359e-02 9.26431234e-02\n",
            " 9.36469885e-02 9.46511343e-02 9.56555640e-02 9.66602807e-02\n",
            " 9.76652874e-02 9.86705874e-02 9.96761838e-02 1.00682080e-01\n",
            " 1.01688278e-01 1.02694782e-01 1.03701596e-01 1.04708721e-01\n",
            " 1.05716161e-01 1.06723920e-01 1.07732001e-01 1.08740406e-01\n",
            " 1.09749140e-01 1.10758204e-01 1.11767603e-01 1.12777339e-01\n",
            " 1.13787417e-01 1.14797838e-01 1.15808606e-01 1.16819724e-01\n",
            " 1.17831197e-01 1.18843025e-01 1.19855215e-01 1.20867767e-01\n",
            " 1.21880686e-01 1.22893974e-01 1.23907636e-01 1.24921674e-01\n",
            " 1.25936092e-01 1.26950892e-01 1.27966079e-01 1.28981655e-01\n",
            " 1.29997624e-01 1.31013988e-01 1.32030753e-01 1.33047919e-01\n",
            " 1.34065492e-01 1.35083474e-01 1.36101868e-01 1.37120679e-01\n",
            " 1.38139908e-01 1.39159561e-01 1.40179639e-01 1.41200147e-01\n",
            " 1.42221087e-01 1.43242464e-01 1.44264280e-01 1.45286538e-01\n",
            " 1.46309243e-01 1.47332398e-01 1.48356006e-01 1.49380070e-01\n",
            " 1.50404595e-01 1.51429582e-01 1.52455036e-01 1.53480961e-01\n",
            " 1.54507359e-01 1.55534235e-01 1.56561591e-01 1.57589431e-01\n",
            " 1.58617759e-01 1.59646577e-01 1.60675891e-01 1.61705702e-01\n",
            " 1.62736015e-01 1.63766834e-01 1.64798161e-01 1.65830000e-01\n",
            " 1.66862355e-01 1.67895229e-01 1.68928626e-01 1.69962549e-01\n",
            " 1.70997003e-01 1.72031990e-01 1.73067514e-01 1.74103580e-01\n",
            " 1.75140189e-01 1.76177347e-01 1.77215057e-01 1.78253321e-01\n",
            " 1.79292145e-01 1.80331532e-01 1.81371485e-01 1.82412008e-01\n",
            " 1.83453104e-01 1.84494778e-01 1.85537034e-01 1.86579874e-01\n",
            " 1.87623302e-01 1.88667323e-01 1.89711940e-01 1.90757157e-01\n",
            " 1.91802978e-01 1.92849405e-01 1.93896444e-01 1.94944098e-01\n",
            " 1.95992371e-01 1.97041266e-01 1.98090788e-01 1.99140940e-01\n",
            " 2.00191726e-01 2.01243150e-01 2.02295216e-01 2.03347927e-01\n",
            " 2.04401288e-01 2.05455303e-01 2.06509975e-01 2.07565308e-01\n",
            " 2.08621307e-01 2.09677975e-01 2.10735316e-01 2.11793335e-01\n",
            " 2.12852034e-01 2.13911419e-01 2.14971493e-01 2.16032259e-01\n",
            " 2.17093724e-01 2.18155889e-01 2.19218760e-01 2.20282340e-01\n",
            " 2.21346633e-01 2.22411644e-01 2.23477377e-01 2.24543835e-01\n",
            " 2.25611023e-01 2.26678945e-01 2.27747606e-01 2.28817009e-01\n",
            " 2.29887158e-01 2.30958058e-01 2.32029712e-01 2.33102126e-01\n",
            " 2.34175304e-01 2.35249249e-01 2.36323965e-01 2.37399458e-01\n",
            " 2.38475731e-01 2.39552789e-01 2.40630636e-01 2.41709276e-01\n",
            " 2.42788714e-01 2.43868954e-01 2.44950001e-01 2.46031858e-01\n",
            " 2.47114530e-01 2.48198022e-01 2.49282338e-01 2.50367483e-01\n",
            " 2.51453460e-01 2.52540275e-01 2.53627932e-01 2.54716435e-01\n",
            " 2.55805789e-01 2.56895998e-01 2.57987068e-01 2.59079001e-01\n",
            " 2.60171804e-01 2.61265481e-01 2.62360036e-01 2.63455474e-01\n",
            " 2.64551800e-01 2.65649017e-01 2.66747132e-01 2.67846149e-01\n",
            " 2.68946071e-01 2.70046905e-01 2.71148654e-01 2.72251324e-01\n",
            " 2.73354920e-01 2.74459445e-01 2.75564906e-01 2.76671306e-01\n",
            " 2.77778651e-01 2.78886945e-01 2.79996194e-01 2.81106401e-01\n",
            " 2.82217573e-01 2.83329714e-01 2.84442830e-01 2.85556924e-01\n",
            " 2.86672002e-01 2.87788069e-01 2.88905130e-01 2.90023190e-01\n",
            " 2.91142255e-01 2.92262329e-01 2.93383417e-01 2.94505524e-01\n",
            " 2.95628656e-01 2.96752818e-01 2.97878015e-01 2.99004252e-01\n",
            " 3.00131534e-01 3.01259867e-01 3.02389256e-01 3.03519706e-01\n",
            " 3.04651222e-01 3.05783811e-01 3.06917476e-01 3.08052224e-01\n",
            " 3.09188060e-01 3.10324989e-01 3.11463017e-01 3.12602149e-01\n",
            " 3.13742390e-01 3.14883747e-01 3.16026225e-01 3.17169829e-01\n",
            " 3.18314564e-01 3.19460437e-01 3.20607453e-01 3.21755618e-01\n",
            " 3.22904936e-01 3.24055415e-01 3.25207060e-01 3.26359875e-01\n",
            " 3.27513868e-01 3.28669044e-01 3.29825409e-01 3.30982968e-01\n",
            " 3.32141727e-01 3.33301693e-01 3.34462871e-01 3.35625267e-01\n",
            " 3.36788887e-01 3.37953737e-01 3.39119823e-01 3.40287151e-01\n",
            " 3.41455726e-01 3.42625557e-01 3.43796647e-01 3.44969004e-01\n",
            " 3.46142633e-01 3.47317541e-01 3.48493733e-01 3.49671217e-01\n",
            " 3.50849998e-01 3.52030083e-01 3.53211478e-01 3.54394190e-01\n",
            " 3.55578224e-01 3.56763587e-01 3.57950286e-01 3.59138326e-01\n",
            " 3.60327716e-01 3.61518460e-01 3.62710566e-01 3.63904040e-01\n",
            " 3.65098888e-01 3.66295118e-01 3.67492737e-01 3.68691749e-01\n",
            " 3.69892164e-01 3.71093986e-01 3.72297224e-01 3.73501884e-01\n",
            " 3.74707972e-01 3.75915496e-01 3.77124462e-01 3.78334878e-01\n",
            " 3.79546750e-01 3.80760086e-01 3.81974892e-01 3.83191175e-01\n",
            " 3.84408944e-01 3.85628204e-01 3.86848963e-01 3.88071229e-01\n",
            " 3.89295008e-01 3.90520307e-01 3.91747135e-01 3.92975498e-01\n",
            " 3.94205405e-01 3.95436861e-01 3.96669875e-01 3.97904454e-01\n",
            " 3.99140606e-01 4.00378339e-01 4.01617659e-01 4.02858575e-01\n",
            " 4.04101094e-01 4.05345224e-01 4.06590973e-01 4.07838348e-01\n",
            " 4.09087358e-01 4.10338010e-01 4.11590312e-01 4.12844272e-01\n",
            " 4.14099898e-01 4.15357199e-01 4.16616182e-01 4.17876855e-01\n",
            " 4.19139226e-01 4.20403304e-01 4.21669097e-01 4.22936614e-01\n",
            " 4.24205862e-01 4.25476849e-01 4.26749585e-01 4.28024078e-01\n",
            " 4.29300336e-01 4.30578368e-01 4.31858182e-01 4.33139787e-01\n",
            " 4.34423192e-01 4.35708405e-01 4.36995436e-01 4.38284292e-01\n",
            " 4.39574983e-01 4.40867518e-01 4.42161906e-01 4.43458155e-01\n",
            " 4.44756275e-01 4.46056275e-01 4.47358164e-01 4.48661950e-01\n",
            " 4.49967645e-01 4.51275256e-01 4.52584793e-01 4.53896265e-01\n",
            " 4.55209682e-01 4.56525054e-01 4.57842389e-01 4.59161698e-01\n",
            " 4.60482990e-01 4.61806275e-01 4.63131562e-01 4.64458862e-01\n",
            " 4.65788184e-01 4.67119538e-01 4.68452935e-01 4.69788383e-01\n",
            " 4.71125894e-01 4.72465477e-01 4.73807143e-01 4.75150901e-01\n",
            " 4.76496763e-01 4.77844738e-01 4.79194837e-01 4.80547070e-01\n",
            " 4.81901449e-01 4.83257983e-01 4.84616683e-01 4.85977560e-01\n",
            " 4.87340625e-01 4.88705888e-01 4.90073361e-01 4.91443055e-01\n",
            " 4.92814979e-01 4.94189147e-01 4.95565568e-01 4.96944254e-01\n",
            " 4.98325217e-01 4.99708467e-01 5.01094016e-01 5.02481876e-01\n",
            " 5.03872058e-01 5.05264573e-01 5.06659435e-01 5.08056653e-01\n",
            " 5.09456240e-01 5.10858209e-01 5.12262570e-01 5.13669336e-01\n",
            " 5.15078519e-01 5.16490132e-01 5.17904186e-01 5.19320694e-01\n",
            " 5.20739669e-01 5.22161122e-01 5.23585067e-01 5.25011516e-01\n",
            " 5.26440481e-01 5.27871976e-01 5.29306014e-01 5.30742607e-01\n",
            " 5.32181768e-01 5.33623511e-01 5.35067848e-01 5.36514794e-01\n",
            " 5.37964361e-01 5.39416563e-01 5.40871413e-01 5.42328925e-01\n",
            " 5.43789113e-01 5.45251990e-01 5.46717570e-01 5.48185868e-01\n",
            " 5.49656897e-01 5.51130672e-01 5.52607206e-01 5.54086514e-01\n",
            " 5.55568610e-01 5.57053510e-01 5.58541227e-01 5.60031776e-01\n",
            " 5.61525172e-01 5.63021430e-01 5.64520565e-01 5.66022591e-01\n",
            " 5.67527525e-01 5.69035381e-01 5.70546175e-01 5.72059921e-01\n",
            " 5.73576637e-01 5.75096337e-01 5.76619036e-01 5.78144752e-01\n",
            " 5.79673500e-01 5.81205297e-01 5.82740157e-01 5.84278098e-01\n",
            " 5.85819136e-01 5.87363287e-01 5.88910569e-01 5.90460998e-01\n",
            " 5.92014590e-01 5.93571363e-01 5.95131334e-01 5.96694520e-01\n",
            " 5.98260938e-01 5.99830606e-01 6.01403541e-01 6.02979762e-01\n",
            " 6.04559285e-01 6.06142129e-01 6.07728312e-01 6.09317851e-01\n",
            " 6.10910766e-01 6.12507075e-01 6.14106796e-01 6.15709948e-01\n",
            " 6.17316549e-01 6.18926620e-01 6.20540178e-01 6.22157243e-01\n",
            " 6.23777834e-01 6.25401971e-01 6.27029673e-01 6.28660961e-01\n",
            " 6.30295854e-01 6.31934372e-01 6.33576535e-01 6.35222364e-01\n",
            " 6.36871879e-01 6.38525101e-01 6.40182050e-01 6.41842748e-01\n",
            " 6.43507216e-01 6.45175474e-01 6.46847544e-01 6.48523449e-01\n",
            " 6.50203208e-01 6.51886845e-01 6.53574382e-01 6.55265840e-01\n",
            " 6.56961242e-01 6.58660610e-01 6.60363968e-01 6.62071337e-01\n",
            " 6.63782742e-01 6.65498204e-01 6.67217749e-01 6.68941398e-01\n",
            " 6.70669176e-01 6.72401108e-01 6.74137216e-01 6.75877525e-01\n",
            " 6.77622060e-01 6.79370845e-01 6.81123905e-01 6.82881266e-01\n",
            " 6.84642951e-01 6.86408988e-01 6.88179401e-01 6.89954216e-01\n",
            " 6.91733460e-01 6.93517158e-01 6.95305337e-01 6.97098023e-01\n",
            " 6.98895244e-01 7.00697027e-01 7.02503398e-01 7.04314385e-01\n",
            " 7.06130016e-01 7.07950319e-01 7.09775322e-01 7.11605053e-01\n",
            " 7.13439541e-01 7.15278815e-01 7.17122904e-01 7.18971837e-01\n",
            " 7.20825643e-01 7.22684353e-01 7.24547997e-01 7.26416604e-01\n",
            " 7.28290206e-01 7.30168832e-01 7.32052515e-01 7.33941284e-01\n",
            " 7.35835173e-01 7.37734212e-01 7.39638434e-01 7.41547871e-01\n",
            " 7.43462556e-01 7.45382521e-01 7.47307800e-01 7.49238425e-01\n",
            " 7.51174432e-01 7.53115853e-01 7.55062723e-01 7.57015077e-01\n",
            " 7.58972950e-01 7.60936376e-01 7.62905391e-01 7.64880031e-01\n",
            " 7.66860332e-01 7.68846331e-01 7.70838063e-01 7.72835567e-01\n",
            " 7.74838879e-01 7.76848038e-01 7.78863081e-01 7.80884046e-01\n",
            " 7.82910973e-01 7.84943899e-01 7.86982866e-01 7.89027912e-01\n",
            " 7.91079077e-01 7.93136403e-01 7.95199929e-01 7.97269697e-01\n",
            " 7.99345748e-01 8.01428125e-01 8.03516870e-01 8.05612025e-01\n",
            " 8.07713633e-01 8.09821739e-01 8.11936385e-01 8.14057616e-01\n",
            " 8.16185477e-01 8.18320013e-01 8.20461269e-01 8.22609291e-01\n",
            " 8.24764126e-01 8.26925821e-01 8.29094422e-01 8.31269978e-01\n",
            " 8.33452536e-01 8.35642145e-01 8.37838854e-01 8.40042713e-01\n",
            " 8.42253772e-01 8.44472080e-01 8.46697690e-01 8.48930653e-01\n",
            " 8.51171019e-01 8.53418843e-01 8.55674177e-01 8.57937074e-01\n",
            " 8.60207588e-01 8.62485774e-01 8.64771687e-01 8.67065382e-01\n",
            " 8.69366916e-01 8.71676346e-01 8.73993728e-01 8.76319121e-01\n",
            " 8.78652582e-01 8.80994171e-01 8.83343948e-01 8.85701973e-01\n",
            " 8.88068306e-01 8.90443009e-01 8.92826144e-01 8.95217774e-01\n",
            " 8.97617962e-01 9.00026772e-01 9.02444269e-01 9.04870518e-01\n",
            " 9.07305585e-01 9.09749536e-01 9.12202440e-01 9.14664364e-01\n",
            " 9.17135376e-01 9.19615548e-01 9.22104948e-01 9.24603648e-01\n",
            " 9.27111719e-01 9.29629235e-01 9.32156268e-01 9.34692892e-01\n",
            " 9.37239183e-01 9.39795216e-01 9.42361068e-01 9.44936816e-01\n",
            " 9.47522538e-01 9.50118314e-01 9.52724222e-01 9.55340345e-01\n",
            " 9.57966764e-01 9.60603561e-01 9.63250820e-01 9.65908625e-01\n",
            " 9.68577063e-01 9.71256218e-01 9.73946180e-01 9.76647035e-01\n",
            " 9.79358874e-01 9.82081786e-01 9.84815864e-01 9.87561199e-01\n",
            " 9.90317885e-01 9.93086017e-01 9.95865691e-01 9.98657003e-01\n",
            " 1.00146005e+00 1.00427493e+00 1.00710175e+00 1.00994061e+00\n",
            " 1.01279161e+00 1.01565485e+00 1.01853044e+00 1.02141848e+00\n",
            " 1.02431909e+00 1.02723236e+00 1.03015842e+00 1.03309738e+00\n",
            " 1.03604934e+00 1.03901442e+00 1.04199274e+00 1.04498441e+00\n",
            " 1.04798956e+00 1.05100829e+00 1.05404075e+00 1.05708703e+00\n",
            " 1.06014729e+00 1.06322163e+00 1.06631018e+00 1.06941308e+00\n",
            " 1.07253046e+00 1.07566245e+00 1.07880918e+00 1.08197079e+00\n",
            " 1.08514742e+00 1.08833921e+00 1.09154630e+00 1.09476883e+00\n",
            " 1.09800695e+00 1.10126081e+00 1.10453055e+00 1.10781633e+00\n",
            " 1.11111829e+00 1.11443660e+00 1.11777142e+00 1.12112289e+00\n",
            " 1.12449119e+00 1.12787647e+00 1.13127891e+00 1.13469867e+00\n",
            " 1.13813592e+00 1.14159084e+00 1.14506359e+00 1.14855437e+00\n",
            " 1.15206334e+00 1.15559069e+00 1.15913662e+00 1.16270129e+00\n",
            " 1.16628492e+00 1.16988768e+00 1.17350978e+00 1.17715141e+00\n",
            " 1.18081278e+00 1.18449410e+00 1.18819556e+00 1.19191738e+00\n",
            " 1.19565978e+00 1.19942297e+00 1.20320717e+00 1.20701261e+00\n",
            " 1.21083952e+00 1.21468812e+00 1.21855864e+00 1.22245133e+00\n",
            " 1.22636643e+00 1.23030418e+00 1.23426483e+00 1.23824863e+00\n",
            " 1.24225585e+00 1.24628673e+00 1.25034155e+00 1.25442057e+00\n",
            " 1.25852406e+00 1.26265231e+00 1.26680560e+00 1.27098420e+00\n",
            " 1.27518842e+00 1.27941854e+00 1.28367487e+00 1.28795772e+00\n",
            " 1.29226738e+00 1.29660419e+00 1.30096845e+00 1.30536050e+00\n",
            " 1.30978067e+00 1.31422929e+00 1.31870670e+00 1.32321326e+00\n",
            " 1.32774932e+00 1.33231524e+00 1.33691138e+00 1.34153812e+00\n",
            " 1.34619584e+00 1.35088492e+00 1.35560577e+00 1.36035877e+00\n",
            " 1.36514433e+00 1.36996287e+00 1.37481481e+00 1.37970059e+00\n",
            " 1.38462063e+00 1.38957538e+00 1.39456529e+00 1.39959084e+00\n",
            " 1.40465248e+00 1.40975070e+00 1.41488598e+00 1.42005882e+00\n",
            " 1.42526973e+00 1.43051923e+00 1.43580783e+00 1.44113608e+00\n",
            " 1.44650453e+00 1.45191372e+00 1.45736423e+00 1.46285665e+00\n",
            " 1.46839155e+00 1.47396954e+00 1.47959123e+00 1.48525726e+00\n",
            " 1.49096827e+00 1.49672490e+00 1.50252782e+00 1.50837771e+00\n",
            " 1.51427528e+00 1.52022121e+00 1.52621625e+00 1.53226112e+00\n",
            " 1.53835659e+00 1.54450342e+00 1.55070240e+00 1.55695433e+00\n",
            " 1.56326004e+00 1.56962037e+00 1.57603618e+00 1.58250834e+00\n",
            " 1.58903775e+00 1.59562533e+00 1.60227202e+00 1.60897878e+00\n",
            " 1.61574658e+00 1.62257644e+00 1.62946938e+00 1.63642646e+00\n",
            " 1.64344875e+00 1.65053735e+00 1.65769340e+00 1.66491804e+00\n",
            " 1.67221247e+00 1.67957790e+00 1.68701557e+00 1.69452675e+00\n",
            " 1.70211275e+00 1.70977492e+00 1.71751461e+00 1.72533325e+00\n",
            " 1.73323227e+00 1.74121315e+00 1.74927742e+00 1.75742664e+00\n",
            " 1.76566240e+00 1.77398635e+00 1.78240018e+00 1.79090563e+00\n",
            " 1.79950447e+00 1.80819853e+00 1.81698971e+00 1.82587992e+00\n",
            " 1.83487117e+00 1.84396549e+00 1.85316499e+00 1.86247185e+00\n",
            " 1.87188827e+00 1.88141656e+00 1.89105909e+00 1.90081828e+00\n",
            " 1.91069664e+00 1.92069675e+00 1.93082128e+00 1.94107296e+00\n",
            " 1.95145464e+00 1.96196923e+00 1.97261975e+00 1.98340930e+00\n",
            " 1.99434109e+00 2.00541845e+00 2.01664479e+00 2.02802366e+00\n",
            " 2.03955873e+00 2.05125376e+00 2.06311269e+00 2.07513955e+00\n",
            " 2.08733854e+00 2.09971402e+00 2.11227046e+00 2.12501253e+00\n",
            " 2.13794507e+00 2.15107308e+00 2.16440176e+00 2.17793650e+00\n",
            " 2.19168289e+00 2.20564677e+00 2.21983416e+00 2.23425134e+00\n",
            " 2.24890486e+00 2.26380149e+00 2.27894833e+00 2.29435272e+00\n",
            " 2.31002236e+00 2.32596522e+00 2.34218967e+00 2.35870439e+00\n",
            " 2.37551849e+00 2.39264145e+00 2.41008319e+00 2.42785410e+00\n",
            " 2.44596501e+00 2.46442730e+00 2.48325288e+00 2.50245422e+00\n",
            " 2.52204442e+00 2.54203722e+00 2.56244704e+00 2.58328907e+00\n",
            " 2.60457926e+00 2.62633440e+00 2.64857219e+00 2.67131129e+00\n",
            " 2.69457137e+00 2.71837324e+00 2.74273885e+00 2.76769145e+00\n",
            " 2.79325566e+00 2.81945755e+00 2.84632481e+00 2.87388681e+00\n",
            " 2.90217482e+00 2.93122208e+00 2.96106403e+00 2.99173847e+00\n",
            " 3.02328577e+00 3.05574911e+00 3.08917473e+00 3.12361220e+00\n",
            " 3.15911477e+00 3.19573970e+00 3.23354865e+00 3.27260816e+00\n",
            " 3.31299013e+00 3.35477241e+00 3.39803943e+00 3.44288293e+00\n",
            " 3.48940282e+00 3.53770812e+00 3.58791805e+00 3.64016334e+00\n",
            " 3.69458763e+00 3.75134922e+00 3.81062300e+00 3.87260281e+00\n",
            " 3.93750413e+00 4.00556729e+00 4.07706131e+00 4.15228842e+00\n",
            " 4.23158959e+00 4.31535108e+00 4.40401258e+00 4.49807702e+00\n",
            " 4.59812281e+00 4.70481911e+00 4.81894493e+00 4.94141353e+00\n",
            " 5.07330367e+00 5.21590038e+00 5.37074855e+00 5.53972476e+00\n",
            " 5.72513478e+00 5.92984878e+00 6.15749239e+00 6.41272331e+00\n",
            " 6.70164277e+00 7.03242712e+00 7.41633367e+00 7.86937494e+00\n",
            " 8.41525889e+00 9.09090788e+00 9.95774179e+00 1.11275271e+01\n",
            " 1.28319400e+01 1.56629356e+01 2.18994241e+01 9.99962500e+01]\n"
          ],
          "name": "stdout"
        },
        {
          "output_type": "execute_result",
          "data": {
            "text/plain": [
              "[<matplotlib.lines.Line2D at 0x28adbd4fcd0>,\n",
              " <matplotlib.lines.Line2D at 0x28adbd4fd00>]"
            ]
          },
          "metadata": {
            "tags": []
          },
          "execution_count": 28
        },
        {
          "output_type": "display_data",
          "data": {
            "image/png": "[encoded data removed]",
            "text/plain": [
              "<Figure size 648x324 with 3 Axes>"
            ]
          },
          "metadata": {
            "tags": [],
            "needs_background": "light"
          }
        }
      ]
    },
    {
      "cell_type": "code",
      "metadata": {
        "id": "mUeh-FwBUOtn",
        "outputId": "22bc9c3d-49b9-4289-ae23-b0bd57c22e2b"
      },
      "source": [
        "gamabeta = gamma3(beta)*beta\n",
        "mec = 0.5110\n",
        "\n",
        "def ln_argument(gamabeta):\n",
        "    lista2 = []\n",
        "    for (i, valor) in enumerate(gamabeta):\n",
        "        novo_elemento2 = (2*mec*(valor)**2)/I\n",
        "        lista2.append(novo_elemento2)\n",
        "    return lista2\n",
        "  \n",
        "print(ln_argument(gamabeta))  \n",
        "\n",
        "\n",
        "\n",
        "fig, ax = plt.subplots(1,2,figsize=(9, 4.5), tight_layout=True )\n",
        "ax[0].set_xlabel('beta')\n",
        "ax[0].set_ylabel('gamma')\n",
        "ax[0].plot(gamabeta , ln_argument(gamabeta), 'r-')\n",
        "ax[1].semilogy(gamabeta , ln_argument(gamabeta), 'b-')"
      ],
      "execution_count": null,
      "outputs": [
        {
          "output_type": "error",
          "ename": "NameError",
          "evalue": "name 'gamma3' is not defined",
          "traceback": [
            "\u001b[1;31m---------------------------------------------------------------------------\u001b[0m",
            "\u001b[1;31mNameError\u001b[0m                                 Traceback (most recent call last)",
            "\u001b[1;32m<ipython-input-13-27a076d5b888>\u001b[0m in \u001b[0;36m<module>\u001b[1;34m\u001b[0m\n\u001b[1;32m----> 1\u001b[1;33m \u001b[0mgamabeta\u001b[0m \u001b[1;33m=\u001b[0m \u001b[0mgamma3\u001b[0m\u001b[1;33m(\u001b[0m\u001b[0mbeta\u001b[0m\u001b[1;33m)\u001b[0m\u001b[1;33m*\u001b[0m\u001b[0mbeta\u001b[0m\u001b[1;33m\u001b[0m\u001b[1;33m\u001b[0m\u001b[0m\n\u001b[0m\u001b[0;32m      2\u001b[0m \u001b[0mmec\u001b[0m \u001b[1;33m=\u001b[0m \u001b[1;36m0.5110\u001b[0m\u001b[1;33m\u001b[0m\u001b[1;33m\u001b[0m\u001b[0m\n\u001b[0;32m      3\u001b[0m \u001b[1;33m\u001b[0m\u001b[0m\n\u001b[0;32m      4\u001b[0m \u001b[1;32mdef\u001b[0m \u001b[0mln_argument\u001b[0m\u001b[1;33m(\u001b[0m\u001b[0mgamabeta\u001b[0m\u001b[1;33m)\u001b[0m\u001b[1;33m:\u001b[0m\u001b[1;33m\u001b[0m\u001b[1;33m\u001b[0m\u001b[0m\n\u001b[0;32m      5\u001b[0m     \u001b[0mlista2\u001b[0m \u001b[1;33m=\u001b[0m \u001b[1;33m[\u001b[0m\u001b[1;33m]\u001b[0m\u001b[1;33m\u001b[0m\u001b[1;33m\u001b[0m\u001b[0m\n",
            "\u001b[1;31mNameError\u001b[0m: name 'gamma3' is not defined"
          ]
        }
      ]
    },
    {
      "cell_type": "markdown",
      "metadata": {
        "id": "63vAa0T8UOtt"
      },
      "source": [
        "# Item 8"
      ]
    },
    {
      "cell_type": "code",
      "metadata": {
        "id": "q4-ZcV1vUOtu",
        "outputId": "9fef69c5-83d3-47af-d00b-cbdbe1c1dd4a"
      },
      "source": [
        "\n",
        "import math as mt\n",
        "import numpy as np\n",
        "import matplotlib.pyplot as plt\n",
        "%matplotlib inline\n",
        "c = 3*10**8\n",
        "v = np.linspace(0.0001*c,0.99995*c,10000)\n",
        "beta = v/c # define o vetor beta\n",
        "I=3.55\n",
        "#define vetor gamma\n",
        "def gamma(beta):    \n",
        "    nova_lista = []\n",
        "    for (i, valor) in enumerate(beta):\n",
        "        novo_elemento = 1/(mt.sqrt(1- valor**2))\n",
        "        nova_lista.append(novo_elemento)\n",
        "    return nova_lista\n",
        "\n",
        "#define vetor gamma*beta\n",
        "\n",
        "GB = gamma(beta)*beta\n",
        "\n",
        "#função que cria o argumento do Ln baseado em gamma*beta\n",
        "def ln_argument3(GB):\n",
        "    lista2 = []\n",
        "    for (i, valor) in enumerate(GB):\n",
        "        novo_elemento2 = (2*mec*(valor)**2)/I\n",
        "        lista2.append(novo_elemento2)\n",
        "    return lista2\n",
        "\n",
        "#vetor beta**2\n",
        "\n",
        "Beta = beta*beta\n",
        "#print(Beta)\n",
        "\n",
        "\n",
        "fig, ax = plt.subplots(1,1,figsize=(9, 4.5), tight_layout=True )\n",
        "ax.set_xlabel('beta')\n",
        "ax.set_ylabel('gamma')\n",
        "ax.plot(GB , np.log(ln_argument3(GB))-Beta, 'r-')\n"
      ],
      "execution_count": null,
      "outputs": [
        {
          "output_type": "execute_result",
          "data": {
            "text/plain": [
              "[<matplotlib.lines.Line2D at 0x1c7ff570ac0>]"
            ]
          },
          "metadata": {
            "tags": []
          },
          "execution_count": 17
        },
        {
          "output_type": "display_data",
          "data": {
            "image/png": "[encoded data removed]",
            "text/plain": [
              "<Figure size 648x324 with 1 Axes>"
            ]
          },
          "metadata": {
            "tags": [],
            "needs_background": "light"
          }
        }
      ]
    },
    {
      "cell_type": "code",
      "metadata": {
        "id": "YRFYvWZjUOty",
        "outputId": "1359e201-22e8-4132-9f52-43d8a1883de0"
      },
      "source": [
        "\n",
        "import math as mt\n",
        "import numpy as np\n",
        "import matplotlib.pyplot as plt\n",
        "%matplotlib inline\n",
        "I =3.55\n",
        "\n",
        "#define vetor gamma*beta\n",
        "\n",
        "GB = np.linspace(0.1,100,100)\n",
        "\n",
        "#função que cria o argumento do Ln baseado em gamma*beta\n",
        "def ln_argument3(GB):\n",
        "    lista2 = []\n",
        "    for (i, valor) in enumerate(GB):\n",
        "        novo_elemento2 = (2*mec*(valor)**2)/I\n",
        "        lista2.append(novo_elemento2)\n",
        "    return lista2\n",
        "\n",
        "#vetor beta**2\n",
        "\n",
        "Beta = 1- 1/(GB**2 + 1)\n",
        "#print(Beta)\n",
        "\n",
        "\n",
        "fig, ax = plt.subplots(1,1,figsize=(9, 4.5), tight_layout=True )\n",
        "ax.set_xlabel('beta')\n",
        "ax.set_ylabel('gamma')\n",
        "ax.plot(GB , np.log(ln_argument3(GB))-Beta, 'r-')\n",
        "\n",
        "\n"
      ],
      "execution_count": null,
      "outputs": [
        {
          "output_type": "execute_result",
          "data": {
            "text/plain": [
              "[<matplotlib.lines.Line2D at 0x1c7804515e0>]"
            ]
          },
          "metadata": {
            "tags": []
          },
          "execution_count": 16
        },
        {
          "output_type": "display_data",
          "data": {
            "image/png": "[encoded data removed]",
            "text/plain": [
              "<Figure size 648x324 with 1 Axes>"
            ]
          },
          "metadata": {
            "tags": [],
            "needs_background": "light"
          }
        }
      ]
    },
    {
      "cell_type": "code",
      "metadata": {
        "id": "WiU5d-4dUOt3",
        "outputId": "646626a9-afd1-470a-93f3-143e2e7c70d2"
      },
      "source": [
        "import math as mt\n",
        "import numpy as np\n",
        "import matplotlib.pyplot as plt\n",
        "%matplotlib inline\n",
        "c = 3*10**8\n",
        "v = np.linspace(0.0001*c,0.99995*c,10000)\n",
        "beta = v/c # define o vetor beta\n",
        "I = 16\n",
        "#define vetor gamma\n",
        "def gamma(beta):    \n",
        "    nova_lista = []\n",
        "    for (i, valor) in enumerate(beta):\n",
        "        novo_elemento = 1/(mt.sqrt(1- valor**2))\n",
        "        nova_lista.append(novo_elemento)\n",
        "    return nova_lista\n",
        "\n",
        "#define vetor gamma*beta\n",
        "\n",
        "GB = gamma(beta)*beta\n",
        "\n",
        "#função que cria o argumento do Ln baseado em gamma*beta\n",
        "def ln_argument3(GB):\n",
        "    lista2 = []\n",
        "    for (i, valor) in enumerate(GB):\n",
        "        novo_elemento2 = (2*mec*(valor)**2)/I\n",
        "        lista2.append(novo_elemento2)\n",
        "    return lista2\n",
        "\n",
        "#vetor beta**2\n",
        "\n",
        "Beta = beta*beta\n",
        "#print(Beta)\n",
        "\n",
        "\n",
        "\n",
        "\n",
        "#define vetor gamma*beta\n",
        "\n",
        "GB2 = np.linspace(0.1,100,100)\n",
        "\n",
        "#função que cria o argumento do Ln baseado em gamma*beta\n",
        "def ln_argument3(GB2):\n",
        "    lista3 = []\n",
        "    for (i, valor) in enumerate(GB2):\n",
        "        novo_elemento3 = (2*mec*(valor)**2)/I\n",
        "        lista3.append(novo_elemento3)\n",
        "    return lista3\n",
        "\n",
        "#vetor beta**2\n",
        "\n",
        "Beta2 = 1- 1/(GB2**2 + 1)\n",
        "#print(Beta)\n",
        "\n",
        "\n",
        "\n",
        "\n",
        "\n",
        "fig, ax = plt.subplots(1,1, figsize = (9,4.5), tight_layout = True)\n",
        "ax.plot(GB , np.log(ln_argument3(GB))-Beta, 'r-',GB2 , np.log(ln_argument3(GB2))-Beta2, 'b-')"
      ],
      "execution_count": null,
      "outputs": [
        {
          "output_type": "execute_result",
          "data": {
            "text/plain": [
              "[<matplotlib.lines.Line2D at 0x1c780404970>,\n",
              " <matplotlib.lines.Line2D at 0x1c7804042b0>]"
            ]
          },
          "metadata": {
            "tags": []
          },
          "execution_count": 14
        },
        {
          "output_type": "display_data",
          "data": {
            "image/png": "[encoded data removed]",
            "text/plain": [
              "<Figure size 648x324 with 1 Axes>"
            ]
          },
          "metadata": {
            "tags": [],
            "needs_background": "light"
          }
        }
      ]
    },
    {
      "cell_type": "code",
      "metadata": {
        "id": "PC7wOYPmUOt7",
        "outputId": "34aba7e1-b552-431e-b261-be95ed9fe630"
      },
      "source": [
        "import math as mt\n",
        "import numpy as np\n",
        "import matplotlib.pyplot as plt\n",
        "%matplotlib inline\n",
        "c = 3*10**8\n",
        "v = np.linspace(0.01*c,0.9999995*c,10000000)\n",
        "beta = v/c # define o vetor beta\n",
        "I = 16\n",
        "K = 0.307\n",
        "z = -1\n",
        "Z = 29\n",
        "A = 63.546\n",
        "ZA = Z/A\n",
        "rho = 8.96\n",
        "mec = 0.5110\n",
        "#define vetor gamma\n",
        "def gamma(beta):    \n",
        "    nova_lista = []\n",
        "    for (i, valor) in enumerate(beta):\n",
        "        novo_elemento = 1/(mt.sqrt(1- valor**2))\n",
        "        nova_lista.append(novo_elemento)\n",
        "    return nova_lista\n",
        "\n",
        "#define vetor gamma*beta\n",
        "\n",
        "GB = gamma(beta)*beta\n",
        "\n",
        "#função que cria o argumento do Ln baseado em gamma*beta\n",
        "def ln_argument3(GB):\n",
        "    lista2 = []\n",
        "    for (i, valor) in enumerate(GB):\n",
        "        novo_elemento2 = (2*mec*(valor)**2)/I\n",
        "        lista2.append(novo_elemento2)\n",
        "    return lista2\n",
        "\n",
        "#vetor beta**2\n",
        "\n",
        "Beta = beta*beta\n",
        "#print(Beta)\n",
        "\n",
        "Energy=K*(z**2)*rho*(ZA)*(1/Beta)*(np.log(ln_argument3(GB))-Beta)\n",
        "\n",
        "fig, ax = plt.subplots(1,1,figsize=(9, 4.5), tight_layout=True )\n",
        "ax.set_xlabel('beta')\n",
        "ax.set_ylabel('gamma')\n",
        "ax.plot(GB , Energy, 'r-')\n"
      ],
      "execution_count": null,
      "outputs": [
        {
          "output_type": "execute_result",
          "data": {
            "text/plain": [
              "[<matplotlib.lines.Line2D at 0x1c782610850>]"
            ]
          },
          "metadata": {
            "tags": []
          },
          "execution_count": 40
        },
        {
          "output_type": "display_data",
          "data": {
            "image/png": "[encoded data removed]",
            "text/plain": [
              "<Figure size 648x324 with 1 Axes>"
            ]
          },
          "metadata": {
            "tags": [],
            "needs_background": "light"
          }
        }
      ]
    },
    {
      "cell_type": "code",
      "metadata": {
        "id": "X8OGtW7RUOt_",
        "outputId": "03234608-df93-4a78-ac34-f2dbce9067e4"
      },
      "source": [
        "import math as mt\n",
        "import numpy as np\n",
        "import matplotlib.pyplot as plt\n",
        "%matplotlib inline\n",
        "c = 3*10**8\n",
        "v = np.linspace(0.0001*c,0.9995*c,10000)\n",
        "beta = v/c # define o vetor beta\n",
        "I = 16\n",
        "K = 0.307\n",
        "z = -1\n",
        "Z = 29\n",
        "A = 63.546\n",
        "ZA = Z/A\n",
        "rho = 8.96\n",
        "\n",
        "#define vetor gamma*beta\n",
        "\n",
        "GB2 = np.linspace(0.1,100,100)\n",
        "\n",
        "#função que cria o argumento do Ln baseado em gamma*beta\n",
        "def ln_argument3(GB2):\n",
        "    lista3 = []\n",
        "    for (i, valor) in enumerate(GB2):\n",
        "        novo_elemento3 = (2*mec*(valor)**2)/I\n",
        "        lista3.append(novo_elemento3)\n",
        "    return lista3\n",
        "\n",
        "#vetor beta**2\n",
        "\n",
        "Beta2 = 1- 1/(GB2**2 + 1)\n",
        "#print(Beta)\n",
        "\n",
        "Energy2= K*(z**2)*rho*(ZA)*(1/Beta2)*(np.log(ln_argument3(GB2))-Beta2)\n",
        "\n",
        "fig, ax = plt.subplots(1,1,figsize=(9, 4.5), tight_layout=True )\n",
        "ax.set_xlabel('beta')\n",
        "ax.set_ylabel('gamma')\n",
        "ax.plot(GB2 , Energy2, 'r-')"
      ],
      "execution_count": null,
      "outputs": [
        {
          "output_type": "execute_result",
          "data": {
            "text/plain": [
              "[<matplotlib.lines.Line2D at 0x1c78289a0a0>]"
            ]
          },
          "metadata": {
            "tags": []
          },
          "execution_count": 34
        },
        {
          "output_type": "display_data",
          "data": {
            "image/png": "[encoded data removed]",
            "text/plain": [
              "<Figure size 648x324 with 1 Axes>"
            ]
          },
          "metadata": {
            "tags": [],
            "needs_background": "light"
          }
        }
      ]
    },
    {
      "cell_type": "code",
      "metadata": {
        "id": "hE50dFV1UOuD"
      },
      "source": [
        ""
      ],
      "execution_count": null,
      "outputs": []
    }
  ]
}