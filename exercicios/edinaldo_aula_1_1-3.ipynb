{
  "nbformat": 4,
  "nbformat_minor": 0,
  "metadata": {
    "colab": {
      "name": "Cópia de edinaldo_aula_1_1-3.ipynb",
      "provenance": [],
      "collapsed_sections": [],
      "authorship_tag": "ABX9TyNwOjGd5M8+10LVwA3uPsWL",
      "include_colab_link": true
    },
    "kernelspec": {
      "name": "python3",
      "display_name": "Python 3"
    }
  },
  "cells": [
    {
      "cell_type": "markdown",
      "metadata": {
        "id": "view-in-github",
        "colab_type": "text"
      },
      "source": [
        "<a href=\"https://colab.research.google.com/github/Edinaldobjr/aulas_de_python/blob/master/exercicios/edinaldo_aula_1_1-3.ipynb\" target=\"_parent\"><img src=\"https://colab.research.google.com/assets/colab-badge.svg\" alt=\"Open In Colab\"/></a>"
      ]
    },
    {
      "cell_type": "markdown",
      "metadata": {
        "id": "ZvAoT45quDNV",
        "colab_type": "text"
      },
      "source": [
        "1. Escreva na tela do modo prompt: \"mundo, mundo, vasto mundo\""
      ]
    },
    {
      "cell_type": "code",
      "metadata": {
        "id": "yU3FPawNp_8j",
        "colab_type": "code",
        "colab": {
          "base_uri": "https://localhost:8080/",
          "height": 34
        },
        "outputId": "5f591f8f-9f39-4980-ade5-374e672b8d1d"
      },
      "source": [
        "print('mundo, mundo, vasto mundo')"
      ],
      "execution_count": null,
      "outputs": [
        {
          "output_type": "stream",
          "text": [
            "mundo, mundo, vasto mundo\n"
          ],
          "name": "stdout"
        }
      ]
    },
    {
      "cell_type": "markdown",
      "metadata": {
        "id": "B541374buLSV",
        "colab_type": "text"
      },
      "source": [
        "2. Imprima na tela a documentação da função print."
      ]
    },
    {
      "cell_type": "code",
      "metadata": {
        "id": "1mueqQGwuN8V",
        "colab_type": "code",
        "colab": {
          "base_uri": "https://localhost:8080/",
          "height": 221
        },
        "outputId": "901b67fe-deac-4d5c-bcd1-917fc5a789f4"
      },
      "source": [
        "help('print')"
      ],
      "execution_count": null,
      "outputs": [
        {
          "output_type": "stream",
          "text": [
            "Help on built-in function print in module builtins:\n",
            "\n",
            "print(...)\n",
            "    print(value, ..., sep=' ', end='\\n', file=sys.stdout, flush=False)\n",
            "    \n",
            "    Prints the values to a stream, or to sys.stdout by default.\n",
            "    Optional keyword arguments:\n",
            "    file:  a file-like object (stream); defaults to the current sys.stdout.\n",
            "    sep:   string inserted between values, default a space.\n",
            "    end:   string appended after the last value, default a newline.\n",
            "    flush: whether to forcibly flush the stream.\n",
            "\n"
          ],
          "name": "stdout"
        }
      ]
    },
    {
      "cell_type": "markdown",
      "metadata": {
        "id": "RwV4N8TKq32v",
        "colab_type": "text"
      },
      "source": [
        "3. Inicie o interpretador Python e use-o como uma calculadora. A sintaxe do Python para operações matemáticas é quase igual à notação matemática padrão:\n",
        "\n",
        "  adição: +\n",
        "\n",
        "  subtração: -\n",
        "\n",
        "  divisão: /\n",
        "\n",
        "  multiplicação: *\n",
        "\n",
        "  Se você fizer uma corrida de 10 quilômetros em 43 minutos e 30 segundos, qual será seu tempo médio por milha? Qual é a sua velocidade média em milhas por hora? (Dica: há 1,61 quilômetros em uma milha)."
      ]
    },
    {
      "cell_type": "code",
      "metadata": {
        "id": "84tb4Ho2q7EU",
        "colab_type": "code",
        "colab": {
          "base_uri": "https://localhost:8080/",
          "height": 68
        },
        "outputId": "3f3610d9-153b-4234-97f1-08dec90f6085"
      },
      "source": [
        "print('Distância percorrida 10 km', end=' ')\n",
        "print('no intervalo de tempo de 43 min e 30 seg.')\n",
        "dist_km = 10      # Distancia em Quilômetros\n",
        "dist_mi = dist_km / 1.61    # Conversão de Quilômetros para Milhas\n",
        "\n",
        "print('\\nA distância é de {:.2f} milhas'.format(dist_mi), end=' ')\n",
        "\n",
        "tempo_min = 43\n",
        "tempo_seg = 30\n",
        "tempo_total_hora = (tempo_min / 60) + (tempo_seg / 3600)\n",
        "\n",
        "velocidade_milhas = dist_mi / tempo_total_hora\n",
        "tempo_milha = 1 / velocidade_milhas\n",
        "\n",
        "print('com velocidade média é de {:.2f} mph e o tempo médio por milha é de {:.2f} minutos por milha.'.format(velocidade_milhas, tempo_milha * 60))"
      ],
      "execution_count": null,
      "outputs": [
        {
          "output_type": "stream",
          "text": [
            "Distância percorrida 10 km no intervalo de tempo de 43 min e 30 seg.\n",
            "\n",
            "A distância é de 6.21 milhas com velocidade média é de 8.57 milhas por hora e o tempo médio por milha é de 7.00 minutos por milha.\n"
          ],
          "name": "stdout"
        }
      ]
    }
  ]
}