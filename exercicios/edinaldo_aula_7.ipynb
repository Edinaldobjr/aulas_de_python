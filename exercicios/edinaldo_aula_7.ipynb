{
  "nbformat": 4,
  "nbformat_minor": 0,
  "metadata": {
    "kernelspec": {
      "display_name": "Python 3",
      "language": "python",
      "name": "python3"
    },
    "language_info": {
      "codemirror_mode": {
        "name": "ipython",
        "version": 3
      },
      "file_extension": ".py",
      "mimetype": "text/x-python",
      "name": "python",
      "nbconvert_exporter": "python",
      "pygments_lexer": "ipython3",
      "version": "3.6.4"
    },
    "colab": {
      "name": "edinaldo_aula_7.ipynb",
      "provenance": [],
      "collapsed_sections": [],
      "include_colab_link": true
    }
  },
  "cells": [
    {
      "cell_type": "markdown",
      "metadata": {
        "id": "view-in-github",
        "colab_type": "text"
      },
      "source": [
        "<a href=\"https://colab.research.google.com/github/Edinaldobjr/aulas_de_python/blob/master/exercicios/edinaldo_aula_7.ipynb\" target=\"_parent\"><img src=\"https://colab.research.google.com/assets/colab-badge.svg\" alt=\"Open In Colab\"/></a>"
      ]
    },
    {
      "cell_type": "markdown",
      "metadata": {
        "id": "_L86htJ301CQ"
      },
      "source": [
        "# Exercícios\n",
        "\n",
        "1) A **conjectura de Collatz**, diz que \"Todos os inteiros positivos irão eventualmente convergir para 1 usando as regras do Collatz\". Faça um programa que verifique a conjectura de Collatz para alguns valores. As regras de Collatz são: Dado um número ***n***: \n",
        "   * se ***n*** for par, divida-o por ***2***;\n",
        "   * Se ***n*** for ímpar, atualize-o para 3*n + 1"
      ]
    },
    {
      "cell_type": "code",
      "metadata": {
        "id": "BjUcsks_dO2h",
        "outputId": "4ba094b5-b81b-49dd-b7c0-a3d5d654b36b",
        "colab": {
          "base_uri": "https://localhost:8080/",
          "height": 578
        }
      },
      "source": [
        "def collatz(x):\n",
        "    while x > 1:\n",
        "        if x % 2 == 0:\n",
        "            print(x)\n",
        "            x /= 2\n",
        "        else:\n",
        "            print(x)\n",
        "            x = 3 * x + 1\n",
        "    return x\n",
        "\n",
        "\n",
        "n = 59\n",
        "\n",
        "collatz(n)"
      ],
      "execution_count": null,
      "outputs": [
        {
          "output_type": "stream",
          "text": [
            "59\n",
            "178\n",
            "89.0\n",
            "268.0\n",
            "134.0\n",
            "67.0\n",
            "202.0\n",
            "101.0\n",
            "304.0\n",
            "152.0\n",
            "76.0\n",
            "38.0\n",
            "19.0\n",
            "58.0\n",
            "29.0\n",
            "88.0\n",
            "44.0\n",
            "22.0\n",
            "11.0\n",
            "34.0\n",
            "17.0\n",
            "52.0\n",
            "26.0\n",
            "13.0\n",
            "40.0\n",
            "20.0\n",
            "10.0\n",
            "5.0\n",
            "16.0\n",
            "8.0\n",
            "4.0\n",
            "2.0\n"
          ],
          "name": "stdout"
        },
        {
          "output_type": "execute_result",
          "data": {
            "text/plain": [
              "1.0"
            ]
          },
          "metadata": {
            "tags": []
          },
          "execution_count": 8
        }
      ]
    },
    {
      "cell_type": "markdown",
      "metadata": {
        "id": "Piwd2Ab8dOlZ"
      },
      "source": [
        "2) Modifique a função counter para contar o número de vezes que os dígitos 0 e 5 aparecem em um dado número n. Por exemplo, n = 10568, tem 2 dígitos 0 ou 5. "
      ]
    },
    {
      "cell_type": "code",
      "metadata": {
        "id": "qh6K1jggdOUI",
        "outputId": "9a4e701f-461b-482f-89ba-fb50f4e95651",
        "colab": {
          "base_uri": "https://localhost:8080/",
          "height": 68
        }
      },
      "source": [
        "# n = 10569005234\n",
        "n = int(input('Digite um número natural: '))\n",
        "\n",
        "q = len(str(n))\n",
        "lista = []\n",
        "\n",
        "for _ in range(q):\n",
        "    x = n % 10\n",
        "    lista.append(x)\n",
        "    n = n // 10\n",
        "\n",
        "print(f'A quantidade de numeros 0 é de: {lista.count(0)}')\n",
        "print(f'A quantidade de numeros 5 é de: {lista.count(5)}')\n"
      ],
      "execution_count": 4,
      "outputs": [
        {
          "output_type": "stream",
          "text": [
            "Digite um número natural: 505050\n",
            "A quantidade de numeros 0 é de: 3\n",
            "A quantidade de numeros 5 é de: 3\n"
          ],
          "name": "stdout"
        }
      ]
    },
    {
      "cell_type": "markdown",
      "metadata": {
        "id": "J1uPLQxCdOIx"
      },
      "source": [
        "3) Encapsule e generalize a seguinte declaração:"
      ]
    },
    {
      "cell_type": "code",
      "metadata": {
        "id": "5surCllG01CR"
      },
      "source": [
        "for i in [12, 16, 17, 24, 29]:\n",
        "    if i % 2 == 1:  # If the number is odd\n",
        "       break        #  ... immediately exit the loop\n",
        "    print(i)\n",
        "print(\"done\")"
      ],
      "execution_count": null,
      "outputs": []
    },
    {
      "cell_type": "code",
      "metadata": {
        "id": "wy5lyA4A8pUm",
        "outputId": "674cef68-c0bb-4195-b08f-55aba5907645",
        "colab": {
          "base_uri": "https://localhost:8080/",
          "height": 68
        }
      },
      "source": [
        "def para_impar(lista):\n",
        "    for i in lista:\n",
        "        if i % 2 == 1:  # se for impar\n",
        "          break\n",
        "        print(i)\n",
        "\n",
        "lista = [12, 16, 17, 24, 29]\n",
        "\n",
        "para_impar(lista)\n",
        "\n",
        "print(\"done\")"
      ],
      "execution_count": null,
      "outputs": [
        {
          "output_type": "stream",
          "text": [
            "12\n",
            "16\n",
            "done\n"
          ],
          "name": "stdout"
        }
      ]
    },
    {
      "cell_type": "markdown",
      "metadata": {
        "id": "DlANgSf501CV"
      },
      "source": [
        "4) O método de Newton para raiz quadrada. Suponha que você queira calcular a raiz quadrada de ***n***. Se você começar com quase qualquer aproximação, poderá calcular uma aproximação melhor (mais próxima da resposta real) com a seguinte fórmula: melhor = (approx + n/approx)/2\n",
        "\n",
        "\n",
        "Usando um loop e repetindo esta fórmula até que a melhor aproximação se aproxime o suficiente da anterior (podemos considerar uma diferença de 0,001), podemos escrever uma função para calcular a raiz quadrada.\n",
        "\n",
        "\n",
        "Esse é um exemplo de repetição **indefinida**. Com qual tipo de loop você deve escrever o seu programa?"
      ]
    },
    {
      "cell_type": "code",
      "metadata": {
        "id": "U3LhIBM2lfMC",
        "outputId": "d2a331ce-f19f-49d6-dc32-49ad4cb5ef66",
        "colab": {
          "base_uri": "https://localhost:8080/",
          "height": 129
        }
      },
      "source": [
        "\"\"\"def raiz_quadrada(n):\n",
        "    raiz = n/2\n",
        "    teste = n\n",
        "    diferenca =  teste - raiz \n",
        "    while abs(raiz - )> 0.001:\n",
        "        teste = raiz\n",
        "        raiz = (1/2)*(raiz + (n / raiz))\n",
        " \n",
        "    return raiz\n",
        " \n",
        "raiz_quadrada(9)\"\"\"\n",
        " \n",
        " \n",
        "def sqrt_newton(n):\n",
        "    eps = 0.001\n",
        "    x = 1\n",
        "    for _ in range(20):\n",
        "      nx = (x + n / x) / 2\n",
        "        if (abs(x - nx) < eps):\n",
        "          break\n",
        "      x = nx\n",
        "    return x;\n"
      ],
      "execution_count": null,
      "outputs": [
        {
          "output_type": "error",
          "ename": "IndentationError",
          "evalue": "ignored",
          "traceback": [
            "\u001b[0;36m  File \u001b[0;32m\"<ipython-input-26-e8640d7e29cc>\"\u001b[0;36m, line \u001b[0;32m19\u001b[0m\n\u001b[0;31m    if (abs(x - nx) < eps):\u001b[0m\n\u001b[0m    ^\u001b[0m\n\u001b[0;31mIndentationError\u001b[0m\u001b[0;31m:\u001b[0m unexpected indent\n"
          ]
        }
      ]
    }
  ]
}