{
  "nbformat": 4,
  "nbformat_minor": 0,
  "metadata": {
    "kernelspec": {
      "display_name": "Python 3",
      "language": "python",
      "name": "python3"
    },
    "language_info": {
      "codemirror_mode": {
        "name": "ipython",
        "version": 3
      },
      "file_extension": ".py",
      "mimetype": "text/x-python",
      "name": "python",
      "nbconvert_exporter": "python",
      "pygments_lexer": "ipython3",
      "version": "3.6.4"
    },
    "colab": {
      "name": "edinaldo_aula_7.ipynb",
      "provenance": [],
      "collapsed_sections": [],
      "include_colab_link": true
    }
  },
  "cells": [
    {
      "cell_type": "markdown",
      "metadata": {
        "id": "view-in-github",
        "colab_type": "text"
      },
      "source": [
        "<a href=\"https://colab.research.google.com/github/Edinaldobjr/aulas_de_python/blob/master/exercicios/edinaldo_aula_7.ipynb\" target=\"_parent\"><img src=\"https://colab.research.google.com/assets/colab-badge.svg\" alt=\"Open In Colab\"/></a>"
      ]
    },
    {
      "cell_type": "markdown",
      "metadata": {
        "id": "_L86htJ301CQ"
      },
      "source": [
        "# Exercícios\n",
        "\n",
        "1) A **conjectura de Collatz**, diz que \"Todos os inteiros positivos irão eventualmente convergir para 1 usando as regras do Collatz\". Faça um programa que verifique a conjectura de Collatz para alguns valores. As regras de Collatz são: Dado um número ***n***: \n",
        "   * se ***n*** for par, divida-o por ***2***;\n",
        "   * Se ***n*** for ímpar, atualize-o para 3*n + 1"
      ]
    },
    {
      "cell_type": "code",
      "metadata": {
        "id": "BjUcsks_dO2h",
        "outputId": "aefe3bd9-197a-40d9-8a63-85884e94eb9b",
        "colab": {
          "base_uri": "https://localhost:8080/",
          "height": 35
        }
      },
      "source": [
        "def collatz(x):\n",
        "    while x > 1:\n",
        "        if x % 2 == 0:\n",
        "            # print(x)\n",
        "            x = int(x /2)\n",
        "        else:\n",
        "            # print(x)\n",
        "            x = int(3 * x + 1)\n",
        "    return x\n",
        "\n",
        "\n",
        "n = -162051\n",
        "\n",
        "if isinstance(n, int):      # Verificar Inteiro\n",
        "    print(collatz(n))\n",
        "else:\n",
        "    print('Não é um número inteiro positivo.')"
      ],
      "execution_count": 13,
      "outputs": [
        {
          "output_type": "stream",
          "text": [
            "-162051\n"
          ],
          "name": "stdout"
        }
      ]
    },
    {
      "cell_type": "markdown",
      "metadata": {
        "id": "Piwd2Ab8dOlZ"
      },
      "source": [
        "2) Modifique a função counter para contar o número de vezes que os dígitos 0 e 5 aparecem em um dado número n. Por exemplo, n = 10568, tem 2 dígitos 0 ou 5. "
      ]
    },
    {
      "cell_type": "code",
      "metadata": {
        "id": "qh6K1jggdOUI",
        "outputId": "e4bd9cfc-029c-4938-c3aa-c207e21ec35e",
        "colab": {
          "base_uri": "https://localhost:8080/",
          "height": 50
        }
      },
      "source": [
        "n = 10569005234\n",
        "# n = int(input('Digite um número natural: '))\n",
        "\n",
        "q = len(str(n))\n",
        "lista = []\n",
        "\n",
        "for _ in range(q):\n",
        "    x = n % 10\n",
        "    lista.append(x)\n",
        "    n = n // 10\n",
        "\n",
        "print(f'A quantidade de numeros 0 é de: {lista.count(0)}')\n",
        "print(f'A quantidade de numeros 5 é de: {lista.count(5)}')\n"
      ],
      "execution_count": 20,
      "outputs": [
        {
          "output_type": "stream",
          "text": [
            "A quantidade de numeros 0 é de: 3\n",
            "A quantidade de numeros 5 é de: 2\n"
          ],
          "name": "stdout"
        }
      ]
    },
    {
      "cell_type": "code",
      "metadata": {
        "id": "jsD71YqkYbqf",
        "outputId": "b09ba7a8-107b-4753-b2e6-50daa7f0035e",
        "colab": {
          "base_uri": "https://localhost:8080/",
          "height": 84
        }
      },
      "source": [
        "def counter(n, contar):\n",
        "    q = len(str(n))\n",
        "    lista = []\n",
        "    for _ in range(q):\n",
        "        x = n % 10\n",
        "        lista.append(x)\n",
        "        n = n // 10\n",
        "    \n",
        "    print(f'A quantidade de numeros {contar} é de: {lista.count(contar)}')\n",
        "\n",
        "n = 10569005234\n",
        "# n = input('Digite um número natural: ')\n",
        "\n",
        "counter(n, 0)\n",
        "counter(n, 7)\n"
      ],
      "execution_count": 26,
      "outputs": [
        {
          "output_type": "stream",
          "text": [
            "[4, 3, 2, 5, 0, 0, 9, 6, 5, 0, 1]\n",
            "A quantidade de numeros 0 é de: 3\n",
            "[4, 3, 2, 5, 0, 0, 9, 6, 5, 0, 1]\n",
            "A quantidade de numeros 7 é de: 0\n"
          ],
          "name": "stdout"
        }
      ]
    },
    {
      "cell_type": "markdown",
      "metadata": {
        "id": "J1uPLQxCdOIx"
      },
      "source": [
        "3) Encapsule e generalize a seguinte declaração:"
      ]
    },
    {
      "cell_type": "code",
      "metadata": {
        "id": "5surCllG01CR"
      },
      "source": [
        "for i in [12, 16, 17, 24, 29]:\n",
        "    if i % 2 == 1:  # If the number is odd\n",
        "       break        #  ... immediately exit the loop\n",
        "    print(i)\n",
        "print(\"done\")"
      ],
      "execution_count": null,
      "outputs": []
    },
    {
      "cell_type": "code",
      "metadata": {
        "id": "wy5lyA4A8pUm",
        "outputId": "0614f5d7-840b-4870-bb38-b972b41cfa65",
        "colab": {
          "base_uri": "https://localhost:8080/",
          "height": 84
        }
      },
      "source": [
        "def para_impar(lista):\n",
        "    for i in lista:\n",
        "        if i % 2 == 1:  # se for impar\n",
        "          print(f'Primeiro numero impar: {i}.')\n",
        "          break\n",
        "        print(f'Par: {i}.')\n",
        "\n",
        "lista = [12, 16, 17, 24, 29]\n",
        "\n",
        "para_impar(lista)\n",
        "\n",
        "print(\"done\")"
      ],
      "execution_count": 28,
      "outputs": [
        {
          "output_type": "stream",
          "text": [
            "Par: 12.\n",
            "Par: 16.\n",
            "Primeiro numero impar: 17.\n",
            "done\n"
          ],
          "name": "stdout"
        }
      ]
    },
    {
      "cell_type": "markdown",
      "metadata": {
        "id": "DlANgSf501CV"
      },
      "source": [
        "4) O método de Newton para raiz quadrada. Suponha que você queira calcular a raiz quadrada de ***n***. Se você começar com quase qualquer aproximação, poderá calcular uma aproximação melhor (mais próxima da resposta real) com a seguinte fórmula: melhor = (approx + n/approx)/2\n",
        "\n",
        "\n",
        "Usando um loop e repetindo esta fórmula até que a melhor aproximação se aproxime o suficiente da anterior (podemos considerar uma diferença de 0,001), podemos escrever uma função para calcular a raiz quadrada.\n",
        "\n",
        "\n",
        "Esse é um exemplo de repetição **indefinida**. Com qual tipo de loop você deve escrever o seu programa?"
      ]
    },
    {
      "cell_type": "code",
      "metadata": {
        "id": "cjBoqveYeR-S",
        "outputId": "b1bd07d1-eabd-4b66-adc9-8ccd4a0a69d4",
        "colab": {
          "base_uri": "https://localhost:8080/",
          "height": 34
        }
      },
      "source": [
        "def newton(n):\n",
        "  approx = n / 2\n",
        "  erro = 0.000001\n",
        "  while True:\n",
        "    raiz = (approx + n / approx) / 2\n",
        "    if approx - raiz <= erro:\n",
        "      return raiz\n",
        "    approx = raiz\n",
        "\n",
        "n = 10\n",
        "\n",
        "print(f'A raiz quadrada de {n} é {newton(n)}.')"
      ],
      "execution_count": 49,
      "outputs": [
        {
          "output_type": "stream",
          "text": [
            "A raiz quadrada de 10 é 3.162277660168379.\n"
          ],
          "name": "stdout"
        }
      ]
    }
  ]
}