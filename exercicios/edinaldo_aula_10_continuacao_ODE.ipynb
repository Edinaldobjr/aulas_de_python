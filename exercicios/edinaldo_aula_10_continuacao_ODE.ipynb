{
  "nbformat": 4,
  "nbformat_minor": 0,
  "metadata": {
    "kernelspec": {
      "display_name": "Python 3",
      "language": "python",
      "name": "python3"
    },
    "language_info": {
      "codemirror_mode": {
        "name": "ipython",
        "version": 3
      },
      "file_extension": ".py",
      "mimetype": "text/x-python",
      "name": "python",
      "nbconvert_exporter": "python",
      "pygments_lexer": "ipython3",
      "version": "3.7.0"
    },
    "colab": {
      "name": "edinaldo_aula_10_continuacao_ODE.ipynb",
      "provenance": [],
      "collapsed_sections": [],
      "include_colab_link": true
    }
  },
  "cells": [
    {
      "cell_type": "markdown",
      "metadata": {
        "id": "view-in-github",
        "colab_type": "text"
      },
      "source": [
        "<a href=\"https://colab.research.google.com/github/Edinaldobjr/aulas_de_python/blob/master/exercicios/edinaldo_aula_10_continuacao_ODE.ipynb\" target=\"_parent\"><img src=\"https://colab.research.google.com/assets/colab-badge.svg\" alt=\"Open In Colab\"/></a>"
      ]
    },
    {
      "cell_type": "markdown",
      "metadata": {
        "id": "lADCCAPtNb8v"
      },
      "source": [
        "## Exercícios extras de resolução numérica de equações  diferenciais (da aula passada)"
      ]
    },
    {
      "cell_type": "markdown",
      "metadata": {
        "id": "muFobbFCNhYm"
      },
      "source": [
        "### Questão 1 \n",
        "Imagine que tem um/a maratonista treinando, que num trecho de $5 km$ tem velocidade quase constante de $12 km/h$. Produza uma lista distância percorrida em intervalos de 1 minuto."
      ]
    },
    {
      "cell_type": "code",
      "metadata": {
        "id": "ftcszOtYXJ2G",
        "outputId": "d3bdbbd3-e470-47c1-c195-c1996cee9f63",
        "colab": {
          "base_uri": "https://localhost:8080/"
        }
      },
      "source": [
        "s0 = 0\n",
        "s1 = 25\n",
        "v1 = 12\n",
        "\n",
        "tempo1 = [i for i in range(s1+1)]                # Cria a lista intervalo de tempo de 0 a 25 min.\n",
        "dist1 = [round(s0 + (v1/60)*ti,2) for ti in tempo1]\n",
        "\n",
        "for t in range(len(tempo1)):\n",
        "    print(f'{dist1[t]} km - {tempo1[t]:2} min')"
      ],
      "execution_count": null,
      "outputs": [
        {
          "output_type": "stream",
          "text": [
            "0.0 km -  0 min\n",
            "0.2 km -  1 min\n",
            "0.4 km -  2 min\n",
            "0.6 km -  3 min\n",
            "0.8 km -  4 min\n",
            "1.0 km -  5 min\n",
            "1.2 km -  6 min\n",
            "1.4 km -  7 min\n",
            "1.6 km -  8 min\n",
            "1.8 km -  9 min\n",
            "2.0 km - 10 min\n",
            "2.2 km - 11 min\n",
            "2.4 km - 12 min\n",
            "2.6 km - 13 min\n",
            "2.8 km - 14 min\n",
            "3.0 km - 15 min\n",
            "3.2 km - 16 min\n",
            "3.4 km - 17 min\n",
            "3.6 km - 18 min\n",
            "3.8 km - 19 min\n",
            "4.0 km - 20 min\n",
            "4.2 km - 21 min\n",
            "4.4 km - 22 min\n",
            "4.6 km - 23 min\n",
            "4.8 km - 24 min\n",
            "5.0 km - 25 min\n"
          ],
          "name": "stdout"
        }
      ]
    },
    {
      "cell_type": "code",
      "metadata": {
        "id": "kZyvF_znP-yn",
        "outputId": "b1e75b36-60c7-439d-8658-13649742135b",
        "colab": {
          "base_uri": "https://localhost:8080/",
          "height": 312
        }
      },
      "source": [
        "import matplotlib.pyplot as plt\n",
        "\n",
        "t=tempo1\n",
        "x=dist1\n",
        "\n",
        "plt.plot(t,x,'b--')\n",
        "plt.title('Gráfico da corrida')\n",
        "plt.style.use('dark_background')\n",
        "plt.xlabel(\"tempo min\")\n",
        "plt.ylabel(\"distância km\")"
      ],
      "execution_count": null,
      "outputs": [
        {
          "output_type": "execute_result",
          "data": {
            "text/plain": [
              "Text(0, 0.5, 'distância km')"
            ]
          },
          "metadata": {
            "tags": []
          },
          "execution_count": 31
        },
        {
          "output_type": "display_data",
          "data": {
            "image/png": "[encoded data removed]",
            "text/plain": [
              "<Figure size 432x288 with 1 Axes>"
            ]
          },
          "metadata": {
            "tags": []
          }
        }
      ]
    },
    {
      "cell_type": "markdown",
      "metadata": {
        "id": "_OFt-4llNr32"
      },
      "source": [
        "### Questão 2 \n",
        "O/A mesmo/a atleta no seguinte trecho acelera por $200$ metros até chegar em $15 km/h$ por $2 km$. Queremos obter uma tabela ou gráfico da distância percorrida en função do tempo e o tempo total para chegar em $7 km$, faça isto utilizando listas."
      ]
    },
    {
      "cell_type": "code",
      "metadata": {
        "id": "hGb42alPOGgQ",
        "outputId": "fdf34a54-f102-4bd6-98fc-9a60a5a378d6",
        "colab": {
          "base_uri": "https://localhost:8080/"
        }
      },
      "source": [
        "# parte 1 - MRU\n",
        "s0 = 0\n",
        "t1 = 25\n",
        "v1 = 12\n",
        "\n",
        "tempo1 = [i for i in range(t1+1)]\n",
        "dist1 = [round(s0 + (v1/60)*ti,2) for ti in tempo1]\n",
        "\n",
        "# parte 2 - acel\n",
        "v2 = 15\n",
        "df = 7\n",
        "di = 5\n",
        "d_acel = 0.2\n",
        "\n",
        "d2 = di + d_acel\n",
        "dist2 = dist1.copy() # distância \n",
        "dist2.append(d2)\n",
        "\n",
        "a = ((v2/60)**2 - (v1/60)**2) / 2 * d_acel\n",
        "t2 = round(((v2/60) - (v1/60))/a,2)\n",
        "\n",
        "t2 = t1 + t2par\n",
        "tempo2 = tempo1.copy()\n",
        "tempo2.append(t2)\n",
        "\n",
        "# parte 3 - MRU\n",
        "\n",
        "dist\n",
        "\n",
        "\n",
        "\n",
        "t3_par = (df-d2)/(v2/60)\n",
        "t3 = t2 + t3_par\n",
        "\n",
        "tem3 = [x/100 for x in range(int(t2*100+20),int(t3*100+1), 20)]\n",
        "\n",
        "tempo3 = tempo2.copy()\n",
        "tempo3.extend(tem3)\n",
        "\n",
        "d3 = [(v2/60)*i for i in tem3]\n",
        "\n",
        "#dist1 = [round(s0 + (v1/60)*ti,2) for ti in tempo1]\n",
        "#d3 = [d02 + (v2/60)*ti for ti in t3]\n",
        "\n",
        "\n",
        "print(d2)"
      ],
      "execution_count": null,
      "outputs": [
        {
          "output_type": "stream",
          "text": [
            "5.2\n"
          ],
          "name": "stdout"
        }
      ]
    },
    {
      "cell_type": "code",
      "metadata": {
        "id": "KOrD7Wi0V1nA",
        "outputId": "faf6be20-a83e-4c41-a2a6-102f5630c196",
        "colab": {
          "base_uri": "https://localhost:8080/",
          "height": 231
        }
      },
      "source": [
        "def velocidade_min(velocidade):\n",
        "    x = velocidade / 60\n",
        "    return x\n",
        "\n",
        "velocidade_media_dois = 15\n",
        "distancia_final = 7\n",
        "distancia_inicial = 5\n",
        "\n",
        "velocidade_dois = velocidade_min(velocidade_media_dois)\n",
        "\n",
        "tempo_dois = int((distancia_final - distancia_inicial) / velocidade_dois)\n",
        "\n",
        "intervalo = [x for x in range(26)]                  # Cria a lista intervalo de tempo de 0 a 25 s.\n",
        "espaco = [x/1000 for x in range(0,5200,200)]        # Cria a lista espaco de 0 a 5 com intervalos de 0.2 km.\n",
        "\n",
        "for t in range(tempo_dois + 1):\n",
        "    intervalo.append(tempo + t)\n",
        "    dist = distancia_inicial + t * velocidade_dois\n",
        "    espaco.append(round(dist,3))\n",
        "  \n",
        "\n",
        "for t in range(len(espaco)):\n",
        "    print(f'{intervalo[t]:2} min - {espaco[t]:.2f} km')"
      ],
      "execution_count": null,
      "outputs": [
        {
          "output_type": "error",
          "ename": "NameError",
          "evalue": "ignored",
          "traceback": [
            "\u001b[0;31m---------------------------------------------------------------------------\u001b[0m",
            "\u001b[0;31mNameError\u001b[0m                                 Traceback (most recent call last)",
            "\u001b[0;32m<ipython-input-40-0d05ab2c1e2c>\u001b[0m in \u001b[0;36m<module>\u001b[0;34m()\u001b[0m\n\u001b[1;32m     15\u001b[0m \u001b[0;34m\u001b[0m\u001b[0m\n\u001b[1;32m     16\u001b[0m \u001b[0;32mfor\u001b[0m \u001b[0mt\u001b[0m \u001b[0;32min\u001b[0m \u001b[0mrange\u001b[0m\u001b[0;34m(\u001b[0m\u001b[0mtempo_dois\u001b[0m \u001b[0;34m+\u001b[0m \u001b[0;36m1\u001b[0m\u001b[0;34m)\u001b[0m\u001b[0;34m:\u001b[0m\u001b[0;34m\u001b[0m\u001b[0;34m\u001b[0m\u001b[0m\n\u001b[0;32m---> 17\u001b[0;31m     \u001b[0mintervalo\u001b[0m\u001b[0;34m.\u001b[0m\u001b[0mappend\u001b[0m\u001b[0;34m(\u001b[0m\u001b[0mtempo\u001b[0m \u001b[0;34m+\u001b[0m \u001b[0mt\u001b[0m\u001b[0;34m)\u001b[0m\u001b[0;34m\u001b[0m\u001b[0;34m\u001b[0m\u001b[0m\n\u001b[0m\u001b[1;32m     18\u001b[0m     \u001b[0mdist\u001b[0m \u001b[0;34m=\u001b[0m \u001b[0mdistancia_inicial\u001b[0m \u001b[0;34m+\u001b[0m \u001b[0mt\u001b[0m \u001b[0;34m*\u001b[0m \u001b[0mvelocidade_dois\u001b[0m\u001b[0;34m\u001b[0m\u001b[0;34m\u001b[0m\u001b[0m\n\u001b[1;32m     19\u001b[0m     \u001b[0mespaco\u001b[0m\u001b[0;34m.\u001b[0m\u001b[0mappend\u001b[0m\u001b[0;34m(\u001b[0m\u001b[0mround\u001b[0m\u001b[0;34m(\u001b[0m\u001b[0mdist\u001b[0m\u001b[0;34m,\u001b[0m\u001b[0;36m3\u001b[0m\u001b[0;34m)\u001b[0m\u001b[0;34m)\u001b[0m\u001b[0;34m\u001b[0m\u001b[0;34m\u001b[0m\u001b[0m\n",
            "\u001b[0;31mNameError\u001b[0m: name 'tempo' is not defined"
          ]
        }
      ]
    },
    {
      "cell_type": "markdown",
      "metadata": {
        "id": "o8XIr_rVNz0a"
      },
      "source": [
        "### Questão 3 \n",
        "Considere um pêndulo simples num plano. O comprimento da linha é $1$ metro, a massa é $0,2 kg$ e a aceleração de gravidade $9,8 m/s^2$. Faça um gráfico ou crie uma tabela para a posição em coordenadas cartesianas em função do tempo, utilizando listas."
      ]
    },
    {
      "cell_type": "code",
      "metadata": {
        "id": "EhNZVO_cOHGI"
      },
      "source": [
        ""
      ],
      "execution_count": null,
      "outputs": []
    },
    {
      "cell_type": "markdown",
      "metadata": {
        "id": "oFqx0jRchF7T"
      },
      "source": [
        "### Questão 4 \n",
        "Resolva o pêndulo simples com coordenadas polares (ao invés de coordenadas cartesianas).\n",
        "\n"
      ]
    },
    {
      "cell_type": "code",
      "metadata": {
        "id": "gRzAK2i-OHwm"
      },
      "source": [
        ""
      ],
      "execution_count": null,
      "outputs": []
    },
    {
      "cell_type": "markdown",
      "metadata": {
        "id": "SuGhK-YJOLBX"
      },
      "source": [
        "- (opcional) Pesquise sobre o pacote numpy e os objetos desse pacote chamados array, tente utilizálos ao invés de listas para resolver os exercícios.\n",
        "\n",
        "- (opcional) Pesquise sobre o pacote scipy e seu modulo integrate para resolver integrações ou equações diferenciais numéricamente."
      ]
    }
  ]
}