{
  "nbformat": 4,
  "nbformat_minor": 0,
  "metadata": {
    "colab": {
      "name": "edinaldo_aula_1_2.ipynb",
      "provenance": [],
      "authorship_tag": "ABX9TyMv4kEDbNy1GNqTPI6uqao9",
      "include_colab_link": true
    },
    "kernelspec": {
      "name": "python3",
      "display_name": "Python 3"
    }
  },
  "cells": [
    {
      "cell_type": "markdown",
      "metadata": {
        "id": "view-in-github",
        "colab_type": "text"
      },
      "source": [
        "<a href=\"https://colab.research.google.com/github/Edinaldobjr/aulas_de_python/blob/master/exercicios/edinaldo_aula_1_2.ipynb\" target=\"_parent\"><img src=\"https://colab.research.google.com/assets/colab-badge.svg\" alt=\"Open In Colab\"/></a>"
      ]
    },
    {
      "cell_type": "code",
      "metadata": {
        "id": "jgYD58PCqGFE",
        "colab_type": "code",
        "colab": {}
      },
      "source": [
        "2. Imprima na tela a documentação da função print."
      ],
      "execution_count": null,
      "outputs": []
    },
    {
      "cell_type": "code",
      "metadata": {
        "id": "X_zrFdHQqNoG",
        "colab_type": "code",
        "colab": {}
      },
      "source": [
        "help('print')"
      ],
      "execution_count": null,
      "outputs": []
    }
  ]
}