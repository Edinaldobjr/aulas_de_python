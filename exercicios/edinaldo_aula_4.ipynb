{
  "nbformat": 4,
  "nbformat_minor": 0,
  "metadata": {
    "colab": {
      "name": "edinaldo_aula_4.ipynb",
      "provenance": [],
      "authorship_tag": "ABX9TyMrSLGMGFUItBbM15A+XJIv",
      "include_colab_link": true
    },
    "kernelspec": {
      "name": "python3",
      "display_name": "Python 3"
    }
  },
  "cells": [
    {
      "cell_type": "markdown",
      "metadata": {
        "id": "view-in-github",
        "colab_type": "text"
      },
      "source": [
        "<a href=\"https://colab.research.google.com/github/Edinaldobjr/aulas_de_python/blob/master/exercicios/edinaldo_aula_4.ipynb\" target=\"_parent\"><img src=\"https://colab.research.google.com/assets/colab-badge.svg\" alt=\"Open In Colab\"/></a>"
      ]
    },
    {
      "cell_type": "markdown",
      "metadata": {
        "id": "lbP8VjuQzVdu"
      },
      "source": [
        "Aqui está um exemplo que usa ```do_twice``` para chamar uma função chamada ```print_spam``` duas vezes.\n"
      ]
    },
    {
      "cell_type": "code",
      "metadata": {
        "id": "-h-QwkrvzVdw",
        "outputId": "69648fa9-11c3-4872-d25b-b70219d3bc6d",
        "colab": {
          "base_uri": "https://localhost:8080/",
          "height": 54
        }
      },
      "source": [
        "def do_twice(f):\n",
        "    f()\n",
        "    f()\n",
        "\n",
        "def print_spam(): \n",
        "    print('spam') \n",
        "\n",
        "do_twice(print_spam)"
      ],
      "execution_count": null,
      "outputs": [
        {
          "output_type": "stream",
          "text": [
            "spam\n",
            "spam\n"
          ],
          "name": "stdout"
        }
      ]
    },
    {
      "cell_type": "markdown",
      "metadata": {
        "id": "DL4IUvnOzVdz"
      },
      "source": [
        "\n",
        "\n",
        "Digite este exemplo em um script e teste-o.\n",
        "\n",
        "\n",
        "\n",
        "\n",
        "\n",
        "\n",
        "\n",
        "\n",
        "\n",
        "  "
      ]
    },
    {
      "cell_type": "code",
      "metadata": {
        "id": "uEfyNtEw798O"
      },
      "source": [
        "def do_twice(f):\n",
        "    f()\n",
        "    f()\n",
        "\n",
        "def print_spam():\n",
        "    print('spam')\n",
        "\n",
        "do_twice(print_spam)"
      ],
      "execution_count": 15,
      "outputs": []
    },
    {
      "cell_type": "markdown",
      "metadata": {
        "id": "nrJ0tBbq73R_"
      },
      "source": [
        "Modifique ```do_twice``` para que sejam necessários dois argumentos, um objeto de função e um valor, e chame a função duas vezes, passando o valor como um argumento."
      ]
    },
    {
      "cell_type": "code",
      "metadata": {
        "id": "Rr2-gwLs8Af6",
        "outputId": "07418c04-e8e7-43d4-c58c-1ae6ac8db8e2",
        "colab": {
          "base_uri": "https://localhost:8080/",
          "height": 54
        }
      },
      "source": [
        "def do_twice(f, palavra):\n",
        "    f(palavra)\n",
        "    f(palavra)\n",
        "\n",
        "\n",
        "def print_spam(arg):\n",
        "    print(arg)\n",
        "\n",
        "\n",
        "nome = 'Edinaldo'\n",
        "\n",
        "do_twice(print_spam, nome)"
      ],
      "execution_count": null,
      "outputs": [
        {
          "output_type": "stream",
          "text": [
            "Edinaldo\n",
            "Edinaldo\n"
          ],
          "name": "stdout"
        }
      ]
    },
    {
      "cell_type": "markdown",
      "metadata": {
        "id": "lTujU9TH71lJ"
      },
      "source": [
        "Escreva uma versão mais geral de ```print_spam```, chamada ```print_twice```, que use uma _string_ como parâmetro e imprima duas vezes."
      ]
    },
    {
      "cell_type": "code",
      "metadata": {
        "id": "cNUAmuPq_n5l",
        "outputId": "b54d438d-d964-4163-dcfa-40bcbf50c48d",
        "colab": {
          "base_uri": "https://localhost:8080/",
          "height": 54
        }
      },
      "source": [
        "def do_twice(f, palavra):\n",
        "    f(palavra)\n",
        "    f(palavra)\n",
        "\n",
        "\n",
        "def print_twice(string):\n",
        "    print(string)\n",
        "    print(string)\n",
        "\n",
        "\n",
        "nome = 'Edinaldo'\n",
        "\n",
        "print_twice(nome)"
      ],
      "execution_count": null,
      "outputs": [
        {
          "output_type": "stream",
          "text": [
            "Edinaldo\n",
            "Edinaldo\n"
          ],
          "name": "stdout"
        }
      ]
    },
    {
      "cell_type": "markdown",
      "metadata": {
        "id": "fdgF4PWZ7zip"
      },
      "source": [
        "Use a versão modificada de ``` do_twice``` para chamar ```print_twice``` duas vezes, passando ```'spam'``` como um argumento."
      ]
    },
    {
      "cell_type": "code",
      "metadata": {
        "id": "3ptcdiBj_sWo",
        "outputId": "975950c1-b826-4570-b19c-6cabd02bea29",
        "colab": {
          "base_uri": "https://localhost:8080/",
          "height": 90
        }
      },
      "source": [
        "nome = 'spam'\n",
        "do_twice(print_twice, nome)"
      ],
      "execution_count": null,
      "outputs": [
        {
          "output_type": "stream",
          "text": [
            "spam\n",
            "spam\n",
            "spam\n",
            "spam\n"
          ],
          "name": "stdout"
        }
      ]
    },
    {
      "cell_type": "markdown",
      "metadata": {
        "id": "l9Eq2nUw7wu3"
      },
      "source": [
        "Defina uma nova função chamada ```do_four``` que recebe um objeto de função e um valor e chama a função ___quatro___ vezes, passando o valor como um parâmetro. Deve haver apenas duas declarações no corpo desta função, não quatro."
      ]
    },
    {
      "cell_type": "code",
      "metadata": {
        "id": "Pd_fMEnD_0lP",
        "outputId": "14cb5665-804d-41fe-9b39-e8655e025c0f",
        "colab": {
          "base_uri": "https://localhost:8080/",
          "height": 84
        }
      },
      "source": [
        "def print_twice(string):\n",
        "    print(string)\n",
        "    print(string)\n",
        "\n",
        "def do_four(f, palavra):\n",
        "    f(palavra)\n",
        "    f(palavra)\n",
        "\n",
        "do_four(print_twice, nome)"
      ],
      "execution_count": 18,
      "outputs": [
        {
          "output_type": "stream",
          "text": [
            "spam\n",
            "spam\n",
            "spam\n",
            "spam\n"
          ],
          "name": "stdout"
        }
      ]
    }
  ]
}