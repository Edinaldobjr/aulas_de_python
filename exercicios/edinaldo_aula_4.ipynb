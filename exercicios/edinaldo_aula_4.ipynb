{
  "nbformat": 4,
  "nbformat_minor": 0,
  "metadata": {
    "colab": {
      "name": "edinaldo_aula_4.ipynb",
      "provenance": [],
      "authorship_tag": "ABX9TyPmTd9hvdjr7rY85tESRKcF",
      "include_colab_link": true
    },
    "kernelspec": {
      "name": "python3",
      "display_name": "Python 3"
    }
  },
  "cells": [
    {
      "cell_type": "markdown",
      "metadata": {
        "id": "view-in-github",
        "colab_type": "text"
      },
      "source": [
        "<a href=\"https://colab.research.google.com/github/Edinaldobjr/aulas_de_python/blob/master/exercicios/edinaldo_aula_4.ipynb\" target=\"_parent\"><img src=\"https://colab.research.google.com/assets/colab-badge.svg\" alt=\"Open In Colab\"/></a>"
      ]
    },
    {
      "cell_type": "markdown",
      "metadata": {
        "id": "lbP8VjuQzVdu"
      },
      "source": [
        "Aqui está um exemplo que usa ```do_twice``` para chamar uma função chamada ```print_spam``` duas vezes.\n"
      ]
    },
    {
      "cell_type": "code",
      "metadata": {
        "id": "-h-QwkrvzVdw",
        "outputId": "4f16a0db-de82-452f-e310-6eb8eaace9c7",
        "colab": {
          "base_uri": "https://localhost:8080/",
          "height": 50
        }
      },
      "source": [
        "def do_twice(f):\n",
        "    f()\n",
        "    f()\n",
        "\n",
        "def print_spam (): \n",
        "    print('spam') \n",
        "\n",
        "do_twice (print_spam)"
      ],
      "execution_count": 1,
      "outputs": [
        {
          "output_type": "stream",
          "text": [
            "spam\n",
            "spam\n"
          ],
          "name": "stdout"
        }
      ]
    },
    {
      "cell_type": "markdown",
      "metadata": {
        "id": "DL4IUvnOzVdz"
      },
      "source": [
        "\n",
        "\n",
        "Digite este exemplo em um script e teste-o.\n",
        "\n",
        "\n",
        "\n",
        "\n",
        "\n",
        "\n",
        "\n",
        "\n",
        "\n",
        "  "
      ]
    },
    {
      "cell_type": "code",
      "metadata": {
        "id": "uEfyNtEw798O",
        "outputId": "31c7338e-a3cf-4de3-a18d-95adad0f93e2",
        "colab": {
          "base_uri": "https://localhost:8080/",
          "height": 50
        }
      },
      "source": [
        "def do_twice(f):\n",
        "   f()\n",
        "   f()\n",
        "\n",
        "def print_spam():\n",
        "   print('spam')\n",
        "\n",
        "do_twice(print_spam)"
      ],
      "execution_count": 3,
      "outputs": [
        {
          "output_type": "stream",
          "text": [
            "spam\n",
            "spam\n"
          ],
          "name": "stdout"
        }
      ]
    },
    {
      "cell_type": "markdown",
      "metadata": {
        "id": "nrJ0tBbq73R_"
      },
      "source": [
        "Modifique ```do_twice``` para que sejam necessários dois argumentos, um objeto de função e um valor, e chame a função duas vezes, passando o valor como um argumento."
      ]
    },
    {
      "cell_type": "code",
      "metadata": {
        "id": "Rr2-gwLs8Af6",
        "outputId": "db170638-3c97-49c9-e8c8-b626ef89e8f7",
        "colab": {
          "base_uri": "https://localhost:8080/",
          "height": 84
        }
      },
      "source": [
        "def do_twice(f, word):\n",
        "   f(word)\n",
        "   f(word)\n",
        "\n",
        "\n",
        "def print_spam(word):\n",
        "   print(word)\n",
        "\n",
        "\n",
        "word = input('What word to repeat?\\n')\n",
        "\n",
        "do_twice(print_spam, word)"
      ],
      "execution_count": 6,
      "outputs": [
        {
          "output_type": "stream",
          "text": [
            "What word to repeat?\n",
            "55555\n",
            "55555\n",
            "55555\n"
          ],
          "name": "stdout"
        }
      ]
    },
    {
      "cell_type": "markdown",
      "metadata": {
        "id": "lTujU9TH71lJ"
      },
      "source": [
        "Escreva uma versão mais geral de ```print_spam```, chamada ```print_twice```, que use uma _string_ como parâmetro e imprima duas vezes."
      ]
    },
    {
      "cell_type": "code",
      "metadata": {
        "id": "cNUAmuPq_n5l",
        "outputId": "a6fa1b7c-1085-46ef-917e-10151f0d5ce9",
        "colab": {
          "base_uri": "https://localhost:8080/",
          "height": 50
        }
      },
      "source": [
        "def print_twice(string):\n",
        "   print(string)\n",
        "   print(string)\n",
        "\n",
        "\n",
        "string = \"steven\"\n",
        "\n",
        "print_twice(string)"
      ],
      "execution_count": 8,
      "outputs": [
        {
          "output_type": "stream",
          "text": [
            "steven\n",
            "steven\n"
          ],
          "name": "stdout"
        }
      ]
    },
    {
      "cell_type": "markdown",
      "metadata": {
        "id": "fdgF4PWZ7zip"
      },
      "source": [
        "Use a versão modificada de ``` do_twice``` para chamar ```print_twice``` duas vezes, passando ```'spam'``` como um argumento."
      ]
    },
    {
      "cell_type": "code",
      "metadata": {
        "id": "3ptcdiBj_sWo",
        "outputId": "1e1bae61-58e6-4a24-b264-176d468c0a39",
        "colab": {
          "base_uri": "https://localhost:8080/",
          "height": 84
        }
      },
      "source": [
        "arg = \"spam\"\n",
        "do_twice(print_twice, arg)"
      ],
      "execution_count": 11,
      "outputs": [
        {
          "output_type": "stream",
          "text": [
            "spam\n",
            "spam\n",
            "spam\n",
            "spam\n"
          ],
          "name": "stdout"
        }
      ]
    },
    {
      "cell_type": "markdown",
      "metadata": {
        "id": "l9Eq2nUw7wu3"
      },
      "source": [
        "Defina uma nova função chamada ```do_four``` que recebe um objeto de função e um valor e chama a função ___quatro___ vezes, passando o valor como um parâmetro. Deve haver apenas duas declarações no corpo desta função, não quatro."
      ]
    },
    {
      "cell_type": "code",
      "metadata": {
        "id": "Pd_fMEnD_0lP",
        "outputId": "ea07dbd8-f589-4f24-ff9f-0f1559e8ad00",
        "colab": {
          "base_uri": "https://localhost:8080/",
          "height": 151
        }
      },
      "source": [
        "def do_four(f, arg):\n",
        "    do_twice(f, arg)\n",
        "    do_twice(f, arg)\n",
        "\n",
        "do_four(print_twice, arg)"
      ],
      "execution_count": 12,
      "outputs": [
        {
          "output_type": "stream",
          "text": [
            "spam\n",
            "spam\n",
            "spam\n",
            "spam\n",
            "spam\n",
            "spam\n",
            "spam\n",
            "spam\n"
          ],
          "name": "stdout"
        }
      ]
    }
  ]
}