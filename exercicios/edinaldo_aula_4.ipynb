{
  "nbformat": 4,
  "nbformat_minor": 0,
  "metadata": {
    "colab": {
      "name": "edinaldo_aula_4.ipynb",
      "provenance": [],
      "authorship_tag": "ABX9TyPBh76XROSgaMFxgZtJgzYI",
      "include_colab_link": true
    },
    "kernelspec": {
      "name": "python3",
      "display_name": "Python 3"
    }
  },
  "cells": [
    {
      "cell_type": "markdown",
      "metadata": {
        "id": "view-in-github",
        "colab_type": "text"
      },
      "source": [
        "<a href=\"https://colab.research.google.com/github/Edinaldobjr/aulas_de_python/blob/master/exercicios/edinaldo_aula_4.ipynb\" target=\"_parent\"><img src=\"https://colab.research.google.com/assets/colab-badge.svg\" alt=\"Open In Colab\"/></a>"
      ]
    },
    {
      "cell_type": "markdown",
      "metadata": {
        "id": "lbP8VjuQzVdu"
      },
      "source": [
        "Aqui está um exemplo que usa ```do_twice``` para chamar uma função chamada ```print_spam``` duas vezes.\n"
      ]
    },
    {
      "cell_type": "code",
      "metadata": {
        "id": "-h-QwkrvzVdw",
        "outputId": "24676c05-bc95-45d1-e37f-63455bb090fd",
        "colab": {
          "base_uri": "https://localhost:8080/",
          "height": 50
        }
      },
      "source": [
        "def do_twice(f):\n",
        "    f()\n",
        "    f()\n",
        "\n",
        "def print_spam(): \n",
        "    print('spam') \n",
        "\n",
        "do_twice(print_spam)"
      ],
      "execution_count": 1,
      "outputs": [
        {
          "output_type": "stream",
          "text": [
            "spam\n",
            "spam\n"
          ],
          "name": "stdout"
        }
      ]
    },
    {
      "cell_type": "markdown",
      "metadata": {
        "id": "DL4IUvnOzVdz"
      },
      "source": [
        "\n",
        "\n",
        "Digite este exemplo em um script e teste-o.\n",
        "\n",
        "\n",
        "\n",
        "\n",
        "\n",
        "\n",
        "\n",
        "\n",
        "\n",
        "  "
      ]
    },
    {
      "cell_type": "code",
      "metadata": {
        "id": "uEfyNtEw798O",
        "outputId": "2ac0cd9f-5018-4656-dad4-833515b5c01e",
        "colab": {
          "base_uri": "https://localhost:8080/",
          "height": 50
        }
      },
      "source": [
        "def do_twice(f):\n",
        "    f()\n",
        "    f()\n",
        "\n",
        "def print_spam():\n",
        "    print('spam')\n",
        "\n",
        "do_twice(print_spam)"
      ],
      "execution_count": 2,
      "outputs": [
        {
          "output_type": "stream",
          "text": [
            "spam\n",
            "spam\n"
          ],
          "name": "stdout"
        }
      ]
    },
    {
      "cell_type": "markdown",
      "metadata": {
        "id": "nrJ0tBbq73R_"
      },
      "source": [
        "Modifique ```do_twice``` para que sejam necessários dois argumentos, um objeto de função e um valor, e chame a função duas vezes, passando o valor como um argumento."
      ]
    },
    {
      "cell_type": "code",
      "metadata": {
        "id": "Rr2-gwLs8Af6",
        "outputId": "d1ac9823-5e17-441c-82e6-fec3f53e3cff",
        "colab": {
          "base_uri": "https://localhost:8080/",
          "height": 84
        }
      },
      "source": [
        "def do_twice(f, word):\n",
        "    f(word)\n",
        "    f(word)\n",
        "\n",
        "\n",
        "def print_spam(word):\n",
        "    print(word)\n",
        "\n",
        "\n",
        "word = input('Digite a palavra a ser repetida?\\n')\n",
        "\n",
        "do_twice(print_spam, word)"
      ],
      "execution_count": 3,
      "outputs": [
        {
          "output_type": "stream",
          "text": [
            "Digite a palavra a ser repetida?\n",
            "Edinaldo\n",
            "Edinaldo\n",
            "Edinaldo\n"
          ],
          "name": "stdout"
        }
      ]
    },
    {
      "cell_type": "markdown",
      "metadata": {
        "id": "lTujU9TH71lJ"
      },
      "source": [
        "Escreva uma versão mais geral de ```print_spam```, chamada ```print_twice```, que use uma _string_ como parâmetro e imprima duas vezes."
      ]
    },
    {
      "cell_type": "code",
      "metadata": {
        "id": "cNUAmuPq_n5l",
        "outputId": "559af1e3-30cb-4ecd-a11f-56fdfa25218b",
        "colab": {
          "base_uri": "https://localhost:8080/",
          "height": 50
        }
      },
      "source": [
        "def print_twice(string):\n",
        "    print(string)\n",
        "    print(string)\n",
        "\n",
        "\n",
        "string = 'Edinaldo'\n",
        "\n",
        "print_twice(string)"
      ],
      "execution_count": 4,
      "outputs": [
        {
          "output_type": "stream",
          "text": [
            "Edinaldo\n",
            "Edinaldo\n"
          ],
          "name": "stdout"
        }
      ]
    },
    {
      "cell_type": "markdown",
      "metadata": {
        "id": "fdgF4PWZ7zip"
      },
      "source": [
        "Use a versão modificada de ``` do_twice``` para chamar ```print_twice``` duas vezes, passando ```'spam'``` como um argumento."
      ]
    },
    {
      "cell_type": "code",
      "metadata": {
        "id": "3ptcdiBj_sWo",
        "outputId": "bf6eaffe-5531-4673-c18e-e620cf93531b",
        "colab": {
          "base_uri": "https://localhost:8080/",
          "height": 84
        }
      },
      "source": [
        "arg = 'spam'\n",
        "do_twice(print_twice, arg)"
      ],
      "execution_count": 5,
      "outputs": [
        {
          "output_type": "stream",
          "text": [
            "spam\n",
            "spam\n",
            "spam\n",
            "spam\n"
          ],
          "name": "stdout"
        }
      ]
    },
    {
      "cell_type": "markdown",
      "metadata": {
        "id": "l9Eq2nUw7wu3"
      },
      "source": [
        "Defina uma nova função chamada ```do_four``` que recebe um objeto de função e um valor e chama a função ___quatro___ vezes, passando o valor como um parâmetro. Deve haver apenas duas declarações no corpo desta função, não quatro."
      ]
    },
    {
      "cell_type": "code",
      "metadata": {
        "id": "Pd_fMEnD_0lP",
        "outputId": "d0c1acd8-a5ab-4738-e75d-ec2f9ab6c252",
        "colab": {
          "base_uri": "https://localhost:8080/",
          "height": 151
        }
      },
      "source": [
        "def do_four(f, arg):\n",
        "    do_twice(f, arg)\n",
        "    do_twice(f, arg)\n",
        "\n",
        "do_four(print_twice, arg)"
      ],
      "execution_count": 6,
      "outputs": [
        {
          "output_type": "stream",
          "text": [
            "spam\n",
            "spam\n",
            "spam\n",
            "spam\n",
            "spam\n",
            "spam\n",
            "spam\n",
            "spam\n"
          ],
          "name": "stdout"
        }
      ]
    }
  ]
}