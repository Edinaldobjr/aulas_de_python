{
  "nbformat": 4,
  "nbformat_minor": 0,
  "metadata": {
    "kernelspec": {
      "display_name": "Python 3",
      "language": "python",
      "name": "python3"
    },
    "language_info": {
      "codemirror_mode": {
        "name": "ipython",
        "version": 3
      },
      "file_extension": ".py",
      "mimetype": "text/x-python",
      "name": "python",
      "nbconvert_exporter": "python",
      "pygments_lexer": "ipython3",
      "version": "3.6.4"
    },
    "colab": {
      "name": "edinaldo_aula_12.ipynb",
      "provenance": [],
      "collapsed_sections": [],
      "include_colab_link": true
    }
  },
  "cells": [
    {
      "cell_type": "markdown",
      "metadata": {
        "id": "view-in-github",
        "colab_type": "text"
      },
      "source": [
        "<a href=\"https://colab.research.google.com/github/Edinaldobjr/aulas_de_python/blob/master/exercicios/edinaldo_aula_12.ipynb\" target=\"_parent\"><img src=\"https://colab.research.google.com/assets/colab-badge.svg\" alt=\"Open In Colab\"/></a>"
      ]
    },
    {
      "cell_type": "markdown",
      "metadata": {
        "id": "kYesxbGAzRlG"
      },
      "source": [
        "# Exercícios:\n",
        "\n",
        "1) Escreva uma função que calcula a distância entre dois pontos, usando a classe Ponto que fizemos nessa aula."
      ]
    },
    {
      "cell_type": "code",
      "metadata": {
        "id": "mm-PL9Hmil-H"
      },
      "source": [
        "class Ponto:\n",
        "    \"\"\" Cria um novo Ponto, com coordenadas x, y \"\"\"\n",
        "\n",
        "    def __init__(self, x=0, y=0):\n",
        "        \"\"\" Inicializa em x, y o novo ponto criado pela classe \"\"\"\n",
        "        self.x = x\n",
        "        self.y = y\n",
        "\n",
        "    def distancia_da_origem(self):\n",
        "        \"\"\" Calcula minha distânica da origem \"\"\"\n",
        "        return ((self.x ** 2) + (self.y ** 2)) ** 0.5\n",
        "    \n",
        "    def ponto_medio(self, alvo):\n",
        "        \"\"\" Retorna o ponto medio entre esse ponto e o alvo \"\"\"\n",
        "        mx = (self.x + alvo.x)/2\n",
        "        my = (self.y + alvo.y)/2\n",
        "        return Ponto(mx, my)\n",
        "    \n",
        "    def __str__(self):\n",
        "        return \"({0}, {1})\".format(self.x, self.y)\n",
        "    \n",
        "    def distancia_pontos(self, alvo):\n",
        "        \"\"\" Retorna o ponto medio entre esse ponto e o alvo \"\"\"\n",
        "        dx = (alvo.x - self.x)**2\n",
        "        dy = (alvo.y - self.y)**2\n",
        "        D = (dx + dy)**0.5\n",
        "        return D"
      ],
      "execution_count": 35,
      "outputs": []
    },
    {
      "cell_type": "code",
      "metadata": {
        "colab": {
          "base_uri": "https://localhost:8080/"
        },
        "id": "Tfbaj_gXkU5a",
        "outputId": "176a4745-07f4-4005-f174-add4c10161bd"
      },
      "source": [
        "p = Ponto(3,4)\n",
        "q = Ponto(9,16)\n",
        "\n",
        "distancia = Ponto.distancia_pontos(p,q)\n",
        "\n",
        "print(distancia)"
      ],
      "execution_count": 36,
      "outputs": [
        {
          "output_type": "stream",
          "text": [
            "13.416407864998739\n"
          ],
          "name": "stdout"
        }
      ]
    },
    {
      "cell_type": "markdown",
      "metadata": {
        "id": "uHwBlROjiluo"
      },
      "source": [
        "2) Adicione um método reflexao_x à classe Ponto que retorna uma instância de Ponto, que é o reflexo do Ponto sobre o eixo x. Por exemplo, Point (3, 5) .reflexao_x () é (3, -5)"
      ]
    },
    {
      "cell_type": "code",
      "metadata": {
        "id": "xiILq9K5ildW"
      },
      "source": [
        "class Ponto:\n",
        "    \"\"\" Cria um novo Ponto, com coordenadas x, y \"\"\"\n",
        "\n",
        "    def __init__(self, x=0, y=0):\n",
        "        \"\"\" Inicializa em x, y o novo ponto criado pela classe \"\"\"\n",
        "        self.x = x\n",
        "        self.y = y\n",
        "\n",
        "    def distancia_da_origem(self):\n",
        "        \"\"\" Calcula minha distânica da origem \"\"\"\n",
        "        return ((self.x ** 2) + (self.y ** 2)) ** 0.5\n",
        "    \n",
        "    def ponto_medio(self, alvo):\n",
        "        \"\"\" Retorna o ponto medio entre esse ponto e o alvo \"\"\"\n",
        "        mx = (self.x + alvo.x)/2\n",
        "        my = (self.y + alvo.y)/2\n",
        "        return Ponto(mx, my)\n",
        "    \n",
        "    def __str__(self):\n",
        "        return \"({0}, {1})\".format(self.x, self.y)\n",
        "    \n",
        "    def distancia_pontos(self, alvo):\n",
        "        \"\"\" Retorna o ponto medio entre esse ponto e o alvo \"\"\"\n",
        "        dx = (alvo.x - self.x)**2\n",
        "        dy = (alvo.y - self.y)**2\n",
        "        D = (dx + dy)**0.5\n",
        "        return D\n",
        "    \n",
        "    def reflexao_x(self):\n",
        "        \"\"\"Retorna o ponto com inflexão no eixo x\"\"\"\n",
        "        x = self.x\n",
        "        y = -self.y\n",
        "        return Ponto(x,y)"
      ],
      "execution_count": 37,
      "outputs": []
    },
    {
      "cell_type": "code",
      "metadata": {
        "colab": {
          "base_uri": "https://localhost:8080/"
        },
        "id": "lR06sqAOleBP",
        "outputId": "15070746-3cad-4aa5-fd5b-114e6b014b14"
      },
      "source": [
        "print(Ponto(3,5).reflexao_x())"
      ],
      "execution_count": 38,
      "outputs": [
        {
          "output_type": "stream",
          "text": [
            "(3, -5)\n"
          ],
          "name": "stdout"
        }
      ]
    },
    {
      "cell_type": "markdown",
      "metadata": {
        "id": "eFhnGLxDikd4"
      },
      "source": [
        "3) Adicione um método ***inclinacao_da_origem*** à classe Ponto, que retorne a inclinação da linha que une a origem ao Ponto. Por exemplo,"
      ]
    },
    {
      "cell_type": "code",
      "metadata": {
        "id": "LL_vBZZozRlG"
      },
      "source": [
        "from Ponto import *\n",
        "Ponto(4, 10).inclinacao_origem()\n",
        "2.5"
      ],
      "execution_count": null,
      "outputs": []
    },
    {
      "cell_type": "code",
      "metadata": {
        "id": "ESgIchnBm8wK"
      },
      "source": [
        "class Ponto:\n",
        "    \"\"\" Cria um novo Ponto, com coordenadas x, y \"\"\"\n",
        "\n",
        "    def __init__(self, x=0, y=0):\n",
        "        \"\"\" Inicializa em x, y o novo ponto criado pela classe \"\"\"\n",
        "        self.x = x\n",
        "        self.y = y\n",
        "\n",
        "    def distancia_da_origem(self):\n",
        "        \"\"\" Calcula minha distânica da origem \"\"\"\n",
        "        return ((self.x ** 2) + (self.y ** 2)) ** 0.5\n",
        "    \n",
        "    def ponto_medio(self, alvo):\n",
        "        \"\"\" Retorna o ponto medio entre esse ponto e o alvo \"\"\"\n",
        "        mx = (self.x + alvo.x)/2\n",
        "        my = (self.y + alvo.y)/2\n",
        "        return Ponto(mx, my)\n",
        "    \n",
        "    def __str__(self):\n",
        "        return \"({0}, {1})\".format(self.x, self.y)\n",
        "    \n",
        "    def distancia_pontos(self, alvo):\n",
        "        \"\"\" Retorna o ponto medio entre esse ponto e o alvo \"\"\"\n",
        "        dx = (alvo.x - self.x)**2\n",
        "        dy = (alvo.y - self.y)**2\n",
        "        return (dx + dy)**0.5\n",
        "    \n",
        "    def reflexao_x(self):\n",
        "        \"\"\"Retorna o ponto com inflexão no eixo x\"\"\"\n",
        "        x = self.x\n",
        "        y = -self.y\n",
        "        return Ponto(x,y)\n",
        "\n",
        "    def inclinacao_origem(self):\n",
        "        \"\"\" Retorna a inclinação do ponto com a origem\"\"\"\n",
        "        if self.x == 0 and self.y ==0:\n",
        "            return print('Esse ponto está na origem.')\n",
        "        else:\n",
        "            return self.y / self.x"
      ],
      "execution_count": 40,
      "outputs": []
    },
    {
      "cell_type": "code",
      "metadata": {
        "colab": {
          "base_uri": "https://localhost:8080/"
        },
        "id": "5Sx5blk4nyE4",
        "outputId": "263d2038-53bb-47ef-af85-fce9ca0c9838"
      },
      "source": [
        "Ponto(4, 10).inclinacao_origem()"
      ],
      "execution_count": 41,
      "outputs": [
        {
          "output_type": "execute_result",
          "data": {
            "text/plain": [
              "2.5"
            ]
          },
          "metadata": {
            "tags": []
          },
          "execution_count": 41
        }
      ]
    },
    {
      "cell_type": "markdown",
      "metadata": {
        "id": "xmBIFq2VzRlG"
      },
      "source": [
        "O que pode dar errado com esse programa?\n",
        "\n"
      ]
    },
    {
      "cell_type": "code",
      "metadata": {
        "colab": {
          "base_uri": "https://localhost:8080/"
        },
        "id": "Vj5aKZJ8i6pl",
        "outputId": "896e3eab-bb37-4e0a-8ec6-d72cd17f83ea"
      },
      "source": [
        "Ponto(0, 0).inclinacao_origem()"
      ],
      "execution_count": 42,
      "outputs": [
        {
          "output_type": "stream",
          "text": [
            "Esse ponto está na origem.\n"
          ],
          "name": "stdout"
        }
      ]
    },
    {
      "cell_type": "markdown",
      "metadata": {
        "id": "DCfkWJVqiz5_"
      },
      "source": [
        "4) A equação de uma linha reta é “y = ax + b”. Os coeficientes a e b descrevem completamente a reta. Escreva um método na classe Ponto para que, se uma instância Ponto receber outro Ponto, calcule a equação da linha reta que une os dois pontos. Deve retornar os dois coeficientes como uma tupla de dois valores. Por exemplo,"
      ]
    },
    {
      "cell_type": "code",
      "metadata": {
        "id": "6wpa4Fq7pLvv"
      },
      "source": [
        "class Ponto:\n",
        "    \"\"\" Cria um novo Ponto, com coordenadas x, y \"\"\"\n",
        "\n",
        "    def __init__(self, x=0, y=0):\n",
        "        \"\"\" Inicializa em x, y o novo ponto criado pela classe \"\"\"\n",
        "        self.x = x\n",
        "        self.y = y\n",
        "\n",
        "    def distancia_da_origem(self):\n",
        "        \"\"\" Calcula minha distânica da origem \"\"\"\n",
        "        return ((self.x ** 2) + (self.y ** 2)) ** 0.5\n",
        "    \n",
        "    def ponto_medio(self, alvo):\n",
        "        \"\"\" Retorna o ponto medio entre esse ponto e o alvo \"\"\"\n",
        "        mx = (self.x + alvo.x)/2\n",
        "        my = (self.y + alvo.y)/2\n",
        "        return Ponto(mx, my)\n",
        "    \n",
        "    def __str__(self):\n",
        "        return \"({0}, {1})\".format(self.x, self.y)\n",
        "    \n",
        "    def distancia_pontos(self, alvo):\n",
        "        \"\"\" Retorna o ponto medio entre esse ponto e o alvo \"\"\"\n",
        "        dx = (alvo.x - self.x)**2\n",
        "        dy = (alvo.y - self.y)**2\n",
        "        return (dx + dy)**0.5\n",
        "    \n",
        "    def reflexao_x(self):\n",
        "        \"\"\"Retorna o ponto com inflexão no eixo x\"\"\"\n",
        "        x = self.x\n",
        "        y = -self.y\n",
        "        return Ponto(x,y)\n",
        "\n",
        "    def inclinacao_origem(self):\n",
        "        \"\"\" Retorna a inclinação do ponto com a origem\"\"\"\n",
        "        if self.x == 0 and self.y ==0:\n",
        "            return print('Esse ponto está na origem.')\n",
        "        else:\n",
        "            return self.y / self.x\n",
        "    \n",
        "    def parametros_reta(self, alvo):\n",
        "        \"\"\" Retorna os parâmetros da reta\"\"\"\n",
        "        a = (alvo.y - self.y)/(alvo.x - self.x)\n",
        "        b = self.y - a*self.x\n",
        "        return (a,b)       "
      ],
      "execution_count": 43,
      "outputs": []
    },
    {
      "cell_type": "code",
      "metadata": {
        "id": "63isaQWkzRlG"
      },
      "source": [
        "from Ponto import *\n",
        "print(Ponto(4,11).parametros_reta(Ponto(6,15)))"
      ],
      "execution_count": null,
      "outputs": []
    },
    {
      "cell_type": "code",
      "metadata": {
        "colab": {
          "base_uri": "https://localhost:8080/"
        },
        "id": "aoOGrC7hsdI3",
        "outputId": "1db700d6-0122-493c-ad43-9ee300dc19a9"
      },
      "source": [
        "print(Ponto(4,11).parametros_reta(Ponto(6,15)))"
      ],
      "execution_count": 45,
      "outputs": [
        {
          "output_type": "stream",
          "text": [
            "(2.0, 3.0)\n"
          ],
          "name": "stdout"
        }
      ]
    },
    {
      "cell_type": "markdown",
      "metadata": {
        "id": "bxUd3bSezRlH"
      },
      "source": [
        "O resultado acima nos diz que a equação da reta é y = 2x + 3. Quando esse método falha?"
      ]
    },
    {
      "cell_type": "markdown",
      "metadata": {
        "id": "sFiRe7aisqFK"
      },
      "source": [
        "Quando o ponto é o mesmo"
      ]
    },
    {
      "cell_type": "code",
      "metadata": {
        "id": "RMn4bkgqi9NF"
      },
      "source": [
        "print(Ponto(4,11).parametros_reta(Ponto(4,11)))"
      ],
      "execution_count": null,
      "outputs": []
    }
  ]
}