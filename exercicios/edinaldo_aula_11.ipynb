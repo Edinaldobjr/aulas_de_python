{
  "nbformat": 4,
  "nbformat_minor": 0,
  "metadata": {
    "kernelspec": {
      "display_name": "Python 3",
      "language": "python",
      "name": "python3"
    },
    "language_info": {
      "codemirror_mode": {
        "name": "ipython",
        "version": 3
      },
      "file_extension": ".py",
      "mimetype": "text/x-python",
      "name": "python",
      "nbconvert_exporter": "python",
      "pygments_lexer": "ipython3",
      "version": "3.6.4"
    },
    "colab": {
      "name": "edinaldo_aula_11.ipynb",
      "provenance": [],
      "include_colab_link": true
    }
  },
  "cells": [
    {
      "cell_type": "markdown",
      "metadata": {
        "id": "view-in-github",
        "colab_type": "text"
      },
      "source": [
        "<a href=\"https://colab.research.google.com/github/Edinaldobjr/aulas_de_python/blob/master/exercicios/edinaldo_aula_11.ipynb\" target=\"_parent\"><img src=\"https://colab.research.google.com/assets/colab-badge.svg\" alt=\"Open In Colab\"/></a>"
      ]
    },
    {
      "cell_type": "markdown",
      "metadata": {
        "id": "vOKNlvJg7NjD"
      },
      "source": [
        "# Dicionários\n",
        "\n",
        "Todos os tipos de **dados compostos** (***compounds***) que estudamos em detalhes até agora - strings, listas - são **tipos de sequência**, que usam inteiros como índices para acessar os valores que contêm dentro deles.\n",
        "\n",
        "Os **dicionários** são outro tipo de composto. Eles são o **tipo de mapeamento** integrado do Python. Eles mapeiam **chaves** (**keys**), que podem ser de qualquer **tipo imutável**, para valores, que podem ser de qualquer tipo (heterogêneos), assim como os elementos de uma lista ou tupla. \n",
        "\n",
        "\n",
        "**dicionários: chave -> valor**"
      ]
    },
    {
      "cell_type": "code",
      "metadata": {
        "id": "CVrqsQxN7NjE",
        "outputId": "fd74f9c5-7f30-4a68-cd26-f8a3b6f7320b",
        "colab": {
          "base_uri": "https://localhost:8080/"
        }
      },
      "source": [
        "tradutor = {}                # atribuição de criação de um dicionário vazio\n",
        "tradutor[\"one\"] = \"um\"       # atribuição do par key:value\n",
        "tradutor[\"two\"] = \"dois\"\n",
        "tradutor[\"three\"] = \"tres\"\n",
        "print(tradutor)"
      ],
      "execution_count": 1,
      "outputs": [
        {
          "output_type": "stream",
          "text": [
            "{'one': 'um', 'two': 'dois', 'three': 'tres'}\n"
          ],
          "name": "stdout"
        }
      ]
    },
    {
      "cell_type": "markdown",
      "metadata": {
        "id": "yz7y6h397NjJ"
      },
      "source": [
        "Os pares de ***key:valor*** do dicionário são separados por vírgulas. Cada par contém uma ***key*** e um valor separados por dois pontos."
      ]
    },
    {
      "cell_type": "code",
      "metadata": {
        "id": "B_WbmsB57NjK",
        "outputId": "b50ceca9-0461-45eb-fb27-742b696bebc6",
        "colab": {
          "base_uri": "https://localhost:8080/"
        }
      },
      "source": [
        "frutas = {\"maçãs\": 430, \"bananas\": 312, \"laranjas\": 525, \"peras\": 217, \"goiabas\": 88, \"figos\": 108, \"jambos\": 249}\n",
        "print (frutas)"
      ],
      "execution_count": 2,
      "outputs": [
        {
          "output_type": "stream",
          "text": [
            "{'maçãs': 430, 'bananas': 312, 'laranjas': 525, 'peras': 217, 'goiabas': 88, 'figos': 108, 'jambos': 249}\n"
          ],
          "name": "stdout"
        }
      ]
    },
    {
      "cell_type": "markdown",
      "metadata": {
        "id": "TvAys1QL7NjO"
      },
      "source": [
        "**Dicionários não são ordenados!!!!**"
      ]
    },
    {
      "cell_type": "code",
      "metadata": {
        "id": "js1S9P8R7NjO",
        "outputId": "4aa07f68-4c2e-4ec5-de39-847c5c14ad95",
        "colab": {
          "base_uri": "https://localhost:8080/"
        }
      },
      "source": [
        "dict = {}\n",
        "for i in range(200):\n",
        "    dict[i] = \"valor\" + str(i)\n",
        "print (dict)"
      ],
      "execution_count": 3,
      "outputs": [
        {
          "output_type": "stream",
          "text": [
            "{0: 'valor0', 1: 'valor1', 2: 'valor2', 3: 'valor3', 4: 'valor4', 5: 'valor5', 6: 'valor6', 7: 'valor7', 8: 'valor8', 9: 'valor9', 10: 'valor10', 11: 'valor11', 12: 'valor12', 13: 'valor13', 14: 'valor14', 15: 'valor15', 16: 'valor16', 17: 'valor17', 18: 'valor18', 19: 'valor19', 20: 'valor20', 21: 'valor21', 22: 'valor22', 23: 'valor23', 24: 'valor24', 25: 'valor25', 26: 'valor26', 27: 'valor27', 28: 'valor28', 29: 'valor29', 30: 'valor30', 31: 'valor31', 32: 'valor32', 33: 'valor33', 34: 'valor34', 35: 'valor35', 36: 'valor36', 37: 'valor37', 38: 'valor38', 39: 'valor39', 40: 'valor40', 41: 'valor41', 42: 'valor42', 43: 'valor43', 44: 'valor44', 45: 'valor45', 46: 'valor46', 47: 'valor47', 48: 'valor48', 49: 'valor49', 50: 'valor50', 51: 'valor51', 52: 'valor52', 53: 'valor53', 54: 'valor54', 55: 'valor55', 56: 'valor56', 57: 'valor57', 58: 'valor58', 59: 'valor59', 60: 'valor60', 61: 'valor61', 62: 'valor62', 63: 'valor63', 64: 'valor64', 65: 'valor65', 66: 'valor66', 67: 'valor67', 68: 'valor68', 69: 'valor69', 70: 'valor70', 71: 'valor71', 72: 'valor72', 73: 'valor73', 74: 'valor74', 75: 'valor75', 76: 'valor76', 77: 'valor77', 78: 'valor78', 79: 'valor79', 80: 'valor80', 81: 'valor81', 82: 'valor82', 83: 'valor83', 84: 'valor84', 85: 'valor85', 86: 'valor86', 87: 'valor87', 88: 'valor88', 89: 'valor89', 90: 'valor90', 91: 'valor91', 92: 'valor92', 93: 'valor93', 94: 'valor94', 95: 'valor95', 96: 'valor96', 97: 'valor97', 98: 'valor98', 99: 'valor99', 100: 'valor100', 101: 'valor101', 102: 'valor102', 103: 'valor103', 104: 'valor104', 105: 'valor105', 106: 'valor106', 107: 'valor107', 108: 'valor108', 109: 'valor109', 110: 'valor110', 111: 'valor111', 112: 'valor112', 113: 'valor113', 114: 'valor114', 115: 'valor115', 116: 'valor116', 117: 'valor117', 118: 'valor118', 119: 'valor119', 120: 'valor120', 121: 'valor121', 122: 'valor122', 123: 'valor123', 124: 'valor124', 125: 'valor125', 126: 'valor126', 127: 'valor127', 128: 'valor128', 129: 'valor129', 130: 'valor130', 131: 'valor131', 132: 'valor132', 133: 'valor133', 134: 'valor134', 135: 'valor135', 136: 'valor136', 137: 'valor137', 138: 'valor138', 139: 'valor139', 140: 'valor140', 141: 'valor141', 142: 'valor142', 143: 'valor143', 144: 'valor144', 145: 'valor145', 146: 'valor146', 147: 'valor147', 148: 'valor148', 149: 'valor149', 150: 'valor150', 151: 'valor151', 152: 'valor152', 153: 'valor153', 154: 'valor154', 155: 'valor155', 156: 'valor156', 157: 'valor157', 158: 'valor158', 159: 'valor159', 160: 'valor160', 161: 'valor161', 162: 'valor162', 163: 'valor163', 164: 'valor164', 165: 'valor165', 166: 'valor166', 167: 'valor167', 168: 'valor168', 169: 'valor169', 170: 'valor170', 171: 'valor171', 172: 'valor172', 173: 'valor173', 174: 'valor174', 175: 'valor175', 176: 'valor176', 177: 'valor177', 178: 'valor178', 179: 'valor179', 180: 'valor180', 181: 'valor181', 182: 'valor182', 183: 'valor183', 184: 'valor184', 185: 'valor185', 186: 'valor186', 187: 'valor187', 188: 'valor188', 189: 'valor189', 190: 'valor190', 191: 'valor191', 192: 'valor192', 193: 'valor193', 194: 'valor194', 195: 'valor195', 196: 'valor196', 197: 'valor197', 198: 'valor198', 199: 'valor199'}\n"
          ],
          "name": "stdout"
        }
      ]
    },
    {
      "cell_type": "code",
      "metadata": {
        "id": "N5roFdqe7NjS",
        "outputId": "77e491eb-0b32-4bfb-bfa4-59726bf51cb7",
        "colab": {
          "base_uri": "https://localhost:8080/"
        }
      },
      "source": [
        "print(dict[48])     # dicionário [chave] retorna valor na chave."
      ],
      "execution_count": 4,
      "outputs": [
        {
          "output_type": "stream",
          "text": [
            "valor48\n"
          ],
          "name": "stdout"
        }
      ]
    },
    {
      "cell_type": "code",
      "metadata": {
        "id": "WbjrPvCv7NjW",
        "outputId": "84486a17-14fc-409d-cdff-60a10664470c",
        "colab": {
          "base_uri": "https://localhost:8080/"
        }
      },
      "source": [
        "print(tradutor[\"two\"])"
      ],
      "execution_count": 5,
      "outputs": [
        {
          "output_type": "stream",
          "text": [
            "dois\n"
          ],
          "name": "stdout"
        }
      ]
    },
    {
      "cell_type": "markdown",
      "metadata": {
        "id": "zldkRW8x7Nja"
      },
      "source": [
        "Até agora, os tipos de dados que tínhamos visto, eram sequências, como listas e strings. Porém **os dicionários não são sequências, sendo assim não podemos indexá-los**."
      ]
    },
    {
      "cell_type": "markdown",
      "metadata": {
        "id": "GzmfKnYZ7Nja"
      },
      "source": [
        "## Operações com dicionários\n",
        "\n",
        "A instrução ***del*** retira um par key:valor de um dicionário. Por exemplo, o dicionário a seguir contém os nomes de várias frutas e o número de cada fruta em estoque:"
      ]
    },
    {
      "cell_type": "code",
      "metadata": {
        "id": "78RhkpBl7Njb",
        "outputId": "445fb9f8-d587-4d34-b869-6d59cbd117cf",
        "colab": {
          "base_uri": "https://localhost:8080/"
        }
      },
      "source": [
        "frutas = {\"maçãs\": 430, \"bananas\": 312, \"laranjas\": 525, \"peras\": 217, \"goiabas\": 88, \"figos\": 108, \"jambos\": 249}\n",
        "print(frutas)"
      ],
      "execution_count": 6,
      "outputs": [
        {
          "output_type": "stream",
          "text": [
            "{'maçãs': 430, 'bananas': 312, 'laranjas': 525, 'peras': 217, 'goiabas': 88, 'figos': 108, 'jambos': 249}\n"
          ],
          "name": "stdout"
        }
      ]
    },
    {
      "cell_type": "code",
      "metadata": {
        "id": "Ts_WdhJ57Nje",
        "outputId": "758ed737-c94e-4a7e-b776-b6c2acfd6238",
        "colab": {
          "base_uri": "https://localhost:8080/"
        }
      },
      "source": [
        "del frutas[\"peras\"]\n",
        "print(frutas)"
      ],
      "execution_count": 7,
      "outputs": [
        {
          "output_type": "stream",
          "text": [
            "{'maçãs': 430, 'bananas': 312, 'laranjas': 525, 'goiabas': 88, 'figos': 108, 'jambos': 249}\n"
          ],
          "name": "stdout"
        }
      ]
    },
    {
      "cell_type": "code",
      "metadata": {
        "id": "VAo432ix7Njh",
        "outputId": "6f9ece13-c2a4-47f2-8ca1-2a80f3a61383",
        "colab": {
          "base_uri": "https://localhost:8080/"
        }
      },
      "source": [
        "frutas[\"peras\"] = 0\n",
        "print(frutas)"
      ],
      "execution_count": 8,
      "outputs": [
        {
          "output_type": "stream",
          "text": [
            "{'maçãs': 430, 'bananas': 312, 'laranjas': 525, 'goiabas': 88, 'figos': 108, 'jambos': 249, 'peras': 0}\n"
          ],
          "name": "stdout"
        }
      ]
    },
    {
      "cell_type": "code",
      "metadata": {
        "id": "YSVBABZAqnFn",
        "outputId": "e8c4b65a-d2c1-4c6d-d64f-283eba9dcfab",
        "colab": {
          "base_uri": "https://localhost:8080/"
        }
      },
      "source": [
        "frutas[\"abacaxi\"] = 248\n",
        "print(frutas)"
      ],
      "execution_count": 9,
      "outputs": [
        {
          "output_type": "stream",
          "text": [
            "{'maçãs': 430, 'bananas': 312, 'laranjas': 525, 'goiabas': 88, 'figos': 108, 'jambos': 249, 'peras': 0, 'abacaxi': 248}\n"
          ],
          "name": "stdout"
        }
      ]
    },
    {
      "cell_type": "code",
      "metadata": {
        "id": "xVxHAmYQ7Njk",
        "outputId": "9b9fdfc9-890e-4784-ae01-686902a6d2cd",
        "colab": {
          "base_uri": "https://localhost:8080/"
        }
      },
      "source": [
        "len(frutas)  #a função len também funciona com dicionários"
      ],
      "execution_count": 10,
      "outputs": [
        {
          "output_type": "execute_result",
          "data": {
            "text/plain": [
              "8"
            ]
          },
          "metadata": {
            "tags": []
          },
          "execution_count": 10
        }
      ]
    },
    {
      "cell_type": "markdown",
      "metadata": {
        "id": "G8fdDD-l7Njm"
      },
      "source": [
        "## Métodos de dicionários\n",
        "\n",
        "Dicionários têm vários métodos úteis.\n",
        "\n",
        "Podemos visualizar as ***keys*** de um dado dicionário:"
      ]
    },
    {
      "cell_type": "code",
      "metadata": {
        "id": "ke0oIdSa7Njn",
        "outputId": "394fc3ff-c830-4ec7-e44e-133e1366593a",
        "colab": {
          "base_uri": "https://localhost:8080/"
        }
      },
      "source": [
        "frutas.keys()"
      ],
      "execution_count": 11,
      "outputs": [
        {
          "output_type": "execute_result",
          "data": {
            "text/plain": [
              "dict_keys(['maçãs', 'bananas', 'laranjas', 'goiabas', 'figos', 'jambos', 'peras', 'abacaxi'])"
            ]
          },
          "metadata": {
            "tags": []
          },
          "execution_count": 11
        }
      ]
    },
    {
      "cell_type": "code",
      "metadata": {
        "id": "msGo310a7Njq",
        "outputId": "a0863b8d-2da1-40d1-b36d-2599cb109906",
        "colab": {
          "base_uri": "https://localhost:8080/"
        }
      },
      "source": [
        "for fruta in frutas.keys():\n",
        "    print(fruta, ' = ', frutas[fruta])"
      ],
      "execution_count": 12,
      "outputs": [
        {
          "output_type": "stream",
          "text": [
            "maçãs  =  430\n",
            "bananas  =  312\n",
            "laranjas  =  525\n",
            "goiabas  =  88\n",
            "figos  =  108\n",
            "jambos  =  249\n",
            "peras  =  0\n",
            "abacaxi  =  248\n"
          ],
          "name": "stdout"
        }
      ]
    },
    {
      "cell_type": "code",
      "metadata": {
        "id": "I0ijcTbV7Njs",
        "outputId": "0a950e4c-557c-443a-c597-8e12416124e4",
        "colab": {
          "base_uri": "https://localhost:8080/"
        }
      },
      "source": [
        "print(frutas)"
      ],
      "execution_count": 13,
      "outputs": [
        {
          "output_type": "stream",
          "text": [
            "{'maçãs': 430, 'bananas': 312, 'laranjas': 525, 'goiabas': 88, 'figos': 108, 'jambos': 249, 'peras': 0, 'abacaxi': 248}\n"
          ],
          "name": "stdout"
        }
      ]
    },
    {
      "cell_type": "code",
      "metadata": {
        "id": "6h5fsv7l7Njv",
        "outputId": "5423dcaa-142a-4907-f37c-34a1afd2884c",
        "colab": {
          "base_uri": "https://localhost:8080/"
        }
      },
      "source": [
        "lista_frutas = list(frutas.keys())\n",
        "print(lista_frutas)"
      ],
      "execution_count": 14,
      "outputs": [
        {
          "output_type": "stream",
          "text": [
            "['maçãs', 'bananas', 'laranjas', 'goiabas', 'figos', 'jambos', 'peras', 'abacaxi']\n"
          ],
          "name": "stdout"
        }
      ]
    },
    {
      "cell_type": "markdown",
      "metadata": {
        "id": "fxzgsBL57Nj1"
      },
      "source": [
        "É tão comum iterar sobre as ***keys*** de um dicionário que podemos omitir a chamada do método de ***keys*** no loop ***for***\n",
        "   * **iterar sobre um dicionário itera implicitamente sobre suas chaves:**"
      ]
    },
    {
      "cell_type": "code",
      "metadata": {
        "id": "FUF_efrT7Nj1",
        "outputId": "31a355fa-7cae-4155-b09d-2e652e620a67",
        "colab": {
          "base_uri": "https://localhost:8080/"
        }
      },
      "source": [
        "for fruta in frutas:\n",
        "    print(fruta, ' = ', frutas[fruta])"
      ],
      "execution_count": 15,
      "outputs": [
        {
          "output_type": "stream",
          "text": [
            "maçãs  =  430\n",
            "bananas  =  312\n",
            "laranjas  =  525\n",
            "goiabas  =  88\n",
            "figos  =  108\n",
            "jambos  =  249\n",
            "peras  =  0\n",
            "abacaxi  =  248\n"
          ],
          "name": "stdout"
        }
      ]
    },
    {
      "cell_type": "code",
      "metadata": {
        "id": "SD4j2Khb7Nj4",
        "outputId": "cf767f9e-395c-4411-ce62-8018ac437650",
        "colab": {
          "base_uri": "https://localhost:8080/"
        }
      },
      "source": [
        "keys_frutas = [fruta for fruta in frutas] # list comprehension\n",
        "print(keys_frutas)"
      ],
      "execution_count": 16,
      "outputs": [
        {
          "output_type": "stream",
          "text": [
            "['maçãs', 'bananas', 'laranjas', 'goiabas', 'figos', 'jambos', 'peras', 'abacaxi']\n"
          ],
          "name": "stdout"
        }
      ]
    },
    {
      "cell_type": "code",
      "metadata": {
        "id": "62d7teE67Nj6",
        "outputId": "dcbc321c-bafd-4dd9-e0bc-c149fac6226a",
        "colab": {
          "base_uri": "https://localhost:8080/"
        }
      },
      "source": [
        "valores_frutas = [frutas[fruta] for fruta in frutas]\n",
        "print(valores_frutas)"
      ],
      "execution_count": 17,
      "outputs": [
        {
          "output_type": "stream",
          "text": [
            "[430, 312, 525, 88, 108, 249, 0, 248]\n"
          ],
          "name": "stdout"
        }
      ]
    },
    {
      "cell_type": "markdown",
      "metadata": {
        "id": "7iJiBb5E7Nj9"
      },
      "source": [
        "O método **values** nos possibilita acessar diretamente os valores do dicionário:"
      ]
    },
    {
      "cell_type": "code",
      "metadata": {
        "id": "6RN8RrE97Nj-",
        "outputId": "f37a9476-d248-4209-e6a0-cbf8bb443f44",
        "colab": {
          "base_uri": "https://localhost:8080/"
        }
      },
      "source": [
        "valores = list(frutas.values())\n",
        "print(valores)"
      ],
      "execution_count": 18,
      "outputs": [
        {
          "output_type": "stream",
          "text": [
            "[430, 312, 525, 88, 108, 249, 0, 248]\n"
          ],
          "name": "stdout"
        }
      ]
    },
    {
      "cell_type": "markdown",
      "metadata": {
        "id": "tkG073LW7NkA"
      },
      "source": [
        "O método ***items*** retorna uma tupla para cada par (***key:valor***):"
      ]
    },
    {
      "cell_type": "code",
      "metadata": {
        "id": "OmOf_Dai7NkB",
        "outputId": "70f398d6-5fce-4060-c420-58f6b646aba1",
        "colab": {
          "base_uri": "https://localhost:8080/"
        }
      },
      "source": [
        "list(frutas.items())"
      ],
      "execution_count": 19,
      "outputs": [
        {
          "output_type": "execute_result",
          "data": {
            "text/plain": [
              "[('maçãs', 430),\n",
              " ('bananas', 312),\n",
              " ('laranjas', 525),\n",
              " ('goiabas', 88),\n",
              " ('figos', 108),\n",
              " ('jambos', 249),\n",
              " ('peras', 0),\n",
              " ('abacaxi', 248)]"
            ]
          },
          "metadata": {
            "tags": []
          },
          "execution_count": 19
        }
      ]
    },
    {
      "cell_type": "markdown",
      "metadata": {
        "id": "6AqtrM7j7NkD"
      },
      "source": [
        "As tuplas podem ser úteis para obter a ***key*** e o valor ao mesmo tempo durante a execução do loop:"
      ]
    },
    {
      "cell_type": "code",
      "metadata": {
        "id": "-pwLAgLa7NkE",
        "outputId": "f6e78509-a6b5-4bb4-d919-d4a2304ee0c4",
        "colab": {
          "base_uri": "https://localhost:8080/"
        }
      },
      "source": [
        "for (k,v) in frutas.items():\n",
        "    print(\"Encontrei a key\",k,\"que mapeia para o valor\",v)"
      ],
      "execution_count": 20,
      "outputs": [
        {
          "output_type": "stream",
          "text": [
            "Encontrei a key maçãs que mapeia para o valor 430\n",
            "Encontrei a key bananas que mapeia para o valor 312\n",
            "Encontrei a key laranjas que mapeia para o valor 525\n",
            "Encontrei a key goiabas que mapeia para o valor 88\n",
            "Encontrei a key figos que mapeia para o valor 108\n",
            "Encontrei a key jambos que mapeia para o valor 249\n",
            "Encontrei a key peras que mapeia para o valor 0\n",
            "Encontrei a key abacaxi que mapeia para o valor 248\n"
          ],
          "name": "stdout"
        }
      ]
    },
    {
      "cell_type": "markdown",
      "metadata": {
        "id": "bUk5-UXJ7NkG"
      },
      "source": [
        "Os operadores ***in*** e ***not in*** podem testar se uma chave está no dicionário:"
      ]
    },
    {
      "cell_type": "code",
      "metadata": {
        "id": "qjROePKe7NkG",
        "outputId": "18247619-a2fe-4656-e8e2-771b7e300ee7",
        "colab": {
          "base_uri": "https://localhost:8080/"
        }
      },
      "source": [
        "\"bananas\" in frutas"
      ],
      "execution_count": 21,
      "outputs": [
        {
          "output_type": "execute_result",
          "data": {
            "text/plain": [
              "True"
            ]
          },
          "metadata": {
            "tags": []
          },
          "execution_count": 21
        }
      ]
    },
    {
      "cell_type": "code",
      "metadata": {
        "id": "tEvsAVkI7NkJ",
        "outputId": "fa6f7ea1-504d-4818-ea13-96bef3818eb8",
        "colab": {
          "base_uri": "https://localhost:8080/"
        }
      },
      "source": [
        " \"jambos\" in frutas"
      ],
      "execution_count": 22,
      "outputs": [
        {
          "output_type": "execute_result",
          "data": {
            "text/plain": [
              "True"
            ]
          },
          "metadata": {
            "tags": []
          },
          "execution_count": 22
        }
      ]
    },
    {
      "cell_type": "markdown",
      "metadata": {
        "id": "jYoSpTzx7NkN"
      },
      "source": [
        "Esse método pode ser bastante útil pois ao tentar acessar uma ***key*** não exitente, Python retorna um erro de execução:"
      ]
    },
    {
      "cell_type": "code",
      "metadata": {
        "id": "JF1ceabu7NkO",
        "outputId": "d35c0813-2976-4927-ec0a-cd6ac760cc7a",
        "colab": {
          "base_uri": "https://localhost:8080/",
          "height": 163
        }
      },
      "source": [
        "frutas[\"mangas\"]"
      ],
      "execution_count": 23,
      "outputs": [
        {
          "output_type": "error",
          "ename": "KeyError",
          "evalue": "ignored",
          "traceback": [
            "\u001b[0;31m---------------------------------------------------------------------------\u001b[0m",
            "\u001b[0;31mKeyError\u001b[0m                                  Traceback (most recent call last)",
            "\u001b[0;32m<ipython-input-23-c0e08424d4cb>\u001b[0m in \u001b[0;36m<module>\u001b[0;34m()\u001b[0m\n\u001b[0;32m----> 1\u001b[0;31m \u001b[0mfrutas\u001b[0m\u001b[0;34m[\u001b[0m\u001b[0;34m\"mangas\"\u001b[0m\u001b[0;34m]\u001b[0m\u001b[0;34m\u001b[0m\u001b[0;34m\u001b[0m\u001b[0m\n\u001b[0m",
            "\u001b[0;31mKeyError\u001b[0m: 'mangas'"
          ]
        }
      ]
    },
    {
      "cell_type": "markdown",
      "metadata": {
        "id": "mbw_Jma17NkR"
      },
      "source": [
        "O método ***get*** é também bem útil. Ele retorna o valor da ***key*** especificada e caso a ***key*** não exista, retorna o valor indicado como parâmetro:"
      ]
    },
    {
      "cell_type": "code",
      "metadata": {
        "id": "fD1zZaO17NkR",
        "outputId": "34d29329-ca3c-46f6-fd12-c0bc3e10e1b7",
        "colab": {
          "base_uri": "https://localhost:8080/"
        }
      },
      "source": [
        "matrix = {(0, 3): 1, (2, 1): 2, (4, 3): 3}\n",
        "matrix.get((4,3))"
      ],
      "execution_count": 24,
      "outputs": [
        {
          "output_type": "execute_result",
          "data": {
            "text/plain": [
              "3"
            ]
          },
          "metadata": {
            "tags": []
          },
          "execution_count": 24
        }
      ]
    },
    {
      "cell_type": "code",
      "metadata": {
        "id": "RrnoVp6b7NkU",
        "outputId": "ede345be-91f9-4872-8e1d-3c6d6f5b2780",
        "colab": {
          "base_uri": "https://localhost:8080/"
        }
      },
      "source": [
        "matrix.get((2,2))\n",
        "print(matrix)"
      ],
      "execution_count": 25,
      "outputs": [
        {
          "output_type": "stream",
          "text": [
            "{(0, 3): 1, (2, 1): 2, (4, 3): 3}\n"
          ],
          "name": "stdout"
        }
      ]
    },
    {
      "cell_type": "code",
      "metadata": {
        "id": "PIkoDTI-7NkY",
        "outputId": "bd90619b-2282-4330-9982-56fac0bf4c4a",
        "colab": {
          "base_uri": "https://localhost:8080/"
        }
      },
      "source": [
        "matrix.get((2,2), 0)      # se existir imprime o valor de (2,2), caso não imprime 0."
      ],
      "execution_count": 26,
      "outputs": [
        {
          "output_type": "execute_result",
          "data": {
            "text/plain": [
              "0"
            ]
          },
          "metadata": {
            "tags": []
          },
          "execution_count": 26
        }
      ]
    },
    {
      "cell_type": "markdown",
      "metadata": {
        "id": "b1kSeXP37Nkd"
      },
      "source": [
        "## Aliasing e cópia\n",
        "\n",
        "Como no caso das listas, porque os **dicionários são mutáveis**, precisamos estar cientes do **aliasing**. \n",
        "\n",
        "Sempre que duas variáveis se referem ao mesmo objeto, as alterações em uma afetam a outra.\n",
        "\n",
        "Se quiser modificar um dicionário e manter uma cópia do original, use o método de **cópia**. \n",
        "\n",
        "Consideremos um dicionário chamado **opostos**, que contém pares de opostos:"
      ]
    },
    {
      "cell_type": "code",
      "metadata": {
        "id": "PalgqxJ17Nkd"
      },
      "source": [
        "opostos = {\"up\": \"down\", \"right\": \"wrong\", \"yes\": \"no\"}    # criação de um dicionário\n",
        "alias = opostos                                            # criação de um alias. o dicionário alias e opostos se referem ao mesmo objeto.\n",
        "copia = opostos.copy()                                     # cópia do dicionario opostos        "
      ],
      "execution_count": 27,
      "outputs": []
    },
    {
      "cell_type": "markdown",
      "metadata": {
        "id": "ZU8QqGAA7Nkg"
      },
      "source": [
        "* Os dicionários ***alias*** e ***opostos*** se referem ao **mesmo objeto**; \n",
        "* O dicionário ***copia*** se refere a uma nova cópia do mesmo dicionário. \n",
        "* Se modificarmos o ***alias***, o dicionário ***opostos*** também será alterado:"
      ]
    },
    {
      "cell_type": "code",
      "metadata": {
        "id": "txSBGzJU7Nkg",
        "outputId": "c5bd7e6f-3fa4-4ccf-c53d-830ebf6a3bed",
        "colab": {
          "base_uri": "https://localhost:8080/"
        }
      },
      "source": [
        "print(alias)"
      ],
      "execution_count": 28,
      "outputs": [
        {
          "output_type": "stream",
          "text": [
            "{'up': 'down', 'right': 'wrong', 'yes': 'no'}\n"
          ],
          "name": "stdout"
        }
      ]
    },
    {
      "cell_type": "code",
      "metadata": {
        "id": "mJPsCMol7Nko",
        "outputId": "0245dec3-0846-45a8-dd9d-8ba53baa77d5",
        "colab": {
          "base_uri": "https://localhost:8080/"
        }
      },
      "source": [
        "alias[\"right\"] = \"left\"\n",
        "print(opostos)"
      ],
      "execution_count": 29,
      "outputs": [
        {
          "output_type": "stream",
          "text": [
            "{'up': 'down', 'right': 'left', 'yes': 'no'}\n"
          ],
          "name": "stdout"
        }
      ]
    },
    {
      "cell_type": "code",
      "metadata": {
        "id": "Y6S-lq4R7Nkr",
        "outputId": "8f8febf0-626e-4f84-8c04-d1316e76f8f7",
        "colab": {
          "base_uri": "https://localhost:8080/"
        }
      },
      "source": [
        "print(copia)"
      ],
      "execution_count": 30,
      "outputs": [
        {
          "output_type": "stream",
          "text": [
            "{'up': 'down', 'right': 'wrong', 'yes': 'no'}\n"
          ],
          "name": "stdout"
        }
      ]
    },
    {
      "cell_type": "code",
      "metadata": {
        "id": "phshME4m7Nku",
        "outputId": "5fbd42e4-53af-4cc1-fd98-c3ea8560c4aa",
        "colab": {
          "base_uri": "https://localhost:8080/"
        }
      },
      "source": [
        "copia[\"goodbye\"] = \"hello\"\n",
        "print(copia)"
      ],
      "execution_count": 31,
      "outputs": [
        {
          "output_type": "stream",
          "text": [
            "{'up': 'down', 'right': 'wrong', 'yes': 'no', 'goodbye': 'hello'}\n"
          ],
          "name": "stdout"
        }
      ]
    },
    {
      "cell_type": "code",
      "metadata": {
        "id": "oyrpRao37Nkw"
      },
      "source": [
        ""
      ],
      "execution_count": 31,
      "outputs": []
    },
    {
      "cell_type": "markdown",
      "metadata": {
        "id": "rDXrBE-d7Nky"
      },
      "source": [
        "# Exercícios:\n",
        "\n"
      ]
    },
    {
      "cell_type": "markdown",
      "metadata": {
        "id": "2bRZKHl5Hu-F"
      },
      "source": [
        "1) Utilizando dicionários e o método ***get***, contrua a seguinte matriz em python e acesse os valores de índices (0,3), (2,1), (4,3) e (2,2).\n",
        "![matrix](https://github.com/malbouis/Python_intro/blob/master/aulas_2019/pics/matrix_aula12.png?raw=1)"
      ]
    },
    {
      "cell_type": "code",
      "metadata": {
        "id": "xwEK7MD5v6ab",
        "outputId": "0121c3d2-ecff-4a0c-84c7-9c9c25701d56",
        "colab": {
          "base_uri": "https://localhost:8080/"
        }
      },
      "source": [
        "matriz = {(0,0): 0, (0,1): 0, (0,2): 0, (0,3): 1, (0,4): 0, \n",
        "          (1,0): 0, (1,1): 0, (1,2): 0, (1,3): 0, (1,4): 0, \n",
        "          (2,0): 0, (2,1): 2, (2,2): 0, (2,3): 0, (2,4): 0, \n",
        "          (3,0): 0, (3,1): 0, (3,2): 0, (3,3): 0, (3,4): 0, \n",
        "          (4,0): 0, (4,1): 0, (4,2): 0, (4,3): 3, (4,4): 0}\n",
        "\n",
        "print('Posição (0,3):',matriz.get((0,3)))\n",
        "print('Posição (2,1):',matriz.get((2,1)))\n",
        "print('Posição (4,3):',matriz.get((4,3)))\n",
        "print('Posição (2,2):',matriz.get((2,2)))"
      ],
      "execution_count": 48,
      "outputs": [
        {
          "output_type": "stream",
          "text": [
            "Posição (0,3): 1\n",
            "Posição (2,1): 2\n",
            "Posição (4,3): 3\n",
            "Posição (2,2): 0\n"
          ],
          "name": "stdout"
        }
      ]
    },
    {
      "cell_type": "code",
      "metadata": {
        "id": "VUE5Yw0MI8pe",
        "outputId": "0f7630b0-b575-4cd5-b454-a298be159a0c",
        "colab": {
          "base_uri": "https://localhost:8080/"
        }
      },
      "source": [
        "matriz2 = {(i, j): 0 for i in range(5) for j in range(5)}   # Criando a matriz zero 5x5\n",
        "# Colocando os valores nos indices do exercicio\n",
        "matriz2[(0,3)] = 1\n",
        "matriz2[(2,1)] = 2\n",
        "matriz2[(4,3)] = 3\n",
        "\n",
        "print('Posição (0,3):',matriz2.get((0,3)))\n",
        "print('Posição (2,1):',matriz2.get((2,1)))\n",
        "print('Posição (4,3):',matriz2.get((4,3)))\n",
        "print('Posição (2,2):',matriz2.get((2,2)))"
      ],
      "execution_count": 47,
      "outputs": [
        {
          "output_type": "stream",
          "text": [
            "Posição (0,3): 1\n",
            "Posição (2,1): 2\n",
            "Posição (4,3): 3\n",
            "Posição (2,2): 0\n"
          ],
          "name": "stdout"
        }
      ]
    },
    {
      "cell_type": "markdown",
      "metadata": {
        "id": "WjximJ8FyLSN"
      },
      "source": [
        "b) Faça o mesmo utilizando o pacote numpy."
      ]
    },
    {
      "cell_type": "code",
      "metadata": {
        "id": "EJsgtNgdyR1W",
        "outputId": "b3bdd718-b654-486a-8e5c-e9c5b2f113b2",
        "colab": {
          "base_uri": "https://localhost:8080/"
        }
      },
      "source": [
        "import numpy as np\n",
        "\n",
        "matriznp = np.zeros((5,5))\n",
        "\n",
        "print(matriznp)"
      ],
      "execution_count": 42,
      "outputs": [
        {
          "output_type": "stream",
          "text": [
            "[[0. 0. 0. 0. 0.]\n",
            " [0. 0. 0. 0. 0.]\n",
            " [0. 0. 0. 0. 0.]\n",
            " [0. 0. 0. 0. 0.]\n",
            " [0. 0. 0. 0. 0.]]\n"
          ],
          "name": "stdout"
        }
      ]
    },
    {
      "cell_type": "code",
      "metadata": {
        "id": "leOo9LRML0Cv"
      },
      "source": [
        "diconarionp = np.array([[0, 0, 0, 1, 0], [0,0,0,0,0],[0,2,0,0,0], [0,0,0,0,0], [0,0,0,3,0]])"
      ],
      "execution_count": 50,
      "outputs": []
    },
    {
      "cell_type": "markdown",
      "metadata": {
        "id": "Uq6sTtnq7Nky"
      },
      "source": [
        "2) Contagem de Letras. \n",
        "\n",
        "a) Utilizando dicionários, escreva uma função que tome como argumento uma palavra (string) e  retorne um dicionário que tem como ***key*** a letra da palavra e como valor o número de vezes que ela aparece na palavra. Tal dicionário é chamado de **tabela de frequência**.\n",
        "***Dica***: Utilize o método ***get*** dos dicionários.\n",
        "\n"
      ]
    },
    {
      "cell_type": "code",
      "metadata": {
        "id": "1y6tGQSiMfQh",
        "outputId": "0201aa84-8236-4340-e307-9d8746be96ff",
        "colab": {
          "base_uri": "https://localhost:8080/"
        }
      },
      "source": [
        "palavra = 'inconstitucional'.upper().replace(' ','')\n",
        "dicio = {}\n",
        " \n",
        "for i in range(len(palavra)):\n",
        "    dicio[palavra[i]] = palavra.count(palavra[i])\n",
        " \n",
        "print(dicio)"
      ],
      "execution_count": 104,
      "outputs": [
        {
          "output_type": "stream",
          "text": [
            "{'I': 3, 'N': 3, 'C': 2, 'O': 2, 'S': 1, 'T': 2, 'U': 1, 'A': 1, 'L': 1}\n"
          ],
          "name": "stdout"
        }
      ]
    },
    {
      "cell_type": "markdown",
      "metadata": {
        "id": "8pyq1C2yMey2"
      },
      "source": [
        "b) Utilizando os métodos sort() (referente a listas) e items() (referente a dicionários), imprima na tela uma lista ordenada alfabeticamente da tabela de frequência obtida no item a)."
      ]
    },
    {
      "cell_type": "code",
      "metadata": {
        "id": "dJuckjvpv7dO",
        "outputId": "7011fa2e-8031-4a7e-e1f9-77a49360bf54",
        "colab": {
          "base_uri": "https://localhost:8080/"
        }
      },
      "source": [
        "ordenado = sorted(dicio)\n",
        "print(ordenado)\n",
        "\n",
        "for i in ordenado:\n",
        "  print(f'{i} = {dicio[i]}')"
      ],
      "execution_count": 109,
      "outputs": [
        {
          "output_type": "stream",
          "text": [
            "['A', 'C', 'I', 'L', 'N', 'O', 'S', 'T', 'U']\n",
            "A = 1\n",
            "C = 2\n",
            "I = 3\n",
            "L = 1\n",
            "N = 3\n",
            "O = 2\n",
            "S = 1\n",
            "T = 2\n",
            "U = 1\n"
          ],
          "name": "stdout"
        }
      ]
    },
    {
      "cell_type": "markdown",
      "metadata": {
        "id": "XO898Foq7Nkz"
      },
      "source": [
        "3) Escreva um programa que leia uma string e retorne uma tabela das letras do alfabeto em ordem alfabética que ocorrem na string junto com o número de vezes que cada letra ocorre. Letras maiúsculas devem deve ser ignoradas. Um exemplo de saída do programa quando o usuário digita os dados “ThiS is String with Upper and lower case Letters”, seria o seguinte:\n",
        "\n",
        "a  2\n",
        "\n",
        "c  1\n",
        "\n",
        "\n",
        "d  1\n",
        "\n",
        "\n",
        "e  5\n",
        "\n",
        "\n",
        "g  1\n",
        "\n",
        "\n",
        "h  2\n",
        "\n",
        "\n",
        "i  4\n",
        "\n",
        "\n",
        "l  2\n",
        "\n",
        "\n",
        "n  2\n",
        "\n",
        "\n",
        "o  1\n",
        "\n",
        "\n",
        "p  2\n",
        "\n",
        "\n",
        "r  4\n",
        "\n",
        "\n",
        "s  5\n",
        "\n",
        "\n",
        "t  5\n",
        "\n",
        "\n",
        "u  1\n",
        "\n",
        "\n",
        "w  2"
      ]
    },
    {
      "cell_type": "code",
      "metadata": {
        "id": "125WPpu27Nkz",
        "outputId": "ebe2123d-503c-4bcf-8f4f-4a6e94227de1",
        "colab": {
          "base_uri": "https://localhost:8080/"
        }
      },
      "source": [
        "palavra = input('Qual a palavra desejada? ').lower().replace(' ','')\n",
        "dicio = {}\n",
        " \n",
        "for i in range(len(palavra)):\n",
        "    dicio[palavra[i]] = palavra.count(palavra[i])\n",
        " \n",
        "ordenado = sorted(dicio)\n",
        "\n",
        "for i in ordenado:\n",
        "  print(f'{i} = {dicio[i]}')"
      ],
      "execution_count": 112,
      "outputs": [
        {
          "output_type": "stream",
          "text": [
            "Qual a palavra desejada? ThiS is String with Upper and lower case Letters\n",
            "a = 2\n",
            "c = 1\n",
            "d = 1\n",
            "e = 5\n",
            "g = 1\n",
            "h = 2\n",
            "i = 4\n",
            "l = 2\n",
            "n = 2\n",
            "o = 1\n",
            "p = 2\n",
            "r = 4\n",
            "s = 5\n",
            "t = 5\n",
            "u = 1\n",
            "w = 2\n"
          ],
          "name": "stdout"
        }
      ]
    }
  ]
}