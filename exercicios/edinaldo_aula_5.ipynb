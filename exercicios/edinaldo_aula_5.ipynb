{
  "nbformat": 4,
  "nbformat_minor": 0,
  "metadata": {
    "colab": {
      "name": "edinaldo_aula_5.ipynb",
      "provenance": [],
      "authorship_tag": "ABX9TyN5vS66lZ/ENQfoT1rw4NOe",
      "include_colab_link": true
    },
    "kernelspec": {
      "name": "python3",
      "display_name": "Python 3"
    }
  },
  "cells": [
    {
      "cell_type": "markdown",
      "metadata": {
        "id": "view-in-github",
        "colab_type": "text"
      },
      "source": [
        "<a href=\"https://colab.research.google.com/github/Edinaldobjr/aulas_de_python/blob/master/exercicios/edinaldo_aula_5.ipynb\" target=\"_parent\"><img src=\"https://colab.research.google.com/assets/colab-badge.svg\" alt=\"Open In Colab\"/></a>"
      ]
    },
    {
      "cell_type": "code",
      "metadata": {
        "id": "13KBDZAudVXU",
        "outputId": "e11f1419-12be-47b2-83b8-51042f081dc8",
        "colab": {
          "base_uri": "https://localhost:8080/",
          "height": 170
        }
      },
      "source": [
        "!pip3 install ColabTurtle\n",
        "import ColabTurtle"
      ],
      "execution_count": 2,
      "outputs": [
        {
          "output_type": "stream",
          "text": [
            "Collecting ColabTurtle\n",
            "  Downloading https://files.pythonhosted.org/packages/49/01/6da7091c2c6c917cce99c000b89acb6aa27b66ef6eafc0c0ccf59b98694f/ColabTurtle-2.0.0.tar.gz\n",
            "Building wheels for collected packages: ColabTurtle\n",
            "  Building wheel for ColabTurtle (setup.py) ... \u001b[?25l\u001b[?25hdone\n",
            "  Created wheel for ColabTurtle: filename=ColabTurtle-2.0.0-cp36-none-any.whl size=4032 sha256=161d8f5987ea3e5e7721f6c2a051bfe1fd240db58d4b0900e601e68b2e7b78e4\n",
            "  Stored in directory: /root/.cache/pip/wheels/a8/29/ec/ad346f0042ae467cc74f4378916348faf975b07890651dcae7\n",
            "Successfully built ColabTurtle\n",
            "Installing collected packages: ColabTurtle\n",
            "Successfully installed ColabTurtle-2.0.0\n"
          ],
          "name": "stdout"
        }
      ]
    },
    {
      "cell_type": "markdown",
      "metadata": {
        "id": "NsJ6R0HDgBGh"
      },
      "source": [
        "## Exercícios - Parte 1:\n",
        "1. [**Não é possível fazer no Google Colab. Pule para o exercício 2**] Modifique o programa da tartaruga (primeiro exemplo) para que, antes de criar a janela, ele solicite que o usuário insira a cor de fundo desejada. Ele deve armazenar as respostas do usuário em uma variável e modificar a cor da janela de acordo com os desejos do usuário. \n",
        "   * ***Dicas***: faça uso da função ***input***, built-in do python\n",
        "   * você pode encontrar uma lista de nomes de cores permitidos em http://www.tcl.tk/man/tcl8.4/TkCmd/colors.htm. Inclui alguns bem incomuns, como “peach puff” e “HotPink” ”***\n",
        "   \n",
        " \n",
        "   \n",
        "\n",
        "\n",
        "\n",
        "   \n",
        "\n",
        "\n"
      ]
    },
    {
      "cell_type": "code",
      "metadata": {
        "id": "qK60r9ZFbV6u"
      },
      "source": [
        ""
      ],
      "execution_count": null,
      "outputs": []
    },
    {
      "cell_type": "markdown",
      "metadata": {
        "id": "96i5CgItbVzf"
      },
      "source": [
        "2. Faça modificações similares para permitir que o usuário mude a cor da tartaruga durante a execução do programa.\n",
        "   * Faça o mesmo para a largura da caneta da tartaruga. *Dica: seu diálogo com o usuário retornará uma string, mas o método ```pensize``` ( ```width``` no Google Colab) espera que seu argumento seja um **int**. Então, você precisará converter a **string** em um **int** antes de passá-la para **pensize**.*  "
      ]
    },
    {
      "cell_type": "code",
      "metadata": {
        "id": "imtQKOt3bVo1",
        "outputId": "138b0ac1-4c00-47a4-f18e-5648991bc5ea",
        "colab": {
          "base_uri": "https://localhost:8080/",
          "height": 0
        }
      },
      "source": [
        "import ColabTurtle.Turtle as teca\n",
        "teca = ColabTurtle.Turtle\n",
        "\n",
        "color = input(\"Digite a cor desejada: \")\n",
        "teca.initializeTurtle()\n",
        "teca.color(color)\n",
        "teca.width(3)\n",
        "teca.forward(50)\n",
        "teca.left(120)\n",
        "teca.forward(50)"
      ],
      "execution_count": 4,
      "outputs": [
        {
          "output_type": "stream",
          "text": [
            "Digite a cor desejada: blue\n"
          ],
          "name": "stdout"
        },
        {
          "output_type": "display_data",
          "data": {
            "text/html": [
              "\n",
              "      <svg width=\"800\" height=\"500\">\n",
              "        <rect width=\"100%\" height=\"100%\" fill=\"black\"/>\n",
              "        <line x1=\"400\" y1=\"250\" x2=\"400.0\" y2=\"200.0\" stroke-linecap=\"round\" style=\"stroke:blue;stroke-width:3\"/><line x1=\"400.0\" y1=\"200.0\" x2=\"356.69872981077805\" y2=\"225.0\" stroke-linecap=\"round\" style=\"stroke:blue;stroke-width:3\"/>\n",
              "        \n",
              "      <g visibility=visible transform=\"rotate(60,356.69872981077805,225.0) translate(356.69872981077805, 225.0)\">\n",
              "        <circle stroke=\"blue\" stroke-width=\"3\" fill=\"transparent\" r=\"12\" cx=\"0\" cy=\"0\"/>\n",
              "        <polygon points=\"0,19 3,16 -3,16\" style=\"fill:blue;stroke:blue;stroke-width:2\"/>\n",
              "      </g>\n",
              "    \n",
              "      </svg>\n",
              "    "
            ],
            "text/plain": [
              "<IPython.core.display.HTML object>"
            ]
          },
          "metadata": {
            "tags": []
          }
        }
      ]
    },
    {
      "cell_type": "markdown",
      "metadata": {
        "id": "SVE2oqE7bVhr"
      },
      "source": [
        "3. Investiguem os métodos e atributos do módulo ```turtle```  (```ColabTurtle``` no Google Colab);"
      ]
    },
    {
      "cell_type": "code",
      "metadata": {
        "id": "ptoN8lN5bVb9",
        "outputId": "c6e30f26-489c-45c3-b603-4cd8148e95f2",
        "colab": {
          "base_uri": "https://localhost:8080/",
          "height": 1000
        }
      },
      "source": [
        "help(ColabTurtle.Turtle)"
      ],
      "execution_count": null,
      "outputs": [
        {
          "output_type": "stream",
          "text": [
            "Help on module ColabTurtle.Turtle in ColabTurtle:\n",
            "\n",
            "NAME\n",
            "    ColabTurtle.Turtle\n",
            "\n",
            "FUNCTIONS\n",
            "    backward(units)\n",
            "        # makes the turtle move backward by 'units' units\n",
            "    \n",
            "    bgcolor(color)\n",
            "        # change the background color of the drawing area; valid colors are defined at VALID_COLORS\n",
            "    \n",
            "    color(color)\n",
            "        # change the color of the pen; valid colors are defined at VALID_COLORS\n",
            "    \n",
            "    forward(units)\n",
            "        # makes the turtle move forward by 'units' units\n",
            "    \n",
            "    goto(x, y)\n",
            "        # move the turtle to a designated 'x'-'y' coordinate\n",
            "    \n",
            "    hideturtle()\n",
            "        # switch turtle visibility to ON\n",
            "    \n",
            "    initializeTurtle(initial_speed=4, initial_window_size=(800, 500))\n",
            "        # construct the display for turtle\n",
            "    \n",
            "    left(degrees)\n",
            "        # makes the turtle move right by 'degrees' degrees (NOT radians)\n",
            "    \n",
            "    pendown()\n",
            "        # lowers the pen such that following turtle moves will now cause drawings\n",
            "    \n",
            "    penup()\n",
            "        # raises the pen such that following turtle moves will not cause any drawings\n",
            "    \n",
            "    right(degrees)\n",
            "        # makes the turtle move right by 'degrees' degrees (NOT radians)\n",
            "    \n",
            "    setx(x)\n",
            "        # move the turtle to a designated 'x' x-coordinate, y-coordinate stays the same\n",
            "    \n",
            "    sety(y)\n",
            "        # move the turtle to a designated 'y' y-coordinate, x-coordinate stays the same\n",
            "    \n",
            "    showturtle()\n",
            "        # switch turtle visibility to ON\n",
            "    \n",
            "    speed(speed)\n",
            "        # update the speed of the moves, [1,10]\n",
            "    \n",
            "    width(width)\n",
            "        # change the width of the lines drawn by the turtle, in pixels\n",
            "\n",
            "DATA\n",
            "    DEFAULT_BACKGROUND_COLOR = 'black'\n",
            "    DEFAULT_IS_PEN_DOWN = True\n",
            "    DEFAULT_PEN_COLOR = 'white'\n",
            "    DEFAULT_PEN_WIDTH = 4\n",
            "    DEFAULT_SPEED = 4\n",
            "    DEFAULT_SVG_LINES_STRING = ''\n",
            "    DEFAULT_TURTLE_DEGREE = 270\n",
            "    DEFAULT_TURTLE_VISIBILITY = True\n",
            "    DEFAULT_WINDOW_SIZE = (800, 500)\n",
            "    SPEED_TO_SEC_MAP = {1: 1.5, 2: 0.9, 3: 0.7, 4: 0.5, 5: 0.3, 6: 0.18, 7...\n",
            "    SVG_TEMPLATE = '\\n      <svg width=\"{window_width}\" height=\"{wind...  ...\n",
            "    TURTLE_SVG_TEMPLATE = '\\n      <g visibility={visibility} transform=\"r...\n",
            "    VALID_COLORS = ('white', 'yellow', 'orange', 'red', 'green', 'blue', '...\n",
            "    background_color = 'black'\n",
            "    drawing_window = <DisplayHandle display_id=5b3bf46277506978edb8131fcaa...\n",
            "    is_pen_down = True\n",
            "    is_turtle_visible = True\n",
            "    pen_color = 'blue'\n",
            "    pen_width = 4\n",
            "    svg_lines_string = '<line x1=\"200.0\" y1=\"250.00000000000003\" x2=\"169.....\n",
            "    timeout = 0.02\n",
            "    turtle_degree = 324\n",
            "    turtle_pos = (590.0, 250.00000000000006)\n",
            "    window_size = (800, 500)\n",
            "\n",
            "FILE\n",
            "    /usr/local/lib/python3.6/dist-packages/ColabTurtle/Turtle.py\n",
            "\n",
            "\n"
          ],
          "name": "stdout"
        }
      ]
    },
    {
      "cell_type": "markdown",
      "metadata": {
        "id": "C_EpzylUbVWF"
      },
      "source": [
        "4. Desenhe um quadrado, usando a forma de tartaruga, ao invés da flecha, para desenhar (***caso esteja no Google Colab, não precisa mudar a forma***).\n",
        "   * mude a velocidade com que a tartaruga faz o desenho."
      ]
    },
    {
      "cell_type": "code",
      "metadata": {
        "id": "n05AMH8qbVQS"
      },
      "source": [
        "red = ColabTurtle.Turtle\n",
        "red.initializeTurtle()     \n",
        "red.color('red')        \n",
        "red.speed(4)\n",
        "\n",
        "for i in range(4):\n",
        "  red.forward(100)            \n",
        "  red.left(90)"
      ],
      "execution_count": null,
      "outputs": []
    },
    {
      "cell_type": "markdown",
      "metadata": {
        "id": "GP1THpUHbVKD"
      },
      "source": [
        "5. Sabendo que o ângulo interno da ponta de uma estrela de 5 pontas é de 36 graus, desenhe uma estrela.\n",
        "![title](https://github.com/malbouis/Python_intro/blob/master/aulas_2019/pics/estrela.png?raw=1)"
      ]
    },
    {
      "cell_type": "code",
      "metadata": {
        "id": "wOsPfbULbVDM",
        "outputId": "bbe38fcf-f377-442d-c9df-5f24357b2549",
        "colab": {
          "base_uri": "https://localhost:8080/",
          "height": 521
        }
      },
      "source": [
        "blue = ColabTurtle.Turtle\n",
        "blue.initializeTurtle()     \n",
        "blue.color('blue')        \n",
        "blue.speed(4)\n",
        "\n",
        "blue.left(18)\n",
        "for i in range(5):\n",
        "  blue.forward(100)            \n",
        "  blue.left(144)"
      ],
      "execution_count": null,
      "outputs": [
        {
          "output_type": "display_data",
          "data": {
            "text/html": [
              "\n",
              "      <svg width=\"800\" height=\"500\">\n",
              "        <rect width=\"100%\" height=\"100%\" fill=\"black\"/>\n",
              "        <line x1=\"400\" y1=\"250\" x2=\"369.09830056250524\" y2=\"154.89434837048464\" stroke-linecap=\"round\" style=\"stroke:blue;stroke-width:4\"/><line x1=\"369.09830056250524\" y1=\"154.89434837048464\" x2=\"338.1966011250105\" y2=\"250.0\" stroke-linecap=\"round\" style=\"stroke:blue;stroke-width:4\"/><line x1=\"338.1966011250105\" y1=\"250.0\" x2=\"419.0983005625052\" y2=\"191.22147477075265\" stroke-linecap=\"round\" style=\"stroke:blue;stroke-width:4\"/><line x1=\"419.0983005625052\" y1=\"191.22147477075265\" x2=\"319.0983005625052\" y2=\"191.22147477075265\" stroke-linecap=\"round\" style=\"stroke:blue;stroke-width:4\"/><line x1=\"319.0983005625052\" y1=\"191.22147477075265\" x2=\"399.99999999999994\" y2=\"249.99999999999997\" stroke-linecap=\"round\" style=\"stroke:blue;stroke-width:4\"/>\n",
              "        \n",
              "      <g visibility=visible transform=\"rotate(162,399.99999999999994,249.99999999999997) translate(399.99999999999994, 249.99999999999997)\">\n",
              "        <circle stroke=\"blue\" stroke-width=\"3\" fill=\"transparent\" r=\"12\" cx=\"0\" cy=\"0\"/>\n",
              "        <polygon points=\"0,19 3,16 -3,16\" style=\"fill:blue;stroke:blue;stroke-width:2\"/>\n",
              "      </g>\n",
              "    \n",
              "      </svg>\n",
              "    "
            ],
            "text/plain": [
              "<IPython.core.display.HTML object>"
            ]
          },
          "metadata": {
            "tags": []
          }
        }
      ]
    },
    {
      "cell_type": "markdown",
      "metadata": {
        "id": "ewt1DX6rbU6w"
      },
      "source": [
        "6. Sabendo o ângulo interno da ponta de uma estrela, desenhe quatro estrelas em uma janela, com uma certa distância entre elas. Dica: use a função penup() e pendown() do módulo ```turtle```."
      ]
    },
    {
      "cell_type": "code",
      "metadata": {
        "id": "L4L3Xn2lKU-1",
        "outputId": "e27e97fc-e111-4196-cae4-8ccc0699fcce",
        "colab": {
          "base_uri": "https://localhost:8080/",
          "height": 521
        }
      },
      "source": [
        "def comecar_esquerda(distancia):\n",
        "    blue.penup()\n",
        "    blue.left(90)\n",
        "    blue.forward(distancia)\n",
        "    blue.right(144)\n",
        "    blue.pendown()\n",
        "\n",
        "def estrela(tamanho):\n",
        "    for i in range(5):\n",
        "      blue.forward(tamanho)            \n",
        "      blue.left(144)\n",
        "\n",
        "def andar_direita(distancia):\n",
        "    blue.penup()\n",
        "    blue.right(36)\n",
        "    blue.forward(distancia)\n",
        "    blue.left(36)\n",
        "    blue.pendown()\n",
        "    \n",
        "blue = ColabTurtle.Turtle\n",
        "blue.initializeTurtle()     \n",
        "blue.color('blue')        \n",
        "blue.speed(10)\n",
        "\n",
        "comecar_esquerda(240)\n",
        "\n",
        "for i in range(4):\n",
        "    estrela(100)\n",
        "    andar_direita(120)"
      ],
      "execution_count": null,
      "outputs": [
        {
          "output_type": "display_data",
          "data": {
            "text/html": [
              "\n",
              "      <svg width=\"800\" height=\"500\">\n",
              "        <rect width=\"100%\" height=\"100%\" fill=\"black\"/>\n",
              "        <line x1=\"160.0\" y1=\"250.00000000000003\" x2=\"240.90169943749473\" y2=\"191.2214747707527\" stroke-linecap=\"round\" style=\"stroke:blue;stroke-width:4\"/><line x1=\"240.90169943749473\" y1=\"191.2214747707527\" x2=\"140.90169943749473\" y2=\"191.2214747707527\" stroke-linecap=\"round\" style=\"stroke:blue;stroke-width:4\"/><line x1=\"140.90169943749473\" y1=\"191.2214747707527\" x2=\"221.80339887498945\" y2=\"250.00000000000003\" stroke-linecap=\"round\" style=\"stroke:blue;stroke-width:4\"/><line x1=\"221.80339887498945\" y1=\"250.00000000000003\" x2=\"190.9016994374947\" y2=\"154.8943483704847\" stroke-linecap=\"round\" style=\"stroke:blue;stroke-width:4\"/><line x1=\"190.9016994374947\" y1=\"154.8943483704847\" x2=\"159.99999999999997\" y2=\"250.00000000000006\" stroke-linecap=\"round\" style=\"stroke:blue;stroke-width:4\"/><line x1=\"280.0\" y1=\"250.00000000000006\" x2=\"360.9016994374947\" y2=\"191.2214747707527\" stroke-linecap=\"round\" style=\"stroke:blue;stroke-width:4\"/><line x1=\"360.9016994374947\" y1=\"191.2214747707527\" x2=\"260.9016994374947\" y2=\"191.2214747707527\" stroke-linecap=\"round\" style=\"stroke:blue;stroke-width:4\"/><line x1=\"260.9016994374947\" y1=\"191.2214747707527\" x2=\"341.80339887498945\" y2=\"250.00000000000003\" stroke-linecap=\"round\" style=\"stroke:blue;stroke-width:4\"/><line x1=\"341.80339887498945\" y1=\"250.00000000000003\" x2=\"310.9016994374947\" y2=\"154.8943483704847\" stroke-linecap=\"round\" style=\"stroke:blue;stroke-width:4\"/><line x1=\"310.9016994374947\" y1=\"154.8943483704847\" x2=\"279.99999999999994\" y2=\"250.00000000000006\" stroke-linecap=\"round\" style=\"stroke:blue;stroke-width:4\"/><line x1=\"399.99999999999994\" y1=\"250.00000000000006\" x2=\"480.9016994374947\" y2=\"191.2214747707527\" stroke-linecap=\"round\" style=\"stroke:blue;stroke-width:4\"/><line x1=\"480.9016994374947\" y1=\"191.2214747707527\" x2=\"380.9016994374947\" y2=\"191.2214747707527\" stroke-linecap=\"round\" style=\"stroke:blue;stroke-width:4\"/><line x1=\"380.9016994374947\" y1=\"191.2214747707527\" x2=\"461.80339887498945\" y2=\"250.00000000000003\" stroke-linecap=\"round\" style=\"stroke:blue;stroke-width:4\"/><line x1=\"461.80339887498945\" y1=\"250.00000000000003\" x2=\"430.9016994374947\" y2=\"154.8943483704847\" stroke-linecap=\"round\" style=\"stroke:blue;stroke-width:4\"/><line x1=\"430.9016994374947\" y1=\"154.8943483704847\" x2=\"399.99999999999994\" y2=\"250.00000000000006\" stroke-linecap=\"round\" style=\"stroke:blue;stroke-width:4\"/><line x1=\"520.0\" y1=\"250.00000000000006\" x2=\"600.9016994374947\" y2=\"191.2214747707527\" stroke-linecap=\"round\" style=\"stroke:blue;stroke-width:4\"/><line x1=\"600.9016994374947\" y1=\"191.2214747707527\" x2=\"500.9016994374947\" y2=\"191.2214747707527\" stroke-linecap=\"round\" style=\"stroke:blue;stroke-width:4\"/><line x1=\"500.9016994374947\" y1=\"191.2214747707527\" x2=\"581.8033988749894\" y2=\"250.00000000000003\" stroke-linecap=\"round\" style=\"stroke:blue;stroke-width:4\"/><line x1=\"581.8033988749894\" y1=\"250.00000000000003\" x2=\"550.9016994374947\" y2=\"154.8943483704847\" stroke-linecap=\"round\" style=\"stroke:blue;stroke-width:4\"/><line x1=\"550.9016994374947\" y1=\"154.8943483704847\" x2=\"520.0\" y2=\"250.00000000000006\" stroke-linecap=\"round\" style=\"stroke:blue;stroke-width:4\"/>\n",
              "        \n",
              "      <g visibility=visible transform=\"rotate(234,640.0,250.00000000000006) translate(640.0, 250.00000000000006)\">\n",
              "        <circle stroke=\"blue\" stroke-width=\"3\" fill=\"transparent\" r=\"12\" cx=\"0\" cy=\"0\"/>\n",
              "        <polygon points=\"0,19 3,16 -3,16\" style=\"fill:blue;stroke:blue;stroke-width:2\"/>\n",
              "      </g>\n",
              "    \n",
              "      </svg>\n",
              "    "
            ],
            "text/plain": [
              "<IPython.core.display.HTML object>"
            ]
          },
          "metadata": {
            "tags": []
          }
        }
      ]
    },
    {
      "cell_type": "markdown",
      "metadata": {
        "id": "DZXmIVJAKyYj"
      },
      "source": [
        "## Exercícios em preparação para os próximos capítulos\n",
        "\n",
        "1. Escreva uma função chamada `square`, que toma um parâmetro `t`, que é uma `ColabTurtle`. Essa função deve usar o `ColabTurtle` para desenhar um quadrado. Escreva uma chamada de função que passe `joana` como argumento para `square` e rode o programa novamente. \n",
        "\n",
        "\n",
        "\n",
        "  \n",
        "\n",
        "\n",
        "\n",
        "\n"
      ]
    },
    {
      "cell_type": "code",
      "metadata": {
        "id": "b4nlFSfwa4Ri",
        "outputId": "ac94ad75-fd36-4610-d6e3-4c78508fc937",
        "colab": {
          "base_uri": "https://localhost:8080/"
        }
      },
      "source": [
        "def square(t):\n",
        "  for i in range(4):\n",
        "        t.forward(100)\n",
        "        t.left(90)      \n",
        "        \n",
        "\n",
        "import ColabTurtle as joana\n",
        "joana = ColabTurtle.Turtle\n",
        "joana.initializeTurtle()\n",
        "joana.speed(5)\n",
        "square(joana)"
      ],
      "execution_count": null,
      "outputs": [
        {
          "output_type": "display_data",
          "data": {
            "text/html": [
              "\n",
              "      <svg width=\"800\" height=\"500\">\n",
              "        <rect width=\"100%\" height=\"100%\" fill=\"black\"/>\n",
              "        <line x1=\"400\" y1=\"250\" x2=\"400.0\" y2=\"150.0\" stroke-linecap=\"round\" style=\"stroke:white;stroke-width:4\"/><line x1=\"400.0\" y1=\"150.0\" x2=\"300.0\" y2=\"150.0\" stroke-linecap=\"round\" style=\"stroke:white;stroke-width:4\"/><line x1=\"300.0\" y1=\"150.0\" x2=\"300.0\" y2=\"250.0\" stroke-linecap=\"round\" style=\"stroke:white;stroke-width:4\"/><line x1=\"300.0\" y1=\"250.0\" x2=\"400.0\" y2=\"250.0\" stroke-linecap=\"round\" style=\"stroke:white;stroke-width:4\"/>\n",
              "        \n",
              "      <g visibility=visible transform=\"rotate(180,400.0,250.0) translate(400.0, 250.0)\">\n",
              "        <circle stroke=\"white\" stroke-width=\"3\" fill=\"transparent\" r=\"12\" cx=\"0\" cy=\"0\"/>\n",
              "        <polygon points=\"0,19 3,16 -3,16\" style=\"fill:white;stroke:white;stroke-width:2\"/>\n",
              "      </g>\n",
              "    \n",
              "      </svg>\n",
              "    "
            ],
            "text/plain": [
              "<IPython.core.display.HTML object>"
            ]
          },
          "metadata": {
            "tags": []
          }
        }
      ]
    },
    {
      "cell_type": "markdown",
      "metadata": {
        "id": "GaK_3PYBa4Jn"
      },
      "source": [
        "2. Adicione um outro parâmetro, chamado `length`, à função `square`. Modifique o corpo da função de tal forma que o comprimento dos lados do quadrado seja `length` e então modifique a chamada da função para que seja passado o segundo argumento. Rode o programa novamente. Teste o seu programa com diversos valores para `length`."
      ]
    },
    {
      "cell_type": "code",
      "metadata": {
        "id": "4ToX5MzRa4CL",
        "outputId": "9a140949-3448-4c8c-b706-1aa9568ad9b0",
        "colab": {
          "base_uri": "https://localhost:8080/",
          "height": 521
        }
      },
      "source": [
        "def square(t, length):\n",
        "  for i in range(4):\n",
        "        t.forward(length)\n",
        "        t.left(90)      \n",
        "\n",
        "\n",
        "joana = ColabTurtle.Turtle\n",
        "joana.initializeTurtle()\n",
        "joana.speed(5)\n",
        "square(joana, 150)"
      ],
      "execution_count": null,
      "outputs": [
        {
          "output_type": "display_data",
          "data": {
            "text/html": [
              "\n",
              "      <svg width=\"800\" height=\"500\">\n",
              "        <rect width=\"100%\" height=\"100%\" fill=\"black\"/>\n",
              "        <line x1=\"400\" y1=\"250\" x2=\"400.0\" y2=\"100.0\" stroke-linecap=\"round\" style=\"stroke:white;stroke-width:4\"/><line x1=\"400.0\" y1=\"100.0\" x2=\"250.0\" y2=\"100.00000000000001\" stroke-linecap=\"round\" style=\"stroke:white;stroke-width:4\"/><line x1=\"250.0\" y1=\"100.00000000000001\" x2=\"250.0\" y2=\"250.0\" stroke-linecap=\"round\" style=\"stroke:white;stroke-width:4\"/><line x1=\"250.0\" y1=\"250.0\" x2=\"400.0\" y2=\"250.0\" stroke-linecap=\"round\" style=\"stroke:white;stroke-width:4\"/>\n",
              "        \n",
              "      <g visibility=visible transform=\"rotate(180,400.0,250.0) translate(400.0, 250.0)\">\n",
              "        <circle stroke=\"white\" stroke-width=\"3\" fill=\"transparent\" r=\"12\" cx=\"0\" cy=\"0\"/>\n",
              "        <polygon points=\"0,19 3,16 -3,16\" style=\"fill:white;stroke:white;stroke-width:2\"/>\n",
              "      </g>\n",
              "    \n",
              "      </svg>\n",
              "    "
            ],
            "text/plain": [
              "<IPython.core.display.HTML object>"
            ]
          },
          "metadata": {
            "tags": []
          }
        }
      ]
    },
    {
      "cell_type": "markdown",
      "metadata": {
        "id": "0d9K1DURa37N"
      },
      "source": [
        "3. Faça uma cópia da função `square` e mude o nome para `polygon`. Adicione um outro parâmetro chamado `n` e modifique o corpo da função para que ela desenhe um polígono regular de `n` lados. Dica: Os ângulos externos de um polígono regular de `n` lados são de `360/n` graus."
      ]
    },
    {
      "cell_type": "code",
      "metadata": {
        "id": "XrGav5F9a3yX",
        "outputId": "0c7cbb13-7261-4789-e303-d3c12f20d2d9",
        "colab": {
          "base_uri": "https://localhost:8080/"
        }
      },
      "source": [
        "def polygon(t, length, n):\n",
        "  for i in range(n):\n",
        "        t.forward(length)\n",
        "        t.left(360/n)      \n",
        "\n",
        "joana = ColabTurtle.Turtle\n",
        "joana.initializeTurtle()\n",
        "joana.speed(5)\n",
        "polygon(joana, 30, 5)"
      ],
      "execution_count": null,
      "outputs": [
        {
          "output_type": "display_data",
          "data": {
            "text/html": [
              "\n",
              "      <svg width=\"800\" height=\"500\">\n",
              "        <rect width=\"100%\" height=\"100%\" fill=\"black\"/>\n",
              "        <line x1=\"400\" y1=\"250\" x2=\"400.0\" y2=\"220.0\" stroke-linecap=\"round\" style=\"stroke:white;stroke-width:4\"/><line x1=\"400.0\" y1=\"220.0\" x2=\"371.4683045111454\" y2=\"210.72949016875157\" stroke-linecap=\"round\" style=\"stroke:white;stroke-width:4\"/><line x1=\"371.4683045111454\" y1=\"210.72949016875157\" x2=\"353.8347469423712\" y2=\"235.0\" stroke-linecap=\"round\" style=\"stroke:white;stroke-width:4\"/><line x1=\"353.8347469423712\" y1=\"235.0\" x2=\"371.46830451114545\" y2=\"259.27050983124843\" stroke-linecap=\"round\" style=\"stroke:white;stroke-width:4\"/><line x1=\"371.46830451114545\" y1=\"259.27050983124843\" x2=\"400.00000000000006\" y2=\"250.0\" stroke-linecap=\"round\" style=\"stroke:white;stroke-width:4\"/>\n",
              "        \n",
              "      <g visibility=visible transform=\"rotate(180.0,400.00000000000006,250.0) translate(400.00000000000006, 250.0)\">\n",
              "        <circle stroke=\"white\" stroke-width=\"3\" fill=\"transparent\" r=\"12\" cx=\"0\" cy=\"0\"/>\n",
              "        <polygon points=\"0,19 3,16 -3,16\" style=\"fill:white;stroke:white;stroke-width:2\"/>\n",
              "      </g>\n",
              "    \n",
              "      </svg>\n",
              "    "
            ],
            "text/plain": [
              "<IPython.core.display.HTML object>"
            ]
          },
          "metadata": {
            "tags": []
          }
        }
      ]
    },
    {
      "cell_type": "markdown",
      "metadata": {
        "id": "Yh_QHnwna3mW"
      },
      "source": [
        "4. Escreva uma função chamada `circle` que toma como argumento uma `Turtle`, `t`, e um raio, `r`, e desenha um círculo aproximado ao chamar a função `polygon` com `length` e número `n` de lados apropriados. Teste sua função com um intervalo de valores de `r`. Dica: Determine a circunferência do círculo e se certifique que `comprimento * n = circunferência`."
      ]
    },
    {
      "cell_type": "code",
      "metadata": {
        "id": "HW9pp6PHa3XR",
        "outputId": "9e3313c1-e32b-44b8-8ca4-1dc1092d0c5d",
        "colab": {
          "base_uri": "https://localhost:8080/",
          "height": 521
        }
      },
      "source": [
        "import math\n",
        "\n",
        "def polygon(t, length, n):\n",
        "  for i in range(n):\n",
        "        t.forward(length)\n",
        "        t.left(360/n) \n",
        "\n",
        "def circle(t, r): \n",
        "    circumference = 2 * math.pi * r  \n",
        "    n = 50\n",
        "    length = int(circumference / n )\n",
        "    polygon(t, length, n)\n",
        "\n",
        "joana.initializeTurtle()\n",
        "joana.speed(10)\n",
        "circle(joana, 40)"
      ],
      "execution_count": null,
      "outputs": [
        {
          "output_type": "display_data",
          "data": {
            "text/html": [
              "\n",
              "      <svg width=\"800\" height=\"500\">\n",
              "        <rect width=\"100%\" height=\"100%\" fill=\"black\"/>\n",
              "        <line x1=\"400\" y1=\"250\" x2=\"400.0\" y2=\"245.0\" stroke-linecap=\"round\" style=\"stroke:white;stroke-width:4\"/><line x1=\"400.0\" y1=\"245.0\" x2=\"399.3733338321785\" y2=\"240.0394264934276\" stroke-linecap=\"round\" style=\"stroke:white;stroke-width:4\"/><line x1=\"399.3733338321785\" y1=\"240.0394264934276\" x2=\"398.1298843963542\" y2=\"235.19651068778447\" stroke-linecap=\"round\" style=\"stroke:white;stroke-width:4\"/><line x1=\"398.1298843963542\" y1=\"235.19651068778447\" x2=\"396.28926163293085\" y2=\"230.54762825834322\" stroke-linecap=\"round\" style=\"stroke:white;stroke-width:4\"/><line x1=\"396.28926163293085\" y1=\"230.54762825834322\" x2=\"393.88049326242225\" y2=\"226.1660948581239\" stroke-linecap=\"round\" style=\"stroke:white;stroke-width:4\"/><line x1=\"393.88049326242225\" y1=\"226.1660948581239\" x2=\"390.9415670009599\" y2=\"222.12100988624917\" stroke-linecap=\"round\" style=\"stroke:white;stroke-width:4\"/><line x1=\"390.9415670009599\" y1=\"222.12100988624917\" x2=\"387.51883147131645\" y2=\"218.4761667491421\" stroke-linecap=\"round\" style=\"stroke:white;stroke-width:4\"/><line x1=\"387.51883147131645\" y1=\"218.4761667491421\" x2=\"383.6662652574375\" y2=\"215.28904680039864\" stroke-linecap=\"round\" style=\"stroke:white;stroke-width:4\"/><line x1=\"383.6662652574375\" y1=\"215.28904680039864\" x2=\"379.44462562992743\" y2=\"212.60991282550364\" stroke-linecap=\"round\" style=\"stroke:white;stroke-width:4\"/><line x1=\"379.44462562992743\" y1=\"212.60991282550364\" x2=\"374.9204903675973\" y2=\"210.48101636767828\" stroke-linecap=\"round\" style=\"stroke:white;stroke-width:4\"/><line x1=\"374.9204903675973\" y1=\"210.48101636767828\" x2=\"370.1652077861216\" y2=\"208.93593139580352\" stroke-linecap=\"round\" style=\"stroke:white;stroke-width:4\"/><line x1=\"370.1652077861216\" y1=\"208.93593139580352\" x2=\"365.25377153247814\" y2=\"207.9990248228749\" stroke-linecap=\"round\" style=\"stroke:white;stroke-width:4\"/><line x1=\"365.25377153247814\" y1=\"207.9990248228749\" x2=\"360.2636378903368\" y2=\"207.6850722252283\" stroke-linecap=\"round\" style=\"stroke:white;stroke-width:4\"/><line x1=\"360.2636378903368\" y1=\"207.6850722252283\" x2=\"355.2735042481954\" y2=\"207.99902482287487\" stroke-linecap=\"round\" style=\"stroke:white;stroke-width:4\"/><line x1=\"355.2735042481954\" y1=\"207.99902482287487\" x2=\"350.362067994552\" y2=\"208.9359313958035\" stroke-linecap=\"round\" style=\"stroke:white;stroke-width:4\"/><line x1=\"350.362067994552\" y1=\"208.9359313958035\" x2=\"345.6067854130762\" y2=\"210.48101636767822\" stroke-linecap=\"round\" style=\"stroke:white;stroke-width:4\"/><line x1=\"345.6067854130762\" y1=\"210.48101636767822\" x2=\"341.0826501507461\" y2=\"212.60991282550356\" stroke-linecap=\"round\" style=\"stroke:white;stroke-width:4\"/><line x1=\"341.0826501507461\" y1=\"212.60991282550356\" x2=\"336.861010523236\" y2=\"215.28904680039852\" stroke-linecap=\"round\" style=\"stroke:white;stroke-width:4\"/><line x1=\"336.861010523236\" y1=\"215.28904680039852\" x2=\"333.00844430935706\" y2=\"218.47616674914195\" stroke-linecap=\"round\" style=\"stroke:white;stroke-width:4\"/><line x1=\"333.00844430935706\" y1=\"218.47616674914195\" x2=\"329.5857087797136\" y2=\"222.121009886249\" stroke-linecap=\"round\" style=\"stroke:white;stroke-width:4\"/><line x1=\"329.5857087797136\" y1=\"222.121009886249\" x2=\"326.64678251825126\" y2=\"226.16609485812373\" stroke-linecap=\"round\" style=\"stroke:white;stroke-width:4\"/><line x1=\"326.64678251825126\" y1=\"226.16609485812373\" x2=\"324.23801414774266\" y2=\"230.54762825834302\" stroke-linecap=\"round\" style=\"stroke:white;stroke-width:4\"/><line x1=\"324.23801414774266\" y1=\"230.54762825834302\" x2=\"322.39739138431923\" y2=\"235.19651068778427\" stroke-linecap=\"round\" style=\"stroke:white;stroke-width:4\"/><line x1=\"322.39739138431923\" y1=\"235.19651068778427\" x2=\"321.15394194849495\" y2=\"240.0394264934274\" stroke-linecap=\"round\" style=\"stroke:white;stroke-width:4\"/><line x1=\"321.15394194849495\" y1=\"240.0394264934274\" x2=\"320.5272757806734\" y2=\"244.9999999999998\" stroke-linecap=\"round\" style=\"stroke:white;stroke-width:4\"/><line x1=\"320.5272757806734\" y1=\"244.9999999999998\" x2=\"320.5272757806734\" y2=\"249.9999999999998\" stroke-linecap=\"round\" style=\"stroke:white;stroke-width:4\"/><line x1=\"320.5272757806734\" y1=\"249.9999999999998\" x2=\"321.1539419484949\" y2=\"254.9605735065722\" stroke-linecap=\"round\" style=\"stroke:white;stroke-width:4\"/><line x1=\"321.1539419484949\" y1=\"254.9605735065722\" x2=\"322.3973913843191\" y2=\"259.80348931221533\" stroke-linecap=\"round\" style=\"stroke:white;stroke-width:4\"/><line x1=\"322.3973913843191\" y1=\"259.80348931221533\" x2=\"324.2380141477425\" y2=\"264.4523717416566\" stroke-linecap=\"round\" style=\"stroke:white;stroke-width:4\"/><line x1=\"324.2380141477425\" y1=\"264.4523717416566\" x2=\"326.64678251825103\" y2=\"268.8339051418759\" stroke-linecap=\"round\" style=\"stroke:white;stroke-width:4\"/><line x1=\"326.64678251825103\" y1=\"268.8339051418759\" x2=\"329.5857087797134\" y2=\"272.87899011375066\" stroke-linecap=\"round\" style=\"stroke:white;stroke-width:4\"/><line x1=\"329.5857087797134\" y1=\"272.87899011375066\" x2=\"333.00844430935683\" y2=\"276.5238332508577\" stroke-linecap=\"round\" style=\"stroke:white;stroke-width:4\"/><line x1=\"333.00844430935683\" y1=\"276.5238332508577\" x2=\"336.8610105232358\" y2=\"279.7109531996012\" stroke-linecap=\"round\" style=\"stroke:white;stroke-width:4\"/><line x1=\"336.8610105232358\" y1=\"279.7109531996012\" x2=\"341.08265015074585\" y2=\"282.3900871744962\" stroke-linecap=\"round\" style=\"stroke:white;stroke-width:4\"/><line x1=\"341.08265015074585\" y1=\"282.3900871744962\" x2=\"345.60678541307595\" y2=\"284.5189836323216\" stroke-linecap=\"round\" style=\"stroke:white;stroke-width:4\"/><line x1=\"345.60678541307595\" y1=\"284.5189836323216\" x2=\"350.3620679945517\" y2=\"286.06406860419634\" stroke-linecap=\"round\" style=\"stroke:white;stroke-width:4\"/><line x1=\"350.3620679945517\" y1=\"286.06406860419634\" x2=\"355.27350424819514\" y2=\"287.000975177125\" stroke-linecap=\"round\" style=\"stroke:white;stroke-width:4\"/><line x1=\"355.27350424819514\" y1=\"287.000975177125\" x2=\"360.2636378903365\" y2=\"287.31492777477155\" stroke-linecap=\"round\" style=\"stroke:white;stroke-width:4\"/><line x1=\"360.2636378903365\" y1=\"287.31492777477155\" x2=\"365.25377153247786\" y2=\"287.000975177125\" stroke-linecap=\"round\" style=\"stroke:white;stroke-width:4\"/><line x1=\"365.25377153247786\" y1=\"287.000975177125\" x2=\"370.1652077861213\" y2=\"286.0640686041964\" stroke-linecap=\"round\" style=\"stroke:white;stroke-width:4\"/><line x1=\"370.1652077861213\" y1=\"286.0640686041964\" x2=\"374.9204903675971\" y2=\"284.5189836323217\" stroke-linecap=\"round\" style=\"stroke:white;stroke-width:4\"/><line x1=\"374.9204903675971\" y1=\"284.5189836323217\" x2=\"379.4446256299272\" y2=\"282.39008717449633\" stroke-linecap=\"round\" style=\"stroke:white;stroke-width:4\"/><line x1=\"379.4446256299272\" y1=\"282.39008717449633\" x2=\"383.6662652574373\" y2=\"279.71095319960136\" stroke-linecap=\"round\" style=\"stroke:white;stroke-width:4\"/><line x1=\"383.6662652574373\" y1=\"279.71095319960136\" x2=\"387.5188314713163\" y2=\"276.52383325085793\" stroke-linecap=\"round\" style=\"stroke:white;stroke-width:4\"/><line x1=\"387.5188314713163\" y1=\"276.52383325085793\" x2=\"390.9415670009597\" y2=\"272.8789901137509\" stroke-linecap=\"round\" style=\"stroke:white;stroke-width:4\"/><line x1=\"390.9415670009597\" y1=\"272.8789901137509\" x2=\"393.8804932624221\" y2=\"268.8339051418762\" stroke-linecap=\"round\" style=\"stroke:white;stroke-width:4\"/><line x1=\"393.8804932624221\" y1=\"268.8339051418762\" x2=\"396.2892616329307\" y2=\"264.45237174165686\" stroke-linecap=\"round\" style=\"stroke:white;stroke-width:4\"/><line x1=\"396.2892616329307\" y1=\"264.45237174165686\" x2=\"398.1298843963541\" y2=\"259.8034893122156\" stroke-linecap=\"round\" style=\"stroke:white;stroke-width:4\"/><line x1=\"398.1298843963541\" y1=\"259.8034893122156\" x2=\"399.3733338321784\" y2=\"254.96057350657247\" stroke-linecap=\"round\" style=\"stroke:white;stroke-width:4\"/><line x1=\"399.3733338321784\" y1=\"254.96057350657247\" x2=\"399.99999999999994\" y2=\"250.00000000000009\" stroke-linecap=\"round\" style=\"stroke:white;stroke-width:4\"/>\n",
              "        \n",
              "      <g visibility=visible transform=\"rotate(180.00000000000034,399.99999999999994,250.00000000000009) translate(399.99999999999994, 250.00000000000009)\">\n",
              "        <circle stroke=\"white\" stroke-width=\"3\" fill=\"transparent\" r=\"12\" cx=\"0\" cy=\"0\"/>\n",
              "        <polygon points=\"0,19 3,16 -3,16\" style=\"fill:white;stroke:white;stroke-width:2\"/>\n",
              "      </g>\n",
              "    \n",
              "      </svg>\n",
              "    "
            ],
            "text/plain": [
              "<IPython.core.display.HTML object>"
            ]
          },
          "metadata": {
            "tags": []
          }
        }
      ]
    },
    {
      "cell_type": "markdown",
      "metadata": {
        "id": "PShhpxC7a3Fd"
      },
      "source": [
        "5. Faça uma versão mais geral da função `circle`, chamada `arc`, que toma um parâmetro adicional, `angle`, que determina qual a fração do circulo a ser desenhada. `angle` está em unidades de graus, logo quando `angle=360`, a função `arc` deve desenhar um cículo completo."
      ]
    },
    {
      "cell_type": "code",
      "metadata": {
        "id": "rHRvrAGKa21I",
        "outputId": "512a3317-ee7a-4dd4-c55a-75bf7518ce16",
        "colab": {
          "base_uri": "https://localhost:8080/",
          "height": 521
        }
      },
      "source": [
        "def arc(t, r, angle):\n",
        "    arc_length = 2 * math.pi * r * angle / 360\n",
        "    n = int(arc_length / 3) + 1\n",
        "    step_length = arc_length / n\n",
        "    step_angle = float(angle) / n\n",
        "    polyline(t, n, step_length, step_angle)\n",
        "\n",
        "joana.initializeTurtle()\n",
        "joana.speed(10)\n",
        "arc(joana, 40, 90)\n"
      ],
      "execution_count": null,
      "outputs": [
        {
          "output_type": "display_data",
          "data": {
            "text/html": [
              "\n",
              "      <svg width=\"800\" height=\"500\">\n",
              "        <rect width=\"100%\" height=\"100%\" fill=\"black\"/>\n",
              "        <line x1=\"400\" y1=\"250\" x2=\"400.0\" y2=\"248.0\" stroke-linecap=\"round\" style=\"stroke:white;stroke-width:4\"/><line x1=\"400.0\" y1=\"248.0\" x2=\"399.85053981282715\" y2=\"246.00559240563763\" stroke-linecap=\"round\" style=\"stroke:white;stroke-width:4\"/><line x1=\"399.85053981282715\" y1=\"246.00559240563763\" x2=\"399.5524552804748\" y2=\"244.02793075318738\" stroke-linecap=\"round\" style=\"stroke:white;stroke-width:4\"/><line x1=\"399.5524552804748\" y1=\"244.02793075318738\" x2=\"399.1074134125622\" y2=\"242.07807492882372\" stroke-linecap=\"round\" style=\"stroke:white;stroke-width:4\"/><line x1=\"399.1074134125622\" y1=\"242.07807492882372\" x2=\"398.5179030637404\" y2=\"240.16692931725143\" stroke-linecap=\"round\" style=\"stroke:white;stroke-width:4\"/><line x1=\"398.5179030637404\" y1=\"240.16692931725143\" x2=\"397.7872210150076\" y2=\"238.30518181996302\" stroke-linecap=\"round\" style=\"stroke:white;stroke-width:4\"/><line x1=\"397.7872210150076\" y1=\"238.30518181996302\" x2=\"396.9194535367725\" y2=\"236.50324408415818\" stroke-linecap=\"round\" style=\"stroke:white;stroke-width:4\"/><line x1=\"396.9194535367725\" y1=\"236.50324408415818\" x2=\"395.9194535367725\" y2=\"234.77119327658932\" stroke-linecap=\"round\" style=\"stroke:white;stroke-width:4\"/><line x1=\"395.9194535367725\" y1=\"234.77119327658932\" x2=\"394.79281342064525\" y2=\"233.11871572795732\" stroke-linecap=\"round\" style=\"stroke:white;stroke-width:4\"/><line x1=\"394.79281342064525\" y1=\"233.11871572795732\" x2=\"393.54583381692777\" y2=\"231.55505276302125\" stroke-linecap=\"round\" style=\"stroke:white;stroke-width:4\"/><line x1=\"393.54583381692777\" y1=\"231.55505276302125\" x2=\"392.1854883413859\" y2=\"230.0889490193616\" stroke-linecap=\"round\" style=\"stroke:white;stroke-width:4\"/><line x1=\"392.1854883413859\" y1=\"230.0889490193616\" x2=\"390.7193845977263\" y2=\"228.72860354381976\" stroke-linecap=\"round\" style=\"stroke:white;stroke-width:4\"/><line x1=\"390.7193845977263\" y1=\"228.72860354381976\" x2=\"389.15572163279023\" y2=\"227.48162394010228\" stroke-linecap=\"round\" style=\"stroke:white;stroke-width:4\"/><line x1=\"389.15572163279023\" y1=\"227.48162394010228\" x2=\"387.50324408415827\" y2=\"226.35498382397503\" stroke-linecap=\"round\" style=\"stroke:white;stroke-width:4\"/><line x1=\"387.50324408415827\" y1=\"226.35498382397503\" x2=\"385.7711932765894\" y2=\"225.35498382397503\" stroke-linecap=\"round\" style=\"stroke:white;stroke-width:4\"/><line x1=\"385.7711932765894\" y1=\"225.35498382397503\" x2=\"383.96925554078456\" y2=\"224.4872163457399\" stroke-linecap=\"round\" style=\"stroke:white;stroke-width:4\"/><line x1=\"383.96925554078456\" y1=\"224.4872163457399\" x2=\"382.1075080434961\" y2=\"223.7565342970071\" stroke-linecap=\"round\" style=\"stroke:white;stroke-width:4\"/><line x1=\"382.1075080434961\" y1=\"223.7565342970071\" x2=\"380.19636243192383\" y2=\"223.1670239481853\" stroke-linecap=\"round\" style=\"stroke:white;stroke-width:4\"/><line x1=\"380.19636243192383\" y1=\"223.1670239481853\" x2=\"378.2465066075602\" y2=\"222.72198208027265\" stroke-linecap=\"round\" style=\"stroke:white;stroke-width:4\"/><line x1=\"378.2465066075602\" y1=\"222.72198208027265\" x2=\"376.26884495510996\" y2=\"222.4238975479203\" stroke-linecap=\"round\" style=\"stroke:white;stroke-width:4\"/><line x1=\"376.26884495510996\" y1=\"222.4238975479203\" x2=\"374.2744373607476\" y2=\"222.27443736074744\" stroke-linecap=\"round\" style=\"stroke:white;stroke-width:4\"/>\n",
              "        \n",
              "      <g visibility=visible transform=\"rotate(90.00000000000017,374.2744373607476,222.27443736074744) translate(374.2744373607476, 222.27443736074744)\">\n",
              "        <circle stroke=\"white\" stroke-width=\"3\" fill=\"transparent\" r=\"12\" cx=\"0\" cy=\"0\"/>\n",
              "        <polygon points=\"0,19 3,16 -3,16\" style=\"fill:white;stroke:white;stroke-width:2\"/>\n",
              "      </g>\n",
              "    \n",
              "      </svg>\n",
              "    "
            ],
            "text/plain": [
              "<IPython.core.display.HTML object>"
            ]
          },
          "metadata": {
            "tags": []
          }
        }
      ]
    },
    {
      "cell_type": "markdown",
      "metadata": {
        "id": "Nrky4VThKyZS"
      },
      "source": [
        "## Exercícios - Parte 2:\n",
        "  \n",
        "1. Escreva um conjunto apropriadamente geral de funções que possam desenhar flores como na Figura abaixo:\n",
        "![flowers](https://github.com/malbouis/Python_intro/blob/master/aulas_2019/pics/flowers.png?raw=1)"
      ]
    },
    {
      "cell_type": "code",
      "metadata": {
        "id": "Y8yZaBToB_if",
        "outputId": "2884d4fa-8bcb-4d8c-d84c-eba5906909e4",
        "colab": {
          "base_uri": "https://localhost:8080/",
          "height": 521
        }
      },
      "source": [
        "import math\n",
        "\n",
        "def polyline(t, n, length, angle):\n",
        "    for i in range(n):\n",
        "        t.forward(int(length))\n",
        "        t.left(angle)\n",
        "\n",
        "def arc(t, r, ang):\n",
        "    arc_length = 2 * math.pi * r * ang / 360\n",
        "    n = int(arc_length / 3) + 1\n",
        "    step_length = arc_length / n\n",
        "    step_ang = float(ang) / n\n",
        "    polyline(t, n, step_length, step_ang)\n",
        "\n",
        "def petala(t, r, ang):\n",
        "    for i in range(2):\n",
        "        arc(t, r, ang)\n",
        "        t.left(180-ang)\n",
        "\n",
        "\n",
        "def flor(t, n, r, ang):\n",
        "    \"\"\"\n",
        "    t = tartaruga, \n",
        "    n = numero de pétalas, \n",
        "    r = raio dos arcos, \n",
        "    ang = ângulo onde termina o arco.\n",
        "    \"\"\"\n",
        "    for i in range(n):\n",
        "        petala(t, r, ang)\n",
        "        t.left(360.0/n)\n",
        "\n",
        "import ColabTurtle.Turtle as joana\n",
        "joana = ColabTurtle.Turtle\n",
        "joana.initializeTurtle()\n",
        "joana.speed(10)\n",
        "\n",
        "# (tartaruga, numero de pétalas, raio dos arcos, angulo onde termina o arco)\n",
        "flor(joana, 5, 60, 90)"
      ],
      "execution_count": 19,
      "outputs": [
        {
          "output_type": "display_data",
          "data": {
            "text/html": [
              "\n",
              "      <svg width=\"800\" height=\"500\">\n",
              "        <rect width=\"100%\" height=\"100%\" fill=\"black\"/>\n",
              "        <line x1=\"400\" y1=\"250\" x2=\"400.0\" y2=\"248.0\" stroke-linecap=\"round\" style=\"stroke:white;stroke-width:4\"/><line x1=\"400.0\" y1=\"248.0\" x2=\"399.90186465134514\" y2=\"246.00240908758965\" stroke-linecap=\"round\" style=\"stroke:white;stroke-width:4\"/><line x1=\"399.90186465134514\" y1=\"246.00240908758965\" x2=\"399.705830370686\" y2=\"244.01203963424527\" stroke-linecap=\"round\" style=\"stroke:white;stroke-width:4\"/><line x1=\"399.705830370686\" y1=\"244.01203963424527\" x2=\"399.4123694217753\" y2=\"242.0336866143157\" stroke-linecap=\"round\" style=\"stroke:white;stroke-width:4\"/><line x1=\"399.4123694217753\" y1=\"242.0336866143157\" x2=\"399.022188777743\" y2=\"240.07211605350926\" stroke-linecap=\"round\" style=\"stroke:white;stroke-width:4\"/><line x1=\"399.022188777743\" y1=\"240.07211605350926\" x2=\"398.53622841793646\" y2=\"238.13205354712017\" stroke-linecap=\"round\" style=\"stroke:white;stroke-width:4\"/><line x1=\"398.53622841793646\" y1=\"238.13205354712017\" x2=\"397.9556590634275\" y2=\"236.21817287565574\" stroke-linecap=\"round\" style=\"stroke:white;stroke-width:4\"/><line x1=\"397.9556590634275\" y1=\"236.21817287565574\" x2=\"397.28187935664306\" y2=\"234.3350847452897\" stroke-linecap=\"round\" style=\"stroke:white;stroke-width:4\"/><line x1=\"397.28187935664306\" y1=\"234.3350847452897\" x2=\"396.51651249191286\" y2=\"232.4873256802671\" stroke-linecap=\"round\" style=\"stroke:white;stroke-width:4\"/><line x1=\"396.51651249191286\" y1=\"232.4873256802671\" x2=\"395.6614023050523\" y2=\"230.67934709402022\" stroke-linecap=\"round\" style=\"stroke:white;stroke-width:4\"/><line x1=\"395.6614023050523\" y1=\"230.67934709402022\" x2=\"394.71860883140033\" y2=\"228.91550456532352\" stroke-linecap=\"round\" style=\"stroke:white;stroke-width:4\"/><line x1=\"394.71860883140033\" y1=\"228.91550456532352\" x2=\"393.6904033430139\" y2=\"227.200047345323\" stroke-linecap=\"round\" style=\"stroke:white;stroke-width:4\"/><line x1=\"393.6904033430139\" y1=\"227.200047345323\" x2=\"392.57926287697467\" y2=\"225.5371081207179\" stroke-linecap=\"round\" style=\"stroke:white;stroke-width:4\"/><line x1=\"392.57926287697467\" y1=\"225.5371081207179\" x2=\"391.3878642679898\" y2=\"223.9306930577566\" stroke-linecap=\"round\" style=\"stroke:white;stroke-width:4\"/><line x1=\"391.3878642679898\" y1=\"223.9306930577566\" x2=\"390.1190776996625\" y2=\"222.38467215103114\" stroke-linecap=\"round\" style=\"stroke:white;stroke-width:4\"/><line x1=\"390.1190776996625\" y1=\"222.38467215103114\" x2=\"388.77595978996845\" y2=\"220.90276990032123\" stroke-linecap=\"round\" style=\"stroke:white;stroke-width:4\"/><line x1=\"388.77595978996845\" y1=\"220.90276990032123\" x2=\"387.36174622759535\" y2=\"219.48855633794813\" stroke-linecap=\"round\" style=\"stroke:white;stroke-width:4\"/><line x1=\"387.36174622759535\" y1=\"219.48855633794813\" x2=\"385.8798439768854\" y2=\"218.1454384282541\" stroke-linecap=\"round\" style=\"stroke:white;stroke-width:4\"/><line x1=\"385.8798439768854\" y1=\"218.1454384282541\" x2=\"384.33382307015995\" y2=\"216.8766518599268\" stroke-linecap=\"round\" style=\"stroke:white;stroke-width:4\"/><line x1=\"384.33382307015995\" y1=\"216.8766518599268\" x2=\"382.7274080071987\" y2=\"215.68525325094194\" stroke-linecap=\"round\" style=\"stroke:white;stroke-width:4\"/><line x1=\"382.7274080071987\" y1=\"215.68525325094194\" x2=\"381.06446878259356\" y2=\"214.57411278490272\" stroke-linecap=\"round\" style=\"stroke:white;stroke-width:4\"/><line x1=\"381.06446878259356\" y1=\"214.57411278490272\" x2=\"379.34901156259303\" y2=\"213.54590729651628\" stroke-linecap=\"round\" style=\"stroke:white;stroke-width:4\"/><line x1=\"379.34901156259303\" y1=\"213.54590729651628\" x2=\"377.5851690338963\" y2=\"212.6031138228643\" stroke-linecap=\"round\" style=\"stroke:white;stroke-width:4\"/><line x1=\"377.5851690338963\" y1=\"212.6031138228643\" x2=\"375.77719044764945\" y2=\"211.74800363600372\" stroke-linecap=\"round\" style=\"stroke:white;stroke-width:4\"/><line x1=\"375.77719044764945\" y1=\"211.74800363600372\" x2=\"373.9294313826269\" y2=\"210.98263677127355\" stroke-linecap=\"round\" style=\"stroke:white;stroke-width:4\"/><line x1=\"373.9294313826269\" y1=\"210.98263677127355\" x2=\"372.04634325226084\" y2=\"210.3088570644891\" stroke-linecap=\"round\" style=\"stroke:white;stroke-width:4\"/><line x1=\"372.04634325226084\" y1=\"210.3088570644891\" x2=\"370.1324625807964\" y2=\"209.72828770998018\" stroke-linecap=\"round\" style=\"stroke:white;stroke-width:4\"/><line x1=\"370.1324625807964\" y1=\"209.72828770998018\" x2=\"368.1924000744073\" y2=\"209.24232735017364\" stroke-linecap=\"round\" style=\"stroke:white;stroke-width:4\"/><line x1=\"368.1924000744073\" y1=\"209.24232735017364\" x2=\"366.23082951360084\" y2=\"208.85214670614138\" stroke-linecap=\"round\" style=\"stroke:white;stroke-width:4\"/><line x1=\"366.23082951360084\" y1=\"208.85214670614138\" x2=\"364.2524764936713\" y2=\"208.55868575723065\" stroke-linecap=\"round\" style=\"stroke:white;stroke-width:4\"/><line x1=\"364.2524764936713\" y1=\"208.55868575723065\" x2=\"362.2621070403269\" y2=\"208.36265147657153\" stroke-linecap=\"round\" style=\"stroke:white;stroke-width:4\"/><line x1=\"362.2621070403269\" y1=\"208.36265147657153\" x2=\"360.2645161279166\" y2=\"208.2645161279167\" stroke-linecap=\"round\" style=\"stroke:white;stroke-width:4\"/><line x1=\"360.2645161279166\" y1=\"208.2645161279167\" x2=\"360.2645161279166\" y2=\"210.2645161279167\" stroke-linecap=\"round\" style=\"stroke:white;stroke-width:4\"/><line x1=\"360.2645161279166\" y1=\"210.2645161279167\" x2=\"360.36265147657144\" y2=\"212.26210704032704\" stroke-linecap=\"round\" style=\"stroke:white;stroke-width:4\"/><line x1=\"360.36265147657144\" y1=\"212.26210704032704\" x2=\"360.5586857572306\" y2=\"214.25247649367142\" stroke-linecap=\"round\" style=\"stroke:white;stroke-width:4\"/><line x1=\"360.5586857572306\" y1=\"214.25247649367142\" x2=\"360.8521467061413\" y2=\"216.23082951360098\" stroke-linecap=\"round\" style=\"stroke:white;stroke-width:4\"/><line x1=\"360.8521467061413\" y1=\"216.23082951360098\" x2=\"361.2423273501736\" y2=\"218.19240007440743\" stroke-linecap=\"round\" style=\"stroke:white;stroke-width:4\"/><line x1=\"361.2423273501736\" y1=\"218.19240007440743\" x2=\"361.7282877099801\" y2=\"220.13246258079653\" stroke-linecap=\"round\" style=\"stroke:white;stroke-width:4\"/><line x1=\"361.7282877099801\" y1=\"220.13246258079653\" x2=\"362.3088570644891\" y2=\"222.04634325226095\" stroke-linecap=\"round\" style=\"stroke:white;stroke-width:4\"/><line x1=\"362.3088570644891\" y1=\"222.04634325226095\" x2=\"362.9826367712735\" y2=\"223.929431382627\" stroke-linecap=\"round\" style=\"stroke:white;stroke-width:4\"/><line x1=\"362.9826367712735\" y1=\"223.929431382627\" x2=\"363.7480036360037\" y2=\"225.7771904476496\" stroke-linecap=\"round\" style=\"stroke:white;stroke-width:4\"/><line x1=\"363.7480036360037\" y1=\"225.7771904476496\" x2=\"364.60311382286426\" y2=\"227.58516903389648\" stroke-linecap=\"round\" style=\"stroke:white;stroke-width:4\"/><line x1=\"364.60311382286426\" y1=\"227.58516903389648\" x2=\"365.54590729651625\" y2=\"229.34901156259318\" stroke-linecap=\"round\" style=\"stroke:white;stroke-width:4\"/><line x1=\"365.54590729651625\" y1=\"229.34901156259318\" x2=\"366.5741127849027\" y2=\"231.0644687825937\" stroke-linecap=\"round\" style=\"stroke:white;stroke-width:4\"/><line x1=\"366.5741127849027\" y1=\"231.0644687825937\" x2=\"367.6852532509419\" y2=\"232.7274080071988\" stroke-linecap=\"round\" style=\"stroke:white;stroke-width:4\"/><line x1=\"367.6852532509419\" y1=\"232.7274080071988\" x2=\"368.87665185992677\" y2=\"234.3338230701601\" stroke-linecap=\"round\" style=\"stroke:white;stroke-width:4\"/><line x1=\"368.87665185992677\" y1=\"234.3338230701601\" x2=\"370.14543842825407\" y2=\"235.87984397688558\" stroke-linecap=\"round\" style=\"stroke:white;stroke-width:4\"/><line x1=\"370.14543842825407\" y1=\"235.87984397688558\" x2=\"371.4885563379481\" y2=\"237.3617462275955\" stroke-linecap=\"round\" style=\"stroke:white;stroke-width:4\"/><line x1=\"371.4885563379481\" y1=\"237.3617462275955\" x2=\"372.90276990032123\" y2=\"238.7759597899686\" stroke-linecap=\"round\" style=\"stroke:white;stroke-width:4\"/><line x1=\"372.90276990032123\" y1=\"238.7759597899686\" x2=\"374.38467215103117\" y2=\"240.11907769966263\" stroke-linecap=\"round\" style=\"stroke:white;stroke-width:4\"/><line x1=\"374.38467215103117\" y1=\"240.11907769966263\" x2=\"375.9306930577566\" y2=\"241.38786426798993\" stroke-linecap=\"round\" style=\"stroke:white;stroke-width:4\"/><line x1=\"375.9306930577566\" y1=\"241.38786426798993\" x2=\"377.5371081207179\" y2=\"242.57926287697478\" stroke-linecap=\"round\" style=\"stroke:white;stroke-width:4\"/><line x1=\"377.5371081207179\" y1=\"242.57926287697478\" x2=\"379.200047345323\" y2=\"243.690403343014\" stroke-linecap=\"round\" style=\"stroke:white;stroke-width:4\"/><line x1=\"379.200047345323\" y1=\"243.690403343014\" x2=\"380.91550456532354\" y2=\"244.71860883140045\" stroke-linecap=\"round\" style=\"stroke:white;stroke-width:4\"/><line x1=\"380.91550456532354\" y1=\"244.71860883140045\" x2=\"382.6793470940203\" y2=\"245.66140230505243\" stroke-linecap=\"round\" style=\"stroke:white;stroke-width:4\"/><line x1=\"382.6793470940203\" y1=\"245.66140230505243\" x2=\"384.48732568026713\" y2=\"246.516512491913\" stroke-linecap=\"round\" style=\"stroke:white;stroke-width:4\"/><line x1=\"384.48732568026713\" y1=\"246.516512491913\" x2=\"386.3350847452897\" y2=\"247.28187935664317\" stroke-linecap=\"round\" style=\"stroke:white;stroke-width:4\"/><line x1=\"386.3350847452897\" y1=\"247.28187935664317\" x2=\"388.21817287565574\" y2=\"247.95565906342762\" stroke-linecap=\"round\" style=\"stroke:white;stroke-width:4\"/><line x1=\"388.21817287565574\" y1=\"247.95565906342762\" x2=\"390.13205354712017\" y2=\"248.53622841793654\" stroke-linecap=\"round\" style=\"stroke:white;stroke-width:4\"/><line x1=\"390.13205354712017\" y1=\"248.53622841793654\" x2=\"392.07211605350926\" y2=\"249.02218877774308\" stroke-linecap=\"round\" style=\"stroke:white;stroke-width:4\"/><line x1=\"392.07211605350926\" y1=\"249.02218877774308\" x2=\"394.03368661431574\" y2=\"249.41236942177534\" stroke-linecap=\"round\" style=\"stroke:white;stroke-width:4\"/><line x1=\"394.03368661431574\" y1=\"249.41236942177534\" x2=\"396.0120396342453\" y2=\"249.70583037068607\" stroke-linecap=\"round\" style=\"stroke:white;stroke-width:4\"/><line x1=\"396.0120396342453\" y1=\"249.70583037068607\" x2=\"398.0024090875897\" y2=\"249.9018646513452\" stroke-linecap=\"round\" style=\"stroke:white;stroke-width:4\"/><line x1=\"398.0024090875897\" y1=\"249.9018646513452\" x2=\"400.0\" y2=\"250.00000000000003\" stroke-linecap=\"round\" style=\"stroke:white;stroke-width:4\"/><line x1=\"400.0\" y1=\"250.00000000000003\" x2=\"398.0978869674097\" y2=\"249.38196601125014\" stroke-linecap=\"round\" style=\"stroke:white;stroke-width:4\"/><line x1=\"398.0978869674097\" y1=\"249.38196601125014\" x2=\"396.1677396227866\" y2=\"248.85800873432348\" stroke-linecap=\"round\" style=\"stroke:white;stroke-width:4\"/><line x1=\"396.1677396227866\" y1=\"248.85800873432348\" x2=\"394.2142078601449\" y2=\"248.4293904281934\" stroke-linecap=\"round\" style=\"stroke:white;stroke-width:4\"/><line x1=\"394.2142078601449\" y1=\"248.4293904281934\" x2=\"392.24199790860985\" y2=\"248.09714367190185\" stroke-linecap=\"round\" style=\"stroke:white;stroke-width:4\"/><line x1=\"392.24199790860985\" y1=\"248.09714367190185\" x2=\"390.2558609947\" y2=\"247.86206887698617\" stroke-linecap=\"round\" style=\"stroke:white;stroke-width:4\"/><line x1=\"390.2558609947\" y1=\"247.86206887698617\" x2=\"388.26058189620596\" y2=\"247.72473235921743\" stroke-linecap=\"round\" style=\"stroke:white;stroke-width:4\"/><line x1=\"388.26058189620596\" y1=\"247.72473235921743\" x2=\"386.26096741524185\" y2=\"247.68546497429617\" stroke-linecap=\"round\" style=\"stroke:white;stroke-width:4\"/><line x1=\"386.26096741524185\" y1=\"247.68546497429617\" x2=\"384.2618347982378\" y2=\"247.74436132079208\" stroke-linecap=\"round\" style=\"stroke:white;stroke-width:4\"/><line x1=\"384.2618347982378\" y1=\"247.74436132079208\" x2=\"382.26800013077155\" y2=\"247.90127951224778\" stroke-linecap=\"round\" style=\"stroke:white;stroke-width:4\"/><line x1=\"382.26800013077155\" y1=\"247.90127951224778\" x2=\"380.2842667351963\" y2=\"248.1558415189956\" stroke-linecap=\"round\" style=\"stroke:white;stroke-width:4\"/><line x1=\"380.2842667351963\" y1=\"248.1558415189956\" x2=\"378.3154135990165\" y2=\"248.50743407886432\" stroke-linecap=\"round\" style=\"stroke:white;stroke-width:4\"/><line x1=\"378.3154135990165\" y1=\"248.50743407886432\" x2=\"376.36618386188843\" y2=\"248.9552101745813\" stroke-linecap=\"round\" style=\"stroke:white;stroke-width:4\"/><line x1=\"376.36618386188843\" y1=\"248.9552101745813\" x2=\"374.44127338898113\" y2=\"249.49809107431145\" stroke-linecap=\"round\" style=\"stroke:white;stroke-width:4\"/><line x1=\"374.44127338898113\" y1=\"249.49809107431145\" x2=\"372.5453194582261\" y2=\"250.13476893041656\" stroke-linecap=\"round\" style=\"stroke:white;stroke-width:4\"/><line x1=\"372.5453194582261\" y1=\"250.13476893041656\" x2=\"370.6828895887085\" y2=\"250.86370993017485\" stroke-linecap=\"round\" style=\"stroke:white;stroke-width:4\"/><line x1=\"370.6828895887085\" y1=\"250.86370993017485\" x2=\"368.8584705371136\" y2=\"251.68315799087023\" stroke-linecap=\"round\" style=\"stroke:white;stroke-width:4\"/><line x1=\"368.8584705371136\" y1=\"251.68315799087023\" x2=\"367.0764574887369\" y2=\"252.59113899034932\" stroke-linecap=\"round\" style=\"stroke:white;stroke-width:4\"/><line x1=\"367.0764574887369\" y1=\"252.59113899034932\" x2=\"365.3411434690978\" y2=\"253.58546552285463\" stroke-linecap=\"round\" style=\"stroke:white;stroke-width:4\"/><line x1=\"365.3411434690978\" y1=\"253.58546552285463\" x2=\"363.6567090016652\" y2=\"254.66374216867663\" stroke-linecap=\"round\" style=\"stroke:white;stroke-width:4\"/><line x1=\"363.6567090016652\" y1=\"254.66374216867663\" x2=\"362.02721203661025\" y2=\"255.82337126492965\" stroke-linecap=\"round\" style=\"stroke:white;stroke-width:4\"/><line x1=\"362.02721203661025\" y1=\"255.82337126492965\" x2=\"360.45657817484874\" y2=\"257.0615591635493\" stroke-linecap=\"round\" style=\"stroke:white;stroke-width:4\"/><line x1=\"360.45657817484874\" y1=\"257.0615591635493\" x2=\"358.94859121092503\" y2=\"258.3753229614354\" stroke-linecap=\"round\" style=\"stroke:white;stroke-width:4\"/><line x1=\"358.94859121092503\" y1=\"258.3753229614354\" x2=\"357.5068840175192\" y2=\"259.7614976865267\" stroke-linecap=\"round\" style=\"stroke:white;stroke-width:4\"/><line x1=\"357.5068840175192\" y1=\"259.7614976865267\" x2=\"356.13492979353884\" y2=\"261.2167439224958\" stroke-linecap=\"round\" style=\"stroke:white;stroke-width:4\"/><line x1=\"356.13492979353884\" y1=\"261.2167439224958\" x2=\"354.8360336968785\" y2=\"262.7375558536959\" stroke-linecap=\"round\" style=\"stroke:white;stroke-width:4\"/><line x1=\"354.8360336968785\" y1=\"262.7375558536959\" x2=\"353.61332488200486\" y2=\"264.3202697109772\" stroke-linecap=\"round\" style=\"stroke:white;stroke-width:4\"/><line x1=\"353.61332488200486\" y1=\"264.3202697109772\" x2=\"352.4697489615496\" y2=\"265.96107259802824\" stroke-linecap=\"round\" style=\"stroke:white;stroke-width:4\"/><line x1=\"352.4697489615496\" y1=\"265.96107259802824\" x2=\"351.4080609100706\" y2=\"267.65601167697673\" stroke-linecap=\"round\" style=\"stroke:white;stroke-width:4\"/><line x1=\"351.4080609100706\" y1=\"267.65601167697673\" x2=\"350.4308184270767\" y2=\"269.4010036911223\" stroke-linecap=\"round\" style=\"stroke:white;stroke-width:4\"/><line x1=\"350.4308184270767\" y1=\"269.4010036911223\" x2=\"349.5403757753058\" y2=\"271.1918448018597\" stroke-linecap=\"round\" style=\"stroke:white;stroke-width:4\"/><line x1=\"349.5403757753058\" y1=\"271.1918448018597\" x2=\"348.7388781090995\" y2=\"273.02422071609396\" stroke-linecap=\"round\" style=\"stroke:white;stroke-width:4\"/><line x1=\"348.7388781090995\" y1=\"273.02422071609396\" x2=\"348.0282563065387\" y2=\"274.89371707975056\" stroke-linecap=\"round\" style=\"stroke:white;stroke-width:4\"/><line x1=\"348.0282563065387\" y1=\"274.89371707975056\" x2=\"349.930369339129\" y2=\"275.5117510685005\" stroke-linecap=\"round\" style=\"stroke:white;stroke-width:4\"/><line x1=\"349.930369339129\" y1=\"275.5117510685005\" x2=\"351.8605166837521\" y2=\"276.03570834542717\" stroke-linecap=\"round\" style=\"stroke:white;stroke-width:4\"/><line x1=\"351.8605166837521\" y1=\"276.03570834542717\" x2=\"353.8140484463938\" y2=\"276.46432665155726\" stroke-linecap=\"round\" style=\"stroke:white;stroke-width:4\"/><line x1=\"353.8140484463938\" y1=\"276.46432665155726\" x2=\"355.78625839792886\" y2=\"276.79657340784877\" stroke-linecap=\"round\" style=\"stroke:white;stroke-width:4\"/><line x1=\"355.78625839792886\" y1=\"276.79657340784877\" x2=\"357.7723953118387\" y2=\"277.0316482027644\" stroke-linecap=\"round\" style=\"stroke:white;stroke-width:4\"/><line x1=\"357.7723953118387\" y1=\"277.0316482027644\" x2=\"359.76767441033275\" y2=\"277.16898472053316\" stroke-linecap=\"round\" style=\"stroke:white;stroke-width:4\"/><line x1=\"359.76767441033275\" y1=\"277.16898472053316\" x2=\"361.76728889129686\" y2=\"277.2082521054544\" stroke-linecap=\"round\" style=\"stroke:white;stroke-width:4\"/><line x1=\"361.76728889129686\" y1=\"277.2082521054544\" x2=\"363.7664215083009\" y2=\"277.14935575895845\" stroke-linecap=\"round\" style=\"stroke:white;stroke-width:4\"/><line x1=\"363.7664215083009\" y1=\"277.14935575895845\" x2=\"365.76025617576715\" y2=\"276.99243756750275\" stroke-linecap=\"round\" style=\"stroke:white;stroke-width:4\"/><line x1=\"365.76025617576715\" y1=\"276.99243756750275\" x2=\"367.7439895713424\" y2=\"276.7378755607549\" stroke-linecap=\"round\" style=\"stroke:white;stroke-width:4\"/><line x1=\"367.7439895713424\" y1=\"276.7378755607549\" x2=\"369.7128427075222\" y2=\"276.3862830008862\" stroke-linecap=\"round\" style=\"stroke:white;stroke-width:4\"/><line x1=\"369.7128427075222\" y1=\"276.3862830008862\" x2=\"371.6620724446503\" y2=\"275.93850690516916\" stroke-linecap=\"round\" style=\"stroke:white;stroke-width:4\"/><line x1=\"371.6620724446503\" y1=\"275.93850690516916\" x2=\"373.5869829175576\" y2=\"275.395626005439\" stroke-linecap=\"round\" style=\"stroke:white;stroke-width:4\"/><line x1=\"373.5869829175576\" y1=\"275.395626005439\" x2=\"375.4829368483126\" y2=\"274.7589481493339\" stroke-linecap=\"round\" style=\"stroke:white;stroke-width:4\"/><line x1=\"375.4829368483126\" y1=\"274.7589481493339\" x2=\"377.3453667178302\" y2=\"274.03000714957557\" stroke-linecap=\"round\" style=\"stroke:white;stroke-width:4\"/><line x1=\"377.3453667178302\" y1=\"274.03000714957557\" x2=\"379.1697857694251\" y2=\"273.2105590888802\" stroke-linecap=\"round\" style=\"stroke:white;stroke-width:4\"/><line x1=\"379.1697857694251\" y1=\"273.2105590888802\" x2=\"380.95179881780183\" y2=\"272.3025780894011\" stroke-linecap=\"round\" style=\"stroke:white;stroke-width:4\"/><line x1=\"380.95179881780183\" y1=\"272.3025780894011\" x2=\"382.6871128374409\" y2=\"271.3082515568958\" stroke-linecap=\"round\" style=\"stroke:white;stroke-width:4\"/><line x1=\"382.6871128374409\" y1=\"271.3082515568958\" x2=\"384.3715473048735\" y2=\"270.22997491107384\" stroke-linecap=\"round\" style=\"stroke:white;stroke-width:4\"/><line x1=\"384.3715473048735\" y1=\"270.22997491107384\" x2=\"386.00104426992846\" y2=\"269.0703458148208\" stroke-linecap=\"round\" style=\"stroke:white;stroke-width:4\"/><line x1=\"386.00104426992846\" y1=\"269.0703458148208\" x2=\"387.57167813168996\" y2=\"267.83215791620114\" stroke-linecap=\"round\" style=\"stroke:white;stroke-width:4\"/><line x1=\"387.57167813168996\" y1=\"267.83215791620114\" x2=\"389.0796650956137\" y2=\"266.51839411831503\" stroke-linecap=\"round\" style=\"stroke:white;stroke-width:4\"/><line x1=\"389.0796650956137\" y1=\"266.51839411831503\" x2=\"390.5213722890195\" y2=\"265.13221939322375\" stroke-linecap=\"round\" style=\"stroke:white;stroke-width:4\"/><line x1=\"390.5213722890195\" y1=\"265.13221939322375\" x2=\"391.89332651299986\" y2=\"263.6769731572546\" stroke-linecap=\"round\" style=\"stroke:white;stroke-width:4\"/><line x1=\"391.89332651299986\" y1=\"263.6769731572546\" x2=\"393.19222260966023\" y2=\"262.15616122605456\" stroke-linecap=\"round\" style=\"stroke:white;stroke-width:4\"/><line x1=\"393.19222260966023\" y1=\"262.15616122605456\" x2=\"394.41493142453385\" y2=\"260.57344736877326\" stroke-linecap=\"round\" style=\"stroke:white;stroke-width:4\"/><line x1=\"394.41493142453385\" y1=\"260.57344736877326\" x2=\"395.5585073449891\" y2=\"258.9326444817222\" stroke-linecap=\"round\" style=\"stroke:white;stroke-width:4\"/><line x1=\"395.5585073449891\" y1=\"258.9326444817222\" x2=\"396.6201953964681\" y2=\"257.2377054027737\" stroke-linecap=\"round\" style=\"stroke:white;stroke-width:4\"/><line x1=\"396.6201953964681\" y1=\"257.2377054027737\" x2=\"397.597437879462\" y2=\"255.49271338862812\" stroke-linecap=\"round\" style=\"stroke:white;stroke-width:4\"/><line x1=\"397.597437879462\" y1=\"255.49271338862812\" x2=\"398.4878805312329\" y2=\"253.70187227789071\" stroke-linecap=\"round\" style=\"stroke:white;stroke-width:4\"/><line x1=\"398.4878805312329\" y1=\"253.70187227789071\" x2=\"399.2893781974392\" y2=\"251.86949636365645\" stroke-linecap=\"round\" style=\"stroke:white;stroke-width:4\"/><line x1=\"399.2893781974392\" y1=\"251.86949636365645\" x2=\"400.0\" y2=\"249.99999999999986\" stroke-linecap=\"round\" style=\"stroke:white;stroke-width:4\"/><line x1=\"400.0\" y1=\"249.99999999999986\" x2=\"398.8244294954151\" y2=\"251.61803398874974\" stroke-linecap=\"round\" style=\"stroke:white;stroke-width:4\"/><line x1=\"398.8244294954151\" y1=\"251.61803398874974\" x2=\"397.7296681817975\" y2=\"253.29180149536657\" stroke-linecap=\"round\" style=\"stroke:white;stroke-width:4\"/><line x1=\"397.7296681817975\" y1=\"253.29180149536657\" x2=\"396.71835343504154\" y2=\"255.01727026732215\" stroke-linecap=\"round\" style=\"stroke:white;stroke-width:4\"/><line x1=\"396.71835343504154\" y1=\"255.01727026732215\" x2=\"395.7929216009528\" y2=\"256.7902834992116\" stroke-linecap=\"round\" style=\"stroke:white;stroke-width:4\"/><line x1=\"395.7929216009528\" y1=\"256.7902834992116\" x2=\"394.95560212587793\" y2=\"258.60656984686176\" stroke-linecap=\"round\" style=\"stroke:white;stroke-width:4\"/><line x1=\"394.95560212587793\" y1=\"258.60656984686176\" x2=\"394.2084121857729\" y2=\"260.4617537173732\" stroke-linecap=\"round\" style=\"stroke:white;stroke-width:4\"/><line x1=\"394.2084121857729\" y1=\"260.4617537173732\" x2=\"393.5531518266495\" y2=\"262.35136581030696\" stroke-linecap=\"round\" style=\"stroke:white;stroke-width:4\"/><line x1=\"393.5531518266495\" y1=\"262.35136581030696\" x2=\"392.99139962810693\" y2=\"264.2708538846207\" stroke-linecap=\"round\" style=\"stroke:white;stroke-width:4\"/><line x1=\"392.99139962810693\" y1=\"264.2708538846207\" x2=\"392.5245089003951\" y2=\"266.21559372541606\" stroke-linecap=\"round\" style=\"stroke:white;stroke-width:4\"/><line x1=\"392.5245089003951\" y1=\"266.21559372541606\" x2=\"392.15360442417193\" y2=\"268.1809002840775\" stroke-linecap=\"round\" style=\"stroke:white;stroke-width:4\"/><line x1=\"392.15360442417193\" y1=\"268.1809002840775\" x2=\"391.87957974080797\" y2=\"270.16203896496467\" stroke-linecap=\"round\" style=\"stroke:white;stroke-width:4\"/><line x1=\"391.87957974080797\" y1=\"270.16203896496467\" x2=\"391.70309499976725\" y2=\"272.154237031468\" stroke-linecap=\"round\" style=\"stroke:white;stroke-width:4\"/><line x1=\"391.70309499976725\" y1=\"272.154237031468\" x2=\"391.6245753682491\" y2=\"274.1526951039495\" stroke-linecap=\"round\" style=\"stroke:white;stroke-width:4\"/><line x1=\"391.6245753682491\" y1=\"274.1526951039495\" x2=\"391.6442100069234\" y2=\"276.1525987218682\" stroke-linecap=\"round\" style=\"stroke:white;stroke-width:4\"/><line x1=\"391.6442100069234\" y1=\"276.1525987218682\" x2=\"391.7619516142258\" y2=\"278.1491299422376\" stroke-linecap=\"round\" style=\"stroke:white;stroke-width:4\"/><line x1=\"391.7619516142258\" y1=\"278.1491299422376\" x2=\"391.9775165403113\" y2=\"280.13747894647247\" stroke-linecap=\"round\" style=\"stroke:white;stroke-width:4\"/><line x1=\"391.9775165403113\" y1=\"280.13747894647247\" x2=\"392.29038547039175\" y2=\"282.1128556276627\" stroke-linecap=\"round\" style=\"stroke:white;stroke-width:4\"/><line x1=\"392.29038547039175\" y1=\"282.1128556276627\" x2=\"392.6998046758105\" y2=\"284.07050113036087\" stroke-linecap=\"round\" style=\"stroke:white;stroke-width:4\"/><line x1=\"392.6998046758105\" y1=\"284.07050113036087\" x2=\"393.2047878298408\" y2=\"286.0056993150814\" stroke-linecap=\"round\" style=\"stroke:white;stroke-width:4\"/><line x1=\"393.2047878298408\" y1=\"286.0056993150814\" x2=\"393.8041183838333\" y2=\"287.913788119894\" stroke-linecap=\"round\" style=\"stroke:white;stroke-width:4\"/><line x1=\"393.8041183838333\" y1=\"287.913788119894\" x2=\"394.4963524979883\" y2=\"289.79017079173894\" stroke-linecap=\"round\" style=\"stroke:white;stroke-width:4\"/><line x1=\"394.4963524979883\" y1=\"289.79017079173894\" x2=\"395.27982251969223\" y2=\"291.6303269604081\" stroke-linecap=\"round\" style=\"stroke:white;stroke-width:4\"/><line x1=\"395.27982251969223\" y1=\"291.6303269604081\" x2=\"396.15264100103894\" y2=\"293.42982352851254\" stroke-linecap=\"round\" style=\"stroke:white;stroke-width:4\"/><line x1=\"396.15264100103894\" y1=\"293.42982352851254\" x2=\"397.11270524585694\" y2=\"295.1843253512024\" stroke-linecap=\"round\" style=\"stroke:white;stroke-width:4\"/><line x1=\"397.11270524585694\" y1=\"295.1843253512024\" x2=\"398.15770237528886\" y2=\"296.8896056799106\" stroke-linecap=\"round\" style=\"stroke:white;stroke-width:4\"/><line x1=\"398.15770237528886\" y1=\"296.8896056799106\" x2=\"399.2851148997189\" y2=\"298.5415563449603\" stroke-linecap=\"round\" style=\"stroke:white;stroke-width:4\"/><line x1=\"399.2851148997189\" y1=\"298.5415563449603\" x2=\"400.49222678362605\" y2=\"300.13619765250576\" stroke-linecap=\"round\" style=\"stroke:white;stroke-width:4\"/><line x1=\"400.49222678362605\" y1=\"300.13619765250576\" x2=\"401.77612998875145\" y2=\"301.6696879719629\" stroke-linecap=\"round\" style=\"stroke:white;stroke-width:4\"/><line x1=\"401.77612998875145\" y1=\"301.6696879719629\" x2=\"403.13373147981736\" y2=\"303.1383329908343\" stroke-linecap=\"round\" style=\"stroke:white;stroke-width:4\"/><line x1=\"403.13373147981736\" y1=\"303.1383329908343\" x2=\"404.5617606759199\" y2=\"304.53859461463134\" stroke-linecap=\"round\" style=\"stroke:white;stroke-width:4\"/><line x1=\"404.5617606759199\" y1=\"304.53859461463134\" x2=\"406.0567773296451\" y2=\"305.8670994904539\" stroke-linecap=\"round\" style=\"stroke:white;stroke-width:4\"/><line x1=\"406.0567773296451\" y1=\"305.8670994904539\" x2=\"407.61517981492614\" y2=\"307.12064713369284\" stroke-linecap=\"round\" style=\"stroke:white;stroke-width:4\"/><line x1=\"407.61517981492614\" y1=\"307.12064713369284\" x2=\"408.79075031951106\" y2=\"305.5026131449429\" stroke-linecap=\"round\" style=\"stroke:white;stroke-width:4\"/><line x1=\"408.79075031951106\" y1=\"305.5026131449429\" x2=\"409.88551163312866\" y2=\"303.82884563832613\" stroke-linecap=\"round\" style=\"stroke:white;stroke-width:4\"/><line x1=\"409.88551163312866\" y1=\"303.82884563832613\" x2=\"410.8968263798846\" y2=\"302.1033768663705\" stroke-linecap=\"round\" style=\"stroke:white;stroke-width:4\"/><line x1=\"410.8968263798846\" y1=\"302.1033768663705\" x2=\"411.8222582139733\" y2=\"300.33036363448105\" stroke-linecap=\"round\" style=\"stroke:white;stroke-width:4\"/><line x1=\"411.8222582139733\" y1=\"300.33036363448105\" x2=\"412.6595776890482\" y2=\"298.51407728683085\" stroke-linecap=\"round\" style=\"stroke:white;stroke-width:4\"/><line x1=\"412.6595776890482\" y1=\"298.51407728683085\" x2=\"413.40676762915325\" y2=\"296.6588934163194\" stroke-linecap=\"round\" style=\"stroke:white;stroke-width:4\"/><line x1=\"413.40676762915325\" y1=\"296.6588934163194\" x2=\"414.0620279882766\" y2=\"294.76928132338566\" stroke-linecap=\"round\" style=\"stroke:white;stroke-width:4\"/><line x1=\"414.0620279882766\" y1=\"294.76928132338566\" x2=\"414.6237801868192\" y2=\"292.8497932490719\" stroke-linecap=\"round\" style=\"stroke:white;stroke-width:4\"/><line x1=\"414.6237801868192\" y1=\"292.8497932490719\" x2=\"415.090670914531\" y2=\"290.90505340827656\" stroke-linecap=\"round\" style=\"stroke:white;stroke-width:4\"/><line x1=\"415.090670914531\" y1=\"290.90505340827656\" x2=\"415.4615753907542\" y2=\"288.9397468496151\" stroke-linecap=\"round\" style=\"stroke:white;stroke-width:4\"/><line x1=\"415.4615753907542\" y1=\"288.9397468496151\" x2=\"415.73560007411817\" y2=\"286.95860816872795\" stroke-linecap=\"round\" style=\"stroke:white;stroke-width:4\"/><line x1=\"415.73560007411817\" y1=\"286.95860816872795\" x2=\"415.9120848151589\" y2=\"284.9664101022246\" stroke-linecap=\"round\" style=\"stroke:white;stroke-width:4\"/><line x1=\"415.9120848151589\" y1=\"284.9664101022246\" x2=\"415.990604446677\" y2=\"282.9679520297431\" stroke-linecap=\"round\" style=\"stroke:white;stroke-width:4\"/><line x1=\"415.990604446677\" y1=\"282.9679520297431\" x2=\"415.97096980800274\" y2=\"280.96804841182444\" stroke-linecap=\"round\" style=\"stroke:white;stroke-width:4\"/><line x1=\"415.97096980800274\" y1=\"280.96804841182444\" x2=\"415.85322820070036\" y2=\"278.971517191455\" stroke-linecap=\"round\" style=\"stroke:white;stroke-width:4\"/><line x1=\"415.85322820070036\" y1=\"278.971517191455\" x2=\"415.63766327461485\" y2=\"276.98316818722014\" stroke-linecap=\"round\" style=\"stroke:white;stroke-width:4\"/><line x1=\"415.63766327461485\" y1=\"276.98316818722014\" x2=\"415.3247943445344\" y2=\"275.0077915060299\" stroke-linecap=\"round\" style=\"stroke:white;stroke-width:4\"/><line x1=\"415.3247943445344\" y1=\"275.0077915060299\" x2=\"414.9153751391156\" y2=\"273.05014600333175\" stroke-linecap=\"round\" style=\"stroke:white;stroke-width:4\"/><line x1=\"414.9153751391156\" y1=\"273.05014600333175\" x2=\"414.4103919850853\" y2=\"271.1149478186112\" stroke-linecap=\"round\" style=\"stroke:white;stroke-width:4\"/><line x1=\"414.4103919850853\" y1=\"271.1149478186112\" x2=\"413.8110614310928\" y2=\"269.20685901379863\" stroke-linecap=\"round\" style=\"stroke:white;stroke-width:4\"/><line x1=\"413.8110614310928\" y1=\"269.20685901379863\" x2=\"413.1188273169378\" y2=\"267.33047634195367\" stroke-linecap=\"round\" style=\"stroke:white;stroke-width:4\"/><line x1=\"413.1188273169378\" y1=\"267.33047634195367\" x2=\"412.3353572952339\" y2=\"265.4903201732845\" stroke-linecap=\"round\" style=\"stroke:white;stroke-width:4\"/><line x1=\"412.3353572952339\" y1=\"265.4903201732845\" x2=\"411.4625388138872\" y2=\"263.69082360518007\" stroke-linecap=\"round\" style=\"stroke:white;stroke-width:4\"/><line x1=\"411.4625388138872\" y1=\"263.69082360518007\" x2=\"410.5024745690692\" y2=\"261.9363217824902\" stroke-linecap=\"round\" style=\"stroke:white;stroke-width:4\"/><line x1=\"410.5024745690692\" y1=\"261.9363217824902\" x2=\"409.4574774396373\" y2=\"260.23104145378204\" stroke-linecap=\"round\" style=\"stroke:white;stroke-width:4\"/><line x1=\"409.4574774396373\" y1=\"260.23104145378204\" x2=\"408.33006491520723\" y2=\"258.5790907887323\" stroke-linecap=\"round\" style=\"stroke:white;stroke-width:4\"/><line x1=\"408.33006491520723\" y1=\"258.5790907887323\" x2=\"407.1229530313001\" y2=\"256.98444948118686\" stroke-linecap=\"round\" style=\"stroke:white;stroke-width:4\"/><line x1=\"407.1229530313001\" y1=\"256.98444948118686\" x2=\"405.8390498261747\" y2=\"255.45095916172974\" stroke-linecap=\"round\" style=\"stroke:white;stroke-width:4\"/><line x1=\"405.8390498261747\" y1=\"255.45095916172974\" x2=\"404.4814483351088\" y2=\"253.98231414285837\" stroke-linecap=\"round\" style=\"stroke:white;stroke-width:4\"/><line x1=\"404.4814483351088\" y1=\"253.98231414285837\" x2=\"403.0534191390062\" y2=\"252.58205251906134\" stroke-linecap=\"round\" style=\"stroke:white;stroke-width:4\"/><line x1=\"403.0534191390062\" y1=\"252.58205251906134\" x2=\"401.558402485281\" y2=\"251.25354764323876\" stroke-linecap=\"round\" style=\"stroke:white;stroke-width:4\"/><line x1=\"401.558402485281\" y1=\"251.25354764323876\" x2=\"400.0\" y2=\"249.99999999999983\" stroke-linecap=\"round\" style=\"stroke:white;stroke-width:4\"/><line x1=\"400.0\" y1=\"249.99999999999983\" x2=\"401.1755705045849\" y2=\"251.61803398874972\" stroke-linecap=\"round\" style=\"stroke:white;stroke-width:4\"/><line x1=\"401.1755705045849\" y1=\"251.61803398874972\" x2=\"402.4291181478239\" y2=\"253.17643647403074\" stroke-linecap=\"round\" style=\"stroke:white;stroke-width:4\"/><line x1=\"402.4291181478239\" y1=\"253.17643647403074\" x2=\"403.75762302364643\" y2=\"254.67145312775594\" stroke-linecap=\"round\" style=\"stroke:white;stroke-width:4\"/><line x1=\"403.75762302364643\" y1=\"254.67145312775594\" x2=\"405.1578846474435\" y2=\"256.09948232385847\" stroke-linecap=\"round\" style=\"stroke:white;stroke-width:4\"/><line x1=\"405.1578846474435\" y1=\"256.09948232385847\" x2=\"406.62652966631487\" y2=\"257.4570838149244\" stroke-linecap=\"round\" style=\"stroke:white;stroke-width:4\"/><line x1=\"406.62652966631487\" y1=\"257.4570838149244\" x2=\"408.160019985772\" y2=\"258.7409870200498\" stroke-linecap=\"round\" style=\"stroke:white;stroke-width:4\"/><line x1=\"408.160019985772\" y1=\"258.7409870200498\" x2=\"409.75466129331744\" y2=\"259.9480989039569\" stroke-linecap=\"round\" style=\"stroke:white;stroke-width:4\"/><line x1=\"409.75466129331744\" y1=\"259.9480989039569\" x2=\"411.4066119583672\" y2=\"261.07551142838696\" stroke-linecap=\"round\" style=\"stroke:white;stroke-width:4\"/><line x1=\"411.4066119583672\" y1=\"261.07551142838696\" x2=\"413.11189228707536\" y2=\"262.1205085578189\" stroke-linecap=\"round\" style=\"stroke:white;stroke-width:4\"/><line x1=\"413.11189228707536\" y1=\"262.1205085578189\" x2=\"414.8663941097652\" y2=\"263.0805728026369\" stroke-linecap=\"round\" style=\"stroke:white;stroke-width:4\"/><line x1=\"414.8663941097652\" y1=\"263.0805728026369\" x2=\"416.66589067786964\" y2=\"263.9533912839836\" stroke-linecap=\"round\" style=\"stroke:white;stroke-width:4\"/><line x1=\"416.66589067786964\" y1=\"263.9533912839836\" x2=\"418.5060468465388\" y2=\"264.7368613056875\" stroke-linecap=\"round\" style=\"stroke:white;stroke-width:4\"/><line x1=\"418.5060468465388\" y1=\"264.7368613056875\" x2=\"420.3824295183838\" y2=\"265.4290954198425\" stroke-linecap=\"round\" style=\"stroke:white;stroke-width:4\"/><line x1=\"420.3824295183838\" y1=\"265.4290954198425\" x2=\"422.29051832319635\" y2=\"266.028425973835\" stroke-linecap=\"round\" style=\"stroke:white;stroke-width:4\"/><line x1=\"422.29051832319635\" y1=\"266.028425973835\" x2=\"424.2257165079169\" y2=\"266.5334091278653\" stroke-linecap=\"round\" style=\"stroke:white;stroke-width:4\"/><line x1=\"424.2257165079169\" y1=\"266.5334091278653\" x2=\"426.18336201061504\" y2=\"266.94282833328407\" stroke-linecap=\"round\" style=\"stroke:white;stroke-width:4\"/><line x1=\"426.18336201061504\" y1=\"266.94282833328407\" x2=\"428.1587386918053\" y2=\"267.25569726336454\" stroke-linecap=\"round\" style=\"stroke:white;stroke-width:4\"/><line x1=\"428.1587386918053\" y1=\"267.25569726336454\" x2=\"430.14708769604016\" y2=\"267.47126218945004\" stroke-linecap=\"round\" style=\"stroke:white;stroke-width:4\"/><line x1=\"430.14708769604016\" y1=\"267.47126218945004\" x2=\"432.1436189164096\" y2=\"267.5890037967524\" stroke-linecap=\"round\" style=\"stroke:white;stroke-width:4\"/><line x1=\"432.1436189164096\" y1=\"267.5890037967524\" x2=\"434.14352253432827\" y2=\"267.6086384354267\" stroke-linecap=\"round\" style=\"stroke:white;stroke-width:4\"/><line x1=\"434.14352253432827\" y1=\"267.6086384354267\" x2=\"436.14198060680974\" y2=\"267.5301188039086\" stroke-linecap=\"round\" style=\"stroke:white;stroke-width:4\"/><line x1=\"436.14198060680974\" y1=\"267.5301188039086\" x2=\"438.1341786733131\" y2=\"267.35363406286785\" stroke-linecap=\"round\" style=\"stroke:white;stroke-width:4\"/><line x1=\"438.1341786733131\" y1=\"267.35363406286785\" x2=\"440.1153173542003\" y2=\"267.0796093795039\" stroke-linecap=\"round\" style=\"stroke:white;stroke-width:4\"/><line x1=\"440.1153173542003\" y1=\"267.0796093795039\" x2=\"442.0806239128617\" y2=\"266.7087049032807\" stroke-linecap=\"round\" style=\"stroke:white;stroke-width:4\"/><line x1=\"442.0806239128617\" y1=\"266.7087049032807\" x2=\"444.0253637536571\" y2=\"266.2418141755689\" stroke-linecap=\"round\" style=\"stroke:white;stroke-width:4\"/><line x1=\"444.0253637536571\" y1=\"266.2418141755689\" x2=\"445.9448518279708\" y2=\"265.6800619770263\" stroke-linecap=\"round\" style=\"stroke:white;stroke-width:4\"/><line x1=\"445.9448518279708\" y1=\"265.6800619770263\" x2=\"447.83446392090457\" y2=\"265.02480161790294\" stroke-linecap=\"round\" style=\"stroke:white;stroke-width:4\"/><line x1=\"447.83446392090457\" y1=\"265.02480161790294\" x2=\"449.689647791416\" y2=\"264.2776116777979\" stroke-linecap=\"round\" style=\"stroke:white;stroke-width:4\"/><line x1=\"449.689647791416\" y1=\"264.2776116777979\" x2=\"451.50593413906614\" y2=\"263.440292202723\" stroke-linecap=\"round\" style=\"stroke:white;stroke-width:4\"/><line x1=\"451.50593413906614\" y1=\"263.440292202723\" x2=\"453.2789473709556\" y2=\"262.5148603686343\" stroke-linecap=\"round\" style=\"stroke:white;stroke-width:4\"/><line x1=\"453.2789473709556\" y1=\"262.5148603686343\" x2=\"455.0044161429112\" y2=\"261.50354562187835\" stroke-linecap=\"round\" style=\"stroke:white;stroke-width:4\"/><line x1=\"455.0044161429112\" y1=\"261.50354562187835\" x2=\"456.678183649528\" y2=\"260.40878430826075\" stroke-linecap=\"round\" style=\"stroke:white;stroke-width:4\"/><line x1=\"456.678183649528\" y1=\"260.40878430826075\" x2=\"455.5026131449431\" y2=\"258.79075031951083\" stroke-linecap=\"round\" style=\"stroke:white;stroke-width:4\"/><line x1=\"455.5026131449431\" y1=\"258.79075031951083\" x2=\"454.24906550170414\" y2=\"257.2323478342298\" stroke-linecap=\"round\" style=\"stroke:white;stroke-width:4\"/><line x1=\"454.24906550170414\" y1=\"257.2323478342298\" x2=\"452.9205606258816\" y2=\"255.7373311805046\" stroke-linecap=\"round\" style=\"stroke:white;stroke-width:4\"/><line x1=\"452.9205606258816\" y1=\"255.7373311805046\" x2=\"451.5202990020845\" y2=\"254.30930198440208\" stroke-linecap=\"round\" style=\"stroke:white;stroke-width:4\"/><line x1=\"451.5202990020845\" y1=\"254.30930198440208\" x2=\"450.05165398321316\" y2=\"252.9517004933362\" stroke-linecap=\"round\" style=\"stroke:white;stroke-width:4\"/><line x1=\"450.05165398321316\" y1=\"252.9517004933362\" x2=\"448.518163663756\" y2=\"251.6677972882108\" stroke-linecap=\"round\" style=\"stroke:white;stroke-width:4\"/><line x1=\"448.518163663756\" y1=\"251.6677972882108\" x2=\"446.9235223562106\" y2=\"250.46068540430366\" stroke-linecap=\"round\" style=\"stroke:white;stroke-width:4\"/><line x1=\"446.9235223562106\" y1=\"250.46068540430366\" x2=\"445.27157169116083\" y2=\"249.33327287987362\" stroke-linecap=\"round\" style=\"stroke:white;stroke-width:4\"/><line x1=\"445.27157169116083\" y1=\"249.33327287987362\" x2=\"443.56629136245266\" y2=\"248.28827575044173\" stroke-linecap=\"round\" style=\"stroke:white;stroke-width:4\"/><line x1=\"443.56629136245266\" y1=\"248.28827575044173\" x2=\"441.8117895397628\" y2=\"247.3282115056237\" stroke-linecap=\"round\" style=\"stroke:white;stroke-width:4\"/><line x1=\"441.8117895397628\" y1=\"247.3282115056237\" x2=\"440.0122929716584\" y2=\"246.45539302427702\" stroke-linecap=\"round\" style=\"stroke:white;stroke-width:4\"/><line x1=\"440.0122929716584\" y1=\"246.45539302427702\" x2=\"438.1721368029892\" y2=\"245.6719230025731\" stroke-linecap=\"round\" style=\"stroke:white;stroke-width:4\"/><line x1=\"438.1721368029892\" y1=\"245.6719230025731\" x2=\"436.29575413114424\" y2=\"244.9796888884181\" stroke-linecap=\"round\" style=\"stroke:white;stroke-width:4\"/><line x1=\"436.29575413114424\" y1=\"244.9796888884181\" x2=\"434.38766532633167\" y2=\"244.3803583344256\" stroke-linecap=\"round\" style=\"stroke:white;stroke-width:4\"/><line x1=\"434.38766532633167\" y1=\"244.3803583344256\" x2=\"432.4524671416111\" y2=\"243.87537518039528\" stroke-linecap=\"round\" style=\"stroke:white;stroke-width:4\"/><line x1=\"432.4524671416111\" y1=\"243.87537518039528\" x2=\"430.494821638913\" y2=\"243.4659559749765\" stroke-linecap=\"round\" style=\"stroke:white;stroke-width:4\"/><line x1=\"430.494821638913\" y1=\"243.4659559749765\" x2=\"428.5194449577227\" y2=\"243.15308704489604\" stroke-linecap=\"round\" style=\"stroke:white;stroke-width:4\"/><line x1=\"428.5194449577227\" y1=\"243.15308704489604\" x2=\"426.53109595348786\" y2=\"242.93752211881053\" stroke-linecap=\"round\" style=\"stroke:white;stroke-width:4\"/><line x1=\"426.53109595348786\" y1=\"242.93752211881053\" x2=\"424.53456473311843\" y2=\"242.81978051150816\" stroke-linecap=\"round\" style=\"stroke:white;stroke-width:4\"/><line x1=\"424.53456473311843\" y1=\"242.81978051150816\" x2=\"422.53466111519975\" y2=\"242.80014587283387\" stroke-linecap=\"round\" style=\"stroke:white;stroke-width:4\"/><line x1=\"422.53466111519975\" y1=\"242.80014587283387\" x2=\"420.5362030427183\" y2=\"242.878665504352\" stroke-linecap=\"round\" style=\"stroke:white;stroke-width:4\"/><line x1=\"420.5362030427183\" y1=\"242.878665504352\" x2=\"418.5440049762149\" y2=\"243.05515024539275\" stroke-linecap=\"round\" style=\"stroke:white;stroke-width:4\"/><line x1=\"418.5440049762149\" y1=\"243.05515024539275\" x2=\"416.56286629532775\" y2=\"243.3291749287567\" stroke-linecap=\"round\" style=\"stroke:white;stroke-width:4\"/><line x1=\"416.56286629532775\" y1=\"243.3291749287567\" x2=\"414.5975597366663\" y2=\"243.70007940497987\" stroke-linecap=\"round\" style=\"stroke:white;stroke-width:4\"/><line x1=\"414.5975597366663\" y1=\"243.70007940497987\" x2=\"412.65281989587095\" y2=\"244.1669701326917\" stroke-linecap=\"round\" style=\"stroke:white;stroke-width:4\"/><line x1=\"412.65281989587095\" y1=\"244.1669701326917\" x2=\"410.7333318215572\" y2=\"244.72872233123428\" stroke-linecap=\"round\" style=\"stroke:white;stroke-width:4\"/><line x1=\"410.7333318215572\" y1=\"244.72872233123428\" x2=\"408.84371972862346\" y2=\"245.38398269035767\" stroke-linecap=\"round\" style=\"stroke:white;stroke-width:4\"/><line x1=\"408.84371972862346\" y1=\"245.38398269035767\" x2=\"406.988535858112\" y2=\"246.13117263046271\" stroke-linecap=\"round\" style=\"stroke:white;stroke-width:4\"/><line x1=\"406.988535858112\" y1=\"246.13117263046271\" x2=\"405.1722495104618\" y2=\"246.96849210553756\" stroke-linecap=\"round\" style=\"stroke:white;stroke-width:4\"/><line x1=\"405.1722495104618\" y1=\"246.96849210553756\" x2=\"403.39923627857235\" y2=\"247.89392393962626\" stroke-linecap=\"round\" style=\"stroke:white;stroke-width:4\"/><line x1=\"403.39923627857235\" y1=\"247.89392393962626\" x2=\"401.67376750661674\" y2=\"248.90523868638223\" stroke-linecap=\"round\" style=\"stroke:white;stroke-width:4\"/><line x1=\"401.67376750661674\" y1=\"248.90523868638223\" x2=\"399.99999999999994\" y2=\"249.99999999999983\" stroke-linecap=\"round\" style=\"stroke:white;stroke-width:4\"/><line x1=\"399.99999999999994\" y1=\"249.99999999999983\" x2=\"401.90211303259025\" y2=\"249.38196601124994\" stroke-linecap=\"round\" style=\"stroke:white;stroke-width:4\"/><line x1=\"401.90211303259025\" y1=\"249.38196601124994\" x2=\"403.77160939624684\" y2=\"248.6713442086891\" stroke-linecap=\"round\" style=\"stroke:white;stroke-width:4\"/><line x1=\"403.77160939624684\" y1=\"248.6713442086891\" x2=\"405.6039853104811\" y2=\"247.86984654248283\" stroke-linecap=\"round\" style=\"stroke:white;stroke-width:4\"/><line x1=\"405.6039853104811\" y1=\"247.86984654248283\" x2=\"407.3948264212185\" y2=\"246.9794038907119\" stroke-linecap=\"round\" style=\"stroke:white;stroke-width:4\"/><line x1=\"407.3948264212185\" y1=\"246.9794038907119\" x2=\"409.1398184353641\" y2=\"246.00216140771798\" stroke-linecap=\"round\" style=\"stroke:white;stroke-width:4\"/><line x1=\"409.1398184353641\" y1=\"246.00216140771798\" x2=\"410.83475751431257\" y2=\"244.94047335623895\" stroke-linecap=\"round\" style=\"stroke:white;stroke-width:4\"/><line x1=\"410.83475751431257\" y1=\"244.94047335623895\" x2=\"412.4755604013636\" y2=\"243.79689743578373\" stroke-linecap=\"round\" style=\"stroke:white;stroke-width:4\"/><line x1=\"412.4755604013636\" y1=\"243.79689743578373\" x2=\"414.05827425864493\" y2=\"242.5741886209101\" stroke-linecap=\"round\" style=\"stroke:white;stroke-width:4\"/><line x1=\"414.05827425864493\" y1=\"242.5741886209101\" x2=\"415.579086189845\" y2=\"241.27529252424972\" stroke-linecap=\"round\" style=\"stroke:white;stroke-width:4\"/><line x1=\"415.579086189845\" y1=\"241.27529252424972\" x2=\"417.0343324258141\" y2=\"239.90333830026933\" stroke-linecap=\"round\" style=\"stroke:white;stroke-width:4\"/><line x1=\"417.0343324258141\" y1=\"239.90333830026933\" x2=\"418.4205071509054\" y2=\"238.46163110686348\" stroke-linecap=\"round\" style=\"stroke:white;stroke-width:4\"/><line x1=\"418.4205071509054\" y1=\"238.46163110686348\" x2=\"419.7342709487915\" y2=\"236.95364414293974\" stroke-linecap=\"round\" style=\"stroke:white;stroke-width:4\"/><line x1=\"419.7342709487915\" y1=\"236.95364414293974\" x2=\"420.9724588474112\" y2=\"235.38301028117826\" stroke-linecap=\"round\" style=\"stroke:white;stroke-width:4\"/><line x1=\"420.9724588474112\" y1=\"235.38301028117826\" x2=\"422.1320879436642\" y2=\"233.75351331612327\" stroke-linecap=\"round\" style=\"stroke:white;stroke-width:4\"/><line x1=\"422.1320879436642\" y1=\"233.75351331612327\" x2=\"423.2103645894862\" y2=\"232.0690788486907\" stroke-linecap=\"round\" style=\"stroke:white;stroke-width:4\"/><line x1=\"423.2103645894862\" y1=\"232.0690788486907\" x2=\"424.20469112199146\" y2=\"230.33376482905163\" stroke-linecap=\"round\" style=\"stroke:white;stroke-width:4\"/><line x1=\"424.20469112199146\" y1=\"230.33376482905163\" x2=\"425.11267212147055\" y2=\"228.5517517806749\" stroke-linecap=\"round\" style=\"stroke:white;stroke-width:4\"/><line x1=\"425.11267212147055\" y1=\"228.5517517806749\" x2=\"425.93212018216593\" y2=\"226.72733272907996\" stroke-linecap=\"round\" style=\"stroke:white;stroke-width:4\"/><line x1=\"425.93212018216593\" y1=\"226.72733272907996\" x2=\"426.66106118192425\" y2=\"224.86490285956236\" stroke-linecap=\"round\" style=\"stroke:white;stroke-width:4\"/><line x1=\"426.66106118192425\" y1=\"224.86490285956236\" x2=\"427.29773903802936\" y2=\"222.96894892880735\" stroke-linecap=\"round\" style=\"stroke:white;stroke-width:4\"/><line x1=\"427.29773903802936\" y1=\"222.96894892880735\" x2=\"427.8406199377595\" y2=\"221.04403845590005\" stroke-linecap=\"round\" style=\"stroke:white;stroke-width:4\"/><line x1=\"427.8406199377595\" y1=\"221.04403845590005\" x2=\"428.28839603347654\" y2=\"219.09480871877196\" stroke-linecap=\"round\" style=\"stroke:white;stroke-width:4\"/><line x1=\"428.28839603347654\" y1=\"219.09480871877196\" x2=\"428.63998859334527\" y2=\"217.12595558259218\" stroke-linecap=\"round\" style=\"stroke:white;stroke-width:4\"/><line x1=\"428.63998859334527\" y1=\"217.12595558259218\" x2=\"428.8945506000931\" y2=\"215.14222218701693\" stroke-linecap=\"round\" style=\"stroke:white;stroke-width:4\"/><line x1=\"428.8945506000931\" y1=\"215.14222218701693\" x2=\"429.0514687915488\" y2=\"213.14838751955068\" stroke-linecap=\"round\" style=\"stroke:white;stroke-width:4\"/><line x1=\"429.0514687915488\" y1=\"213.14838751955068\" x2=\"429.11036513804476\" y2=\"211.14925490254663\" stroke-linecap=\"round\" style=\"stroke:white;stroke-width:4\"/><line x1=\"429.11036513804476\" y1=\"211.14925490254663\" x2=\"429.0710977531235\" y2=\"209.1496404215825\" stroke-linecap=\"round\" style=\"stroke:white;stroke-width:4\"/><line x1=\"429.0710977531235\" y1=\"209.1496404215825\" x2=\"428.9337612353548\" y2=\"207.15436132308847\" stroke-linecap=\"round\" style=\"stroke:white;stroke-width:4\"/><line x1=\"428.9337612353548\" y1=\"207.15436132308847\" x2=\"428.69868644043913\" y2=\"205.1682244091786\" stroke-linecap=\"round\" style=\"stroke:white;stroke-width:4\"/><line x1=\"428.69868644043913\" y1=\"205.1682244091786\" x2=\"428.3664396841476\" y2=\"203.1960144576436\" stroke-linecap=\"round\" style=\"stroke:white;stroke-width:4\"/><line x1=\"428.3664396841476\" y1=\"203.1960144576436\" x2=\"427.93782137801753\" y2=\"201.24248269500185\" stroke-linecap=\"round\" style=\"stroke:white;stroke-width:4\"/><line x1=\"427.93782137801753\" y1=\"201.24248269500185\" x2=\"427.41386410109084\" y2=\"199.31233535037876\" stroke-linecap=\"round\" style=\"stroke:white;stroke-width:4\"/><line x1=\"427.41386410109084\" y1=\"199.31233535037876\" x2=\"425.51175106850053\" y2=\"199.93036933912865\" stroke-linecap=\"round\" style=\"stroke:white;stroke-width:4\"/><line x1=\"425.51175106850053\" y1=\"199.93036933912865\" x2=\"423.64225470484394\" y2=\"200.64099114168948\" stroke-linecap=\"round\" style=\"stroke:white;stroke-width:4\"/><line x1=\"423.64225470484394\" y1=\"200.64099114168948\" x2=\"421.8098787906097\" y2=\"201.44248880789576\" stroke-linecap=\"round\" style=\"stroke:white;stroke-width:4\"/><line x1=\"421.8098787906097\" y1=\"201.44248880789576\" x2=\"420.01903767987227\" y2=\"202.3329314596667\" stroke-linecap=\"round\" style=\"stroke:white;stroke-width:4\"/><line x1=\"420.01903767987227\" y1=\"202.3329314596667\" x2=\"418.2740456657267\" y2=\"203.3101739426606\" stroke-linecap=\"round\" style=\"stroke:white;stroke-width:4\"/><line x1=\"418.2740456657267\" y1=\"203.3101739426606\" x2=\"416.5791065867782\" y2=\"204.37186199413964\" stroke-linecap=\"round\" style=\"stroke:white;stroke-width:4\"/><line x1=\"416.5791065867782\" y1=\"204.37186199413964\" x2=\"414.93830369972716\" y2=\"205.51543791459486\" stroke-linecap=\"round\" style=\"stroke:white;stroke-width:4\"/><line x1=\"414.93830369972716\" y1=\"205.51543791459486\" x2=\"413.35558984244585\" y2=\"206.7381467294685\" stroke-linecap=\"round\" style=\"stroke:white;stroke-width:4\"/><line x1=\"413.35558984244585\" y1=\"206.7381467294685\" x2=\"411.8347779112458\" y2=\"208.03704282612887\" stroke-linecap=\"round\" style=\"stroke:white;stroke-width:4\"/><line x1=\"411.8347779112458\" y1=\"208.03704282612887\" x2=\"410.37953167527667\" y2=\"209.40899705010926\" stroke-linecap=\"round\" style=\"stroke:white;stroke-width:4\"/><line x1=\"410.37953167527667\" y1=\"209.40899705010926\" x2=\"408.9933569501854\" y2=\"210.8507042435151\" stroke-linecap=\"round\" style=\"stroke:white;stroke-width:4\"/><line x1=\"408.9933569501854\" y1=\"210.8507042435151\" x2=\"407.6795931522993\" y2=\"212.35869120743885\" stroke-linecap=\"round\" style=\"stroke:white;stroke-width:4\"/><line x1=\"407.6795931522993\" y1=\"212.35869120743885\" x2=\"406.4414052536796\" y2=\"213.92932506920033\" stroke-linecap=\"round\" style=\"stroke:white;stroke-width:4\"/><line x1=\"406.4414052536796\" y1=\"213.92932506920033\" x2=\"405.2817761574266\" y2=\"215.55882203425531\" stroke-linecap=\"round\" style=\"stroke:white;stroke-width:4\"/><line x1=\"405.2817761574266\" y1=\"215.55882203425531\" x2=\"404.2034995116046\" y2=\"217.24325650168788\" stroke-linecap=\"round\" style=\"stroke:white;stroke-width:4\"/><line x1=\"404.2034995116046\" y1=\"217.24325650168788\" x2=\"403.2091729790993\" y2=\"218.97857052132696\" stroke-linecap=\"round\" style=\"stroke:white;stroke-width:4\"/><line x1=\"403.2091729790993\" y1=\"218.97857052132696\" x2=\"402.3011919796202\" y2=\"220.7605835697037\" stroke-linecap=\"round\" style=\"stroke:white;stroke-width:4\"/><line x1=\"402.3011919796202\" y1=\"220.7605835697037\" x2=\"401.48174391892485\" y2=\"222.58500262129863\" stroke-linecap=\"round\" style=\"stroke:white;stroke-width:4\"/><line x1=\"401.48174391892485\" y1=\"222.58500262129863\" x2=\"400.7528029191665\" y2=\"224.44743249081623\" stroke-linecap=\"round\" style=\"stroke:white;stroke-width:4\"/><line x1=\"400.7528029191665\" y1=\"224.44743249081623\" x2=\"400.1161250630614\" y2=\"226.34338642157124\" stroke-linecap=\"round\" style=\"stroke:white;stroke-width:4\"/><line x1=\"400.1161250630614\" y1=\"226.34338642157124\" x2=\"399.57324416333125\" y2=\"228.26829689447854\" stroke-linecap=\"round\" style=\"stroke:white;stroke-width:4\"/><line x1=\"399.57324416333125\" y1=\"228.26829689447854\" x2=\"399.12546806761424\" y2=\"230.21752663160663\" stroke-linecap=\"round\" style=\"stroke:white;stroke-width:4\"/><line x1=\"399.12546806761424\" y1=\"230.21752663160663\" x2=\"398.7738755077455\" y2=\"232.1863797677864\" stroke-linecap=\"round\" style=\"stroke:white;stroke-width:4\"/><line x1=\"398.7738755077455\" y1=\"232.1863797677864\" x2=\"398.51931350099767\" y2=\"234.17011316336166\" stroke-linecap=\"round\" style=\"stroke:white;stroke-width:4\"/><line x1=\"398.51931350099767\" y1=\"234.17011316336166\" x2=\"398.36239530954197\" y2=\"236.1639478308279\" stroke-linecap=\"round\" style=\"stroke:white;stroke-width:4\"/><line x1=\"398.36239530954197\" y1=\"236.1639478308279\" x2=\"398.303498963046\" y2=\"238.16308044783196\" stroke-linecap=\"round\" style=\"stroke:white;stroke-width:4\"/><line x1=\"398.303498963046\" y1=\"238.16308044783196\" x2=\"398.34276634796726\" y2=\"240.1626949287961\" stroke-linecap=\"round\" style=\"stroke:white;stroke-width:4\"/><line x1=\"398.34276634796726\" y1=\"240.1626949287961\" x2=\"398.480102865736\" y2=\"242.15797402729012\" stroke-linecap=\"round\" style=\"stroke:white;stroke-width:4\"/><line x1=\"398.480102865736\" y1=\"242.15797402729012\" x2=\"398.71517766065165\" y2=\"244.14411094119998\" stroke-linecap=\"round\" style=\"stroke:white;stroke-width:4\"/><line x1=\"398.71517766065165\" y1=\"244.14411094119998\" x2=\"399.04742441694316\" y2=\"246.116320892735\" stroke-linecap=\"round\" style=\"stroke:white;stroke-width:4\"/><line x1=\"399.04742441694316\" y1=\"246.116320892735\" x2=\"399.47604272307325\" y2=\"248.06985265537674\" stroke-linecap=\"round\" style=\"stroke:white;stroke-width:4\"/><line x1=\"399.47604272307325\" y1=\"248.06985265537674\" x2=\"399.99999999999994\" y2=\"249.99999999999983\" stroke-linecap=\"round\" style=\"stroke:white;stroke-width:4\"/>\n",
              "        \n",
              "      <g visibility=visible transform=\"rotate(180.0,399.99999999999994,249.99999999999983) translate(399.99999999999994, 249.99999999999983)\">\n",
              "        <circle stroke=\"white\" stroke-width=\"3\" fill=\"transparent\" r=\"12\" cx=\"0\" cy=\"0\"/>\n",
              "        <polygon points=\"0,19 3,16 -3,16\" style=\"fill:white;stroke:white;stroke-width:2\"/>\n",
              "      </g>\n",
              "    \n",
              "      </svg>\n",
              "    "
            ],
            "text/plain": [
              "<IPython.core.display.HTML object>"
            ]
          },
          "metadata": {
            "tags": []
          }
        }
      ]
    },
    {
      "cell_type": "markdown",
      "metadata": {
        "id": "XBjk0hy0cX5L"
      },
      "source": [
        "2. Escreva um conjunto apropriadamente geral de funções que podem desenhar formas como na figura:\n",
        "![shapes](https://github.com/malbouis/Python_intro/blob/master/aulas_2019/pics/shapes_turtle.png?raw=1)\n",
        "\n",
        "Veja mais exercícios em: \n",
        "\n",
        "http://greenteapress.com/thinkpython2/html/thinkpython2005.html#sec42\n",
        "\n",
        "http://dfnae.fis.uerj.br/twiki/bin/view/DFNAE/IntroPython#Aula_6\n"
      ]
    },
    {
      "cell_type": "code",
      "metadata": {
        "id": "3Hp9e9v-cXZr",
        "outputId": "1db56c40-a5be-4673-f7c1-bd8c47fdfcae",
        "colab": {
          "base_uri": "https://localhost:8080/",
          "height": 521
        }
      },
      "source": [
        "import math\n",
        "\n",
        "def torta(t, lados, tamanho):\n",
        "    ang_a = 360 / lados\n",
        "    ang_b = (180 - ang_a) / 2\n",
        "    raio = tamanho * (math.sin(ang_b * math.pi / 180) / math.sin(ang_a * math.pi / 180))\n",
        "\n",
        "    for i in range(lados):\n",
        "        joana.forward(int(raio))\n",
        "        joana.left(180-ang_b)\n",
        "        joana.forward(tamanho)\n",
        "        joana.left(180-ang_b)\n",
        "        joana.forward(int(raio))\n",
        "        joana.left(180)\n",
        "\n",
        "import ColabTurtle.Turtle as joana\n",
        "joana = ColabTurtle.Turtle\n",
        "joana.initializeTurtle()\n",
        "joana.speed(5)\n",
        "\n",
        "# quadrado 4 lados tamanho 100\n",
        "torta(joana, 6, 100)\n",
        "\n",
        "\n"
      ],
      "execution_count": 15,
      "outputs": [
        {
          "output_type": "display_data",
          "data": {
            "text/html": [
              "\n",
              "      <svg width=\"800\" height=\"500\">\n",
              "        <rect width=\"100%\" height=\"100%\" fill=\"black\"/>\n",
              "        <line x1=\"400\" y1=\"250\" x2=\"400.0\" y2=\"150.0\" stroke-linecap=\"round\" style=\"stroke:white;stroke-width:4\"/><line x1=\"400.0\" y1=\"150.0\" x2=\"313.3974596215561\" y2=\"200.0\" stroke-linecap=\"round\" style=\"stroke:white;stroke-width:4\"/><line x1=\"313.3974596215561\" y1=\"200.0\" x2=\"400.0\" y2=\"250.0\" stroke-linecap=\"round\" style=\"stroke:white;stroke-width:4\"/><line x1=\"400.0\" y1=\"250.0\" x2=\"313.39745962155615\" y2=\"200.0\" stroke-linecap=\"round\" style=\"stroke:white;stroke-width:4\"/><line x1=\"313.39745962155615\" y1=\"200.0\" x2=\"313.39745962155615\" y2=\"300.0\" stroke-linecap=\"round\" style=\"stroke:white;stroke-width:4\"/><line x1=\"313.39745962155615\" y1=\"300.0\" x2=\"400.0\" y2=\"249.99999999999994\" stroke-linecap=\"round\" style=\"stroke:white;stroke-width:4\"/><line x1=\"400.0\" y1=\"249.99999999999994\" x2=\"313.3974596215561\" y2=\"299.99999999999994\" stroke-linecap=\"round\" style=\"stroke:white;stroke-width:4\"/><line x1=\"313.3974596215561\" y1=\"299.99999999999994\" x2=\"400.0\" y2=\"349.99999999999994\" stroke-linecap=\"round\" style=\"stroke:white;stroke-width:4\"/><line x1=\"400.0\" y1=\"349.99999999999994\" x2=\"400.0\" y2=\"249.99999999999994\" stroke-linecap=\"round\" style=\"stroke:white;stroke-width:4\"/><line x1=\"400.0\" y1=\"249.99999999999994\" x2=\"400.0\" y2=\"349.99999999999994\" stroke-linecap=\"round\" style=\"stroke:white;stroke-width:4\"/><line x1=\"400.0\" y1=\"349.99999999999994\" x2=\"486.60254037844385\" y2=\"299.9999999999999\" stroke-linecap=\"round\" style=\"stroke:white;stroke-width:4\"/><line x1=\"486.60254037844385\" y1=\"299.9999999999999\" x2=\"400.0\" y2=\"249.9999999999999\" stroke-linecap=\"round\" style=\"stroke:white;stroke-width:4\"/><line x1=\"400.0\" y1=\"249.9999999999999\" x2=\"486.6025403784439\" y2=\"299.9999999999999\" stroke-linecap=\"round\" style=\"stroke:white;stroke-width:4\"/><line x1=\"486.6025403784439\" y1=\"299.9999999999999\" x2=\"486.6025403784439\" y2=\"199.9999999999999\" stroke-linecap=\"round\" style=\"stroke:white;stroke-width:4\"/><line x1=\"486.6025403784439\" y1=\"199.9999999999999\" x2=\"400.0\" y2=\"249.9999999999999\" stroke-linecap=\"round\" style=\"stroke:white;stroke-width:4\"/><line x1=\"400.0\" y1=\"249.9999999999999\" x2=\"486.60254037844385\" y2=\"199.99999999999983\" stroke-linecap=\"round\" style=\"stroke:white;stroke-width:4\"/><line x1=\"486.60254037844385\" y1=\"199.99999999999983\" x2=\"400.0\" y2=\"149.99999999999983\" stroke-linecap=\"round\" style=\"stroke:white;stroke-width:4\"/><line x1=\"400.0\" y1=\"149.99999999999983\" x2=\"400.0\" y2=\"249.99999999999983\" stroke-linecap=\"round\" style=\"stroke:white;stroke-width:4\"/>\n",
              "        \n",
              "      <g visibility=visible transform=\"rotate(180.0,400.0,249.99999999999983) translate(400.0, 249.99999999999983)\">\n",
              "        <circle stroke=\"white\" stroke-width=\"3\" fill=\"transparent\" r=\"12\" cx=\"0\" cy=\"0\"/>\n",
              "        <polygon points=\"0,19 3,16 -3,16\" style=\"fill:white;stroke:white;stroke-width:2\"/>\n",
              "      </g>\n",
              "    \n",
              "      </svg>\n",
              "    "
            ],
            "text/plain": [
              "<IPython.core.display.HTML object>"
            ]
          },
          "metadata": {
            "tags": []
          }
        }
      ]
    },
    {
      "cell_type": "markdown",
      "metadata": {
        "id": "th4ycSX4cXF2"
      },
      "source": [
        "3. Adicione instruções para desenhar o talo e folha da flor. Faça a refatoração apropriada para a interface da flor completa ficar \"limpa\"."
      ]
    },
    {
      "cell_type": "code",
      "metadata": {
        "id": "K0SQexjmcWX4",
        "outputId": "01d842c3-4630-43ab-93e7-74df8d177a7b",
        "colab": {
          "base_uri": "https://localhost:8080/",
          "height": 521
        }
      },
      "source": [
        "import math\n",
        "\n",
        "def talo(t):\n",
        "    t.left(180)\n",
        "    t.forward(200)\n",
        "    t.left(180)\n",
        "    petala(t, 100, 60)\n",
        "\n",
        "import ColabTurtle.Turtle as joana\n",
        "joana = ColabTurtle.Turtle\n",
        "joana.initializeTurtle()\n",
        "joana.speed(10)\n",
        "\n",
        "# (tartaruga, numero de pétalas, raio dos arcos, angulo onde termina o arco)\n",
        "flor(joana, 7, 60, 90)\n",
        "talo(joana)\n",
        "\n",
        "\n",
        "\n"
      ],
      "execution_count": 24,
      "outputs": [
        {
          "output_type": "display_data",
          "data": {
            "text/html": [
              "\n",
              "      <svg width=\"800\" height=\"500\">\n",
              "        <rect width=\"100%\" height=\"100%\" fill=\"black\"/>\n",
              "        <line x1=\"400\" y1=\"250\" x2=\"400.0\" y2=\"248.0\" stroke-linecap=\"round\" style=\"stroke:white;stroke-width:4\"/><line x1=\"400.0\" y1=\"248.0\" x2=\"399.90186465134514\" y2=\"246.00240908758965\" stroke-linecap=\"round\" style=\"stroke:white;stroke-width:4\"/><line x1=\"399.90186465134514\" y1=\"246.00240908758965\" x2=\"399.705830370686\" y2=\"244.01203963424527\" stroke-linecap=\"round\" style=\"stroke:white;stroke-width:4\"/><line x1=\"399.705830370686\" y1=\"244.01203963424527\" x2=\"399.4123694217753\" y2=\"242.0336866143157\" stroke-linecap=\"round\" style=\"stroke:white;stroke-width:4\"/><line x1=\"399.4123694217753\" y1=\"242.0336866143157\" x2=\"399.022188777743\" y2=\"240.07211605350926\" stroke-linecap=\"round\" style=\"stroke:white;stroke-width:4\"/><line x1=\"399.022188777743\" y1=\"240.07211605350926\" x2=\"398.53622841793646\" y2=\"238.13205354712017\" stroke-linecap=\"round\" style=\"stroke:white;stroke-width:4\"/><line x1=\"398.53622841793646\" y1=\"238.13205354712017\" x2=\"397.9556590634275\" y2=\"236.21817287565574\" stroke-linecap=\"round\" style=\"stroke:white;stroke-width:4\"/><line x1=\"397.9556590634275\" y1=\"236.21817287565574\" x2=\"397.28187935664306\" y2=\"234.3350847452897\" stroke-linecap=\"round\" style=\"stroke:white;stroke-width:4\"/><line x1=\"397.28187935664306\" y1=\"234.3350847452897\" x2=\"396.51651249191286\" y2=\"232.4873256802671\" stroke-linecap=\"round\" style=\"stroke:white;stroke-width:4\"/><line x1=\"396.51651249191286\" y1=\"232.4873256802671\" x2=\"395.6614023050523\" y2=\"230.67934709402022\" stroke-linecap=\"round\" style=\"stroke:white;stroke-width:4\"/><line x1=\"395.6614023050523\" y1=\"230.67934709402022\" x2=\"394.71860883140033\" y2=\"228.91550456532352\" stroke-linecap=\"round\" style=\"stroke:white;stroke-width:4\"/><line x1=\"394.71860883140033\" y1=\"228.91550456532352\" x2=\"393.6904033430139\" y2=\"227.200047345323\" stroke-linecap=\"round\" style=\"stroke:white;stroke-width:4\"/><line x1=\"393.6904033430139\" y1=\"227.200047345323\" x2=\"392.57926287697467\" y2=\"225.5371081207179\" stroke-linecap=\"round\" style=\"stroke:white;stroke-width:4\"/><line x1=\"392.57926287697467\" y1=\"225.5371081207179\" x2=\"391.3878642679898\" y2=\"223.9306930577566\" stroke-linecap=\"round\" style=\"stroke:white;stroke-width:4\"/><line x1=\"391.3878642679898\" y1=\"223.9306930577566\" x2=\"390.1190776996625\" y2=\"222.38467215103114\" stroke-linecap=\"round\" style=\"stroke:white;stroke-width:4\"/><line x1=\"390.1190776996625\" y1=\"222.38467215103114\" x2=\"388.77595978996845\" y2=\"220.90276990032123\" stroke-linecap=\"round\" style=\"stroke:white;stroke-width:4\"/><line x1=\"388.77595978996845\" y1=\"220.90276990032123\" x2=\"387.36174622759535\" y2=\"219.48855633794813\" stroke-linecap=\"round\" style=\"stroke:white;stroke-width:4\"/><line x1=\"387.36174622759535\" y1=\"219.48855633794813\" x2=\"385.8798439768854\" y2=\"218.1454384282541\" stroke-linecap=\"round\" style=\"stroke:white;stroke-width:4\"/><line x1=\"385.8798439768854\" y1=\"218.1454384282541\" x2=\"384.33382307015995\" y2=\"216.8766518599268\" stroke-linecap=\"round\" style=\"stroke:white;stroke-width:4\"/><line x1=\"384.33382307015995\" y1=\"216.8766518599268\" x2=\"382.7274080071987\" y2=\"215.68525325094194\" stroke-linecap=\"round\" style=\"stroke:white;stroke-width:4\"/><line x1=\"382.7274080071987\" y1=\"215.68525325094194\" x2=\"381.06446878259356\" y2=\"214.57411278490272\" stroke-linecap=\"round\" style=\"stroke:white;stroke-width:4\"/><line x1=\"381.06446878259356\" y1=\"214.57411278490272\" x2=\"379.34901156259303\" y2=\"213.54590729651628\" stroke-linecap=\"round\" style=\"stroke:white;stroke-width:4\"/><line x1=\"379.34901156259303\" y1=\"213.54590729651628\" x2=\"377.5851690338963\" y2=\"212.6031138228643\" stroke-linecap=\"round\" style=\"stroke:white;stroke-width:4\"/><line x1=\"377.5851690338963\" y1=\"212.6031138228643\" x2=\"375.77719044764945\" y2=\"211.74800363600372\" stroke-linecap=\"round\" style=\"stroke:white;stroke-width:4\"/><line x1=\"375.77719044764945\" y1=\"211.74800363600372\" x2=\"373.9294313826269\" y2=\"210.98263677127355\" stroke-linecap=\"round\" style=\"stroke:white;stroke-width:4\"/><line x1=\"373.9294313826269\" y1=\"210.98263677127355\" x2=\"372.04634325226084\" y2=\"210.3088570644891\" stroke-linecap=\"round\" style=\"stroke:white;stroke-width:4\"/><line x1=\"372.04634325226084\" y1=\"210.3088570644891\" x2=\"370.1324625807964\" y2=\"209.72828770998018\" stroke-linecap=\"round\" style=\"stroke:white;stroke-width:4\"/><line x1=\"370.1324625807964\" y1=\"209.72828770998018\" x2=\"368.1924000744073\" y2=\"209.24232735017364\" stroke-linecap=\"round\" style=\"stroke:white;stroke-width:4\"/><line x1=\"368.1924000744073\" y1=\"209.24232735017364\" x2=\"366.23082951360084\" y2=\"208.85214670614138\" stroke-linecap=\"round\" style=\"stroke:white;stroke-width:4\"/><line x1=\"366.23082951360084\" y1=\"208.85214670614138\" x2=\"364.2524764936713\" y2=\"208.55868575723065\" stroke-linecap=\"round\" style=\"stroke:white;stroke-width:4\"/><line x1=\"364.2524764936713\" y1=\"208.55868575723065\" x2=\"362.2621070403269\" y2=\"208.36265147657153\" stroke-linecap=\"round\" style=\"stroke:white;stroke-width:4\"/><line x1=\"362.2621070403269\" y1=\"208.36265147657153\" x2=\"360.2645161279166\" y2=\"208.2645161279167\" stroke-linecap=\"round\" style=\"stroke:white;stroke-width:4\"/><line x1=\"360.2645161279166\" y1=\"208.2645161279167\" x2=\"360.2645161279166\" y2=\"210.2645161279167\" stroke-linecap=\"round\" style=\"stroke:white;stroke-width:4\"/><line x1=\"360.2645161279166\" y1=\"210.2645161279167\" x2=\"360.36265147657144\" y2=\"212.26210704032704\" stroke-linecap=\"round\" style=\"stroke:white;stroke-width:4\"/><line x1=\"360.36265147657144\" y1=\"212.26210704032704\" x2=\"360.5586857572306\" y2=\"214.25247649367142\" stroke-linecap=\"round\" style=\"stroke:white;stroke-width:4\"/><line x1=\"360.5586857572306\" y1=\"214.25247649367142\" x2=\"360.8521467061413\" y2=\"216.23082951360098\" stroke-linecap=\"round\" style=\"stroke:white;stroke-width:4\"/><line x1=\"360.8521467061413\" y1=\"216.23082951360098\" x2=\"361.2423273501736\" y2=\"218.19240007440743\" stroke-linecap=\"round\" style=\"stroke:white;stroke-width:4\"/><line x1=\"361.2423273501736\" y1=\"218.19240007440743\" x2=\"361.7282877099801\" y2=\"220.13246258079653\" stroke-linecap=\"round\" style=\"stroke:white;stroke-width:4\"/><line x1=\"361.7282877099801\" y1=\"220.13246258079653\" x2=\"362.3088570644891\" y2=\"222.04634325226095\" stroke-linecap=\"round\" style=\"stroke:white;stroke-width:4\"/><line x1=\"362.3088570644891\" y1=\"222.04634325226095\" x2=\"362.9826367712735\" y2=\"223.929431382627\" stroke-linecap=\"round\" style=\"stroke:white;stroke-width:4\"/><line x1=\"362.9826367712735\" y1=\"223.929431382627\" x2=\"363.7480036360037\" y2=\"225.7771904476496\" stroke-linecap=\"round\" style=\"stroke:white;stroke-width:4\"/><line x1=\"363.7480036360037\" y1=\"225.7771904476496\" x2=\"364.60311382286426\" y2=\"227.58516903389648\" stroke-linecap=\"round\" style=\"stroke:white;stroke-width:4\"/><line x1=\"364.60311382286426\" y1=\"227.58516903389648\" x2=\"365.54590729651625\" y2=\"229.34901156259318\" stroke-linecap=\"round\" style=\"stroke:white;stroke-width:4\"/><line x1=\"365.54590729651625\" y1=\"229.34901156259318\" x2=\"366.5741127849027\" y2=\"231.0644687825937\" stroke-linecap=\"round\" style=\"stroke:white;stroke-width:4\"/><line x1=\"366.5741127849027\" y1=\"231.0644687825937\" x2=\"367.6852532509419\" y2=\"232.7274080071988\" stroke-linecap=\"round\" style=\"stroke:white;stroke-width:4\"/><line x1=\"367.6852532509419\" y1=\"232.7274080071988\" x2=\"368.87665185992677\" y2=\"234.3338230701601\" stroke-linecap=\"round\" style=\"stroke:white;stroke-width:4\"/><line x1=\"368.87665185992677\" y1=\"234.3338230701601\" x2=\"370.14543842825407\" y2=\"235.87984397688558\" stroke-linecap=\"round\" style=\"stroke:white;stroke-width:4\"/><line x1=\"370.14543842825407\" y1=\"235.87984397688558\" x2=\"371.4885563379481\" y2=\"237.3617462275955\" stroke-linecap=\"round\" style=\"stroke:white;stroke-width:4\"/><line x1=\"371.4885563379481\" y1=\"237.3617462275955\" x2=\"372.90276990032123\" y2=\"238.7759597899686\" stroke-linecap=\"round\" style=\"stroke:white;stroke-width:4\"/><line x1=\"372.90276990032123\" y1=\"238.7759597899686\" x2=\"374.38467215103117\" y2=\"240.11907769966263\" stroke-linecap=\"round\" style=\"stroke:white;stroke-width:4\"/><line x1=\"374.38467215103117\" y1=\"240.11907769966263\" x2=\"375.9306930577566\" y2=\"241.38786426798993\" stroke-linecap=\"round\" style=\"stroke:white;stroke-width:4\"/><line x1=\"375.9306930577566\" y1=\"241.38786426798993\" x2=\"377.5371081207179\" y2=\"242.57926287697478\" stroke-linecap=\"round\" style=\"stroke:white;stroke-width:4\"/><line x1=\"377.5371081207179\" y1=\"242.57926287697478\" x2=\"379.200047345323\" y2=\"243.690403343014\" stroke-linecap=\"round\" style=\"stroke:white;stroke-width:4\"/><line x1=\"379.200047345323\" y1=\"243.690403343014\" x2=\"380.91550456532354\" y2=\"244.71860883140045\" stroke-linecap=\"round\" style=\"stroke:white;stroke-width:4\"/><line x1=\"380.91550456532354\" y1=\"244.71860883140045\" x2=\"382.6793470940203\" y2=\"245.66140230505243\" stroke-linecap=\"round\" style=\"stroke:white;stroke-width:4\"/><line x1=\"382.6793470940203\" y1=\"245.66140230505243\" x2=\"384.48732568026713\" y2=\"246.516512491913\" stroke-linecap=\"round\" style=\"stroke:white;stroke-width:4\"/><line x1=\"384.48732568026713\" y1=\"246.516512491913\" x2=\"386.3350847452897\" y2=\"247.28187935664317\" stroke-linecap=\"round\" style=\"stroke:white;stroke-width:4\"/><line x1=\"386.3350847452897\" y1=\"247.28187935664317\" x2=\"388.21817287565574\" y2=\"247.95565906342762\" stroke-linecap=\"round\" style=\"stroke:white;stroke-width:4\"/><line x1=\"388.21817287565574\" y1=\"247.95565906342762\" x2=\"390.13205354712017\" y2=\"248.53622841793654\" stroke-linecap=\"round\" style=\"stroke:white;stroke-width:4\"/><line x1=\"390.13205354712017\" y1=\"248.53622841793654\" x2=\"392.07211605350926\" y2=\"249.02218877774308\" stroke-linecap=\"round\" style=\"stroke:white;stroke-width:4\"/><line x1=\"392.07211605350926\" y1=\"249.02218877774308\" x2=\"394.03368661431574\" y2=\"249.41236942177534\" stroke-linecap=\"round\" style=\"stroke:white;stroke-width:4\"/><line x1=\"394.03368661431574\" y1=\"249.41236942177534\" x2=\"396.0120396342453\" y2=\"249.70583037068607\" stroke-linecap=\"round\" style=\"stroke:white;stroke-width:4\"/><line x1=\"396.0120396342453\" y1=\"249.70583037068607\" x2=\"398.0024090875897\" y2=\"249.9018646513452\" stroke-linecap=\"round\" style=\"stroke:white;stroke-width:4\"/><line x1=\"398.0024090875897\" y1=\"249.9018646513452\" x2=\"400.0\" y2=\"250.00000000000003\" stroke-linecap=\"round\" style=\"stroke:white;stroke-width:4\"/><line x1=\"400.0\" y1=\"250.00000000000003\" x2=\"398.43633703506396\" y2=\"248.75302039628255\" stroke-linecap=\"round\" style=\"stroke:white;stroke-width:4\"/><line x1=\"398.43633703506396\" y1=\"248.75302039628255\" x2=\"396.81337118156137\" y2=\"247.58426813923035\" stroke-linecap=\"round\" style=\"stroke:white;stroke-width:4\"/><line x1=\"396.81337118156137\" y1=\"247.58426813923035\" x2=\"395.1350123063884\" y2=\"246.49655885540125\" stroke-linecap=\"round\" style=\"stroke:white;stroke-width:4\"/><line x1=\"395.1350123063884\" y1=\"246.49655885540125\" x2=\"393.4053037230821\" y2=\"245.49251293173208\" stroke-linecap=\"round\" style=\"stroke:white;stroke-width:4\"/><line x1=\"393.4053037230821\" y1=\"245.49251293173208\" x2=\"391.62841245112435\" y2=\"244.57454920279702\" stroke-linecap=\"round\" style=\"stroke:white;stroke-width:4\"/><line x1=\"391.62841245112435\" y1=\"244.57454920279702\" x2=\"389.80861917722655\" y2=\"243.74487912362315\" stroke-linecap=\"round\" style=\"stroke:white;stroke-width:4\"/><line x1=\"389.80861917722655\" y1=\"243.74487912362315\" x2=\"387.95030794278057\" y2=\"243.00550144210177\" stroke-linecap=\"round\" style=\"stroke:white;stroke-width:4\"/><line x1=\"387.95030794278057\" y1=\"243.00550144210177\" x2=\"386.0579555823191\" y2=\"242.35819738382946\" stroke-linecap=\"round\" style=\"stroke:white;stroke-width:4\"/><line x1=\"386.0579555823191\" y1=\"242.35819738382946\" x2=\"384.1361209384289\" y2=\"241.80452636097976\" stroke-linecap=\"round\" style=\"stroke:white;stroke-width:4\"/><line x1=\"384.1361209384289\" y1=\"241.80452636097976\" x2=\"382.18943387909997\" y2=\"241.34582221554257\" stroke-linecap=\"round\" style=\"stroke:white;stroke-width:4\"/><line x1=\"382.18943387909997\" y1=\"241.34582221554257\" x2=\"380.2225841439679\" y2=\"240.98319000598198\" stroke-linecap=\"round\" style=\"stroke:white;stroke-width:4\"/><line x1=\"380.2225841439679\" y1=\"240.98319000598198\" x2=\"378.24031004632025\" y2=\"240.71750334505364\" stroke-linecap=\"round\" style=\"stroke:white;stroke-width:4\"/><line x1=\"378.24031004632025\" y1=\"240.71750334505364\" x2=\"376.247387058085\" y2=\"240.54940229519514\" stroke-linecap=\"round\" style=\"stroke:white;stroke-width:4\"/><line x1=\"376.247387058085\" y1=\"240.54940229519514\" x2=\"374.24861630530023\" y2=\"240.47929182655952\" stroke-linecap=\"round\" style=\"stroke:white;stroke-width:4\"/><line x1=\"374.24861630530023\" y1=\"240.47929182655952\" x2=\"372.24881300178106\" y2=\"240.50734084140663\" stroke-linecap=\"round\" style=\"stroke:white;stroke-width:4\"/><line x1=\"372.24881300178106\" y1=\"240.50734084140663\" x2=\"370.25279484884777\" y2=\"240.63348176720294\" stroke-linecap=\"round\" style=\"stroke:white;stroke-width:4\"/><line x1=\"370.25279484884777\" y1=\"240.63348176720294\" x2=\"368.2653704290613\" y2=\"240.85741071940956\" stroke-linecap=\"round\" style=\"stroke:white;stroke-width:4\"/><line x1=\"368.2653704290613\" y1=\"240.85741071940956\" x2=\"366.2913276219267\" y2=\"241.17858823356676\" stroke-linecap=\"round\" style=\"stroke:white;stroke-width:4\"/><line x1=\"366.2913276219267\" y1=\"241.17858823356676\" x2=\"364.33542206947214\" y2=\"241.59624056491108\" stroke-linecap=\"round\" style=\"stroke:white;stroke-width:4\"/><line x1=\"364.33542206947214\" y1=\"241.59624056491108\" x2=\"362.40236571949055\" y2=\"242.10936155239435\" stroke-linecap=\"round\" style=\"stroke:white;stroke-width:4\"/><line x1=\"362.40236571949055\" y1=\"242.10936155239435\" x2=\"360.49681547404475\" y2=\"242.71671504261357\" stroke-linecap=\"round\" style=\"stroke:white;stroke-width:4\"/><line x1=\"360.49681547404475\" y1=\"242.71671504261357\" x2=\"358.62336197058255\" y2=\"243.41683786781294\" stroke-linecap=\"round\" style=\"stroke:white;stroke-width:4\"/><line x1=\"358.62336197058255\" y1=\"243.41683786781294\" x2=\"356.78651852268894\" y2=\"244.20804337078306\" stroke-linecap=\"round\" style=\"stroke:white;stroke-width:4\"/><line x1=\"356.78651852268894\" y1=\"244.20804337078306\" x2=\"354.99071024711833\" y2=\"245.08842546816584\" stroke-linecap=\"round\" style=\"stroke:white;stroke-width:4\"/><line x1=\"354.99071024711833\" y1=\"245.08842546816584\" x2=\"353.24026340330084\" y2=\"246.05586324237632\" stroke-linecap=\"round\" style=\"stroke:white;stroke-width:4\"/><line x1=\"353.24026340330084\" y1=\"246.05586324237632\" x2=\"351.53939497100424\" y2=\"247.1080260510789\" stroke-linecap=\"round\" style=\"stroke:white;stroke-width:4\"/><line x1=\"351.53939497100424\" y1=\"247.1080260510789\" x2=\"349.89220249126043\" y2=\"248.2423791419088\" stroke-linecap=\"round\" style=\"stroke:white;stroke-width:4\"/><line x1=\"349.89220249126043\" y1=\"248.2423791419088\" x2=\"348.30265419503013\" y2=\"249.45618975891264\" stroke-linecap=\"round\" style=\"stroke:white;stroke-width:4\"/><line x1=\"348.30265419503013\" y1=\"249.45618975891264\" x2=\"346.7745794433869\" y2=\"250.7465337259968\" stroke-linecap=\"round\" style=\"stroke:white;stroke-width:4\"/><line x1=\"346.7745794433869\" y1=\"250.7465337259968\" x2=\"345.3116595022511\" y2=\"252.1103024915238\" stroke-linecap=\"round\" style=\"stroke:white;stroke-width:4\"/><line x1=\"345.3116595022511\" y1=\"252.1103024915238\" x2=\"343.91741867389743\" y2=\"253.54421061708547\" stroke-linecap=\"round\" style=\"stroke:white;stroke-width:4\"/><line x1=\"343.91741867389743\" y1=\"253.54421061708547\" x2=\"342.5952158066026\" y2=\"255.04480369241176\" stroke-linecap=\"round\" style=\"stroke:white;stroke-width:4\"/><line x1=\"342.5952158066026\" y1=\"255.04480369241176\" x2=\"344.15887877153864\" y2=\"256.2917832961292\" stroke-linecap=\"round\" style=\"stroke:white;stroke-width:4\"/><line x1=\"344.15887877153864\" y1=\"256.2917832961292\" x2=\"345.78184462504123\" y2=\"257.4605355531814\" stroke-linecap=\"round\" style=\"stroke:white;stroke-width:4\"/><line x1=\"345.78184462504123\" y1=\"257.4605355531814\" x2=\"347.4602035002142\" y2=\"258.5482448370105\" stroke-linecap=\"round\" style=\"stroke:white;stroke-width:4\"/><line x1=\"347.4602035002142\" y1=\"258.5482448370105\" x2=\"349.1899120835205\" y2=\"259.5522907606796\" stroke-linecap=\"round\" style=\"stroke:white;stroke-width:4\"/><line x1=\"349.1899120835205\" y1=\"259.5522907606796\" x2=\"350.96680335547825\" y2=\"260.4702544896147\" stroke-linecap=\"round\" style=\"stroke:white;stroke-width:4\"/><line x1=\"350.96680335547825\" y1=\"260.4702544896147\" x2=\"352.78659662937605\" y2=\"261.2999245687886\" stroke-linecap=\"round\" style=\"stroke:white;stroke-width:4\"/><line x1=\"352.78659662937605\" y1=\"261.2999245687886\" x2=\"354.644907863822\" y2=\"262.03930225030996\" stroke-linecap=\"round\" style=\"stroke:white;stroke-width:4\"/><line x1=\"354.644907863822\" y1=\"262.03930225030996\" x2=\"356.5372602242835\" y2=\"262.68660630858227\" stroke-linecap=\"round\" style=\"stroke:white;stroke-width:4\"/><line x1=\"356.5372602242835\" y1=\"262.68660630858227\" x2=\"358.4590948681737\" y2=\"263.24027733143197\" stroke-linecap=\"round\" style=\"stroke:white;stroke-width:4\"/><line x1=\"358.4590948681737\" y1=\"263.24027733143197\" x2=\"360.40578192750263\" y2=\"263.69898147686916\" stroke-linecap=\"round\" style=\"stroke:white;stroke-width:4\"/><line x1=\"360.40578192750263\" y1=\"263.69898147686916\" x2=\"362.3726316626347\" y2=\"264.0616136864298\" stroke-linecap=\"round\" style=\"stroke:white;stroke-width:4\"/><line x1=\"362.3726316626347\" y1=\"264.0616136864298\" x2=\"364.35490576028235\" y2=\"264.3273003473581\" stroke-linecap=\"round\" style=\"stroke:white;stroke-width:4\"/><line x1=\"364.35490576028235\" y1=\"264.3273003473581\" x2=\"366.3478287485176\" y2=\"264.4954013972166\" stroke-linecap=\"round\" style=\"stroke:white;stroke-width:4\"/><line x1=\"366.3478287485176\" y1=\"264.4954013972166\" x2=\"368.34659950130236\" y2=\"264.5655118658522\" stroke-linecap=\"round\" style=\"stroke:white;stroke-width:4\"/><line x1=\"368.34659950130236\" y1=\"264.5655118658522\" x2=\"370.34640280482154\" y2=\"264.5374628510051\" stroke-linecap=\"round\" style=\"stroke:white;stroke-width:4\"/><line x1=\"370.34640280482154\" y1=\"264.5374628510051\" x2=\"372.3424209577548\" y2=\"264.41132192520877\" stroke-linecap=\"round\" style=\"stroke:white;stroke-width:4\"/><line x1=\"372.3424209577548\" y1=\"264.41132192520877\" x2=\"374.3298453775413\" y2=\"264.18739297300215\" stroke-linecap=\"round\" style=\"stroke:white;stroke-width:4\"/><line x1=\"374.3298453775413\" y1=\"264.18739297300215\" x2=\"376.3038881846759\" y2=\"263.866215458845\" stroke-linecap=\"round\" style=\"stroke:white;stroke-width:4\"/><line x1=\"376.3038881846759\" y1=\"263.866215458845\" x2=\"378.25979373713045\" y2=\"263.4485631275006\" stroke-linecap=\"round\" style=\"stroke:white;stroke-width:4\"/><line x1=\"378.25979373713045\" y1=\"263.4485631275006\" x2=\"380.19285008711205\" y2=\"262.93544214001736\" stroke-linecap=\"round\" style=\"stroke:white;stroke-width:4\"/><line x1=\"380.19285008711205\" y1=\"262.93544214001736\" x2=\"382.09840033255784\" y2=\"262.32808864979813\" stroke-linecap=\"round\" style=\"stroke:white;stroke-width:4\"/><line x1=\"382.09840033255784\" y1=\"262.32808864979813\" x2=\"383.97185383602005\" y2=\"261.62796582459873\" stroke-linecap=\"round\" style=\"stroke:white;stroke-width:4\"/><line x1=\"383.97185383602005\" y1=\"261.62796582459873\" x2=\"385.80869728391366\" y2=\"260.8367603216286\" stroke-linecap=\"round\" style=\"stroke:white;stroke-width:4\"/><line x1=\"385.80869728391366\" y1=\"260.8367603216286\" x2=\"387.60450555948427\" y2=\"259.95637822424584\" stroke-linecap=\"round\" style=\"stroke:white;stroke-width:4\"/><line x1=\"387.60450555948427\" y1=\"259.95637822424584\" x2=\"389.35495240330175\" y2=\"258.9889404500354\" stroke-linecap=\"round\" style=\"stroke:white;stroke-width:4\"/><line x1=\"389.35495240330175\" y1=\"258.9889404500354\" x2=\"391.05582083559835\" y2=\"257.9367776413328\" stroke-linecap=\"round\" style=\"stroke:white;stroke-width:4\"/><line x1=\"391.05582083559835\" y1=\"257.9367776413328\" x2=\"392.70301331534216\" y2=\"256.8024245505029\" stroke-linecap=\"round\" style=\"stroke:white;stroke-width:4\"/><line x1=\"392.70301331534216\" y1=\"256.8024245505029\" x2=\"394.29256161157247\" y2=\"255.58861393349906\" stroke-linecap=\"round\" style=\"stroke:white;stroke-width:4\"/><line x1=\"394.29256161157247\" y1=\"255.58861393349906\" x2=\"395.82063636321567\" y2=\"254.2982699664149\" stroke-linecap=\"round\" style=\"stroke:white;stroke-width:4\"/><line x1=\"395.82063636321567\" y1=\"254.2982699664149\" x2=\"397.2835563043515\" y2=\"252.9345012008879\" stroke-linecap=\"round\" style=\"stroke:white;stroke-width:4\"/><line x1=\"397.2835563043515\" y1=\"252.9345012008879\" x2=\"398.67779713270517\" y2=\"251.50059307532624\" stroke-linecap=\"round\" style=\"stroke:white;stroke-width:4\"/><line x1=\"398.67779713270517\" y1=\"251.50059307532624\" x2=\"400.0\" y2=\"249.99999999999994\" stroke-linecap=\"round\" style=\"stroke:white;stroke-width:4\"/><line x1=\"400.0\" y1=\"249.99999999999994\" x2=\"398.0501441756364\" y2=\"250.44504186791258\" stroke-linecap=\"round\" style=\"stroke:white;stroke-width:4\"/><line x1=\"398.0501441756364\" y1=\"250.44504186791258\" x2=\"396.1244742074436\" y2=\"250.98522255398007\" stroke-linecap=\"round\" style=\"stroke:white;stroke-width:4\"/><line x1=\"396.1244742074436\" y1=\"250.98522255398007\" x2=\"394.2276292030438\" y2=\"251.61924071561543\" stroke-linecap=\"round\" style=\"stroke:white;stroke-width:4\"/><line x1=\"394.2276292030438\" y1=\"251.61924071561543\" x2=\"392.3641788281966\" y2=\"252.34556894753388\" stroke-linecap=\"round\" style=\"stroke:white;stroke-width:4\"/><line x1=\"392.3641788281966\" y1=\"252.34556894753388\" x2=\"390.538612298074\" y2=\"253.16245746140586\" stroke-linecap=\"round\" style=\"stroke:white;stroke-width:4\"/><line x1=\"390.538612298074\" y1=\"253.16245746140586\" x2=\"388.75532756234776\" y2=\"254.0679383012505\" stroke-linecap=\"round\" style=\"stroke:white;stroke-width:4\"/><line x1=\"388.75532756234776\" y1=\"254.0679383012505\" x2=\"387.0186207101435\" y2=\"255.05983008441385\" stroke-linecap=\"round\" style=\"stroke:white;stroke-width:4\"/><line x1=\"387.0186207101435\" y1=\"255.05983008441385\" x2=\"385.3326756203859\" y2=\"256.1357432567108\" stroke-linecap=\"round\" style=\"stroke:white;stroke-width:4\"/><line x1=\"385.3326756203859\" y1=\"256.1357432567108\" x2=\"383.70155388246735\" y2=\"257.2930858490704\" stroke-linecap=\"round\" style=\"stroke:white;stroke-width:4\"/><line x1=\"383.70155388246735\" y1=\"257.2930858490704\" x2=\"382.129185011524\" y2=\"258.5290697218164\" stroke-linecap=\"round\" style=\"stroke:white;stroke-width:4\"/><line x1=\"382.129185011524\" y1=\"258.5290697218164\" x2=\"380.61935698188915\" y2=\"259.8407172815401\" stroke-linecap=\"round\" style=\"stroke:white;stroke-width:4\"/><line x1=\"380.61935698188915\" y1=\"259.8407172815401\" x2=\"379.17570710153154\" y2=\"261.2248686543832\" stroke-linecap=\"round\" style=\"stroke:white;stroke-width:4\"/><line x1=\"379.17570710153154\" y1=\"261.2248686543832\" x2=\"377.8017132494617\" y2=\"262.6781892984513\" stroke-linecap=\"round\" style=\"stroke:white;stroke-width:4\"/><line x1=\"377.8017132494617\" y1=\"262.6781892984513\" x2=\"376.50068549721703\" y2=\"264.1971780370169\" stroke-linecap=\"round\" style=\"stroke:white;stroke-width:4\"/><line x1=\"376.50068549721703\" y1=\"264.1971780370169\" x2=\"375.27575813460913\" y2=\"265.7781754931611\" stroke-linecap=\"round\" style=\"stroke:white;stroke-width:4\"/><line x1=\"375.27575813460913\" y1=\"265.7781754931611\" x2=\"374.12988211894555\" y2=\"267.41737290553306\" stroke-linecap=\"round\" style=\"stroke:white;stroke-width:4\"/><line x1=\"374.12988211894555\" y1=\"267.41737290553306\" x2=\"373.06581796591485\" y2=\"269.1108213039896\" stroke-linecap=\"round\" style=\"stroke:white;stroke-width:4\"/><line x1=\"373.06581796591485\" y1=\"269.1108213039896\" x2=\"372.08612909926273\" y2=\"270.85444102301034\" stroke-linecap=\"round\" style=\"stroke:white;stroke-width:4\"/><line x1=\"372.08612909926273\" y1=\"270.85444102301034\" x2=\"371.19317567527963\" y2=\"272.6440315299691\" stroke-linecap=\"round\" style=\"stroke:white;stroke-width:4\"/><line x1=\"371.19317567527963\" y1=\"272.6440315299691\" x2=\"370.38910889697735\" y2=\"274.47528154458496\" stroke-linecap=\"round\" style=\"stroke:white;stroke-width:4\"/><line x1=\"370.38910889697735\" y1=\"274.47528154458496\" x2=\"369.67586583165274\" y2=\"276.34377942517415\" stroke-linecap=\"round\" style=\"stroke:white;stroke-width:4\"/><line x1=\"369.67586583165274\" y1=\"276.34377942517415\" x2=\"369.0551647443229\" y2=\"278.24502379668127\" stroke-linecap=\"round\" style=\"stroke:white;stroke-width:4\"/><line x1=\"369.0551647443229\" y1=\"278.24502379668127\" x2=\"368.52850095827415\" y2=\"280.174434394886\" stroke-linecap=\"round\" style=\"stroke:white;stroke-width:4\"/><line x1=\"368.52850095827415\" y1=\"280.174434394886\" x2=\"368.09714325269744\" y2=\"282.1273631006609\" stroke-linecap=\"round\" style=\"stroke:white;stroke-width:4\"/><line x1=\"368.09714325269744\" y1=\"282.1273631006609\" x2=\"367.76213080608795\" y2=\"284.09910513769734\" stroke-linecap=\"round\" style=\"stroke:white;stroke-width:4\"/><line x1=\"367.76213080608795\" y1=\"284.09910513769734\" x2=\"367.5242706927732\" y2=\"286.08491040672396\" stroke-linecap=\"round\" style=\"stroke:white;stroke-width:4\"/><line x1=\"367.5242706927732\" y1=\"286.08491040672396\" x2=\"367.38413593860025\" y2=\"288.0799949289117\" stroke-linecap=\"round\" style=\"stroke:white;stroke-width:4\"/><line x1=\"367.38413593860025\" y1=\"288.0799949289117\" x2=\"367.3420641404663\" y2=\"290.0795523708977\" stroke-linecap=\"round\" style=\"stroke:white;stroke-width:4\"/><line x1=\"367.3420641404663\" y1=\"290.0795523708977\" x2=\"367.398156653018\" y2=\"292.0787656236638\" stroke-linecap=\"round\" style=\"stroke:white;stroke-width:4\"/><line x1=\"367.398156653018\" y1=\"292.0787656236638\" x2=\"367.5522783444796\" y2=\"294.07281840737363\" stroke-linecap=\"round\" style=\"stroke:white;stroke-width:4\"/><line x1=\"367.5522783444796\" y1=\"294.07281840737363\" x2=\"367.8040579221968\" y2=\"296.05690687421287\" stroke-linecap=\"round\" style=\"stroke:white;stroke-width:4\"/><line x1=\"367.8040579221968\" y1=\"296.05690687421287\" x2=\"368.1528888271137\" y2=\"298.0262511812793\" stroke-linecap=\"round\" style=\"stroke:white;stroke-width:4\"/><line x1=\"368.1528888271137\" y1=\"298.0262511812793\" x2=\"370.10274465147734\" y2=\"297.5812093133667\" stroke-linecap=\"round\" style=\"stroke:white;stroke-width:4\"/><line x1=\"370.10274465147734\" y1=\"297.5812093133667\" x2=\"372.0284146196701\" y2=\"297.04102862729917\" stroke-linecap=\"round\" style=\"stroke:white;stroke-width:4\"/><line x1=\"372.0284146196701\" y1=\"297.04102862729917\" x2=\"373.9252596240699\" y2=\"296.4070104656638\" stroke-linecap=\"round\" style=\"stroke:white;stroke-width:4\"/><line x1=\"373.9252596240699\" y1=\"296.4070104656638\" x2=\"375.7887099989171\" y2=\"295.68068223374536\" stroke-linecap=\"round\" style=\"stroke:white;stroke-width:4\"/><line x1=\"375.7887099989171\" y1=\"295.68068223374536\" x2=\"377.6142765290397\" y2=\"294.86379371987334\" stroke-linecap=\"round\" style=\"stroke:white;stroke-width:4\"/><line x1=\"377.6142765290397\" y1=\"294.86379371987334\" x2=\"379.39756126476595\" y2=\"293.9583128800287\" stroke-linecap=\"round\" style=\"stroke:white;stroke-width:4\"/><line x1=\"379.39756126476595\" y1=\"293.9583128800287\" x2=\"381.1342681169702\" y2=\"292.96642109686536\" stroke-linecap=\"round\" style=\"stroke:white;stroke-width:4\"/><line x1=\"381.1342681169702\" y1=\"292.96642109686536\" x2=\"382.82021320672783\" y2=\"291.8905079245684\" stroke-linecap=\"round\" style=\"stroke:white;stroke-width:4\"/><line x1=\"382.82021320672783\" y1=\"291.8905079245684\" x2=\"384.45133494464636\" y2=\"290.7331653322088\" stroke-linecap=\"round\" style=\"stroke:white;stroke-width:4\"/><line x1=\"384.45133494464636\" y1=\"290.7331653322088\" x2=\"386.0237038155897\" y2=\"289.49718145946275\" stroke-linecap=\"round\" style=\"stroke:white;stroke-width:4\"/><line x1=\"386.0237038155897\" y1=\"289.49718145946275\" x2=\"387.53353184522456\" y2=\"288.1855338997391\" stroke-linecap=\"round\" style=\"stroke:white;stroke-width:4\"/><line x1=\"387.53353184522456\" y1=\"288.1855338997391\" x2=\"388.97718172558217\" y2=\"286.80138252689596\" stroke-linecap=\"round\" style=\"stroke:white;stroke-width:4\"/><line x1=\"388.97718172558217\" y1=\"286.80138252689596\" x2=\"390.351175577652\" y2=\"285.3480618828279\" stroke-linecap=\"round\" style=\"stroke:white;stroke-width:4\"/><line x1=\"390.351175577652\" y1=\"285.3480618828279\" x2=\"391.6522033298967\" y2=\"283.8290731442623\" stroke-linecap=\"round\" style=\"stroke:white;stroke-width:4\"/><line x1=\"391.6522033298967\" y1=\"283.8290731442623\" x2=\"392.8771306925046\" y2=\"282.2480756881181\" stroke-linecap=\"round\" style=\"stroke:white;stroke-width:4\"/><line x1=\"392.8771306925046\" y1=\"282.2480756881181\" x2=\"394.02300670816817\" y2=\"280.6088782757461\" stroke-linecap=\"round\" style=\"stroke:white;stroke-width:4\"/><line x1=\"394.02300670816817\" y1=\"280.6088782757461\" x2=\"395.08707086119887\" y2=\"278.91542987728957\" stroke-linecap=\"round\" style=\"stroke:white;stroke-width:4\"/><line x1=\"395.08707086119887\" y1=\"278.91542987728957\" x2=\"396.066759727851\" y2=\"277.17181015826884\" stroke-linecap=\"round\" style=\"stroke:white;stroke-width:4\"/><line x1=\"396.066759727851\" y1=\"277.17181015826884\" x2=\"396.9597131518341\" y2=\"275.3822196513101\" stroke-linecap=\"round\" style=\"stroke:white;stroke-width:4\"/><line x1=\"396.9597131518341\" y1=\"275.3822196513101\" x2=\"397.76377993013637\" y2=\"273.5509696366942\" stroke-linecap=\"round\" style=\"stroke:white;stroke-width:4\"/><line x1=\"397.76377993013637\" y1=\"273.5509696366942\" x2=\"398.47702299546097\" y2=\"271.68247175610503\" stroke-linecap=\"round\" style=\"stroke:white;stroke-width:4\"/><line x1=\"398.47702299546097\" y1=\"271.68247175610503\" x2=\"399.0977240827908\" y2=\"269.7812273845979\" stroke-linecap=\"round\" style=\"stroke:white;stroke-width:4\"/><line x1=\"399.0977240827908\" y1=\"269.7812273845979\" x2=\"399.62438786883956\" y2=\"267.85181678639316\" stroke-linecap=\"round\" style=\"stroke:white;stroke-width:4\"/><line x1=\"399.62438786883956\" y1=\"267.85181678639316\" x2=\"400.0557455744163\" y2=\"265.8988880806183\" stroke-linecap=\"round\" style=\"stroke:white;stroke-width:4\"/><line x1=\"400.0557455744163\" y1=\"265.8988880806183\" x2=\"400.39075802102576\" y2=\"263.92714604358184\" stroke-linecap=\"round\" style=\"stroke:white;stroke-width:4\"/><line x1=\"400.39075802102576\" y1=\"263.92714604358184\" x2=\"400.6286181343405\" y2=\"261.9413407745552\" stroke-linecap=\"round\" style=\"stroke:white;stroke-width:4\"/><line x1=\"400.6286181343405\" y1=\"261.9413407745552\" x2=\"400.76875288851346\" y2=\"259.9462562523675\" stroke-linecap=\"round\" style=\"stroke:white;stroke-width:4\"/><line x1=\"400.76875288851346\" y1=\"259.9462562523675\" x2=\"400.81082468664744\" y2=\"257.94669881038146\" stroke-linecap=\"round\" style=\"stroke:white;stroke-width:4\"/><line x1=\"400.81082468664744\" y1=\"257.94669881038146\" x2=\"400.7547321740957\" y2=\"255.94748555761535\" stroke-linecap=\"round\" style=\"stroke:white;stroke-width:4\"/><line x1=\"400.7547321740957\" y1=\"255.94748555761535\" x2=\"400.6006104826341\" y2=\"253.9534327739055\" stroke-linecap=\"round\" style=\"stroke:white;stroke-width:4\"/><line x1=\"400.6006104826341\" y1=\"253.9534327739055\" x2=\"400.3488309049169\" y2=\"251.96934430706625\" stroke-linecap=\"round\" style=\"stroke:white;stroke-width:4\"/><line x1=\"400.3488309049169\" y1=\"251.96934430706625\" x2=\"400.0\" y2=\"249.99999999999986\" stroke-linecap=\"round\" style=\"stroke:white;stroke-width:4\"/><line x1=\"400.0\" y1=\"249.99999999999986\" x2=\"399.1322325217649\" y2=\"251.8019377358047\" stroke-linecap=\"round\" style=\"stroke:white;stroke-width:4\"/><line x1=\"399.1322325217649\" y1=\"251.8019377358047\" x2=\"398.3539272014398\" y2=\"253.64428429070517\" stroke-linecap=\"round\" style=\"stroke:white;stroke-width:4\"/><line x1=\"398.3539272014398\" y1=\"253.64428429070517\" x2=\"397.6669590447128\" y2=\"255.52260129048003\" stroke-linecap=\"round\" style=\"stroke:white;stroke-width:4\"/><line x1=\"397.6669590447128\" y1=\"255.52260129048003\" x2=\"397.07298301804497\" y2=\"257.43236370495566\" stroke-linecap=\"round\" style=\"stroke:white;stroke-width:4\"/><line x1=\"397.07298301804497\" y1=\"257.43236370495566\" x2=\"396.5734300617105\" y2=\"259.3689707492002\" stroke-linecap=\"round\" style=\"stroke:white;stroke-width:4\"/><line x1=\"396.5734300617105\" y1=\"259.3689707492002\" x2=\"396.16950364253694\" y2=\"261.3277569672172\" stroke-linecap=\"round\" style=\"stroke:white;stroke-width:4\"/><line x1=\"396.16950364253694\" y1=\"261.3277569672172\" x2=\"395.8621768546479\" y2=\"263.30400347143825\" stroke-linecap=\"round\" style=\"stroke:white;stroke-width:4\"/><line x1=\"395.8621768546479\" y1=\"263.30400347143825\" x2=\"395.65219007519397\" y2=\"265.2929493109358\" stroke-linecap=\"round\" style=\"stroke:white;stroke-width:4\"/><line x1=\"395.65219007519397\" y1=\"265.2929493109358\" x2=\"395.54004918071956\" y2=\"267.2898029409714\" stroke-linecap=\"round\" style=\"stroke:white;stroke-width:4\"/><line x1=\"395.54004918071956\" y1=\"267.2898029409714\" x2=\"395.52602432846186\" y2=\"269.2897537662467\" stroke-linecap=\"round\" style=\"stroke:white;stroke-width:4\"/><line x1=\"395.52602432846186\" y1=\"269.2897537662467\" x2=\"395.6101493055184\" y2=\"271.28798373004844\" stroke-linecap=\"round\" style=\"stroke:white;stroke-width:4\"/><line x1=\"395.6101493055184\" y1=\"271.28798373004844\" x2=\"395.79222144745097\" y2=\"273.2796789213697\" stroke-linecap=\"round\" style=\"stroke:white;stroke-width:4\"/><line x1=\"395.79222144745097\" y1=\"273.2796789213697\" x2=\"396.07180212652196\" y2=\"275.2600411720426\" stroke-linecap=\"round\" style=\"stroke:white;stroke-width:4\"/><line x1=\"396.07180212652196\" y1=\"275.2600411720426\" x2=\"396.44821780838714\" y2=\"277.224299615946\" stroke-linecap=\"round\" style=\"stroke:white;stroke-width:4\"/><line x1=\"396.44821780838714\" y1=\"277.224299615946\" x2=\"396.92056167469883\" y2=\"279.1677221824399\" stroke-linecap=\"round\" style=\"stroke:white;stroke-width:4\"/><line x1=\"396.92056167469883\" y1=\"279.1677221824399\" x2=\"397.48769580771057\" y2=\"281.08562699633785\" stroke-linecap=\"round\" style=\"stroke:white;stroke-width:4\"/><line x1=\"397.48769580771057\" y1=\"281.08562699633785\" x2=\"398.1482539316209\" y2=\"282.9733936569546\" stroke-linecap=\"round\" style=\"stroke:white;stroke-width:4\"/><line x1=\"398.1482539316209\" y1=\"282.9733936569546\" x2=\"398.9006447040513\" y2=\"284.82647436905586\" stroke-linecap=\"round\" style=\"stroke:white;stroke-width:4\"/><line x1=\"398.9006447040513\" y1=\"284.82647436905586\" x2=\"399.7430555497292\" y2=\"286.64040489889544\" stroke-linecap=\"round\" style=\"stroke:white;stroke-width:4\"/><line x1=\"399.7430555497292\" y1=\"286.64040489889544\" x2=\"400.673457027141\" y2=\"288.4108153289455\" stroke-linecap=\"round\" style=\"stroke:white;stroke-width:4\"/><line x1=\"400.673457027141\" y1=\"288.4108153289455\" x2=\"401.6896077176341\" y2=\"290.1334405854103\" stroke-linecap=\"round\" style=\"stroke:white;stroke-width:4\"/><line x1=\"401.6896077176341\" y1=\"290.1334405854103\" x2=\"402.7890596251907\" y2=\"291.8041307131629\" stroke-linecap=\"round\" style=\"stroke:white;stroke-width:4\"/><line x1=\"402.7890596251907\" y1=\"291.8041307131629\" x2=\"403.969164073865\" y2=\"293.41886087335047\" stroke-linecap=\"round\" style=\"stroke:white;stroke-width:4\"/><line x1=\"403.969164073865\" y1=\"293.41886087335047\" x2=\"405.2270780886751\" y2=\"294.97374103958333\" stroke-linecap=\"round\" style=\"stroke:white;stroke-width:4\"/><line x1=\"405.2270780886751\" y1=\"294.97374103958333\" x2=\"406.5597712445791\" y2=\"296.4650253693497\" stroke-linecap=\"round\" style=\"stroke:white;stroke-width:4\"/><line x1=\"406.5597712445791\" y1=\"296.4650253693497\" x2=\"407.9640329670343\" y2=\"297.889121228078\" stroke-linecap=\"round\" style=\"stroke:white;stroke-width:4\"/><line x1=\"407.9640329670343\" y1=\"297.889121228078\" x2=\"409.4364802665525\" y2=\"299.24259784410856\" stroke-linecap=\"round\" style=\"stroke:white;stroke-width:4\"/><line x1=\"409.4364802665525\" y1=\"299.24259784410856\" x2=\"410.97356588861805\" y2=\"300.5221945737228\" stroke-linecap=\"round\" style=\"stroke:white;stroke-width:4\"/><line x1=\"410.97356588861805\" y1=\"300.5221945737228\" x2=\"412.57158685933456\" y2=\"301.7248287563196\" stroke-linecap=\"round\" style=\"stroke:white;stroke-width:4\"/><line x1=\"412.57158685933456\" y1=\"301.7248287563196\" x2=\"414.2266934062135\" y2=\"302.8476031408148\" stroke-linecap=\"round\" style=\"stroke:white;stroke-width:4\"/><line x1=\"414.2266934062135\" y1=\"302.8476031408148\" x2=\"415.93489823261314\" y2=\"303.8878128653727\" stroke-linecap=\"round\" style=\"stroke:white;stroke-width:4\"/><line x1=\"415.93489823261314\" y1=\"303.8878128653727\" x2=\"417.6920861234857\" y2=\"304.8429519736553\" stroke-linecap=\"round\" style=\"stroke:white;stroke-width:4\"/><line x1=\"417.6920861234857\" y1=\"304.8429519736553\" x2=\"418.5598536017208\" y2=\"303.0410142378505\" stroke-linecap=\"round\" style=\"stroke:white;stroke-width:4\"/><line x1=\"418.5598536017208\" y1=\"303.0410142378505\" x2=\"419.3381589220459\" y2=\"301.19866768295003\" stroke-linecap=\"round\" style=\"stroke:white;stroke-width:4\"/><line x1=\"419.3381589220459\" y1=\"301.19866768295003\" x2=\"420.02512707877287\" y2=\"299.32035068317515\" stroke-linecap=\"round\" style=\"stroke:white;stroke-width:4\"/><line x1=\"420.02512707877287\" y1=\"299.32035068317515\" x2=\"420.61910310544073\" y2=\"297.4105882686995\" stroke-linecap=\"round\" style=\"stroke:white;stroke-width:4\"/><line x1=\"420.61910310544073\" y1=\"297.4105882686995\" x2=\"421.1186560617752\" y2=\"295.473981224455\" stroke-linecap=\"round\" style=\"stroke:white;stroke-width:4\"/><line x1=\"421.1186560617752\" y1=\"295.473981224455\" x2=\"421.52258248094876\" y2=\"293.5151950064379\" stroke-linecap=\"round\" style=\"stroke:white;stroke-width:4\"/><line x1=\"421.52258248094876\" y1=\"293.5151950064379\" x2=\"421.8299092688378\" y2=\"291.5389485022169\" stroke-linecap=\"round\" style=\"stroke:white;stroke-width:4\"/><line x1=\"421.8299092688378\" y1=\"291.5389485022169\" x2=\"422.0398960482917\" y2=\"289.55000266271935\" stroke-linecap=\"round\" style=\"stroke:white;stroke-width:4\"/><line x1=\"422.0398960482917\" y1=\"289.55000266271935\" x2=\"422.15203694276613\" y2=\"287.55314903268373\" stroke-linecap=\"round\" style=\"stroke:white;stroke-width:4\"/><line x1=\"422.15203694276613\" y1=\"287.55314903268373\" x2=\"422.16606179502384\" y2=\"285.5531982074085\" stroke-linecap=\"round\" style=\"stroke:white;stroke-width:4\"/><line x1=\"422.16606179502384\" y1=\"285.5531982074085\" x2=\"422.0819368179673\" y2=\"283.55496824360677\" stroke-linecap=\"round\" style=\"stroke:white;stroke-width:4\"/><line x1=\"422.0819368179673\" y1=\"283.55496824360677\" x2=\"421.8998646760347\" y2=\"281.5632730522855\" stroke-linecap=\"round\" style=\"stroke:white;stroke-width:4\"/><line x1=\"421.8998646760347\" y1=\"281.5632730522855\" x2=\"421.62028399696374\" y2=\"279.5829108016126\" stroke-linecap=\"round\" style=\"stroke:white;stroke-width:4\"/><line x1=\"421.62028399696374\" y1=\"279.5829108016126\" x2=\"421.24386831509855\" y2=\"277.6186523577092\" stroke-linecap=\"round\" style=\"stroke:white;stroke-width:4\"/><line x1=\"421.24386831509855\" y1=\"277.6186523577092\" x2=\"420.77152444878686\" y2=\"275.6752297912153\" stroke-linecap=\"round\" style=\"stroke:white;stroke-width:4\"/><line x1=\"420.77152444878686\" y1=\"275.6752297912153\" x2=\"420.20439031577513\" y2=\"273.75732497731735\" stroke-linecap=\"round\" style=\"stroke:white;stroke-width:4\"/><line x1=\"420.20439031577513\" y1=\"273.75732497731735\" x2=\"419.5438321918648\" y2=\"271.8695583167006\" stroke-linecap=\"round\" style=\"stroke:white;stroke-width:4\"/><line x1=\"419.5438321918648\" y1=\"271.8695583167006\" x2=\"418.7914414194344\" y2=\"270.01647760459934\" stroke-linecap=\"round\" style=\"stroke:white;stroke-width:4\"/><line x1=\"418.7914414194344\" y1=\"270.01647760459934\" x2=\"417.9490305737565\" y2=\"268.20254707475976\" stroke-linecap=\"round\" style=\"stroke:white;stroke-width:4\"/><line x1=\"417.9490305737565\" y1=\"268.20254707475976\" x2=\"417.0186290963447\" y2=\"266.4321366447097\" stroke-linecap=\"round\" style=\"stroke:white;stroke-width:4\"/><line x1=\"417.0186290963447\" y1=\"266.4321366447097\" x2=\"416.0024784058516\" y2=\"264.7095113882449\" stroke-linecap=\"round\" style=\"stroke:white;stroke-width:4\"/><line x1=\"416.0024784058516\" y1=\"264.7095113882449\" x2=\"414.903026498295\" y2=\"263.0388212604923\" stroke-linecap=\"round\" style=\"stroke:white;stroke-width:4\"/><line x1=\"414.903026498295\" y1=\"263.0388212604923\" x2=\"413.7229220496207\" y2=\"261.42409110030474\" stroke-linecap=\"round\" style=\"stroke:white;stroke-width:4\"/><line x1=\"413.7229220496207\" y1=\"261.42409110030474\" x2=\"412.4650080348106\" y2=\"259.8692109340719\" stroke-linecap=\"round\" style=\"stroke:white;stroke-width:4\"/><line x1=\"412.4650080348106\" y1=\"259.8692109340719\" x2=\"411.1323148789066\" y2=\"258.37792660430557\" stroke-linecap=\"round\" style=\"stroke:white;stroke-width:4\"/><line x1=\"411.1323148789066\" y1=\"258.37792660430557\" x2=\"409.7280531564514\" y2=\"256.95383074557725\" stroke-linecap=\"round\" style=\"stroke:white;stroke-width:4\"/><line x1=\"409.7280531564514\" y1=\"256.95383074557725\" x2=\"408.2556058569332\" y2=\"255.6003541295467\" stroke-linecap=\"round\" style=\"stroke:white;stroke-width:4\"/><line x1=\"408.2556058569332\" y1=\"255.6003541295467\" x2=\"406.71852023486764\" y2=\"254.3207573999325\" stroke-linecap=\"round\" style=\"stroke:white;stroke-width:4\"/><line x1=\"406.71852023486764\" y1=\"254.3207573999325\" x2=\"405.12049926415114\" y2=\"253.11812321733566\" stroke-linecap=\"round\" style=\"stroke:white;stroke-width:4\"/><line x1=\"405.12049926415114\" y1=\"253.11812321733566\" x2=\"403.4653927172722\" y2=\"251.99534883284045\" stroke-linecap=\"round\" style=\"stroke:white;stroke-width:4\"/><line x1=\"403.4653927172722\" y1=\"251.99534883284045\" x2=\"401.75718789087256\" y2=\"250.9551391082825\" stroke-linecap=\"round\" style=\"stroke:white;stroke-width:4\"/><line x1=\"401.75718789087256\" y1=\"250.9551391082825\" x2=\"400.0\" y2=\"249.9999999999999\" stroke-linecap=\"round\" style=\"stroke:white;stroke-width:4\"/><line x1=\"400.0\" y1=\"249.9999999999999\" x2=\"400.8677674782351\" y2=\"251.80193773580473\" stroke-linecap=\"round\" style=\"stroke:white;stroke-width:4\"/><line x1=\"400.8677674782351\" y1=\"251.80193773580473\" x2=\"401.8229065865177\" y2=\"253.55912562667726\" stroke-linecap=\"round\" style=\"stroke:white;stroke-width:4\"/><line x1=\"401.8229065865177\" y1=\"253.55912562667726\" x2=\"402.86311631107566\" y2=\"255.2673304530769\" stroke-linecap=\"round\" style=\"stroke:white;stroke-width:4\"/><line x1=\"402.86311631107566\" y1=\"255.2673304530769\" x2=\"403.9858906955709\" y2=\"256.9224369999558\" stroke-linecap=\"round\" style=\"stroke:white;stroke-width:4\"/><line x1=\"403.9858906955709\" y1=\"256.9224369999558\" x2=\"405.1885248781677\" y2=\"258.5204579706723\" stroke-linecap=\"round\" style=\"stroke:white;stroke-width:4\"/><line x1=\"405.1885248781677\" y1=\"258.5204579706723\" x2=\"406.46812160778194\" y2=\"260.05754359273783\" stroke-linecap=\"round\" style=\"stroke:white;stroke-width:4\"/><line x1=\"406.46812160778194\" y1=\"260.05754359273783\" x2=\"407.8215982238125\" y2=\"261.529990892256\" stroke-linecap=\"round\" style=\"stroke:white;stroke-width:4\"/><line x1=\"407.8215982238125\" y1=\"261.529990892256\" x2=\"409.2456940825408\" y2=\"262.9342526147112\" stroke-linecap=\"round\" style=\"stroke:white;stroke-width:4\"/><line x1=\"409.2456940825408\" y1=\"262.9342526147112\" x2=\"410.73697841230717\" y2=\"264.2669457706152\" stroke-linecap=\"round\" style=\"stroke:white;stroke-width:4\"/><line x1=\"410.73697841230717\" y1=\"264.2669457706152\" x2=\"412.29185857854003\" y2=\"265.5248597854253\" stroke-linecap=\"round\" style=\"stroke:white;stroke-width:4\"/><line x1=\"412.29185857854003\" y1=\"265.5248597854253\" x2=\"413.9065887387276\" y2=\"266.7049642340995\" stroke-linecap=\"round\" style=\"stroke:white;stroke-width:4\"/><line x1=\"413.9065887387276\" y1=\"266.7049642340995\" x2=\"415.57727886648024\" y2=\"267.80441614165613\" stroke-linecap=\"round\" style=\"stroke:white;stroke-width:4\"/><line x1=\"415.57727886648024\" y1=\"267.80441614165613\" x2=\"417.29990412294507\" y2=\"268.8205668321492\" stroke-linecap=\"round\" style=\"stroke:white;stroke-width:4\"/><line x1=\"417.29990412294507\" y1=\"268.8205668321492\" x2=\"419.0703145529951\" y2=\"269.750968309561\" stroke-linecap=\"round\" style=\"stroke:white;stroke-width:4\"/><line x1=\"419.0703145529951\" y1=\"269.750968309561\" x2=\"420.8842450828347\" y2=\"270.59337915523895\" stroke-linecap=\"round\" style=\"stroke:white;stroke-width:4\"/><line x1=\"420.8842450828347\" y1=\"270.59337915523895\" x2=\"422.73732579493594\" y2=\"271.3457699276693\" stroke-linecap=\"round\" style=\"stroke:white;stroke-width:4\"/><line x1=\"422.73732579493594\" y1=\"271.3457699276693\" x2=\"424.6250924555527\" y2=\"272.00632805157966\" stroke-linecap=\"round\" style=\"stroke:white;stroke-width:4\"/><line x1=\"424.6250924555527\" y1=\"272.00632805157966\" x2=\"426.54299726945067\" y2=\"272.5734621845914\" stroke-linecap=\"round\" style=\"stroke:white;stroke-width:4\"/><line x1=\"426.54299726945067\" y1=\"272.5734621845914\" x2=\"428.48641983594456\" y2=\"273.0458060509031\" stroke-linecap=\"round\" style=\"stroke:white;stroke-width:4\"/><line x1=\"428.48641983594456\" y1=\"273.0458060509031\" x2=\"430.450678279848\" y2=\"273.42222173276826\" stroke-linecap=\"round\" style=\"stroke:white;stroke-width:4\"/><line x1=\"430.450678279848\" y1=\"273.42222173276826\" x2=\"432.4310405305209\" y2=\"273.70180241183925\" stroke-linecap=\"round\" style=\"stroke:white;stroke-width:4\"/><line x1=\"432.4310405305209\" y1=\"273.70180241183925\" x2=\"434.4227357218421\" y2=\"273.8838745537718\" stroke-linecap=\"round\" style=\"stroke:white;stroke-width:4\"/><line x1=\"434.4227357218421\" y1=\"273.8838745537718\" x2=\"436.42096568564386\" y2=\"273.96799953082837\" stroke-linecap=\"round\" style=\"stroke:white;stroke-width:4\"/><line x1=\"436.42096568564386\" y1=\"273.96799953082837\" x2=\"438.42091651091914\" y2=\"273.95397467857066\" stroke-linecap=\"round\" style=\"stroke:white;stroke-width:4\"/><line x1=\"438.42091651091914\" y1=\"273.95397467857066\" x2=\"440.41777014095476\" y2=\"273.84183378409625\" stroke-linecap=\"round\" style=\"stroke:white;stroke-width:4\"/><line x1=\"440.41777014095476\" y1=\"273.84183378409625\" x2=\"442.4067159804523\" y2=\"273.63184700464234\" stroke-linecap=\"round\" style=\"stroke:white;stroke-width:4\"/><line x1=\"442.4067159804523\" y1=\"273.63184700464234\" x2=\"444.3829624846733\" y2=\"273.3245202167533\" stroke-linecap=\"round\" style=\"stroke:white;stroke-width:4\"/><line x1=\"444.3829624846733\" y1=\"273.3245202167533\" x2=\"446.3417487026904\" y2=\"272.9205937975797\" stroke-linecap=\"round\" style=\"stroke:white;stroke-width:4\"/><line x1=\"446.3417487026904\" y1=\"272.9205937975797\" x2=\"448.2783557469349\" y2=\"272.42104084124526\" stroke-linecap=\"round\" style=\"stroke:white;stroke-width:4\"/><line x1=\"448.2783557469349\" y1=\"272.42104084124526\" x2=\"450.18811816141056\" y2=\"271.82706481457734\" stroke-linecap=\"round\" style=\"stroke:white;stroke-width:4\"/><line x1=\"450.18811816141056\" y1=\"271.82706481457734\" x2=\"452.06643516118544\" y2=\"271.1400966578504\" stroke-linecap=\"round\" style=\"stroke:white;stroke-width:4\"/><line x1=\"452.06643516118544\" y1=\"271.1400966578504\" x2=\"453.9087817160859\" y2=\"270.3617913375253\" stroke-linecap=\"round\" style=\"stroke:white;stroke-width:4\"/><line x1=\"453.9087817160859\" y1=\"270.3617913375253\" x2=\"453.0410142378508\" y2=\"268.5598536017205\" stroke-linecap=\"round\" style=\"stroke:white;stroke-width:4\"/><line x1=\"453.0410142378508\" y1=\"268.5598536017205\" x2=\"452.0858751295682\" y2=\"266.8026657108479\" stroke-linecap=\"round\" style=\"stroke:white;stroke-width:4\"/><line x1=\"452.0858751295682\" y1=\"266.8026657108479\" x2=\"451.04566540501025\" y2=\"265.09446088444827\" stroke-linecap=\"round\" style=\"stroke:white;stroke-width:4\"/><line x1=\"451.04566540501025\" y1=\"265.09446088444827\" x2=\"449.922891020515\" y2=\"263.4393543375694\" stroke-linecap=\"round\" style=\"stroke:white;stroke-width:4\"/><line x1=\"449.922891020515\" y1=\"263.4393543375694\" x2=\"448.7202568379182\" y2=\"261.8413333668529\" stroke-linecap=\"round\" style=\"stroke:white;stroke-width:4\"/><line x1=\"448.7202568379182\" y1=\"261.8413333668529\" x2=\"447.440660108304\" y2=\"260.30424774478735\" stroke-linecap=\"round\" style=\"stroke:white;stroke-width:4\"/><line x1=\"447.440660108304\" y1=\"260.30424774478735\" x2=\"446.0871834922734\" y2=\"258.83180044526915\" stroke-linecap=\"round\" style=\"stroke:white;stroke-width:4\"/><line x1=\"446.0871834922734\" y1=\"258.83180044526915\" x2=\"444.6630876335451\" y2=\"257.42753872281395\" stroke-linecap=\"round\" style=\"stroke:white;stroke-width:4\"/><line x1=\"444.6630876335451\" y1=\"257.42753872281395\" x2=\"443.17180330377874\" y2=\"256.09484556690995\" stroke-linecap=\"round\" style=\"stroke:white;stroke-width:4\"/><line x1=\"443.17180330377874\" y1=\"256.09484556690995\" x2=\"441.6169231375459\" y2=\"254.83693155209986\" stroke-linecap=\"round\" style=\"stroke:white;stroke-width:4\"/><line x1=\"441.6169231375459\" y1=\"254.83693155209986\" x2=\"440.00219297735833\" y2=\"253.6568271034256\" stroke-linecap=\"round\" style=\"stroke:white;stroke-width:4\"/><line x1=\"440.00219297735833\" y1=\"253.6568271034256\" x2=\"438.33150284960567\" y2=\"252.55737519586899\" stroke-linecap=\"round\" style=\"stroke:white;stroke-width:4\"/><line x1=\"438.33150284960567\" y1=\"252.55737519586899\" x2=\"436.60887759314085\" y2=\"251.54122450537594\" stroke-linecap=\"round\" style=\"stroke:white;stroke-width:4\"/><line x1=\"436.60887759314085\" y1=\"251.54122450537594\" x2=\"434.8384671630908\" y2=\"250.61082302796413\" stroke-linecap=\"round\" style=\"stroke:white;stroke-width:4\"/><line x1=\"434.8384671630908\" y1=\"250.61082302796413\" x2=\"433.0245366332512\" y2=\"249.7684121822862\" stroke-linecap=\"round\" style=\"stroke:white;stroke-width:4\"/><line x1=\"433.0245366332512\" y1=\"249.7684121822862\" x2=\"431.17145592114997\" y2=\"249.01602140985585\" stroke-linecap=\"round\" style=\"stroke:white;stroke-width:4\"/><line x1=\"431.17145592114997\" y1=\"249.01602140985585\" x2=\"429.2836892605332\" y2=\"248.35546328594552\" stroke-linecap=\"round\" style=\"stroke:white;stroke-width:4\"/><line x1=\"429.2836892605332\" y1=\"248.35546328594552\" x2=\"427.36578444663525\" y2=\"247.78832915293376\" stroke-linecap=\"round\" style=\"stroke:white;stroke-width:4\"/><line x1=\"427.36578444663525\" y1=\"247.78832915293376\" x2=\"425.42236188014135\" y2=\"247.3159852866221\" stroke-linecap=\"round\" style=\"stroke:white;stroke-width:4\"/><line x1=\"425.42236188014135\" y1=\"247.3159852866221\" x2=\"423.45810343623793\" y2=\"246.93956960475688\" stroke-linecap=\"round\" style=\"stroke:white;stroke-width:4\"/><line x1=\"423.45810343623793\" y1=\"246.93956960475688\" x2=\"421.47774118556504\" y2=\"246.6599889256859\" stroke-linecap=\"round\" style=\"stroke:white;stroke-width:4\"/><line x1=\"421.47774118556504\" y1=\"246.6599889256859\" x2=\"419.4860459942438\" y2=\"246.47791678375336\" stroke-linecap=\"round\" style=\"stroke:white;stroke-width:4\"/><line x1=\"419.4860459942438\" y1=\"246.47791678375336\" x2=\"417.48781603044205\" y2=\"246.39379180669684\" stroke-linecap=\"round\" style=\"stroke:white;stroke-width:4\"/><line x1=\"417.48781603044205\" y1=\"246.39379180669684\" x2=\"415.4878652051668\" y2=\"246.40781665895452\" stroke-linecap=\"round\" style=\"stroke:white;stroke-width:4\"/><line x1=\"415.4878652051668\" y1=\"246.40781665895452\" x2=\"413.4910115751312\" y2=\"246.5199575534289\" stroke-linecap=\"round\" style=\"stroke:white;stroke-width:4\"/><line x1=\"413.4910115751312\" y1=\"246.5199575534289\" x2=\"411.50206573563366\" y2=\"246.7299443328828\" stroke-linecap=\"round\" style=\"stroke:white;stroke-width:4\"/><line x1=\"411.50206573563366\" y1=\"246.7299443328828\" x2=\"409.52581923141264\" y2=\"247.03727112077186\" stroke-linecap=\"round\" style=\"stroke:white;stroke-width:4\"/><line x1=\"409.52581923141264\" y1=\"247.03727112077186\" x2=\"407.5670330133956\" y2=\"247.4411975399454\" stroke-linecap=\"round\" style=\"stroke:white;stroke-width:4\"/><line x1=\"407.5670330133956\" y1=\"247.4411975399454\" x2=\"405.6304259691511\" y2=\"247.94075049627986\" stroke-linecap=\"round\" style=\"stroke:white;stroke-width:4\"/><line x1=\"405.6304259691511\" y1=\"247.94075049627986\" x2=\"403.7206635546754\" y2=\"248.53472652294775\" stroke-linecap=\"round\" style=\"stroke:white;stroke-width:4\"/><line x1=\"403.7206635546754\" y1=\"248.53472652294775\" x2=\"401.84234655490053\" y2=\"249.22169467967467\" stroke-linecap=\"round\" style=\"stroke:white;stroke-width:4\"/><line x1=\"401.84234655490053\" y1=\"249.22169467967467\" x2=\"400.00000000000006\" y2=\"249.99999999999977\" stroke-linecap=\"round\" style=\"stroke:white;stroke-width:4\"/><line x1=\"400.00000000000006\" y1=\"249.99999999999977\" x2=\"401.9498558243637\" y2=\"250.4450418679124\" stroke-linecap=\"round\" style=\"stroke:white;stroke-width:4\"/><line x1=\"401.9498558243637\" y1=\"250.4450418679124\" x2=\"403.9192001314301\" y2=\"250.7938727728293\" stroke-linecap=\"round\" style=\"stroke:white;stroke-width:4\"/><line x1=\"403.9192001314301\" y1=\"250.7938727728293\" x2=\"405.90328859826934\" y2=\"251.04565235054656\" stroke-linecap=\"round\" style=\"stroke:white;stroke-width:4\"/><line x1=\"405.90328859826934\" y1=\"251.04565235054656\" x2=\"407.8973413819792\" y2=\"251.19977404200816\" stroke-linecap=\"round\" style=\"stroke:white;stroke-width:4\"/><line x1=\"407.8973413819792\" y1=\"251.19977404200816\" x2=\"409.89655463474526\" y2=\"251.2558665545599\" stroke-linecap=\"round\" style=\"stroke:white;stroke-width:4\"/><line x1=\"409.89655463474526\" y1=\"251.2558665545599\" x2=\"411.8961120767313\" y2=\"251.21379475642593\" stroke-linecap=\"round\" style=\"stroke:white;stroke-width:4\"/><line x1=\"411.8961120767313\" y1=\"251.21379475642593\" x2=\"413.891196598919\" y2=\"251.07366000225298\" stroke-linecap=\"round\" style=\"stroke:white;stroke-width:4\"/><line x1=\"413.891196598919\" y1=\"251.07366000225298\" x2=\"415.87700186794564\" y2=\"250.83579988893825\" stroke-linecap=\"round\" style=\"stroke:white;stroke-width:4\"/><line x1=\"415.87700186794564\" y1=\"250.83579988893825\" x2=\"417.8487439049821\" y2=\"250.50078744232877\" stroke-linecap=\"round\" style=\"stroke:white;stroke-width:4\"/><line x1=\"417.8487439049821\" y1=\"250.50078744232877\" x2=\"419.80167261075695\" y2=\"250.06942973675206\" stroke-linecap=\"round\" style=\"stroke:white;stroke-width:4\"/><line x1=\"419.80167261075695\" y1=\"250.06942973675206\" x2=\"421.7310832089617\" y2=\"249.5427659507033\" stroke-linecap=\"round\" style=\"stroke:white;stroke-width:4\"/><line x1=\"421.7310832089617\" y1=\"249.5427659507033\" x2=\"423.6323275804688\" y2=\"248.92206486337344\" stroke-linecap=\"round\" style=\"stroke:white;stroke-width:4\"/><line x1=\"423.6323275804688\" y1=\"248.92206486337344\" x2=\"425.500825461058\" y2=\"248.2088217980488\" stroke-linecap=\"round\" style=\"stroke:white;stroke-width:4\"/><line x1=\"425.500825461058\" y1=\"248.2088217980488\" x2=\"427.3320754756739\" y2=\"247.4047550197465\" stroke-linecap=\"round\" style=\"stroke:white;stroke-width:4\"/><line x1=\"427.3320754756739\" y1=\"247.4047550197465\" x2=\"429.12166598263263\" y2=\"246.51180159576336\" stroke-linecap=\"round\" style=\"stroke:white;stroke-width:4\"/><line x1=\"429.12166598263263\" y1=\"246.51180159576336\" x2=\"430.86528570165336\" y2=\"245.53211272911128\" stroke-linecap=\"round\" style=\"stroke:white;stroke-width:4\"/><line x1=\"430.86528570165336\" y1=\"245.53211272911128\" x2=\"432.5587341001099\" y2=\"244.4680485760806\" stroke-linecap=\"round\" style=\"stroke:white;stroke-width:4\"/><line x1=\"432.5587341001099\" y1=\"244.4680485760806\" x2=\"434.1979315124819\" y2=\"243.32217256041702\" stroke-linecap=\"round\" style=\"stroke:white;stroke-width:4\"/><line x1=\"434.1979315124819\" y1=\"243.32217256041702\" x2=\"435.7789289686261\" y2=\"242.09724519780912\" stroke-linecap=\"round\" style=\"stroke:white;stroke-width:4\"/><line x1=\"435.7789289686261\" y1=\"242.09724519780912\" x2=\"437.29791770719163\" y2=\"240.7962174455644\" stroke-linecap=\"round\" style=\"stroke:white;stroke-width:4\"/><line x1=\"437.29791770719163\" y1=\"240.7962174455644\" x2=\"438.7512383512597\" y2=\"239.42222359349458\" stroke-linecap=\"round\" style=\"stroke:white;stroke-width:4\"/><line x1=\"438.7512383512597\" y1=\"239.42222359349458\" x2=\"440.1353897241028\" y2=\"237.97857371313697\" stroke-linecap=\"round\" style=\"stroke:white;stroke-width:4\"/><line x1=\"440.1353897241028\" y1=\"237.97857371313697\" x2=\"441.4470372838265\" y2=\"236.46874568350214\" stroke-linecap=\"round\" style=\"stroke:white;stroke-width:4\"/><line x1=\"441.4470372838265\" y1=\"236.46874568350214\" x2=\"442.6830211565725\" y2=\"234.89637681255877\" stroke-linecap=\"round\" style=\"stroke:white;stroke-width:4\"/><line x1=\"442.6830211565725\" y1=\"234.89637681255877\" x2=\"443.84036374893213\" y2=\"233.26525507464024\" stroke-linecap=\"round\" style=\"stroke:white;stroke-width:4\"/><line x1=\"443.84036374893213\" y1=\"233.26525507464024\" x2=\"444.91627692122904\" y2=\"231.57930998488257\" stroke-linecap=\"round\" style=\"stroke:white;stroke-width:4\"/><line x1=\"444.91627692122904\" y1=\"231.57930998488257\" x2=\"445.9081687043924\" y2=\"229.84260313267836\" stroke-linecap=\"round\" style=\"stroke:white;stroke-width:4\"/><line x1=\"445.9081687043924\" y1=\"229.84260313267836\" x2=\"446.813649544237\" y2=\"228.0593183969521\" stroke-linecap=\"round\" style=\"stroke:white;stroke-width:4\"/><line x1=\"446.813649544237\" y1=\"228.0593183969521\" x2=\"447.63053805810904\" y2=\"226.23375186682946\" stroke-linecap=\"round\" style=\"stroke:white;stroke-width:4\"/><line x1=\"447.63053805810904\" y1=\"226.23375186682946\" x2=\"448.3568662900275\" y2=\"224.37030149198225\" stroke-linecap=\"round\" style=\"stroke:white;stroke-width:4\"/><line x1=\"448.3568662900275\" y1=\"224.37030149198225\" x2=\"448.99088445166285\" y2=\"222.47345648758244\" stroke-linecap=\"round\" style=\"stroke:white;stroke-width:4\"/><line x1=\"448.99088445166285\" y1=\"222.47345648758244\" x2=\"449.53106513773037\" y2=\"220.54778651938963\" stroke-linecap=\"round\" style=\"stroke:white;stroke-width:4\"/><line x1=\"449.53106513773037\" y1=\"220.54778651938963\" x2=\"447.58120931336674\" y2=\"220.102744651477\" stroke-linecap=\"round\" style=\"stroke:white;stroke-width:4\"/><line x1=\"447.58120931336674\" y1=\"220.102744651477\" x2=\"445.6118650063003\" y2=\"219.7539137465601\" stroke-linecap=\"round\" style=\"stroke:white;stroke-width:4\"/><line x1=\"445.6118650063003\" y1=\"219.7539137465601\" x2=\"443.6277765394611\" y2=\"219.50213416884284\" stroke-linecap=\"round\" style=\"stroke:white;stroke-width:4\"/><line x1=\"443.6277765394611\" y1=\"219.50213416884284\" x2=\"441.63372375575125\" y2=\"219.34801247738125\" stroke-linecap=\"round\" style=\"stroke:white;stroke-width:4\"/><line x1=\"441.63372375575125\" y1=\"219.34801247738125\" x2=\"439.63451050298517\" y2=\"219.2919199648295\" stroke-linecap=\"round\" style=\"stroke:white;stroke-width:4\"/><line x1=\"439.63451050298517\" y1=\"219.2919199648295\" x2=\"437.6349530609991\" y2=\"219.33399176296348\" stroke-linecap=\"round\" style=\"stroke:white;stroke-width:4\"/><line x1=\"437.6349530609991\" y1=\"219.33399176296348\" x2=\"435.6398685388114\" y2=\"219.47412651713643\" stroke-linecap=\"round\" style=\"stroke:white;stroke-width:4\"/><line x1=\"435.6398685388114\" y1=\"219.47412651713643\" x2=\"433.6540632697848\" y2=\"219.71198663045115\" stroke-linecap=\"round\" style=\"stroke:white;stroke-width:4\"/><line x1=\"433.6540632697848\" y1=\"219.71198663045115\" x2=\"431.68232123274834\" y2=\"220.04699907706063\" stroke-linecap=\"round\" style=\"stroke:white;stroke-width:4\"/><line x1=\"431.68232123274834\" y1=\"220.04699907706063\" x2=\"429.72939252697347\" y2=\"220.47835678263735\" stroke-linecap=\"round\" style=\"stroke:white;stroke-width:4\"/><line x1=\"429.72939252697347\" y1=\"220.47835678263735\" x2=\"427.7999819287687\" y2=\"221.0050205686861\" stroke-linecap=\"round\" style=\"stroke:white;stroke-width:4\"/><line x1=\"427.7999819287687\" y1=\"221.0050205686861\" x2=\"425.8987375572616\" y2=\"221.62572165601597\" stroke-linecap=\"round\" style=\"stroke:white;stroke-width:4\"/><line x1=\"425.8987375572616\" y1=\"221.62572165601597\" x2=\"424.0302396766724\" y2=\"222.3389647213406\" stroke-linecap=\"round\" style=\"stroke:white;stroke-width:4\"/><line x1=\"424.0302396766724\" y1=\"222.3389647213406\" x2=\"422.19898966205653\" y2=\"223.14303149964292\" stroke-linecap=\"round\" style=\"stroke:white;stroke-width:4\"/><line x1=\"422.19898966205653\" y1=\"223.14303149964292\" x2=\"420.4093991550978\" y2=\"224.03598492362605\" stroke-linecap=\"round\" style=\"stroke:white;stroke-width:4\"/><line x1=\"420.4093991550978\" y1=\"224.03598492362605\" x2=\"418.66577943607706\" y2=\"225.01567379027813\" stroke-linecap=\"round\" style=\"stroke:white;stroke-width:4\"/><line x1=\"418.66577943607706\" y1=\"225.01567379027813\" x2=\"416.9723310376205\" y2=\"226.0797379433088\" stroke-linecap=\"round\" style=\"stroke:white;stroke-width:4\"/><line x1=\"416.9723310376205\" y1=\"226.0797379433088\" x2=\"415.33313362524854\" y2=\"227.2256139589724\" stroke-linecap=\"round\" style=\"stroke:white;stroke-width:4\"/><line x1=\"415.33313362524854\" y1=\"227.2256139589724\" x2=\"413.75213616910435\" y2=\"228.4505413215803\" stroke-linecap=\"round\" style=\"stroke:white;stroke-width:4\"/><line x1=\"413.75213616910435\" y1=\"228.4505413215803\" x2=\"412.2331474305388\" y2=\"229.751569073825\" stroke-linecap=\"round\" style=\"stroke:white;stroke-width:4\"/><line x1=\"412.2331474305388\" y1=\"229.751569073825\" x2=\"410.7798267864707\" y2=\"231.12556292589483\" stroke-linecap=\"round\" style=\"stroke:white;stroke-width:4\"/><line x1=\"410.7798267864707\" y1=\"231.12556292589483\" x2=\"409.3956754136276\" y2=\"232.56921280625244\" stroke-linecap=\"round\" style=\"stroke:white;stroke-width:4\"/><line x1=\"409.3956754136276\" y1=\"232.56921280625244\" x2=\"408.08402785390393\" y2=\"234.07904083588727\" stroke-linecap=\"round\" style=\"stroke:white;stroke-width:4\"/><line x1=\"408.08402785390393\" y1=\"234.07904083588727\" x2=\"406.8480439811579\" y2=\"235.65140970683063\" stroke-linecap=\"round\" style=\"stroke:white;stroke-width:4\"/><line x1=\"406.8480439811579\" y1=\"235.65140970683063\" x2=\"405.6907013887983\" y2=\"237.28253144474917\" stroke-linecap=\"round\" style=\"stroke:white;stroke-width:4\"/><line x1=\"405.6907013887983\" y1=\"237.28253144474917\" x2=\"404.6147882165014\" y2=\"238.96847653450683\" stroke-linecap=\"round\" style=\"stroke:white;stroke-width:4\"/><line x1=\"404.6147882165014\" y1=\"238.96847653450683\" x2=\"403.62289643333804\" y2=\"240.70518338671104\" stroke-linecap=\"round\" style=\"stroke:white;stroke-width:4\"/><line x1=\"403.62289643333804\" y1=\"240.70518338671104\" x2=\"402.7174155934934\" y2=\"242.4884681224373\" stroke-linecap=\"round\" style=\"stroke:white;stroke-width:4\"/><line x1=\"402.7174155934934\" y1=\"242.4884681224373\" x2=\"401.9005270796214\" y2=\"244.31403465255994\" stroke-linecap=\"round\" style=\"stroke:white;stroke-width:4\"/><line x1=\"401.9005270796214\" y1=\"244.31403465255994\" x2=\"401.17419884770294\" y2=\"246.17748502740716\" stroke-linecap=\"round\" style=\"stroke:white;stroke-width:4\"/><line x1=\"401.17419884770294\" y1=\"246.17748502740716\" x2=\"400.5401806860676\" y2=\"248.07433003180697\" stroke-linecap=\"round\" style=\"stroke:white;stroke-width:4\"/><line x1=\"400.5401806860676\" y1=\"248.07433003180697\" x2=\"400.00000000000006\" y2=\"249.99999999999977\" stroke-linecap=\"round\" style=\"stroke:white;stroke-width:4\"/><line x1=\"400.00000000000006\" y1=\"249.99999999999977\" x2=\"401.5636629649361\" y2=\"248.7530203962823\" stroke-linecap=\"round\" style=\"stroke:white;stroke-width:4\"/><line x1=\"401.5636629649361\" y1=\"248.7530203962823\" x2=\"403.0642560402624\" y2=\"247.43081752898743\" stroke-linecap=\"round\" style=\"stroke:white;stroke-width:4\"/><line x1=\"403.0642560402624\" y1=\"247.43081752898743\" x2=\"404.49816416582405\" y2=\"246.0365767006338\" stroke-linecap=\"round\" style=\"stroke:white;stroke-width:4\"/><line x1=\"404.49816416582405\" y1=\"246.0365767006338\" x2=\"405.8619329313511\" y2=\"244.57365675949794\" stroke-linecap=\"round\" style=\"stroke:white;stroke-width:4\"/><line x1=\"405.8619329313511\" y1=\"244.57365675949794\" x2=\"407.1522768984353\" y2=\"243.0455820078547\" stroke-linecap=\"round\" style=\"stroke:white;stroke-width:4\"/><line x1=\"407.1522768984353\" y1=\"243.0455820078547\" x2=\"408.3660875154391\" y2=\"241.45603371162437\" stroke-linecap=\"round\" style=\"stroke:white;stroke-width:4\"/><line x1=\"408.3660875154391\" y1=\"241.45603371162437\" x2=\"409.500440606269\" y2=\"239.80884123188054\" stroke-linecap=\"round\" style=\"stroke:white;stroke-width:4\"/><line x1=\"409.500440606269\" y1=\"239.80884123188054\" x2=\"410.5526034149716\" y2=\"238.10797279958393\" stroke-linecap=\"round\" style=\"stroke:white;stroke-width:4\"/><line x1=\"410.5526034149716\" y1=\"238.10797279958393\" x2=\"411.52004118918205\" y2=\"236.35752595576642\" stroke-linecap=\"round\" style=\"stroke:white;stroke-width:4\"/><line x1=\"411.52004118918205\" y1=\"236.35752595576642\" x2=\"412.40042328656483\" y2=\"234.5617176801958\" stroke-linecap=\"round\" style=\"stroke:white;stroke-width:4\"/><line x1=\"412.40042328656483\" y1=\"234.5617176801958\" x2=\"413.19162878953495\" y2=\"232.72487423230217\" stroke-linecap=\"round\" style=\"stroke:white;stroke-width:4\"/><line x1=\"413.19162878953495\" y1=\"232.72487423230217\" x2=\"413.89175161473435\" y2=\"230.85142072883997\" stroke-linecap=\"round\" style=\"stroke:white;stroke-width:4\"/><line x1=\"413.89175161473435\" y1=\"230.85142072883997\" x2=\"414.49910510495357\" y2=\"228.94587048339417\" stroke-linecap=\"round\" style=\"stroke:white;stroke-width:4\"/><line x1=\"414.49910510495357\" y1=\"228.94587048339417\" x2=\"415.01222609243683\" y2=\"227.01281413341258\" stroke-linecap=\"round\" style=\"stroke:white;stroke-width:4\"/><line x1=\"415.01222609243683\" y1=\"227.01281413341258\" x2=\"415.4298784237812\" y2=\"225.056908580958\" stroke-linecap=\"round\" style=\"stroke:white;stroke-width:4\"/><line x1=\"415.4298784237812\" y1=\"225.056908580958\" x2=\"415.75105593793836\" y2=\"223.0828657738234\" stroke-linecap=\"round\" style=\"stroke:white;stroke-width:4\"/><line x1=\"415.75105593793836\" y1=\"223.0828657738234\" x2=\"415.974984890145\" y2=\"221.09544135403692\" stroke-linecap=\"round\" style=\"stroke:white;stroke-width:4\"/><line x1=\"415.974984890145\" y1=\"221.09544135403692\" x2=\"416.1011258159413\" y2=\"219.09942320110363\" stroke-linecap=\"round\" style=\"stroke:white;stroke-width:4\"/><line x1=\"416.1011258159413\" y1=\"219.09942320110363\" x2=\"416.12917483078843\" y2=\"217.0996198975845\" stroke-linecap=\"round\" style=\"stroke:white;stroke-width:4\"/><line x1=\"416.12917483078843\" y1=\"217.0996198975845\" x2=\"416.0590643621528\" y2=\"215.10084914479975\" stroke-linecap=\"round\" style=\"stroke:white;stroke-width:4\"/><line x1=\"416.0590643621528\" y1=\"215.10084914479975\" x2=\"415.89096331229433\" y2=\"213.1079261565645\" stroke-linecap=\"round\" style=\"stroke:white;stroke-width:4\"/><line x1=\"415.89096331229433\" y1=\"213.1079261565645\" x2=\"415.625276651366\" y2=\"211.12565205891687\" stroke-linecap=\"round\" style=\"stroke:white;stroke-width:4\"/><line x1=\"415.625276651366\" y1=\"211.12565205891687\" x2=\"415.2626444418054\" y2=\"209.15880232378478\" stroke-linecap=\"round\" style=\"stroke:white;stroke-width:4\"/><line x1=\"415.2626444418054\" y1=\"209.15880232378478\" x2=\"414.8039402963682\" y2=\"207.21211526445586\" stroke-linecap=\"round\" style=\"stroke:white;stroke-width:4\"/><line x1=\"414.8039402963682\" y1=\"207.21211526445586\" x2=\"414.2502692735185\" y2=\"205.29028062056565\" stroke-linecap=\"round\" style=\"stroke:white;stroke-width:4\"/><line x1=\"414.2502692735185\" y1=\"205.29028062056565\" x2=\"413.6029652152462\" y2=\"203.39792826010415\" stroke-linecap=\"round\" style=\"stroke:white;stroke-width:4\"/><line x1=\"413.6029652152462\" y1=\"203.39792826010415\" x2=\"412.8635875337248\" y2=\"201.5396170256582\" stroke-linecap=\"round\" style=\"stroke:white;stroke-width:4\"/><line x1=\"412.8635875337248\" y1=\"201.5396170256582\" x2=\"412.03391745455093\" y2=\"199.7198237517604\" stroke-linecap=\"round\" style=\"stroke:white;stroke-width:4\"/><line x1=\"412.03391745455093\" y1=\"199.7198237517604\" x2=\"411.11595372561584\" y2=\"197.94293247980266\" stroke-linecap=\"round\" style=\"stroke:white;stroke-width:4\"/><line x1=\"411.11595372561584\" y1=\"197.94293247980266\" x2=\"410.1119078019467\" y2=\"196.2132238964964\" stroke-linecap=\"round\" style=\"stroke:white;stroke-width:4\"/><line x1=\"410.1119078019467\" y1=\"196.2132238964964\" x2=\"409.0241985181176\" y2=\"194.5348650213234\" stroke-linecap=\"round\" style=\"stroke:white;stroke-width:4\"/><line x1=\"409.0241985181176\" y1=\"194.5348650213234\" x2=\"407.85544626106537\" y2=\"192.91189916782082\" stroke-linecap=\"round\" style=\"stroke:white;stroke-width:4\"/><line x1=\"407.85544626106537\" y1=\"192.91189916782082\" x2=\"406.2917832961293\" y2=\"194.1588787715383\" stroke-linecap=\"round\" style=\"stroke:white;stroke-width:4\"/><line x1=\"406.2917832961293\" y1=\"194.1588787715383\" x2=\"404.791190220803\" y2=\"195.48108163883316\" stroke-linecap=\"round\" style=\"stroke:white;stroke-width:4\"/><line x1=\"404.791190220803\" y1=\"195.48108163883316\" x2=\"403.3572820952414\" y2=\"196.8753224671868\" stroke-linecap=\"round\" style=\"stroke:white;stroke-width:4\"/><line x1=\"403.3572820952414\" y1=\"196.8753224671868\" x2=\"401.99351332971435\" y2=\"198.33824240832266\" stroke-linecap=\"round\" style=\"stroke:white;stroke-width:4\"/><line x1=\"401.99351332971435\" y1=\"198.33824240832266\" x2=\"400.70316936263015\" y2=\"199.86631715996586\" stroke-linecap=\"round\" style=\"stroke:white;stroke-width:4\"/><line x1=\"400.70316936263015\" y1=\"199.86631715996586\" x2=\"399.4893587456263\" y2=\"201.4558654561962\" stroke-linecap=\"round\" style=\"stroke:white;stroke-width:4\"/><line x1=\"399.4893587456263\" y1=\"201.4558654561962\" x2=\"398.3550056547964\" y2=\"203.10305793594003\" stroke-linecap=\"round\" style=\"stroke:white;stroke-width:4\"/><line x1=\"398.3550056547964\" y1=\"203.10305793594003\" x2=\"397.3028428460938\" y2=\"204.80392636823663\" stroke-linecap=\"round\" style=\"stroke:white;stroke-width:4\"/><line x1=\"397.3028428460938\" y1=\"204.80392636823663\" x2=\"396.3354050718834\" y2=\"206.55437321205414\" stroke-linecap=\"round\" style=\"stroke:white;stroke-width:4\"/><line x1=\"396.3354050718834\" y1=\"206.55437321205414\" x2=\"395.4550229745006\" y2=\"208.35018148762475\" stroke-linecap=\"round\" style=\"stroke:white;stroke-width:4\"/><line x1=\"395.4550229745006\" y1=\"208.35018148762475\" x2=\"394.6638174715305\" y2=\"210.1870249355184\" stroke-linecap=\"round\" style=\"stroke:white;stroke-width:4\"/><line x1=\"394.6638174715305\" y1=\"210.1870249355184\" x2=\"393.9636946463311\" y2=\"212.0604784389806\" stroke-linecap=\"round\" style=\"stroke:white;stroke-width:4\"/><line x1=\"393.9636946463311\" y1=\"212.0604784389806\" x2=\"393.35634115611185\" y2=\"213.9660286844264\" stroke-linecap=\"round\" style=\"stroke:white;stroke-width:4\"/><line x1=\"393.35634115611185\" y1=\"213.9660286844264\" x2=\"392.8432201686286\" y2=\"215.899085034408\" stroke-linecap=\"round\" style=\"stroke:white;stroke-width:4\"/><line x1=\"392.8432201686286\" y1=\"215.899085034408\" x2=\"392.42556783728423\" y2=\"217.85499058686256\" stroke-linecap=\"round\" style=\"stroke:white;stroke-width:4\"/><line x1=\"392.42556783728423\" y1=\"217.85499058686256\" x2=\"392.10439032312706\" y2=\"219.82903339399715\" stroke-linecap=\"round\" style=\"stroke:white;stroke-width:4\"/><line x1=\"392.10439032312706\" y1=\"219.82903339399715\" x2=\"391.88046137092044\" y2=\"221.81645781378364\" stroke-linecap=\"round\" style=\"stroke:white;stroke-width:4\"/><line x1=\"391.88046137092044\" y1=\"221.81645781378364\" x2=\"391.7543204451241\" y2=\"223.81247596671693\" stroke-linecap=\"round\" style=\"stroke:white;stroke-width:4\"/><line x1=\"391.7543204451241\" y1=\"223.81247596671693\" x2=\"391.726271430277\" y2=\"225.81227927023608\" stroke-linecap=\"round\" style=\"stroke:white;stroke-width:4\"/><line x1=\"391.726271430277\" y1=\"225.81227927023608\" x2=\"391.7963818989126\" y2=\"227.8110500230208\" stroke-linecap=\"round\" style=\"stroke:white;stroke-width:4\"/><line x1=\"391.7963818989126\" y1=\"227.8110500230208\" x2=\"391.9644829487711\" y2=\"229.80397301125606\" stroke-linecap=\"round\" style=\"stroke:white;stroke-width:4\"/><line x1=\"391.9644829487711\" y1=\"229.80397301125606\" x2=\"392.23016960969943\" y2=\"231.7862471089037\" stroke-linecap=\"round\" style=\"stroke:white;stroke-width:4\"/><line x1=\"392.23016960969943\" y1=\"231.7862471089037\" x2=\"392.59280181926005\" y2=\"233.75309684403578\" stroke-linecap=\"round\" style=\"stroke:white;stroke-width:4\"/><line x1=\"392.59280181926005\" y1=\"233.75309684403578\" x2=\"393.05150596469724\" y2=\"235.6997839033647\" stroke-linecap=\"round\" style=\"stroke:white;stroke-width:4\"/><line x1=\"393.05150596469724\" y1=\"235.6997839033647\" x2=\"393.60517698754694\" y2=\"237.6216185472549\" stroke-linecap=\"round\" style=\"stroke:white;stroke-width:4\"/><line x1=\"393.60517698754694\" y1=\"237.6216185472549\" x2=\"394.25248104581925\" y2=\"239.5139709077164\" stroke-linecap=\"round\" style=\"stroke:white;stroke-width:4\"/><line x1=\"394.25248104581925\" y1=\"239.5139709077164\" x2=\"394.9918587273406\" y2=\"241.37228214216236\" stroke-linecap=\"round\" style=\"stroke:white;stroke-width:4\"/><line x1=\"394.9918587273406\" y1=\"241.37228214216236\" x2=\"395.8215288065145\" y2=\"243.19207541606016\" stroke-linecap=\"round\" style=\"stroke:white;stroke-width:4\"/><line x1=\"395.8215288065145\" y1=\"243.19207541606016\" x2=\"396.7394925354496\" y2=\"244.9689666880179\" stroke-linecap=\"round\" style=\"stroke:white;stroke-width:4\"/><line x1=\"396.7394925354496\" y1=\"244.9689666880179\" x2=\"397.7435384591187\" y2=\"246.69867527132416\" stroke-linecap=\"round\" style=\"stroke:white;stroke-width:4\"/><line x1=\"397.7435384591187\" y1=\"246.69867527132416\" x2=\"398.8312477429478\" y2=\"248.37703414649715\" stroke-linecap=\"round\" style=\"stroke:white;stroke-width:4\"/><line x1=\"398.8312477429478\" y1=\"248.37703414649715\" x2=\"400.00000000000006\" y2=\"249.99999999999974\" stroke-linecap=\"round\" style=\"stroke:white;stroke-width:4\"/><line x1=\"400.00000000000006\" y1=\"249.99999999999974\" x2=\"400.00000000000045\" y2=\"449.9999999999998\" stroke-linecap=\"round\" style=\"stroke:white;stroke-width:4\"/><line x1=\"400.00000000000045\" y1=\"449.9999999999998\" x2=\"400.00000000000045\" y2=\"447.9999999999998\" stroke-linecap=\"round\" style=\"stroke:white;stroke-width:4\"/><line x1=\"400.00000000000045\" y1=\"447.9999999999998\" x2=\"399.94016906766166\" y2=\"446.00089513543276\" stroke-linecap=\"round\" style=\"stroke:white;stroke-width:4\"/><line x1=\"399.94016906766166\" y1=\"446.00089513543276\" x2=\"399.8205607597716\" y2=\"444.0044748758973\" stroke-linecap=\"round\" style=\"stroke:white;stroke-width:4\"/><line x1=\"399.8205607597716\" y1=\"444.0044748758973\" x2=\"399.6412821419647\" y2=\"442.01252628790684\" stroke-linecap=\"round\" style=\"stroke:white;stroke-width:4\"/><line x1=\"399.6412821419647\" y1=\"442.01252628790684\" x2=\"399.4024936928842\" y2=\"440.0268324352232\" stroke-linecap=\"round\" style=\"stroke:white;stroke-width:4\"/><line x1=\"399.4024936928842\" y1=\"440.0268324352232\" x2=\"399.1044091605319\" y2=\"438.04917078277293\" stroke-linecap=\"round\" style=\"stroke:white;stroke-width:4\"/><line x1=\"399.1044091605319\" y1=\"438.04917078277293\" x2=\"398.7472953709346\" y2=\"436.08131160557565\" stroke-linecap=\"round\" style=\"stroke:white;stroke-width:4\"/><line x1=\"398.7472953709346\" y1=\"436.08131160557565\" x2=\"398.3314719892991\" y2=\"434.12501640410807\" stroke-linecap=\"round\" style=\"stroke:white;stroke-width:4\"/><line x1=\"398.3314719892991\" y1=\"434.12501640410807\" x2=\"397.8573112338681\" y2=\"432.1820363275223\" stroke-linecap=\"round\" style=\"stroke:white;stroke-width:4\"/><line x1=\"397.8573112338681\" y1=\"432.1820363275223\" x2=\"397.3252375427347\" y2=\"430.2541106061306\" stroke-linecap=\"round\" style=\"stroke:white;stroke-width:4\"/><line x1=\"397.3252375427347\" y1=\"430.2541106061306\" x2=\"396.7357271939129\" y2=\"428.3429649945583\" stroke-linecap=\"round\" style=\"stroke:white;stroke-width:4\"/><line x1=\"396.7357271939129\" y1=\"428.3429649945583\" x2=\"396.08930787900397\" y2=\"426.45031022695997\" stroke-linecap=\"round\" style=\"stroke:white;stroke-width:4\"/><line x1=\"396.08930787900397\" y1=\"426.45031022695997\" x2=\"395.3865582308413\" y2=\"424.5778404856805\" stroke-linecap=\"round\" style=\"stroke:white;stroke-width:4\"/><line x1=\"395.3865582308413\" y1=\"424.5778404856805\" x2=\"394.6281073055354\" y2=\"422.72723188473253\" stroke-linecap=\"round\" style=\"stroke:white;stroke-width:4\"/><line x1=\"394.6281073055354\" y1=\"422.72723188473253\" x2=\"393.8146340193838\" y2=\"420.9001409694473\" stroke-linecap=\"round\" style=\"stroke:white;stroke-width:4\"/><line x1=\"393.8146340193838\" y1=\"420.9001409694473\" x2=\"392.94686654114867\" y2=\"419.0982032336425\" stroke-linecap=\"round\" style=\"stroke:white;stroke-width:4\"/><line x1=\"392.94686654114867\" y1=\"419.0982032336425\" x2=\"392.02558164024737\" y2=\"417.3230316556334\" stroke-linecap=\"round\" style=\"stroke:white;stroke-width:4\"/><line x1=\"392.02558164024737\" y1=\"417.3230316556334\" x2=\"391.05160399143864\" y2=\"415.57621525439913\" stroke-linecap=\"round\" style=\"stroke:white;stroke-width:4\"/><line x1=\"391.05160399143864\" y1=\"415.57621525439913\" x2=\"390.0258054366268\" y2=\"413.8593176671954\" stroke-linecap=\"round\" style=\"stroke:white;stroke-width:4\"/><line x1=\"390.0258054366268\" y1=\"413.8593176671954\" x2=\"388.9491042044454\" y2=\"412.1738757498873\" stroke-linecap=\"round\" style=\"stroke:white;stroke-width:4\"/><line x1=\"388.9491042044454\" y1=\"412.1738757498873\" x2=\"387.82246408831816\" y2=\"410.52139820125535\" stroke-linecap=\"round\" style=\"stroke:white;stroke-width:4\"/><line x1=\"387.82246408831816\" y1=\"410.52139820125535\" x2=\"386.64689358373323\" y2=\"408.90336421250544\" stroke-linecap=\"round\" style=\"stroke:white;stroke-width:4\"/><line x1=\"386.64689358373323\" y1=\"408.90336421250544\" x2=\"385.42344498550324\" y2=\"407.32122214319276\" stroke-linecap=\"round\" style=\"stroke:white;stroke-width:4\"/><line x1=\"385.42344498550324\" y1=\"407.32122214319276\" x2=\"384.1532134458189\" y2=\"405.7763882247436\" stroke-linecap=\"round\" style=\"stroke:white;stroke-width:4\"/><line x1=\"384.1532134458189\" y1=\"405.7763882247436\" x2=\"382.83733599393946\" y2=\"404.2702452927364\" stroke-linecap=\"round\" style=\"stroke:white;stroke-width:4\"/><line x1=\"382.83733599393946\" y1=\"404.2702452927364\" x2=\"381.4769905183976\" y2=\"402.80414154907675\" stroke-linecap=\"round\" style=\"stroke:white;stroke-width:4\"/><line x1=\"381.4769905183976\" y1=\"402.80414154907675\" x2=\"380.07339471262964\" y2=\"401.37938935517406\" stroke-linecap=\"round\" style=\"stroke:white;stroke-width:4\"/><line x1=\"380.07339471262964\" y1=\"401.37938935517406\" x2=\"378.62780498497483\" y2=\"399.9972640572003\" stroke-linecap=\"round\" style=\"stroke:white;stroke-width:4\"/><line x1=\"378.62780498497483\" y1=\"399.9972640572003\" x2=\"377.14151533402\" y2=\"398.6590028444826\" stroke-linecap=\"round\" style=\"stroke:white;stroke-width:4\"/><line x1=\"377.14151533402\" y1=\"398.6590028444826\" x2=\"375.61585619029546\" y2=\"397.365803642051\" stroke-linecap=\"round\" style=\"stroke:white;stroke-width:4\"/><line x1=\"375.61585619029546\" y1=\"397.365803642051\" x2=\"374.0521932253594\" y2=\"396.1188240383335\" stroke-linecap=\"round\" style=\"stroke:white;stroke-width:4\"/><line x1=\"374.0521932253594\" y1=\"396.1188240383335\" x2=\"372.451926129337\" y2=\"394.9191802489577\" stroke-linecap=\"round\" style=\"stroke:white;stroke-width:4\"/><line x1=\"372.451926129337\" y1=\"394.9191802489577\" x2=\"370.8164873580081\" y2=\"393.76794611758635\" stroke-linecap=\"round\" style=\"stroke:white;stroke-width:4\"/><line x1=\"370.8164873580081\" y1=\"393.76794611758635\" x2=\"369.14734085056546\" y2=\"392.66615215468215\" stroke-linecap=\"round\" style=\"stroke:white;stroke-width:4\"/><line x1=\"369.14734085056546\" y1=\"392.66615215468215\" x2=\"367.44598071919074\" y2=\"391.6147846150611\" stroke-linecap=\"round\" style=\"stroke:white;stroke-width:4\"/><line x1=\"367.44598071919074\" y1=\"391.6147846150611\" x2=\"367.44598071919074\" y2=\"393.6147846150611\" stroke-linecap=\"round\" style=\"stroke:white;stroke-width:4\"/><line x1=\"367.44598071919074\" y1=\"393.6147846150611\" x2=\"367.50581165152954\" y2=\"395.61388947962814\" stroke-linecap=\"round\" style=\"stroke:white;stroke-width:4\"/><line x1=\"367.50581165152954\" y1=\"395.61388947962814\" x2=\"367.6254199594196\" y2=\"397.6103097391636\" stroke-linecap=\"round\" style=\"stroke:white;stroke-width:4\"/><line x1=\"367.6254199594196\" y1=\"397.6103097391636\" x2=\"367.8046985772265\" y2=\"399.60225832715406\" stroke-linecap=\"round\" style=\"stroke:white;stroke-width:4\"/><line x1=\"367.8046985772265\" y1=\"399.60225832715406\" x2=\"368.043487026307\" y2=\"401.5879521798377\" stroke-linecap=\"round\" style=\"stroke:white;stroke-width:4\"/><line x1=\"368.043487026307\" y1=\"401.5879521798377\" x2=\"368.3415715586593\" y2=\"403.56561383228797\" stroke-linecap=\"round\" style=\"stroke:white;stroke-width:4\"/><line x1=\"368.3415715586593\" y1=\"403.56561383228797\" x2=\"368.6986853482566\" y2=\"405.53347300948525\" stroke-linecap=\"round\" style=\"stroke:white;stroke-width:4\"/><line x1=\"368.6986853482566\" y1=\"405.53347300948525\" x2=\"369.1145087298921\" y2=\"407.48976821095283\" stroke-linecap=\"round\" style=\"stroke:white;stroke-width:4\"/><line x1=\"369.1145087298921\" y1=\"407.48976821095283\" x2=\"369.5886694853231\" y2=\"409.4327482875386\" stroke-linecap=\"round\" style=\"stroke:white;stroke-width:4\"/><line x1=\"369.5886694853231\" y1=\"409.4327482875386\" x2=\"370.1207431764565\" y2=\"411.3606740089303\" stroke-linecap=\"round\" style=\"stroke:white;stroke-width:4\"/><line x1=\"370.1207431764565\" y1=\"411.3606740089303\" x2=\"370.7102535252783\" y2=\"413.2718196205026\" stroke-linecap=\"round\" style=\"stroke:white;stroke-width:4\"/><line x1=\"370.7102535252783\" y1=\"413.2718196205026\" x2=\"371.35667284018723\" y2=\"415.1644743881009\" stroke-linecap=\"round\" style=\"stroke:white;stroke-width:4\"/><line x1=\"371.35667284018723\" y1=\"415.1644743881009\" x2=\"372.0594224883499\" y2=\"417.0369441293804\" stroke-linecap=\"round\" style=\"stroke:white;stroke-width:4\"/><line x1=\"372.0594224883499\" y1=\"417.0369441293804\" x2=\"372.8178734136558\" y2=\"418.88755273032837\" stroke-linecap=\"round\" style=\"stroke:white;stroke-width:4\"/><line x1=\"372.8178734136558\" y1=\"418.88755273032837\" x2=\"373.6313466998074\" y2=\"420.7146436456136\" stroke-linecap=\"round\" style=\"stroke:white;stroke-width:4\"/><line x1=\"373.6313466998074\" y1=\"420.7146436456136\" x2=\"374.49911417804253\" y2=\"422.5165813814184\" stroke-linecap=\"round\" style=\"stroke:white;stroke-width:4\"/><line x1=\"374.49911417804253\" y1=\"422.5165813814184\" x2=\"375.42039907894383\" y2=\"424.2917529594275\" stroke-linecap=\"round\" style=\"stroke:white;stroke-width:4\"/><line x1=\"375.42039907894383\" y1=\"424.2917529594275\" x2=\"376.39437672775256\" y2=\"426.03856936066177\" stroke-linecap=\"round\" style=\"stroke:white;stroke-width:4\"/><line x1=\"376.39437672775256\" y1=\"426.03856936066177\" x2=\"377.4201752825644\" y2=\"427.7554669478655\" stroke-linecap=\"round\" style=\"stroke:white;stroke-width:4\"/><line x1=\"377.4201752825644\" y1=\"427.7554669478655\" x2=\"378.4968765147458\" y2=\"429.4409088651736\" stroke-linecap=\"round\" style=\"stroke:white;stroke-width:4\"/><line x1=\"378.4968765147458\" y1=\"429.4409088651736\" x2=\"379.62351663087304\" y2=\"431.09338641380555\" stroke-linecap=\"round\" style=\"stroke:white;stroke-width:4\"/><line x1=\"379.62351663087304\" y1=\"431.09338641380555\" x2=\"380.799087135458\" y2=\"432.71142040255546\" stroke-linecap=\"round\" style=\"stroke:white;stroke-width:4\"/><line x1=\"380.799087135458\" y1=\"432.71142040255546\" x2=\"382.0225357336881\" y2=\"434.29356247186814\" stroke-linecap=\"round\" style=\"stroke:white;stroke-width:4\"/><line x1=\"382.0225357336881\" y1=\"434.29356247186814\" x2=\"383.2927672733724\" y2=\"435.8383963903173\" stroke-linecap=\"round\" style=\"stroke:white;stroke-width:4\"/><line x1=\"383.2927672733724\" y1=\"435.8383963903173\" x2=\"384.60864472525185\" y2=\"437.3445393223245\" stroke-linecap=\"round\" style=\"stroke:white;stroke-width:4\"/><line x1=\"384.60864472525185\" y1=\"437.3445393223245\" x2=\"385.9689902007937\" y2=\"438.81064306598415\" stroke-linecap=\"round\" style=\"stroke:white;stroke-width:4\"/><line x1=\"385.9689902007937\" y1=\"438.81064306598415\" x2=\"387.3725860065617\" y2=\"440.23539525988684\" stroke-linecap=\"round\" style=\"stroke:white;stroke-width:4\"/><line x1=\"387.3725860065617\" y1=\"440.23539525988684\" x2=\"388.8181757342165\" y2=\"441.6175205578606\" stroke-linecap=\"round\" style=\"stroke:white;stroke-width:4\"/><line x1=\"388.8181757342165\" y1=\"441.6175205578606\" x2=\"390.3044653851713\" y2=\"442.9557817705783\" stroke-linecap=\"round\" style=\"stroke:white;stroke-width:4\"/><line x1=\"390.3044653851713\" y1=\"442.9557817705783\" x2=\"391.83012452889585\" y2=\"444.2489809730099\" stroke-linecap=\"round\" style=\"stroke:white;stroke-width:4\"/><line x1=\"391.83012452889585\" y1=\"444.2489809730099\" x2=\"393.3937874938319\" y2=\"445.4959605767274\" stroke-linecap=\"round\" style=\"stroke:white;stroke-width:4\"/><line x1=\"393.3937874938319\" y1=\"445.4959605767274\" x2=\"394.99405458985433\" y2=\"446.6956043661032\" stroke-linecap=\"round\" style=\"stroke:white;stroke-width:4\"/><line x1=\"394.99405458985433\" y1=\"446.6956043661032\" x2=\"396.6294933611832\" y2=\"447.84683849747455\" stroke-linecap=\"round\" style=\"stroke:white;stroke-width:4\"/><line x1=\"396.6294933611832\" y1=\"447.84683849747455\" x2=\"398.29863986862586\" y2=\"448.94863246037875\" stroke-linecap=\"round\" style=\"stroke:white;stroke-width:4\"/><line x1=\"398.29863986862586\" y1=\"448.94863246037875\" x2=\"400.00000000000057\" y2=\"449.9999999999998\" stroke-linecap=\"round\" style=\"stroke:white;stroke-width:4\"/>\n",
              "        \n",
              "      <g visibility=visible transform=\"rotate(179.99999999999966,400.00000000000057,449.9999999999998) translate(400.00000000000057, 449.9999999999998)\">\n",
              "        <circle stroke=\"white\" stroke-width=\"3\" fill=\"transparent\" r=\"12\" cx=\"0\" cy=\"0\"/>\n",
              "        <polygon points=\"0,19 3,16 -3,16\" style=\"fill:white;stroke:white;stroke-width:2\"/>\n",
              "      </g>\n",
              "    \n",
              "      </svg>\n",
              "    "
            ],
            "text/plain": [
              "<IPython.core.display.HTML object>"
            ]
          },
          "metadata": {
            "tags": []
          }
        }
      ]
    },
    {
      "cell_type": "markdown",
      "metadata": {
        "id": "0YGnPm25cVk3"
      },
      "source": [
        "4. As letras do alfabeto podem ser construídas a partir de um número moderado de elementos básicos, como linhas verticais e horizontais e algumas curvas. Projete um alfabeto que possa ser desenhado com um número mínimo de elementos básicos e depois escreva funções que desenhem as letras.\n",
        "\n",
        "   A. Você deve escrever uma função para cada letra, com os nomes ```draw_a_```, ```_draw_b_```, etc., e colocar suas funções em um arquivo chamado ```letters.py```. Você pode baixar uma “turtle typewriter” de http://thinkpython2.com/code/typewriter.py para ajudá-lo a testar seu código.\n",
        "\n",
        "   B. Você pode obter uma solução em http://thinkpython2.com/code/letters.py; também requer http://thinkpython2.com/code/polygon.py."
      ]
    },
    {
      "cell_type": "code",
      "metadata": {
        "id": "pEjmxwLicVau"
      },
      "source": [
        ""
      ],
      "execution_count": null,
      "outputs": []
    },
    {
      "cell_type": "markdown",
      "metadata": {
        "id": "hfOMKAFbcTxP"
      },
      "source": [
        "5. Leia sobre espirais em http://en.wikipedia.org/wiki/Spiral; em seguida, escreva um programa que desenhe uma espiral arquimediana (ou um dos outros tipos). Solução: http://thinkpython2.com/code/spiral.py."
      ]
    },
    {
      "cell_type": "code",
      "metadata": {
        "id": "sCvObBBgcTZI"
      },
      "source": [
        ""
      ],
      "execution_count": null,
      "outputs": []
    }
  ]
}