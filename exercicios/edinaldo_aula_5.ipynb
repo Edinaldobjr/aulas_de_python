{
  "nbformat": 4,
  "nbformat_minor": 0,
  "metadata": {
    "colab": {
      "name": "Untitled1.ipynb",
      "provenance": [],
      "authorship_tag": "ABX9TyNlM3S4zHo2XJCq1SOB1HT2",
      "include_colab_link": true
    },
    "kernelspec": {
      "name": "python3",
      "display_name": "Python 3"
    }
  },
  "cells": [
    {
      "cell_type": "markdown",
      "metadata": {
        "id": "view-in-github",
        "colab_type": "text"
      },
      "source": [
        "<a href=\"https://colab.research.google.com/github/Edinaldobjr/aulas_de_python/blob/master/exercicios/edinaldo_aula_5.ipynb\" target=\"_parent\"><img src=\"https://colab.research.google.com/assets/colab-badge.svg\" alt=\"Open In Colab\"/></a>"
      ]
    },
    {
      "cell_type": "code",
      "metadata": {
        "id": "13KBDZAudVXU",
        "outputId": "6d5c8554-487f-46fc-d508-cec1ee1c8ce8",
        "colab": {
          "base_uri": "https://localhost:8080/",
          "height": 34
        }
      },
      "source": [
        "!pip3 install ColabTurtle\n",
        "import ColabTurtle"
      ],
      "execution_count": 40,
      "outputs": [
        {
          "output_type": "stream",
          "text": [
            "Requirement already satisfied: ColabTurtle in /usr/local/lib/python3.6/dist-packages (2.0.0)\n"
          ],
          "name": "stdout"
        }
      ]
    },
    {
      "cell_type": "markdown",
      "metadata": {
        "id": "NsJ6R0HDgBGh"
      },
      "source": [
        "## Exercícios - Parte 1:\n",
        "1. [**Não é possível fazer no Google Colab. Pule para o exercício 2**] Modifique o programa da tartaruga (primeiro exemplo) para que, antes de criar a janela, ele solicite que o usuário insira a cor de fundo desejada. Ele deve armazenar as respostas do usuário em uma variável e modificar a cor da janela de acordo com os desejos do usuário. \n",
        "   * ***Dicas***: faça uso da função ***input***, built-in do python\n",
        "   * você pode encontrar uma lista de nomes de cores permitidos em http://www.tcl.tk/man/tcl8.4/TkCmd/colors.htm. Inclui alguns bem incomuns, como “peach puff” e “HotPink” ”***\n",
        "   \n",
        " \n",
        "   \n",
        "\n",
        "\n",
        "\n",
        "   \n",
        "\n",
        "\n"
      ]
    },
    {
      "cell_type": "code",
      "metadata": {
        "id": "qK60r9ZFbV6u"
      },
      "source": [
        ""
      ],
      "execution_count": null,
      "outputs": []
    },
    {
      "cell_type": "markdown",
      "metadata": {
        "id": "96i5CgItbVzf"
      },
      "source": [
        "2. Faça modificações similares para permitir que o usuário mude a cor da tartaruga durante a execução do programa.\n",
        "   * Faça o mesmo para a largura da caneta da tartaruga. *Dica: seu diálogo com o usuário retornará uma string, mas o método ```pensize``` ( ```width``` no Google Colab) espera que seu argumento seja um **int**. Então, você precisará converter a **string** em um **int** antes de passá-la para **pensize**.*  "
      ]
    },
    {
      "cell_type": "code",
      "metadata": {
        "id": "imtQKOt3bVo1",
        "outputId": "f6c8f278-df92-4a02-f865-8cfea2daf51b",
        "colab": {
          "base_uri": "https://localhost:8080/",
          "height": 521
        }
      },
      "source": [
        "import ColabTurtle.Turtle as teca\n",
        "teca = ColabTurtle.Turtle\n",
        "\n",
        "teca.initializeTurtle()\n",
        "teca.color('blue')\n",
        "teca.width(3)\n",
        "teca.forward(50)\n",
        "teca.left(120)\n",
        "teca.forward(50)"
      ],
      "execution_count": 42,
      "outputs": [
        {
          "output_type": "display_data",
          "data": {
            "text/html": [
              "\n",
              "      <svg width=\"800\" height=\"500\">\n",
              "        <rect width=\"100%\" height=\"100%\" fill=\"black\"/>\n",
              "        <line x1=\"400\" y1=\"250\" x2=\"400.0\" y2=\"200.0\" stroke-linecap=\"round\" style=\"stroke:blue;stroke-width:3\"/><line x1=\"400.0\" y1=\"200.0\" x2=\"356.69872981077805\" y2=\"225.0\" stroke-linecap=\"round\" style=\"stroke:blue;stroke-width:3\"/>\n",
              "        \n",
              "      <g visibility=visible transform=\"rotate(60,356.69872981077805,225.0) translate(356.69872981077805, 225.0)\">\n",
              "        <circle stroke=\"blue\" stroke-width=\"3\" fill=\"transparent\" r=\"12\" cx=\"0\" cy=\"0\"/>\n",
              "        <polygon points=\"0,19 3,16 -3,16\" style=\"fill:blue;stroke:blue;stroke-width:2\"/>\n",
              "      </g>\n",
              "    \n",
              "      </svg>\n",
              "    "
            ],
            "text/plain": [
              "<IPython.core.display.HTML object>"
            ]
          },
          "metadata": {
            "tags": []
          }
        }
      ]
    },
    {
      "cell_type": "markdown",
      "metadata": {
        "id": "SVE2oqE7bVhr"
      },
      "source": [
        "3. Investiguem os métodos e atributos do módulo ```turtle```  (```ColabTurtle``` no Google Colab);"
      ]
    },
    {
      "cell_type": "code",
      "metadata": {
        "id": "ptoN8lN5bVb9"
      },
      "source": [
        ""
      ],
      "execution_count": null,
      "outputs": []
    },
    {
      "cell_type": "markdown",
      "metadata": {
        "id": "C_EpzylUbVWF"
      },
      "source": [
        "4. Desenhe um quadrado, usando a forma de tartaruga, ao invés da flecha, para desenhar (***caso esteja no Google Colab, não precisa mudar a forma***).\n",
        "   * mude a velocidade com que a tartaruga faz o desenho."
      ]
    },
    {
      "cell_type": "code",
      "metadata": {
        "id": "n05AMH8qbVQS",
        "outputId": "88a3951f-ca54-4600-e8a5-1aba9849901c",
        "colab": {
          "base_uri": "https://localhost:8080/",
          "height": 521
        }
      },
      "source": [
        "red = ColabTurtle.Turtle\n",
        "red.initializeTurtle()     \n",
        "red.color('red')        \n",
        "red.speed(4)\n",
        "\n",
        "for i in range(4):\n",
        "  red.forward(100)            \n",
        "  red.left(90)"
      ],
      "execution_count": 50,
      "outputs": [
        {
          "output_type": "display_data",
          "data": {
            "text/html": [
              "\n",
              "      <svg width=\"800\" height=\"500\">\n",
              "        <rect width=\"100%\" height=\"100%\" fill=\"black\"/>\n",
              "        <line x1=\"400\" y1=\"250\" x2=\"400.0\" y2=\"150.0\" stroke-linecap=\"round\" style=\"stroke:red;stroke-width:4\"/><line x1=\"400.0\" y1=\"150.0\" x2=\"300.0\" y2=\"150.0\" stroke-linecap=\"round\" style=\"stroke:red;stroke-width:4\"/><line x1=\"300.0\" y1=\"150.0\" x2=\"300.0\" y2=\"250.0\" stroke-linecap=\"round\" style=\"stroke:red;stroke-width:4\"/><line x1=\"300.0\" y1=\"250.0\" x2=\"400.0\" y2=\"250.0\" stroke-linecap=\"round\" style=\"stroke:red;stroke-width:4\"/>\n",
              "        \n",
              "      <g visibility=visible transform=\"rotate(180,400.0,250.0) translate(400.0, 250.0)\">\n",
              "        <circle stroke=\"red\" stroke-width=\"3\" fill=\"transparent\" r=\"12\" cx=\"0\" cy=\"0\"/>\n",
              "        <polygon points=\"0,19 3,16 -3,16\" style=\"fill:red;stroke:red;stroke-width:2\"/>\n",
              "      </g>\n",
              "    \n",
              "      </svg>\n",
              "    "
            ],
            "text/plain": [
              "<IPython.core.display.HTML object>"
            ]
          },
          "metadata": {
            "tags": []
          }
        }
      ]
    },
    {
      "cell_type": "markdown",
      "metadata": {
        "id": "GP1THpUHbVKD"
      },
      "source": [
        "5. Sabendo que o ângulo interno da ponta de uma estrela de 5 pontas é de 36 graus, desenhe uma estrela.\n",
        "![title](https://github.com/malbouis/Python_intro/blob/master/aulas_2019/pics/estrela.png?raw=1)"
      ]
    },
    {
      "cell_type": "code",
      "metadata": {
        "id": "wOsPfbULbVDM",
        "outputId": "5df339f4-24da-40aa-9896-52e42b86f706",
        "colab": {
          "base_uri": "https://localhost:8080/",
          "height": 521
        }
      },
      "source": [
        "blue = ColabTurtle.Turtle\n",
        "blue.initializeTurtle()     \n",
        "blue.color('blue')        \n",
        "blue.speed(4)\n",
        "\n",
        "blue.left(18)\n",
        "for i in range(5):\n",
        "  blue.forward(100)            \n",
        "  blue.left(144)"
      ],
      "execution_count": null,
      "outputs": [
        {
          "output_type": "display_data",
          "data": {
            "text/html": [
              "\n",
              "      <svg width=\"800\" height=\"500\">\n",
              "        <rect width=\"100%\" height=\"100%\" fill=\"black\"/>\n",
              "        <line x1=\"400\" y1=\"250\" x2=\"369.09830056250524\" y2=\"154.89434837048464\" stroke-linecap=\"round\" style=\"stroke:blue;stroke-width:4\"/><line x1=\"369.09830056250524\" y1=\"154.89434837048464\" x2=\"338.1966011250105\" y2=\"250.0\" stroke-linecap=\"round\" style=\"stroke:blue;stroke-width:4\"/><line x1=\"338.1966011250105\" y1=\"250.0\" x2=\"419.0983005625052\" y2=\"191.22147477075265\" stroke-linecap=\"round\" style=\"stroke:blue;stroke-width:4\"/><line x1=\"419.0983005625052\" y1=\"191.22147477075265\" x2=\"319.0983005625052\" y2=\"191.22147477075265\" stroke-linecap=\"round\" style=\"stroke:blue;stroke-width:4\"/><line x1=\"319.0983005625052\" y1=\"191.22147477075265\" x2=\"399.99999999999994\" y2=\"249.99999999999997\" stroke-linecap=\"round\" style=\"stroke:blue;stroke-width:4\"/>\n",
              "        \n",
              "      <g visibility=visible transform=\"rotate(162,399.99999999999994,249.99999999999997) translate(399.99999999999994, 249.99999999999997)\">\n",
              "        <circle stroke=\"blue\" stroke-width=\"3\" fill=\"transparent\" r=\"12\" cx=\"0\" cy=\"0\"/>\n",
              "        <polygon points=\"0,19 3,16 -3,16\" style=\"fill:blue;stroke:blue;stroke-width:2\"/>\n",
              "      </g>\n",
              "    \n",
              "      </svg>\n",
              "    "
            ],
            "text/plain": [
              "<IPython.core.display.HTML object>"
            ]
          },
          "metadata": {
            "tags": []
          }
        }
      ]
    },
    {
      "cell_type": "markdown",
      "metadata": {
        "id": "ewt1DX6rbU6w"
      },
      "source": [
        "6. Sabendo o ângulo interno da ponta de uma estrela, desenhe quatro estrelas em uma janela, com uma certa distância entre elas. Dica: use a função penup() e pendown() do módulo ```turtle```."
      ]
    },
    {
      "cell_type": "code",
      "metadata": {
        "id": "9jFUL2sCbUx-",
        "outputId": "a82f5ec7-81f0-4792-e567-ff2fdd24ab10",
        "colab": {
          "base_uri": "https://localhost:8080/",
          "height": 521
        }
      },
      "source": [
        "def iniciar_esquerda(dist):\n",
        "    blue.penup()\n",
        "    blue.left(90)\n",
        "    blue.forward(dist)\n",
        "    blue.right(90)\n",
        "    blue.pendown()\n",
        "    blue.left(18)\n",
        "\n",
        "def estrela(tamanho):\n",
        "    for i in range(5):\n",
        "      blue.forward(tamanho)            \n",
        "      blue.left(144)\n",
        "\n",
        "def posicao_estrela(direita, frente):\n",
        "    blue.penup()\n",
        "    blue.right(direita)\n",
        "    blue.forward(frente)\n",
        "    blue.pendown()\n",
        "    blue.left(36)\n",
        "\n",
        "blue = ColabTurtle.Turtle\n",
        "blue.initializeTurtle()     \n",
        "blue.color('blue')        \n",
        "blue.speed(10)\n",
        "\n",
        "# quantidade de estrelas\n",
        "iniciar_esquerda(200)\n",
        "estrela(100)\n",
        "\n",
        "posicao_estrela(108,90)\n",
        "estrela(100)\n",
        "\n",
        "posicao_estrela(36,150)\n",
        "estrela(100)\n",
        "  \n",
        "posicao_estrela(36,150)\n",
        "estrela(100)\n"
      ],
      "execution_count": 49,
      "outputs": [
        {
          "output_type": "display_data",
          "data": {
            "text/html": [
              "\n",
              "      <svg width=\"800\" height=\"500\">\n",
              "        <rect width=\"100%\" height=\"100%\" fill=\"black\"/>\n",
              "        <line x1=\"200.0\" y1=\"250.00000000000003\" x2=\"169.09830056250524\" y2=\"154.8943483704847\" stroke-linecap=\"round\" style=\"stroke:blue;stroke-width:4\"/><line x1=\"169.09830056250524\" y1=\"154.8943483704847\" x2=\"138.19660112501052\" y2=\"250.00000000000006\" stroke-linecap=\"round\" style=\"stroke:blue;stroke-width:4\"/><line x1=\"138.19660112501052\" y1=\"250.00000000000006\" x2=\"219.09830056250524\" y2=\"191.2214747707527\" stroke-linecap=\"round\" style=\"stroke:blue;stroke-width:4\"/><line x1=\"219.09830056250524\" y1=\"191.2214747707527\" x2=\"119.09830056250524\" y2=\"191.2214747707527\" stroke-linecap=\"round\" style=\"stroke:blue;stroke-width:4\"/><line x1=\"119.09830056250524\" y1=\"191.2214747707527\" x2=\"200.0\" y2=\"250.00000000000003\" stroke-linecap=\"round\" style=\"stroke:blue;stroke-width:4\"/><line x1=\"290.0\" y1=\"250.00000000000003\" x2=\"370.9016994374947\" y2=\"191.2214747707527\" stroke-linecap=\"round\" style=\"stroke:blue;stroke-width:4\"/><line x1=\"370.9016994374947\" y1=\"191.2214747707527\" x2=\"270.9016994374947\" y2=\"191.2214747707527\" stroke-linecap=\"round\" style=\"stroke:blue;stroke-width:4\"/><line x1=\"270.9016994374947\" y1=\"191.2214747707527\" x2=\"351.80339887498945\" y2=\"250.00000000000003\" stroke-linecap=\"round\" style=\"stroke:blue;stroke-width:4\"/><line x1=\"351.80339887498945\" y1=\"250.00000000000003\" x2=\"320.9016994374947\" y2=\"154.8943483704847\" stroke-linecap=\"round\" style=\"stroke:blue;stroke-width:4\"/><line x1=\"320.9016994374947\" y1=\"154.8943483704847\" x2=\"289.99999999999994\" y2=\"250.00000000000006\" stroke-linecap=\"round\" style=\"stroke:blue;stroke-width:4\"/><line x1=\"439.99999999999994\" y1=\"250.00000000000006\" x2=\"520.9016994374947\" y2=\"191.2214747707527\" stroke-linecap=\"round\" style=\"stroke:blue;stroke-width:4\"/><line x1=\"520.9016994374947\" y1=\"191.2214747707527\" x2=\"420.9016994374947\" y2=\"191.2214747707527\" stroke-linecap=\"round\" style=\"stroke:blue;stroke-width:4\"/><line x1=\"420.9016994374947\" y1=\"191.2214747707527\" x2=\"501.80339887498945\" y2=\"250.00000000000003\" stroke-linecap=\"round\" style=\"stroke:blue;stroke-width:4\"/><line x1=\"501.80339887498945\" y1=\"250.00000000000003\" x2=\"470.9016994374947\" y2=\"154.8943483704847\" stroke-linecap=\"round\" style=\"stroke:blue;stroke-width:4\"/><line x1=\"470.9016994374947\" y1=\"154.8943483704847\" x2=\"439.99999999999994\" y2=\"250.00000000000006\" stroke-linecap=\"round\" style=\"stroke:blue;stroke-width:4\"/><line x1=\"590.0\" y1=\"250.00000000000006\" x2=\"670.9016994374947\" y2=\"191.2214747707527\" stroke-linecap=\"round\" style=\"stroke:blue;stroke-width:4\"/><line x1=\"670.9016994374947\" y1=\"191.2214747707527\" x2=\"570.9016994374947\" y2=\"191.2214747707527\" stroke-linecap=\"round\" style=\"stroke:blue;stroke-width:4\"/><line x1=\"570.9016994374947\" y1=\"191.2214747707527\" x2=\"651.8033988749894\" y2=\"250.00000000000003\" stroke-linecap=\"round\" style=\"stroke:blue;stroke-width:4\"/><line x1=\"651.8033988749894\" y1=\"250.00000000000003\" x2=\"620.9016994374947\" y2=\"154.8943483704847\" stroke-linecap=\"round\" style=\"stroke:blue;stroke-width:4\"/><line x1=\"620.9016994374947\" y1=\"154.8943483704847\" x2=\"590.0\" y2=\"250.00000000000006\" stroke-linecap=\"round\" style=\"stroke:blue;stroke-width:4\"/>\n",
              "        \n",
              "      <g visibility=visible transform=\"rotate(234,590.0,250.00000000000006) translate(590.0, 250.00000000000006)\">\n",
              "        <circle stroke=\"blue\" stroke-width=\"3\" fill=\"transparent\" r=\"12\" cx=\"0\" cy=\"0\"/>\n",
              "        <polygon points=\"0,19 3,16 -3,16\" style=\"fill:blue;stroke:blue;stroke-width:2\"/>\n",
              "      </g>\n",
              "    \n",
              "      </svg>\n",
              "    "
            ],
            "text/plain": [
              "<IPython.core.display.HTML object>"
            ]
          },
          "metadata": {
            "tags": []
          }
        }
      ]
    },
    {
      "cell_type": "markdown",
      "metadata": {
        "id": "DZXmIVJAKyYj"
      },
      "source": [
        "## Exercícios em preparação para os próximos capítulos\n",
        "\n",
        "1. Escreva uma função chamada `square`, que toma um parâmetro `t`, que é uma `ColabTurtle`. Essa função deve usar o `ColabTurtle` para desenhar um quadrado. Escreva uma chamada de função que passe `joana` como argumento para `square` e rode o programa novamente. \n",
        "\n",
        "\n",
        "\n",
        "  \n",
        "\n",
        "\n",
        "\n",
        "\n"
      ]
    },
    {
      "cell_type": "code",
      "metadata": {
        "id": "b4nlFSfwa4Ri"
      },
      "source": [
        ""
      ],
      "execution_count": null,
      "outputs": []
    },
    {
      "cell_type": "markdown",
      "metadata": {
        "id": "GaK_3PYBa4Jn"
      },
      "source": [
        "2. Adicione um outro parâmetro, chamado `length`, à função `square`. Modifique o corpo da função de tal forma que o comprimento dos lados do quadrado seja `length` e então modifique a chamada da função para que seja passado o segundo argumento. Rode o programa novamente. Teste o seu programa com diversos valores para `length`."
      ]
    },
    {
      "cell_type": "code",
      "metadata": {
        "id": "4ToX5MzRa4CL"
      },
      "source": [
        ""
      ],
      "execution_count": null,
      "outputs": []
    },
    {
      "cell_type": "markdown",
      "metadata": {
        "id": "0d9K1DURa37N"
      },
      "source": [
        "3. Faça uma cópia da função `square` e mude o nome para `polygon`. Adicione um outro parâmetro chamado `n` e modifique o corpo da função para que ela desenhe um polígono regular de `n` lados. Dica: Os ângulos externos de um polígono regular de `n` lados são de `360/n` graus."
      ]
    },
    {
      "cell_type": "code",
      "metadata": {
        "id": "XrGav5F9a3yX"
      },
      "source": [
        ""
      ],
      "execution_count": null,
      "outputs": []
    },
    {
      "cell_type": "markdown",
      "metadata": {
        "id": "Yh_QHnwna3mW"
      },
      "source": [
        "4. Escreva uma função chamada `circle` que toma como argumento uma `Turtle`, `t`, e um raio, `r`, e desenha um círculo aproximado ao chamar a função `polygon` com `length` e número `n` de lados apropriados. Teste sua função com um intervalo de valores de `r`. Dica: Determine a circunferência do círculo e se certifique que `comprimento * n = circunferência`."
      ]
    },
    {
      "cell_type": "code",
      "metadata": {
        "id": "HW9pp6PHa3XR"
      },
      "source": [
        ""
      ],
      "execution_count": null,
      "outputs": []
    },
    {
      "cell_type": "markdown",
      "metadata": {
        "id": "PShhpxC7a3Fd"
      },
      "source": [
        "5. Faça uma versão mais geral da função `circle`, chamada `arc`, que toma um parâmetro adicional, `angle`, que determina qual a fração do circulo a ser desenhada. `angle` está em unidades de graus, logo quando `angle=360`, a função `arc` deve desenhar um cículo completo."
      ]
    },
    {
      "cell_type": "code",
      "metadata": {
        "id": "rHRvrAGKa21I"
      },
      "source": [
        ""
      ],
      "execution_count": null,
      "outputs": []
    },
    {
      "cell_type": "markdown",
      "metadata": {
        "id": "Nrky4VThKyZS"
      },
      "source": [
        "## Exercícios - Parte 2:\n",
        "  \n",
        "1. Escreva um conjunto apropriadamente geral de funções que possam desenhar flores como na Figura abaixo:\n",
        "![flowers](https://github.com/malbouis/Python_intro/blob/master/aulas_2019/pics/flowers.png?raw=1)"
      ]
    },
    {
      "cell_type": "code",
      "metadata": {
        "id": "d5hg-HekcYce"
      },
      "source": [
        ""
      ],
      "execution_count": null,
      "outputs": []
    },
    {
      "cell_type": "markdown",
      "metadata": {
        "id": "XBjk0hy0cX5L"
      },
      "source": [
        "2. Escreva um conjunto apropriadamente geral de funções que podem desenhar formas como na figura:\n",
        "![shapes](https://github.com/malbouis/Python_intro/blob/master/aulas_2019/pics/shapes_turtle.png?raw=1)\n",
        "\n",
        "Veja mais exercícios em: \n",
        "\n",
        "http://greenteapress.com/thinkpython2/html/thinkpython2005.html#sec42\n",
        "\n",
        "http://dfnae.fis.uerj.br/twiki/bin/view/DFNAE/IntroPython#Aula_6\n"
      ]
    },
    {
      "cell_type": "code",
      "metadata": {
        "id": "3Hp9e9v-cXZr"
      },
      "source": [
        ""
      ],
      "execution_count": null,
      "outputs": []
    },
    {
      "cell_type": "markdown",
      "metadata": {
        "id": "th4ycSX4cXF2"
      },
      "source": [
        "3. Adicione instruções para desenhar o talo e folha da flor. Faça a refatoração apropriada para a interface da flor completa ficar \"limpa\"."
      ]
    },
    {
      "cell_type": "code",
      "metadata": {
        "id": "K0SQexjmcWX4"
      },
      "source": [
        ""
      ],
      "execution_count": null,
      "outputs": []
    },
    {
      "cell_type": "markdown",
      "metadata": {
        "id": "0YGnPm25cVk3"
      },
      "source": [
        "4. As letras do alfabeto podem ser construídas a partir de um número moderado de elementos básicos, como linhas verticais e horizontais e algumas curvas. Projete um alfabeto que possa ser desenhado com um número mínimo de elementos básicos e depois escreva funções que desenhem as letras.\n",
        "\n",
        "   A. Você deve escrever uma função para cada letra, com os nomes ```draw_a_```, ```_draw_b_```, etc., e colocar suas funções em um arquivo chamado ```letters.py```. Você pode baixar uma “turtle typewriter” de http://thinkpython2.com/code/typewriter.py para ajudá-lo a testar seu código.\n",
        "\n",
        "   B. Você pode obter uma solução em http://thinkpython2.com/code/letters.py; também requer http://thinkpython2.com/code/polygon.py."
      ]
    },
    {
      "cell_type": "code",
      "metadata": {
        "id": "pEjmxwLicVau"
      },
      "source": [
        ""
      ],
      "execution_count": null,
      "outputs": []
    },
    {
      "cell_type": "markdown",
      "metadata": {
        "id": "hfOMKAFbcTxP"
      },
      "source": [
        "5. Leia sobre espirais em http://en.wikipedia.org/wiki/Spiral; em seguida, escreva um programa que desenhe uma espiral arquimediana (ou um dos outros tipos). Solução: http://thinkpython2.com/code/spiral.py."
      ]
    },
    {
      "cell_type": "code",
      "metadata": {
        "id": "sCvObBBgcTZI"
      },
      "source": [
        ""
      ],
      "execution_count": null,
      "outputs": []
    }
  ]
}