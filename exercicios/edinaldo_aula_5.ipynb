{
  "nbformat": 4,
  "nbformat_minor": 0,
  "metadata": {
    "colab": {
      "name": "edinaldo_aula_5.ipynb",
      "provenance": [],
      "authorship_tag": "ABX9TyNeW2ZxnujzJdo+8LmjGLTy",
      "include_colab_link": true
    },
    "kernelspec": {
      "name": "python3",
      "display_name": "Python 3"
    }
  },
  "cells": [
    {
      "cell_type": "markdown",
      "metadata": {
        "id": "view-in-github",
        "colab_type": "text"
      },
      "source": [
        "<a href=\"https://colab.research.google.com/github/Edinaldobjr/aulas_de_python/blob/master/exercicios/edinaldo_aula_5.ipynb\" target=\"_parent\"><img src=\"https://colab.research.google.com/assets/colab-badge.svg\" alt=\"Open In Colab\"/></a>"
      ]
    },
    {
      "cell_type": "code",
      "metadata": {
        "id": "13KBDZAudVXU",
        "outputId": "55728a90-b41b-476a-9c0a-08e74502ce43",
        "colab": {
          "base_uri": "https://localhost:8080/",
          "height": 34
        }
      },
      "source": [
        "!pip3 install ColabTurtle\n",
        "import ColabTurtle"
      ],
      "execution_count": 2,
      "outputs": [
        {
          "output_type": "stream",
          "text": [
            "Requirement already satisfied: ColabTurtle in /usr/local/lib/python3.6/dist-packages (2.0.0)\n"
          ],
          "name": "stdout"
        }
      ]
    },
    {
      "cell_type": "markdown",
      "metadata": {
        "id": "NsJ6R0HDgBGh"
      },
      "source": [
        "## Exercícios - Parte 1:\n",
        "1. [**Não é possível fazer no Google Colab. Pule para o exercício 2**] Modifique o programa da tartaruga (primeiro exemplo) para que, antes de criar a janela, ele solicite que o usuário insira a cor de fundo desejada. Ele deve armazenar as respostas do usuário em uma variável e modificar a cor da janela de acordo com os desejos do usuário. \n",
        "   * ***Dicas***: faça uso da função ***input***, built-in do python\n",
        "   * você pode encontrar uma lista de nomes de cores permitidos em http://www.tcl.tk/man/tcl8.4/TkCmd/colors.htm. Inclui alguns bem incomuns, como “peach puff” e “HotPink” ”***\n",
        "   \n",
        " \n",
        "   \n",
        "\n",
        "\n",
        "\n",
        "   \n",
        "\n",
        "\n"
      ]
    },
    {
      "cell_type": "code",
      "metadata": {
        "id": "qK60r9ZFbV6u"
      },
      "source": [
        ""
      ],
      "execution_count": null,
      "outputs": []
    },
    {
      "cell_type": "markdown",
      "metadata": {
        "id": "96i5CgItbVzf"
      },
      "source": [
        "2. Faça modificações similares para permitir que o usuário mude a cor da tartaruga durante a execução do programa.\n",
        "   * Faça o mesmo para a largura da caneta da tartaruga. *Dica: seu diálogo com o usuário retornará uma string, mas o método ```pensize``` ( ```width``` no Google Colab) espera que seu argumento seja um **int**. Então, você precisará converter a **string** em um **int** antes de passá-la para **pensize**.*  "
      ]
    },
    {
      "cell_type": "code",
      "metadata": {
        "id": "imtQKOt3bVo1",
        "outputId": "fcaa659c-14ec-44e6-c070-2650b26c4152",
        "colab": {
          "base_uri": "https://localhost:8080/",
          "height": 282
        }
      },
      "source": [
        "import ColabTurtle.Turtle as teca\n",
        "teca = ColabTurtle.Turtle\n",
        "\n",
        "color = input(\"Cores disponíveis ('white', 'yellow', 'orange', 'red', 'green', 'blue', 'purple', 'grey', 'black')\\nDigite a cor desejada: \")\n",
        "tamanho = int(input(\"Digite a expessura da caneta: \"))\n",
        "teca.initializeTurtle()\n",
        "teca.color(color)\n",
        "teca.width(tamanho)\n",
        "teca.forward(50)\n",
        "teca.left(120)\n",
        "teca.forward(50)"
      ],
      "execution_count": 5,
      "outputs": [
        {
          "output_type": "stream",
          "text": [
            "Cores disponíveis ('white', 'yellow', 'orange', 'red', 'green', 'blue', 'purple', 'grey', 'black')\n",
            "Digite a cor desejada: a\n",
            "Digite a expessura da caneta: b\n"
          ],
          "name": "stdout"
        },
        {
          "output_type": "error",
          "ename": "ValueError",
          "evalue": "ignored",
          "traceback": [
            "\u001b[0;31m---------------------------------------------------------------------------\u001b[0m",
            "\u001b[0;31mValueError\u001b[0m                                Traceback (most recent call last)",
            "\u001b[0;32m<ipython-input-5-18f93a1f444c>\u001b[0m in \u001b[0;36m<module>\u001b[0;34m()\u001b[0m\n\u001b[1;32m      3\u001b[0m \u001b[0;34m\u001b[0m\u001b[0m\n\u001b[1;32m      4\u001b[0m \u001b[0mcolor\u001b[0m \u001b[0;34m=\u001b[0m \u001b[0minput\u001b[0m\u001b[0;34m(\u001b[0m\u001b[0;34m\"Cores disponíveis ('white', 'yellow', 'orange', 'red', 'green', 'blue', 'purple', 'grey', 'black')\\nDigite a cor desejada: \"\u001b[0m\u001b[0;34m)\u001b[0m\u001b[0;34m\u001b[0m\u001b[0;34m\u001b[0m\u001b[0m\n\u001b[0;32m----> 5\u001b[0;31m \u001b[0mtamanho\u001b[0m \u001b[0;34m=\u001b[0m \u001b[0mint\u001b[0m\u001b[0;34m(\u001b[0m\u001b[0minput\u001b[0m\u001b[0;34m(\u001b[0m\u001b[0;34m\"Digite a expessura da caneta: \"\u001b[0m\u001b[0;34m)\u001b[0m\u001b[0;34m)\u001b[0m\u001b[0;34m\u001b[0m\u001b[0;34m\u001b[0m\u001b[0m\n\u001b[0m\u001b[1;32m      6\u001b[0m \u001b[0mteca\u001b[0m\u001b[0;34m.\u001b[0m\u001b[0minitializeTurtle\u001b[0m\u001b[0;34m(\u001b[0m\u001b[0;34m)\u001b[0m\u001b[0;34m\u001b[0m\u001b[0;34m\u001b[0m\u001b[0m\n\u001b[1;32m      7\u001b[0m \u001b[0mteca\u001b[0m\u001b[0;34m.\u001b[0m\u001b[0mcolor\u001b[0m\u001b[0;34m(\u001b[0m\u001b[0mcolor\u001b[0m\u001b[0;34m)\u001b[0m\u001b[0;34m\u001b[0m\u001b[0;34m\u001b[0m\u001b[0m\n",
            "\u001b[0;31mValueError\u001b[0m: invalid literal for int() with base 10: 'b'"
          ]
        }
      ]
    },
    {
      "cell_type": "markdown",
      "metadata": {
        "id": "SVE2oqE7bVhr"
      },
      "source": [
        "3. Investiguem os métodos e atributos do módulo ```turtle```  (```ColabTurtle``` no Google Colab);"
      ]
    },
    {
      "cell_type": "code",
      "metadata": {
        "id": "ptoN8lN5bVb9",
        "outputId": "1144f654-f488-451f-e7f5-d320ace1b3d2",
        "colab": {
          "base_uri": "https://localhost:8080/",
          "height": 1000
        }
      },
      "source": [
        "help(ColabTurtle.Turtle)"
      ],
      "execution_count": null,
      "outputs": [
        {
          "output_type": "stream",
          "text": [
            "Help on module ColabTurtle.Turtle in ColabTurtle:\n",
            "\n",
            "NAME\n",
            "    ColabTurtle.Turtle\n",
            "\n",
            "FUNCTIONS\n",
            "    backward(units)\n",
            "        # makes the turtle move backward by 'units' units\n",
            "    \n",
            "    bgcolor(color)\n",
            "        # change the background color of the drawing area; valid colors are defined at VALID_COLORS\n",
            "    \n",
            "    color(color)\n",
            "        # change the color of the pen; valid colors are defined at VALID_COLORS\n",
            "    \n",
            "    forward(units)\n",
            "        # makes the turtle move forward by 'units' units\n",
            "    \n",
            "    goto(x, y)\n",
            "        # move the turtle to a designated 'x'-'y' coordinate\n",
            "    \n",
            "    hideturtle()\n",
            "        # switch turtle visibility to ON\n",
            "    \n",
            "    initializeTurtle(initial_speed=4, initial_window_size=(800, 500))\n",
            "        # construct the display for turtle\n",
            "    \n",
            "    left(degrees)\n",
            "        # makes the turtle move right by 'degrees' degrees (NOT radians)\n",
            "    \n",
            "    pendown()\n",
            "        # lowers the pen such that following turtle moves will now cause drawings\n",
            "    \n",
            "    penup()\n",
            "        # raises the pen such that following turtle moves will not cause any drawings\n",
            "    \n",
            "    right(degrees)\n",
            "        # makes the turtle move right by 'degrees' degrees (NOT radians)\n",
            "    \n",
            "    setx(x)\n",
            "        # move the turtle to a designated 'x' x-coordinate, y-coordinate stays the same\n",
            "    \n",
            "    sety(y)\n",
            "        # move the turtle to a designated 'y' y-coordinate, x-coordinate stays the same\n",
            "    \n",
            "    showturtle()\n",
            "        # switch turtle visibility to ON\n",
            "    \n",
            "    speed(speed)\n",
            "        # update the speed of the moves, [1,10]\n",
            "    \n",
            "    width(width)\n",
            "        # change the width of the lines drawn by the turtle, in pixels\n",
            "\n",
            "DATA\n",
            "    DEFAULT_BACKGROUND_COLOR = 'black'\n",
            "    DEFAULT_IS_PEN_DOWN = True\n",
            "    DEFAULT_PEN_COLOR = 'white'\n",
            "    DEFAULT_PEN_WIDTH = 4\n",
            "    DEFAULT_SPEED = 4\n",
            "    DEFAULT_SVG_LINES_STRING = ''\n",
            "    DEFAULT_TURTLE_DEGREE = 270\n",
            "    DEFAULT_TURTLE_VISIBILITY = True\n",
            "    DEFAULT_WINDOW_SIZE = (800, 500)\n",
            "    SPEED_TO_SEC_MAP = {1: 1.5, 2: 0.9, 3: 0.7, 4: 0.5, 5: 0.3, 6: 0.18, 7...\n",
            "    SVG_TEMPLATE = '\\n      <svg width=\"{window_width}\" height=\"{wind...  ...\n",
            "    TURTLE_SVG_TEMPLATE = '\\n      <g visibility={visibility} transform=\"r...\n",
            "    VALID_COLORS = ('white', 'yellow', 'orange', 'red', 'green', 'blue', '...\n",
            "    background_color = 'black'\n",
            "    drawing_window = <DisplayHandle display_id=418c42d43a821c7aebd69eaafa9...\n",
            "    is_pen_down = True\n",
            "    is_turtle_visible = True\n",
            "    pen_color = 'red'\n",
            "    pen_width = 2\n",
            "    svg_lines_string = '<line x1=\"400\" y1=\"250\" x2=\"400.0\" y2=\"200.0\" st.....\n",
            "    timeout = 0.5\n",
            "    turtle_degree = 150\n",
            "    turtle_pos = (356.69872981077805, 225.0)\n",
            "    window_size = (800, 500)\n",
            "\n",
            "FILE\n",
            "    /usr/local/lib/python3.6/dist-packages/ColabTurtle/Turtle.py\n",
            "\n",
            "\n"
          ],
          "name": "stdout"
        }
      ]
    },
    {
      "cell_type": "markdown",
      "metadata": {
        "id": "C_EpzylUbVWF"
      },
      "source": [
        "4. Desenhe um quadrado, usando a forma de tartaruga, ao invés da flecha, para desenhar (***caso esteja no Google Colab, não precisa mudar a forma***).\n",
        "   * mude a velocidade com que a tartaruga faz o desenho."
      ]
    },
    {
      "cell_type": "code",
      "metadata": {
        "id": "n05AMH8qbVQS",
        "outputId": "6b074725-ecba-4497-92fc-8f0d2b2147c9",
        "colab": {
          "base_uri": "https://localhost:8080/",
          "height": 521
        }
      },
      "source": [
        "red = ColabTurtle.Turtle\n",
        "red.initializeTurtle()     \n",
        "red.color('red')        \n",
        "red.speed(4)\n",
        "\n",
        "for i in range(4):\n",
        "  red.forward(100)            \n",
        "  red.left(90)"
      ],
      "execution_count": null,
      "outputs": [
        {
          "output_type": "display_data",
          "data": {
            "text/html": [
              "\n",
              "      <svg width=\"800\" height=\"500\">\n",
              "        <rect width=\"100%\" height=\"100%\" fill=\"black\"/>\n",
              "        <line x1=\"400\" y1=\"250\" x2=\"400.0\" y2=\"150.0\" stroke-linecap=\"round\" style=\"stroke:red;stroke-width:4\"/><line x1=\"400.0\" y1=\"150.0\" x2=\"300.0\" y2=\"150.0\" stroke-linecap=\"round\" style=\"stroke:red;stroke-width:4\"/><line x1=\"300.0\" y1=\"150.0\" x2=\"300.0\" y2=\"250.0\" stroke-linecap=\"round\" style=\"stroke:red;stroke-width:4\"/><line x1=\"300.0\" y1=\"250.0\" x2=\"400.0\" y2=\"250.0\" stroke-linecap=\"round\" style=\"stroke:red;stroke-width:4\"/>\n",
              "        \n",
              "      <g visibility=visible transform=\"rotate(180,400.0,250.0) translate(400.0, 250.0)\">\n",
              "        <circle stroke=\"red\" stroke-width=\"3\" fill=\"transparent\" r=\"12\" cx=\"0\" cy=\"0\"/>\n",
              "        <polygon points=\"0,19 3,16 -3,16\" style=\"fill:red;stroke:red;stroke-width:2\"/>\n",
              "      </g>\n",
              "    \n",
              "      </svg>\n",
              "    "
            ],
            "text/plain": [
              "<IPython.core.display.HTML object>"
            ]
          },
          "metadata": {
            "tags": []
          }
        }
      ]
    },
    {
      "cell_type": "markdown",
      "metadata": {
        "id": "GP1THpUHbVKD"
      },
      "source": [
        "5. Sabendo que o ângulo interno da ponta de uma estrela de 5 pontas é de 36 graus, desenhe uma estrela.\n",
        "![title](https://github.com/malbouis/Python_intro/blob/master/aulas_2019/pics/estrela.png?raw=1)"
      ]
    },
    {
      "cell_type": "code",
      "metadata": {
        "id": "wOsPfbULbVDM",
        "outputId": "30d784a5-a2bd-4bf0-8019-dcc626923291",
        "colab": {
          "base_uri": "https://localhost:8080/",
          "height": 521
        }
      },
      "source": [
        "blue = ColabTurtle.Turtle\n",
        "blue.initializeTurtle()     \n",
        "blue.color('blue')        \n",
        "blue.speed(5)\n",
        "# blue.bgcolor(\"white\")\n",
        "\n",
        "blue.left(18)\n",
        "for i in range(5):\n",
        "  blue.forward(100)            \n",
        "  blue.left(144)"
      ],
      "execution_count": null,
      "outputs": [
        {
          "output_type": "display_data",
          "data": {
            "text/html": [
              "\n",
              "      <svg width=\"800\" height=\"500\">\n",
              "        <rect width=\"100%\" height=\"100%\" fill=\"black\"/>\n",
              "        <line x1=\"400\" y1=\"250\" x2=\"369.09830056250524\" y2=\"154.89434837048464\" stroke-linecap=\"round\" style=\"stroke:blue;stroke-width:4\"/><line x1=\"369.09830056250524\" y1=\"154.89434837048464\" x2=\"338.1966011250105\" y2=\"250.0\" stroke-linecap=\"round\" style=\"stroke:blue;stroke-width:4\"/><line x1=\"338.1966011250105\" y1=\"250.0\" x2=\"419.0983005625052\" y2=\"191.22147477075265\" stroke-linecap=\"round\" style=\"stroke:blue;stroke-width:4\"/><line x1=\"419.0983005625052\" y1=\"191.22147477075265\" x2=\"319.0983005625052\" y2=\"191.22147477075265\" stroke-linecap=\"round\" style=\"stroke:blue;stroke-width:4\"/><line x1=\"319.0983005625052\" y1=\"191.22147477075265\" x2=\"399.99999999999994\" y2=\"249.99999999999997\" stroke-linecap=\"round\" style=\"stroke:blue;stroke-width:4\"/>\n",
              "        \n",
              "      <g visibility=visible transform=\"rotate(162,399.99999999999994,249.99999999999997) translate(399.99999999999994, 249.99999999999997)\">\n",
              "        <circle stroke=\"blue\" stroke-width=\"3\" fill=\"transparent\" r=\"12\" cx=\"0\" cy=\"0\"/>\n",
              "        <polygon points=\"0,19 3,16 -3,16\" style=\"fill:blue;stroke:blue;stroke-width:2\"/>\n",
              "      </g>\n",
              "    \n",
              "      </svg>\n",
              "    "
            ],
            "text/plain": [
              "<IPython.core.display.HTML object>"
            ]
          },
          "metadata": {
            "tags": []
          }
        }
      ]
    },
    {
      "cell_type": "code",
      "metadata": {
        "id": "b6paajlCV-fI",
        "outputId": "d20c1e68-4c61-485f-e45b-d86a07b74d9a",
        "colab": {
          "base_uri": "https://localhost:8080/",
          "height": 521
        }
      },
      "source": [
        "blue = ColabTurtle.Turtle\n",
        "blue.initializeTurtle()     \n",
        "blue.color('blue')        \n",
        "blue.speed(5)\n",
        "# blue.bgcolor(\"white\")\n",
        "\n",
        "n = 7\n",
        "\n",
        "ang = 180 / n\n",
        "ang_a = 180 - ang\n",
        "ang_b = ang_a / 2\n",
        "\n",
        "#blue.left(ang_b)\n",
        "for i in range(n):\n",
        "  blue.forward(100)            \n",
        "  blue.left(ang_a)"
      ],
      "execution_count": null,
      "outputs": [
        {
          "output_type": "display_data",
          "data": {
            "text/html": [
              "\n",
              "      <svg width=\"800\" height=\"500\">\n",
              "        <rect width=\"100%\" height=\"100%\" fill=\"black\"/>\n",
              "        <line x1=\"400\" y1=\"250\" x2=\"356.6116260882442\" y2=\"340.0968867902419\" stroke-linecap=\"round\" style=\"stroke:blue;stroke-width:4\"/><line x1=\"356.6116260882442\" y1=\"340.0968867902419\" x2=\"434.7947743350471\" y2=\"277.74790660436855\" stroke-linecap=\"round\" style=\"stroke:blue;stroke-width:4\"/><line x1=\"434.7947743350471\" y1=\"277.74790660436855\" x2=\"337.30198311686473\" y2=\"299.99999999999994\" stroke-linecap=\"round\" style=\"stroke:blue;stroke-width:4\"/><line x1=\"337.30198311686473\" y1=\"299.99999999999994\" x2=\"434.79477433504707\" y2=\"322.25209339563145\" stroke-linecap=\"round\" style=\"stroke:blue;stroke-width:4\"/><line x1=\"434.79477433504707\" y1=\"322.25209339563145\" x2=\"356.6116260882441\" y2=\"259.90311320975803\" stroke-linecap=\"round\" style=\"stroke:blue;stroke-width:4\"/><line x1=\"356.6116260882441\" y1=\"259.90311320975803\" x2=\"399.9999999999999\" y2=\"350.0\" stroke-linecap=\"round\" style=\"stroke:blue;stroke-width:4\"/><line x1=\"399.9999999999999\" y1=\"350.0\" x2=\"399.99999999999994\" y2=\"250.0\" stroke-linecap=\"round\" style=\"stroke:blue;stroke-width:4\"/>\n",
              "        \n",
              "      <g visibility=visible transform=\"rotate(25.71428571428578,399.99999999999994,250.0) translate(399.99999999999994, 250.0)\">\n",
              "        <circle stroke=\"blue\" stroke-width=\"3\" fill=\"transparent\" r=\"12\" cx=\"0\" cy=\"0\"/>\n",
              "        <polygon points=\"0,19 3,16 -3,16\" style=\"fill:blue;stroke:blue;stroke-width:2\"/>\n",
              "      </g>\n",
              "    \n",
              "      </svg>\n",
              "    "
            ],
            "text/plain": [
              "<IPython.core.display.HTML object>"
            ]
          },
          "metadata": {
            "tags": []
          }
        }
      ]
    },
    {
      "cell_type": "markdown",
      "metadata": {
        "id": "ewt1DX6rbU6w"
      },
      "source": [
        "6. Sabendo o ângulo interno da ponta de uma estrela, desenhe quatro estrelas em uma janela, com uma certa distância entre elas. Dica: use a função penup() e pendown() do módulo ```turtle```."
      ]
    },
    {
      "cell_type": "code",
      "metadata": {
        "id": "L4L3Xn2lKU-1",
        "outputId": "66fef1aa-70d5-4a0a-ca83-2bc7a722891f",
        "colab": {
          "base_uri": "https://localhost:8080/",
          "height": 521
        }
      },
      "source": [
        "def comecar_esquerda(distancia):\n",
        "    blue.penup()\n",
        "    blue.left(90)\n",
        "    blue.forward(distancia)\n",
        "    blue.right(144)\n",
        "    blue.pendown()\n",
        "\n",
        "def estrela(tamanho):\n",
        "    for i in range(5):\n",
        "      blue.forward(tamanho)            \n",
        "      blue.left(144)\n",
        "\n",
        "def andar_direita(distancia):\n",
        "    blue.penup()\n",
        "    blue.right(36)\n",
        "    blue.forward(distancia)\n",
        "    blue.left(36)\n",
        "    blue.pendown()\n",
        "\n",
        "def estrelas(n, tamanho, distancia):\n",
        "    for i in range(n):\n",
        "      estrela(tamanho)\n",
        "      andar_direita(tamanho + distancia)\n",
        "\n",
        "blue = ColabTurtle.Turtle\n",
        "blue.initializeTurtle()     \n",
        "blue.color('blue')        \n",
        "blue.speed(6)\n",
        "\n",
        "comecar_esquerda(5 * 60)\n",
        "estrelas(5, 100, 20)"
      ],
      "execution_count": null,
      "outputs": [
        {
          "output_type": "display_data",
          "data": {
            "text/html": [
              "\n",
              "      <svg width=\"800\" height=\"500\">\n",
              "        <rect width=\"100%\" height=\"100%\" fill=\"black\"/>\n",
              "        <line x1=\"100.0\" y1=\"250.00000000000003\" x2=\"180.90169943749473\" y2=\"191.2214747707527\" stroke-linecap=\"round\" style=\"stroke:blue;stroke-width:4\"/><line x1=\"180.90169943749473\" y1=\"191.2214747707527\" x2=\"80.90169943749473\" y2=\"191.2214747707527\" stroke-linecap=\"round\" style=\"stroke:blue;stroke-width:4\"/><line x1=\"80.90169943749473\" y1=\"191.2214747707527\" x2=\"161.80339887498945\" y2=\"250.00000000000003\" stroke-linecap=\"round\" style=\"stroke:blue;stroke-width:4\"/><line x1=\"161.80339887498945\" y1=\"250.00000000000003\" x2=\"130.9016994374947\" y2=\"154.8943483704847\" stroke-linecap=\"round\" style=\"stroke:blue;stroke-width:4\"/><line x1=\"130.9016994374947\" y1=\"154.8943483704847\" x2=\"99.99999999999997\" y2=\"250.00000000000006\" stroke-linecap=\"round\" style=\"stroke:blue;stroke-width:4\"/><line x1=\"219.99999999999997\" y1=\"250.00000000000006\" x2=\"300.9016994374947\" y2=\"191.2214747707527\" stroke-linecap=\"round\" style=\"stroke:blue;stroke-width:4\"/><line x1=\"300.9016994374947\" y1=\"191.2214747707527\" x2=\"200.9016994374947\" y2=\"191.2214747707527\" stroke-linecap=\"round\" style=\"stroke:blue;stroke-width:4\"/><line x1=\"200.9016994374947\" y1=\"191.2214747707527\" x2=\"281.80339887498945\" y2=\"250.00000000000003\" stroke-linecap=\"round\" style=\"stroke:blue;stroke-width:4\"/><line x1=\"281.80339887498945\" y1=\"250.00000000000003\" x2=\"250.9016994374947\" y2=\"154.8943483704847\" stroke-linecap=\"round\" style=\"stroke:blue;stroke-width:4\"/><line x1=\"250.9016994374947\" y1=\"154.8943483704847\" x2=\"219.99999999999997\" y2=\"250.00000000000006\" stroke-linecap=\"round\" style=\"stroke:blue;stroke-width:4\"/><line x1=\"340.0\" y1=\"250.00000000000006\" x2=\"420.9016994374947\" y2=\"191.2214747707527\" stroke-linecap=\"round\" style=\"stroke:blue;stroke-width:4\"/><line x1=\"420.9016994374947\" y1=\"191.2214747707527\" x2=\"320.9016994374947\" y2=\"191.2214747707527\" stroke-linecap=\"round\" style=\"stroke:blue;stroke-width:4\"/><line x1=\"320.9016994374947\" y1=\"191.2214747707527\" x2=\"401.80339887498945\" y2=\"250.00000000000003\" stroke-linecap=\"round\" style=\"stroke:blue;stroke-width:4\"/><line x1=\"401.80339887498945\" y1=\"250.00000000000003\" x2=\"370.9016994374947\" y2=\"154.8943483704847\" stroke-linecap=\"round\" style=\"stroke:blue;stroke-width:4\"/><line x1=\"370.9016994374947\" y1=\"154.8943483704847\" x2=\"339.99999999999994\" y2=\"250.00000000000006\" stroke-linecap=\"round\" style=\"stroke:blue;stroke-width:4\"/><line x1=\"459.99999999999994\" y1=\"250.00000000000006\" x2=\"540.9016994374947\" y2=\"191.2214747707527\" stroke-linecap=\"round\" style=\"stroke:blue;stroke-width:4\"/><line x1=\"540.9016994374947\" y1=\"191.2214747707527\" x2=\"440.9016994374947\" y2=\"191.2214747707527\" stroke-linecap=\"round\" style=\"stroke:blue;stroke-width:4\"/><line x1=\"440.9016994374947\" y1=\"191.2214747707527\" x2=\"521.8033988749894\" y2=\"250.00000000000003\" stroke-linecap=\"round\" style=\"stroke:blue;stroke-width:4\"/><line x1=\"521.8033988749894\" y1=\"250.00000000000003\" x2=\"490.90169943749464\" y2=\"154.8943483704847\" stroke-linecap=\"round\" style=\"stroke:blue;stroke-width:4\"/><line x1=\"490.90169943749464\" y1=\"154.8943483704847\" x2=\"459.9999999999999\" y2=\"250.00000000000006\" stroke-linecap=\"round\" style=\"stroke:blue;stroke-width:4\"/><line x1=\"579.9999999999999\" y1=\"250.00000000000006\" x2=\"660.9016994374946\" y2=\"191.2214747707527\" stroke-linecap=\"round\" style=\"stroke:blue;stroke-width:4\"/><line x1=\"660.9016994374946\" y1=\"191.2214747707527\" x2=\"560.9016994374946\" y2=\"191.2214747707527\" stroke-linecap=\"round\" style=\"stroke:blue;stroke-width:4\"/><line x1=\"560.9016994374946\" y1=\"191.2214747707527\" x2=\"641.8033988749893\" y2=\"250.00000000000003\" stroke-linecap=\"round\" style=\"stroke:blue;stroke-width:4\"/><line x1=\"641.8033988749893\" y1=\"250.00000000000003\" x2=\"610.9016994374945\" y2=\"154.8943483704847\" stroke-linecap=\"round\" style=\"stroke:blue;stroke-width:4\"/><line x1=\"610.9016994374945\" y1=\"154.8943483704847\" x2=\"579.9999999999998\" y2=\"250.00000000000006\" stroke-linecap=\"round\" style=\"stroke:blue;stroke-width:4\"/>\n",
              "        \n",
              "      <g visibility=visible transform=\"rotate(234,699.9999999999998,250.00000000000006) translate(699.9999999999998, 250.00000000000006)\">\n",
              "        <circle stroke=\"blue\" stroke-width=\"3\" fill=\"transparent\" r=\"12\" cx=\"0\" cy=\"0\"/>\n",
              "        <polygon points=\"0,19 3,16 -3,16\" style=\"fill:blue;stroke:blue;stroke-width:2\"/>\n",
              "      </g>\n",
              "    \n",
              "      </svg>\n",
              "    "
            ],
            "text/plain": [
              "<IPython.core.display.HTML object>"
            ]
          },
          "metadata": {
            "tags": []
          }
        }
      ]
    },
    {
      "cell_type": "markdown",
      "metadata": {
        "id": "DZXmIVJAKyYj"
      },
      "source": [
        "## Exercícios em preparação para os próximos capítulos\n",
        "\n",
        "1. Escreva uma função chamada `square`, que toma um parâmetro `t`, que é uma `ColabTurtle`. Essa função deve usar o `ColabTurtle` para desenhar um quadrado. Escreva uma chamada de função que passe `joana` como argumento para `square` e rode o programa novamente. \n",
        "\n",
        "\n",
        "\n",
        "  \n",
        "\n",
        "\n",
        "\n",
        "\n"
      ]
    },
    {
      "cell_type": "code",
      "metadata": {
        "id": "b4nlFSfwa4Ri",
        "outputId": "063afcdb-f57c-4436-c3fb-12922f4c47b4",
        "colab": {
          "base_uri": "https://localhost:8080/",
          "height": 521
        }
      },
      "source": [
        "def square(t):\n",
        "  for i in range(4):\n",
        "        t.forward(100)\n",
        "        t.left(90)      \n",
        "        \n",
        "\n",
        "import ColabTurtle as joana\n",
        "joana = ColabTurtle.Turtle\n",
        "joana.initializeTurtle()\n",
        "joana.speed(5)\n",
        "square(joana)"
      ],
      "execution_count": 6,
      "outputs": [
        {
          "output_type": "display_data",
          "data": {
            "text/html": [
              "\n",
              "      <svg width=\"800\" height=\"500\">\n",
              "        <rect width=\"100%\" height=\"100%\" fill=\"black\"/>\n",
              "        <line x1=\"400\" y1=\"250\" x2=\"400.0\" y2=\"150.0\" stroke-linecap=\"round\" style=\"stroke:white;stroke-width:4\"/><line x1=\"400.0\" y1=\"150.0\" x2=\"300.0\" y2=\"150.0\" stroke-linecap=\"round\" style=\"stroke:white;stroke-width:4\"/><line x1=\"300.0\" y1=\"150.0\" x2=\"300.0\" y2=\"250.0\" stroke-linecap=\"round\" style=\"stroke:white;stroke-width:4\"/><line x1=\"300.0\" y1=\"250.0\" x2=\"400.0\" y2=\"250.0\" stroke-linecap=\"round\" style=\"stroke:white;stroke-width:4\"/>\n",
              "        \n",
              "      <g visibility=visible transform=\"rotate(180,400.0,250.0) translate(400.0, 250.0)\">\n",
              "        <circle stroke=\"white\" stroke-width=\"3\" fill=\"transparent\" r=\"12\" cx=\"0\" cy=\"0\"/>\n",
              "        <polygon points=\"0,19 3,16 -3,16\" style=\"fill:white;stroke:white;stroke-width:2\"/>\n",
              "      </g>\n",
              "    \n",
              "      </svg>\n",
              "    "
            ],
            "text/plain": [
              "<IPython.core.display.HTML object>"
            ]
          },
          "metadata": {
            "tags": []
          }
        }
      ]
    },
    {
      "cell_type": "markdown",
      "metadata": {
        "id": "GaK_3PYBa4Jn"
      },
      "source": [
        "2. Adicione um outro parâmetro, chamado `length`, à função `square`. Modifique o corpo da função de tal forma que o comprimento dos lados do quadrado seja `length` e então modifique a chamada da função para que seja passado o segundo argumento. Rode o programa novamente. Teste o seu programa com diversos valores para `length`."
      ]
    },
    {
      "cell_type": "code",
      "metadata": {
        "id": "4ToX5MzRa4CL",
        "outputId": "9a140949-3448-4c8c-b706-1aa9568ad9b0",
        "colab": {
          "base_uri": "https://localhost:8080/",
          "height": 521
        }
      },
      "source": [
        "def square(t, length):\n",
        "  for i in range(4):\n",
        "        t.forward(length)\n",
        "        t.left(90)      \n",
        "\n",
        "\n",
        "joana = ColabTurtle.Turtle\n",
        "joana.initializeTurtle()\n",
        "joana.speed(5)\n",
        "square(joana, 150)"
      ],
      "execution_count": null,
      "outputs": [
        {
          "output_type": "display_data",
          "data": {
            "text/html": [
              "\n",
              "      <svg width=\"800\" height=\"500\">\n",
              "        <rect width=\"100%\" height=\"100%\" fill=\"black\"/>\n",
              "        <line x1=\"400\" y1=\"250\" x2=\"400.0\" y2=\"100.0\" stroke-linecap=\"round\" style=\"stroke:white;stroke-width:4\"/><line x1=\"400.0\" y1=\"100.0\" x2=\"250.0\" y2=\"100.00000000000001\" stroke-linecap=\"round\" style=\"stroke:white;stroke-width:4\"/><line x1=\"250.0\" y1=\"100.00000000000001\" x2=\"250.0\" y2=\"250.0\" stroke-linecap=\"round\" style=\"stroke:white;stroke-width:4\"/><line x1=\"250.0\" y1=\"250.0\" x2=\"400.0\" y2=\"250.0\" stroke-linecap=\"round\" style=\"stroke:white;stroke-width:4\"/>\n",
              "        \n",
              "      <g visibility=visible transform=\"rotate(180,400.0,250.0) translate(400.0, 250.0)\">\n",
              "        <circle stroke=\"white\" stroke-width=\"3\" fill=\"transparent\" r=\"12\" cx=\"0\" cy=\"0\"/>\n",
              "        <polygon points=\"0,19 3,16 -3,16\" style=\"fill:white;stroke:white;stroke-width:2\"/>\n",
              "      </g>\n",
              "    \n",
              "      </svg>\n",
              "    "
            ],
            "text/plain": [
              "<IPython.core.display.HTML object>"
            ]
          },
          "metadata": {
            "tags": []
          }
        }
      ]
    },
    {
      "cell_type": "markdown",
      "metadata": {
        "id": "0d9K1DURa37N"
      },
      "source": [
        "3. Faça uma cópia da função `square` e mude o nome para `polygon`. Adicione um outro parâmetro chamado `n` e modifique o corpo da função para que ela desenhe um polígono regular de `n` lados. Dica: Os ângulos externos de um polígono regular de `n` lados são de `360/n` graus."
      ]
    },
    {
      "cell_type": "code",
      "metadata": {
        "id": "XrGav5F9a3yX",
        "outputId": "0cba8756-92eb-4d3f-f674-a9c5f44a9c3c",
        "colab": {
          "base_uri": "https://localhost:8080/",
          "height": 521
        }
      },
      "source": [
        "def polygon(t, length, n):\n",
        "  for i in range(n):\n",
        "        t.forward(length)\n",
        "        t.left(360/n)      \n",
        "\n",
        "joana = ColabTurtle.Turtle\n",
        "joana.initializeTurtle()\n",
        "joana.speed(5)\n",
        "polygon(joana, 30, 5)"
      ],
      "execution_count": null,
      "outputs": [
        {
          "output_type": "display_data",
          "data": {
            "text/html": [
              "\n",
              "      <svg width=\"800\" height=\"500\">\n",
              "        <rect width=\"100%\" height=\"100%\" fill=\"black\"/>\n",
              "        <line x1=\"400\" y1=\"250\" x2=\"400.0\" y2=\"220.0\" stroke-linecap=\"round\" style=\"stroke:white;stroke-width:4\"/><line x1=\"400.0\" y1=\"220.0\" x2=\"371.4683045111454\" y2=\"210.72949016875157\" stroke-linecap=\"round\" style=\"stroke:white;stroke-width:4\"/><line x1=\"371.4683045111454\" y1=\"210.72949016875157\" x2=\"353.8347469423712\" y2=\"235.0\" stroke-linecap=\"round\" style=\"stroke:white;stroke-width:4\"/><line x1=\"353.8347469423712\" y1=\"235.0\" x2=\"371.46830451114545\" y2=\"259.27050983124843\" stroke-linecap=\"round\" style=\"stroke:white;stroke-width:4\"/><line x1=\"371.46830451114545\" y1=\"259.27050983124843\" x2=\"400.00000000000006\" y2=\"250.0\" stroke-linecap=\"round\" style=\"stroke:white;stroke-width:4\"/>\n",
              "        \n",
              "      <g visibility=visible transform=\"rotate(180.0,400.00000000000006,250.0) translate(400.00000000000006, 250.0)\">\n",
              "        <circle stroke=\"white\" stroke-width=\"3\" fill=\"transparent\" r=\"12\" cx=\"0\" cy=\"0\"/>\n",
              "        <polygon points=\"0,19 3,16 -3,16\" style=\"fill:white;stroke:white;stroke-width:2\"/>\n",
              "      </g>\n",
              "    \n",
              "      </svg>\n",
              "    "
            ],
            "text/plain": [
              "<IPython.core.display.HTML object>"
            ]
          },
          "metadata": {
            "tags": []
          }
        }
      ]
    },
    {
      "cell_type": "markdown",
      "metadata": {
        "id": "Yh_QHnwna3mW"
      },
      "source": [
        "4. Escreva uma função chamada `circle` que toma como argumento uma `Turtle`, `t`, e um raio, `r`, e desenha um círculo aproximado ao chamar a função `polygon` com `length` e número `n` de lados apropriados. Teste sua função com um intervalo de valores de `r`. Dica: Determine a circunferência do círculo e se certifique que `comprimento * n = circunferência`."
      ]
    },
    {
      "cell_type": "code",
      "metadata": {
        "id": "HW9pp6PHa3XR",
        "outputId": "3d8e0736-de8e-4db9-973d-647206c12d0a",
        "colab": {
          "base_uri": "https://localhost:8080/",
          "height": 521
        }
      },
      "source": [
        "import math\n",
        "\n",
        "def polygon(t, length, n):\n",
        "  for i in range(n):\n",
        "        t.forward(length)\n",
        "        t.left(360/n) \n",
        "\n",
        "def circle(t, r): \n",
        "    circumference = 2 * math.pi * r  \n",
        "    n = 50\n",
        "    length = int(circumference / n )\n",
        "    polygon(t, length, n)\n",
        "\n",
        "joana.initializeTurtle()\n",
        "joana.speed(10)\n",
        "circle(joana, 40)"
      ],
      "execution_count": null,
      "outputs": [
        {
          "output_type": "display_data",
          "data": {
            "text/html": [
              "\n",
              "      <svg width=\"800\" height=\"500\">\n",
              "        <rect width=\"100%\" height=\"100%\" fill=\"black\"/>\n",
              "        <line x1=\"400\" y1=\"250\" x2=\"400.0\" y2=\"245.0\" stroke-linecap=\"round\" style=\"stroke:white;stroke-width:4\"/><line x1=\"400.0\" y1=\"245.0\" x2=\"399.3733338321785\" y2=\"240.0394264934276\" stroke-linecap=\"round\" style=\"stroke:white;stroke-width:4\"/><line x1=\"399.3733338321785\" y1=\"240.0394264934276\" x2=\"398.1298843963542\" y2=\"235.19651068778447\" stroke-linecap=\"round\" style=\"stroke:white;stroke-width:4\"/><line x1=\"398.1298843963542\" y1=\"235.19651068778447\" x2=\"396.28926163293085\" y2=\"230.54762825834322\" stroke-linecap=\"round\" style=\"stroke:white;stroke-width:4\"/><line x1=\"396.28926163293085\" y1=\"230.54762825834322\" x2=\"393.88049326242225\" y2=\"226.1660948581239\" stroke-linecap=\"round\" style=\"stroke:white;stroke-width:4\"/><line x1=\"393.88049326242225\" y1=\"226.1660948581239\" x2=\"390.9415670009599\" y2=\"222.12100988624917\" stroke-linecap=\"round\" style=\"stroke:white;stroke-width:4\"/><line x1=\"390.9415670009599\" y1=\"222.12100988624917\" x2=\"387.51883147131645\" y2=\"218.4761667491421\" stroke-linecap=\"round\" style=\"stroke:white;stroke-width:4\"/><line x1=\"387.51883147131645\" y1=\"218.4761667491421\" x2=\"383.6662652574375\" y2=\"215.28904680039864\" stroke-linecap=\"round\" style=\"stroke:white;stroke-width:4\"/><line x1=\"383.6662652574375\" y1=\"215.28904680039864\" x2=\"379.44462562992743\" y2=\"212.60991282550364\" stroke-linecap=\"round\" style=\"stroke:white;stroke-width:4\"/><line x1=\"379.44462562992743\" y1=\"212.60991282550364\" x2=\"374.9204903675973\" y2=\"210.48101636767828\" stroke-linecap=\"round\" style=\"stroke:white;stroke-width:4\"/><line x1=\"374.9204903675973\" y1=\"210.48101636767828\" x2=\"370.1652077861216\" y2=\"208.93593139580352\" stroke-linecap=\"round\" style=\"stroke:white;stroke-width:4\"/><line x1=\"370.1652077861216\" y1=\"208.93593139580352\" x2=\"365.25377153247814\" y2=\"207.9990248228749\" stroke-linecap=\"round\" style=\"stroke:white;stroke-width:4\"/><line x1=\"365.25377153247814\" y1=\"207.9990248228749\" x2=\"360.2636378903368\" y2=\"207.6850722252283\" stroke-linecap=\"round\" style=\"stroke:white;stroke-width:4\"/><line x1=\"360.2636378903368\" y1=\"207.6850722252283\" x2=\"355.2735042481954\" y2=\"207.99902482287487\" stroke-linecap=\"round\" style=\"stroke:white;stroke-width:4\"/><line x1=\"355.2735042481954\" y1=\"207.99902482287487\" x2=\"350.362067994552\" y2=\"208.9359313958035\" stroke-linecap=\"round\" style=\"stroke:white;stroke-width:4\"/><line x1=\"350.362067994552\" y1=\"208.9359313958035\" x2=\"345.6067854130762\" y2=\"210.48101636767822\" stroke-linecap=\"round\" style=\"stroke:white;stroke-width:4\"/><line x1=\"345.6067854130762\" y1=\"210.48101636767822\" x2=\"341.0826501507461\" y2=\"212.60991282550356\" stroke-linecap=\"round\" style=\"stroke:white;stroke-width:4\"/><line x1=\"341.0826501507461\" y1=\"212.60991282550356\" x2=\"336.861010523236\" y2=\"215.28904680039852\" stroke-linecap=\"round\" style=\"stroke:white;stroke-width:4\"/><line x1=\"336.861010523236\" y1=\"215.28904680039852\" x2=\"333.00844430935706\" y2=\"218.47616674914195\" stroke-linecap=\"round\" style=\"stroke:white;stroke-width:4\"/><line x1=\"333.00844430935706\" y1=\"218.47616674914195\" x2=\"329.5857087797136\" y2=\"222.121009886249\" stroke-linecap=\"round\" style=\"stroke:white;stroke-width:4\"/><line x1=\"329.5857087797136\" y1=\"222.121009886249\" x2=\"326.64678251825126\" y2=\"226.16609485812373\" stroke-linecap=\"round\" style=\"stroke:white;stroke-width:4\"/><line x1=\"326.64678251825126\" y1=\"226.16609485812373\" x2=\"324.23801414774266\" y2=\"230.54762825834302\" stroke-linecap=\"round\" style=\"stroke:white;stroke-width:4\"/><line x1=\"324.23801414774266\" y1=\"230.54762825834302\" x2=\"322.39739138431923\" y2=\"235.19651068778427\" stroke-linecap=\"round\" style=\"stroke:white;stroke-width:4\"/><line x1=\"322.39739138431923\" y1=\"235.19651068778427\" x2=\"321.15394194849495\" y2=\"240.0394264934274\" stroke-linecap=\"round\" style=\"stroke:white;stroke-width:4\"/><line x1=\"321.15394194849495\" y1=\"240.0394264934274\" x2=\"320.5272757806734\" y2=\"244.9999999999998\" stroke-linecap=\"round\" style=\"stroke:white;stroke-width:4\"/><line x1=\"320.5272757806734\" y1=\"244.9999999999998\" x2=\"320.5272757806734\" y2=\"249.9999999999998\" stroke-linecap=\"round\" style=\"stroke:white;stroke-width:4\"/><line x1=\"320.5272757806734\" y1=\"249.9999999999998\" x2=\"321.1539419484949\" y2=\"254.9605735065722\" stroke-linecap=\"round\" style=\"stroke:white;stroke-width:4\"/><line x1=\"321.1539419484949\" y1=\"254.9605735065722\" x2=\"322.3973913843191\" y2=\"259.80348931221533\" stroke-linecap=\"round\" style=\"stroke:white;stroke-width:4\"/><line x1=\"322.3973913843191\" y1=\"259.80348931221533\" x2=\"324.2380141477425\" y2=\"264.4523717416566\" stroke-linecap=\"round\" style=\"stroke:white;stroke-width:4\"/><line x1=\"324.2380141477425\" y1=\"264.4523717416566\" x2=\"326.64678251825103\" y2=\"268.8339051418759\" stroke-linecap=\"round\" style=\"stroke:white;stroke-width:4\"/><line x1=\"326.64678251825103\" y1=\"268.8339051418759\" x2=\"329.5857087797134\" y2=\"272.87899011375066\" stroke-linecap=\"round\" style=\"stroke:white;stroke-width:4\"/><line x1=\"329.5857087797134\" y1=\"272.87899011375066\" x2=\"333.00844430935683\" y2=\"276.5238332508577\" stroke-linecap=\"round\" style=\"stroke:white;stroke-width:4\"/><line x1=\"333.00844430935683\" y1=\"276.5238332508577\" x2=\"336.8610105232358\" y2=\"279.7109531996012\" stroke-linecap=\"round\" style=\"stroke:white;stroke-width:4\"/><line x1=\"336.8610105232358\" y1=\"279.7109531996012\" x2=\"341.08265015074585\" y2=\"282.3900871744962\" stroke-linecap=\"round\" style=\"stroke:white;stroke-width:4\"/><line x1=\"341.08265015074585\" y1=\"282.3900871744962\" x2=\"345.60678541307595\" y2=\"284.5189836323216\" stroke-linecap=\"round\" style=\"stroke:white;stroke-width:4\"/><line x1=\"345.60678541307595\" y1=\"284.5189836323216\" x2=\"350.3620679945517\" y2=\"286.06406860419634\" stroke-linecap=\"round\" style=\"stroke:white;stroke-width:4\"/><line x1=\"350.3620679945517\" y1=\"286.06406860419634\" x2=\"355.27350424819514\" y2=\"287.000975177125\" stroke-linecap=\"round\" style=\"stroke:white;stroke-width:4\"/><line x1=\"355.27350424819514\" y1=\"287.000975177125\" x2=\"360.2636378903365\" y2=\"287.31492777477155\" stroke-linecap=\"round\" style=\"stroke:white;stroke-width:4\"/><line x1=\"360.2636378903365\" y1=\"287.31492777477155\" x2=\"365.25377153247786\" y2=\"287.000975177125\" stroke-linecap=\"round\" style=\"stroke:white;stroke-width:4\"/><line x1=\"365.25377153247786\" y1=\"287.000975177125\" x2=\"370.1652077861213\" y2=\"286.0640686041964\" stroke-linecap=\"round\" style=\"stroke:white;stroke-width:4\"/><line x1=\"370.1652077861213\" y1=\"286.0640686041964\" x2=\"374.9204903675971\" y2=\"284.5189836323217\" stroke-linecap=\"round\" style=\"stroke:white;stroke-width:4\"/><line x1=\"374.9204903675971\" y1=\"284.5189836323217\" x2=\"379.4446256299272\" y2=\"282.39008717449633\" stroke-linecap=\"round\" style=\"stroke:white;stroke-width:4\"/><line x1=\"379.4446256299272\" y1=\"282.39008717449633\" x2=\"383.6662652574373\" y2=\"279.71095319960136\" stroke-linecap=\"round\" style=\"stroke:white;stroke-width:4\"/><line x1=\"383.6662652574373\" y1=\"279.71095319960136\" x2=\"387.5188314713163\" y2=\"276.52383325085793\" stroke-linecap=\"round\" style=\"stroke:white;stroke-width:4\"/><line x1=\"387.5188314713163\" y1=\"276.52383325085793\" x2=\"390.9415670009597\" y2=\"272.8789901137509\" stroke-linecap=\"round\" style=\"stroke:white;stroke-width:4\"/><line x1=\"390.9415670009597\" y1=\"272.8789901137509\" x2=\"393.8804932624221\" y2=\"268.8339051418762\" stroke-linecap=\"round\" style=\"stroke:white;stroke-width:4\"/><line x1=\"393.8804932624221\" y1=\"268.8339051418762\" x2=\"396.2892616329307\" y2=\"264.45237174165686\" stroke-linecap=\"round\" style=\"stroke:white;stroke-width:4\"/><line x1=\"396.2892616329307\" y1=\"264.45237174165686\" x2=\"398.1298843963541\" y2=\"259.8034893122156\" stroke-linecap=\"round\" style=\"stroke:white;stroke-width:4\"/><line x1=\"398.1298843963541\" y1=\"259.8034893122156\" x2=\"399.3733338321784\" y2=\"254.96057350657247\" stroke-linecap=\"round\" style=\"stroke:white;stroke-width:4\"/><line x1=\"399.3733338321784\" y1=\"254.96057350657247\" x2=\"399.99999999999994\" y2=\"250.00000000000009\" stroke-linecap=\"round\" style=\"stroke:white;stroke-width:4\"/>\n",
              "        \n",
              "      <g visibility=visible transform=\"rotate(180.00000000000034,399.99999999999994,250.00000000000009) translate(399.99999999999994, 250.00000000000009)\">\n",
              "        <circle stroke=\"white\" stroke-width=\"3\" fill=\"transparent\" r=\"12\" cx=\"0\" cy=\"0\"/>\n",
              "        <polygon points=\"0,19 3,16 -3,16\" style=\"fill:white;stroke:white;stroke-width:2\"/>\n",
              "      </g>\n",
              "    \n",
              "      </svg>\n",
              "    "
            ],
            "text/plain": [
              "<IPython.core.display.HTML object>"
            ]
          },
          "metadata": {
            "tags": []
          }
        }
      ]
    },
    {
      "cell_type": "markdown",
      "metadata": {
        "id": "PShhpxC7a3Fd"
      },
      "source": [
        "5. Faça uma versão mais geral da função `circle`, chamada `arc`, que toma um parâmetro adicional, `angle`, que determina qual a fração do circulo a ser desenhada. `angle` está em unidades de graus, logo quando `angle=360`, a função `arc` deve desenhar um cículo completo."
      ]
    },
    {
      "cell_type": "code",
      "metadata": {
        "id": "rHRvrAGKa21I",
        "outputId": "3517f1bf-aab0-402f-92c0-ba19251304c6",
        "colab": {
          "base_uri": "https://localhost:8080/",
          "height": 521
        }
      },
      "source": [
        "import math\n",
        "\n",
        "def polyline(t, n, length, angle):\n",
        "    for i in range(n):\n",
        "        t.forward(int(length))\n",
        "        t.left(angle)\n",
        "\n",
        "def arc(t, r, angle):\n",
        "    arc_length = 2 * math.pi * r * angle / 360\n",
        "    n = int(arc_length / 3) + 1\n",
        "    step_length = arc_length / n\n",
        "    step_angle = float(angle) / n\n",
        "    polyline(t, n, step_length, step_angle)\n",
        "\n",
        "joana.initializeTurtle()\n",
        "joana.speed(10)\n",
        "arc(joana, 40, 90)\n"
      ],
      "execution_count": 8,
      "outputs": [
        {
          "output_type": "display_data",
          "data": {
            "text/html": [
              "\n",
              "      <svg width=\"800\" height=\"500\">\n",
              "        <rect width=\"100%\" height=\"100%\" fill=\"black\"/>\n",
              "        <line x1=\"400\" y1=\"250\" x2=\"400.0\" y2=\"248.0\" stroke-linecap=\"round\" style=\"stroke:white;stroke-width:4\"/><line x1=\"400.0\" y1=\"248.0\" x2=\"399.85053981282715\" y2=\"246.00559240563763\" stroke-linecap=\"round\" style=\"stroke:white;stroke-width:4\"/><line x1=\"399.85053981282715\" y1=\"246.00559240563763\" x2=\"399.5524552804748\" y2=\"244.02793075318738\" stroke-linecap=\"round\" style=\"stroke:white;stroke-width:4\"/><line x1=\"399.5524552804748\" y1=\"244.02793075318738\" x2=\"399.1074134125622\" y2=\"242.07807492882372\" stroke-linecap=\"round\" style=\"stroke:white;stroke-width:4\"/><line x1=\"399.1074134125622\" y1=\"242.07807492882372\" x2=\"398.5179030637404\" y2=\"240.16692931725143\" stroke-linecap=\"round\" style=\"stroke:white;stroke-width:4\"/><line x1=\"398.5179030637404\" y1=\"240.16692931725143\" x2=\"397.7872210150076\" y2=\"238.30518181996302\" stroke-linecap=\"round\" style=\"stroke:white;stroke-width:4\"/><line x1=\"397.7872210150076\" y1=\"238.30518181996302\" x2=\"396.9194535367725\" y2=\"236.50324408415818\" stroke-linecap=\"round\" style=\"stroke:white;stroke-width:4\"/><line x1=\"396.9194535367725\" y1=\"236.50324408415818\" x2=\"395.9194535367725\" y2=\"234.77119327658932\" stroke-linecap=\"round\" style=\"stroke:white;stroke-width:4\"/><line x1=\"395.9194535367725\" y1=\"234.77119327658932\" x2=\"394.79281342064525\" y2=\"233.11871572795732\" stroke-linecap=\"round\" style=\"stroke:white;stroke-width:4\"/><line x1=\"394.79281342064525\" y1=\"233.11871572795732\" x2=\"393.54583381692777\" y2=\"231.55505276302125\" stroke-linecap=\"round\" style=\"stroke:white;stroke-width:4\"/><line x1=\"393.54583381692777\" y1=\"231.55505276302125\" x2=\"392.1854883413859\" y2=\"230.0889490193616\" stroke-linecap=\"round\" style=\"stroke:white;stroke-width:4\"/><line x1=\"392.1854883413859\" y1=\"230.0889490193616\" x2=\"390.7193845977263\" y2=\"228.72860354381976\" stroke-linecap=\"round\" style=\"stroke:white;stroke-width:4\"/><line x1=\"390.7193845977263\" y1=\"228.72860354381976\" x2=\"389.15572163279023\" y2=\"227.48162394010228\" stroke-linecap=\"round\" style=\"stroke:white;stroke-width:4\"/><line x1=\"389.15572163279023\" y1=\"227.48162394010228\" x2=\"387.50324408415827\" y2=\"226.35498382397503\" stroke-linecap=\"round\" style=\"stroke:white;stroke-width:4\"/><line x1=\"387.50324408415827\" y1=\"226.35498382397503\" x2=\"385.7711932765894\" y2=\"225.35498382397503\" stroke-linecap=\"round\" style=\"stroke:white;stroke-width:4\"/><line x1=\"385.7711932765894\" y1=\"225.35498382397503\" x2=\"383.96925554078456\" y2=\"224.4872163457399\" stroke-linecap=\"round\" style=\"stroke:white;stroke-width:4\"/><line x1=\"383.96925554078456\" y1=\"224.4872163457399\" x2=\"382.1075080434961\" y2=\"223.7565342970071\" stroke-linecap=\"round\" style=\"stroke:white;stroke-width:4\"/><line x1=\"382.1075080434961\" y1=\"223.7565342970071\" x2=\"380.19636243192383\" y2=\"223.1670239481853\" stroke-linecap=\"round\" style=\"stroke:white;stroke-width:4\"/><line x1=\"380.19636243192383\" y1=\"223.1670239481853\" x2=\"378.2465066075602\" y2=\"222.72198208027265\" stroke-linecap=\"round\" style=\"stroke:white;stroke-width:4\"/><line x1=\"378.2465066075602\" y1=\"222.72198208027265\" x2=\"376.26884495510996\" y2=\"222.4238975479203\" stroke-linecap=\"round\" style=\"stroke:white;stroke-width:4\"/><line x1=\"376.26884495510996\" y1=\"222.4238975479203\" x2=\"374.2744373607476\" y2=\"222.27443736074744\" stroke-linecap=\"round\" style=\"stroke:white;stroke-width:4\"/>\n",
              "        \n",
              "      <g visibility=visible transform=\"rotate(90.00000000000017,374.2744373607476,222.27443736074744) translate(374.2744373607476, 222.27443736074744)\">\n",
              "        <circle stroke=\"white\" stroke-width=\"3\" fill=\"transparent\" r=\"12\" cx=\"0\" cy=\"0\"/>\n",
              "        <polygon points=\"0,19 3,16 -3,16\" style=\"fill:white;stroke:white;stroke-width:2\"/>\n",
              "      </g>\n",
              "    \n",
              "      </svg>\n",
              "    "
            ],
            "text/plain": [
              "<IPython.core.display.HTML object>"
            ]
          },
          "metadata": {
            "tags": []
          }
        }
      ]
    },
    {
      "cell_type": "markdown",
      "metadata": {
        "id": "Nrky4VThKyZS"
      },
      "source": [
        "## Exercícios - Parte 2:\n",
        "  \n",
        "1. Escreva um conjunto apropriadamente geral de funções que possam desenhar flores como na Figura abaixo:\n",
        "![flowers](https://github.com/malbouis/Python_intro/blob/master/aulas_2019/pics/flowers.png?raw=1)"
      ]
    },
    {
      "cell_type": "code",
      "metadata": {
        "id": "Y8yZaBToB_if"
      },
      "source": [
        "import math\n",
        "\n",
        "def polyline(t, n, length, angle):\n",
        "    for i in range(n):\n",
        "        t.forward(int(length))\n",
        "        t.left(angle)\n",
        "\n",
        "def arc(t, r, ang):\n",
        "    arc_length = 2 * math.pi * r * ang / 360\n",
        "    n = int(arc_length / 3) + 1\n",
        "    step_length = arc_length / n\n",
        "    step_ang = float(ang) / n\n",
        "    polyline(t, n, step_length, step_ang)\n",
        "\n",
        "def petala(t, r, ang):\n",
        "    for i in range(2):\n",
        "        arc(t, r, ang)\n",
        "        t.left(180-ang)\n",
        "\n",
        "def flor(t, n, r, ang):\n",
        "    for i in range(n):\n",
        "        petala(t, r, ang)\n",
        "        t.left(360.0/n)\n",
        "\n",
        "import ColabTurtle.Turtle as joana\n",
        "joana = ColabTurtle.Turtle\n",
        "joana.initializeTurtle()\n",
        "joana.speed(10)\n",
        "\n",
        "# (tartaruga, numero de pétalas, raio dos arcos, angulo onde termina o arco)\n",
        "flor(joana, 14, 180, 60)"
      ],
      "execution_count": null,
      "outputs": []
    },
    {
      "cell_type": "markdown",
      "metadata": {
        "id": "XBjk0hy0cX5L"
      },
      "source": [
        "2. Escreva um conjunto apropriadamente geral de funções que podem desenhar formas como na figura:\n",
        "![shapes](https://github.com/malbouis/Python_intro/blob/master/aulas_2019/pics/shapes_turtle.png?raw=1)\n",
        "\n",
        "Veja mais exercícios em: \n",
        "\n",
        "http://greenteapress.com/thinkpython2/html/thinkpython2005.html#sec42\n",
        "\n",
        "http://dfnae.fis.uerj.br/twiki/bin/view/DFNAE/IntroPython#Aula_6\n"
      ]
    },
    {
      "cell_type": "code",
      "metadata": {
        "id": "3Hp9e9v-cXZr",
        "outputId": "c078621d-cc18-4a86-a715-80805efd4c79",
        "colab": {
          "base_uri": "https://localhost:8080/",
          "height": 521
        }
      },
      "source": [
        "import math\n",
        "\n",
        "def triangulo(lados, raio, ang_b, tamanho):\n",
        "    for i in range(lados):\n",
        "        joana.forward(int(raio))\n",
        "        joana.left(180-ang_b)\n",
        "        joana.forward(tamanho)\n",
        "        joana.left(180-ang_b)\n",
        "        joana.forward(int(raio))\n",
        "        joana.left(180)\n",
        "\n",
        "def torta(t, lados, tamanho):\n",
        "    ang_a = 360 / lados\n",
        "    ang_b = (180 - ang_a) / 2\n",
        "    raio = tamanho * (math.sin(ang_b * math.pi / 180) / math.sin(ang_a * math.pi / 180))\n",
        "    triangulo(lados, raio, ang_b, tamanho)\n",
        "\n",
        "\n",
        "import ColabTurtle.Turtle as joana\n",
        "joana = ColabTurtle.Turtle\n",
        "joana.initializeTurtle()\n",
        "joana.speed(5)\n",
        "#joana.speed(10)\n",
        "\n",
        "# quadrado 4 lados tamanho 100\n",
        "torta(joana, 6, 100)\n",
        "\n",
        "\n"
      ],
      "execution_count": null,
      "outputs": [
        {
          "output_type": "display_data",
          "data": {
            "text/html": [
              "\n",
              "      <svg width=\"800\" height=\"500\">\n",
              "        <rect width=\"100%\" height=\"100%\" fill=\"black\"/>\n",
              "        <line x1=\"400\" y1=\"250\" x2=\"400.0\" y2=\"150.0\" stroke-linecap=\"round\" style=\"stroke:white;stroke-width:4\"/><line x1=\"400.0\" y1=\"150.0\" x2=\"313.3974596215561\" y2=\"200.0\" stroke-linecap=\"round\" style=\"stroke:white;stroke-width:4\"/><line x1=\"313.3974596215561\" y1=\"200.0\" x2=\"400.0\" y2=\"250.0\" stroke-linecap=\"round\" style=\"stroke:white;stroke-width:4\"/><line x1=\"400.0\" y1=\"250.0\" x2=\"313.39745962155615\" y2=\"200.0\" stroke-linecap=\"round\" style=\"stroke:white;stroke-width:4\"/><line x1=\"313.39745962155615\" y1=\"200.0\" x2=\"313.39745962155615\" y2=\"300.0\" stroke-linecap=\"round\" style=\"stroke:white;stroke-width:4\"/><line x1=\"313.39745962155615\" y1=\"300.0\" x2=\"400.0\" y2=\"249.99999999999994\" stroke-linecap=\"round\" style=\"stroke:white;stroke-width:4\"/><line x1=\"400.0\" y1=\"249.99999999999994\" x2=\"313.3974596215561\" y2=\"299.99999999999994\" stroke-linecap=\"round\" style=\"stroke:white;stroke-width:4\"/><line x1=\"313.3974596215561\" y1=\"299.99999999999994\" x2=\"400.0\" y2=\"349.99999999999994\" stroke-linecap=\"round\" style=\"stroke:white;stroke-width:4\"/><line x1=\"400.0\" y1=\"349.99999999999994\" x2=\"400.0\" y2=\"249.99999999999994\" stroke-linecap=\"round\" style=\"stroke:white;stroke-width:4\"/><line x1=\"400.0\" y1=\"249.99999999999994\" x2=\"400.0\" y2=\"349.99999999999994\" stroke-linecap=\"round\" style=\"stroke:white;stroke-width:4\"/><line x1=\"400.0\" y1=\"349.99999999999994\" x2=\"486.60254037844385\" y2=\"299.9999999999999\" stroke-linecap=\"round\" style=\"stroke:white;stroke-width:4\"/><line x1=\"486.60254037844385\" y1=\"299.9999999999999\" x2=\"400.0\" y2=\"249.9999999999999\" stroke-linecap=\"round\" style=\"stroke:white;stroke-width:4\"/><line x1=\"400.0\" y1=\"249.9999999999999\" x2=\"486.6025403784439\" y2=\"299.9999999999999\" stroke-linecap=\"round\" style=\"stroke:white;stroke-width:4\"/><line x1=\"486.6025403784439\" y1=\"299.9999999999999\" x2=\"486.6025403784439\" y2=\"199.9999999999999\" stroke-linecap=\"round\" style=\"stroke:white;stroke-width:4\"/><line x1=\"486.6025403784439\" y1=\"199.9999999999999\" x2=\"400.0\" y2=\"249.9999999999999\" stroke-linecap=\"round\" style=\"stroke:white;stroke-width:4\"/><line x1=\"400.0\" y1=\"249.9999999999999\" x2=\"486.60254037844385\" y2=\"199.99999999999983\" stroke-linecap=\"round\" style=\"stroke:white;stroke-width:4\"/><line x1=\"486.60254037844385\" y1=\"199.99999999999983\" x2=\"400.0\" y2=\"149.99999999999983\" stroke-linecap=\"round\" style=\"stroke:white;stroke-width:4\"/><line x1=\"400.0\" y1=\"149.99999999999983\" x2=\"400.0\" y2=\"249.99999999999983\" stroke-linecap=\"round\" style=\"stroke:white;stroke-width:4\"/>\n",
              "        \n",
              "      <g visibility=visible transform=\"rotate(180.0,400.0,249.99999999999983) translate(400.0, 249.99999999999983)\">\n",
              "        <circle stroke=\"white\" stroke-width=\"3\" fill=\"transparent\" r=\"12\" cx=\"0\" cy=\"0\"/>\n",
              "        <polygon points=\"0,19 3,16 -3,16\" style=\"fill:white;stroke:white;stroke-width:2\"/>\n",
              "      </g>\n",
              "    \n",
              "      </svg>\n",
              "    "
            ],
            "text/plain": [
              "<IPython.core.display.HTML object>"
            ]
          },
          "metadata": {
            "tags": []
          }
        }
      ]
    },
    {
      "cell_type": "markdown",
      "metadata": {
        "id": "th4ycSX4cXF2"
      },
      "source": [
        "3. Adicione instruções para desenhar o talo e folha da flor. Faça a refatoração apropriada para a interface da flor completa ficar \"limpa\"."
      ]
    },
    {
      "cell_type": "code",
      "metadata": {
        "id": "K0SQexjmcWX4"
      },
      "source": [
        "import math\n",
        "\n",
        "def talo(t):\n",
        "    t.left(180)\n",
        "    t.forward(150)\n",
        "    t.left(180)\n",
        "    petala(t, 100, 60)\n",
        "\n",
        "\n",
        "import ColabTurtle.Turtle as joana\n",
        "joana = ColabTurtle.Turtle\n",
        "joana.initializeTurtle()\n",
        "joana.speed(10)\n",
        "\n",
        "# (tartaruga, numero de pétalas, raio dos arcos, angulo onde termina o arco)\n",
        "joana.color('red')\n",
        "flor(joana, 8, 60, 90)\n",
        "joana.color('green')\n",
        "talo(joana)\n",
        "\n",
        "\n",
        "\n"
      ],
      "execution_count": null,
      "outputs": []
    },
    {
      "cell_type": "code",
      "metadata": {
        "id": "c-11yP9sEV1v",
        "outputId": "1b2bc9d4-e97f-4400-f01c-189922f0b704",
        "colab": {
          "base_uri": "https://localhost:8080/",
          "height": 735
        }
      },
      "source": [
        "import math\n",
        "\n",
        "def talo(t):\n",
        "    t.left(180)\n",
        "    t.forward(200)\n",
        "    t.left(180)\n",
        "    petala(t, 100, 60)\n",
        "    t.forward(200)\n",
        "    \n",
        "import ColabTurtle.Turtle as joana\n",
        "joana = ColabTurtle.Turtle\n",
        "joana.initializeTurtle()\n",
        "joana.speed(10)\n",
        "\n",
        "joana.color('green')\n",
        "talo(joana)\n",
        "\n",
        "joana.color('red')\n",
        "flor(joana, 14, 180, 60)\n",
        "\n",
        "joana.color('purple')\n",
        "\n",
        "\n"
      ],
      "execution_count": null,
      "outputs": [
        {
          "output_type": "display_data",
          "data": {
            "text/html": [
              "\n",
              "      <svg width=\"800\" height=\"500\">\n",
              "        <rect width=\"100%\" height=\"100%\" fill=\"black\"/>\n",
              "        \n",
              "        \n",
              "      <g visibility=visible transform=\"rotate(180,400,250) translate(400, 250)\">\n",
              "        <circle stroke=\"white\" stroke-width=\"3\" fill=\"transparent\" r=\"12\" cx=\"0\" cy=\"0\"/>\n",
              "        <polygon points=\"0,19 3,16 -3,16\" style=\"fill:white;stroke:white;stroke-width:2\"/>\n",
              "      </g>\n",
              "    \n",
              "      </svg>\n",
              "    "
            ],
            "text/plain": [
              "<IPython.core.display.HTML object>"
            ]
          },
          "metadata": {
            "tags": []
          }
        },
        {
          "output_type": "error",
          "ename": "AttributeError",
          "evalue": "ignored",
          "traceback": [
            "\u001b[0;31m---------------------------------------------------------------------------\u001b[0m",
            "\u001b[0;31mAttributeError\u001b[0m                            Traceback (most recent call last)",
            "\u001b[0;32m<ipython-input-3-0794e75cfa9a>\u001b[0m in \u001b[0;36m<module>\u001b[0;34m()\u001b[0m\n\u001b[1;32m     13\u001b[0m \u001b[0mjoana\u001b[0m\u001b[0;34m.\u001b[0m\u001b[0mspeed\u001b[0m\u001b[0;34m(\u001b[0m\u001b[0;36m10\u001b[0m\u001b[0;34m)\u001b[0m\u001b[0;34m\u001b[0m\u001b[0;34m\u001b[0m\u001b[0m\n\u001b[1;32m     14\u001b[0m \u001b[0;34m\u001b[0m\u001b[0m\n\u001b[0;32m---> 15\u001b[0;31m \u001b[0mjoana\u001b[0m\u001b[0;34m.\u001b[0m\u001b[0mbegin_fill\u001b[0m\u001b[0;34m(\u001b[0m\u001b[0;34m)\u001b[0m\u001b[0;34m\u001b[0m\u001b[0;34m\u001b[0m\u001b[0m\n\u001b[0m\u001b[1;32m     16\u001b[0m \u001b[0mjoana\u001b[0m\u001b[0;34m.\u001b[0m\u001b[0mfillcolor\u001b[0m\u001b[0;34m(\u001b[0m\u001b[0;34m'green'\u001b[0m\u001b[0;34m)\u001b[0m\u001b[0;34m\u001b[0m\u001b[0;34m\u001b[0m\u001b[0m\n\u001b[1;32m     17\u001b[0m \u001b[0mtalo\u001b[0m\u001b[0;34m(\u001b[0m\u001b[0mjoana\u001b[0m\u001b[0;34m)\u001b[0m\u001b[0;34m\u001b[0m\u001b[0;34m\u001b[0m\u001b[0m\n",
            "\u001b[0;31mAttributeError\u001b[0m: module 'ColabTurtle.Turtle' has no attribute 'begin_fill'"
          ]
        }
      ]
    },
    {
      "cell_type": "markdown",
      "metadata": {
        "id": "0YGnPm25cVk3"
      },
      "source": [
        "4. As letras do alfabeto podem ser construídas a partir de um número moderado de elementos básicos, como linhas verticais e horizontais e algumas curvas. Projete um alfabeto que possa ser desenhado com um número mínimo de elementos básicos e depois escreva funções que desenhem as letras.\n",
        "\n",
        "   A. Você deve escrever uma função para cada letra, com os nomes ```draw_a_```, ```_draw_b_```, etc., e colocar suas funções em um arquivo chamado ```letters.py```. Você pode baixar uma “turtle typewriter” de http://thinkpython2.com/code/typewriter.py para ajudá-lo a testar seu código.\n",
        "\n",
        "   B. Você pode obter uma solução em http://thinkpython2.com/code/letters.py; também requer http://thinkpython2.com/code/polygon.py."
      ]
    },
    {
      "cell_type": "code",
      "metadata": {
        "id": "pEjmxwLicVau"
      },
      "source": [
        ""
      ],
      "execution_count": null,
      "outputs": []
    },
    {
      "cell_type": "markdown",
      "metadata": {
        "id": "hfOMKAFbcTxP"
      },
      "source": [
        "5. Leia sobre espirais em http://en.wikipedia.org/wiki/Spiral; em seguida, escreva um programa que desenhe uma espiral arquimediana (ou um dos outros tipos). Solução: http://thinkpython2.com/code/spiral.py."
      ]
    },
    {
      "cell_type": "code",
      "metadata": {
        "id": "VCESXgb01xys",
        "outputId": "31f3667a-3c05-4d03-947f-43265ebe22b7",
        "colab": {
          "base_uri": "https://localhost:8080/",
          "height": 521
        }
      },
      "source": [
        "import math\n",
        "\n",
        "def polyline(t, n, length, angle):\n",
        "    for i in range(n):\n",
        "        t.forward(int(length))\n",
        "        t.left(angle)\n",
        "\n",
        "def espiral(t, r, ang, aum):\n",
        "  for i in range(aum):\n",
        "    arc_length = 2 * math.pi * r * ang / 360\n",
        "    n = int(arc_length / 3) + 1\n",
        "    step_length = arc_length / n\n",
        "    step_ang = float(ang) / n\n",
        "    polyline(t, n, step_length, step_ang)\n",
        "    r += 5\n",
        "\n",
        "import ColabTurtle.Turtle as joana\n",
        "joana = ColabTurtle.Turtle\n",
        "joana.initializeTurtle()\n",
        "joana.speed(10)\n",
        "\n",
        "espiral(joana, 7, 90, 20)"
      ],
      "execution_count": null,
      "outputs": [
        {
          "output_type": "display_data",
          "data": {
            "text/html": [
              "\n",
              "      <svg width=\"800\" height=\"500\">\n",
              "        <rect width=\"100%\" height=\"100%\" fill=\"black\"/>\n",
              "        <line x1=\"400\" y1=\"250\" x2=\"400.0\" y2=\"248.0\" stroke-linecap=\"round\" style=\"stroke:white;stroke-width:4\"/><line x1=\"400.0\" y1=\"248.0\" x2=\"399.2346331352698\" y2=\"246.1522409349774\" stroke-linecap=\"round\" style=\"stroke:white;stroke-width:4\"/><line x1=\"399.2346331352698\" y1=\"246.1522409349774\" x2=\"397.8204195728967\" y2=\"244.7380273726043\" stroke-linecap=\"round\" style=\"stroke:white;stroke-width:4\"/><line x1=\"397.8204195728967\" y1=\"244.7380273726043\" x2=\"395.97266050787414\" y2=\"243.97266050787414\" stroke-linecap=\"round\" style=\"stroke:white;stroke-width:4\"/><line x1=\"395.97266050787414\" y1=\"243.97266050787414\" x2=\"393.97266050787414\" y2=\"243.97266050787414\" stroke-linecap=\"round\" style=\"stroke:white;stroke-width:4\"/><line x1=\"393.97266050787414\" y1=\"243.97266050787414\" x2=\"392.0228046835105\" y2=\"244.41770237578677\" stroke-linecap=\"round\" style=\"stroke:white;stroke-width:4\"/><line x1=\"392.0228046835105\" y1=\"244.41770237578677\" x2=\"390.2208669477057\" y2=\"245.2854698540219\" stroke-linecap=\"round\" style=\"stroke:white;stroke-width:4\"/><line x1=\"390.2208669477057\" y1=\"245.2854698540219\" x2=\"388.65720398276966\" y2=\"246.53244945773938\" stroke-linecap=\"round\" style=\"stroke:white;stroke-width:4\"/><line x1=\"388.65720398276966\" y1=\"246.53244945773938\" x2=\"387.4102243790522\" y2=\"248.09611242267545\" stroke-linecap=\"round\" style=\"stroke:white;stroke-width:4\"/><line x1=\"387.4102243790522\" y1=\"248.09611242267545\" x2=\"386.54245690081706\" y2=\"249.8980501584803\" stroke-linecap=\"round\" style=\"stroke:white;stroke-width:4\"/><line x1=\"386.54245690081706\" y1=\"249.8980501584803\" x2=\"386.09741503290445\" y2=\"251.84790598284394\" stroke-linecap=\"round\" style=\"stroke:white;stroke-width:4\"/><line x1=\"386.09741503290445\" y1=\"251.84790598284394\" x2=\"386.09741503290445\" y2=\"253.84790598284394\" stroke-linecap=\"round\" style=\"stroke:white;stroke-width:4\"/><line x1=\"386.09741503290445\" y1=\"253.84790598284394\" x2=\"386.4447113882383\" y2=\"255.81752148886835\" stroke-linecap=\"round\" style=\"stroke:white;stroke-width:4\"/><line x1=\"386.4447113882383\" y1=\"255.81752148886835\" x2=\"387.12875167488966\" y2=\"257.69690673044016\" stroke-linecap=\"round\" style=\"stroke:white;stroke-width:4\"/><line x1=\"387.12875167488966\" y1=\"257.69690673044016\" x2=\"388.12875167488966\" y2=\"259.42895753800906\" stroke-linecap=\"round\" style=\"stroke:white;stroke-width:4\"/><line x1=\"388.12875167488966\" y1=\"259.42895753800906\" x2=\"389.41432689426273\" y2=\"260.961046424247\" stroke-linecap=\"round\" style=\"stroke:white;stroke-width:4\"/><line x1=\"389.41432689426273\" y1=\"260.961046424247\" x2=\"390.9464157805007\" y2=\"262.2466216436201\" stroke-linecap=\"round\" style=\"stroke:white;stroke-width:4\"/><line x1=\"390.9464157805007\" y1=\"262.2466216436201\" x2=\"392.67846658806957\" y2=\"263.2466216436201\" stroke-linecap=\"round\" style=\"stroke:white;stroke-width:4\"/><line x1=\"392.67846658806957\" y1=\"263.2466216436201\" x2=\"394.5578518296414\" y2=\"263.9306619302714\" stroke-linecap=\"round\" style=\"stroke:white;stroke-width:4\"/><line x1=\"394.5578518296414\" y1=\"263.9306619302714\" x2=\"396.5274673356658\" y2=\"264.2779582856053\" stroke-linecap=\"round\" style=\"stroke:white;stroke-width:4\"/><line x1=\"396.5274673356658\" y1=\"264.2779582856053\" x2=\"398.5274673356658\" y2=\"264.2779582856053\" stroke-linecap=\"round\" style=\"stroke:white;stroke-width:4\"/><line x1=\"398.5274673356658\" y1=\"264.2779582856053\" x2=\"400.51035705841343\" y2=\"264.01690590116516\" stroke-linecap=\"round\" style=\"stroke:white;stroke-width:4\"/><line x1=\"400.51035705841343\" y1=\"264.01690590116516\" x2=\"402.44220871099157\" y2=\"263.49926781096013\" stroke-linecap=\"round\" style=\"stroke:white;stroke-width:4\"/><line x1=\"402.44220871099157\" y1=\"263.49926781096013\" x2=\"404.2899677760141\" y2=\"262.73390094622994\" stroke-linecap=\"round\" style=\"stroke:white;stroke-width:4\"/><line x1=\"404.2899677760141\" y1=\"262.73390094622994\" x2=\"406.022018583583\" y2=\"261.73390094622994\" stroke-linecap=\"round\" style=\"stroke:white;stroke-width:4\"/><line x1=\"406.022018583583\" y1=\"261.73390094622994\" x2=\"407.6087252641655\" y2=\"260.5163780882125\" stroke-linecap=\"round\" style=\"stroke:white;stroke-width:4\"/><line x1=\"407.6087252641655\" y1=\"260.5163780882125\" x2=\"409.0229388265386\" y2=\"259.1021645258394\" stroke-linecap=\"round\" style=\"stroke:white;stroke-width:4\"/><line x1=\"409.0229388265386\" y1=\"259.1021645258394\" x2=\"410.24046168455607\" y2=\"257.5154578452569\" stroke-linecap=\"round\" style=\"stroke:white;stroke-width:4\"/><line x1=\"410.24046168455607\" y1=\"257.5154578452569\" x2=\"411.24046168455607\" y2=\"255.78340703768802\" stroke-linecap=\"round\" style=\"stroke:white;stroke-width:4\"/><line x1=\"411.24046168455607\" y1=\"255.78340703768802\" x2=\"412.00582854928626\" y2=\"253.93564797266544\" stroke-linecap=\"round\" style=\"stroke:white;stroke-width:4\"/><line x1=\"412.00582854928626\" y1=\"253.93564797266544\" x2=\"412.5234666394913\" y2=\"252.0037963200873\" stroke-linecap=\"round\" style=\"stroke:white;stroke-width:4\"/><line x1=\"412.5234666394913\" y1=\"252.0037963200873\" x2=\"412.7845190239314\" y2=\"250.0209065973397\" stroke-linecap=\"round\" style=\"stroke:white;stroke-width:4\"/><line x1=\"412.7845190239314\" y1=\"250.0209065973397\" x2=\"412.7845190239314\" y2=\"248.0209065973397\" stroke-linecap=\"round\" style=\"stroke:white;stroke-width:4\"/><line x1=\"412.7845190239314\" y1=\"248.0209065973397\" x2=\"412.5754620973961\" y2=\"246.03186280660313\" stroke-linecap=\"round\" style=\"stroke:white;stroke-width:4\"/><line x1=\"412.5754620973961\" y1=\"246.03186280660313\" x2=\"412.1596387157606\" y2=\"244.07556760513552\" stroke-linecap=\"round\" style=\"stroke:white;stroke-width:4\"/><line x1=\"412.1596387157606\" y1=\"244.07556760513552\" x2=\"411.5416047270107\" y2=\"242.1734545725452\" stroke-linecap=\"round\" style=\"stroke:white;stroke-width:4\"/><line x1=\"411.5416047270107\" y1=\"242.1734545725452\" x2=\"410.7281314408591\" y2=\"240.34636365726\" stroke-linecap=\"round\" style=\"stroke:white;stroke-width:4\"/><line x1=\"410.7281314408591\" y1=\"240.34636365726\" x2=\"409.7281314408591\" y2=\"238.61431284969115\" stroke-linecap=\"round\" style=\"stroke:white;stroke-width:4\"/><line x1=\"409.7281314408591\" y1=\"238.61431284969115\" x2=\"408.5525609362742\" y2=\"236.99627886094126\" stroke-linecap=\"round\" style=\"stroke:white;stroke-width:4\"/><line x1=\"408.5525609362742\" y1=\"236.99627886094126\" x2=\"407.21429972355645\" y2=\"235.50998920998646\" stroke-linecap=\"round\" style=\"stroke:white;stroke-width:4\"/><line x1=\"407.21429972355645\" y1=\"235.50998920998646\" x2=\"405.72801007260165\" y2=\"234.17172799726873\" stroke-linecap=\"round\" style=\"stroke:white;stroke-width:4\"/><line x1=\"405.72801007260165\" y1=\"234.17172799726873\" x2=\"404.10997608385173\" y2=\"232.99615749268378\" stroke-linecap=\"round\" style=\"stroke:white;stroke-width:4\"/><line x1=\"404.10997608385173\" y1=\"232.99615749268378\" x2=\"402.37792527628284\" y2=\"231.99615749268378\" stroke-linecap=\"round\" style=\"stroke:white;stroke-width:4\"/><line x1=\"402.37792527628284\" y1=\"231.99615749268378\" x2=\"400.5508343609976\" y2=\"231.18268420653217\" stroke-linecap=\"round\" style=\"stroke:white;stroke-width:4\"/><line x1=\"400.5508343609976\" y1=\"231.18268420653217\" x2=\"398.6487213284073\" y2=\"230.5646502177823\" stroke-linecap=\"round\" style=\"stroke:white;stroke-width:4\"/><line x1=\"398.6487213284073\" y1=\"230.5646502177823\" x2=\"396.6924261269397\" y2=\"230.14882683614678\" stroke-linecap=\"round\" style=\"stroke:white;stroke-width:4\"/><line x1=\"396.6924261269397\" y1=\"230.14882683614678\" x2=\"394.70338233620316\" y2=\"229.93976990961147\" stroke-linecap=\"round\" style=\"stroke:white;stroke-width:4\"/><line x1=\"394.70338233620316\" y1=\"229.93976990961147\" x2=\"392.70338233620316\" y2=\"229.93976990961147\" stroke-linecap=\"round\" style=\"stroke:white;stroke-width:4\"/><line x1=\"392.70338233620316\" y1=\"229.93976990961147\" x2=\"390.7119139836131\" y2=\"230.12430662853808\" stroke-linecap=\"round\" style=\"stroke:white;stroke-width:4\"/><line x1=\"390.7119139836131\" y1=\"230.12430662853808\" x2=\"388.7459677842453\" y2=\"230.4918056641712\" stroke-linecap=\"round\" style=\"stroke:white;stroke-width:4\"/><line x1=\"388.7459677842453\" y1=\"230.4918056641712\" x2=\"386.82231649789964\" y2=\"231.03913164431538\" stroke-linecap=\"round\" style=\"stroke:white;stroke-width:4\"/><line x1=\"386.82231649789964\" y1=\"231.03913164431538\" x2=\"384.9573720390909\" y2=\"231.76161497668969\" stroke-linecap=\"round\" style=\"stroke:white;stroke-width:4\"/><line x1=\"384.9573720390909\" y1=\"231.76161497668969\" x2=\"383.1670454563808\" y2=\"232.65309168824277\" stroke-linecap=\"round\" style=\"stroke:white;stroke-width:4\"/><line x1=\"383.1670454563808\" y1=\"232.65309168824277\" x2=\"381.46661118492153\" y2=\"233.70595601399748\" stroke-linecap=\"round\" style=\"stroke:white;stroke-width:4\"/><line x1=\"381.46661118492153\" y1=\"233.70595601399748\" x2=\"379.87057673036105\" y2=\"234.91122528675598\" stroke-linecap=\"round\" style=\"stroke:white;stroke-width:4\"/><line x1=\"379.87057673036105\" y1=\"234.91122528675598\" x2=\"378.3925588959197\" y2=\"236.25861657404909\" stroke-linecap=\"round\" style=\"stroke:white;stroke-width:4\"/><line x1=\"378.3925588959197\" y1=\"236.25861657404909\" x2=\"377.04516760862657\" y2=\"237.7366344084904\" stroke-linecap=\"round\" style=\"stroke:white;stroke-width:4\"/><line x1=\"377.04516760862657\" y1=\"237.7366344084904\" x2=\"375.83989833586804\" y2=\"239.33266886305088\" stroke-linecap=\"round\" style=\"stroke:white;stroke-width:4\"/><line x1=\"375.83989833586804\" y1=\"239.33266886305088\" x2=\"374.7870340101133\" y2=\"241.0331031345101\" stroke-linecap=\"round\" style=\"stroke:white;stroke-width:4\"/><line x1=\"374.7870340101133\" y1=\"241.0331031345101\" x2=\"373.8955572985602\" y2=\"242.82342971722022\" stroke-linecap=\"round\" style=\"stroke:white;stroke-width:4\"/><line x1=\"373.8955572985602\" y1=\"242.82342971722022\" x2=\"373.17307396618594\" y2=\"244.68837417602893\" stroke-linecap=\"round\" style=\"stroke:white;stroke-width:4\"/><line x1=\"373.17307396618594\" y1=\"244.68837417602893\" x2=\"372.62574798604174\" y2=\"246.61202546237456\" stroke-linecap=\"round\" style=\"stroke:white;stroke-width:4\"/><line x1=\"372.62574798604174\" y1=\"246.61202546237456\" x2=\"372.2582489504086\" y2=\"248.57797166174237\" stroke-linecap=\"round\" style=\"stroke:white;stroke-width:4\"/><line x1=\"372.2582489504086\" y1=\"248.57797166174237\" x2=\"372.073712231482\" y2=\"250.56944001433243\" stroke-linecap=\"round\" style=\"stroke:white;stroke-width:4\"/><line x1=\"372.073712231482\" y1=\"250.56944001433243\" x2=\"372.073712231482\" y2=\"252.56944001433243\" stroke-linecap=\"round\" style=\"stroke:white;stroke-width:4\"/><line x1=\"372.073712231482\" y1=\"252.56944001433243\" x2=\"372.2306304229377\" y2=\"254.56327468179867\" stroke-linecap=\"round\" style=\"stroke:white;stroke-width:4\"/><line x1=\"372.2306304229377\" y1=\"254.56327468179867\" x2=\"372.54349935301815\" y2=\"256.53865136298896\" stroke-linecap=\"round\" style=\"stroke:white;stroke-width:4\"/><line x1=\"372.54349935301815\" y1=\"256.53865136298896\" x2=\"373.01039008072996\" y2=\"258.4833912037843\" stroke-linecap=\"round\" style=\"stroke:white;stroke-width:4\"/><line x1=\"373.01039008072996\" y1=\"258.4833912037843\" x2=\"373.6284240694799\" y2=\"260.38550423637463\" stroke-linecap=\"round\" style=\"stroke:white;stroke-width:4\"/><line x1=\"373.6284240694799\" y1=\"260.38550423637463\" x2=\"374.3937909342101\" y2=\"262.2332633013972\" stroke-linecap=\"round\" style=\"stroke:white;stroke-width:4\"/><line x1=\"374.3937909342101\" y1=\"262.2332633013972\" x2=\"375.30177193368917\" y2=\"264.0152763497739\" stroke-linecap=\"round\" style=\"stroke:white;stroke-width:4\"/><line x1=\"375.30177193368917\" y1=\"264.0152763497739\" x2=\"376.3467690631211\" y2=\"265.72055667848207\" stroke-linecap=\"round\" style=\"stroke:white;stroke-width:4\"/><line x1=\"376.3467690631211\" y1=\"265.72055667848207\" x2=\"377.522339567706\" y2=\"267.338590667232\" stroke-linecap=\"round\" style=\"stroke:white;stroke-width:4\"/><line x1=\"377.522339567706\" y1=\"267.338590667232\" x2=\"378.8212356643664\" y2=\"268.85940259843204\" stroke-linecap=\"round\" style=\"stroke:white;stroke-width:4\"/><line x1=\"378.8212356643664\" y1=\"268.85940259843204\" x2=\"380.2354492267395\" y2=\"270.27361616080515\" stroke-linecap=\"round\" style=\"stroke:white;stroke-width:4\"/><line x1=\"380.2354492267395\" y1=\"270.27361616080515\" x2=\"381.75626115793955\" y2=\"271.5725122574655\" stroke-linecap=\"round\" style=\"stroke:white;stroke-width:4\"/><line x1=\"381.75626115793955\" y1=\"271.5725122574655\" x2=\"383.37429514668946\" y2=\"272.74808276205044\" stroke-linecap=\"round\" style=\"stroke:white;stroke-width:4\"/><line x1=\"383.37429514668946\" y1=\"272.74808276205044\" x2=\"385.07957547539763\" y2=\"273.79307989148236\" stroke-linecap=\"round\" style=\"stroke:white;stroke-width:4\"/><line x1=\"385.07957547539763\" y1=\"273.79307989148236\" x2=\"386.86158852377434\" y2=\"274.70106089096146\" stroke-linecap=\"round\" style=\"stroke:white;stroke-width:4\"/><line x1=\"386.86158852377434\" y1=\"274.70106089096146\" x2=\"388.7093475887969\" y2=\"275.46642775569165\" stroke-linecap=\"round\" style=\"stroke:white;stroke-width:4\"/><line x1=\"388.7093475887969\" y1=\"275.46642775569165\" x2=\"390.6114606213872\" y2=\"276.08446174444157\" stroke-linecap=\"round\" style=\"stroke:white;stroke-width:4\"/><line x1=\"390.6114606213872\" y1=\"276.08446174444157\" x2=\"392.5562004621826\" y2=\"276.5513524721534\" stroke-linecap=\"round\" style=\"stroke:white;stroke-width:4\"/><line x1=\"392.5562004621826\" y1=\"276.5513524721534\" x2=\"394.53157714337283\" y2=\"276.86422140223385\" stroke-linecap=\"round\" style=\"stroke:white;stroke-width:4\"/><line x1=\"394.53157714337283\" y1=\"276.86422140223385\" x2=\"396.5254118108391\" y2=\"277.02113959368955\" stroke-linecap=\"round\" style=\"stroke:white;stroke-width:4\"/><line x1=\"396.5254118108391\" y1=\"277.02113959368955\" x2=\"398.5254118108391\" y2=\"277.02113959368955\" stroke-linecap=\"round\" style=\"stroke:white;stroke-width:4\"/><line x1=\"398.5254118108391\" y1=\"277.02113959368955\" x2=\"400.5203160400596\" y2=\"276.8784612272911\" stroke-linecap=\"round\" style=\"stroke:white;stroke-width:4\"/><line x1=\"400.5203160400596\" y1=\"276.8784612272911\" x2=\"402.49995892382145\" y2=\"276.59383155074454\" stroke-linecap=\"round\" style=\"stroke:white;stroke-width:4\"/><line x1=\"402.49995892382145\" y1=\"276.59383155074454\" x2=\"404.45425265576375\" y2=\"276.1687009716386\" stroke-linecap=\"round\" style=\"stroke:white;stroke-width:4\"/><line x1=\"404.45425265576375\" y1=\"276.1687009716386\" x2=\"406.3732386029927\" y2=\"275.60523585795573\" stroke-linecap=\"round\" style=\"stroke:white;stroke-width:4\"/><line x1=\"406.3732386029927\" y1=\"275.60523585795573\" x2=\"408.2471380529922\" y2=\"274.90630749875754\" stroke-linecap=\"round\" style=\"stroke:white;stroke-width:4\"/><line x1=\"408.2471380529922\" y1=\"274.90630749875754\" x2=\"410.06640204370126\" y2=\"274.0754774727538\" stroke-linecap=\"round\" style=\"stroke:white;stroke-width:4\"/><line x1=\"410.06640204370126\" y1=\"274.0754774727538\" x2=\"411.82176002283575\" y2=\"273.1169794993137\" stroke-linecap=\"round\" style=\"stroke:white;stroke-width:4\"/><line x1=\"411.82176002283575\" y1=\"273.1169794993137\" x2=\"413.5042670884981\" y2=\"272.0356978644025\" stroke-linecap=\"round\" style=\"stroke:white;stroke-width:4\"/><line x1=\"413.5042670884981\" y1=\"272.0356978644025\" x2=\"415.10534957034685\" y2=\"270.8371425313798\" stroke-linecap=\"round\" style=\"stroke:white;stroke-width:4\"/><line x1=\"415.10534957034685\" y1=\"270.8371425313798\" x2=\"416.6168487190554\" y2=\"269.52742106348927\" stroke-linecap=\"round\" style=\"stroke:white;stroke-width:4\"/><line x1=\"416.6168487190554\" y1=\"269.52742106348927\" x2=\"418.0310622814285\" y2=\"268.11320750111616\" stroke-linecap=\"round\" style=\"stroke:white;stroke-width:4\"/><line x1=\"418.0310622814285\" y1=\"268.11320750111616\" x2=\"419.3407837493191\" y2=\"266.6017083524077\" stroke-linecap=\"round\" style=\"stroke:white;stroke-width:4\"/><line x1=\"419.3407837493191\" y1=\"266.6017083524077\" x2=\"420.53933908234177\" y2=\"265.00062587055896\" stroke-linecap=\"round\" style=\"stroke:white;stroke-width:4\"/><line x1=\"420.53933908234177\" y1=\"265.00062587055896\" x2=\"421.62062071725296\" y2=\"263.3181188048966\" stroke-linecap=\"round\" style=\"stroke:white;stroke-width:4\"/><line x1=\"421.62062071725296\" y1=\"263.3181188048966\" x2=\"422.57911869069306\" y2=\"261.5627608257621\" stroke-linecap=\"round\" style=\"stroke:white;stroke-width:4\"/><line x1=\"422.57911869069306\" y1=\"261.5627608257621\" x2=\"423.4099487166969\" y2=\"259.74349683505307\" stroke-linecap=\"round\" style=\"stroke:white;stroke-width:4\"/><line x1=\"423.4099487166969\" y1=\"259.74349683505307\" x2=\"424.10887707589507\" y2=\"257.86959738505357\" stroke-linecap=\"round\" style=\"stroke:white;stroke-width:4\"/><line x1=\"424.10887707589507\" y1=\"257.86959738505357\" x2=\"424.67234218957793\" y2=\"255.9506114378246\" stroke-linecap=\"round\" style=\"stroke:white;stroke-width:4\"/><line x1=\"424.67234218957793\" y1=\"255.9506114378246\" x2=\"425.09747276868393\" y2=\"253.99631770588226\" stroke-linecap=\"round\" style=\"stroke:white;stroke-width:4\"/><line x1=\"425.09747276868393\" y1=\"253.99631770588226\" x2=\"425.38210244523054\" y2=\"252.0166748221204\" stroke-linecap=\"round\" style=\"stroke:white;stroke-width:4\"/><line x1=\"425.38210244523054\" y1=\"252.0166748221204\" x2=\"425.524780811629\" y2=\"250.02177059289988\" stroke-linecap=\"round\" style=\"stroke:white;stroke-width:4\"/><line x1=\"425.524780811629\" y1=\"250.02177059289988\" x2=\"425.524780811629\" y2=\"248.02177059289988\" stroke-linecap=\"round\" style=\"stroke:white;stroke-width:4\"/><line x1=\"425.524780811629\" y1=\"248.02177059289988\" x2=\"425.3991997725704\" y2=\"246.02571713604334\" stroke-linecap=\"round\" style=\"stroke:white;stroke-width:4\"/><line x1=\"425.3991997725704\" y1=\"246.02571713604334\" x2=\"425.1485333054418\" y2=\"244.04148773341439\" stroke-linecap=\"round\" style=\"stroke:white;stroke-width:4\"/><line x1=\"425.1485333054418\" y1=\"244.04148773341439\" x2=\"424.7737706762704\" y2=\"242.076913231957\" stroke-linecap=\"round\" style=\"stroke:white;stroke-width:4\"/><line x1=\"424.7737706762704\" y1=\"242.076913231957\" x2=\"424.27639090194066\" y2=\"240.13974690969974\" stroke-linecap=\"round\" style=\"stroke:white;stroke-width:4\"/><line x1=\"424.27639090194066\" y1=\"240.13974690969974\" x2=\"423.6583569131908\" y2=\"238.23763387710943\" stroke-linecap=\"round\" style=\"stroke:white;stroke-width:4\"/><line x1=\"423.6583569131908\" y1=\"238.23763387710943\" x2=\"422.9221078078215\" y2=\"236.37808090533292\" stroke-linecap=\"round\" style=\"stroke:white;stroke-width:4\"/><line x1=\"422.9221078078215\" y1=\"236.37808090533292\" x2=\"422.0705492246914\" y2=\"234.56842680040089\" stroke-linecap=\"round\" style=\"stroke:white;stroke-width:4\"/><line x1=\"422.0705492246914\" y1=\"234.56842680040089\" x2=\"421.107041876488\" y2=\"232.81581344031315\" stroke-linecap=\"round\" style=\"stroke:white;stroke-width:4\"/><line x1=\"421.107041876488\" y1=\"232.81581344031315\" x2=\"420.03538828653\" y2=\"231.12715758930912\" stroke-linecap=\"round\" style=\"stroke:white;stroke-width:4\"/><line x1=\"420.03538828653\" y1=\"231.12715758930912\" x2=\"418.8598177819451\" y2=\"229.5091236005592\" stroke-linecap=\"round\" style=\"stroke:white;stroke-width:4\"/><line x1=\"418.8598177819451\" y1=\"229.5091236005592\" x2=\"417.58496980244774\" y2=\"227.96809711500762\" stroke-linecap=\"round\" style=\"stroke:white;stroke-width:4\"/><line x1=\"417.58496980244774\" y1=\"227.96809711500762\" x2=\"416.2158755905904\" y2=\"226.51015986016478\" stroke-linecap=\"round\" style=\"stroke:white;stroke-width:4\"/><line x1=\"416.2158755905904\" y1=\"226.51015986016478\" x2=\"414.75793833574755\" y2=\"225.14106564830738\" stroke-linecap=\"round\" style=\"stroke:white;stroke-width:4\"/><line x1=\"414.75793833574755\" y1=\"225.14106564830738\" x2=\"413.21691185019597\" y2=\"223.86621766880998\" stroke-linecap=\"round\" style=\"stroke:white;stroke-width:4\"/><line x1=\"413.21691185019597\" y1=\"223.86621766880998\" x2=\"411.5988778614461\" y2=\"222.69064716422503\" stroke-linecap=\"round\" style=\"stroke:white;stroke-width:4\"/><line x1=\"411.5988778614461\" y1=\"222.69064716422503\" x2=\"409.9102220104421\" y2=\"221.61899357426702\" stroke-linecap=\"round\" style=\"stroke:white;stroke-width:4\"/><line x1=\"409.9102220104421\" y1=\"221.61899357426702\" x2=\"408.1576086503544\" y2=\"220.65548622606357\" stroke-linecap=\"round\" style=\"stroke:white;stroke-width:4\"/><line x1=\"408.1576086503544\" y1=\"220.65548622606357\" x2=\"406.3479545454224\" y2=\"219.80392764293342\" stroke-linecap=\"round\" style=\"stroke:white;stroke-width:4\"/><line x1=\"406.3479545454224\" y1=\"219.80392764293342\" x2=\"404.4884015736459\" y2=\"219.06767853756403\" stroke-linecap=\"round\" style=\"stroke:white;stroke-width:4\"/><line x1=\"404.4884015736459\" y1=\"219.06767853756403\" x2=\"402.5862885410556\" y2=\"218.44964454881412\" stroke-linecap=\"round\" style=\"stroke:white;stroke-width:4\"/><line x1=\"402.5862885410556\" y1=\"218.44964454881412\" x2=\"400.6491222187983\" y2=\"217.95226477448438\" stroke-linecap=\"round\" style=\"stroke:white;stroke-width:4\"/><line x1=\"400.6491222187983\" y1=\"217.95226477448438\" x2=\"398.68454771734093\" y2=\"217.5775021453129\" stroke-linecap=\"round\" style=\"stroke:white;stroke-width:4\"/><line x1=\"398.68454771734093\" y1=\"217.5775021453129\" x2=\"396.700318314712\" y2=\"217.32683567818427\" stroke-linecap=\"round\" style=\"stroke:white;stroke-width:4\"/><line x1=\"396.700318314712\" y1=\"217.32683567818427\" x2=\"394.70426485785543\" y2=\"217.2012546391256\" stroke-linecap=\"round\" style=\"stroke:white;stroke-width:4\"/><line x1=\"394.70426485785543\" y1=\"217.2012546391256\" x2=\"392.70426485785543\" y2=\"217.20125463912558\" stroke-linecap=\"round\" style=\"stroke:white;stroke-width:4\"/><line x1=\"392.70426485785543\" y1=\"217.20125463912558\" x2=\"390.7074112278198\" y2=\"217.31339553359993\" stroke-linecap=\"round\" style=\"stroke:white;stroke-width:4\"/><line x1=\"390.7074112278198\" y1=\"217.31339553359993\" x2=\"388.71998680803335\" y2=\"217.53732448580652\" stroke-linecap=\"round\" style=\"stroke:white;stroke-width:4\"/><line x1=\"388.71998680803335\" y1=\"217.53732448580652\" x2=\"386.7482447709969\" y2=\"217.87233693241598\" stroke-linecap=\"round\" style=\"stroke:white;stroke-width:4\"/><line x1=\"386.7482447709969\" y1=\"217.87233693241598\" x2=\"384.7983889466333\" y2=\"218.31737880032858\" stroke-linecap=\"round\" style=\"stroke:white;stroke-width:4\"/><line x1=\"384.7983889466333\" y1=\"218.31737880032858\" x2=\"382.8765543027431\" y2=\"218.87104982317825\" stroke-linecap=\"round\" style=\"stroke:white;stroke-width:4\"/><line x1=\"382.8765543027431\" y1=\"218.87104982317825\" x2=\"380.98878764212634\" y2=\"219.53160794708856\" stroke-linecap=\"round\" style=\"stroke:white;stroke-width:4\"/><line x1=\"380.98878764212634\" y1=\"219.53160794708856\" x2=\"379.1410285771038\" y2=\"220.29697481181873\" stroke-linecap=\"round\" style=\"stroke:white;stroke-width:4\"/><line x1=\"379.1410285771038\" y1=\"220.29697481181873\" x2=\"377.3390908412989\" y2=\"221.16474229005382\" stroke-linecap=\"round\" style=\"stroke:white;stroke-width:4\"/><line x1=\"377.3390908412989\" y1=\"221.16474229005382\" x2=\"375.58864399748137\" y2=\"222.13218006426428\" stroke-linecap=\"round\" style=\"stroke:white;stroke-width:4\"/><line x1=\"375.58864399748137\" y1=\"222.13218006426428\" x2=\"373.8951955990248\" y2=\"223.19624421729492\" stroke-linecap=\"round\" style=\"stroke:white;stroke-width:4\"/><line x1=\"373.8951955990248\" y1=\"223.19624421729492\" x2=\"372.2640738611063\" y2=\"224.3535868096545\" stroke-linecap=\"round\" style=\"stroke:white;stroke-width:4\"/><line x1=\"372.2640738611063\" y1=\"224.3535868096545\" x2=\"370.7004108961702\" y2=\"225.60056641337195\" stroke-linecap=\"round\" style=\"stroke:white;stroke-width:4\"/><line x1=\"370.7004108961702\" y1=\"225.60056641337195\" x2=\"369.2091265664038\" y2=\"226.93325956927595\" stroke-linecap=\"round\" style=\"stroke:white;stroke-width:4\"/><line x1=\"369.2091265664038\" y1=\"226.93325956927595\" x2=\"367.7949130040307\" y2=\"228.34747313164902\" stroke-linecap=\"round\" style=\"stroke:white;stroke-width:4\"/><line x1=\"367.7949130040307\" y1=\"228.34747313164902\" x2=\"366.4622198481267\" y2=\"229.83875746141536\" stroke-linecap=\"round\" style=\"stroke:white;stroke-width:4\"/><line x1=\"366.4622198481267\" y1=\"229.83875746141536\" x2=\"365.21524024440924\" y2=\"231.4024204263514\" stroke-linecap=\"round\" style=\"stroke:white;stroke-width:4\"/><line x1=\"365.21524024440924\" y1=\"231.4024204263514\" x2=\"364.05789765204963\" y2=\"233.0335421642699\" stroke-linecap=\"round\" style=\"stroke:white;stroke-width:4\"/><line x1=\"364.05789765204963\" y1=\"233.0335421642699\" x2=\"362.99383349901893\" y2=\"234.72699056272646\" stroke-linecap=\"round\" style=\"stroke:white;stroke-width:4\"/><line x1=\"362.99383349901893\" y1=\"234.72699056272646\" x2=\"362.0263957248084\" y2=\"236.47743740654394\" stroke-linecap=\"round\" style=\"stroke:white;stroke-width:4\"/><line x1=\"362.0263957248084\" y1=\"236.47743740654394\" x2=\"361.1586282465733\" y2=\"238.27937514234878\" stroke-linecap=\"round\" style=\"stroke:white;stroke-width:4\"/><line x1=\"361.1586282465733\" y1=\"238.27937514234878\" x2=\"360.3932613818431\" y2=\"240.12713420737134\" stroke-linecap=\"round\" style=\"stroke:white;stroke-width:4\"/><line x1=\"360.3932613818431\" y1=\"240.12713420737134\" x2=\"359.73270325793277\" y2=\"242.01490086798808\" stroke-linecap=\"round\" style=\"stroke:white;stroke-width:4\"/><line x1=\"359.73270325793277\" y1=\"242.01490086798808\" x2=\"359.17903223508307\" y2=\"243.93673551187828\" stroke-linecap=\"round\" style=\"stroke:white;stroke-width:4\"/><line x1=\"359.17903223508307\" y1=\"243.93673551187828\" x2=\"358.7339903671704\" y2=\"245.88659133624193\" stroke-linecap=\"round\" style=\"stroke:white;stroke-width:4\"/><line x1=\"358.7339903671704\" y1=\"245.88659133624193\" x2=\"358.3989779205609\" y2=\"247.8583333732784\" stroke-linecap=\"round\" style=\"stroke:white;stroke-width:4\"/><line x1=\"358.3989779205609\" y1=\"247.8583333732784\" x2=\"358.1750489683543\" y2=\"249.8457577930649\" stroke-linecap=\"round\" style=\"stroke:white;stroke-width:4\"/><line x1=\"358.1750489683543\" y1=\"249.8457577930649\" x2=\"358.0629080738799\" y2=\"251.84261142310055\" stroke-linecap=\"round\" style=\"stroke:white;stroke-width:4\"/><line x1=\"358.0629080738799\" y1=\"251.84261142310055\" x2=\"358.0629080738799\" y2=\"253.84261142310055\" stroke-linecap=\"round\" style=\"stroke:white;stroke-width:4\"/><line x1=\"358.0629080738799\" y1=\"253.84261142310055\" x2=\"358.16757998636575\" y2=\"255.8398704926097\" stroke-linecap=\"round\" style=\"stroke:white;stroke-width:4\"/><line x1=\"358.16757998636575\" y1=\"255.8398704926097\" x2=\"358.37663691290106\" y2=\"257.82891428334625\" stroke-linecap=\"round\" style=\"stroke:white;stroke-width:4\"/><line x1=\"358.37663691290106\" y1=\"257.82891428334625\" x2=\"358.6895058429815\" y2=\"259.8042909645365\" stroke-linecap=\"round\" style=\"stroke:white;stroke-width:4\"/><line x1=\"358.6895058429815\" y1=\"259.8042909645365\" x2=\"359.105329224617\" y2=\"261.76058616600415\" stroke-linecap=\"round\" style=\"stroke:white;stroke-width:4\"/><line x1=\"359.105329224617\" y1=\"261.76058616600415\" x2=\"359.622967314822\" y2=\"263.6924378185823\" stroke-linecap=\"round\" style=\"stroke:white;stroke-width:4\"/><line x1=\"359.622967314822\" y1=\"263.6924378185823\" x2=\"360.24100130357186\" y2=\"265.5945508511726\" stroke-linecap=\"round\" style=\"stroke:white;stroke-width:4\"/><line x1=\"360.24100130357186\" y1=\"265.5945508511726\" x2=\"360.95773720266243\" y2=\"267.461711704167\" stroke-linecap=\"round\" style=\"stroke:white;stroke-width:4\"/><line x1=\"360.95773720266243\" y1=\"267.461711704167\" x2=\"361.771210488814\" y2=\"269.2888026194522\" stroke-linecap=\"round\" style=\"stroke:white;stroke-width:4\"/><line x1=\"361.771210488814\" y1=\"269.2888026194522\" x2=\"362.6791914882931\" y2=\"271.070815667829\" stroke-linecap=\"round\" style=\"stroke:white;stroke-width:4\"/><line x1=\"362.6791914882931\" y1=\"271.070815667829\" x2=\"363.6791914882931\" y2=\"272.8028664753979\" stroke-linecap=\"round\" style=\"stroke:white;stroke-width:4\"/><line x1=\"363.6791914882931\" y1=\"272.8028664753979\" x2=\"364.76846955832315\" y2=\"274.48020761128873\" stroke-linecap=\"round\" style=\"stroke:white;stroke-width:4\"/><line x1=\"364.76846955832315\" y1=\"274.48020761128873\" x2=\"365.9440400629081\" y2=\"276.09824160003865\" stroke-linecap=\"round\" style=\"stroke:white;stroke-width:4\"/><line x1=\"365.9440400629081\" y1=\"276.09824160003865\" x2=\"367.2026808450077\" y2=\"277.6525335229526\" stroke-linecap=\"round\" style=\"stroke:white;stroke-width:4\"/><line x1=\"367.2026808450077\" y1=\"277.6525335229526\" x2=\"368.54094205772543\" y2=\"279.1388231739074\" stroke-linecap=\"round\" style=\"stroke:white;stroke-width:4\"/><line x1=\"368.54094205772543\" y1=\"279.1388231739074\" x2=\"369.95515562009854\" y2=\"280.5530367362805\" stroke-linecap=\"round\" style=\"stroke:white;stroke-width:4\"/><line x1=\"369.95515562009854\" y1=\"280.5530367362805\" x2=\"371.44144527105334\" y2=\"281.8912979489982\" stroke-linecap=\"round\" style=\"stroke:white;stroke-width:4\"/><line x1=\"371.44144527105334\" y1=\"281.8912979489982\" x2=\"372.9957371939673\" y2=\"283.1499387310979\" stroke-linecap=\"round\" style=\"stroke:white;stroke-width:4\"/><line x1=\"372.9957371939673\" y1=\"283.1499387310979\" x2=\"374.61377118271713\" y2=\"284.3255092356829\" stroke-linecap=\"round\" style=\"stroke:white;stroke-width:4\"/><line x1=\"374.61377118271713\" y1=\"284.3255092356829\" x2=\"376.291112318608\" y2=\"285.41478730571293\" stroke-linecap=\"round\" style=\"stroke:white;stroke-width:4\"/><line x1=\"376.291112318608\" y1=\"285.41478730571293\" x2=\"378.0231631261768\" y2=\"286.41478730571293\" stroke-linecap=\"round\" style=\"stroke:white;stroke-width:4\"/><line x1=\"378.0231631261768\" y1=\"286.41478730571293\" x2=\"379.80517617455354\" y2=\"287.322768305192\" stroke-linecap=\"round\" style=\"stroke:white;stroke-width:4\"/><line x1=\"379.80517617455354\" y1=\"287.322768305192\" x2=\"381.6322670898387\" y2=\"288.13624159134366\" stroke-linecap=\"round\" style=\"stroke:white;stroke-width:4\"/><line x1=\"381.6322670898387\" y1=\"288.13624159134366\" x2=\"383.4994279428331\" y2=\"288.8529774904343\" stroke-linecap=\"round\" style=\"stroke:white;stroke-width:4\"/><line x1=\"383.4994279428331\" y1=\"288.8529774904343\" x2=\"385.4015409754234\" y2=\"289.4710114791842\" stroke-linecap=\"round\" style=\"stroke:white;stroke-width:4\"/><line x1=\"385.4015409754234\" y1=\"289.4710114791842\" x2=\"387.33339262800155\" y2=\"289.9886495693893\" stroke-linecap=\"round\" style=\"stroke:white;stroke-width:4\"/><line x1=\"387.33339262800155\" y1=\"289.9886495693893\" x2=\"389.28968782946913\" y2=\"290.40447295102484\" stroke-linecap=\"round\" style=\"stroke:white;stroke-width:4\"/><line x1=\"389.28968782946913\" y1=\"290.40447295102484\" x2=\"391.2650645106594\" y2=\"290.7173418811053\" stroke-linecap=\"round\" style=\"stroke:white;stroke-width:4\"/><line x1=\"391.2650645106594\" y1=\"290.7173418811053\" x2=\"393.25410830139595\" y2=\"290.9263988076406\" stroke-linecap=\"round\" style=\"stroke:white;stroke-width:4\"/><line x1=\"393.25410830139595\" y1=\"290.9263988076406\" x2=\"395.2513673709051\" y2=\"291.03107072012654\" stroke-linecap=\"round\" style=\"stroke:white;stroke-width:4\"/><line x1=\"395.2513673709051\" y1=\"291.03107072012654\" x2=\"397.2513673709051\" y2=\"291.03107072012654\" stroke-linecap=\"round\" style=\"stroke:white;stroke-width:4\"/><line x1=\"397.2513673709051\" y1=\"291.03107072012654\" x2=\"399.24910204927113\" y2=\"290.93590688847905\" stroke-linecap=\"round\" style=\"stroke:white;stroke-width:4\"/><line x1=\"399.24910204927113\" y1=\"290.93590688847905\" x2=\"401.2400458944173\" y2=\"290.7457948018707\" stroke-linecap=\"round\" style=\"stroke:white;stroke-width:4\"/><line x1=\"401.2400458944173\" y1=\"290.7457948018707\" x2=\"403.21968877817915\" y2=\"290.46116512532416\" stroke-linecap=\"round\" style=\"stroke:white;stroke-width:4\"/><line x1=\"403.21968877817915\" y1=\"290.46116512532416\" x2=\"405.18354617270455\" y2=\"290.08266263660335\" stroke-linecap=\"round\" style=\"stroke:white;stroke-width:4\"/><line x1=\"405.18354617270455\" y1=\"290.08266263660335\" x2=\"407.12716930935164\" y2=\"289.6111447655845\" stroke-linecap=\"round\" style=\"stroke:white;stroke-width:4\"/><line x1=\"407.12716930935164\" y1=\"289.6111447655845\" x2=\"409.0461552565806\" y2=\"289.04767965190166\" stroke-linecap=\"round\" style=\"stroke:white;stroke-width:4\"/><line x1=\"409.0461552565806\" y1=\"289.04767965190166\" x2=\"410.93615689400997\" y2=\"288.39354372526685\" stroke-linecap=\"round\" style=\"stroke:white;stroke-width:4\"/><line x1=\"410.93615689400997\" y1=\"288.39354372526685\" x2=\"412.7928927600421\" y2=\"287.6502188139462\" stroke-linecap=\"round\" style=\"stroke:white;stroke-width:4\"/><line x1=\"412.7928927600421\" y1=\"287.6502188139462\" x2=\"414.6121567507511\" y2=\"286.81938878794244\" stroke-linecap=\"round\" style=\"stroke:white;stroke-width:4\"/><line x1=\"414.6121567507511\" y1=\"286.81938878794244\" x2=\"416.389827648061\" y2=\"285.90293574448765\" stroke-linecap=\"round\" style=\"stroke:white;stroke-width:4\"/><line x1=\"416.389827648061\" y1=\"285.90293574448765\" x2=\"418.1218784556299\" y2=\"284.90293574448765\" stroke-linecap=\"round\" style=\"stroke:white;stroke-width:4\"/><line x1=\"418.1218784556299\" y1=\"284.90293574448765\" x2=\"419.80438552129226\" y2=\"283.82165410957646\" stroke-linecap=\"round\" style=\"stroke:white;stroke-width:4\"/><line x1=\"419.80438552129226\" y1=\"283.82165410957646\" x2=\"421.43353742539296\" y2=\"282.66154029043406\" stroke-linecap=\"round\" style=\"stroke:white;stroke-width:4\"/><line x1=\"421.43353742539296\" y1=\"282.66154029043406\" x2=\"423.0056436148785\" y2=\"281.42522231799285\" stroke-linecap=\"round\" style=\"stroke:white;stroke-width:4\"/><line x1=\"423.0056436148785\" y1=\"281.42522231799285\" x2=\"424.51714276358706\" y2=\"280.1155008501023\" stroke-linecap=\"round\" style=\"stroke:white;stroke-width:4\"/><line x1=\"424.51714276358706\" y1=\"280.1155008501023\" x2=\"425.9646108397972\" y2=\"278.7353428271381\" stroke-linecap=\"round\" style=\"stroke:white;stroke-width:4\"/><line x1=\"425.9646108397972\" y1=\"278.7353428271381\" x2=\"427.34476886276144\" y2=\"277.2878747509279\" stroke-linecap=\"round\" style=\"stroke:white;stroke-width:4\"/><line x1=\"427.34476886276144\" y1=\"277.2878747509279\" x2=\"428.65449033065204\" y2=\"275.7763756022194\" stroke-linecap=\"round\" style=\"stroke:white;stroke-width:4\"/><line x1=\"428.65449033065204\" y1=\"275.7763756022194\" x2=\"429.89080830309325\" y2=\"274.2042694127338\" stroke-linecap=\"round\" style=\"stroke:white;stroke-width:4\"/><line x1=\"429.89080830309325\" y1=\"274.2042694127338\" x2=\"431.05092212223565\" y2=\"272.5751175086331\" stroke-linecap=\"round\" style=\"stroke:white;stroke-width:4\"/><line x1=\"431.05092212223565\" y1=\"272.5751175086331\" x2=\"432.13220375714684\" y2=\"270.89261044297075\" stroke-linecap=\"round\" style=\"stroke:white;stroke-width:4\"/><line x1=\"432.13220375714684\" y1=\"270.89261044297075\" x2=\"433.13220375714684\" y2=\"269.16055963540185\" stroke-linecap=\"round\" style=\"stroke:white;stroke-width:4\"/><line x1=\"433.13220375714684\" y1=\"269.16055963540185\" x2=\"434.0486568006017\" y2=\"267.382888738092\" stroke-linecap=\"round\" style=\"stroke:white;stroke-width:4\"/><line x1=\"434.0486568006017\" y1=\"267.382888738092\" x2=\"434.87948682660544\" y2=\"265.56362474738296\" stroke-linecap=\"round\" style=\"stroke:white;stroke-width:4\"/><line x1=\"434.87948682660544\" y1=\"265.56362474738296\" x2=\"435.6228117379261\" y2=\"263.70688888135084\" stroke-linecap=\"round\" style=\"stroke:white;stroke-width:4\"/><line x1=\"435.6228117379261\" y1=\"263.70688888135084\" x2=\"436.27694766456096\" y2=\"261.8168872439215\" stroke-linecap=\"round\" style=\"stroke:white;stroke-width:4\"/><line x1=\"436.27694766456096\" y1=\"261.8168872439215\" x2=\"436.84041277824383\" y2=\"259.8979012966925\" stroke-linecap=\"round\" style=\"stroke:white;stroke-width:4\"/><line x1=\"436.84041277824383\" y1=\"259.8979012966925\" x2=\"437.3119306492627\" y2=\"257.9542781600454\" stroke-linecap=\"round\" style=\"stroke:white;stroke-width:4\"/><line x1=\"437.3119306492627\" y1=\"257.9542781600454\" x2=\"437.6904331379835\" y2=\"255.99042076552\" stroke-linecap=\"round\" style=\"stroke:white;stroke-width:4\"/><line x1=\"437.6904331379835\" y1=\"255.99042076552\" x2=\"437.9750628145301\" y2=\"254.01077788175814\" stroke-linecap=\"round\" style=\"stroke:white;stroke-width:4\"/><line x1=\"437.9750628145301\" y1=\"254.01077788175814\" x2=\"438.1651749011384\" y2=\"252.01983403661197\" stroke-linecap=\"round\" style=\"stroke:white;stroke-width:4\"/><line x1=\"438.1651749011384\" y1=\"252.01983403661197\" x2=\"438.2603387327859\" y2=\"250.02209935824595\" stroke-linecap=\"round\" style=\"stroke:white;stroke-width:4\"/><line x1=\"438.2603387327859\" y1=\"250.02209935824595\" x2=\"438.2603387327859\" y2=\"248.02209935824595\" stroke-linecap=\"round\" style=\"stroke:white;stroke-width:4\"/><line x1=\"438.2603387327859\" y1=\"248.02209935824595\" x2=\"438.1730999580552\" y2=\"246.02400291508224\" stroke-linecap=\"round\" style=\"stroke:white;stroke-width:4\"/><line x1=\"438.1730999580552\" y1=\"246.02400291508224\" x2=\"437.9987884725599\" y2=\"244.03161351889875\" stroke-linecap=\"round\" style=\"stroke:white;stroke-width:4\"/><line x1=\"437.9987884725599\" y1=\"244.03161351889875\" x2=\"437.7377360881198\" y2=\"242.04872379615114\" stroke-linecap=\"round\" style=\"stroke:white;stroke-width:4\"/><line x1=\"437.7377360881198\" y1=\"242.04872379615114\" x2=\"437.3904397327859\" y2=\"240.07910829012673\" stroke-linecap=\"round\" style=\"stroke:white;stroke-width:4\"/><line x1=\"437.3904397327859\" y1=\"240.07910829012673\" x2=\"436.95756050490974\" y2=\"238.12651627588687\" stroke-linecap=\"round\" style=\"stroke:white;stroke-width:4\"/><line x1=\"436.95756050490974\" y1=\"238.12651627588687\" x2=\"436.4399224147047\" y2=\"236.19466462330874\" stroke-linecap=\"round\" style=\"stroke:white;stroke-width:4\"/><line x1=\"436.4399224147047\" y1=\"236.19466462330874\" x2=\"435.83851081569617\" y2=\"234.28723072181228\" stroke-linecap=\"round\" style=\"stroke:white;stroke-width:4\"/><line x1=\"435.83851081569617\" y1=\"234.28723072181228\" x2=\"435.15447052904483\" y2=\"232.40784548024047\" stroke-linecap=\"round\" style=\"stroke:white;stroke-width:4\"/><line x1=\"435.15447052904483\" y1=\"232.40784548024047\" x2=\"434.38910366431463\" y2=\"230.56008641521788\" stroke-linecap=\"round\" style=\"stroke:white;stroke-width:4\"/><line x1=\"434.38910366431463\" y1=\"230.56008641521788\" x2=\"433.54386714083324\" y2=\"228.74747084114458\" stroke-linecap=\"round\" style=\"stroke:white;stroke-width:4\"/><line x1=\"433.54386714083324\" y1=\"228.74747084114458\" x2=\"432.62036991436315\" y2=\"226.97344917478813\" stroke-linecap=\"round\" style=\"stroke:white;stroke-width:4\"/><line x1=\"432.62036991436315\" y1=\"226.97344917478813\" x2=\"431.62036991436315\" y2=\"225.24139836721926\" stroke-linecap=\"round\" style=\"stroke:white;stroke-width:4\"/><line x1=\"431.62036991436315\" y1=\"225.24139836721926\" x2=\"430.5457706976695\" y2=\"223.5546154755935\" stroke-linecap=\"round\" style=\"stroke:white;stroke-width:4\"/><line x1=\"430.5457706976695\" y1=\"223.5546154755935\" x2=\"429.3986178249674\" y2=\"221.91631138701553\" stroke-linecap=\"round\" style=\"stroke:white;stroke-width:4\"/><line x1=\"429.3986178249674\" y1=\"221.91631138701553\" x2=\"428.18109496694996\" y2=\"220.32960470643306\" stroke-linecap=\"round\" style=\"stroke:white;stroke-width:4\"/><line x1=\"428.18109496694996\" y1=\"220.32960470643306\" x2=\"426.8955197475769\" y2=\"218.79751582019512\" stroke-linecap=\"round\" style=\"stroke:white;stroke-width:4\"/><line x1=\"426.8955197475769\" y1=\"218.79751582019512\" x2=\"425.54433933234554\" y2=\"217.32296114657487\" stroke-linecap=\"round\" style=\"stroke:white;stroke-width:4\"/><line x1=\"425.54433933234554\" y1=\"217.32296114657487\" x2=\"424.13012576997244\" y2=\"215.90874758420176\" stroke-linecap=\"round\" style=\"stroke:white;stroke-width:4\"/><line x1=\"424.13012576997244\" y1=\"215.90874758420176\" x2=\"422.65557109635216\" y2=\"214.55756716897045\" stroke-linecap=\"round\" style=\"stroke:white;stroke-width:4\"/><line x1=\"422.65557109635216\" y1=\"214.55756716897045\" x2=\"421.1234822101142\" y2=\"213.27199194959738\" stroke-linecap=\"round\" style=\"stroke:white;stroke-width:4\"/><line x1=\"421.1234822101142\" y1=\"213.27199194959738\" x2=\"419.5367755295317\" y2=\"212.05446909157993\" stroke-linecap=\"round\" style=\"stroke:white;stroke-width:4\"/><line x1=\"419.5367755295317\" y1=\"212.05446909157993\" x2=\"417.89847144095376\" y2=\"210.90731621887784\" stroke-linecap=\"round\" style=\"stroke:white;stroke-width:4\"/><line x1=\"417.89847144095376\" y1=\"210.90731621887784\" x2=\"416.21168854932796\" y2=\"209.83271700218418\" stroke-linecap=\"round\" style=\"stroke:white;stroke-width:4\"/><line x1=\"416.21168854932796\" y1=\"209.83271700218418\" x2=\"414.47963774175906\" y2=\"208.83271700218418\" stroke-linecap=\"round\" style=\"stroke:white;stroke-width:4\"/><line x1=\"414.47963774175906\" y1=\"208.83271700218418\" x2=\"412.70561607540265\" y2=\"207.90921977571412\" stroke-linecap=\"round\" style=\"stroke:white;stroke-width:4\"/><line x1=\"412.70561607540265\" y1=\"207.90921977571412\" x2=\"410.89300050132937\" y2=\"207.06398325223273\" stroke-linecap=\"round\" style=\"stroke:white;stroke-width:4\"/><line x1=\"410.89300050132937\" y1=\"207.06398325223273\" x2=\"409.0452414363068\" y2=\"206.29861638750256\" stroke-linecap=\"round\" style=\"stroke:white;stroke-width:4\"/><line x1=\"409.0452414363068\" y1=\"206.29861638750256\" x2=\"407.165856194735\" y2=\"205.61457610085122\" stroke-linecap=\"round\" style=\"stroke:white;stroke-width:4\"/><line x1=\"407.165856194735\" y1=\"205.61457610085122\" x2=\"405.25842229323854\" y2=\"205.01316450184268\" stroke-linecap=\"round\" style=\"stroke:white;stroke-width:4\"/><line x1=\"405.25842229323854\" y1=\"205.01316450184268\" x2=\"403.3265706406604\" y2=\"204.49552641163763\" stroke-linecap=\"round\" style=\"stroke:white;stroke-width:4\"/><line x1=\"403.3265706406604\" y1=\"204.49552641163763\" x2=\"401.3739786264205\" y2=\"204.0626471837614\" stroke-linecap=\"round\" style=\"stroke:white;stroke-width:4\"/><line x1=\"401.3739786264205\" y1=\"204.0626471837614\" x2=\"399.4043631203961\" y2=\"203.71535082842755\" stroke-linecap=\"round\" style=\"stroke:white;stroke-width:4\"/><line x1=\"399.4043631203961\" y1=\"203.71535082842755\" x2=\"397.42147339764847\" y2=\"203.45429844398745\" stroke-linecap=\"round\" style=\"stroke:white;stroke-width:4\"/><line x1=\"397.42147339764847\" y1=\"203.45429844398745\" x2=\"395.42908400146496\" y2=\"203.27998695849215\" stroke-linecap=\"round\" style=\"stroke:white;stroke-width:4\"/><line x1=\"395.42908400146496\" y1=\"203.27998695849215\" x2=\"393.43098755830124\" y2=\"203.19274818376147\" stroke-linecap=\"round\" style=\"stroke:white;stroke-width:4\"/><line x1=\"393.43098755830124\" y1=\"203.19274818376147\" x2=\"391.43098755830124\" y2=\"203.19274818376147\" stroke-linecap=\"round\" style=\"stroke:white;stroke-width:4\"/><line x1=\"391.43098755830124\" y1=\"203.19274818376147\" x2=\"389.43269604152664\" y2=\"203.27539813225908\" stroke-linecap=\"round\" style=\"stroke:white;stroke-width:4\"/><line x1=\"389.43269604152664\" y1=\"203.27539813225908\" x2=\"387.4395270555133\" y2=\"203.44055682320376\" stroke-linecap=\"round\" style=\"stroke:white;stroke-width:4\"/><line x1=\"387.4395270555133\" y1=\"203.44055682320376\" x2=\"385.4548858960392\" y2=\"203.68794208574246\" stroke-linecap=\"round\" style=\"stroke:white;stroke-width:4\"/><line x1=\"385.4548858960392\" y1=\"203.68794208574246\" x2=\"383.4821632892337\" y2=\"204.01713126630395\" stroke-linecap=\"round\" style=\"stroke:white;stroke-width:4\"/><line x1=\"383.4821632892337\" y1=\"204.01713126630395\" x2=\"381.52472959857903\" y2=\"204.42756195069524\" stroke-linecap=\"round\" style=\"stroke:white;stroke-width:4\"/><line x1=\"381.52472959857903\" y1=\"204.42756195069524\" x2=\"379.5859290667004\" y2=\"204.91853292497683\" stroke-linecap=\"round\" style=\"stroke:white;stroke-width:4\"/><line x1=\"379.5859290667004\" y1=\"204.91853292497683\" x2=\"377.66907410178385\" y2=\"205.48920537347504\" stroke-linecap=\"round\" style=\"stroke:white;stroke-width:4\"/><line x1=\"377.66907410178385\" y1=\"205.48920537347504\" x2=\"375.7774396183826\" y2=\"206.13860431188442\" stroke-linecap=\"round\" style=\"stroke:white;stroke-width:4\"/><line x1=\"375.7774396183826\" y1=\"206.13860431188442\" x2=\"373.91425744228\" y2=\"206.86562025301208\" stroke-linecap=\"round\" style=\"stroke:white;stroke-width:4\"/><line x1=\"373.91425744228\" y1=\"206.86562025301208\" x2=\"372.0827107889699\" y2=\"207.66901110231802\" stroke-linecap=\"round\" style=\"stroke:white;stroke-width:4\"/><line x1=\"372.0827107889699\" y1=\"207.66901110231802\" x2=\"370.285928825186\" y2=\"208.54740428001276\" stroke-linecap=\"round\" style=\"stroke:white;stroke-width:4\"/><line x1=\"370.285928825186\" y1=\"208.54740428001276\" x2=\"368.526981322773\" y2=\"209.4992990660869\" stroke-linecap=\"round\" style=\"stroke:white;stroke-width:4\"/><line x1=\"368.526981322773\" y1=\"209.4992990660869\" x2=\"366.80887341403326\" y2=\"210.5230691642661\" stroke-linecap=\"round\" style=\"stroke:white;stroke-width:4\"/><line x1=\"366.80887341403326\" y1=\"210.5230691642661\" x2=\"365.1345404575082\" y2=\"211.61696548051097\" stroke-linecap=\"round\" style=\"stroke:white;stroke-width:4\"/><line x1=\"365.1345404575082\" y1=\"211.61696548051097\" x2=\"363.5068430229678\" y2=\"212.77911911131486\" stroke-linecap=\"round\" style=\"stroke:white;stroke-width:4\"/><line x1=\"363.5068430229678\" y1=\"212.77911911131486\" x2=\"361.92856200417503\" y2=\"214.00754453669418\" stroke-linecap=\"round\" style=\"stroke:white;stroke-width:4\"/><line x1=\"361.92856200417503\" y1=\"214.00754453669418\" x2=\"360.4023938677754\" y2=\"215.30014301241607\" stroke-linecap=\"round\" style=\"stroke:white;stroke-width:4\"/><line x1=\"360.4023938677754\" y1=\"215.30014301241607\" x2=\"358.93094604642914\" y2=\"216.65470615566755\" stroke-linecap=\"round\" style=\"stroke:white;stroke-width:4\"/><line x1=\"358.93094604642914\" y1=\"216.65470615566755\" x2=\"357.51673248405604\" y2=\"218.06891971804066\" stroke-linecap=\"round\" style=\"stroke:white;stroke-width:4\"/><line x1=\"357.51673248405604\" y1=\"218.06891971804066\" x2=\"356.16216934080455\" y2=\"219.54036753938692\" stroke-linecap=\"round\" style=\"stroke:white;stroke-width:4\"/><line x1=\"356.16216934080455\" y1=\"219.54036753938692\" x2=\"354.86957086508266\" y2=\"221.06653567578655\" stroke-linecap=\"round\" style=\"stroke:white;stroke-width:4\"/><line x1=\"354.86957086508266\" y1=\"221.06653567578655\" x2=\"353.64114543970334\" y2=\"222.64481669457933\" stroke-linecap=\"round\" style=\"stroke:white;stroke-width:4\"/><line x1=\"353.64114543970334\" y1=\"222.64481669457933\" x2=\"352.4789918088995\" y2=\"224.27251412911974\" stroke-linecap=\"round\" style=\"stroke:white;stroke-width:4\"/><line x1=\"352.4789918088995\" y1=\"224.27251412911974\" x2=\"351.3850954926546\" y2=\"225.9468470856448\" stroke-linecap=\"round\" style=\"stroke:white;stroke-width:4\"/><line x1=\"351.3850954926546\" y1=\"225.9468470856448\" x2=\"350.36132539447544\" y2=\"227.66495499438457\" stroke-linecap=\"round\" style=\"stroke:white;stroke-width:4\"/><line x1=\"350.36132539447544\" y1=\"227.66495499438457\" x2=\"349.4094306084013\" y2=\"229.42390249679755\" stroke-linecap=\"round\" style=\"stroke:white;stroke-width:4\"/><line x1=\"349.4094306084013\" y1=\"229.42390249679755\" x2=\"348.5310374307066\" y2=\"231.2206844605815\" stroke-linecap=\"round\" style=\"stroke:white;stroke-width:4\"/><line x1=\"348.5310374307066\" y1=\"231.2206844605815\" x2=\"347.7276465814007\" y2=\"233.05223111389162\" stroke-linecap=\"round\" style=\"stroke:white;stroke-width:4\"/><line x1=\"347.7276465814007\" y1=\"233.05223111389162\" x2=\"347.000630640273\" y2=\"234.91541328999418\" stroke-linecap=\"round\" style=\"stroke:white;stroke-width:4\"/><line x1=\"347.000630640273\" y1=\"234.91541328999418\" x2=\"346.35123170186364\" y2=\"236.80704777339545\" stroke-linecap=\"round\" style=\"stroke:white;stroke-width:4\"/><line x1=\"346.35123170186364\" y1=\"236.80704777339545\" x2=\"345.7805592533654\" y2=\"238.72390273831195\" stroke-linecap=\"round\" style=\"stroke:white;stroke-width:4\"/><line x1=\"345.7805592533654\" y1=\"238.72390273831195\" x2=\"345.28958827908383\" y2=\"240.6627032701906\" stroke-linecap=\"round\" style=\"stroke:white;stroke-width:4\"/><line x1=\"345.28958827908383\" y1=\"240.6627032701906\" x2=\"344.8791575946926\" y2=\"242.62013696084531\" stroke-linecap=\"round\" style=\"stroke:white;stroke-width:4\"/><line x1=\"344.8791575946926\" y1=\"242.62013696084531\" x2=\"344.5499684141311\" y2=\"244.59285956765075\" stroke-linecap=\"round\" style=\"stroke:white;stroke-width:4\"/><line x1=\"344.5499684141311\" y1=\"244.59285956765075\" x2=\"344.30258315159244\" y2=\"246.57750072712483\" stroke-linecap=\"round\" style=\"stroke:white;stroke-width:4\"/><line x1=\"344.30258315159244\" y1=\"246.57750072712483\" x2=\"344.13742446064776\" y2=\"248.57066971313816\" stroke-linecap=\"round\" style=\"stroke:white;stroke-width:4\"/><line x1=\"344.13742446064776\" y1=\"248.57066971313816\" x2=\"344.0547745121501\" y2=\"250.56896122991276\" stroke-linecap=\"round\" style=\"stroke:white;stroke-width:4\"/><line x1=\"344.0547745121501\" y1=\"250.56896122991276\" x2=\"344.0547745121501\" y2=\"252.56896122991276\" stroke-linecap=\"round\" style=\"stroke:white;stroke-width:4\"/><line x1=\"344.0547745121501\" y1=\"252.56896122991276\" x2=\"344.1313799795302\" y2=\"254.5674935920144\" stroke-linecap=\"round\" style=\"stroke:white;stroke-width:4\"/><line x1=\"344.1313799795302\" y1=\"254.5674935920144\" x2=\"344.2844784852032\" y2=\"256.56162519438186\" stroke-linecap=\"round\" style=\"stroke:white;stroke-width:4\"/><line x1=\"344.2844784852032\" y1=\"256.56162519438186\" x2=\"344.513845336\" y2=\"258.54842937390123\" stroke-linecap=\"round\" style=\"stroke:white;stroke-width:4\"/><line x1=\"344.513845336\" y1=\"258.54842937390123\" x2=\"344.81914390443774\" y2=\"260.5249902214619\" stroke-linecap=\"round\" style=\"stroke:white;stroke-width:4\"/><line x1=\"344.81914390443774\" y1=\"260.5249902214619\" x2=\"345.19992612276707\" y2=\"262.4884068614556\" stroke-linecap=\"round\" style=\"stroke:white;stroke-width:4\"/><line x1=\"345.19992612276707\" y1=\"262.4884068614556\" x2=\"345.65563314057334\" y2=\"264.43579770921116\" stroke-linecap=\"round\" style=\"stroke:white;stroke-width:4\"/><line x1=\"345.65563314057334\" y1=\"264.43579770921116\" x2=\"346.18559614496667\" y2=\"266.36430470011743\" stroke-linecap=\"round\" style=\"stroke:white;stroke-width:4\"/><line x1=\"346.18559614496667\" y1=\"266.36430470011743\" x2=\"346.78903734215703\" y2=\"268.2710974842273\" stroke-linecap=\"round\" style=\"stroke:white;stroke-width:4\"/><line x1=\"346.78903734215703\" y1=\"268.2710974842273\" x2=\"347.465071098974\" y2=\"270.15337758018643\" stroke-linecap=\"round\" style=\"stroke:white;stroke-width:4\"/><line x1=\"347.465071098974\" y1=\"270.15337758018643\" x2=\"348.21270524265555\" y2=\"272.00838248239063\" stroke-linecap=\"round\" style=\"stroke:white;stroke-width:4\"/><line x1=\"348.21270524265555\" y1=\"272.00838248239063\" x2=\"349.03084251699823\" y2=\"273.83338971534374\" stroke-linecap=\"round\" style=\"stroke:white;stroke-width:4\"/><line x1=\"349.03084251699823\" y1=\"273.83338971534374\" x2=\"349.91828219273214\" y2=\"275.62572082926584\" stroke-linecap=\"round\" style=\"stroke:white;stroke-width:4\"/><line x1=\"349.91828219273214\" y1=\"275.62572082926584\" x2=\"350.8737218297567\" y2=\"277.38274533108773\" stroke-linecap=\"round\" style=\"stroke:white;stroke-width:4\"/><line x1=\"350.8737218297567\" y1=\"277.38274533108773\" x2=\"351.8957591886509\" y2=\"279.10188454506215\" stroke-linecap=\"round\" style=\"stroke:white;stroke-width:4\"/><line x1=\"351.8957591886509\" y1=\"279.10188454506215\" x2=\"352.98289428865337\" y2=\"280.7806153973261\" stroke-linecap=\"round\" style=\"stroke:white;stroke-width:4\"/><line x1=\"352.98289428865337\" y1=\"280.7806153973261\" x2=\"354.1335316090906\" y2=\"282.4164741188595\" stroke-linecap=\"round\" style=\"stroke:white;stroke-width:4\"/><line x1=\"354.1335316090906\" y1=\"282.4164741188595\" x2=\"355.34598243102386\" y2=\"284.0070598614064\" stroke-linecap=\"round\" style=\"stroke:white;stroke-width:4\"/><line x1=\"355.34598243102386\" y1=\"284.0070598614064\" x2=\"356.618467315677\" y2=\"285.5500382210503\" stroke-linecap=\"round\" style=\"stroke:white;stroke-width:4\"/><line x1=\"356.618467315677\" y1=\"285.5500382210503\" x2=\"357.9491187160081\" y2=\"287.04314466427417\" stroke-linecap=\"round\" style=\"stroke:white;stroke-width:4\"/><line x1=\"357.9491187160081\" y1=\"287.04314466427417\" x2=\"359.3359837175926\" y2=\"288.4841878514757\" stroke-linecap=\"round\" style=\"stroke:white;stroke-width:4\"/><line x1=\"359.3359837175926\" y1=\"288.4841878514757\" x2=\"360.7770269047942\" y2=\"289.8710528530602\" stroke-linecap=\"round\" style=\"stroke:white;stroke-width:4\"/><line x1=\"360.7770269047942\" y1=\"289.8710528530602\" x2=\"362.27013334801813\" y2=\"291.2017042533913\" stroke-linecap=\"round\" style=\"stroke:white;stroke-width:4\"/><line x1=\"362.27013334801813\" y1=\"291.2017042533913\" x2=\"363.813111707662\" y2=\"292.47418913804444\" stroke-linecap=\"round\" style=\"stroke:white;stroke-width:4\"/><line x1=\"363.813111707662\" y1=\"292.47418913804444\" x2=\"365.4036974502089\" y2=\"293.6866399599777\" stroke-linecap=\"round\" style=\"stroke:white;stroke-width:4\"/><line x1=\"365.4036974502089\" y1=\"293.6866399599777\" x2=\"367.03955617174233\" y2=\"294.8372772804149\" stroke-linecap=\"round\" style=\"stroke:white;stroke-width:4\"/><line x1=\"367.03955617174233\" y1=\"294.8372772804149\" x2=\"368.71828702400626\" y2=\"295.9244123804174\" stroke-linecap=\"round\" style=\"stroke:white;stroke-width:4\"/><line x1=\"368.71828702400626\" y1=\"295.9244123804174\" x2=\"370.4374262379807\" y2=\"296.9464497393116\" stroke-linecap=\"round\" style=\"stroke:white;stroke-width:4\"/><line x1=\"370.4374262379807\" y1=\"296.9464497393116\" x2=\"372.19445073980256\" y2=\"297.90188937633616\" stroke-linecap=\"round\" style=\"stroke:white;stroke-width:4\"/><line x1=\"372.19445073980256\" y1=\"297.90188937633616\" x2=\"373.98678185372466\" y2=\"298.78932905207006\" stroke-linecap=\"round\" style=\"stroke:white;stroke-width:4\"/><line x1=\"373.98678185372466\" y1=\"298.78932905207006\" x2=\"375.8117890866778\" y2=\"299.60746632641275\" stroke-linecap=\"round\" style=\"stroke:white;stroke-width:4\"/><line x1=\"375.8117890866778\" y1=\"299.60746632641275\" x2=\"377.666793988882\" y2=\"300.35510047009427\" stroke-linecap=\"round\" style=\"stroke:white;stroke-width:4\"/><line x1=\"377.666793988882\" y1=\"300.35510047009427\" x2=\"379.5490740848411\" y2=\"301.03113422691126\" stroke-linecap=\"round\" style=\"stroke:white;stroke-width:4\"/><line x1=\"379.5490740848411\" y1=\"301.03113422691126\" x2=\"381.455866868951\" y2=\"301.6345754241016\" stroke-linecap=\"round\" style=\"stroke:white;stroke-width:4\"/><line x1=\"381.455866868951\" y1=\"301.6345754241016\" x2=\"383.38437385985725\" y2=\"302.16453842849495\" stroke-linecap=\"round\" style=\"stroke:white;stroke-width:4\"/><line x1=\"383.38437385985725\" y1=\"302.16453842849495\" x2=\"385.3317647076128\" y2=\"302.6202454463012\" stroke-linecap=\"round\" style=\"stroke:white;stroke-width:4\"/><line x1=\"385.3317647076128\" y1=\"302.6202454463012\" x2=\"387.29518134760656\" y2=\"303.00102766463056\" stroke-linecap=\"round\" style=\"stroke:white;stroke-width:4\"/><line x1=\"387.29518134760656\" y1=\"303.00102766463056\" x2=\"389.27174219516723\" y2=\"303.3063262330683\" stroke-linecap=\"round\" style=\"stroke:white;stroke-width:4\"/><line x1=\"389.27174219516723\" y1=\"303.3063262330683\" x2=\"391.2585463746866\" y2=\"303.5356930838651\" stroke-linecap=\"round\" style=\"stroke:white;stroke-width:4\"/><line x1=\"391.2585463746866\" y1=\"303.5356930838651\" x2=\"393.2526779770541\" y2=\"303.6887915895381\" stroke-linecap=\"round\" style=\"stroke:white;stroke-width:4\"/><line x1=\"393.2526779770541\" y1=\"303.6887915895381\" x2=\"395.2512103391557\" y2=\"303.7653970569182\" stroke-linecap=\"round\" style=\"stroke:white;stroke-width:4\"/><line x1=\"395.2512103391557\" y1=\"303.7653970569182\" x2=\"397.2512103391557\" y2=\"303.7653970569182\" stroke-linecap=\"round\" style=\"stroke:white;stroke-width:4\"/><line x1=\"397.2512103391557\" y1=\"303.7653970569182\" x2=\"399.2498760358962\" y2=\"303.69235301080283\" stroke-linecap=\"round\" style=\"stroke:white;stroke-width:4\"/><line x1=\"399.2498760358962\" y1=\"303.69235301080283\" x2=\"401.2445406032233\" y2=\"303.546362381481\" stroke-linecap=\"round\" style=\"stroke:white;stroke-width:4\"/><line x1=\"401.2445406032233\" y1=\"303.546362381481\" x2=\"403.2325425537032\" y2=\"303.3276199647253\" stroke-linecap=\"round\" style=\"stroke:white;stroke-width:4\"/><line x1=\"403.2325425537032\" y1=\"303.3276199647253\" x2=\"405.2112292898534\" y2=\"303.03641762925525\" stroke-linecap=\"round\" style=\"stroke:white;stroke-width:4\"/><line x1=\"405.2112292898534\" y1=\"303.03641762925525\" x2=\"407.17796064351234\" y2=\"302.6731439272964\" stroke-linecap=\"round\" style=\"stroke:white;stroke-width:4\"/><line x1=\"407.17796064351234\" y1=\"302.6731439272964\" x2=\"409.1301123986242\" y2=\"302.23828357613326\" stroke-linecap=\"round\" style=\"stroke:white;stroke-width:4\"/><line x1=\"409.1301123986242\" y1=\"302.23828357613326\" x2=\"411.065079792739\" y2=\"301.7324168113499\" stroke-linecap=\"round\" style=\"stroke:white;stroke-width:4\"/><line x1=\"411.065079792739\" y1=\"301.7324168113499\" x2=\"412.98028099255583\" y2=\"301.1562186126194\" stroke-linecap=\"round\" style=\"stroke:white;stroke-width:4\"/><line x1=\"412.98028099255583\" y1=\"301.1562186126194\" x2=\"414.87316053887105\" y2=\"300.5104578030765\" stroke-linecap=\"round\" style=\"stroke:white;stroke-width:4\"/><line x1=\"414.87316053887105\" y1=\"300.5104578030765\" x2=\"416.74119275633615\" y2=\"299.79599602347423\" stroke-linecap=\"round\" style=\"stroke:white;stroke-width:4\"/><line x1=\"416.74119275633615\" y1=\"299.79599602347423\" x2=\"418.5818851234745\" y2=\"299.01378658249394\" stroke-linecap=\"round\" style=\"stroke:white;stroke-width:4\"/><line x1=\"418.5818851234745\" y1=\"299.01378658249394\" x2=\"420.3927815984608\" y2=\"298.1648731847423\" stroke-linecap=\"round\" style=\"stroke:white;stroke-width:4\"/><line x1=\"420.3927815984608\" y1=\"298.1648731847423\" x2=\"422.1714658962258\" y2=\"297.25038853813305\" stroke-linecap=\"round\" style=\"stroke:white;stroke-width:4\"/><line x1=\"422.1714658962258\" y1=\"297.25038853813305\" x2=\"423.9155647125134\" y2=\"296.27155284251086\" stroke-linecap=\"round\" style=\"stroke:white;stroke-width:4\"/><line x1=\"423.9155647125134\" y1=\"296.27155284251086\" x2=\"425.6227508905881\" y2=\"295.229672161535\" stroke-linecap=\"round\" style=\"stroke:white;stroke-width:4\"/><line x1=\"425.6227508905881\" y1=\"295.229672161535\" x2=\"427.29074652636785\" y2=\"294.12613667999415\" stroke-linecap=\"round\" style=\"stroke:white;stroke-width:4\"/><line x1=\"427.29074652636785\" y1=\"294.12613667999415\" x2=\"428.917326007839\" y2=\"292.96241884887826\" stroke-linecap=\"round\" style=\"stroke:white;stroke-width:4\"/><line x1=\"428.917326007839\" y1=\"292.96241884887826\" x2=\"430.5003189846975\" y2=\"291.74007142068257\" stroke-linecap=\"round\" style=\"stroke:white;stroke-width:4\"/><line x1=\"430.5003189846975\" y1=\"291.74007142068257\" x2=\"432.03761326425456\" y2=\"290.4607253775648\" stroke-linecap=\"round\" style=\"stroke:white;stroke-width:4\"/><line x1=\"432.03761326425456\" y1=\"290.4607253775648\" x2=\"433.52715762974213\" y2=\"289.12608775512035\" stroke-linecap=\"round\" style=\"stroke:white;stroke-width:4\"/><line x1=\"433.52715762974213\" y1=\"289.12608775512035\" x2=\"434.9669645772581\" y2=\"287.7379393646791\" stroke-linecap=\"round\" style=\"stroke:white;stroke-width:4\"/><line x1=\"434.9669645772581\" y1=\"287.7379393646791\" x2=\"436.3551129676994\" y2=\"286.2981324171631\" stroke-linecap=\"round\" style=\"stroke:white;stroke-width:4\"/><line x1=\"436.3551129676994\" y1=\"286.2981324171631\" x2=\"437.6897505901439\" y2=\"284.80858805167554\" stroke-linecap=\"round\" style=\"stroke:white;stroke-width:4\"/><line x1=\"437.6897505901439\" y1=\"284.80858805167554\" x2=\"438.9690966332617\" y2=\"283.2712937721185\" stroke-linecap=\"round\" style=\"stroke:white;stroke-width:4\"/><line x1=\"438.9690966332617\" y1=\"283.2712937721185\" x2=\"440.1914440614574\" y2=\"281.68830079526\" stroke-linecap=\"round\" style=\"stroke:white;stroke-width:4\"/><line x1=\"440.1914440614574\" y1=\"281.68830079526\" x2=\"441.3551618925733\" y2=\"280.06172131378884\" stroke-linecap=\"round\" style=\"stroke:white;stroke-width:4\"/><line x1=\"441.3551618925733\" y1=\"280.06172131378884\" x2=\"442.4586973741142\" y2=\"278.3937256780091\" stroke-linecap=\"round\" style=\"stroke:white;stroke-width:4\"/><line x1=\"442.4586973741142\" y1=\"278.3937256780091\" x2=\"443.50057805509005\" y2=\"276.68653949993444\" stroke-linecap=\"round\" style=\"stroke:white;stroke-width:4\"/><line x1=\"443.50057805509005\" y1=\"276.68653949993444\" x2=\"444.47941375071224\" y2=\"274.94244068364685\" stroke-linecap=\"round\" style=\"stroke:white;stroke-width:4\"/><line x1=\"444.47941375071224\" y1=\"274.94244068364685\" x2=\"445.39389839732155\" y2=\"273.1637563858818\" stroke-linecap=\"round\" style=\"stroke:white;stroke-width:4\"/><line x1=\"445.39389839732155\" y1=\"273.1637563858818\" x2=\"446.2428117950732\" y2=\"271.3528599108955\" stroke-linecap=\"round\" style=\"stroke:white;stroke-width:4\"/><line x1=\"446.2428117950732\" y1=\"271.3528599108955\" x2=\"447.02502123605353\" y2=\"269.5121675437572\" stroke-linecap=\"round\" style=\"stroke:white;stroke-width:4\"/><line x1=\"447.02502123605353\" y1=\"269.5121675437572\" x2=\"447.7394830156558\" y2=\"267.6441353262921\" stroke-linecap=\"round\" style=\"stroke:white;stroke-width:4\"/><line x1=\"447.7394830156558\" y1=\"267.6441353262921\" x2=\"448.38524382519876\" y2=\"265.7512557799769\" stroke-linecap=\"round\" style=\"stroke:white;stroke-width:4\"/><line x1=\"448.38524382519876\" y1=\"265.7512557799769\" x2=\"448.96144202392924\" y2=\"263.83605458016007\" stroke-linecap=\"round\" style=\"stroke:white;stroke-width:4\"/><line x1=\"448.96144202392924\" y1=\"263.83605458016007\" x2=\"449.4673087887126\" y2=\"261.90108718604523\" stroke-linecap=\"round\" style=\"stroke:white;stroke-width:4\"/><line x1=\"449.4673087887126\" y1=\"261.90108718604523\" x2=\"449.90216913987575\" y2=\"259.9489354309334\" stroke-linecap=\"round\" style=\"stroke:white;stroke-width:4\"/><line x1=\"449.90216913987575\" y1=\"259.9489354309334\" x2=\"450.26544284183467\" y2=\"257.98220407727445\" stroke-linecap=\"round\" style=\"stroke:white;stroke-width:4\"/><line x1=\"450.26544284183467\" y1=\"257.98220407727445\" x2=\"450.5566451773047\" y2=\"256.0035173411242\" stroke-linecap=\"round\" style=\"stroke:white;stroke-width:4\"/><line x1=\"450.5566451773047\" y1=\"256.0035173411242\" x2=\"450.7753875940605\" y2=\"254.01551539064434\" stroke-linecap=\"round\" style=\"stroke:white;stroke-width:4\"/><line x1=\"450.7753875940605\" y1=\"254.01551539064434\" x2=\"450.9213782233823\" y2=\"252.02085082331723\" stroke-linecap=\"round\" style=\"stroke:white;stroke-width:4\"/><line x1=\"450.9213782233823\" y1=\"252.02085082331723\" x2=\"450.99442226949765\" y2=\"250.02218512657674\" stroke-linecap=\"round\" style=\"stroke:white;stroke-width:4\"/><line x1=\"450.99442226949765\" y1=\"250.02218512657674\" x2=\"450.99442226949765\" y2=\"248.02218512657674\" stroke-linecap=\"round\" style=\"stroke:white;stroke-width:4\"/><line x1=\"450.99442226949765\" y1=\"248.02218512657674\" x2=\"450.92614004912576\" y2=\"246.0233510818444\" stroke-linecap=\"round\" style=\"stroke:white;stroke-width:4\"/><line x1=\"450.92614004912576\" y1=\"246.0233510818444\" x2=\"450.78965522239645\" y2=\"244.02801354346332\" stroke-linecap=\"round\" style=\"stroke:white;stroke-width:4\"/><line x1=\"450.78965522239645\" y1=\"244.02801354346332\" x2=\"450.5851269245124\" y2=\"242.0384989857471\" stroke-linecap=\"round\" style=\"stroke:white;stroke-width:4\"/><line x1=\"450.5851269245124\" y1=\"242.0384989857471\" x2=\"450.31279362631994\" y2=\"240.05712709367444\" stroke-linecap=\"round\" style=\"stroke:white;stroke-width:4\"/><line x1=\"450.31279362631994\" y1=\"240.05712709367444\" x2=\"449.97297285626263\" y2=\"238.08620805824003\" stroke-linecap=\"round\" style=\"stroke:white;stroke-width:4\"/><line x1=\"449.97297285626263\" y1=\"238.08620805824003\" x2=\"449.56606083015737\" y2=\"236.12803988287538\" stroke-linecap=\"round\" style=\"stroke:white;stroke-width:4\"/><line x1=\"449.56606083015737\" y1=\"236.12803988287538\" x2=\"449.0925319892245\" y2=\"234.18490570407948\" stroke-linecap=\"round\" style=\"stroke:white;stroke-width:4\"/><line x1=\"449.0925319892245\" y1=\"234.18490570407948\" x2=\"448.55293844691045\" y2=\"232.25907112938387\" stroke-linecap=\"round\" style=\"stroke:white;stroke-width:4\"/><line x1=\"448.55293844691045\" y1=\"232.25907112938387\" x2=\"447.94790934514833\" y2=\"230.35278159575554\" stroke-linecap=\"round\" style=\"stroke:white;stroke-width:4\"/><line x1=\"447.94790934514833\" y1=\"230.35278159575554\" x2=\"447.2781501208064\" y2=\"228.4682597515179\" stroke-linecap=\"round\" style=\"stroke:white;stroke-width:4\"/><line x1=\"447.2781501208064\" y1=\"228.4682597515179\" x2=\"446.5444416831803\" y2=\"226.60770286484222\" stroke-linecap=\"round\" style=\"stroke:white;stroke-width:4\"/><line x1=\"446.5444416831803\" y1=\"226.60770286484222\" x2=\"445.74763950348785\" y2=\"224.7732802618313\" stroke-linecap=\"round\" style=\"stroke:white;stroke-width:4\"/><line x1=\"445.74763950348785\" y1=\"224.7732802618313\" x2=\"444.8886726174277\" y2=\"222.96713079718222\" stroke-linecap=\"round\" style=\"stroke:white;stroke-width:4\"/><line x1=\"444.8886726174277\" y1=\"222.96713079718222\" x2=\"443.9685425419654\" y2=\"221.19136036037747\" stroke-linecap=\"round\" style=\"stroke:white;stroke-width:4\"/><line x1=\"443.9685425419654\" y1=\"221.19136036037747\" x2=\"442.9883221076094\" y2=\"219.44803942031197\" stroke-linecap=\"round\" style=\"stroke:white;stroke-width:4\"/><line x1=\"442.9883221076094\" y1=\"219.44803942031197\" x2=\"441.9491542075386\" y2=\"217.739200611219\" stroke-linecap=\"round\" style=\"stroke:white;stroke-width:4\"/><line x1=\"441.9491542075386\" y1=\"217.739200611219\" x2=\"440.85225046503996\" y2=\"216.06683636270955\" stroke-linecap=\"round\" style=\"stroke:white;stroke-width:4\"/><line x1=\"440.85225046503996\" y1=\"216.06683636270955\" x2=\"439.6988898208102\" y2=\"214.43289657668865\" stroke-linecap=\"round\" style=\"stroke:white;stroke-width:4\"/><line x1=\"439.6988898208102\" y1=\"214.43289657668865\" x2=\"438.49041704176807\" y2=\"212.83928635385683\" stroke-linecap=\"round\" style=\"stroke:white;stroke-width:4\"/><line x1=\"438.49041704176807\" y1=\"212.83928635385683\" x2=\"437.22824115311596\" y2=\"211.287863772448\" stroke-linecap=\"round\" style=\"stroke:white;stroke-width:4\"/><line x1=\"437.22824115311596\" y1=\"211.287863772448\" x2=\"435.91383379548006\" y2=\"209.78043772179325\" stroke-linecap=\"round\" style=\"stroke:white;stroke-width:4\"/><line x1=\"435.91383379548006\" y1=\"209.78043772179325\" x2=\"434.54872750904275\" y2=\"208.318765793237\" stroke-linecap=\"round\" style=\"stroke:white;stroke-width:4\"/><line x1=\"434.54872750904275\" y1=\"208.318765793237\" x2=\"433.13451394666964\" y2=\"206.90455223086389\" stroke-linecap=\"round\" style=\"stroke:white;stroke-width:4\"/><line x1=\"433.13451394666964\" y1=\"206.90455223086389\" x2=\"431.6728420181134\" y2=\"205.53944594442655\" stroke-linecap=\"round\" style=\"stroke:white;stroke-width:4\"/><line x1=\"431.6728420181134\" y1=\"205.53944594442655\" x2=\"430.16541596745867\" y2=\"204.2250385867906\" stroke-linecap=\"round\" style=\"stroke:white;stroke-width:4\"/><line x1=\"430.16541596745867\" y1=\"204.2250385867906\" x2=\"428.61399338604986\" y2=\"202.96286269813845\" stroke-linecap=\"round\" style=\"stroke:white;stroke-width:4\"/><line x1=\"428.61399338604986\" y1=\"202.96286269813845\" x2=\"427.02038316321807\" y2=\"201.75438991909624\" stroke-linecap=\"round\" style=\"stroke:white;stroke-width:4\"/><line x1=\"427.02038316321807\" y1=\"201.75438991909624\" x2=\"425.3864433771972\" y2=\"200.60102927486648\" stroke-linecap=\"round\" style=\"stroke:white;stroke-width:4\"/><line x1=\"425.3864433771972\" y1=\"200.60102927486648\" x2=\"423.71407912868784\" y2=\"199.50412553236782\" stroke-linecap=\"round\" style=\"stroke:white;stroke-width:4\"/><line x1=\"423.71407912868784\" y1=\"199.50412553236782\" x2=\"422.00524031959486\" y2=\"198.46495763229694\" stroke-linecap=\"round\" style=\"stroke:white;stroke-width:4\"/><line x1=\"422.00524031959486\" y1=\"198.46495763229694\" x2=\"420.2619193795294\" y2=\"197.4847371979409\" stroke-linecap=\"round\" style=\"stroke:white;stroke-width:4\"/><line x1=\"420.2619193795294\" y1=\"197.4847371979409\" x2=\"418.48614894272464\" y2=\"196.56460712247858\" stroke-linecap=\"round\" style=\"stroke:white;stroke-width:4\"/><line x1=\"418.48614894272464\" y1=\"196.56460712247858\" x2=\"416.67999947807556\" y2=\"195.7056402364184\" stroke-linecap=\"round\" style=\"stroke:white;stroke-width:4\"/><line x1=\"416.67999947807556\" y1=\"195.7056402364184\" x2=\"414.84557687506464\" y2=\"194.9088380567259\" stroke-linecap=\"round\" style=\"stroke:white;stroke-width:4\"/><line x1=\"414.84557687506464\" y1=\"194.9088380567259\" x2=\"412.98501998838896\" y2=\"194.17512961909978\" stroke-linecap=\"round\" style=\"stroke:white;stroke-width:4\"/><line x1=\"412.98501998838896\" y1=\"194.17512961909978\" x2=\"411.10049814415135\" y2=\"193.5053703947578\" stroke-linecap=\"round\" style=\"stroke:white;stroke-width:4\"/><line x1=\"411.10049814415135\" y1=\"193.5053703947578\" x2=\"409.19420861052305\" y2=\"192.90034129299562\" stroke-linecap=\"round\" style=\"stroke:white;stroke-width:4\"/><line x1=\"409.19420861052305\" y1=\"192.90034129299562\" x2=\"407.26837403582743\" y2=\"192.36074775068155\" stroke-linecap=\"round\" style=\"stroke:white;stroke-width:4\"/><line x1=\"407.26837403582743\" y1=\"192.36074775068155\" x2=\"405.32523985703153\" y2=\"191.88721890974864\" stroke-linecap=\"round\" style=\"stroke:white;stroke-width:4\"/><line x1=\"405.32523985703153\" y1=\"191.88721890974864\" x2=\"403.3670716816669\" y2=\"191.48030688364335\" stroke-linecap=\"round\" style=\"stroke:white;stroke-width:4\"/><line x1=\"403.3670716816669\" y1=\"191.48030688364335\" x2=\"401.3961526462325\" y2=\"191.140486113586\" stroke-linecap=\"round\" style=\"stroke:white;stroke-width:4\"/><line x1=\"401.3961526462325\" y1=\"191.140486113586\" x2=\"399.41478075415984\" y2=\"190.8681528153935\" stroke-linecap=\"round\" style=\"stroke:white;stroke-width:4\"/><line x1=\"399.41478075415984\" y1=\"190.8681528153935\" x2=\"397.42526619644366\" y2=\"190.66362451750942\" stroke-linecap=\"round\" style=\"stroke:white;stroke-width:4\"/><line x1=\"397.42526619644366\" y1=\"190.66362451750942\" x2=\"395.4299286580626\" y2=\"190.52713969078005\" stroke-linecap=\"round\" style=\"stroke:white;stroke-width:4\"/><line x1=\"395.4299286580626\" y1=\"190.52713969078005\" x2=\"393.43109461333023\" y2=\"190.45885747040808\" stroke-linecap=\"round\" style=\"stroke:white;stroke-width:4\"/><line x1=\"393.43109461333023\" y1=\"190.45885747040808\" x2=\"391.43109461333023\" y2=\"190.45885747040805\" stroke-linecap=\"round\" style=\"stroke:white;stroke-width:4\"/><line x1=\"391.43109461333023\" y1=\"190.45885747040805\" x2=\"389.43212218092884\" y2=\"190.52296062555135\" stroke-linecap=\"round\" style=\"stroke:white;stroke-width:4\"/><line x1=\"389.43212218092884\" y1=\"190.52296062555135\" x2=\"387.4362313954282\" y2=\"190.65110106551276\" stroke-linecap=\"round\" style=\"stroke:white;stroke-width:4\"/><line x1=\"387.4362313954282\" y1=\"190.65110106551276\" x2=\"385.4454731695298\" y2=\"190.8431471173281\" stroke-linecap=\"round\" style=\"stroke:white;stroke-width:4\"/><line x1=\"385.4454731695298\" y1=\"190.8431471173281\" x2=\"383.4618931418833\" y2=\"191.0989014406971\" stroke-linecap=\"round\" style=\"stroke:white;stroke-width:4\"/><line x1=\"383.4618931418833\" y1=\"191.0989014406971\" x2=\"381.4875295750544\" y2=\"191.41810123076382\" stroke-linecap=\"round\" style=\"stroke:white;stroke-width:4\"/><line x1=\"381.4875295750544\" y1=\"191.41810123076382\" x2=\"379.52441126107226\" y2=\"191.80041848816654\" stroke-linecap=\"round\" style=\"stroke:white;stroke-width:4\"/><line x1=\"379.52441126107226\" y1=\"191.80041848816654\" x2=\"377.57455543670864\" y2=\"192.24546035607915\" stroke-linecap=\"round\" style=\"stroke:white;stroke-width:4\"/><line x1=\"377.57455543670864\" y1=\"192.24546035607915\" x2=\"375.6399657106306\" y2=\"192.75276952389814\" stroke-linecap=\"round\" style=\"stroke:white;stroke-width:4\"/><line x1=\"375.6399657106306\" y1=\"192.75276952389814\" x2=\"373.72263000455723\" y2=\"193.3218246971602\" stroke-linecap=\"round\" style=\"stroke:white;stroke-width:4\"/><line x1=\"373.72263000455723\" y1=\"193.3218246971602\" x2=\"371.8245185105359\" y2=\"193.95204113320742\" stroke-linecap=\"round\" style=\"stroke:white;stroke-width:4\"/><line x1=\"371.8245185105359\" y1=\"193.95204113320742\" x2=\"369.94758166643635\" y2=\"194.64277124205\" stroke-linecap=\"round\" style=\"stroke:white;stroke-width:4\"/><line x1=\"369.94758166643635\" y1=\"194.64277124205\" x2=\"368.0937481517443\" y2=\"195.39330525180873\" stroke-linecap=\"round\" style=\"stroke:white;stroke-width:4\"/><line x1=\"368.0937481517443\" y1=\"195.39330525180873\" x2=\"366.2649229057127\" y2=\"196.2028719380535\" stroke-linecap=\"round\" style=\"stroke:white;stroke-width:4\"/><line x1=\"366.2649229057127\" y1=\"196.2028719380535\" x2=\"364.4629851699078\" y2=\"197.0706394162886\" stroke-linecap=\"round\" style=\"stroke:white;stroke-width:4\"/><line x1=\"364.4629851699078\" y1=\"197.0706394162886\" x2=\"362.6897865571618\" y2=\"197.99571599677026\" stroke-linecap=\"round\" style=\"stroke:white;stroke-width:4\"/><line x1=\"362.6897865571618\" y1=\"197.99571599677026\" x2=\"360.94714914891506\" y2=\"198.97715110077812\" stroke-linecap=\"round\" style=\"stroke:white;stroke-width:4\"/><line x1=\"360.94714914891506\" y1=\"198.97715110077812\" x2=\"359.23686362290437\" y2=\"200.01393623739915\" stroke-linecap=\"round\" style=\"stroke:white;stroke-width:4\"/><line x1=\"359.23686362290437\" y1=\"200.01393623739915\" x2=\"357.56068741312066\" y2=\"201.10500603982024\" stroke-linecap=\"round\" style=\"stroke:white;stroke-width:4\"/><line x1=\"357.56068741312066\" y1=\"201.10500603982024\" x2=\"355.9203429039267\" y2=\"202.24923936006456\" stroke-linecap=\"round\" style=\"stroke:white;stroke-width:4\"/><line x1=\"355.9203429039267\" y1=\"202.24923936006456\" x2=\"354.3175156601908\" y2=\"203.445460421047\" stroke-linecap=\"round\" style=\"stroke:white;stroke-width:4\"/><line x1=\"354.3175156601908\" y1=\"203.445460421047\" x2=\"352.75385269525475\" y2=\"204.69244002476444\" stroke-linecap=\"round\" style=\"stroke:white;stroke-width:4\"/><line x1=\"352.75385269525475\" y1=\"204.69244002476444\" x2=\"351.2309607785165\" y2=\"205.98889681538\" stroke-linecap=\"round\" style=\"stroke:white;stroke-width:4\"/><line x1=\"351.2309607785165\" y1=\"205.98889681538\" x2=\"349.75040478436586\" y2=\"207.33349859590263\" stroke-linecap=\"round\" style=\"stroke:white;stroke-width:4\"/><line x1=\"349.75040478436586\" y1=\"207.33349859590263\" x2=\"348.3137060841704\" y2=\"208.72486369710958\" stroke-linecap=\"round\" style=\"stroke:white;stroke-width:4\"/><line x1=\"348.3137060841704\" y1=\"208.72486369710958\" x2=\"346.9223409829634\" y2=\"210.16156239730503\" stroke-linecap=\"round\" style=\"stroke:white;stroke-width:4\"/><line x1=\"346.9223409829634\" y1=\"210.16156239730503\" x2=\"345.5777392024408\" y2=\"211.64211839145565\" stroke-linecap=\"round\" style=\"stroke:white;stroke-width:4\"/><line x1=\"345.5777392024408\" y1=\"211.64211839145565\" x2=\"344.2812824118252\" y2=\"213.16501030819393\" stroke-linecap=\"round\" style=\"stroke:white;stroke-width:4\"/><line x1=\"344.2812824118252\" y1=\"213.16501030819393\" x2=\"343.0343028081077\" y2=\"214.72867327312997\" stroke-linecap=\"round\" style=\"stroke:white;stroke-width:4\"/><line x1=\"343.0343028081077\" y1=\"214.72867327312997\" x2=\"341.8380817471253\" y2=\"216.33150051686587\" stroke-linecap=\"round\" style=\"stroke:white;stroke-width:4\"/><line x1=\"341.8380817471253\" y1=\"216.33150051686587\" x2=\"340.69384842688095\" y2=\"217.97184502605978\" stroke-linecap=\"round\" style=\"stroke:white;stroke-width:4\"/><line x1=\"340.69384842688095\" y1=\"217.97184502605978\" x2=\"339.60277862445986\" y2=\"219.64802123584346\" stroke-linecap=\"round\" style=\"stroke:white;stroke-width:4\"/><line x1=\"339.60277862445986\" y1=\"219.64802123584346\" x2=\"338.5659934878388\" y2=\"221.35830676185415\" stroke-linecap=\"round\" style=\"stroke:white;stroke-width:4\"/><line x1=\"338.5659934878388\" y1=\"221.35830676185415\" x2=\"337.5845583838309\" y2=\"223.10094417010092\" stroke-linecap=\"round\" style=\"stroke:white;stroke-width:4\"/><line x1=\"337.5845583838309\" y1=\"223.10094417010092\" x2=\"336.6594818033492\" y2=\"224.87414278284692\" stroke-linecap=\"round\" style=\"stroke:white;stroke-width:4\"/><line x1=\"336.6594818033492\" y1=\"224.87414278284692\" x2=\"335.79171432511407\" y2=\"226.67608051865176\" stroke-linecap=\"round\" style=\"stroke:white;stroke-width:4\"/><line x1=\"335.79171432511407\" y1=\"226.67608051865176\" x2=\"334.98214763886926\" y2=\"228.50490576468337\" stroke-linecap=\"round\" style=\"stroke:white;stroke-width:4\"/><line x1=\"334.98214763886926\" y1=\"228.50490576468337\" x2=\"334.2316136291105\" y2=\"230.3587392793754\" stroke-linecap=\"round\" style=\"stroke:white;stroke-width:4\"/><line x1=\"334.2316136291105\" y1=\"230.3587392793754\" x2=\"333.54088352026787\" y2=\"232.23567612347492\" stroke-linecap=\"round\" style=\"stroke:white;stroke-width:4\"/><line x1=\"333.54088352026787\" y1=\"232.23567612347492\" x2=\"332.9106670842206\" y2=\"234.13378761749624\" stroke-linecap=\"round\" style=\"stroke:white;stroke-width:4\"/><line x1=\"332.9106670842206\" y1=\"234.13378761749624\" x2=\"332.34161191095853\" y2=\"236.05112332356956\" stroke-linecap=\"round\" style=\"stroke:white;stroke-width:4\"/><line x1=\"332.34161191095853\" y1=\"236.05112332356956\" x2=\"331.8343027431395\" y2=\"237.98571304964761\" stroke-linecap=\"round\" style=\"stroke:white;stroke-width:4\"/><line x1=\"331.8343027431395\" y1=\"237.98571304964761\" x2=\"331.38926087522685\" y2=\"239.93556887401127\" stroke-linecap=\"round\" style=\"stroke:white;stroke-width:4\"/><line x1=\"331.38926087522685\" y1=\"239.93556887401127\" x2=\"331.0069436178241\" y2=\"241.8986871879934\" stroke-linecap=\"round\" style=\"stroke:white;stroke-width:4\"/><line x1=\"331.0069436178241\" y1=\"241.8986871879934\" x2=\"330.68774382775734\" y2=\"243.8730507548223\" stroke-linecap=\"round\" style=\"stroke:white;stroke-width:4\"/><line x1=\"330.68774382775734\" y1=\"243.8730507548223\" x2=\"330.4319895043883\" y2=\"245.85663078246878\" stroke-linecap=\"round\" style=\"stroke:white;stroke-width:4\"/><line x1=\"330.4319895043883\" y1=\"245.85663078246878\" x2=\"330.2399434525729\" y2=\"247.84738900836717\" stroke-linecap=\"round\" style=\"stroke:white;stroke-width:4\"/><line x1=\"330.2399434525729\" y1=\"247.84738900836717\" x2=\"330.11180301261146\" y2=\"249.84327979386785\" stroke-linecap=\"round\" style=\"stroke:white;stroke-width:4\"/><line x1=\"330.11180301261146\" y1=\"249.84327979386785\" x2=\"330.04769985746816\" y2=\"251.84225222626924\" stroke-linecap=\"round\" style=\"stroke:white;stroke-width:4\"/><line x1=\"330.04769985746816\" y1=\"251.84225222626924\" x2=\"330.04769985746816\" y2=\"253.84225222626924\" stroke-linecap=\"round\" style=\"stroke:white;stroke-width:4\"/><line x1=\"330.04769985746816\" y1=\"253.84225222626924\" x2=\"330.10928997458046\" y2=\"255.84130366569596\" stroke-linecap=\"round\" style=\"stroke:white;stroke-width:4\"/><line x1=\"330.10928997458046\" y1=\"255.84130366569596\" x2=\"330.23241178684833\" y2=\"257.83751032317\" stroke-linecap=\"round\" style=\"stroke:white;stroke-width:4\"/><line x1=\"330.23241178684833\" y1=\"257.83751032317\" x2=\"330.41694850577494\" y2=\"259.8289786757601\" stroke-linecap=\"round\" style=\"stroke:white;stroke-width:4\"/><line x1=\"330.41694850577494\" y1=\"259.8289786757601\" x2=\"330.6627250871044\" y2=\"261.813819695104\" stroke-linecap=\"round\" style=\"stroke:white;stroke-width:4\"/><line x1=\"330.6627250871044\" y1=\"261.813819695104\" x2=\"330.9695083968617\" y2=\"263.79015063926647\" stroke-linecap=\"round\" style=\"stroke:white;stroke-width:4\"/><line x1=\"330.9695083968617\" y1=\"263.79015063926647\" x2=\"331.33700743249483\" y2=\"265.7560968386343\" stroke-linecap=\"round\" style=\"stroke:white;stroke-width:4\"/><line x1=\"331.33700743249483\" y1=\"265.7560968386343\" x2=\"331.7648735989078\" y2=\"267.70979347415346\" stroke-linecap=\"round\" style=\"stroke:white;stroke-width:4\"/><line x1=\"331.7648735989078\" y1=\"267.70979347415346\" x2=\"332.25270103912453\" y2=\"269.6493873462235\" stroke-linecap=\"round\" style=\"stroke:white;stroke-width:4\"/><line x1=\"332.25270103912453\" y1=\"269.6493873462235\" x2=\"332.80002701926867\" y2=\"271.57303863256914\" stroke-linecap=\"round\" style=\"stroke:white;stroke-width:4\"/><line x1=\"332.80002701926867\" y1=\"271.57303863256914\" x2=\"333.4063323674947\" y2=\"273.47892263342345\" stroke-linecap=\"round\" style=\"stroke:white;stroke-width:4\"/><line x1=\"333.4063323674947\" y1=\"273.47892263342345\" x2=\"334.071041966454\" y2=\"275.365231502366\" stroke-linecap=\"round\" style=\"stroke:white;stroke-width:4\"/><line x1=\"334.071041966454\" y1=\"275.365231502366\" x2=\"334.7935252988283\" y2=\"277.2301759611747\" stroke-linecap=\"round\" style=\"stroke:white;stroke-width:4\"/><line x1=\"334.7935252988283\" y1=\"277.2301759611747\" x2=\"335.57309704541365\" y2=\"279.07198699706464\" stroke-linecap=\"round\" style=\"stroke:white;stroke-width:4\"/><line x1=\"335.57309704541365\" y1=\"279.07198699706464\" x2=\"336.4090177351872\" y2=\"280.8889175407037\" stroke-linecap=\"round\" style=\"stroke:white;stroke-width:4\"/><line x1=\"336.4090177351872\" y1=\"280.8889175407037\" x2=\"337.3004944467403\" y2=\"282.6792441234138\" stroke-linecap=\"round\" style=\"stroke:white;stroke-width:4\"/><line x1=\"337.3004944467403\" y1=\"282.6792441234138\" x2=\"338.2466815604123\" y2=\"284.4412685119854\" stroke-linecap=\"round\" style=\"stroke:white;stroke-width:4\"/><line x1=\"338.2466815604123\" y1=\"284.4412685119854\" x2=\"339.2466815604123\" y2=\"286.1733193195543\" stroke-linecap=\"round\" style=\"stroke:white;stroke-width:4\"/><line x1=\"339.2466815604123\" y1=\"286.1733193195543\" x2=\"340.299545886167\" y2=\"287.87375359101355\" stroke-linecap=\"round\" style=\"stroke:white;stroke-width:4\"/><line x1=\"340.299545886167\" y1=\"287.87375359101355\" x2=\"341.404275832088\" y2=\"289.5409583614558\" stroke-linecap=\"round\" style=\"stroke:white;stroke-width:4\"/><line x1=\"341.404275832088\" y1=\"289.5409583614558\" x2=\"342.5598234949045\" y2=\"291.17335218616824\" stroke-linecap=\"round\" style=\"stroke:white;stroke-width:4\"/><line x1=\"342.5598234949045\" y1=\"291.17335218616824\" x2=\"343.76509276766296\" y2=\"292.7693866407287\" stroke-linecap=\"round\" style=\"stroke:white;stroke-width:4\"/><line x1=\"343.76509276766296\" y1=\"292.7693866407287\" x2=\"345.0189403794512\" y2=\"294.32754778978006\" stroke-linecap=\"round\" style=\"stroke:white;stroke-width:4\"/><line x1=\"345.0189403794512\" y1=\"294.32754778978006\" x2=\"346.32017697985964\" y2=\"295.8463576230895\" stroke-linecap=\"round\" style=\"stroke:white;stroke-width:4\"/><line x1=\"346.32017697985964\" y1=\"295.8463576230895\" x2=\"347.6675682671527\" y2=\"297.32437545753083\" stroke-linecap=\"round\" style=\"stroke:white;stroke-width:4\"/><line x1=\"347.6675682671527\" y1=\"297.32437545753083\" x2=\"349.05983615907854\" y2=\"298.7601993036597\" stroke-linecap=\"round\" style=\"stroke:white;stroke-width:4\"/><line x1=\"349.05983615907854\" y1=\"298.7601993036597\" x2=\"350.4956600052074\" y2=\"300.1524671955856\" stroke-linecap=\"round\" style=\"stroke:white;stroke-width:4\"/><line x1=\"350.4956600052074\" y1=\"300.1524671955856\" x2=\"351.9736778396487\" y2=\"301.4998584828787\" stroke-linecap=\"round\" style=\"stroke:white;stroke-width:4\"/><line x1=\"351.9736778396487\" y1=\"301.4998584828787\" x2=\"353.4924876729581\" y2=\"302.80109508328724\" stroke-linecap=\"round\" style=\"stroke:white;stroke-width:4\"/><line x1=\"353.4924876729581\" y1=\"302.80109508328724\" x2=\"355.0506488220094\" y2=\"304.05494269507545\" stroke-linecap=\"round\" style=\"stroke:white;stroke-width:4\"/><line x1=\"355.0506488220094\" y1=\"304.05494269507545\" x2=\"356.6466832765699\" y2=\"305.260211967834\" stroke-linecap=\"round\" style=\"stroke:white;stroke-width:4\"/><line x1=\"356.6466832765699\" y1=\"305.260211967834\" x2=\"358.2790771012823\" y2=\"306.4157596306505\" stroke-linecap=\"round\" style=\"stroke:white;stroke-width:4\"/><line x1=\"358.2790771012823\" y1=\"306.4157596306505\" x2=\"359.9462818717246\" y2=\"307.5204895765715\" stroke-linecap=\"round\" style=\"stroke:white;stroke-width:4\"/><line x1=\"359.9462818717246\" y1=\"307.5204895765715\" x2=\"361.6467161431838\" y2=\"308.57335390232623\" stroke-linecap=\"round\" style=\"stroke:white;stroke-width:4\"/><line x1=\"361.6467161431838\" y1=\"308.57335390232623\" x2=\"363.3787669507527\" y2=\"309.57335390232623\" stroke-linecap=\"round\" style=\"stroke:white;stroke-width:4\"/><line x1=\"363.3787669507527\" y1=\"309.57335390232623\" x2=\"365.14079133932427\" y2=\"310.51954101599824\" stroke-linecap=\"round\" style=\"stroke:white;stroke-width:4\"/><line x1=\"365.14079133932427\" y1=\"310.51954101599824\" x2=\"366.9311179220344\" y2=\"311.4110177275513\" stroke-linecap=\"round\" style=\"stroke:white;stroke-width:4\"/><line x1=\"366.9311179220344\" y1=\"311.4110177275513\" x2=\"368.74804846567343\" y2=\"312.2469384173249\" stroke-linecap=\"round\" style=\"stroke:white;stroke-width:4\"/><line x1=\"368.74804846567343\" y1=\"312.2469384173249\" x2=\"370.58985950156335\" y2=\"313.02651016391025\" stroke-linecap=\"round\" style=\"stroke:white;stroke-width:4\"/><line x1=\"370.58985950156335\" y1=\"313.02651016391025\" x2=\"372.45480396037203\" y2=\"313.7489934962846\" stroke-linecap=\"round\" style=\"stroke:white;stroke-width:4\"/><line x1=\"372.45480396037203\" y1=\"313.7489934962846\" x2=\"374.34111282931457\" y2=\"314.41370309524393\" stroke-linecap=\"round\" style=\"stroke:white;stroke-width:4\"/><line x1=\"374.34111282931457\" y1=\"314.41370309524393\" x2=\"376.2469968301689\" y2=\"315.02000844347003\" stroke-linecap=\"round\" style=\"stroke:white;stroke-width:4\"/><line x1=\"376.2469968301689\" y1=\"315.02000844347003\" x2=\"378.17064811651454\" y2=\"315.5673344236142\" stroke-linecap=\"round\" style=\"stroke:white;stroke-width:4\"/><line x1=\"378.17064811651454\" y1=\"315.5673344236142\" x2=\"380.11024198858456\" y2=\"316.055161863831\" stroke-linecap=\"round\" style=\"stroke:white;stroke-width:4\"/><line x1=\"380.11024198858456\" y1=\"316.055161863831\" x2=\"382.06393862410374\" y2=\"316.48302803024404\" stroke-linecap=\"round\" style=\"stroke:white;stroke-width:4\"/><line x1=\"382.06393862410374\" y1=\"316.48302803024404\" x2=\"384.02988482347155\" y2=\"316.8505270658772\" stroke-linecap=\"round\" style=\"stroke:white;stroke-width:4\"/><line x1=\"384.02988482347155\" y1=\"316.8505270658772\" x2=\"386.00621576763405\" y2=\"317.1573103756346\" stroke-linecap=\"round\" style=\"stroke:white;stroke-width:4\"/><line x1=\"386.00621576763405\" y1=\"317.1573103756346\" x2=\"387.99105678697794\" y2=\"317.40308695696405\" stroke-linecap=\"round\" style=\"stroke:white;stroke-width:4\"/><line x1=\"387.99105678697794\" y1=\"317.40308695696405\" x2=\"389.982525139568\" y2=\"317.58762367589065\" stroke-linecap=\"round\" style=\"stroke:white;stroke-width:4\"/><line x1=\"389.982525139568\" y1=\"317.58762367589065\" x2=\"391.9787317970421\" y2=\"317.7107454881586\" stroke-linecap=\"round\" style=\"stroke:white;stroke-width:4\"/><line x1=\"391.9787317970421\" y1=\"317.7107454881586\" x2=\"393.97778323646884\" y2=\"317.77233560527094\" stroke-linecap=\"round\" style=\"stroke:white;stroke-width:4\"/><line x1=\"393.97778323646884\" y1=\"317.77233560527094\" x2=\"395.97778323646884\" y2=\"317.77233560527094\" stroke-linecap=\"round\" style=\"stroke:white;stroke-width:4\"/><line x1=\"395.97778323646884\" y1=\"317.77233560527094\" x2=\"397.97693713663324\" y2=\"317.71416616778475\" stroke-linecap=\"round\" style=\"stroke:white;stroke-width:4\"/><line x1=\"397.97693713663324\" y1=\"317.71416616778475\" x2=\"399.9735534531758\" y2=\"317.59787650996384\" stroke-linecap=\"round\" style=\"stroke:white;stroke-width:4\"/><line x1=\"399.9735534531758\" y1=\"317.59787650996384\" x2=\"401.9659428493593\" y2=\"317.42356502446853\" stroke-linecap=\"round\" style=\"stroke:white;stroke-width:4\"/><line x1=\"401.9659428493593\" y1=\"317.42356502446853\" x2=\"403.9524195648432\" y2=\"317.19137919621807\" stroke-linecap=\"round\" style=\"stroke:white;stroke-width:4\"/><line x1=\"403.9524195648432\" y1=\"317.19137919621807\" x2=\"405.9313028420051\" y2=\"316.9015154776036\" stroke-linecap=\"round\" style=\"stroke:white;stroke-width:4\"/><line x1=\"405.9313028420051\" y1=\"316.9015154776036\" x2=\"407.9009183480295\" y2=\"316.5542191222697\" stroke-linecap=\"round\" style=\"stroke:white;stroke-width:4\"/><line x1=\"407.9009183480295\" y1=\"316.5542191222697\" x2=\"409.8595995915606\" y2=\"316.14978397760564\" stroke-linecap=\"round\" style=\"stroke:white;stroke-width:4\"/><line x1=\"409.8595995915606\" y1=\"316.14978397760564\" x2=\"411.80568933272025\" y2=\"315.68855223612076\" stroke-linecap=\"round\" style=\"stroke:white;stroke-width:4\"/><line x1=\"411.80568933272025\" y1=\"315.68855223612076\" x2=\"413.7375409852984\" y2=\"315.17091414591573\" stroke-linecap=\"round\" style=\"stroke:white;stroke-width:4\"/><line x1=\"413.7375409852984\" y1=\"315.17091414591573\" x2=\"415.65352000992937\" y2=\"314.59730768049354\" stroke-linecap=\"round\" style=\"stroke:white;stroke-width:4\"/><line x1=\"415.65352000992937\" y1=\"314.59730768049354\" x2=\"417.5520052970754\" y2=\"313.96821816819033\" stroke-linecap=\"round\" style=\"stroke:white;stroke-width:4\"/><line x1=\"417.5520052970754\" y1=\"313.96821816819033\" x2=\"419.43139053864724\" y2=\"313.284177881539\" stroke-linecap=\"round\" style=\"stroke:white;stroke-width:4\"/><line x1=\"419.43139053864724\" y1=\"313.284177881539\" x2=\"421.29008558710086\" y2=\"312.5457655869136\" stroke-linecap=\"round\" style=\"stroke:white;stroke-width:4\"/><line x1=\"421.29008558710086\" y1=\"312.5457655869136\" x2=\"423.1265178008614\" y2=\"311.7536060548353\" stroke-linecap=\"round\" style=\"stroke:white;stroke-width:4\"/><line x1=\"423.1265178008614\" y1=\"311.7536060548353\" x2=\"424.93913337493467\" y2=\"310.9083695313539\" stroke-linecap=\"round\" style=\"stroke:white;stroke-width:4\"/><line x1=\"424.93913337493467\" y1=\"310.9083695313539\" x2=\"426.7263986555815\" y2=\"310.010771170953\" stroke-linecap=\"round\" style=\"stroke:white;stroke-width:4\"/><line x1=\"426.7263986555815\" y1=\"310.010771170953\" x2=\"428.4868014379417\" y2=\"309.0615704314577\" stroke-linecap=\"round\" style=\"stroke:white;stroke-width:4\"/><line x1=\"428.4868014379417\" y1=\"309.0615704314577\" x2=\"430.2188522455106\" y2=\"308.0615704314577\" stroke-linecap=\"round\" style=\"stroke:white;stroke-width:4\"/><line x1=\"430.2188522455106\" y1=\"308.0615704314577\" x2=\"431.9210855903846\" y2=\"307.0116172707886\" stroke-linecap=\"round\" style=\"stroke:white;stroke-width:4\"/><line x1=\"431.9210855903846\" y1=\"307.0116172707886\" x2=\"433.5920612132105\" y2=\"305.91259931464697\" stroke-linecap=\"round\" style=\"stroke:white;stroke-width:4\"/><line x1=\"433.5920612132105\" y1=\"305.91259931464697\" x2=\"435.2303653017885\" y2=\"304.7654464419449\" stroke-linecap=\"round\" style=\"stroke:white;stroke-width:4\"/><line x1=\"435.2303653017885\" y1=\"304.7654464419449\" x2=\"436.83461168729855\" y2=\"303.5711292585393\" stroke-linecap=\"round\" style=\"stroke:white;stroke-width:4\"/><line x1=\"436.83461168729855\" y1=\"303.5711292585393\" x2=\"438.4034430171377\" y2=\"302.3306582760028\" stroke-linecap=\"round\" style=\"stroke:white;stroke-width:4\"/><line x1=\"438.4034430171377\" y1=\"302.3306582760028\" x2=\"439.93553190337565\" y2=\"301.0450830566297\" stroke-linecap=\"round\" style=\"stroke:white;stroke-width:4\"/><line x1=\"439.93553190337565\" y1=\"301.0450830566297\" x2=\"441.4295820458576\" y2=\"299.71549132540184\" stroke-linecap=\"round\" style=\"stroke:white;stroke-width:4\"/><line x1=\"441.4295820458576\" y1=\"299.71549132540184\" x2=\"442.8843293290037\" y2=\"298.3430080496644\" stroke-linecap=\"round\" style=\"stroke:white;stroke-width:4\"/><line x1=\"442.8843293290037\" y1=\"298.3430080496644\" x2=\"444.2985428913768\" y2=\"296.92879448729127\" stroke-linecap=\"round\" style=\"stroke:white;stroke-width:4\"/><line x1=\"444.2985428913768\" y1=\"296.92879448729127\" x2=\"445.6710261671143\" y2=\"295.47404720414517\" stroke-linecap=\"round\" style=\"stroke:white;stroke-width:4\"/><line x1=\"445.6710261671143\" y1=\"295.47404720414517\" x2=\"447.00061789834217\" y2=\"293.9799970616632\" stroke-linecap=\"round\" style=\"stroke:white;stroke-width:4\"/><line x1=\"447.00061789834217\" y1=\"293.9799970616632\" x2=\"448.28619311771524\" y2=\"292.44790817542525\" stroke-linecap=\"round\" style=\"stroke:white;stroke-width:4\"/><line x1=\"448.28619311771524\" y1=\"292.44790817542525\" x2=\"449.52666410025176\" y2=\"290.8790768455861\" stroke-linecap=\"round\" style=\"stroke:white;stroke-width:4\"/><line x1=\"449.52666410025176\" y1=\"290.8790768455861\" x2=\"450.72098128365735\" y2=\"289.27483046007603\" stroke-linecap=\"round\" style=\"stroke:white;stroke-width:4\"/><line x1=\"450.72098128365735\" y1=\"289.27483046007603\" x2=\"451.8681341563594\" y2=\"287.63652637149806\" stroke-linecap=\"round\" style=\"stroke:white;stroke-width:4\"/><line x1=\"451.8681341563594\" y1=\"287.63652637149806\" x2=\"452.967152112501\" y2=\"285.9655507486722\" stroke-linecap=\"round\" style=\"stroke:white;stroke-width:4\"/><line x1=\"452.967152112501\" y1=\"285.9655507486722\" x2=\"454.01710527317016\" y2=\"284.26331740379817\" stroke-linecap=\"round\" style=\"stroke:white;stroke-width:4\"/><line x1=\"454.01710527317016\" y1=\"284.26331740379817\" x2=\"455.01710527317016\" y2=\"282.5312665962293\" stroke-linecap=\"round\" style=\"stroke:white;stroke-width:4\"/><line x1=\"455.01710527317016\" y1=\"282.5312665962293\" x2=\"455.9663060126654\" y2=\"280.770863813869\" stroke-linecap=\"round\" style=\"stroke:white;stroke-width:4\"/><line x1=\"455.9663060126654\" y1=\"280.770863813869\" x2=\"456.86390437306636\" y2=\"278.9835985332222\" stroke-linecap=\"round\" style=\"stroke:white;stroke-width:4\"/><line x1=\"456.86390437306636\" y1=\"278.9835985332222\" x2=\"457.70914089654775\" y2=\"277.17098295914894\" stroke-linecap=\"round\" style=\"stroke:white;stroke-width:4\"/><line x1=\"457.70914089654775\" y1=\"277.17098295914894\" x2=\"458.50130042862605\" y2=\"275.3345507453884\" stroke-linecap=\"round\" style=\"stroke:white;stroke-width:4\"/><line x1=\"458.50130042862605\" y1=\"275.3345507453884\" x2=\"459.2397127232514\" y2=\"273.4758556969348\" stroke-linecap=\"round\" style=\"stroke:white;stroke-width:4\"/><line x1=\"459.2397127232514\" y1=\"273.4758556969348\" x2=\"459.9237530099027\" y2=\"271.596470455363\" stroke-linecap=\"round\" style=\"stroke:white;stroke-width:4\"/><line x1=\"459.9237530099027\" y1=\"271.596470455363\" x2=\"460.55284252220594\" y2=\"269.6979851682169\" stroke-linecap=\"round\" style=\"stroke:white;stroke-width:4\"/><line x1=\"460.55284252220594\" y1=\"269.6979851682169\" x2=\"461.1264489876281\" y2=\"267.78200614358593\" stroke-linecap=\"round\" style=\"stroke:white;stroke-width:4\"/><line x1=\"461.1264489876281\" y1=\"267.78200614358593\" x2=\"461.64408707783315\" y2=\"265.8501544910078\" stroke-linecap=\"round\" style=\"stroke:white;stroke-width:4\"/><line x1=\"461.64408707783315\" y1=\"265.8501544910078\" x2=\"462.10531881931803\" y2=\"263.90406474984815\" stroke-linecap=\"round\" style=\"stroke:white;stroke-width:4\"/><line x1=\"462.10531881931803\" y1=\"263.90406474984815\" x2=\"462.50975396398206\" y2=\"261.94538350631706\" stroke-linecap=\"round\" style=\"stroke:white;stroke-width:4\"/><line x1=\"462.50975396398206\" y1=\"261.94538350631706\" x2=\"462.85705031931593\" y2=\"259.97576800029265\" stroke-linecap=\"round\" style=\"stroke:white;stroke-width:4\"/><line x1=\"462.85705031931593\" y1=\"259.97576800029265\" x2=\"463.1469140379304\" y2=\"257.99688472313073\" stroke-linecap=\"round\" style=\"stroke:white;stroke-width:4\"/><line x1=\"463.1469140379304\" y1=\"257.99688472313073\" x2=\"463.37909986618087\" y2=\"256.01040800764684\" stroke-linecap=\"round\" style=\"stroke:white;stroke-width:4\"/><line x1=\"463.37909986618087\" y1=\"256.01040800764684\" x2=\"463.5534113516762\" y2=\"254.01801861146336\" stroke-linecap=\"round\" style=\"stroke:white;stroke-width:4\"/><line x1=\"463.5534113516762\" y1=\"254.01801861146336\" x2=\"463.6697010094971\" y2=\"252.02140229492082\" stroke-linecap=\"round\" style=\"stroke:white;stroke-width:4\"/><line x1=\"463.6697010094971\" y1=\"252.02140229492082\" x2=\"463.7278704469833\" y2=\"250.02224839475642\" stroke-linecap=\"round\" style=\"stroke:white;stroke-width:4\"/>\n",
              "        \n",
              "      <g visibility=visible transform=\"rotate(179.99999999999943,463.7278704469833,250.02224839475642) translate(463.7278704469833, 250.02224839475642)\">\n",
              "        <circle stroke=\"white\" stroke-width=\"3\" fill=\"transparent\" r=\"12\" cx=\"0\" cy=\"0\"/>\n",
              "        <polygon points=\"0,19 3,16 -3,16\" style=\"fill:white;stroke:white;stroke-width:2\"/>\n",
              "      </g>\n",
              "    \n",
              "      </svg>\n",
              "    "
            ],
            "text/plain": [
              "<IPython.core.display.HTML object>"
            ]
          },
          "metadata": {
            "tags": []
          }
        }
      ]
    }
  ]
}