{
  "nbformat": 4,
  "nbformat_minor": 0,
  "metadata": {
    "colab": {
      "name": "edinaldo_aula_1_3.ipynb",
      "provenance": [],
      "authorship_tag": "ABX9TyPYowDKft/guTUxwkIBaCr5",
      "include_colab_link": true
    },
    "kernelspec": {
      "name": "python3",
      "display_name": "Python 3"
    }
  },
  "cells": [
    {
      "cell_type": "markdown",
      "metadata": {
        "id": "view-in-github",
        "colab_type": "text"
      },
      "source": [
        "<a href=\"https://colab.research.google.com/github/Edinaldobjr/aulas_de_python/blob/master/exercicios/edinaldo_aula_1_3.ipynb\" target=\"_parent\"><img src=\"https://colab.research.google.com/assets/colab-badge.svg\" alt=\"Open In Colab\"/></a>"
      ]
    },
    {
      "cell_type": "markdown",
      "metadata": {
        "id": "RwV4N8TKq32v",
        "colab_type": "text"
      },
      "source": [
        "3. Inicie o interpretador Python e use-o como uma calculadora. A sintaxe do Python para operações matemáticas é quase igual à notação matemática padrão:\n",
        "\n",
        "  adição: +\n",
        "\n",
        "  subtração: -\n",
        "\n",
        "  divisão: /\n",
        "\n",
        "  multiplicação: *\n",
        "\n",
        "  Se você fizer uma corrida de 10 quilômetros em 43 minutos e 30 segundos, qual será seu tempo médio por milha? Qual é a sua velocidade média em milhas por hora? (Dica: há 1,61 quilômetros em uma milha)."
      ]
    },
    {
      "cell_type": "code",
      "metadata": {
        "id": "84tb4Ho2q7EU",
        "colab_type": "code",
        "colab": {
          "base_uri": "https://localhost:8080/",
          "height": 68
        },
        "outputId": "f1b61ae0-021a-49bc-af91-ffaa4b8a481b"
      },
      "source": [
        "print('Distância percorrida 10 km '\n",
        "      'no intervalo de tempo de 43 min e 30 seg.')\n",
        "dist_km = 10      # Distancia em Quilômetros\n",
        "dist_mi = dist_km / 1.61    # Conversão de Quilômetros para Milhas\n",
        "\n",
        "print('\\nA distância é de {:.2f} milhas'.format(dist_mi), end=' ')\n",
        "\n",
        "tempo_min = 43\n",
        "tempo_seg = 30\n",
        "tempo_total_hora = (tempo_min / 60) + (tempo_seg / 3600)\n",
        "\n",
        "velocidade_milhas = dist_mi / tempo_total_hora\n",
        "\n",
        "print('com velocidade média é de {:.2f} milhas por hora.'.format(velocidade_milhas))"
      ],
      "execution_count": null,
      "outputs": [
        {
          "output_type": "stream",
          "text": [
            "Distância percorrida 10 km no intervalo de tempo de 43 min e 30 seg.\n",
            "\n",
            "A distância é de 6.21 milhas com velocidade média é de 8.57 milhas por hora.\n"
          ],
          "name": "stdout"
        }
      ]
    }
  ]
}