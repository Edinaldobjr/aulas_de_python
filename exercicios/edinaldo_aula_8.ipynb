{
  "nbformat": 4,
  "nbformat_minor": 0,
  "metadata": {
    "colab": {
      "name": "edinaldo_aula_8.ipynb",
      "provenance": [],
      "collapsed_sections": [],
      "authorship_tag": "ABX9TyOtx0PT1e1Wn39K2A8wGERf",
      "include_colab_link": true
    },
    "kernelspec": {
      "name": "python3",
      "display_name": "Python 3"
    }
  },
  "cells": [
    {
      "cell_type": "markdown",
      "metadata": {
        "id": "view-in-github",
        "colab_type": "text"
      },
      "source": [
        "<a href=\"https://colab.research.google.com/github/Edinaldobjr/aulas_de_python/blob/master/exercicios/edinaldo_aula_8.ipynb\" target=\"_parent\"><img src=\"https://colab.research.google.com/assets/colab-badge.svg\" alt=\"Open In Colab\"/></a>"
      ]
    },
    {
      "cell_type": "markdown",
      "metadata": {
        "id": "QuAg2OjIJ36Y"
      },
      "source": [
        "## Exercício\n",
        "\n",
        "1. Resolução numérica de equações diferenciais. Imagine que tem um/a maratonista treinando, que num trecho de $5 km$ tem velocidade quase constante de $12 km/h$. Produza uma lista distância percorrida em intervalos de 1 minuto. \n",
        "\n",
        "\n",
        "\n",
        "\n"
      ]
    },
    {
      "cell_type": "code",
      "metadata": {
        "id": "52OoQHyXDoQ1",
        "outputId": "12ae3d68-ae22-4b1c-e581-19d9511e8099",
        "colab": {
          "base_uri": "https://localhost:8080/",
          "height": 490
        }
      },
      "source": [
        "def velocidade_min(velocidade):\n",
        "    x = velocidade / 60\n",
        "    return x\n",
        "\n",
        "distancia_final = 5\n",
        "velocidade_media = 12\n",
        "velocidade = velocidade_min(velocidade_media)\n",
        "tempo = int(distancia_final / velocidade)\n",
        "\n",
        "lista = []\n",
        "temp = []\n",
        "\n",
        "for t in range(tempo+1):\n",
        "    temp.append(t)\n",
        "    dist = t * velocidade\n",
        "    lista.append(round(dist,3))\n",
        "\n",
        "for t in range(len(lista)):\n",
        "    print(f'{temp[t]:2} min - {lista[t]} km')\n"
      ],
      "execution_count": 63,
      "outputs": [
        {
          "output_type": "stream",
          "text": [
            " 0 min - 0.0 km\n",
            " 1 min - 0.2 km\n",
            " 2 min - 0.4 km\n",
            " 3 min - 0.6 km\n",
            " 4 min - 0.8 km\n",
            " 5 min - 1.0 km\n",
            " 6 min - 1.2 km\n",
            " 7 min - 1.4 km\n",
            " 8 min - 1.6 km\n",
            " 9 min - 1.8 km\n",
            "10 min - 2.0 km\n",
            "11 min - 2.2 km\n",
            "12 min - 2.4 km\n",
            "13 min - 2.6 km\n",
            "14 min - 2.8 km\n",
            "15 min - 3.0 km\n",
            "16 min - 3.2 km\n",
            "17 min - 3.4 km\n",
            "18 min - 3.6 km\n",
            "19 min - 3.8 km\n",
            "20 min - 4.0 km\n",
            "21 min - 4.2 km\n",
            "22 min - 4.4 km\n",
            "23 min - 4.6 km\n",
            "24 min - 4.8 km\n",
            "25 min - 5.0 km\n"
          ],
          "name": "stdout"
        }
      ]
    },
    {
      "cell_type": "markdown",
      "metadata": {
        "id": "y5pwiuQhDoHE"
      },
      "source": [
        "2. O/A mesmo/a atleta no seguinte trecho acelera  por $200$ metros até chegar em $15 km/h$  por $2 km$. Queremos obter uma tabela ou gráfico da distância percorrida en função do tempo e o tempo total para chegar em $7 km$, faça isto utilizando listas. "
      ]
    },
    {
      "cell_type": "code",
      "metadata": {
        "id": "J7nzDYOeDn-n",
        "outputId": "5b1edbc6-cd4f-4dbc-f7c8-4e9af7fc613a",
        "colab": {
          "base_uri": "https://localhost:8080/",
          "height": 654
        }
      },
      "source": [
        "def velocidade_min(velocidade):\n",
        "    x = velocidade / 60\n",
        "    return x\n",
        "\n",
        "velocidade_media_dois = 15\n",
        "distancia_final = 7\n",
        "distancia_inicial = 5\n",
        "\n",
        "velocidade_dois = velocidade_min(velocidade_media_dois)\n",
        "\n",
        "tempo_dois = int((distancia_final - distancia_inicial) / velocidade_dois)\n",
        "\n",
        "intervalo = [x for x in range(26)]                  # Cria a lista intervalo de tempo de 0 a 25 s.\n",
        "espaco = [x/1000 for x in range(0,5200,200)]        # Cria a lista espaco de 0 a 5 com intervalos de 0.2 km.\n",
        "\n",
        "for t in range(tempo_dois + 1):\n",
        "    intervalo.append(tempo + t)\n",
        "    dist = distancia_inicial + t * velocidade_dois\n",
        "    espaco.append(round(dist,3))\n",
        "  \n",
        "\n",
        "for t in range(len(espaco)):\n",
        "    print(f'{intervalo[t]:2} min - {espaco[t]:.2f} km')"
      ],
      "execution_count": 62,
      "outputs": [
        {
          "output_type": "stream",
          "text": [
            " 0 min - 0.00 km\n",
            " 1 min - 0.20 km\n",
            " 2 min - 0.40 km\n",
            " 3 min - 0.60 km\n",
            " 4 min - 0.80 km\n",
            " 5 min - 1.00 km\n",
            " 6 min - 1.20 km\n",
            " 7 min - 1.40 km\n",
            " 8 min - 1.60 km\n",
            " 9 min - 1.80 km\n",
            "10 min - 2.00 km\n",
            "11 min - 2.20 km\n",
            "12 min - 2.40 km\n",
            "13 min - 2.60 km\n",
            "14 min - 2.80 km\n",
            "15 min - 3.00 km\n",
            "16 min - 3.20 km\n",
            "17 min - 3.40 km\n",
            "18 min - 3.60 km\n",
            "19 min - 3.80 km\n",
            "20 min - 4.00 km\n",
            "21 min - 4.20 km\n",
            "22 min - 4.40 km\n",
            "23 min - 4.60 km\n",
            "24 min - 4.80 km\n",
            "25 min - 5.00 km\n",
            "25 min - 5.00 km\n",
            "26 min - 5.25 km\n",
            "27 min - 5.50 km\n",
            "28 min - 5.75 km\n",
            "29 min - 6.00 km\n",
            "30 min - 6.25 km\n",
            "31 min - 6.50 km\n",
            "32 min - 6.75 km\n",
            "33 min - 7.00 km\n"
          ],
          "name": "stdout"
        }
      ]
    },
    {
      "cell_type": "markdown",
      "metadata": {
        "id": "CfmoEtXdDnwf"
      },
      "source": [
        "3. Considere um péndulo simples num plano. O comprimento da linha é $1$ metro, a massa é $0,2 kg$ e a aceleração de gravidade $9,8 m/s^2$. Faça um gráfico ou crie uma tabela para a posição em coordenadas cartesianas em função do tempo, utilizando listas."
      ]
    },
    {
      "cell_type": "code",
      "metadata": {
        "id": "JbKHUDgXDnmp",
        "outputId": "1d72860b-a6b4-431e-9ec8-c953015b7454",
        "colab": {
          "base_uri": "https://localhost:8080/",
          "height": 35
        }
      },
      "source": [
        "import math\n",
        "l = 1         # metro\n",
        "g = 9.81\n",
        "a = 10\n",
        "w = 60\n",
        "t = 0\n",
        "x = a * math.cos(w*t) \n",
        "\n",
        "\n",
        "\n",
        "\n",
        "\n",
        "\n"
      ],
      "execution_count": 34,
      "outputs": [
        {
          "output_type": "stream",
          "text": [
            "[0.0, 10.0, 20.0, 30.0, 40.0, 50.0, 60.0, 70.0, 80.0, 90.0] 10\n"
          ],
          "name": "stdout"
        }
      ]
    },
    {
      "cell_type": "markdown",
      "metadata": {
        "id": "tvMOPmk8DnPD"
      },
      "source": [
        "4. (opcional) Pesquise sobre o pacote `numpy` e os objetos desse pacote chamados `array`, tente utilizálos ao invés de listas para resolver os exercícios.\n"
      ]
    },
    {
      "cell_type": "code",
      "metadata": {
        "id": "wKjNoAw2Dmuv"
      },
      "source": [
        ""
      ],
      "execution_count": null,
      "outputs": []
    },
    {
      "cell_type": "markdown",
      "metadata": {
        "id": "y-NIysYjDzgQ"
      },
      "source": [
        "\n",
        "Dica: podem usar o pacote `matplotlib.pyplot` para fazer um gráfico:"
      ]
    },
    {
      "cell_type": "code",
      "metadata": {
        "id": "XEkSrUBqJ36Z",
        "outputId": "1e2fa87e-f5bb-4c15-ec73-64e3c4bd3c57"
      },
      "source": [
        "import matplotlib.pyplot as plt\n",
        "\n",
        "t=[0,1,2,3,4,5,6,7,8,9,10]\n",
        "x=[0,4.2,8,10,23,30,35,41,44,50,55]\n",
        "\n",
        "plt.plot(t,x)\n",
        "plt.xlabel(\"tempo s\")\n",
        "plt.ylabel(\"distância m\")"
      ],
      "execution_count": null,
      "outputs": [
        {
          "output_type": "execute_result",
          "data": {
            "text/plain": [
              "Text(0, 0.5, 'distância m')"
            ]
          },
          "metadata": {
            "tags": []
          },
          "execution_count": 25
        },
        {
          "output_type": "display_data",
          "data": {
            "image/png": "[encoded data removed]",
            "text/plain": [
              "<Figure size 432x288 with 1 Axes>"
            ]
          },
          "metadata": {
            "tags": [],
            "needs_background": "light"
          }
        }
      ]
    }
  ]
}