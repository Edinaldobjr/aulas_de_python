{
  "nbformat": 4,
  "nbformat_minor": 0,
  "metadata": {
    "colab": {
      "name": "edinaldo_aula_3_1-5.ipynb",
      "provenance": [],
      "authorship_tag": "ABX9TyPVJX83GDrf4aaWWpPGKDf4",
      "include_colab_link": true
    },
    "kernelspec": {
      "name": "python3",
      "display_name": "Python 3"
    }
  },
  "cells": [
    {
      "cell_type": "markdown",
      "metadata": {
        "id": "view-in-github",
        "colab_type": "text"
      },
      "source": [
        "<a href=\"https://colab.research.google.com/github/Edinaldobjr/aulas_de_python/blob/master/exercicios/edinaldo_aula_3_1_5.ipynb\" target=\"_parent\"><img src=\"https://colab.research.google.com/assets/colab-badge.svg\" alt=\"Open In Colab\"/></a>"
      ]
    },
    {
      "cell_type": "markdown",
      "metadata": {
        "id": "kAzo_U0J1QC4",
        "colab_type": "text"
      },
      "source": [
        "## Exercícios:\n",
        "1. Crie uma funcão que tome um argumento e imprima o valor e o tipo dele."
      ]
    },
    {
      "cell_type": "code",
      "metadata": {
        "id": "nNm3tR1cer-5",
        "colab_type": "code",
        "colab": {
          "base_uri": "https://localhost:8080/",
          "height": 34
        },
        "outputId": "4a10a2b3-3fdc-4dad-a3bb-673bb57e8c57"
      },
      "source": [
        "def arg_val(x):\n",
        "    print(f'O valor do argumento é {x} e o tipo é {type(x)}.')\n",
        "\n",
        "\n",
        "arg_val(50)"
      ],
      "execution_count": 1,
      "outputs": [
        {
          "output_type": "stream",
          "text": [
            "O valor do argumento é 50 e o tipo é <class 'int'>.\n"
          ],
          "name": "stdout"
        }
      ]
    },
    {
      "cell_type": "markdown",
      "metadata": {
        "id": "64K1AUTaeZao",
        "colab_type": "text"
      },
      "source": [
        "2. Crie uma função que calcule e imprima velocidade media de um objeto a partir de uma posição inicial, a final e o tempo transcorrido para um objeto em MRU. Também crie uma funcão que calcule e imprima a velocidade de um objeto a partir da aceleração constante e o tempo (MRUA) (p.ex. queda libre)."
      ]
    },
    {
      "cell_type": "code",
      "metadata": {
        "id": "7wcBmwBeesb8",
        "colab_type": "code",
        "colab": {
          "base_uri": "https://localhost:8080/",
          "height": 68
        },
        "outputId": "2836ef1b-d17a-45b8-c1ce-5ead9fbed2d7"
      },
      "source": [
        "def velocidade_mru(posicao_inicial, posicao_final, tempo_decorrido):\n",
        "    vm = (posicao_final - posicao_inicial) / tempo_decorrido\n",
        "    print(f'A velocidade média em MRU é de {vm:.2f} m/s')\n",
        "\n",
        "\n",
        "def velocidade_muv(aceleracao, tempo_decorrido):\n",
        "    vf = aceleracao * tempo_decorrido\n",
        "    print(f'\\nA velocidade final em MUV é de {vf:.2f} m/s')\n",
        "\n",
        "\n",
        "pos_ini = 0         # metros\n",
        "pos_fin = 100       # metros\n",
        "tempo = 5           # segundos\n",
        "\n",
        "velocidade_mru(pos_ini, pos_fin, tempo)\n",
        "\n",
        "acel = 5            # metros por segundo ao quadrado\n",
        "\n",
        "velocidade_muv(acel, tempo)"
      ],
      "execution_count": 2,
      "outputs": [
        {
          "output_type": "stream",
          "text": [
            "A velocidade média em MRU é de 20.00 m/s\n",
            "\n",
            "A velocidade final em MUV é de 25.00 m/s\n"
          ],
          "name": "stdout"
        }
      ]
    },
    {
      "cell_type": "markdown",
      "metadata": {
        "id": "NiEgRbo6eZks",
        "colab_type": "text"
      },
      "source": [
        "3. Crie uma funcão para calcular o ángulo zenital do sol (da semana passada) tomando como argumento as medidas da altura e o comprimento da sombra."
      ]
    },
    {
      "cell_type": "code",
      "metadata": {
        "id": "z5iVq_x3es1D",
        "colab_type": "code",
        "colab": {
          "base_uri": "https://localhost:8080/",
          "height": 68
        },
        "outputId": "4d0163c9-fe57-467b-c32b-6deeb81aaf39"
      },
      "source": [
        "def ang_zenite(altura, sombra):\n",
        "    import math\n",
        "    ang = math.degrees(math.atan(sombra/altura))\n",
        "    return ang\n",
        "\n",
        "\n",
        "h = float(input('Defina a altura da pessoa em cm: '))\n",
        "d = float(input('Defina o tamanho da sombra em cm: '))\n",
        "\n",
        "ang = ang_zenite(h, d)\n",
        "\n",
        "print(f'O ângulo zenital é de {ang:.2f} graus')"
      ],
      "execution_count": 4,
      "outputs": [
        {
          "output_type": "stream",
          "text": [
            "Defina a altura da pessoa em cm: 180\n",
            "Defina o tamanho da sombra em cm: 50\n",
            "O ângulo zenital é de 15.52 graus\n"
          ],
          "name": "stdout"
        }
      ]
    },
    {
      "cell_type": "markdown",
      "metadata": {
        "id": "kvQYcAZGeZvQ",
        "colab_type": "text"
      },
      "source": [
        "4. Crie uma função que faça a conversão de uma medida inicialmente em milhas para m, e outra para o inverso; uma de horas para segundos, e o inverso. Utilize estas funções para resolver novamente o primeiro exercício da semana passada (da corrida). Se uma pessoa demora 30 minutos em 4 milhas, qual velocidade media em km/h ? e o tempo medio por kilometro?"
      ]
    },
    {
      "cell_type": "code",
      "metadata": {
        "id": "Wt6JZqpMetWO",
        "colab_type": "code",
        "colab": {
          "base_uri": "https://localhost:8080/",
          "height": 85
        },
        "outputId": "84dd2480-1492-4a81-9a10-5f4ccfb4d239"
      },
      "source": [
        "def mi_em_m(milhas):\n",
        "    metros = (1.61 * float(milhas)) * 1000\n",
        "    return metros\n",
        "\n",
        "\n",
        "def m_em_mi(metros):\n",
        "    milhas = (float(metros) / 1000) / 1.61\n",
        "    return milhas\n",
        "\n",
        "\n",
        "print('Deseja converter -Metros para milhas (1)- ou -Milhas para Metros (2)- ?')\n",
        "a = input('Digite a opção (1) ou (2) :').strip()\n",
        "\n",
        "if a == '1':\n",
        "    b = input('Qual a distancia em metros? ')\n",
        "    print(f'A distancia {b} m convertida em milhas é de: {m_em_mi(b):.4f} mi.')\n",
        "\n",
        "elif a == '2':\n",
        "    b = input('Qual a distancia em milhas? ')\n",
        "    print(f'A distancia {b} mi convertida em metros é de: {mi_em_m(b):.0f} m.')\n",
        "\n",
        "else:\n",
        "    print('Erro: Digite a opção correta.')"
      ],
      "execution_count": 5,
      "outputs": [
        {
          "output_type": "stream",
          "text": [
            "Deseja converter -Metros para milhas (1)- ou -Milhas para Metros (2)- ?\n",
            "Digite a opção (1) ou (2) :1\n",
            "Qual a distancia em metros? 1200\n",
            "A distancia 1200 m convertida em milhas é de: 0.7453 mi.\n"
          ],
          "name": "stdout"
        }
      ]
    },
    {
      "cell_type": "markdown",
      "metadata": {
        "id": "podBGQ_0eZ7_",
        "colab_type": "text"
      },
      "source": [
        "5. Crie funções para calcular os outros exemplos das aulas anteriores: IMC, volume de uma esfera, distancia entre pontos de máximos de difração. Decida quais serão os argumentos e o valor retornado.\n"
      ]
    },
    {
      "cell_type": "code",
      "metadata": {
        "id": "wfsj_M1getzX",
        "colab_type": "code",
        "colab": {
          "base_uri": "https://localhost:8080/",
          "height": 68
        },
        "outputId": "75e401ae-0b43-4e6f-8220-d56c45e6af59"
      },
      "source": [
        "import math\n",
        "\n",
        "\n",
        "def volume_esfera(raio):\n",
        "    volume = 4/3*math.pi*raio**3\n",
        "    return volume\n",
        "\n",
        "\n",
        "def imc(massa, altura):\n",
        "    imc = massa / altura ** 2\n",
        "    return imc\n",
        "\n",
        "\n",
        "def difracao(lamb, distancia, fenda):\n",
        "    delta_y = (lamb * distancia) / fenda\n",
        "    return delta_y\n",
        "\n",
        "\n",
        "# Esfera\n",
        "r = 5\n",
        "print(f'O volume da esfera é de {volume_esfera(r):.2f} cm³.')\n",
        "\n",
        "\n",
        "# IMC\n",
        "a = 0.70        # metros\n",
        "m = 11          # quilogramas\n",
        "\n",
        "print(f'O IMC é de {imc(m, a):.2f} que está na região saudável.')\n",
        "\n",
        "\n",
        "# Difração\n",
        "l = 632.8 * 10 ** (-9)     # em manometros\n",
        "dist = 1.98\n",
        "d = 0.250 * 10 ** (-3)        # em milimetros\n",
        "\n",
        "print(f'A distância entre os dois máximos consecutivos de interferencia é de {difracao(l, dist, d)} m '\n",
        "      f'ou aproximadamente {difracao(l, dist, d) * 1000:.0f} mm.')"
      ],
      "execution_count": 6,
      "outputs": [
        {
          "output_type": "stream",
          "text": [
            "O volume da esfera é de 523.60 cm³.\n",
            "O IMC é de 22.45 que está na região saudável.\n",
            "A distância entre os dois máximos consecutivos de interferencia é de 0.005011776 m ou aproximadamente 5 mm.\n"
          ],
          "name": "stdout"
        }
      ]
    }
  ]
}
