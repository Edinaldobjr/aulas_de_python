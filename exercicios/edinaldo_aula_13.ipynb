{
  "nbformat": 4,
  "nbformat_minor": 0,
  "metadata": {
    "kernelspec": {
      "display_name": "Python 3",
      "language": "python",
      "name": "python3"
    },
    "language_info": {
      "codemirror_mode": {
        "name": "ipython",
        "version": 3
      },
      "file_extension": ".py",
      "mimetype": "text/x-python",
      "name": "python",
      "nbconvert_exporter": "python",
      "pygments_lexer": "ipython3",
      "version": "3.6.4"
    },
    "colab": {
      "name": "edinaldo_aula_13.ipynb",
      "provenance": [],
      "include_colab_link": true
    }
  },
  "cells": [
    {
      "cell_type": "markdown",
      "metadata": {
        "id": "view-in-github",
        "colab_type": "text"
      },
      "source": [
        "<a href=\"https://colab.research.google.com/github/Edinaldobjr/aulas_de_python/blob/master/exercicios/edinaldo_aula_13.ipynb\" target=\"_parent\"><img src=\"https://colab.research.google.com/assets/colab-badge.svg\" alt=\"Open In Colab\"/></a>"
      ]
    },
    {
      "cell_type": "markdown",
      "metadata": {
        "id": "EwvQUSAVEnlD"
      },
      "source": [
        "# Exercícios da aula de hoje:\n",
        "\n",
        "5) Usando a classe **Ponto** criada na última aula escreva uma classe **Retangulo**. A definição da classe Retangulo é:\n",
        "**Dica**: use o método criado no exercício 1)."
      ]
    },
    {
      "cell_type": "code",
      "metadata": {
        "id": "Ds4yHbS3ujro"
      },
      "source": [
        "class Ponto:\n",
        "    \"\"\" Cria um novo Ponto, com coordenadas x, y \"\"\"\n",
        "\n",
        "    def __init__(self, x=0, y=0):\n",
        "        \"\"\" Inicializa em x, y o novo ponto criado pela classe \"\"\"\n",
        "        self.x = x\n",
        "        self.y = y\n",
        "\n",
        "    def distancia_da_origem(self):\n",
        "        \"\"\" Calcula minha distânica da origem \"\"\"\n",
        "        return ((self.x ** 2) + (self.y ** 2)) ** 0.5\n",
        "    \n",
        "    def ponto_medio(self, alvo):\n",
        "        \"\"\" Retorna o ponto medio entre esse ponto e o alvo \"\"\"\n",
        "        mx = (self.x + alvo.x)/2\n",
        "        my = (self.y + alvo.y)/2\n",
        "        return Ponto(mx, my)\n",
        "    \n",
        "    def __str__(self):\n",
        "        return \"({0}, {1})\".format(self.x, self.y)\n",
        "    \n",
        "    def distancia_pontos(self, alvo):\n",
        "        \"\"\" Retorna o ponto medio entre esse ponto e o alvo \"\"\"\n",
        "        dx = (alvo.x - self.x)**2\n",
        "        dy = (alvo.y - self.y)**2\n",
        "        return (dx + dy)**0.5\n",
        "    \n",
        "    def reflexao_x(self):\n",
        "        \"\"\"Retorna o ponto com inflexão no eixo x\"\"\"\n",
        "        x = self.x\n",
        "        y = -self.y\n",
        "        return Ponto(x,y)\n",
        "\n",
        "    def inclinacao_origem(self):\n",
        "        \"\"\" Retorna a inclinação do ponto com a origem\"\"\"\n",
        "        if self.x == 0 and self.y ==0:\n",
        "            return print('Esse ponto está na origem.')\n",
        "        else:\n",
        "            return self.y / self.x\n",
        "    \n",
        "    def parametros_reta(self, alvo):\n",
        "        \"\"\" Retorna os parâmetros da reta\"\"\"\n",
        "        a = (alvo.y - self.y)/(alvo.x - self.x)\n",
        "        b = self.y - a*self.x\n",
        "        return (a,b) "
      ],
      "execution_count": 1,
      "outputs": []
    },
    {
      "cell_type": "code",
      "metadata": {
        "id": "TtQKKKt8EnlD"
      },
      "source": [
        "class Rectangle:\n",
        "    \"\"\" A class to manufacture rectangle objects \"\"\"\n",
        "\n",
        "    def __init__(self, pos, l, h):\n",
        "        \"\"\" Initialize rectangle at posn, with width w, height h \"\"\"\n",
        "        self.canto = pos\n",
        "        self.largura = l\n",
        "        self.altura = h\n",
        "\n",
        "    def __str__(self):\n",
        "        return  '{}, {}, {}'.format(self.canto, self.largura, self.altura)\n",
        "\n"
      ],
      "execution_count": 15,
      "outputs": []
    },
    {
      "cell_type": "code",
      "metadata": {
        "id": "dsRsndl0ujGZ",
        "colab": {
          "base_uri": "https://localhost:8080/"
        },
        "outputId": "c3636ec9-e745-46ce-f14f-c3a425a78d0c"
      },
      "source": [
        "Rectangle(Ponto(2,3),2,4)\n",
        "\n",
        "box = Rectangle(Ponto(0, 0), 100, 200)\n",
        "bomb = Rectangle(Ponto(100, 80), 5, 10)    # In my video game\n",
        "print(\"box: \", box)\n",
        "print(\"bomb: \", bomb)"
      ],
      "execution_count": 16,
      "outputs": [
        {
          "output_type": "stream",
          "text": [
            "box:  (0, 0), 100, 200\n",
            "bomb:  (100, 80), 5, 10\n"
          ],
          "name": "stdout"
        }
      ]
    },
    {
      "cell_type": "markdown",
      "metadata": {
        "id": "JGuVeaQgEnlD"
      },
      "source": [
        "6) Escreva uma definição para uma classe chamada **Circulo** com atributos ***centro*** e ***raio***, em que ***centro*** é um objeto do tipo **Ponto** e ***raio*** é um número.\n",
        "   * Instancie um objeto **Circulo** que represente um círculo com seu centro em (150, 100) e raio 75 e imprima na tela as coordenadas (x,y) do centro do círculo.\n",
        "   * Escreva uma função chamada ponto_no_circulo que use um Circulo e um Ponto e retorne True se o Ponto estiver dentro do círculo ou no limite do mesmo.\n",
        "   \n"
      ]
    },
    {
      "cell_type": "code",
      "metadata": {
        "id": "JiVRFKzIDMDg"
      },
      "source": [
        "class Circle:\n",
        "    \"\"\" A class to manufacture rectangle objects \"\"\"\n",
        "\n",
        "    def __init__(self, c, r):\n",
        "        \"\"\" Initialize rectangle at posn, with width w, height h \"\"\"\n",
        "        self.centro = c\n",
        "        self.raio = r\n",
        "\n",
        "    def __str__(self):\n",
        "        return  '{}, {}.'.format(self.centro, self.raio)"
      ],
      "execution_count": 18,
      "outputs": []
    },
    {
      "cell_type": "code",
      "metadata": {
        "id": "dH-TDlgeE0IO",
        "outputId": "7dcb9e1a-ac27-4a7e-a31a-f982a68cb63f",
        "colab": {
          "base_uri": "https://localhost:8080/"
        }
      },
      "source": [
        "circulo = Circle(Ponto(150,100),75)\n",
        "\n",
        "print(circulo)"
      ],
      "execution_count": 20,
      "outputs": [
        {
          "output_type": "stream",
          "text": [
            "(150, 100), 75.\n"
          ],
          "name": "stdout"
        }
      ]
    },
    {
      "cell_type": "markdown",
      "metadata": {
        "id": "sJ_EmSvxDLQN"
      },
      "source": [
        "7) Escreva uma função chamada **desenhar_ret** que use um objeto ***Turtle*** e um ***Retangulo*** e use o Turtle para desenhar o retângulo.\n",
        "\n"
      ]
    },
    {
      "cell_type": "code",
      "metadata": {
        "id": "8Qu64_5LDKyX"
      },
      "source": [
        ""
      ],
      "execution_count": null,
      "outputs": []
    },
    {
      "cell_type": "markdown",
      "metadata": {
        "id": "4x8JSStHDKg2"
      },
      "source": [
        "8) Escreva uma função chamada desenhar_circulo que use uma ***Turtle*** e um ***Circulo*** e desenhe o ***Circulo***."
      ]
    },
    {
      "cell_type": "code",
      "metadata": {
        "id": "DpkFyT6kEnlD"
      },
      "source": [
        ""
      ],
      "execution_count": null,
      "outputs": []
    }
  ]
}