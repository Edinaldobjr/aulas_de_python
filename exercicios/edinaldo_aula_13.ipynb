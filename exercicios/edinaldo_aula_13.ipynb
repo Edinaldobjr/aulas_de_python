{
  "nbformat": 4,
  "nbformat_minor": 0,
  "metadata": {
    "kernelspec": {
      "display_name": "Python 3",
      "language": "python",
      "name": "python3"
    },
    "language_info": {
      "codemirror_mode": {
        "name": "ipython",
        "version": 3
      },
      "file_extension": ".py",
      "mimetype": "text/x-python",
      "name": "python",
      "nbconvert_exporter": "python",
      "pygments_lexer": "ipython3",
      "version": "3.6.4"
    },
    "colab": {
      "name": "edinaldo_aula_13.ipynb",
      "provenance": [],
      "include_colab_link": true
    }
  },
  "cells": [
    {
      "cell_type": "markdown",
      "metadata": {
        "id": "view-in-github",
        "colab_type": "text"
      },
      "source": [
        "<a href=\"https://colab.research.google.com/github/Edinaldobjr/aulas_de_python/blob/master/exercicios/edinaldo_aula_13.ipynb\" target=\"_parent\"><img src=\"https://colab.research.google.com/assets/colab-badge.svg\" alt=\"Open In Colab\"/></a>"
      ]
    },
    {
      "cell_type": "markdown",
      "metadata": {
        "id": "EwvQUSAVEnlD"
      },
      "source": [
        "# Exercícios da aula de hoje:\n",
        "\n",
        "5) Usando a classe **Ponto** criada na última aula escreva uma classe **Retangulo**. A definição da classe Retangulo é:\n",
        "**Dica**: use o método criado no exercício 1)."
      ]
    },
    {
      "cell_type": "code",
      "metadata": {
        "id": "Ds4yHbS3ujro"
      },
      "source": [
        "class Ponto:\n",
        "    \"\"\" Cria um novo Ponto, com coordenadas x, y \"\"\"\n",
        "\n",
        "    def __init__(self, x=0, y=0):\n",
        "        \"\"\" Inicializa em x, y o novo ponto criado pela classe \"\"\"\n",
        "        self.x = x\n",
        "        self.y = y\n",
        "\n",
        "    def distancia_da_origem(self):\n",
        "        \"\"\" Calcula minha distânica da origem.\"\"\"\n",
        "        return ((self.x ** 2) + (self.y ** 2)) ** 0.5\n",
        "    \n",
        "    def ponto_medio(self, alvo):\n",
        "        \"\"\" Retorna o ponto médio entre um ponto e o outro.\"\"\"\n",
        "        mx = (self.x + alvo.x)/2\n",
        "        my = (self.y + alvo.y)/2\n",
        "        return Ponto(mx, my)\n",
        "    \n",
        "    def __str__(self):\n",
        "        return \"({0}, {1})\".format(self.x, self.y)\n",
        "    \n",
        "    def distancia_pontos(self, alvo):\n",
        "        \"\"\" Retorna o distância entre um ponto e outro.\"\"\"\n",
        "        dx = (alvo.x - self.x)**2\n",
        "        dy = (alvo.y - self.y)**2\n",
        "        return (dx + dy)**0.5\n",
        "    \n",
        "    def reflexao_x(self):\n",
        "        \"\"\"Retorna o ponto com inflexão no eixo x\"\"\"\n",
        "        x = self.x\n",
        "        y = -self.y\n",
        "        return Ponto(x,y)\n",
        "\n",
        "    def inclinacao_origem(self):\n",
        "        \"\"\"Retorna a inclinação do ponto com a origem\"\"\"\n",
        "        if self.x == 0 and self.y ==0:\n",
        "            return print('Esse ponto está na origem.')\n",
        "        else:\n",
        "            return self.y / self.x\n",
        "    \n",
        "    def parametros_reta(self, alvo):\n",
        "        \"\"\" Retorna os parâmetros da reta\"\"\"\n",
        "        a = (alvo.y - self.y)/(alvo.x - self.x)\n",
        "        b = self.y - a*self.x\n",
        "        return (a,b) "
      ],
      "execution_count": 30,
      "outputs": []
    },
    {
      "cell_type": "code",
      "metadata": {
        "id": "TtQKKKt8EnlD"
      },
      "source": [
        "class Retangulo:\n",
        "    \"\"\" Classe para criar um retangulo \"\"\"\n",
        "\n",
        "    def __init__(self, pos, l, h):\n",
        "        \"\"\" Inicializa um retangulo na pos, com largura l e altura h \"\"\"\n",
        "        self.canto = pos\n",
        "        self.largura = l\n",
        "        self.altura = h\n",
        "\n",
        "    def __str__(self):\n",
        "        return  '{}, {}, {}'.format(self.canto, self.largura, self.altura)\n",
        "\n"
      ],
      "execution_count": 31,
      "outputs": []
    },
    {
      "cell_type": "code",
      "metadata": {
        "id": "dsRsndl0ujGZ",
        "colab": {
          "base_uri": "https://localhost:8080/"
        },
        "outputId": "c99824b6-9437-420b-a358-87f584615140"
      },
      "source": [
        "Retangulo(Ponto(2,3),2,4)\n",
        "\n",
        "box = Retangulo(Ponto(0, 0), 100, 200)\n",
        "bomb = Retangulo(Ponto(100, 80), 5, 10)    # In my video game\n",
        "print(\"box: \", box)\n",
        "print(\"bomb: \", bomb)"
      ],
      "execution_count": 32,
      "outputs": [
        {
          "output_type": "stream",
          "text": [
            "box:  (0, 0), 100, 200\n",
            "bomb:  (100, 80), 5, 10\n"
          ],
          "name": "stdout"
        }
      ]
    },
    {
      "cell_type": "markdown",
      "metadata": {
        "id": "JGuVeaQgEnlD"
      },
      "source": [
        "6) Escreva uma definição para uma classe chamada **Circulo** com atributos ***centro*** e ***raio***, em que ***centro*** é um objeto do tipo **Ponto** e ***raio*** é um número.\n",
        "   * Instancie um objeto **Circulo** que represente um círculo com seu centro em (150, 100) e raio 75 e imprima na tela as coordenadas (x,y) do centro do círculo.\n",
        "   * Escreva uma função chamada ponto_no_circulo que use um Circulo e um Ponto e retorne True se o Ponto estiver dentro do círculo ou no limite do mesmo.\n",
        "   \n"
      ]
    },
    {
      "cell_type": "code",
      "metadata": {
        "id": "JiVRFKzIDMDg"
      },
      "source": [
        "class Circulo:\n",
        "    \"\"\" A class to manufacture rectangle objects \"\"\"\n",
        "\n",
        "    def __init__(self, centro, raio):\n",
        "        \"\"\" Initialize rectangle at posn, with width w, height h \"\"\"\n",
        "        self.centro = centro\n",
        "        self.raio = raio\n",
        "\n",
        "    def __str__(self):\n",
        "        return  '{}, {}.'.format(self.centro, self.raio)\n",
        "    \n",
        "    def ponto_no_circulo(self, ponto = Ponto()):\n",
        "        dist = Ponto.distancia_pontos(self.centro, ponto)\n",
        "        if dist <= self.raio:\n",
        "            return print('dentro')\n",
        "        else:\n",
        "            return print('fora')"
      ],
      "execution_count": 33,
      "outputs": []
    },
    {
      "cell_type": "code",
      "metadata": {
        "id": "dH-TDlgeE0IO",
        "colab": {
          "base_uri": "https://localhost:8080/"
        },
        "outputId": "0d54e9c8-93b7-4175-9a42-1b24f75ed8c4"
      },
      "source": [
        "circulo = Circulo(Ponto(150,100),75)\n",
        "ponto = Ponto(200, 200)\n",
        "\n",
        "Circulo.ponto_no_circulo(circulo, ponto)"
      ],
      "execution_count": 37,
      "outputs": [
        {
          "output_type": "stream",
          "text": [
            "fora\n"
          ],
          "name": "stdout"
        }
      ]
    },
    {
      "cell_type": "code",
      "metadata": {
        "id": "-0lMyv8v7tjS",
        "outputId": "cab27b60-761f-47c4-f29a-ee44c3579edf",
        "colab": {
          "base_uri": "https://localhost:8080/"
        }
      },
      "source": [
        "!pip3 install ColabTurtle"
      ],
      "execution_count": 38,
      "outputs": [
        {
          "output_type": "stream",
          "text": [
            "Collecting ColabTurtle\n",
            "  Downloading https://files.pythonhosted.org/packages/49/01/6da7091c2c6c917cce99c000b89acb6aa27b66ef6eafc0c0ccf59b98694f/ColabTurtle-2.0.0.tar.gz\n",
            "Building wheels for collected packages: ColabTurtle\n",
            "  Building wheel for ColabTurtle (setup.py) ... \u001b[?25l\u001b[?25hdone\n",
            "  Created wheel for ColabTurtle: filename=ColabTurtle-2.0.0-cp36-none-any.whl size=4032 sha256=a88f77ba96b4d6a64417d62d74b421b71a897c157a9732bdb110e210d1a4a0dc\n",
            "  Stored in directory: /root/.cache/pip/wheels/a8/29/ec/ad346f0042ae467cc74f4378916348faf975b07890651dcae7\n",
            "Successfully built ColabTurtle\n",
            "Installing collected packages: ColabTurtle\n",
            "Successfully installed ColabTurtle-2.0.0\n"
          ],
          "name": "stdout"
        }
      ]
    },
    {
      "cell_type": "markdown",
      "metadata": {
        "id": "sJ_EmSvxDLQN"
      },
      "source": [
        "7) Escreva uma função chamada **desenhar_ret** que use um objeto ***Turtle*** e um ***Retangulo*** e use o Turtle para desenhar o retângulo.\n",
        "\n"
      ]
    },
    {
      "cell_type": "code",
      "metadata": {
        "id": "8Qu64_5LDKyX",
        "outputId": "3735b459-6d1d-428e-b174-a5f425556e2f",
        "colab": {
          "base_uri": "https://localhost:8080/",
          "height": 521
        }
      },
      "source": [
        "import ColabTurtle.Turtle as turtle\n",
        "\n",
        "\n",
        "def desenhar_ret(t, retangulo):\n",
        "    for i in range(2):\n",
        "        t.forward(retangulo.largura)\n",
        "        t.left(90)\n",
        "        t.forward(retangulo.altura)\n",
        "        t.left(90)\n",
        "\n",
        "\n",
        "turtle.initializeTurtle()\n",
        "turtle.speed(10)\n",
        "turtle.color(\"blue\")\n",
        "\n",
        "box = Retangulo((0, 0), 100, 200)\n",
        "\n",
        "desenhar_ret(turtle, box)"
      ],
      "execution_count": 50,
      "outputs": [
        {
          "output_type": "display_data",
          "data": {
            "text/html": [
              "\n",
              "      <svg width=\"800\" height=\"500\">\n",
              "        <rect width=\"100%\" height=\"100%\" fill=\"black\"/>\n",
              "        <line x1=\"400\" y1=\"250\" x2=\"400.0\" y2=\"150.0\" stroke-linecap=\"round\" style=\"stroke:blue;stroke-width:4\"/><line x1=\"400.0\" y1=\"150.0\" x2=\"200.0\" y2=\"150.00000000000003\" stroke-linecap=\"round\" style=\"stroke:blue;stroke-width:4\"/><line x1=\"200.0\" y1=\"150.00000000000003\" x2=\"200.0\" y2=\"250.00000000000003\" stroke-linecap=\"round\" style=\"stroke:blue;stroke-width:4\"/><line x1=\"200.0\" y1=\"250.00000000000003\" x2=\"400.0\" y2=\"250.00000000000003\" stroke-linecap=\"round\" style=\"stroke:blue;stroke-width:4\"/>\n",
              "        \n",
              "      <g visibility=visible transform=\"rotate(180,400.0,250.00000000000003) translate(400.0, 250.00000000000003)\">\n",
              "        <circle stroke=\"blue\" stroke-width=\"3\" fill=\"transparent\" r=\"12\" cx=\"0\" cy=\"0\"/>\n",
              "        <polygon points=\"0,19 3,16 -3,16\" style=\"fill:blue;stroke:blue;stroke-width:2\"/>\n",
              "      </g>\n",
              "    \n",
              "      </svg>\n",
              "    "
            ],
            "text/plain": [
              "<IPython.core.display.HTML object>"
            ]
          },
          "metadata": {
            "tags": []
          }
        }
      ]
    },
    {
      "cell_type": "markdown",
      "metadata": {
        "id": "4x8JSStHDKg2"
      },
      "source": [
        "8) Escreva uma função chamada desenhar_circulo que use uma ***Turtle*** e um ***Circulo*** e desenhe o ***Circulo***."
      ]
    },
    {
      "cell_type": "code",
      "metadata": {
        "id": "DpkFyT6kEnlD",
        "outputId": "61e14cf7-ddc0-4840-fa1d-3077c5033a19",
        "colab": {
          "base_uri": "https://localhost:8080/",
          "height": 521
        }
      },
      "source": [
        "import ColabTurtle.Turtle as turtle\n",
        "import math\n",
        "\n",
        "def polygon(t, length, n):\n",
        "    for i in range(n):\n",
        "        t.forward(length)\n",
        "        t.left(360/n) \n",
        "\n",
        "def desenhar_circulo(t, circulo): \n",
        "    t.penup()\n",
        "    t.forward(circulo.raio)\n",
        "    t.left(90)\n",
        "    t.pendown()\n",
        "    circumference = 2 * math.pi * circulo.raio  \n",
        "    n = 50\n",
        "    length = int(circumference / n )\n",
        "    polygon(t, length, n)\n",
        "\n",
        "\n",
        "\n",
        "turtle.initializeTurtle()\n",
        "turtle.speed(10)\n",
        "turtle.color(\"blue\")\n",
        "\n",
        "circ = Circulo((0,0), 50)\n",
        "\n",
        "desenhar_circulo(turtle, circ)"
      ],
      "execution_count": 45,
      "outputs": [
        {
          "output_type": "display_data",
          "data": {
            "text/html": [
              "\n",
              "      <svg width=\"800\" height=\"500\">\n",
              "        <rect width=\"100%\" height=\"100%\" fill=\"black\"/>\n",
              "        <line x1=\"400.0\" y1=\"200.0\" x2=\"394.0\" y2=\"200.0\" stroke-linecap=\"round\" style=\"stroke:blue;stroke-width:4\"/><line x1=\"394.0\" y1=\"200.0\" x2=\"388.04731179211313\" y2=\"200.75199940138583\" stroke-linecap=\"round\" style=\"stroke:blue;stroke-width:4\"/><line x1=\"388.04731179211313\" y1=\"200.75199940138583\" x2=\"382.2358128253413\" y2=\"202.24413872437495\" stroke-linecap=\"round\" style=\"stroke:blue;stroke-width:4\"/><line x1=\"382.2358128253413\" y1=\"202.24413872437495\" x2=\"376.6571539100118\" y2=\"204.452886040483\" stroke-linecap=\"round\" style=\"stroke:blue;stroke-width:4\"/><line x1=\"376.6571539100118\" y1=\"204.452886040483\" x2=\"371.3993138297486\" y2=\"207.3434080850933\" stroke-linecap=\"round\" style=\"stroke:blue;stroke-width:4\"/><line x1=\"371.3993138297486\" y1=\"207.3434080850933\" x2=\"366.54521186349893\" y2=\"210.87011959884813\" stroke-linecap=\"round\" style=\"stroke:blue;stroke-width:4\"/><line x1=\"366.54521186349893\" y1=\"210.87011959884813\" x2=\"362.1714000989705\" y2=\"214.97740223442025\" stroke-linecap=\"round\" style=\"stroke:blue;stroke-width:4\"/><line x1=\"362.1714000989705\" y1=\"214.97740223442025\" x2=\"358.34685616047835\" y2=\"219.60048169107498\" stroke-linecap=\"round\" style=\"stroke:blue;stroke-width:4\"/><line x1=\"358.34685616047835\" y1=\"219.60048169107498\" x2=\"355.13189539060437\" y2=\"224.66644924408706\" stroke-linecap=\"round\" style=\"stroke:blue;stroke-width:4\"/><line x1=\"355.13189539060437\" y1=\"224.66644924408706\" x2=\"352.5772196412139\" y2=\"230.09541155888317\" stroke-linecap=\"round\" style=\"stroke:blue;stroke-width:4\"/><line x1=\"352.5772196412139\" y1=\"230.09541155888317\" x2=\"350.7231176749642\" y2=\"235.8017506566541\" stroke-linecap=\"round\" style=\"stroke:blue;stroke-width:4\"/><line x1=\"350.7231176749642\" y1=\"235.8017506566541\" x2=\"349.59882978744986\" y2=\"241.69547416102623\" stroke-linecap=\"round\" style=\"stroke:blue;stroke-width:4\"/><line x1=\"349.59882978744986\" y1=\"241.69547416102623\" x2=\"349.222086670274\" y2=\"247.68363453159586\" stroke-linecap=\"round\" style=\"stroke:blue;stroke-width:4\"/><line x1=\"349.222086670274\" y1=\"247.68363453159586\" x2=\"349.59882978744986\" y2=\"253.6717949021655\" stroke-linecap=\"round\" style=\"stroke:blue;stroke-width:4\"/><line x1=\"349.59882978744986\" y1=\"253.6717949021655\" x2=\"350.7231176749642\" y2=\"259.56551840653765\" stroke-linecap=\"round\" style=\"stroke:blue;stroke-width:4\"/><line x1=\"350.7231176749642\" y1=\"259.56551840653765\" x2=\"352.5772196412139\" y2=\"265.27185750430857\" stroke-linecap=\"round\" style=\"stroke:blue;stroke-width:4\"/><line x1=\"352.5772196412139\" y1=\"265.27185750430857\" x2=\"355.1318953906043\" y2=\"270.7008198191047\" stroke-linecap=\"round\" style=\"stroke:blue;stroke-width:4\"/><line x1=\"355.1318953906043\" y1=\"270.7008198191047\" x2=\"358.3468561604783\" y2=\"275.7667873721168\" stroke-linecap=\"round\" style=\"stroke:blue;stroke-width:4\"/><line x1=\"358.3468561604783\" y1=\"275.7667873721168\" x2=\"362.1714000989704\" y2=\"280.3898668287716\" stroke-linecap=\"round\" style=\"stroke:blue;stroke-width:4\"/><line x1=\"362.1714000989704\" y1=\"280.3898668287716\" x2=\"366.5452118634989\" y2=\"284.4971494643437\" stroke-linecap=\"round\" style=\"stroke:blue;stroke-width:4\"/><line x1=\"366.5452118634989\" y1=\"284.4971494643437\" x2=\"371.39931382974856\" y2=\"288.0238609780985\" stroke-linecap=\"round\" style=\"stroke:blue;stroke-width:4\"/><line x1=\"371.39931382974856\" y1=\"288.0238609780985\" x2=\"376.65715391001174\" y2=\"290.9143830227088\" stroke-linecap=\"round\" style=\"stroke:blue;stroke-width:4\"/><line x1=\"376.65715391001174\" y1=\"290.9143830227088\" x2=\"382.23581282534127\" y2=\"293.1231303388169\" stroke-linecap=\"round\" style=\"stroke:blue;stroke-width:4\"/><line x1=\"382.23581282534127\" y1=\"293.1231303388169\" x2=\"388.0473117921131\" y2=\"294.61526966180605\" stroke-linecap=\"round\" style=\"stroke:blue;stroke-width:4\"/><line x1=\"388.0473117921131\" y1=\"294.61526966180605\" x2=\"393.99999999999994\" y2=\"295.3672690631919\" stroke-linecap=\"round\" style=\"stroke:blue;stroke-width:4\"/><line x1=\"393.99999999999994\" y1=\"295.3672690631919\" x2=\"399.99999999999994\" y2=\"295.3672690631919\" stroke-linecap=\"round\" style=\"stroke:blue;stroke-width:4\"/><line x1=\"399.99999999999994\" y1=\"295.3672690631919\" x2=\"405.9526882078868\" y2=\"294.61526966180605\" stroke-linecap=\"round\" style=\"stroke:blue;stroke-width:4\"/><line x1=\"405.9526882078868\" y1=\"294.61526966180605\" x2=\"411.7641871746586\" y2=\"293.1231303388169\" stroke-linecap=\"round\" style=\"stroke:blue;stroke-width:4\"/><line x1=\"411.7641871746586\" y1=\"293.1231303388169\" x2=\"417.34284608998814\" y2=\"290.9143830227089\" stroke-linecap=\"round\" style=\"stroke:blue;stroke-width:4\"/><line x1=\"417.34284608998814\" y1=\"290.9143830227089\" x2=\"422.6006861702513\" y2=\"288.0238609780986\" stroke-linecap=\"round\" style=\"stroke:blue;stroke-width:4\"/><line x1=\"422.6006861702513\" y1=\"288.0238609780986\" x2=\"427.454788136501\" y2=\"284.49714946434375\" stroke-linecap=\"round\" style=\"stroke:blue;stroke-width:4\"/><line x1=\"427.454788136501\" y1=\"284.49714946434375\" x2=\"431.82859990102946\" y2=\"280.38986682877163\" stroke-linecap=\"round\" style=\"stroke:blue;stroke-width:4\"/><line x1=\"431.82859990102946\" y1=\"280.38986682877163\" x2=\"435.6531438395216\" y2=\"275.7667873721169\" stroke-linecap=\"round\" style=\"stroke:blue;stroke-width:4\"/><line x1=\"435.6531438395216\" y1=\"275.7667873721169\" x2=\"438.8681046093956\" y2=\"270.7008198191048\" stroke-linecap=\"round\" style=\"stroke:blue;stroke-width:4\"/><line x1=\"438.8681046093956\" y1=\"270.7008198191048\" x2=\"441.42278035878604\" y2=\"265.2718575043087\" stroke-linecap=\"round\" style=\"stroke:blue;stroke-width:4\"/><line x1=\"441.42278035878604\" y1=\"265.2718575043087\" x2=\"443.27688232503573\" y2=\"259.56551840653776\" stroke-linecap=\"round\" style=\"stroke:blue;stroke-width:4\"/><line x1=\"443.27688232503573\" y1=\"259.56551840653776\" x2=\"444.4011702125501\" y2=\"253.67179490216563\" stroke-linecap=\"round\" style=\"stroke:blue;stroke-width:4\"/><line x1=\"444.4011702125501\" y1=\"253.67179490216563\" x2=\"444.777913329726\" y2=\"247.683634531596\" stroke-linecap=\"round\" style=\"stroke:blue;stroke-width:4\"/><line x1=\"444.777913329726\" y1=\"247.683634531596\" x2=\"444.40117021255014\" y2=\"241.69547416102637\" stroke-linecap=\"round\" style=\"stroke:blue;stroke-width:4\"/><line x1=\"444.40117021255014\" y1=\"241.69547416102637\" x2=\"443.27688232503584\" y2=\"235.80175065665424\" stroke-linecap=\"round\" style=\"stroke:blue;stroke-width:4\"/><line x1=\"443.27688232503584\" y1=\"235.80175065665424\" x2=\"441.42278035878616\" y2=\"230.0954115588833\" stroke-linecap=\"round\" style=\"stroke:blue;stroke-width:4\"/><line x1=\"441.42278035878616\" y1=\"230.0954115588833\" x2=\"438.86810460939574\" y2=\"224.66644924408718\" stroke-linecap=\"round\" style=\"stroke:blue;stroke-width:4\"/><line x1=\"438.86810460939574\" y1=\"224.66644924408718\" x2=\"435.65314383952176\" y2=\"219.60048169107506\" stroke-linecap=\"round\" style=\"stroke:blue;stroke-width:4\"/><line x1=\"435.65314383952176\" y1=\"219.60048169107506\" x2=\"431.82859990102963\" y2=\"214.9774022344203\" stroke-linecap=\"round\" style=\"stroke:blue;stroke-width:4\"/><line x1=\"431.82859990102963\" y1=\"214.9774022344203\" x2=\"427.4547881365012\" y2=\"210.87011959884816\" stroke-linecap=\"round\" style=\"stroke:blue;stroke-width:4\"/><line x1=\"427.4547881365012\" y1=\"210.87011959884816\" x2=\"422.6006861702515\" y2=\"207.3434080850933\" stroke-linecap=\"round\" style=\"stroke:blue;stroke-width:4\"/><line x1=\"422.6006861702515\" y1=\"207.3434080850933\" x2=\"417.3428460899883\" y2=\"204.45288604048298\" stroke-linecap=\"round\" style=\"stroke:blue;stroke-width:4\"/><line x1=\"417.3428460899883\" y1=\"204.45288604048298\" x2=\"411.76418717465884\" y2=\"202.2441387243749\" stroke-linecap=\"round\" style=\"stroke:blue;stroke-width:4\"/><line x1=\"411.76418717465884\" y1=\"202.2441387243749\" x2=\"405.9526882078871\" y2=\"200.75199940138572\" stroke-linecap=\"round\" style=\"stroke:blue;stroke-width:4\"/><line x1=\"405.9526882078871\" y1=\"200.75199940138572\" x2=\"400.0000000000002\" y2=\"199.99999999999986\" stroke-linecap=\"round\" style=\"stroke:blue;stroke-width:4\"/>\n",
              "        \n",
              "      <g visibility=visible transform=\"rotate(90.00000000000034,400.0000000000002,199.99999999999986) translate(400.0000000000002, 199.99999999999986)\">\n",
              "        <circle stroke=\"blue\" stroke-width=\"3\" fill=\"transparent\" r=\"12\" cx=\"0\" cy=\"0\"/>\n",
              "        <polygon points=\"0,19 3,16 -3,16\" style=\"fill:blue;stroke:blue;stroke-width:2\"/>\n",
              "      </g>\n",
              "    \n",
              "      </svg>\n",
              "    "
            ],
            "text/plain": [
              "<IPython.core.display.HTML object>"
            ]
          },
          "metadata": {
            "tags": []
          }
        }
      ]
    }
  ]
}