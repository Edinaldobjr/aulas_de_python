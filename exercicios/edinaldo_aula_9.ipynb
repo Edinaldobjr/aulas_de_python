{
  "nbformat": 4,
  "nbformat_minor": 0,
  "metadata": {
    "colab": {
      "name": "edinaldo_aula_9.ipynb",
      "provenance": [],
      "collapsed_sections": [],
      "authorship_tag": "ABX9TyMx8pZr1UQl4hQxJXP4wJ21",
      "include_colab_link": true
    },
    "kernelspec": {
      "name": "python3",
      "display_name": "Python 3"
    }
  },
  "cells": [
    {
      "cell_type": "markdown",
      "metadata": {
        "id": "view-in-github",
        "colab_type": "text"
      },
      "source": [
        "<a href=\"https://colab.research.google.com/github/Edinaldobjr/aulas_de_python/blob/master/exercicios/edinaldo_aula_9.ipynb\" target=\"_parent\"><img src=\"https://colab.research.google.com/assets/colab-badge.svg\" alt=\"Open In Colab\"/></a>"
      ]
    },
    {
      "cell_type": "code",
      "metadata": {
        "id": "kpb-ypaThrJV",
        "outputId": "d9c6e4fe-0ec4-408e-aee0-bdcccf13e063",
        "colab": {
          "base_uri": "https://localhost:8080/",
          "height": 34
        }
      },
      "source": [
        "%%writefile dados_alunos.txt\n",
        "18\t1.68\t80\n",
        "18\t1.94\t60\n",
        "18\t1.7\t80\n",
        "18\t1.76\t66\n",
        "19\t1.73\t87.5\n",
        "18\t1.66\t58\n",
        "21\t1.8\t92\n",
        "18\t1.6\t57\n",
        "18\t1.67\t64\n",
        "18\t1.73\t57\n",
        "17\t1.73\t75\n",
        "18\t1.61\t59\n",
        "18\t1.69\t90\n",
        "17\t1.71\t67\n",
        "19\t1.78\t60\n",
        "22\t1.68\t72\n",
        "18\t1.7\t73\n",
        "19\t1.64\t86\n",
        "18\t1.64\t75\n",
        "20\t1.8\t95\n",
        "17\t1.75\t60\n",
        "18\t1.78\t75\n",
        "18\t1.75\t65\n",
        "17\t1.69\t60\n",
        "19\t1.78\t73\n",
        "18\t1.7\t63\n",
        "34\t1.75\t78\n",
        "18\t1.64\t64\n",
        "19\t1.75\t50\n",
        "18\t1.67\t61\n",
        "18\t1.7\t70\n",
        "20\t1.8\t60\n",
        "18\t1.63\t57\n",
        "23\t1.89\t110\n",
        "18\t1.71\t71\n",
        "18\t1.65\t65\n",
        "17\t1.72\t67\n",
        "19\t1.65\t58\n",
        "18\t1.75\t90\n",
        "18\t1.7\t64\n",
        "19\t1.81\t70\n",
        "19\t1.65\t43\n",
        "28\t1.52\t50\n",
        "19\t1.79\t78\n",
        "26\t1.79\t82\n",
        "19\t1.75\t61\n",
        "19\t1.8\t70\n",
        "20\t1.75\t70\n",
        "20\t1.73\t70\n",
        "19\t1.7\t50\n",
        "22\t1.78\t72\n",
        "19\t1.77\t55\n",
        "18\t1.53\t58\n",
        "28\t1.54\t50\n",
        "20\t1.83\t70\n",
        "44\t1.85\t90\n",
        "18\t1.6\t51"
      ],
      "execution_count": 2,
      "outputs": [
        {
          "output_type": "stream",
          "text": [
            "Overwriting dados_alunos.txt\n"
          ],
          "name": "stdout"
        }
      ]
    },
    {
      "cell_type": "markdown",
      "metadata": {
        "id": "LkKV2_H23Ts1"
      },
      "source": [
        "## Exercícios:\n",
        "\n",
        "1) Utilizando um arquivo de dados com várias colunas (por exemplo, o arquivo ```dados_alunos.txt```), faça um histograma com os dados de cada uma das colunas. **Dica**: utilize o ***matplotlib*** para fazer os histogramas."
      ]
    },
    {
      "cell_type": "code",
      "metadata": {
        "id": "iGGZasCz31E9",
        "outputId": "e22f764e-1a99-4547-a83b-31d4a79c85eb",
        "colab": {
          "base_uri": "https://localhost:8080/",
          "height": 354
        }
      },
      "source": [
        "import numpy as np\n",
        "import matplotlib.pyplot as plt\n",
        "\n",
        "a, b, c = np.loadtxt('dados_alunos.txt', unpack='True')\n",
        "\n",
        "bins_a = np.linspace(15, 45, 30)\n",
        "bins_b = np.linspace(1.5, 2, 30)\n",
        "bins_c = np.linspace(40, 120, 30)\n",
        "\n",
        "plt.figure(figsize=(20, 5))\n",
        "\"\"\"print(a)\n",
        "print(b)\n",
        "print(c)\"\"\"\n",
        "\n",
        "\n",
        "plt.subplot(131)\n",
        "plt.hist(a, bins_a, color = 'blue', rwidth=0.8)\n",
        "plt.title('Histograma Idade de Alunos')\n",
        "plt.style.use('ggplot')\n",
        "plt.xlabel('Idade')\n",
        "plt.ylabel('Alunos')\n",
        "\n",
        "\n",
        "plt.subplot(132)\n",
        "plt.hist(b, bins_b, color = 'red', rwidth=0.8)\n",
        "plt.title('Histograma Altura de Alunos')\n",
        "plt.xlabel('Altura')\n",
        "plt.ylabel('Alunos')\n",
        "plt.style.use('ggplot')\n",
        "\n",
        "\n",
        "plt.subplot(133)\n",
        "plt.hist(c, bins_c, color = 'green', rwidth=0.8)\n",
        "plt.title('Histograma Massa Corporal de Alunos')\n",
        "plt.xlabel('Massa corporea')\n",
        "plt.ylabel('Alunos')\n",
        "plt.style.use('ggplot')\n",
        "\n",
        "plt.show()"
      ],
      "execution_count": 20,
      "outputs": [
        {
          "output_type": "display_data",
          "data": {
            "image/png": "[encoded data removed]",
            "text/plain": [
              "<Figure size 1440x360 with 3 Axes>"
            ]
          },
          "metadata": {
            "tags": []
          }
        }
      ]
    },
    {
      "cell_type": "markdown",
      "metadata": {
        "id": "WWn7DjBc6NM3"
      },
      "source": [
        "2) Estude os métodos do módulo ```os``` e faça um script que liste todos os arquivos de um dado diretório assim como de seus subdiretórios. **Dica**: use o método ```walk```."
      ]
    },
    {
      "cell_type": "code",
      "metadata": {
        "id": "ougPSB1Q6NHC",
        "outputId": "0a94a5d4-11ee-493c-c7b7-6e3d4726da75",
        "colab": {
          "base_uri": "https://localhost:8080/",
          "height": 391
        }
      },
      "source": [
        "import os\n",
        "\n",
        "def walk(dirname):\n",
        "    \"\"\"Printa todos os arquivos de um dado diretorio assim como de seus subdiretorios.\n",
        "    dirname: nome de string do  diretorio\n",
        "    \"\"\"\n",
        "    for name in os.listdir(dirname):\n",
        "        path = os.path.join(dirname, name)\n",
        "\n",
        "        if os.path.isfile(path):\n",
        "            print(path)     # vai mostrar o nome do arquivo (file)\n",
        "        else:\n",
        "            walk(path)      # se não for um arquivo, mostrará o diretório e os arquvos dentro do mesmo\n",
        "\n",
        "if __name__ == '__main__':\n",
        "    walk('.')"
      ],
      "execution_count": null,
      "outputs": [
        {
          "output_type": "stream",
          "text": [
            "./.config/.last_survey_prompt.yaml\n",
            "./.config/.last_update_check.json\n",
            "./.config/.last_opt_in_prompt.yaml\n",
            "./.config/config_sentinel\n",
            "./.config/configurations/config_default\n",
            "./.config/active_config\n",
            "./.config/logs/2020.10.14/16.31.25.706256.log\n",
            "./.config/logs/2020.10.14/16.30.50.869240.log\n",
            "./.config/logs/2020.10.14/16.31.46.824031.log\n",
            "./.config/logs/2020.10.14/16.31.46.119103.log\n",
            "./.config/logs/2020.10.14/16.31.10.843101.log\n",
            "./.config/logs/2020.10.14/16.31.31.333159.log\n",
            "./.config/gce\n",
            "./.config/.metricsUUID\n",
            "./dados_alunos.txt\n",
            "./lerarquivos.py\n",
            "./sample_data/anscombe.json\n",
            "./sample_data/README.md\n",
            "./sample_data/mnist_test.csv\n",
            "./sample_data/california_housing_test.csv\n",
            "./sample_data/california_housing_train.csv\n",
            "./sample_data/mnist_train_small.csv\n"
          ],
          "name": "stdout"
        }
      ]
    },
    {
      "cell_type": "markdown",
      "metadata": {
        "id": "AEzXtgB46NCC"
      },
      "source": [
        "3) **Reescreva o script dessa aula, ```lcount.py``` na forma de uma módulo. Qual o valor da variável ```__name__``` quando o módulo é importado?**"
      ]
    },
    {
      "cell_type": "code",
      "metadata": {
        "id": "og2GUkvr6M7r",
        "outputId": "e0c3559f-8294-42e8-b694-ede256d80d3d",
        "colab": {
          "base_uri": "https://localhost:8080/",
          "height": 34
        }
      },
      "source": [
        "%%writefile lcount.py\n",
        "\n",
        "def linecount(filename):\n",
        "    count = 0\n",
        "    for line in open(filename):\n",
        "        count += 1\n",
        "    return count\n",
        "\n",
        "linecount('lcount.py')"
      ],
      "execution_count": null,
      "outputs": [
        {
          "output_type": "stream",
          "text": [
            "Writing lcount.py\n"
          ],
          "name": "stdout"
        }
      ]
    },
    {
      "cell_type": "code",
      "metadata": {
        "id": "qkwph9Ed7gmk",
        "outputId": "7de6d180-594d-4502-85ba-3cf745b4dce0",
        "colab": {
          "base_uri": "https://localhost:8080/",
          "height": 34
        }
      },
      "source": [
        "import lcount as lc\n",
        "\n",
        "print(lc.linecount(\"dados_alunos.txt\"))"
      ],
      "execution_count": null,
      "outputs": [
        {
          "output_type": "stream",
          "text": [
            "57\n"
          ],
          "name": "stdout"
        }
      ]
    },
    {
      "cell_type": "markdown",
      "metadata": {
        "id": "ZNr0CpgJ6M0t"
      },
      "source": [
        "4) Escreva uma função chamada ler_arquivos que tome como argumento um nome de arquivo, leia um arquivo com um número qualquer de colunas e retorne um **dicionário** que tenha como *keys* os números das colunas e como valor uma lista dos valores associados a cada coluna do arquivo. Use o arquivo dados_alunos.txt. Caso o arquivo tiver o cabeçalho das colunas, p.ex. dados_alunos_cabecalho.txt, a key deve ser a palavra do cabeçalho.\n",
        "\n",
        "   * Caso não queria usar dicionários, você pode pensar em uma estrutura de dados alternativa para armazenar os dados do arquivo, como por exemplo uma ou mais listas.\n",
        "   * Também pode usar funções já existentes nos módulos de Python `numpy` ou `pandas` para ler arquivos de texto e armazenar nas estruturas desses módulos (`DataFrames` ou `arrays`).\n",
        "   * Adapte a função acima para, se ocorrer um erro ao abrir, ler ou fechar arquivos, o programa capturar a exceção, imprimir uma mensagem de erro e sair."
      ]
    },
    {
      "cell_type": "code",
      "metadata": {
        "id": "AKF_xQmj6MuN",
        "outputId": "671ff1c4-9b00-4986-82af-43229ef2b211",
        "colab": {
          "base_uri": "https://localhost:8080/",
          "height": 374
        }
      },
      "source": [
        "import numpy as np\n",
        "\n",
        "def ler_arquivos(filename):\n",
        "    x, y, z = np.loadtxt(filename, unpack='True')\n",
        "    print(f\"Primeira coluna: \\n\", x,'\\n')\n",
        "    print(\"Segunda coluna: \\n\", y,'\\n')\n",
        "    print(\"Terceira coluna: \\n\", z,'\\n')\n",
        "\n",
        "def numero_colunas(filename):\n",
        "    n_column = np.loadtxt(filename, dtype='str').shape[1]\n",
        "    print(\"Numero de colunas: \", n_column)\n",
        "\n",
        "ler_arquivos('dados_alunos.txt')\n",
        "numero_colunas('dados_alunos.txt')"
      ],
      "execution_count": 22,
      "outputs": [
        {
          "output_type": "stream",
          "text": [
            "Primeira coluna: \n",
            " [18. 18. 18. 18. 19. 18. 21. 18. 18. 18. 17. 18. 18. 17. 19. 22. 18. 19.\n",
            " 18. 20. 17. 18. 18. 17. 19. 18. 34. 18. 19. 18. 18. 20. 18. 23. 18. 18.\n",
            " 17. 19. 18. 18. 19. 19. 28. 19. 26. 19. 19. 20. 20. 19. 22. 19. 18. 28.\n",
            " 20. 44. 18.] \n",
            "\n",
            "Segunda coluna: \n",
            " [1.68 1.94 1.7  1.76 1.73 1.66 1.8  1.6  1.67 1.73 1.73 1.61 1.69 1.71\n",
            " 1.78 1.68 1.7  1.64 1.64 1.8  1.75 1.78 1.75 1.69 1.78 1.7  1.75 1.64\n",
            " 1.75 1.67 1.7  1.8  1.63 1.89 1.71 1.65 1.72 1.65 1.75 1.7  1.81 1.65\n",
            " 1.52 1.79 1.79 1.75 1.8  1.75 1.73 1.7  1.78 1.77 1.53 1.54 1.83 1.85\n",
            " 1.6 ] \n",
            "\n",
            "Terceira coluna: \n",
            " [ 80.   60.   80.   66.   87.5  58.   92.   57.   64.   57.   75.   59.\n",
            "  90.   67.   60.   72.   73.   86.   75.   95.   60.   75.   65.   60.\n",
            "  73.   63.   78.   64.   50.   61.   70.   60.   57.  110.   71.   65.\n",
            "  67.   58.   90.   64.   70.   43.   50.   78.   82.   61.   70.   70.\n",
            "  70.   50.   72.   55.   58.   50.   70.   90.   51. ] \n",
            "\n",
            "Numero de colunas:  3\n"
          ],
          "name": "stdout"
        }
      ]
    },
    {
      "cell_type": "markdown",
      "metadata": {
        "id": "iLSrHmKp6Mo-"
      },
      "source": [
        "5) **Adapte o script acima para ser um módulo.**"
      ]
    },
    {
      "cell_type": "code",
      "metadata": {
        "id": "njNlx7sE6Mib",
        "outputId": "b0a551e2-da08-4998-e2de-4ec67e878474",
        "colab": {
          "base_uri": "https://localhost:8080/",
          "height": 374
        }
      },
      "source": [
        "import numpy as np\n",
        "\n",
        "def ler_arquivos(filename):\n",
        "    try:\n",
        "        fin = open(filename)\n",
        "    except: \n",
        "        print('Nao me dirige a palavra, faz favor')\n",
        "        return \n",
        "\n",
        "    x, y, z = np.loadtxt(filename, unpack='True')\n",
        "    print(\"Primeira coluna: \\n\", x,'\\n')\n",
        "    print(\"Segunda coluna: \\n\", y,'\\n')\n",
        "    print(\"Terceira coluna: \\n\", z,'\\n')\n",
        "\n",
        "def numero_colunas(filename):\n",
        "    n_column = np.loadtxt(filename, dtype='str').shape[1]\n",
        "    print(\"Numero de colunas: \", n_column)\n",
        "\n",
        "ler_arquivos('dados_alunos.txt')\n",
        "numero_colunas('dados_alunos.txt')\n"
      ],
      "execution_count": null,
      "outputs": [
        {
          "output_type": "stream",
          "text": [
            "Primeira coluna: \n",
            " [18. 18. 18. 18. 19. 18. 21. 18. 18. 18. 17. 18. 18. 17. 19. 22. 18. 19.\n",
            " 18. 20. 17. 18. 18. 17. 19. 18. 34. 18. 19. 18. 18. 20. 18. 23. 18. 18.\n",
            " 17. 19. 18. 18. 19. 19. 28. 19. 26. 19. 19. 20. 20. 19. 22. 19. 18. 28.\n",
            " 20. 44. 18.] \n",
            "\n",
            "Segunda coluna: \n",
            " [1.68 1.94 1.7  1.76 1.73 1.66 1.8  1.6  1.67 1.73 1.73 1.61 1.69 1.71\n",
            " 1.78 1.68 1.7  1.64 1.64 1.8  1.75 1.78 1.75 1.69 1.78 1.7  1.75 1.64\n",
            " 1.75 1.67 1.7  1.8  1.63 1.89 1.71 1.65 1.72 1.65 1.75 1.7  1.81 1.65\n",
            " 1.52 1.79 1.79 1.75 1.8  1.75 1.73 1.7  1.78 1.77 1.53 1.54 1.83 1.85\n",
            " 1.6 ] \n",
            "\n",
            "Terceira coluna: \n",
            " [ 80.   60.   80.   66.   87.5  58.   92.   57.   64.   57.   75.   59.\n",
            "  90.   67.   60.   72.   73.   86.   75.   95.   60.   75.   65.   60.\n",
            "  73.   63.   78.   64.   50.   61.   70.   60.   57.  110.   71.   65.\n",
            "  67.   58.   90.   64.   70.   43.   50.   78.   82.   61.   70.   70.\n",
            "  70.   50.   72.   55.   58.   50.   70.   90.   51. ] \n",
            "\n",
            "Numero de colunas:  3\n"
          ],
          "name": "stdout"
        }
      ]
    },
    {
      "cell_type": "code",
      "metadata": {
        "id": "F7XoozXs8UuA",
        "outputId": "f2a03f76-22a2-4fc7-e91c-7ff47a089182",
        "colab": {
          "base_uri": "https://localhost:8080/",
          "height": 34
        }
      },
      "source": [
        "%%writefile lerarquivos.py\n",
        "import numpy as np\n",
        "\n",
        "def ler_arquivos(filename):\n",
        "    try:\n",
        "        fin = open(filename)\n",
        "    except: \n",
        "        print('Nao me dirige a palavra, faz favor')\n",
        "        return \n",
        "\n",
        "    x, y, z = np.loadtxt(filename, unpack='True')\n",
        "    #print(\"Primeira coluna: \", x,'\\n')\n",
        "    #print(\"Segunda coluna: \", y,'\\n')\n",
        "    #print(\"Terceira coluna: \", z,'\\n')\n",
        "    return x, y ,z\n",
        "\n",
        "def numero_colunas(filename):\n",
        "    n_column = np.loadtxt(filename, dtype='str').shape[1]\n",
        "    return n_column\n",
        "\n",
        "if __name__ == '__main__':\n",
        "    ler_arquivos('dados_alunos.txt')\n",
        "    ler_arquivos('dados_alunos1.txt')\n",
        "    print(\"Numero de colunas: \", numero_colunas('dados_alunos.txt'))"
      ],
      "execution_count": null,
      "outputs": [
        {
          "output_type": "stream",
          "text": [
            "Overwriting lerarquivos.py\n"
          ],
          "name": "stdout"
        }
      ]
    },
    {
      "cell_type": "markdown",
      "metadata": {
        "id": "U2DlX1Ag6Mdj"
      },
      "source": [
        "**6) Escreva um script que importe o módulo criado acima e faça um histograma para cada coluna do arquivo, com seus respectivos valores. Use o dicionário ou a estrutura de dados criada em 1).**"
      ]
    },
    {
      "cell_type": "code",
      "metadata": {
        "id": "_ovLsJbD6MVY",
        "outputId": "608d9789-c5b3-4301-915d-f200258248a2",
        "colab": {
          "base_uri": "https://localhost:8080/",
          "height": 1000
        }
      },
      "source": [
        "from lerarquivos import*\n",
        "import numpy as np\n",
        "import matplotlib.pyplot as plt\n",
        "\n",
        "x, y, z = ler_arquivos('dados_alunos.txt')\n",
        "\n",
        "bins_x = np.linspace(15, 45, 30)\n",
        "bins_y = np.linspace(1.5, 2, 30)\n",
        "bins_z = np.linspace(40, 120, 30)\n",
        "\n",
        "plt.figure(1)\n",
        "plt.hist(x, bins_x, histtype='bar', rwidth=0.8)\n",
        "plt.title('Primeira Coluna')\n",
        "plt.figure(2)\n",
        "plt.hist(y, bins_y, histtype='bar', rwidth=0.8)\n",
        "plt.title('Segunda Coluna')\n",
        "plt.figure(3)\n",
        "plt.hist(z, bins_z, histtype='bar', rwidth=0.8)\n",
        "plt.title('Terceira Coluna')\n",
        "plt.show()"
      ],
      "execution_count": null,
      "outputs": [
        {
          "output_type": "stream",
          "text": [
            "Primeira coluna:  [18. 18. 18. 18. 19. 18. 21. 18. 18. 18. 17. 18. 18. 17. 19. 22. 18. 19.\n",
            " 18. 20. 17. 18. 18. 17. 19. 18. 34. 18. 19. 18. 18. 20. 18. 23. 18. 18.\n",
            " 17. 19. 18. 18. 19. 19. 28. 19. 26. 19. 19. 20. 20. 19. 22. 19. 18. 28.\n",
            " 20. 44. 18.] \n",
            "\n",
            "Segunda coluna:  [1.68 1.94 1.7  1.76 1.73 1.66 1.8  1.6  1.67 1.73 1.73 1.61 1.69 1.71\n",
            " 1.78 1.68 1.7  1.64 1.64 1.8  1.75 1.78 1.75 1.69 1.78 1.7  1.75 1.64\n",
            " 1.75 1.67 1.7  1.8  1.63 1.89 1.71 1.65 1.72 1.65 1.75 1.7  1.81 1.65\n",
            " 1.52 1.79 1.79 1.75 1.8  1.75 1.73 1.7  1.78 1.77 1.53 1.54 1.83 1.85\n",
            " 1.6 ] \n",
            "\n",
            "Terceira coluna:  [ 80.   60.   80.   66.   87.5  58.   92.   57.   64.   57.   75.   59.\n",
            "  90.   67.   60.   72.   73.   86.   75.   95.   60.   75.   65.   60.\n",
            "  73.   63.   78.   64.   50.   61.   70.   60.   57.  110.   71.   65.\n",
            "  67.   58.   90.   64.   70.   43.   50.   78.   82.   61.   70.   70.\n",
            "  70.   50.   72.   55.   58.   50.   70.   90.   51. ] \n",
            "\n"
          ],
          "name": "stdout"
        },
        {
          "output_type": "display_data",
          "data": {
            "image/png": "[encoded data removed]",
            "text/plain": [
              "<Figure size 432x288 with 1 Axes>"
            ]
          },
          "metadata": {
            "tags": []
          }
        },
        {
          "output_type": "display_data",
          "data": {
            "image/png": "[encoded data removed]",
            "text/plain": [
              "<Figure size 432x288 with 1 Axes>"
            ]
          },
          "metadata": {
            "tags": []
          }
        },
        {
          "output_type": "display_data",
          "data": {
            "image/png": "[encoded data removed]",
            "text/plain": [
              "<Figure size 432x288 with 1 Axes>"
            ]
          },
          "metadata": {
            "tags": []
          }
        }
      ]
    },
    {
      "cell_type": "markdown",
      "metadata": {
        "id": "x9kq9Fc76MO1"
      },
      "source": [
        "7) Adicione uma função ao script criado em 6), que calcule o desvio padrão amostral, desvio padrão populacional e média de cada distribuição representada nos histogramas acima. Para tal, use o módulo `statistics` do Python ou outro módulo de Python (`numpy`, `scipy`)."
      ]
    },
    {
      "cell_type": "code",
      "metadata": {
        "id": "g3MuojSI6L7R",
        "outputId": "d9a40fa9-5f4f-4461-b822-c02f2d9f17b3",
        "colab": {
          "base_uri": "https://localhost:8080/",
          "height": 1000
        }
      },
      "source": [
        "from lerarquivos import*\n",
        "import numpy as np\n",
        "import matplotlib.pyplot as plt\n",
        "from scipy.stats import tstd\n",
        "\n",
        "def sonic(x):\n",
        "    print(\"Desvio padrao populacional:  \", np.std(x))\n",
        "    print(\"Desvio padrao amostral: \", tstd(x))\n",
        "    print(\"Media: \", np.mean(x))\n",
        "    return np.std(x), tstd(x), np.mean(x)\n",
        "\n",
        "x, y, z = ler_arquivos('dados_alunos.txt')\n",
        "\n",
        "print(\"Figura 1: \")\n",
        "sonic(x)\n",
        "print(\"Figura 2: \")\n",
        "sonic(y)\n",
        "print(\"Figura 3: \")\n",
        "sonic(z)\n",
        "\n",
        "bins_x = np.linspace(15, 45, 30)\n",
        "bins_y = np.linspace(1.5, 2, 30)\n",
        "bins_z = np.linspace(40, 120, 30)\n",
        "\n",
        "plt.figure(1)\n",
        "plt.hist(x, bins_x, histtype='bar', rwidth=0.8)\n",
        "plt.title('Primeira Coluna')\n",
        "plt.figure(2)\n",
        "plt.hist(y, bins_y, histtype='bar', rwidth=0.8)\n",
        "plt.title('Segunda Coluna')\n",
        "plt.figure(3)\n",
        "plt.hist(z, bins_z, histtype='bar', rwidth=0.8)\n",
        "plt.title('Terceira Coluna')\n",
        "plt.show()"
      ],
      "execution_count": null,
      "outputs": [
        {
          "output_type": "stream",
          "text": [
            "Primeira coluna:  [18. 18. 18. 18. 19. 18. 21. 18. 18. 18. 17. 18. 18. 17. 19. 22. 18. 19.\n",
            " 18. 20. 17. 18. 18. 17. 19. 18. 34. 18. 19. 18. 18. 20. 18. 23. 18. 18.\n",
            " 17. 19. 18. 18. 19. 19. 28. 19. 26. 19. 19. 20. 20. 19. 22. 19. 18. 28.\n",
            " 20. 44. 18.] \n",
            "\n",
            "Segunda coluna:  [1.68 1.94 1.7  1.76 1.73 1.66 1.8  1.6  1.67 1.73 1.73 1.61 1.69 1.71\n",
            " 1.78 1.68 1.7  1.64 1.64 1.8  1.75 1.78 1.75 1.69 1.78 1.7  1.75 1.64\n",
            " 1.75 1.67 1.7  1.8  1.63 1.89 1.71 1.65 1.72 1.65 1.75 1.7  1.81 1.65\n",
            " 1.52 1.79 1.79 1.75 1.8  1.75 1.73 1.7  1.78 1.77 1.53 1.54 1.83 1.85\n",
            " 1.6 ] \n",
            "\n",
            "Terceira coluna:  [ 80.   60.   80.   66.   87.5  58.   92.   57.   64.   57.   75.   59.\n",
            "  90.   67.   60.   72.   73.   86.   75.   95.   60.   75.   65.   60.\n",
            "  73.   63.   78.   64.   50.   61.   70.   60.   57.  110.   71.   65.\n",
            "  67.   58.   90.   64.   70.   43.   50.   78.   82.   61.   70.   70.\n",
            "  70.   50.   72.   55.   58.   50.   70.   90.   51. ] \n",
            "\n",
            "Figura 1: \n",
            "Desvio padrao populacional:   4.413387953566483\n",
            "Desvio padrao amostral:  4.452618840226598\n",
            "Media:  19.82456140350877\n",
            "Figura 2: \n",
            "Desvio padrao populacional:   0.08189168502559452\n",
            "Desvio padrao amostral:  0.08261962543043672\n",
            "Media:  1.7175438596491226\n",
            "Figura 3: \n",
            "Desvio padrao populacional:   13.108855986056064\n",
            "Desvio padrao amostral:  13.225381441974152\n",
            "Media:  68.5\n"
          ],
          "name": "stdout"
        },
        {
          "output_type": "display_data",
          "data": {
            "image/png": "[encoded data removed]",
            "text/plain": [
              "<Figure size 432x288 with 1 Axes>"
            ]
          },
          "metadata": {
            "tags": []
          }
        },
        {
          "output_type": "display_data",
          "data": {
            "image/png": "[encoded data removed]",
            "text/plain": [
              "<Figure size 432x288 with 1 Axes>"
            ]
          },
          "metadata": {
            "tags": []
          }
        },
        {
          "output_type": "display_data",
          "data": {
            "image/png": "[encoded data removed]",
            "text/plain": [
              "<Figure size 432x288 with 1 Axes>"
            ]
          },
          "metadata": {
            "tags": []
          }
        }
      ]
    }
  ]
}