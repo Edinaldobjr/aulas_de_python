{
  "nbformat": 4,
  "nbformat_minor": 0,
  "metadata": {
    "colab": {
      "name": "edinaldo_aula_9.ipynb",
      "provenance": [],
      "collapsed_sections": [],
      "authorship_tag": "ABX9TyMoAhiEc6c7MM57jYiieY1j",
      "include_colab_link": true
    },
    "kernelspec": {
      "name": "python3",
      "display_name": "Python 3"
    }
  },
  "cells": [
    {
      "cell_type": "markdown",
      "metadata": {
        "id": "view-in-github",
        "colab_type": "text"
      },
      "source": [
        "<a href=\"https://colab.research.google.com/github/Edinaldobjr/aulas_de_python/blob/master/exercicios/edinaldo_aula_9.ipynb\" target=\"_parent\"><img src=\"https://colab.research.google.com/assets/colab-badge.svg\" alt=\"Open In Colab\"/></a>"
      ]
    },
    {
      "cell_type": "code",
      "metadata": {
        "id": "kpb-ypaThrJV",
        "outputId": "f258bf13-b74e-429c-cd43-4707a1ec4feb",
        "colab": {
          "base_uri": "https://localhost:8080/",
          "height": 34
        }
      },
      "source": [
        "%%writefile dados_alunos.txt\n",
        "18\t1.68\t80\n",
        "18\t1.94\t60\n",
        "18\t1.7\t80\n",
        "18\t1.76\t66\n",
        "19\t1.73\t87.5\n",
        "18\t1.66\t58\n",
        "21\t1.8\t92\n",
        "18\t1.6\t57\n",
        "18\t1.67\t64\n",
        "18\t1.73\t57\n",
        "17\t1.73\t75\n",
        "18\t1.61\t59\n",
        "18\t1.69\t90\n",
        "17\t1.71\t67\n",
        "19\t1.78\t60\n",
        "22\t1.68\t72\n",
        "18\t1.7\t73\n",
        "19\t1.64\t86\n",
        "18\t1.64\t75\n",
        "20\t1.8\t95\n",
        "17\t1.75\t60\n",
        "18\t1.78\t75\n",
        "18\t1.75\t65\n",
        "17\t1.69\t60\n",
        "19\t1.78\t73\n",
        "18\t1.7\t63\n",
        "34\t1.75\t78\n",
        "18\t1.64\t64\n",
        "19\t1.75\t50\n",
        "18\t1.67\t61\n",
        "18\t1.7\t70\n",
        "20\t1.8\t60\n",
        "18\t1.63\t57\n",
        "23\t1.89\t110\n",
        "18\t1.71\t71\n",
        "18\t1.65\t65\n",
        "17\t1.72\t67\n",
        "19\t1.65\t58\n",
        "18\t1.75\t90\n",
        "18\t1.7\t64\n",
        "19\t1.81\t70\n",
        "19\t1.65\t43\n",
        "28\t1.52\t50\n",
        "19\t1.79\t78\n",
        "26\t1.79\t82\n",
        "19\t1.75\t61\n",
        "19\t1.8\t70\n",
        "20\t1.75\t70\n",
        "20\t1.73\t70\n",
        "19\t1.7\t50\n",
        "22\t1.78\t72\n",
        "19\t1.77\t55\n",
        "18\t1.53\t58\n",
        "28\t1.54\t50\n",
        "20\t1.83\t70\n",
        "44\t1.85\t90\n",
        "18\t1.6\t51"
      ],
      "execution_count": 1,
      "outputs": [
        {
          "output_type": "stream",
          "text": [
            "Writing dados_alunos.txt\n"
          ],
          "name": "stdout"
        }
      ]
    },
    {
      "cell_type": "markdown",
      "metadata": {
        "id": "LkKV2_H23Ts1"
      },
      "source": [
        "## Exercícios:\n",
        "\n",
        "1) Utilizando um arquivo de dados com várias colunas (por exemplo, o arquivo ```dados_alunos.txt```), faça um histograma com os dados de cada uma das colunas. **Dica**: utilize o ***matplotlib*** para fazer os histogramas."
      ]
    },
    {
      "cell_type": "code",
      "metadata": {
        "id": "iGGZasCz31E9",
        "outputId": "5b3898a3-5554-41e0-88cf-8590ffd87ee2",
        "colab": {
          "base_uri": "https://localhost:8080/",
          "height": 260
        }
      },
      "source": [
        "import numpy as np\n",
        "import matplotlib.pyplot as plt\n",
        "\n",
        "a, b, c = np.loadtxt('dados_alunos.txt', unpack='True')\n",
        "\n",
        "bins_a = np.linspace(15, 45, 30)\n",
        "bins_b = np.linspace(1.5, 2, 30)\n",
        "bins_c = np.linspace(40, 120, 30)\n",
        "\n",
        "plt.figure(figsize=(20, 5))\n",
        "\n",
        "plt.subplot(131)\n",
        "plt.hist(a, bins_a, color = 'blue', rwidth=0.8)\n",
        "plt.title('Histograma Idade de Alunos')\n",
        "plt.style.use('ggplot')\n",
        "plt.xlabel('Idade')\n",
        "plt.ylabel('Alunos')\n",
        "\n",
        "plt.subplot(132)\n",
        "plt.hist(b, bins_b, color = 'red', rwidth=0.8)\n",
        "plt.title('Histograma Altura de Alunos')\n",
        "plt.xlabel('Altura')\n",
        "plt.ylabel('Alunos')\n",
        "plt.style.use('ggplot')\n",
        "\n",
        "plt.subplot(133)\n",
        "plt.hist(c, bins_c, color = 'green', rwidth=0.8)\n",
        "plt.title('Histograma Massa Corporal de Alunos')\n",
        "plt.xlabel('Massa corporea')\n",
        "plt.ylabel('Alunos')\n",
        "plt.style.use('ggplot')\n",
        "\n",
        "plt.show()"
      ],
      "execution_count": 2,
      "outputs": [
        {
          "output_type": "display_data",
          "data": {
            "image/png": "[encoded data removed]",
            "text/plain": [
              "<Figure size 1440x360 with 3 Axes>"
            ]
          },
          "metadata": {
            "tags": [],
            "needs_background": "light"
          }
        }
      ]
    },
    {
      "cell_type": "markdown",
      "metadata": {
        "id": "WWn7DjBc6NM3"
      },
      "source": [
        "2) Estude os métodos do módulo ```os``` e faça um script que liste todos os arquivos de um dado diretório assim como de seus subdiretórios. **Dica**: use o método ```walk```."
      ]
    },
    {
      "cell_type": "code",
      "metadata": {
        "id": "ougPSB1Q6NHC",
        "outputId": "f9ad64ff-07c1-44f2-b77b-c4c3d057c360",
        "colab": {
          "base_uri": "https://localhost:8080/",
          "height": 374
        }
      },
      "source": [
        "import os\n",
        "\n",
        "def walk(dirname):\n",
        "    \"\"\"Printa todos os arquivos de um dado diretorio assim como de seus subdiretorios.\n",
        "    dirname: nome de string do  diretorio\n",
        "    \"\"\"\n",
        "    for name in os.listdir(dirname):\n",
        "        path = os.path.join(dirname, name)\n",
        "\n",
        "        if os.path.isfile(path):\n",
        "            print(path)     # vai mostrar o nome do arquivo (file)\n",
        "        else:\n",
        "            walk(path)      # se não for um arquivo, mostrará o diretório e os arquvos dentro do mesmo\n",
        "\n",
        "if __name__ == '__main__':\n",
        "    walk('.')"
      ],
      "execution_count": 3,
      "outputs": [
        {
          "output_type": "stream",
          "text": [
            "./.config/.last_opt_in_prompt.yaml\n",
            "./.config/.last_survey_prompt.yaml\n",
            "./.config/configurations/config_default\n",
            "./.config/.last_update_check.json\n",
            "./.config/active_config\n",
            "./.config/logs/2020.10.14/16.31.46.824031.log\n",
            "./.config/logs/2020.10.14/16.31.31.333159.log\n",
            "./.config/logs/2020.10.14/16.30.50.869240.log\n",
            "./.config/logs/2020.10.14/16.31.46.119103.log\n",
            "./.config/logs/2020.10.14/16.31.25.706256.log\n",
            "./.config/logs/2020.10.14/16.31.10.843101.log\n",
            "./.config/gce\n",
            "./.config/config_sentinel\n",
            "./.config/.metricsUUID\n",
            "./dados_alunos.txt\n",
            "./sample_data/anscombe.json\n",
            "./sample_data/README.md\n",
            "./sample_data/mnist_test.csv\n",
            "./sample_data/california_housing_test.csv\n",
            "./sample_data/california_housing_train.csv\n",
            "./sample_data/mnist_train_small.csv\n"
          ],
          "name": "stdout"
        }
      ]
    },
    {
      "cell_type": "markdown",
      "metadata": {
        "id": "AEzXtgB46NCC"
      },
      "source": [
        "3) **Reescreva o script dessa aula, ```lcount.py``` na forma de uma módulo. Qual o valor da variável ```__name__``` quando o módulo é importado?**"
      ]
    },
    {
      "cell_type": "code",
      "metadata": {
        "id": "og2GUkvr6M7r",
        "outputId": "37014787-361a-4ea5-968b-251e9a65d228",
        "colab": {
          "base_uri": "https://localhost:8080/",
          "height": 34
        }
      },
      "source": [
        "%%writefile lcount.py\n",
        "\n",
        "def linecount(filename):\n",
        "    count = 0\n",
        "    for line in open(filename):\n",
        "        count += 1\n",
        "    return count\n",
        "\n",
        "linecount('lcount.py')"
      ],
      "execution_count": 4,
      "outputs": [
        {
          "output_type": "stream",
          "text": [
            "Writing lcount.py\n"
          ],
          "name": "stdout"
        }
      ]
    },
    {
      "cell_type": "code",
      "metadata": {
        "id": "qkwph9Ed7gmk",
        "outputId": "6d8b5f09-6384-46e6-859b-3dd068484e2a",
        "colab": {
          "base_uri": "https://localhost:8080/",
          "height": 34
        }
      },
      "source": [
        "import lcount\n",
        "\n",
        "if __name__ == '__main__':\n",
        "    print(__name__)"
      ],
      "execution_count": 5,
      "outputs": [
        {
          "output_type": "stream",
          "text": [
            "__main__\n"
          ],
          "name": "stdout"
        }
      ]
    },
    {
      "cell_type": "markdown",
      "metadata": {
        "id": "ZNr0CpgJ6M0t"
      },
      "source": [
        "4) Escreva uma função chamada ler_arquivos que tome como argumento um nome de arquivo, leia um arquivo com um número qualquer de colunas e retorne um **dicionário** que tenha como *keys* os números das colunas e como valor uma lista dos valores associados a cada coluna do arquivo. Use o arquivo dados_alunos.txt. Caso o arquivo tiver o cabeçalho das colunas, p.ex. dados_alunos_cabecalho.txt, a key deve ser a palavra do cabeçalho.\n",
        "\n",
        "   * Caso não queria usar dicionários, você pode pensar em uma estrutura de dados alternativa para armazenar os dados do arquivo, como por exemplo uma ou mais listas.\n",
        "   * Também pode usar funções já existentes nos módulos de Python `numpy` ou `pandas` para ler arquivos de texto e armazenar nas estruturas desses módulos (`DataFrames` ou `arrays`).\n",
        "   * Adapte a função acima para, se ocorrer um erro ao abrir, ler ou fechar arquivos, o programa capturar a exceção, imprimir uma mensagem de erro e sair."
      ]
    },
    {
      "cell_type": "code",
      "metadata": {
        "id": "AKF_xQmj6MuN",
        "outputId": "85ad14f5-33cc-4ba9-c7f0-7e00029c9223",
        "colab": {
          "base_uri": "https://localhost:8080/",
          "height": 374
        }
      },
      "source": [
        "import numpy as np\n",
        "\"\"\"\n",
        ".shape[0] = retorna o numero de linhas\n",
        ".shape[1] = retorna o numero de colunas\n",
        "\"\"\"\n",
        "\n",
        "def ler_arquivos(filename):\n",
        "    x, y, z = np.loadtxt(filename, unpack='True')\n",
        "    print(\"Coluna 1: \\n\", x,'\\n', '-'*70)\n",
        "    print(\"Coluna 2: \\n\", y,'\\n', '-'*70)\n",
        "    print(\"Coluna 3: \\n\", z,'\\n', '-'*70)\n",
        "\n",
        "\n",
        "def cont_colunas(filename):\n",
        "    colunas = np.loadtxt(filename, dtype='str').shape[1]\n",
        "    print(\"Total de colunas: \", colunas)\n",
        "\n",
        "\n",
        "ler_arquivos('dados_alunos.txt')\n",
        "cont_colunas('dados_alunos.txt')"
      ],
      "execution_count": 18,
      "outputs": [
        {
          "output_type": "stream",
          "text": [
            "Coluna 1: \n",
            " [18. 18. 18. 18. 19. 18. 21. 18. 18. 18. 17. 18. 18. 17. 19. 22. 18. 19.\n",
            " 18. 20. 17. 18. 18. 17. 19. 18. 34. 18. 19. 18. 18. 20. 18. 23. 18. 18.\n",
            " 17. 19. 18. 18. 19. 19. 28. 19. 26. 19. 19. 20. 20. 19. 22. 19. 18. 28.\n",
            " 20. 44. 18.] \n",
            " ----------------------------------------------------------------------\n",
            "Coluna 2: \n",
            " [1.68 1.94 1.7  1.76 1.73 1.66 1.8  1.6  1.67 1.73 1.73 1.61 1.69 1.71\n",
            " 1.78 1.68 1.7  1.64 1.64 1.8  1.75 1.78 1.75 1.69 1.78 1.7  1.75 1.64\n",
            " 1.75 1.67 1.7  1.8  1.63 1.89 1.71 1.65 1.72 1.65 1.75 1.7  1.81 1.65\n",
            " 1.52 1.79 1.79 1.75 1.8  1.75 1.73 1.7  1.78 1.77 1.53 1.54 1.83 1.85\n",
            " 1.6 ] \n",
            " ----------------------------------------------------------------------\n",
            "Coluna 3: \n",
            " [ 80.   60.   80.   66.   87.5  58.   92.   57.   64.   57.   75.   59.\n",
            "  90.   67.   60.   72.   73.   86.   75.   95.   60.   75.   65.   60.\n",
            "  73.   63.   78.   64.   50.   61.   70.   60.   57.  110.   71.   65.\n",
            "  67.   58.   90.   64.   70.   43.   50.   78.   82.   61.   70.   70.\n",
            "  70.   50.   72.   55.   58.   50.   70.   90.   51. ] \n",
            " ----------------------------------------------------------------------\n",
            "Total de colunas:  3\n"
          ],
          "name": "stdout"
        }
      ]
    },
    {
      "cell_type": "code",
      "metadata": {
        "id": "njNlx7sE6Mib",
        "outputId": "3e6f5904-3d88-4d0e-a198-ba9b3b34326f",
        "colab": {
          "base_uri": "https://localhost:8080/",
          "height": 374
        }
      },
      "source": [
        "import numpy as np\n",
        "\n",
        "def ler_arquivos(filename):\n",
        "    try:\n",
        "        fin = open(filename)\n",
        "    except: \n",
        "        print('Pzzz! Pzzz! Erro encontrado!')\n",
        "        return \n",
        "    x, y, z = np.loadtxt(filename, unpack='True')\n",
        "    print(\"Coluna 1: \\n\", x,'\\n', '-'*70)\n",
        "    print(\"Coluna 2: \\n\", y,'\\n', '-'*70)\n",
        "    print(\"Coluna 3: \\n\", z,'\\n', '-'*70)\n",
        "\n",
        "\n",
        "def cont_colunas(filename):\n",
        "    colunas = np.loadtxt(filename, dtype='str').shape[1]\n",
        "    print(\"Total de colunas: \", colunas)\n",
        "\n",
        "\n",
        "ler_arquivos('dados_alunos.txt')\n",
        "cont_colunas('dados_alunos.txt')\n"
      ],
      "execution_count": 19,
      "outputs": [
        {
          "output_type": "stream",
          "text": [
            "Coluna 1: \n",
            " [18. 18. 18. 18. 19. 18. 21. 18. 18. 18. 17. 18. 18. 17. 19. 22. 18. 19.\n",
            " 18. 20. 17. 18. 18. 17. 19. 18. 34. 18. 19. 18. 18. 20. 18. 23. 18. 18.\n",
            " 17. 19. 18. 18. 19. 19. 28. 19. 26. 19. 19. 20. 20. 19. 22. 19. 18. 28.\n",
            " 20. 44. 18.] \n",
            " ----------------------------------------------------------------------\n",
            "Coluna 2: \n",
            " [1.68 1.94 1.7  1.76 1.73 1.66 1.8  1.6  1.67 1.73 1.73 1.61 1.69 1.71\n",
            " 1.78 1.68 1.7  1.64 1.64 1.8  1.75 1.78 1.75 1.69 1.78 1.7  1.75 1.64\n",
            " 1.75 1.67 1.7  1.8  1.63 1.89 1.71 1.65 1.72 1.65 1.75 1.7  1.81 1.65\n",
            " 1.52 1.79 1.79 1.75 1.8  1.75 1.73 1.7  1.78 1.77 1.53 1.54 1.83 1.85\n",
            " 1.6 ] \n",
            " ----------------------------------------------------------------------\n",
            "Coluna 3: \n",
            " [ 80.   60.   80.   66.   87.5  58.   92.   57.   64.   57.   75.   59.\n",
            "  90.   67.   60.   72.   73.   86.   75.   95.   60.   75.   65.   60.\n",
            "  73.   63.   78.   64.   50.   61.   70.   60.   57.  110.   71.   65.\n",
            "  67.   58.   90.   64.   70.   43.   50.   78.   82.   61.   70.   70.\n",
            "  70.   50.   72.   55.   58.   50.   70.   90.   51. ] \n",
            " ----------------------------------------------------------------------\n",
            "Total de colunas:  3\n"
          ],
          "name": "stdout"
        }
      ]
    },
    {
      "cell_type": "markdown",
      "metadata": {
        "id": "iLSrHmKp6Mo-"
      },
      "source": [
        "5) **Adapte o script acima para ser um módulo.**"
      ]
    },
    {
      "cell_type": "code",
      "metadata": {
        "id": "F7XoozXs8UuA",
        "outputId": "8af4e690-fa5e-4534-aaf7-82c50b86c6b7",
        "colab": {
          "base_uri": "https://localhost:8080/",
          "height": 34
        }
      },
      "source": [
        "%%writefile lerarquivos.py\n",
        "import numpy as np\n",
        "\n",
        "def ler_arquivos(filename):\n",
        "    try:\n",
        "        fin = open(filename)\n",
        "    except: \n",
        "        print('Pzzz! Pzzz! Erro encontrado!')\n",
        "        return \n",
        "    x, y, z = np.loadtxt(filename, unpack='True')\n",
        "    return x, y, z\n",
        "\n",
        "def cont_colunas(filename):\n",
        "    colunas = np.loadtxt(filename, dtype='str').shape[1]\n",
        "    return colunas\n",
        "\n",
        "if __name__ == '__main__':\n",
        "    ler_arquivos('dados_alunos.txt')\n",
        "    print(\"Total de colunas: \", cont_colunas('dados_alunos.txt'))"
      ],
      "execution_count": 8,
      "outputs": [
        {
          "output_type": "stream",
          "text": [
            "Writing lerarquivos.py\n"
          ],
          "name": "stdout"
        }
      ]
    },
    {
      "cell_type": "markdown",
      "metadata": {
        "id": "U2DlX1Ag6Mdj"
      },
      "source": [
        "**6) Escreva um script que importe o módulo criado acima e faça um histograma para cada coluna do arquivo, com seus respectivos valores. Use o dicionário ou a estrutura de dados criada em 1).**"
      ]
    },
    {
      "cell_type": "code",
      "metadata": {
        "id": "_ovLsJbD6MVY",
        "outputId": "b5d9a510-113e-4cea-8b14-cd99888f9775",
        "colab": {
          "base_uri": "https://localhost:8080/",
          "height": 259
        }
      },
      "source": [
        "from lerarquivos import*\n",
        "import numpy as np\n",
        "import matplotlib.pyplot as plt\n",
        "\n",
        "x, y, z = ler_arquivos('dados_alunos.txt')\n",
        "\n",
        "bins_x = np.linspace(15, 45, 30)\n",
        "bins_y = np.linspace(1.5, 2, 30)\n",
        "bins_z = np.linspace(40, 120, 30)\n",
        "\n",
        "plt.figure(figsize=(20, 5))\n",
        "\n",
        "plt.subplot(131)\n",
        "plt.style.use('ggplot')\n",
        "plt.hist(x, bins_x, color = 'blue', rwidth=0.8)\n",
        "plt.title('Coluna 1')\n",
        "plt.xlabel('Idade (anos)')\n",
        "plt.ylabel('Alunos')\n",
        "\n",
        "plt.subplot(132)\n",
        "plt.style.use('ggplot')\n",
        "plt.hist(y, bins_y, color = 'red', rwidth=0.8)\n",
        "plt.title('Coluna 2')\n",
        "plt.xlabel('Altura (m)')\n",
        "plt.ylabel('Alunos')\n",
        "\n",
        "plt.subplot(133)\n",
        "plt.style.use('ggplot')\n",
        "plt.hist(z, bins_z, color = 'green', rwidth=0.8)\n",
        "plt.title('Coluna 3')\n",
        "plt.xlabel('Massa (kg)')\n",
        "plt.ylabel('Alunos')\n",
        "\n",
        "plt.show()"
      ],
      "execution_count": 12,
      "outputs": [
        {
          "output_type": "display_data",
          "data": {
            "image/png": "[encoded data removed]",
            "text/plain": [
              "<Figure size 1440x360 with 3 Axes>"
            ]
          },
          "metadata": {
            "tags": []
          }
        }
      ]
    },
    {
      "cell_type": "markdown",
      "metadata": {
        "id": "x9kq9Fc76MO1"
      },
      "source": [
        "7) Adicione uma função ao script criado em 6), que calcule o desvio padrão amostral, desvio padrão populacional e média de cada distribuição representada nos histogramas acima. Para tal, use o módulo `statistics` do Python ou outro módulo de Python (`numpy`, `scipy`)."
      ]
    },
    {
      "cell_type": "code",
      "metadata": {
        "id": "lbCef6Gbw4Rk"
      },
      "source": [
        "plt.figure(figsize=(20, 5))\n",
        "plt.subplot(131)\n",
        "plt.hist(a, bins_a, color = 'blue', rwidth=0.8)\n",
        "plt.title('Histograma Idade de Alunos')\n",
        "plt.style.use('ggplot')\n",
        "plt.xlabel('Idade')\n",
        "plt.ylabel('Alunos')\n"
      ],
      "execution_count": null,
      "outputs": []
    },
    {
      "cell_type": "code",
      "metadata": {
        "id": "g3MuojSI6L7R"
      },
      "source": [
        "from lerarquivos import*\n",
        "import numpy as np\n",
        "import matplotlib.pyplot as plt\n",
        "from scipy.stats import tstd\n",
        "\n",
        "def estatisticas(valor):\n",
        "    #print(f\"Desvio padrao populacional: {np.std(valor)}\")\n",
        "    #print(f\"Desvio padrao amostral: {tstd(valor)}\")\n",
        "    #print(f\"Media: {np.mean(valor)}\")\n",
        "    return np.std(valor), tstd(valor), np.mean(valor)\n",
        "\n",
        "x, y, z = ler_arquivos('dados_alunos.txt')\n",
        "\n",
        "bins_x = np.linspace(15, 45, 30)\n",
        "bins_y = np.linspace(1.5, 2, 30)\n",
        "bins_z = np.linspace(40, 120, 30)\n",
        "\n",
        "print(\"Figura 1: \")\n",
        "plt.figure(1)\n",
        "plt.style.use('ggplot')\n",
        "plt.hist(x, bins_x, color = 'blue', rwidth=0.8)\n",
        "plt.title('Coluna 1')\n",
        "plt.xlabel('Idade (anos)')\n",
        "plt.ylabel('Alunos')\n",
        "plt.show()\n",
        "xa, xb, xc = estatisticas(x)\n",
        "print(f'Desvio padrão populacional: {xa:.3f}\\nDesvio padrão amostral: {xb:.3f}\\nMédia: {xc:.3f}')\n",
        "\n",
        "print('-'*70,\"\\nFigura 2: \")\n",
        "plt.figure(2)\n",
        "plt.style.use('ggplot')\n",
        "plt.hist(y, bins_y, color = 'red', rwidth=0.8)\n",
        "plt.title('Coluna 2')\n",
        "plt.xlabel('Altura (m)')\n",
        "plt.ylabel('Alunos')\n",
        "plt.show()\n",
        "ya, yb, yc = estatisticas(y)\n",
        "print(f'Desvio padrão populacional: {ya:.3f}\\nDesvio padrão amostral: {yb:.3f}\\nMédia: {yc:.3f}')\n",
        "\n",
        "print('-'*70,\"\\nFigura 3: \")\n",
        "\n",
        "plt.figure(3)\n",
        "plt.style.use('ggplot')\n",
        "plt.hist(z, bins_z, color = 'green', rwidth=0.8)\n",
        "plt.title('Coluna 3')\n",
        "plt.xlabel('Massa (kg)')\n",
        "plt.ylabel('Alunos')\n",
        "plt.show()\n",
        "za, zb, zc = estatisticas(z)\n",
        "print(f'Desvio padrão populacional: {za:.3f}\\nDesvio padrão amostral: {zb:.3f}\\nMédia: {zc:.3f}')\n"
      ],
      "execution_count": null,
      "outputs": []
    },
    {
      "cell_type": "code",
      "metadata": {
        "id": "d46MT91R86ZU",
        "outputId": "2c4577cc-6305-4af2-824c-bec43f5e126a",
        "colab": {
          "base_uri": "https://localhost:8080/",
          "height": 1000
        }
      },
      "source": [
        "from lerarquivos import*\n",
        "import numpy as np\n",
        "import matplotlib.pyplot as plt\n",
        "from scipy.stats import tstd\n",
        "\n",
        "def estatisticas(valor):\n",
        "    #print(f\"Desvio padrao populacional: {np.std(valor)}\")\n",
        "    #print(f\"Desvio padrao amostral: {tstd(valor)}\")\n",
        "    #print(f\"Media: {np.mean(valor)}\")\n",
        "    return np.std(valor), tstd(valor), np.mean(valor)\n",
        "\n",
        "x, y, z = ler_arquivos('dados_alunos.txt')\n",
        "\n",
        "bins_x = np.linspace(15, 45, 30)\n",
        "bins_y = np.linspace(1.5, 2, 30)\n",
        "bins_z = np.linspace(40, 120, 30)\n",
        "\n",
        "def figura(n,coluna,bins_coluna, cor, label_eixo_x, label_eixo_y):\n",
        "    \"\"\"\n",
        "    n = Numero da figura\n",
        "    coluna = Coluna referida na matriz\n",
        "    bins_coluna = bins relacionado a coluna da matriz\n",
        "    cor = Cor para as barras (digite entre aspas)\n",
        "    label_eixo_x = Nome para o eixo x (digite entre aspas)\n",
        "    label_eixo_y = Nome para o eixo y (digite entre aspas)\n",
        "    \"\"\"\n",
        "    print(f\"Figura {n}: \")\n",
        "    plt.figure(n)\n",
        "    plt.style.use('ggplot')\n",
        "    plt.hist(coluna, bins_coluna, color = str(cor), rwidth=0.8)\n",
        "    plt.title(f'Coluna {n}')\n",
        "    plt.xlabel('Idade (anos)')\n",
        "    plt.ylabel('Alunos')\n",
        "    plt.show()\n",
        "    xa, xb, xc = estatisticas(coluna)\n",
        "    print(f'Desvio padrão populacional: {xa:.3f}\\nDesvio padrão amostral: {xb:.3f}\\nMédia: {xc:.3f}')\n",
        "    print('-'*50)\n",
        "\n",
        "\n",
        "figura(1,x,bins_x,'blue','Idade (anos)','Alunos')\n",
        "figura(2,y,bins_y,'red','Altura (m)','Alunos')\n",
        "figura(3,z,bins_z,'green','Massa (kg)','Alunos')\n"
      ],
      "execution_count": 55,
      "outputs": [
        {
          "output_type": "stream",
          "text": [
            "Figura 1: \n"
          ],
          "name": "stdout"
        },
        {
          "output_type": "display_data",
          "data": {
            "image/png": "[encoded data removed]",
            "text/plain": [
              "<Figure size 432x288 with 1 Axes>"
            ]
          },
          "metadata": {
            "tags": []
          }
        },
        {
          "output_type": "stream",
          "text": [
            "Desvio padrão populacional: 4.413\n",
            "Desvio padrão amostral: 4.453\n",
            "Média: 19.825\n",
            "--------------------------------------------------\n",
            "Figura 2: \n"
          ],
          "name": "stdout"
        },
        {
          "output_type": "display_data",
          "data": {
            "image/png": "[encoded data removed]",
            "text/plain": [
              "<Figure size 432x288 with 1 Axes>"
            ]
          },
          "metadata": {
            "tags": []
          }
        },
        {
          "output_type": "stream",
          "text": [
            "Desvio padrão populacional: 0.082\n",
            "Desvio padrão amostral: 0.083\n",
            "Média: 1.718\n",
            "--------------------------------------------------\n",
            "Figura 3: \n"
          ],
          "name": "stdout"
        },
        {
          "output_type": "display_data",
          "data": {
            "image/png": "[encoded data removed]",
            "text/plain": [
              "<Figure size 432x288 with 1 Axes>"
            ]
          },
          "metadata": {
            "tags": []
          }
        },
        {
          "output_type": "stream",
          "text": [
            "Desvio padrão populacional: 13.109\n",
            "Desvio padrão amostral: 13.225\n",
            "Média: 68.500\n",
            "--------------------------------------------------\n"
          ],
          "name": "stdout"
        }
      ]
    }
  ]
}