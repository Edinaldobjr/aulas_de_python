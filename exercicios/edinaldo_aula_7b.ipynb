{
  "nbformat": 4,
  "nbformat_minor": 0,
  "metadata": {
    "colab": {
      "name": "edinaldo_aula_7b.ipynb",
      "provenance": [],
      "collapsed_sections": [],
      "authorship_tag": "ABX9TyPKlKa+nyM6vZhz8Ce2Hla6",
      "include_colab_link": true
    },
    "kernelspec": {
      "name": "python3",
      "display_name": "Python 3"
    }
  },
  "cells": [
    {
      "cell_type": "markdown",
      "metadata": {
        "id": "view-in-github",
        "colab_type": "text"
      },
      "source": [
        "<a href=\"https://colab.research.google.com/github/Edinaldobjr/aulas_de_python/blob/master/exercicios/edinaldo_aula_7b.ipynb\" target=\"_parent\"><img src=\"https://colab.research.google.com/assets/colab-badge.svg\" alt=\"Open In Colab\"/></a>"
      ]
    },
    {
      "cell_type": "markdown",
      "metadata": {
        "id": "ukcGc6MUtXl4"
      },
      "source": [
        "## Exercícios\n",
        "https://penseallen.github.io/PensePython2e/05-cond-recur.html\n",
        "\n",
        "1. O módulo time fornece uma função, também chamada time, que devolve a Hora Média de Greenwich na “época”, que é um momento arbitrário usado como ponto de referência. Em sistemas UNIX, a época é primeiro de janeiro de 1970."
      ]
    },
    {
      "cell_type": "code",
      "metadata": {
        "id": "_vNAy-wRtXl5",
        "outputId": "7d1b226e-6751-4f41-9593-733e97529ae8",
        "colab": {
          "base_uri": "https://localhost:8080/",
          "height": 34
        }
      },
      "source": [
        "import time\n",
        "time.time()"
      ],
      "execution_count": null,
      "outputs": [
        {
          "output_type": "execute_result",
          "data": {
            "text/plain": [
              "1602811885.2674031"
            ]
          },
          "metadata": {
            "tags": []
          },
          "execution_count": 6
        }
      ]
    },
    {
      "cell_type": "markdown",
      "metadata": {
        "id": "6PCPU7YnCYZV"
      },
      "source": [
        "Escreva um script que leia a hora atual e a converta em um tempo em horas, minutos e segundos, mais o número de dias desde a época."
      ]
    },
    {
      "cell_type": "code",
      "metadata": {
        "id": "vklcxkoJjsk3"
      },
      "source": [
        ""
      ],
      "execution_count": null,
      "outputs": []
    },
    {
      "cell_type": "markdown",
      "metadata": {
        "id": "0GPsuxs0CZ2f"
      },
      "source": [
        "2. O último teorema de Fermat diz que não existem números inteiros a, b e c tais que `a**n + b**n == c**n` para quaisquer valores de n maiores que 2.\n",
        "   1. Escreva uma função chamada `check_fermat` que receba quatro parâmetros – a, b, c e n – e verifique se o teorema de Fermat se mantém. Se n for maior que 2 e `a**n + b**n == c**n` o programa deve imprimir, “Holy smokes, Fermat was wrong!” Senão o programa deve exibir “No, that doesn’t work.”\n",
        "   1. Escreva uma função que peça ao usuário para digitar valores para a, b, c e n, os converta em números inteiros e use `check_fermat` para verificar se violam o teorema de Fermat."
      ]
    },
    {
      "cell_type": "code",
      "metadata": {
        "id": "RtGeMew8jtNI",
        "outputId": "98148077-3d7e-4690-88f0-4ab480ea3094",
        "colab": {
          "base_uri": "https://localhost:8080/",
          "height": 119
        }
      },
      "source": [
        "def check_fermat(a, b, c, n):\n",
        "    if n > 2:\n",
        "        if a**n + b**n == c**n:\n",
        "            print('\\n“Holy smokes, Fermat was wrong!')\n",
        "        else:\n",
        "            print('\\n“No, that doesn’t work.”')\n",
        "    else:\n",
        "        print('\\n\"N\" must be higher than 2!')\n",
        "\n",
        "\n",
        "pri = int(input('Digite o valor de A: '))\n",
        "seg = int(input('Digite o valor de B: '))\n",
        "ter = int(input('Digite o valor de C: '))\n",
        "qua = int(input('Digite o valor de N maior que 2: '))\n",
        "\n",
        "check_fermat(pri, seg, ter, qua)"
      ],
      "execution_count": 22,
      "outputs": [
        {
          "output_type": "stream",
          "text": [
            "Digite o valor de A: 3\n",
            "Digite o valor de B: 3\n",
            "Digite o valor de C: 3\n",
            "Digite o valor de N maior que 2: 3\n",
            "\n",
            "“No, that doesn’t work.”\n"
          ],
          "name": "stdout"
        }
      ]
    },
    {
      "cell_type": "markdown",
      "metadata": {
        "id": "Ccx6RkOjCoG0"
      },
      "source": [
        "3. Há um teste simples para ver se é possível formar um triângulo para quaisquer três comprimentos: Se algum dos três comprimentos for maior que a soma dos outros dois, então você não pode formar um triângulo. Senão, você pode. (Se a soma de dois comprimentos igualar o terceiro, eles formam um triângulo chamado “degenerado”.)\n",
        "   1. Escreva uma função chamada `is_triangle` que receba três números inteiros como argumentos, e que imprima “Yes” ou “No”, dependendo da possibilidade de formar ou não um triângulo de gravetos com os comprimentos dados.\n",
        "   1. Escreva uma função que peça ao usuário para digitar três comprimentos de gravetos, os converta em números inteiros e use `is_triangle` para verificar se os gravetos com os comprimentos dados podem formar um triângulo."
      ]
    },
    {
      "cell_type": "code",
      "metadata": {
        "id": "mrzQ3_cxjuef",
        "outputId": "b924302b-8bc3-418f-9d27-5fb2619dca3c",
        "colab": {
          "base_uri": "https://localhost:8080/",
          "height": 136
        }
      },
      "source": [
        "def is_triangle(Lado_a, Lado_b, Lado_c):\n",
        "    lista = [Lado_a, Lado_b, Lado_c]\n",
        "    ordem = sorted(lista)\n",
        "\n",
        "    if ordem[0] + ordem[1] <= ordem[2]:\n",
        "        print('No.')\n",
        "    else:\n",
        "        print('Yes.')\n",
        "\n",
        "def gravetos():\n",
        "    print('Insira o tamanho dos gravetos.')\n",
        "    a = int(input('Graveto 1: '))\n",
        "    b = int(input('Graveto 2: '))\n",
        "    c = int(input('Graveto 3: '))\n",
        "    print('\\nIs triangle?')\n",
        "    is_triangle(a, b, c)\n",
        "\n",
        "gravetos()\n"
      ],
      "execution_count": 27,
      "outputs": [
        {
          "output_type": "stream",
          "text": [
            "Insira o tamanho dos gravetos.\n",
            "Graveto 1: 2\n",
            "Graveto 2: 2\n",
            "Graveto 3: 2\n",
            "\n",
            "Is triangle?\n",
            "Yes.\n"
          ],
          "name": "stdout"
        }
      ]
    },
    {
      "cell_type": "markdown",
      "metadata": {
        "id": "y_tsQq67C73t"
      },
      "source": [
        "4. Leia a próxima função e veja se consegue compreender o que ela faz (veja os exemplos no Capítulo 4). Então execute-a e veja se acertou."
      ]
    },
    {
      "cell_type": "code",
      "metadata": {
        "id": "vrsHIMIorAg7",
        "outputId": "067cff1b-0da0-4d91-d5ad-b2b00a0bf346",
        "colab": {
          "base_uri": "https://localhost:8080/",
          "height": 170
        }
      },
      "source": [
        "!pip3 install ColabTurtle\n",
        "import ColabTurtle.Turtle as tess"
      ],
      "execution_count": 6,
      "outputs": [
        {
          "output_type": "stream",
          "text": [
            "Collecting ColabTurtle\n",
            "  Downloading https://files.pythonhosted.org/packages/49/01/6da7091c2c6c917cce99c000b89acb6aa27b66ef6eafc0c0ccf59b98694f/ColabTurtle-2.0.0.tar.gz\n",
            "Building wheels for collected packages: ColabTurtle\n",
            "  Building wheel for ColabTurtle (setup.py) ... \u001b[?25l\u001b[?25hdone\n",
            "  Created wheel for ColabTurtle: filename=ColabTurtle-2.0.0-cp36-none-any.whl size=4032 sha256=fb75d613db320610d86a9c037e59a6e1490acab98a44ef574ee8dcf3862c070b\n",
            "  Stored in directory: /root/.cache/pip/wheels/a8/29/ec/ad346f0042ae467cc74f4378916348faf975b07890651dcae7\n",
            "Successfully built ColabTurtle\n",
            "Installing collected packages: ColabTurtle\n",
            "Successfully installed ColabTurtle-2.0.0\n"
          ],
          "name": "stdout"
        }
      ]
    },
    {
      "cell_type": "code",
      "metadata": {
        "id": "p1LUrtA2C99E"
      },
      "source": [
        "def draw(t, length, n):\n",
        "    if n == 0:\n",
        "        return\n",
        "    angle = 50\n",
        "    t.forward(length * n)\n",
        "    t.left(angle)\n",
        "    draw(t, length, n-1)\n",
        "    t.right(2 * angle)\n",
        "    draw(t, length, n-1)\n",
        "    t.left(angle)\n",
        "    t.backward(length * n)\n"
      ],
      "execution_count": 11,
      "outputs": []
    },
    {
      "cell_type": "code",
      "metadata": {
        "id": "K18JknfErZCZ",
        "outputId": "c6c50817-ed9b-4c97-f4e2-69c11d172f39",
        "colab": {
          "base_uri": "https://localhost:8080/",
          "height": 521
        }
      },
      "source": [
        "tess.initializeTurtle()   # inicialização\n",
        "tess.speed(10)\n",
        "tess.color(\"blue\")\n",
        "#tess.bgcolor(\"white\")\n",
        "#tess.penup() #levantar a caneta\n",
        "#tess.goto(10,450) #mudar posicao de inicio \n",
        "#tess.pendown() #abaixar a caneta\n",
        "\n",
        "draw(tess, 10, 4)"
      ],
      "execution_count": 25,
      "outputs": [
        {
          "output_type": "display_data",
          "data": {
            "text/html": [
              "\n",
              "      <svg width=\"800\" height=\"500\">\n",
              "        <rect width=\"100%\" height=\"100%\" fill=\"black\"/>\n",
              "        <line x1=\"400\" y1=\"250\" x2=\"400.0\" y2=\"210.0\" stroke-linecap=\"round\" style=\"stroke:blue;stroke-width:4\"/><line x1=\"400.0\" y1=\"210.0\" x2=\"377.0186667064307\" y2=\"190.71637170940383\" stroke-linecap=\"round\" style=\"stroke:blue;stroke-width:4\"/><line x1=\"377.0186667064307\" y1=\"190.71637170940383\" x2=\"357.3225116461865\" y2=\"194.18933526274245\" stroke-linecap=\"round\" style=\"stroke:blue;stroke-width:4\"/><line x1=\"357.3225116461865\" y1=\"194.18933526274245\" x2=\"352.3225116461865\" y2=\"202.84958930058684\" stroke-linecap=\"round\" style=\"stroke:blue;stroke-width:4\"/><line x1=\"352.3225116461865\" y1=\"202.84958930058684\" x2=\"357.3225116461865\" y2=\"194.18933526274245\" stroke-linecap=\"round\" style=\"stroke:blue;stroke-width:4\"/><line x1=\"357.3225116461865\" y1=\"194.18933526274245\" x2=\"349.66206721499674\" y2=\"187.76145916587706\" stroke-linecap=\"round\" style=\"stroke:blue;stroke-width:4\"/><line x1=\"349.66206721499674\" y1=\"187.76145916587706\" x2=\"357.3225116461865\" y2=\"194.18933526274245\" stroke-linecap=\"round\" style=\"stroke:blue;stroke-width:4\"/><line x1=\"357.3225116461865\" y1=\"194.18933526274245\" x2=\"377.0186667064307\" y2=\"190.71637170940383\" stroke-linecap=\"round\" style=\"stroke:blue;stroke-width:4\"/><line x1=\"377.0186667064307\" y1=\"190.71637170940383\" x2=\"377.0186667064307\" y2=\"170.71637170940383\" stroke-linecap=\"round\" style=\"stroke:blue;stroke-width:4\"/><line x1=\"377.0186667064307\" y1=\"170.71637170940383\" x2=\"369.3582222752409\" y2=\"164.28849561253844\" stroke-linecap=\"round\" style=\"stroke:blue;stroke-width:4\"/><line x1=\"369.3582222752409\" y1=\"164.28849561253844\" x2=\"377.0186667064307\" y2=\"170.71637170940383\" stroke-linecap=\"round\" style=\"stroke:blue;stroke-width:4\"/><line x1=\"377.0186667064307\" y1=\"170.71637170940383\" x2=\"384.67911113762045\" y2=\"164.28849561253844\" stroke-linecap=\"round\" style=\"stroke:blue;stroke-width:4\"/><line x1=\"384.67911113762045\" y1=\"164.28849561253844\" x2=\"377.0186667064307\" y2=\"170.71637170940383\" stroke-linecap=\"round\" style=\"stroke:blue;stroke-width:4\"/><line x1=\"377.0186667064307\" y1=\"170.71637170940383\" x2=\"377.0186667064307\" y2=\"190.71637170940383\" stroke-linecap=\"round\" style=\"stroke:blue;stroke-width:4\"/><line x1=\"377.0186667064307\" y1=\"190.71637170940383\" x2=\"400.0\" y2=\"210.0\" stroke-linecap=\"round\" style=\"stroke:blue;stroke-width:4\"/><line x1=\"400.0\" y1=\"210.0\" x2=\"422.9813332935693\" y2=\"190.7163717094038\" stroke-linecap=\"round\" style=\"stroke:blue;stroke-width:4\"/><line x1=\"422.9813332935693\" y1=\"190.7163717094038\" x2=\"422.9813332935693\" y2=\"170.7163717094038\" stroke-linecap=\"round\" style=\"stroke:blue;stroke-width:4\"/><line x1=\"422.9813332935693\" y1=\"170.7163717094038\" x2=\"415.32088886237955\" y2=\"164.2884956125384\" stroke-linecap=\"round\" style=\"stroke:blue;stroke-width:4\"/><line x1=\"415.32088886237955\" y1=\"164.2884956125384\" x2=\"422.9813332935693\" y2=\"170.7163717094038\" stroke-linecap=\"round\" style=\"stroke:blue;stroke-width:4\"/><line x1=\"422.9813332935693\" y1=\"170.7163717094038\" x2=\"430.6417777247591\" y2=\"164.2884956125384\" stroke-linecap=\"round\" style=\"stroke:blue;stroke-width:4\"/><line x1=\"430.6417777247591\" y1=\"164.2884956125384\" x2=\"422.9813332935693\" y2=\"170.7163717094038\" stroke-linecap=\"round\" style=\"stroke:blue;stroke-width:4\"/><line x1=\"422.9813332935693\" y1=\"170.7163717094038\" x2=\"422.9813332935693\" y2=\"190.7163717094038\" stroke-linecap=\"round\" style=\"stroke:blue;stroke-width:4\"/><line x1=\"422.9813332935693\" y1=\"190.7163717094038\" x2=\"442.6774883538135\" y2=\"194.18933526274242\" stroke-linecap=\"round\" style=\"stroke:blue;stroke-width:4\"/><line x1=\"442.6774883538135\" y1=\"194.18933526274242\" x2=\"450.33793278500326\" y2=\"187.76145916587703\" stroke-linecap=\"round\" style=\"stroke:blue;stroke-width:4\"/><line x1=\"450.33793278500326\" y1=\"187.76145916587703\" x2=\"442.6774883538135\" y2=\"194.18933526274242\" stroke-linecap=\"round\" style=\"stroke:blue;stroke-width:4\"/><line x1=\"442.6774883538135\" y1=\"194.18933526274242\" x2=\"447.6774883538135\" y2=\"202.8495893005868\" stroke-linecap=\"round\" style=\"stroke:blue;stroke-width:4\"/><line x1=\"447.6774883538135\" y1=\"202.8495893005868\" x2=\"442.6774883538135\" y2=\"194.18933526274242\" stroke-linecap=\"round\" style=\"stroke:blue;stroke-width:4\"/><line x1=\"442.6774883538135\" y1=\"194.18933526274242\" x2=\"422.9813332935693\" y2=\"190.7163717094038\" stroke-linecap=\"round\" style=\"stroke:blue;stroke-width:4\"/><line x1=\"422.9813332935693\" y1=\"190.7163717094038\" x2=\"400.0\" y2=\"210.0\" stroke-linecap=\"round\" style=\"stroke:blue;stroke-width:4\"/><line x1=\"400.0\" y1=\"210.0\" x2=\"400.0\" y2=\"250.0\" stroke-linecap=\"round\" style=\"stroke:blue;stroke-width:4\"/>\n",
              "        \n",
              "      <g visibility=visible transform=\"rotate(180,400.0,250.0) translate(400.0, 250.0)\">\n",
              "        <circle stroke=\"blue\" stroke-width=\"3\" fill=\"transparent\" r=\"12\" cx=\"0\" cy=\"0\"/>\n",
              "        <polygon points=\"0,19 3,16 -3,16\" style=\"fill:blue;stroke:blue;stroke-width:2\"/>\n",
              "      </g>\n",
              "    \n",
              "      </svg>\n",
              "    "
            ],
            "text/plain": [
              "<IPython.core.display.HTML object>"
            ]
          },
          "metadata": {
            "tags": []
          }
        }
      ]
    },
    {
      "cell_type": "markdown",
      "metadata": {
        "id": "WpeZVhIBElfQ"
      },
      "source": [
        "A curva de Koch é um fractal que parece com o da Figura abaixo. \n",
        "![](https://github.com/PenseAllen/PensePython2e/raw/master/fig/tnkp_0502.png)\n",
        "\n",
        "Para desenhar uma curva de Koch com o comprimento x, tudo o que você tem que fazer é:\n",
        "\n",
        "1. Desenhe uma curva de Koch com o comprimento x/3.\n",
        "\n",
        "1. Vire 60 graus à esquerda.\n",
        "\n",
        "1. Desenhe uma curva de Koch com o comprimento x/3.\n",
        "\n",
        "1. Vire 120 graus à direita.\n",
        "\n",
        "1. Desenhe uma curva de Koch com o comprimento x/3.\n",
        "\n",
        "1. Vire 60 graus à esquerda.\n",
        "\n",
        "1. Desenhe uma curva de Koch com o comprimento x/3.\n",
        "\n",
        "\n",
        "A exceção é se x for menor que 3: neste caso, você pode desenhar apenas uma linha reta com o comprimento x.\n",
        "\n",
        "1. Escreva uma função chamada `koch` que receba um `ColabTurtle` (ou turtle) e um comprimento como parâmetros, e use o `ColabTurtle` para desenhar uma curva de Koch com o comprimento dado.\n",
        "\n",
        "1. Escreva uma função chamada `snowflake` que desenhe três curvas de Koch para fazer o traçado de um floco de neve.\n",
        "\n",
        "1. A curva de Koch pode ser generalizada de vários modos. Veja exemplos em http://en.wikipedia.org/wiki/Koch_snowflake e implemente o seu favorito."
      ]
    }
  ]
}