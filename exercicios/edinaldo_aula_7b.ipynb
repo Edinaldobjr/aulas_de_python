{
  "nbformat": 4,
  "nbformat_minor": 0,
  "metadata": {
    "colab": {
      "name": "edinaldo_aula_7b.ipynb",
      "provenance": [],
      "collapsed_sections": [],
      "authorship_tag": "ABX9TyNZrNJg5dhMYbT06pKlv4X6",
      "include_colab_link": true
    },
    "kernelspec": {
      "name": "python3",
      "display_name": "Python 3"
    }
  },
  "cells": [
    {
      "cell_type": "markdown",
      "metadata": {
        "id": "view-in-github",
        "colab_type": "text"
      },
      "source": [
        "<a href=\"https://colab.research.google.com/github/Edinaldobjr/aulas_de_python/blob/master/exercicios/edinaldo_aula_7b.ipynb\" target=\"_parent\"><img src=\"https://colab.research.google.com/assets/colab-badge.svg\" alt=\"Open In Colab\"/></a>"
      ]
    },
    {
      "cell_type": "markdown",
      "metadata": {
        "id": "ukcGc6MUtXl4"
      },
      "source": [
        "## Exercícios\n",
        "https://penseallen.github.io/PensePython2e/05-cond-recur.html\n",
        "\n",
        "1. O módulo time fornece uma função, também chamada time, que devolve a Hora Média de Greenwich na “época”, que é um momento arbitrário usado como ponto de referência. Em sistemas UNIX, a época é primeiro de janeiro de 1970."
      ]
    },
    {
      "cell_type": "code",
      "metadata": {
        "id": "_vNAy-wRtXl5",
        "outputId": "b959e4bb-ea5b-4b67-f314-2cd88abf4fe0",
        "colab": {
          "base_uri": "https://localhost:8080/",
          "height": 34
        }
      },
      "source": [
        "import time\n",
        "time.time()"
      ],
      "execution_count": null,
      "outputs": [
        {
          "output_type": "execute_result",
          "data": {
            "text/plain": [
              "1603287899.083454"
            ]
          },
          "metadata": {
            "tags": []
          },
          "execution_count": 14
        }
      ]
    },
    {
      "cell_type": "markdown",
      "metadata": {
        "id": "6PCPU7YnCYZV"
      },
      "source": [
        "Escreva um script que leia a hora atual e a converta em um tempo em horas, minutos e segundos, mais o número de dias desde a época."
      ]
    },
    {
      "cell_type": "code",
      "metadata": {
        "id": "vklcxkoJjsk3",
        "outputId": "68f4afb9-c783-46cb-bd57-6f6920fd93e2",
        "colab": {
          "base_uri": "https://localhost:8080/",
          "height": 34
        }
      },
      "source": [
        "import time\n",
        " \n",
        "tempo = time.time()\n",
        "\n",
        "\n",
        "min_r = tempo % 60    # resto (segundos)\n",
        "min = tempo // 60     # minutos\n",
        "\n",
        "hora_r = min % 60\n",
        "hora = min // 60\n",
        "\n",
        "dia_r = hora % 24\n",
        "dia = hora // 24\n",
        "\n",
        "ano_r = dia % 365\n",
        "ano = dia // 365\n",
        " \n",
        "print(f'{ano:.0f} anos, {ano_r:.0f} dias, {dia_r:.0f} horas, {hora_r:.0f} minutos, {min_r:.0f} segundos.')"
      ],
      "execution_count": null,
      "outputs": [
        {
          "output_type": "stream",
          "text": [
            "50 anos, 306 dias, 14 horas, 2 minutos, 57 segundos.\n"
          ],
          "name": "stdout"
        }
      ]
    },
    {
      "cell_type": "markdown",
      "metadata": {
        "id": "0GPsuxs0CZ2f"
      },
      "source": [
        "2. O último teorema de Fermat diz que não existem números inteiros a, b e c tais que `a**n + b**n == c**n` para quaisquer valores de n maiores que 2.\n",
        "   1. Escreva uma função chamada `check_fermat` que receba quatro parâmetros – a, b, c e n – e verifique se o teorema de Fermat se mantém. Se n for maior que 2 e `a**n + b**n == c**n` o programa deve imprimir, “Holy smokes, Fermat was wrong!” Senão o programa deve exibir “No, that doesn’t work.”\n",
        "   1. Escreva uma função que peça ao usuário para digitar valores para a, b, c e n, os converta em números inteiros e use `check_fermat` para verificar se violam o teorema de Fermat."
      ]
    },
    {
      "cell_type": "code",
      "metadata": {
        "id": "RtGeMew8jtNI",
        "outputId": "98148077-3d7e-4690-88f0-4ab480ea3094",
        "colab": {
          "base_uri": "https://localhost:8080/",
          "height": 119
        }
      },
      "source": [
        "def check_fermat(a, b, c, n):\n",
        "    if n > 2:\n",
        "        if a**n + b**n == c**n:\n",
        "            print('\\n“Holy smokes, Fermat was wrong!')\n",
        "        else:\n",
        "            print('\\n“No, that doesn’t work.”')\n",
        "    else:\n",
        "        print('\\n\"N\" must be higher than 2!')\n",
        "\n",
        "\n",
        "pri = int(input('Digite o valor de A: '))\n",
        "seg = int(input('Digite o valor de B: '))\n",
        "ter = int(input('Digite o valor de C: '))\n",
        "qua = int(input('Digite o valor de N maior que 2: '))\n",
        "\n",
        "check_fermat(pri, seg, ter, qua)"
      ],
      "execution_count": null,
      "outputs": [
        {
          "output_type": "stream",
          "text": [
            "Digite o valor de A: 3\n",
            "Digite o valor de B: 3\n",
            "Digite o valor de C: 3\n",
            "Digite o valor de N maior que 2: 3\n",
            "\n",
            "“No, that doesn’t work.”\n"
          ],
          "name": "stdout"
        }
      ]
    },
    {
      "cell_type": "markdown",
      "metadata": {
        "id": "Ccx6RkOjCoG0"
      },
      "source": [
        "3. Há um teste simples para ver se é possível formar um triângulo para quaisquer três comprimentos: Se algum dos três comprimentos for maior que a soma dos outros dois, então você não pode formar um triângulo. Senão, você pode. (Se a soma de dois comprimentos igualar o terceiro, eles formam um triângulo chamado “degenerado”.)\n",
        "   1. Escreva uma função chamada `is_triangle` que receba três números inteiros como argumentos, e que imprima “Yes” ou “No”, dependendo da possibilidade de formar ou não um triângulo de gravetos com os comprimentos dados.\n",
        "   1. Escreva uma função que peça ao usuário para digitar três comprimentos de gravetos, os converta em números inteiros e use `is_triangle` para verificar se os gravetos com os comprimentos dados podem formar um triângulo."
      ]
    },
    {
      "cell_type": "code",
      "metadata": {
        "id": "mrzQ3_cxjuef",
        "outputId": "b924302b-8bc3-418f-9d27-5fb2619dca3c",
        "colab": {
          "base_uri": "https://localhost:8080/",
          "height": 136
        }
      },
      "source": [
        "def is_triangle(Lado_a, Lado_b, Lado_c):\n",
        "    lista = [Lado_a, Lado_b, Lado_c]\n",
        "    ordem = sorted(lista)\n",
        "\n",
        "    if ordem[0] + ordem[1] <= ordem[2]:\n",
        "        print('No.')\n",
        "    else:\n",
        "        print('Yes.')\n",
        "\n",
        "def gravetos():\n",
        "    print('Insira o tamanho dos gravetos.')\n",
        "    a = int(input('Graveto 1: '))\n",
        "    b = int(input('Graveto 2: '))\n",
        "    c = int(input('Graveto 3: '))\n",
        "    print('\\nIs triangle?')\n",
        "    is_triangle(a, b, c)\n",
        "\n",
        "gravetos()\n"
      ],
      "execution_count": null,
      "outputs": [
        {
          "output_type": "stream",
          "text": [
            "Insira o tamanho dos gravetos.\n",
            "Graveto 1: 2\n",
            "Graveto 2: 2\n",
            "Graveto 3: 2\n",
            "\n",
            "Is triangle?\n",
            "Yes.\n"
          ],
          "name": "stdout"
        }
      ]
    },
    {
      "cell_type": "markdown",
      "metadata": {
        "id": "y_tsQq67C73t"
      },
      "source": [
        "4. Leia a próxima função e veja se consegue compreender o que ela faz (veja os exemplos no Capítulo 4). Então execute-a e veja se acertou."
      ]
    },
    {
      "cell_type": "code",
      "metadata": {
        "id": "vrsHIMIorAg7",
        "outputId": "c71bec72-445a-4a69-f629-831e5fe3b35c",
        "colab": {
          "base_uri": "https://localhost:8080/",
          "height": 170
        }
      },
      "source": [
        "!pip3 install ColabTurtle\n",
        "import ColabTurtle.Turtle as tess"
      ],
      "execution_count": null,
      "outputs": [
        {
          "output_type": "stream",
          "text": [
            "Collecting ColabTurtle\n",
            "  Downloading https://files.pythonhosted.org/packages/49/01/6da7091c2c6c917cce99c000b89acb6aa27b66ef6eafc0c0ccf59b98694f/ColabTurtle-2.0.0.tar.gz\n",
            "Building wheels for collected packages: ColabTurtle\n",
            "  Building wheel for ColabTurtle (setup.py) ... \u001b[?25l\u001b[?25hdone\n",
            "  Created wheel for ColabTurtle: filename=ColabTurtle-2.0.0-cp36-none-any.whl size=4032 sha256=df69fa505eda3ec91ed6b2c9e5ad39bf3ba74452d6feacfd548f2609f7a40a6f\n",
            "  Stored in directory: /root/.cache/pip/wheels/a8/29/ec/ad346f0042ae467cc74f4378916348faf975b07890651dcae7\n",
            "Successfully built ColabTurtle\n",
            "Installing collected packages: ColabTurtle\n",
            "Successfully installed ColabTurtle-2.0.0\n"
          ],
          "name": "stdout"
        }
      ]
    },
    {
      "cell_type": "code",
      "metadata": {
        "id": "p1LUrtA2C99E"
      },
      "source": [
        "def draw(t, length, n):\n",
        "    if n == 0:\n",
        "        return\n",
        "    angle = 50\n",
        "    t.forward(length * n)\n",
        "    t.left(angle)\n",
        "    draw(t, length, n-1)\n",
        "    t.right(2 * angle)\n",
        "    draw(t, length, n-1)\n",
        "    t.left(angle)\n",
        "    t.backward(length * n)"
      ],
      "execution_count": null,
      "outputs": []
    },
    {
      "cell_type": "code",
      "metadata": {
        "id": "K18JknfErZCZ",
        "outputId": "f751243c-2b4e-4412-a506-60ae069b7965",
        "colab": {
          "base_uri": "https://localhost:8080/",
          "height": 735
        }
      },
      "source": [
        "tess.initializeTurtle()   # inicialização\n",
        "tess.speed(10)\n",
        "tess.color(\"blue\")\n",
        "#tess.bgcolor(\"white\")\n",
        "#tess.penup() #levantar a caneta\n",
        "#tess.goto(10,450) #mudar posicao de inicio \n",
        "#tess.pendown() #abaixar a caneta\n",
        " \n",
        "draw(tess, 10, 5)\n",
        "tess.right(120)\n",
        "draw(tess, 10, 5)\n",
        "tess.right(120)\n",
        "draw(tess, 10, 5)\n",
        "tess.right(120)"
      ],
      "execution_count": null,
      "outputs": [
        {
          "output_type": "display_data",
          "data": {
            "text/html": [
              "\n",
              "      <svg width=\"800\" height=\"500\">\n",
              "        <rect width=\"100%\" height=\"100%\" fill=\"black\"/>\n",
              "        \n",
              "        \n",
              "      <g visibility=visible transform=\"rotate(180,400,250) translate(400, 250)\">\n",
              "        <circle stroke=\"blue\" stroke-width=\"3\" fill=\"transparent\" r=\"12\" cx=\"0\" cy=\"0\"/>\n",
              "        <polygon points=\"0,19 3,16 -3,16\" style=\"fill:blue;stroke:blue;stroke-width:2\"/>\n",
              "      </g>\n",
              "    \n",
              "      </svg>\n",
              "    "
            ],
            "text/plain": [
              "<IPython.core.display.HTML object>"
            ]
          },
          "metadata": {
            "tags": []
          }
        },
        {
          "output_type": "error",
          "ename": "NameError",
          "evalue": "ignored",
          "traceback": [
            "\u001b[0;31m---------------------------------------------------------------------------\u001b[0m",
            "\u001b[0;31mNameError\u001b[0m                                 Traceback (most recent call last)",
            "\u001b[0;32m<ipython-input-2-f363cba501bd>\u001b[0m in \u001b[0;36m<module>\u001b[0;34m()\u001b[0m\n\u001b[1;32m      7\u001b[0m \u001b[0;31m#tess.pendown() #abaixar a caneta\u001b[0m\u001b[0;34m\u001b[0m\u001b[0;34m\u001b[0m\u001b[0;34m\u001b[0m\u001b[0m\n\u001b[1;32m      8\u001b[0m \u001b[0;34m\u001b[0m\u001b[0m\n\u001b[0;32m----> 9\u001b[0;31m \u001b[0mdraw\u001b[0m\u001b[0;34m(\u001b[0m\u001b[0mtess\u001b[0m\u001b[0;34m,\u001b[0m \u001b[0;36m10\u001b[0m\u001b[0;34m,\u001b[0m \u001b[0;36m5\u001b[0m\u001b[0;34m)\u001b[0m\u001b[0;34m\u001b[0m\u001b[0;34m\u001b[0m\u001b[0m\n\u001b[0m\u001b[1;32m     10\u001b[0m \u001b[0mtess\u001b[0m\u001b[0;34m.\u001b[0m\u001b[0mright\u001b[0m\u001b[0;34m(\u001b[0m\u001b[0;36m120\u001b[0m\u001b[0;34m)\u001b[0m\u001b[0;34m\u001b[0m\u001b[0;34m\u001b[0m\u001b[0m\n\u001b[1;32m     11\u001b[0m \u001b[0mdraw\u001b[0m\u001b[0;34m(\u001b[0m\u001b[0mtess\u001b[0m\u001b[0;34m,\u001b[0m \u001b[0;36m10\u001b[0m\u001b[0;34m,\u001b[0m \u001b[0;36m5\u001b[0m\u001b[0;34m)\u001b[0m\u001b[0;34m\u001b[0m\u001b[0;34m\u001b[0m\u001b[0m\n",
            "\u001b[0;31mNameError\u001b[0m: name 'draw' is not defined"
          ]
        }
      ]
    },
    {
      "cell_type": "markdown",
      "metadata": {
        "id": "WpeZVhIBElfQ"
      },
      "source": [
        "5. A curva de Koch é um fractal que parece com o da Figura abaixo. \n",
        "![](https://github.com/PenseAllen/PensePython2e/raw/master/fig/tnkp_0502.png)\n",
        "\n",
        "Para desenhar uma curva de Koch com o comprimento x, tudo o que você tem que fazer é:\n",
        "\n",
        "1. Desenhe uma curva de Koch com o comprimento x/3.\n",
        "\n",
        "1. Vire 60 graus à esquerda.\n",
        "\n",
        "1. Desenhe uma curva de Koch com o comprimento x/3.\n",
        "\n",
        "1. Vire 120 graus à direita.\n",
        "\n",
        "1. Desenhe uma curva de Koch com o comprimento x/3.\n",
        "\n",
        "1. Vire 60 graus à esquerda.\n",
        "\n",
        "1. Desenhe uma curva de Koch com o comprimento x/3.\n",
        "\n",
        "\n",
        "A exceção é se x for menor que 3: neste caso, você pode desenhar apenas uma linha reta com o comprimento x.\n",
        "\n",
        "1. Escreva uma função chamada `koch` que receba um `ColabTurtle` (ou turtle) e um comprimento como parâmetros, e use o `ColabTurtle` para desenhar uma curva de Koch com o comprimento dado.\n",
        "\n",
        "1. Escreva uma função chamada `snowflake` que desenhe três curvas de Koch para fazer o traçado de um floco de neve.\n",
        "\n",
        "1. A curva de Koch pode ser generalizada de vários modos. Veja exemplos em http://en.wikipedia.org/wiki/Koch_snowflake e implemente o seu favorito."
      ]
    },
    {
      "cell_type": "code",
      "metadata": {
        "id": "Wtf3Wuhj1q9l",
        "outputId": "37fd3f6e-beff-4757-bfd4-662c2f1b2046",
        "colab": {
          "base_uri": "https://localhost:8080/",
          "height": 541
        }
      },
      "source": [
        "def koch(t, x):\n",
        "    t.forward(int(x / 3))\n",
        "    t.left(60)\n",
        "    t.forward(int(x / 3))\n",
        "    t.right(120)\n",
        "    t.forward(int(x / 3))\n",
        "    t.left(60)\n",
        "    t.forward(int(x / 3))\n",
        " \n",
        "def snowflake(t, x):\n",
        "    koch(t, x)\n",
        "    t.right(120)\n",
        "    koch(t, x)\n",
        "    t.right(120)\n",
        "    koch(t, x)\n",
        " \n",
        " \n",
        "tess.initializeTurtle()   # inicialização\n",
        "tess.speed(10)\n",
        "#tess.color(\"blue\")\n",
        "#tess.bgcolor(\"white\")\n",
        "#tess.penup() #levantar a caneta\n",
        "#tess.goto(10,450) #mudar posicao de inicio \n",
        "#tess.pendown() #abaixar a caneta\n",
        " \n",
        "snowflake(tess, 100)"
      ],
      "execution_count": null,
      "outputs": [
        {
          "output_type": "display_data",
          "data": {
            "text/html": [
              "\n",
              "      <svg width=\"800\" height=\"500\">\n",
              "        <rect width=\"100%\" height=\"100%\" fill=\"black\"/>\n",
              "        <line x1=\"400\" y1=\"250\" x2=\"400.0\" y2=\"217.0\" stroke-linecap=\"round\" style=\"stroke:white;stroke-width:4\"/><line x1=\"400.0\" y1=\"217.0\" x2=\"371.4211616751135\" y2=\"200.5\" stroke-linecap=\"round\" style=\"stroke:white;stroke-width:4\"/><line x1=\"371.4211616751135\" y1=\"200.5\" x2=\"400.0\" y2=\"184.0\" stroke-linecap=\"round\" style=\"stroke:white;stroke-width:4\"/><line x1=\"400.0\" y1=\"184.0\" x2=\"400.0\" y2=\"151.0\" stroke-linecap=\"round\" style=\"stroke:white;stroke-width:4\"/><line x1=\"400.0\" y1=\"151.0\" x2=\"428.5788383248865\" y2=\"167.5\" stroke-linecap=\"round\" style=\"stroke:white;stroke-width:4\"/><line x1=\"428.5788383248865\" y1=\"167.5\" x2=\"457.15767664977295\" y2=\"151.0\" stroke-linecap=\"round\" style=\"stroke:white;stroke-width:4\"/><line x1=\"457.15767664977295\" y1=\"151.0\" x2=\"457.15767664977295\" y2=\"184.0\" stroke-linecap=\"round\" style=\"stroke:white;stroke-width:4\"/><line x1=\"457.15767664977295\" y1=\"184.0\" x2=\"485.7365149746594\" y2=\"200.5\" stroke-linecap=\"round\" style=\"stroke:white;stroke-width:4\"/><line x1=\"485.7365149746594\" y1=\"200.5\" x2=\"457.15767664977295\" y2=\"217.0\" stroke-linecap=\"round\" style=\"stroke:white;stroke-width:4\"/><line x1=\"457.15767664977295\" y1=\"217.0\" x2=\"457.15767664977295\" y2=\"250.0\" stroke-linecap=\"round\" style=\"stroke:white;stroke-width:4\"/><line x1=\"457.15767664977295\" y1=\"250.0\" x2=\"428.5788383248865\" y2=\"233.5\" stroke-linecap=\"round\" style=\"stroke:white;stroke-width:4\"/><line x1=\"428.5788383248865\" y1=\"233.5\" x2=\"400.0\" y2=\"250.0\" stroke-linecap=\"round\" style=\"stroke:white;stroke-width:4\"/>\n",
              "        \n",
              "      <g visibility=visible transform=\"rotate(60,400.0,250.0) translate(400.0, 250.0)\">\n",
              "        <circle stroke=\"white\" stroke-width=\"3\" fill=\"transparent\" r=\"12\" cx=\"0\" cy=\"0\"/>\n",
              "        <polygon points=\"0,19 3,16 -3,16\" style=\"fill:white;stroke:white;stroke-width:2\"/>\n",
              "      </g>\n",
              "    \n",
              "      </svg>\n",
              "    "
            ],
            "text/plain": [
              "<IPython.core.display.HTML object>"
            ]
          },
          "metadata": {
            "tags": []
          }
        }
      ]
    },
    {
      "cell_type": "code",
      "metadata": {
        "id": "dEHL1iC3C_XQ",
        "outputId": "ce02d455-1d18-4c76-b139-1d0a87c07eab",
        "colab": {
          "base_uri": "https://localhost:8080/",
          "height": 521
        }
      },
      "source": [
        "def koch(t, x):\n",
        "    koch_n(t, x)\n",
        "    t.left(60)\n",
        "    koch_n(t, x)\n",
        "    t.right(120)\n",
        "    koch_n(t, x)\n",
        "    t.left(60)\n",
        "    koch_n(t, x)\n",
        " \n",
        "def snowflake(t, x):\n",
        "    koch(t, x)\n",
        "    t.right(120)\n",
        "    koch(t, x)\n",
        "    t.right(120)\n",
        "    koch(t, x)\n",
        " \n",
        "def koch_n(t, n):\n",
        "    x = n/3\n",
        "    t.forward(int(x/3))\n",
        "    t.left(60)\n",
        "    t.forward(int(x / 3))\n",
        "    t.right(120)\n",
        "    t.forward(int(x / 3))\n",
        "    t.left(60)\n",
        "    t.forward(int(x / 3))\n",
        " \n",
        " \n",
        "tess.initializeTurtle()   # inicialização\n",
        "tess.speed(6)\n",
        "#tess.color(\"blue\")\n",
        "#tess.bgcolor(\"white\")\n",
        "#tess.penup() #levantar a caneta\n",
        "#tess.goto(10,450) #mudar posicao de inicio \n",
        "#tess.pendown() #abaixar a caneta\n",
        " \n",
        "snowflake(tess, 200)"
      ],
      "execution_count": null,
      "outputs": [
        {
          "output_type": "display_data",
          "data": {
            "text/html": [
              "\n",
              "      <svg width=\"800\" height=\"500\">\n",
              "        <rect width=\"100%\" height=\"100%\" fill=\"black\"/>\n",
              "        <line x1=\"400\" y1=\"250\" x2=\"400.0\" y2=\"228.0\" stroke-linecap=\"round\" style=\"stroke:white;stroke-width:4\"/><line x1=\"400.0\" y1=\"228.0\" x2=\"380.94744111674237\" y2=\"217.0\" stroke-linecap=\"round\" style=\"stroke:white;stroke-width:4\"/><line x1=\"380.94744111674237\" y1=\"217.0\" x2=\"400.0\" y2=\"206.0\" stroke-linecap=\"round\" style=\"stroke:white;stroke-width:4\"/><line x1=\"400.0\" y1=\"206.0\" x2=\"400.0\" y2=\"184.0\" stroke-linecap=\"round\" style=\"stroke:white;stroke-width:4\"/><line x1=\"400.0\" y1=\"184.0\" x2=\"380.94744111674237\" y2=\"173.0\" stroke-linecap=\"round\" style=\"stroke:white;stroke-width:4\"/><line x1=\"380.94744111674237\" y1=\"173.0\" x2=\"361.89488223348474\" y2=\"184.0\" stroke-linecap=\"round\" style=\"stroke:white;stroke-width:4\"/><line x1=\"361.89488223348474\" y1=\"184.0\" x2=\"361.89488223348474\" y2=\"162.0\" stroke-linecap=\"round\" style=\"stroke:white;stroke-width:4\"/><line x1=\"361.89488223348474\" y1=\"162.0\" x2=\"342.8423233502271\" y2=\"151.0\" stroke-linecap=\"round\" style=\"stroke:white;stroke-width:4\"/><line x1=\"342.8423233502271\" y1=\"151.0\" x2=\"361.89488223348474\" y2=\"140.0\" stroke-linecap=\"round\" style=\"stroke:white;stroke-width:4\"/><line x1=\"361.89488223348474\" y1=\"140.0\" x2=\"361.89488223348474\" y2=\"118.0\" stroke-linecap=\"round\" style=\"stroke:white;stroke-width:4\"/><line x1=\"361.89488223348474\" y1=\"118.0\" x2=\"380.94744111674237\" y2=\"129.0\" stroke-linecap=\"round\" style=\"stroke:white;stroke-width:4\"/><line x1=\"380.94744111674237\" y1=\"129.0\" x2=\"400.0\" y2=\"117.99999999999999\" stroke-linecap=\"round\" style=\"stroke:white;stroke-width:4\"/><line x1=\"400.0\" y1=\"117.99999999999999\" x2=\"400.0\" y2=\"95.99999999999999\" stroke-linecap=\"round\" style=\"stroke:white;stroke-width:4\"/><line x1=\"400.0\" y1=\"95.99999999999999\" x2=\"380.94744111674237\" y2=\"84.99999999999999\" stroke-linecap=\"round\" style=\"stroke:white;stroke-width:4\"/><line x1=\"380.94744111674237\" y1=\"84.99999999999999\" x2=\"400.0\" y2=\"73.99999999999997\" stroke-linecap=\"round\" style=\"stroke:white;stroke-width:4\"/><line x1=\"400.0\" y1=\"73.99999999999997\" x2=\"400.0\" y2=\"51.99999999999997\" stroke-linecap=\"round\" style=\"stroke:white;stroke-width:4\"/><line x1=\"400.0\" y1=\"51.99999999999997\" x2=\"419.05255888325763\" y2=\"62.99999999999997\" stroke-linecap=\"round\" style=\"stroke:white;stroke-width:4\"/><line x1=\"419.05255888325763\" y1=\"62.99999999999997\" x2=\"438.10511776651526\" y2=\"51.99999999999996\" stroke-linecap=\"round\" style=\"stroke:white;stroke-width:4\"/><line x1=\"438.10511776651526\" y1=\"51.99999999999996\" x2=\"438.10511776651526\" y2=\"73.99999999999996\" stroke-linecap=\"round\" style=\"stroke:white;stroke-width:4\"/><line x1=\"438.10511776651526\" y1=\"73.99999999999996\" x2=\"457.1576766497729\" y2=\"84.99999999999996\" stroke-linecap=\"round\" style=\"stroke:white;stroke-width:4\"/><line x1=\"457.1576766497729\" y1=\"84.99999999999996\" x2=\"476.2102355330305\" y2=\"73.99999999999994\" stroke-linecap=\"round\" style=\"stroke:white;stroke-width:4\"/><line x1=\"476.2102355330305\" y1=\"73.99999999999994\" x2=\"476.2102355330305\" y2=\"51.99999999999994\" stroke-linecap=\"round\" style=\"stroke:white;stroke-width:4\"/><line x1=\"476.2102355330305\" y1=\"51.99999999999994\" x2=\"495.26279441628816\" y2=\"62.99999999999994\" stroke-linecap=\"round\" style=\"stroke:white;stroke-width:4\"/><line x1=\"495.26279441628816\" y1=\"62.99999999999994\" x2=\"514.3153532995458\" y2=\"51.99999999999993\" stroke-linecap=\"round\" style=\"stroke:white;stroke-width:4\"/><line x1=\"514.3153532995458\" y1=\"51.99999999999993\" x2=\"514.3153532995458\" y2=\"73.99999999999993\" stroke-linecap=\"round\" style=\"stroke:white;stroke-width:4\"/><line x1=\"514.3153532995458\" y1=\"73.99999999999993\" x2=\"533.3679121828035\" y2=\"84.99999999999993\" stroke-linecap=\"round\" style=\"stroke:white;stroke-width:4\"/><line x1=\"533.3679121828035\" y1=\"84.99999999999993\" x2=\"514.3153532995458\" y2=\"95.99999999999993\" stroke-linecap=\"round\" style=\"stroke:white;stroke-width:4\"/><line x1=\"514.3153532995458\" y1=\"95.99999999999993\" x2=\"514.3153532995458\" y2=\"117.99999999999993\" stroke-linecap=\"round\" style=\"stroke:white;stroke-width:4\"/><line x1=\"514.3153532995458\" y1=\"117.99999999999993\" x2=\"533.3679121828035\" y2=\"128.99999999999991\" stroke-linecap=\"round\" style=\"stroke:white;stroke-width:4\"/><line x1=\"533.3679121828035\" y1=\"128.99999999999991\" x2=\"552.4204710660612\" y2=\"117.9999999999999\" stroke-linecap=\"round\" style=\"stroke:white;stroke-width:4\"/><line x1=\"552.4204710660612\" y1=\"117.9999999999999\" x2=\"552.4204710660612\" y2=\"139.9999999999999\" stroke-linecap=\"round\" style=\"stroke:white;stroke-width:4\"/><line x1=\"552.4204710660612\" y1=\"139.9999999999999\" x2=\"571.4730299493189\" y2=\"150.9999999999999\" stroke-linecap=\"round\" style=\"stroke:white;stroke-width:4\"/><line x1=\"571.4730299493189\" y1=\"150.9999999999999\" x2=\"552.4204710660612\" y2=\"161.9999999999999\" stroke-linecap=\"round\" style=\"stroke:white;stroke-width:4\"/><line x1=\"552.4204710660612\" y1=\"161.9999999999999\" x2=\"552.4204710660612\" y2=\"183.9999999999999\" stroke-linecap=\"round\" style=\"stroke:white;stroke-width:4\"/><line x1=\"552.4204710660612\" y1=\"183.9999999999999\" x2=\"533.3679121828035\" y2=\"172.9999999999999\" stroke-linecap=\"round\" style=\"stroke:white;stroke-width:4\"/><line x1=\"533.3679121828035\" y1=\"172.9999999999999\" x2=\"514.3153532995458\" y2=\"183.9999999999999\" stroke-linecap=\"round\" style=\"stroke:white;stroke-width:4\"/><line x1=\"514.3153532995458\" y1=\"183.9999999999999\" x2=\"514.3153532995458\" y2=\"205.9999999999999\" stroke-linecap=\"round\" style=\"stroke:white;stroke-width:4\"/><line x1=\"514.3153532995458\" y1=\"205.9999999999999\" x2=\"533.3679121828035\" y2=\"216.9999999999999\" stroke-linecap=\"round\" style=\"stroke:white;stroke-width:4\"/><line x1=\"533.3679121828035\" y1=\"216.9999999999999\" x2=\"514.3153532995458\" y2=\"227.9999999999999\" stroke-linecap=\"round\" style=\"stroke:white;stroke-width:4\"/><line x1=\"514.3153532995458\" y1=\"227.9999999999999\" x2=\"514.3153532995458\" y2=\"249.9999999999999\" stroke-linecap=\"round\" style=\"stroke:white;stroke-width:4\"/><line x1=\"514.3153532995458\" y1=\"249.9999999999999\" x2=\"495.26279441628816\" y2=\"238.9999999999999\" stroke-linecap=\"round\" style=\"stroke:white;stroke-width:4\"/><line x1=\"495.26279441628816\" y1=\"238.9999999999999\" x2=\"476.2102355330305\" y2=\"249.9999999999999\" stroke-linecap=\"round\" style=\"stroke:white;stroke-width:4\"/><line x1=\"476.2102355330305\" y1=\"249.9999999999999\" x2=\"476.2102355330305\" y2=\"227.9999999999999\" stroke-linecap=\"round\" style=\"stroke:white;stroke-width:4\"/><line x1=\"476.2102355330305\" y1=\"227.9999999999999\" x2=\"457.1576766497729\" y2=\"216.9999999999999\" stroke-linecap=\"round\" style=\"stroke:white;stroke-width:4\"/><line x1=\"457.1576766497729\" y1=\"216.9999999999999\" x2=\"438.10511776651526\" y2=\"227.9999999999999\" stroke-linecap=\"round\" style=\"stroke:white;stroke-width:4\"/><line x1=\"438.10511776651526\" y1=\"227.9999999999999\" x2=\"438.10511776651526\" y2=\"249.9999999999999\" stroke-linecap=\"round\" style=\"stroke:white;stroke-width:4\"/><line x1=\"438.10511776651526\" y1=\"249.9999999999999\" x2=\"419.05255888325763\" y2=\"238.9999999999999\" stroke-linecap=\"round\" style=\"stroke:white;stroke-width:4\"/><line x1=\"419.05255888325763\" y1=\"238.9999999999999\" x2=\"400.0\" y2=\"249.9999999999999\" stroke-linecap=\"round\" style=\"stroke:white;stroke-width:4\"/>\n",
              "        \n",
              "      <g visibility=visible transform=\"rotate(60,400.0,249.9999999999999) translate(400.0, 249.9999999999999)\">\n",
              "        <circle stroke=\"white\" stroke-width=\"3\" fill=\"transparent\" r=\"12\" cx=\"0\" cy=\"0\"/>\n",
              "        <polygon points=\"0,19 3,16 -3,16\" style=\"fill:white;stroke:white;stroke-width:2\"/>\n",
              "      </g>\n",
              "    \n",
              "      </svg>\n",
              "    "
            ],
            "text/plain": [
              "<IPython.core.display.HTML object>"
            ]
          },
          "metadata": {
            "tags": []
          }
        }
      ]
    },
    {
      "cell_type": "code",
      "metadata": {
        "id": "xQbdAfOvavkn",
        "outputId": "4837ebb3-6649-4269-c316-24ded6992675",
        "colab": {
          "base_uri": "https://localhost:8080/",
          "height": 521
        }
      },
      "source": [
        "def koch_n(t, x, n):\n",
        "    \"\"\"Faz a curva de Koch.\n",
        "    Parametros:\n",
        "      t = turtle\n",
        "      x = tamanho\n",
        "      n = numero de curvas\n",
        "    \"\"\"\n",
        "    if n == 0:\n",
        "      t.forward(x)\n",
        "      return\n",
        "    x = int(x / 3.0)\n",
        "    koch_n(t, x, n-1)\n",
        "    t.left(60)\n",
        "    koch_n(t, x, n-1)\n",
        "    t.right(120)\n",
        "    koch_n(t, x, n-1)\n",
        "    t.left(60)\n",
        "    koch_n(t, x, n-1)\n",
        "\n",
        "def snowflake(t, x, n):\n",
        "    \"\"\"Cria uma floco de neve utilizando a curva de koch.\n",
        "    Parametros:\n",
        "      t = turtle\n",
        "      x = tamanho\n",
        "      n = numero de curvas\n",
        "    \"\"\"\n",
        "    for i in range(3):\n",
        "        koch_n(t, x, n)\n",
        "        tess.right(120)\n",
        "\n",
        "import ColabTurtle.Turtle as tess\n",
        "tess.initializeTurtle()   # inicialização\n",
        "tess.speed(10)\n",
        "#tess.color(\"blue\")\n",
        "#tess.bgcolor(\"white\")\n",
        "tess.penup() #levantar a caneta\n",
        "tess.goto(300,450) #mudar posicao de inicio \n",
        "tess.pendown() #abaixar a caneta\n",
        "\n",
        "snowflake(tess, 450, 2)"
      ],
      "execution_count": null,
      "outputs": [
        {
          "output_type": "display_data",
          "data": {
            "text/html": [
              "\n",
              "      <svg width=\"800\" height=\"500\">\n",
              "        <rect width=\"100%\" height=\"100%\" fill=\"black\"/>\n",
              "        <line x1=\"300\" y1=\"450\" x2=\"300.0\" y2=\"400.0\" stroke-linecap=\"round\" style=\"stroke:white;stroke-width:4\"/><line x1=\"300.0\" y1=\"400.0\" x2=\"256.69872981077805\" y2=\"375.0\" stroke-linecap=\"round\" style=\"stroke:white;stroke-width:4\"/><line x1=\"256.69872981077805\" y1=\"375.0\" x2=\"299.99999999999994\" y2=\"350.0\" stroke-linecap=\"round\" style=\"stroke:white;stroke-width:4\"/><line x1=\"299.99999999999994\" y1=\"350.0\" x2=\"299.99999999999994\" y2=\"300.0\" stroke-linecap=\"round\" style=\"stroke:white;stroke-width:4\"/><line x1=\"299.99999999999994\" y1=\"300.0\" x2=\"256.698729810778\" y2=\"275.0\" stroke-linecap=\"round\" style=\"stroke:white;stroke-width:4\"/><line x1=\"256.698729810778\" y1=\"275.0\" x2=\"213.39745962155604\" y2=\"300.0\" stroke-linecap=\"round\" style=\"stroke:white;stroke-width:4\"/><line x1=\"213.39745962155604\" y1=\"300.0\" x2=\"213.39745962155604\" y2=\"250.0\" stroke-linecap=\"round\" style=\"stroke:white;stroke-width:4\"/><line x1=\"213.39745962155604\" y1=\"250.0\" x2=\"170.0961894323341\" y2=\"225.0\" stroke-linecap=\"round\" style=\"stroke:white;stroke-width:4\"/><line x1=\"170.0961894323341\" y1=\"225.0\" x2=\"213.39745962155604\" y2=\"199.99999999999997\" stroke-linecap=\"round\" style=\"stroke:white;stroke-width:4\"/><line x1=\"213.39745962155604\" y1=\"199.99999999999997\" x2=\"213.39745962155604\" y2=\"149.99999999999997\" stroke-linecap=\"round\" style=\"stroke:white;stroke-width:4\"/><line x1=\"213.39745962155604\" y1=\"149.99999999999997\" x2=\"256.698729810778\" y2=\"174.99999999999997\" stroke-linecap=\"round\" style=\"stroke:white;stroke-width:4\"/><line x1=\"256.698729810778\" y1=\"174.99999999999997\" x2=\"299.9999999999999\" y2=\"149.99999999999994\" stroke-linecap=\"round\" style=\"stroke:white;stroke-width:4\"/><line x1=\"299.9999999999999\" y1=\"149.99999999999994\" x2=\"299.9999999999999\" y2=\"99.99999999999994\" stroke-linecap=\"round\" style=\"stroke:white;stroke-width:4\"/><line x1=\"299.9999999999999\" y1=\"99.99999999999994\" x2=\"256.69872981077793\" y2=\"74.99999999999994\" stroke-linecap=\"round\" style=\"stroke:white;stroke-width:4\"/><line x1=\"256.69872981077793\" y1=\"74.99999999999994\" x2=\"299.99999999999983\" y2=\"49.99999999999992\" stroke-linecap=\"round\" style=\"stroke:white;stroke-width:4\"/><line x1=\"299.99999999999983\" y1=\"49.99999999999992\" x2=\"299.99999999999983\" y2=\"-7.815970093361102e-14\" stroke-linecap=\"round\" style=\"stroke:white;stroke-width:4\"/><line x1=\"299.99999999999983\" y1=\"-7.815970093361102e-14\" x2=\"343.3012701892218\" y2=\"24.99999999999992\" stroke-linecap=\"round\" style=\"stroke:white;stroke-width:4\"/><line x1=\"343.3012701892218\" y1=\"24.99999999999992\" x2=\"386.6025403784437\" y2=\"-1.0302869668521453e-13\" stroke-linecap=\"round\" style=\"stroke:white;stroke-width:4\"/><line x1=\"386.6025403784437\" y1=\"-1.0302869668521453e-13\" x2=\"386.6025403784437\" y2=\"49.9999999999999\" stroke-linecap=\"round\" style=\"stroke:white;stroke-width:4\"/><line x1=\"386.6025403784437\" y1=\"49.9999999999999\" x2=\"429.90381056766563\" y2=\"74.9999999999999\" stroke-linecap=\"round\" style=\"stroke:white;stroke-width:4\"/><line x1=\"429.90381056766563\" y1=\"74.9999999999999\" x2=\"473.2050807568875\" y2=\"49.99999999999988\" stroke-linecap=\"round\" style=\"stroke:white;stroke-width:4\"/><line x1=\"473.2050807568875\" y1=\"49.99999999999988\" x2=\"473.2050807568875\" y2=\"-1.2079226507921703e-13\" stroke-linecap=\"round\" style=\"stroke:white;stroke-width:4\"/><line x1=\"473.2050807568875\" y1=\"-1.2079226507921703e-13\" x2=\"516.5063509461095\" y2=\"24.999999999999876\" stroke-linecap=\"round\" style=\"stroke:white;stroke-width:4\"/><line x1=\"516.5063509461095\" y1=\"24.999999999999876\" x2=\"559.8076211353314\" y2=\"-1.4566126083082054e-13\" stroke-linecap=\"round\" style=\"stroke:white;stroke-width:4\"/><line x1=\"559.8076211353314\" y1=\"-1.4566126083082054e-13\" x2=\"559.8076211353314\" y2=\"49.99999999999986\" stroke-linecap=\"round\" style=\"stroke:white;stroke-width:4\"/><line x1=\"559.8076211353314\" y1=\"49.99999999999986\" x2=\"603.1088913245533\" y2=\"74.99999999999986\" stroke-linecap=\"round\" style=\"stroke:white;stroke-width:4\"/><line x1=\"603.1088913245533\" y1=\"74.99999999999986\" x2=\"559.8076211353314\" y2=\"99.99999999999986\" stroke-linecap=\"round\" style=\"stroke:white;stroke-width:4\"/><line x1=\"559.8076211353314\" y1=\"99.99999999999986\" x2=\"559.8076211353314\" y2=\"149.99999999999986\" stroke-linecap=\"round\" style=\"stroke:white;stroke-width:4\"/><line x1=\"559.8076211353314\" y1=\"149.99999999999986\" x2=\"603.1088913245533\" y2=\"174.99999999999986\" stroke-linecap=\"round\" style=\"stroke:white;stroke-width:4\"/><line x1=\"603.1088913245533\" y1=\"174.99999999999986\" x2=\"646.4101615137752\" y2=\"149.99999999999983\" stroke-linecap=\"round\" style=\"stroke:white;stroke-width:4\"/><line x1=\"646.4101615137752\" y1=\"149.99999999999983\" x2=\"646.4101615137752\" y2=\"199.99999999999983\" stroke-linecap=\"round\" style=\"stroke:white;stroke-width:4\"/><line x1=\"646.4101615137752\" y1=\"199.99999999999983\" x2=\"689.7114317029971\" y2=\"224.99999999999983\" stroke-linecap=\"round\" style=\"stroke:white;stroke-width:4\"/><line x1=\"689.7114317029971\" y1=\"224.99999999999983\" x2=\"646.4101615137752\" y2=\"249.99999999999983\" stroke-linecap=\"round\" style=\"stroke:white;stroke-width:4\"/><line x1=\"646.4101615137752\" y1=\"249.99999999999983\" x2=\"646.4101615137752\" y2=\"299.99999999999983\" stroke-linecap=\"round\" style=\"stroke:white;stroke-width:4\"/><line x1=\"646.4101615137752\" y1=\"299.99999999999983\" x2=\"603.1088913245533\" y2=\"274.99999999999983\" stroke-linecap=\"round\" style=\"stroke:white;stroke-width:4\"/><line x1=\"603.1088913245533\" y1=\"274.99999999999983\" x2=\"559.8076211353314\" y2=\"299.99999999999983\" stroke-linecap=\"round\" style=\"stroke:white;stroke-width:4\"/><line x1=\"559.8076211353314\" y1=\"299.99999999999983\" x2=\"559.8076211353314\" y2=\"349.99999999999983\" stroke-linecap=\"round\" style=\"stroke:white;stroke-width:4\"/><line x1=\"559.8076211353314\" y1=\"349.99999999999983\" x2=\"603.1088913245533\" y2=\"374.99999999999983\" stroke-linecap=\"round\" style=\"stroke:white;stroke-width:4\"/><line x1=\"603.1088913245533\" y1=\"374.99999999999983\" x2=\"559.8076211353314\" y2=\"399.99999999999983\" stroke-linecap=\"round\" style=\"stroke:white;stroke-width:4\"/><line x1=\"559.8076211353314\" y1=\"399.99999999999983\" x2=\"559.8076211353314\" y2=\"449.99999999999983\" stroke-linecap=\"round\" style=\"stroke:white;stroke-width:4\"/><line x1=\"559.8076211353314\" y1=\"449.99999999999983\" x2=\"516.5063509461095\" y2=\"424.99999999999983\" stroke-linecap=\"round\" style=\"stroke:white;stroke-width:4\"/><line x1=\"516.5063509461095\" y1=\"424.99999999999983\" x2=\"473.2050807568875\" y2=\"449.99999999999983\" stroke-linecap=\"round\" style=\"stroke:white;stroke-width:4\"/><line x1=\"473.2050807568875\" y1=\"449.99999999999983\" x2=\"473.2050807568875\" y2=\"399.99999999999983\" stroke-linecap=\"round\" style=\"stroke:white;stroke-width:4\"/><line x1=\"473.2050807568875\" y1=\"399.99999999999983\" x2=\"429.9038105676656\" y2=\"374.99999999999983\" stroke-linecap=\"round\" style=\"stroke:white;stroke-width:4\"/><line x1=\"429.9038105676656\" y1=\"374.99999999999983\" x2=\"386.6025403784436\" y2=\"399.99999999999983\" stroke-linecap=\"round\" style=\"stroke:white;stroke-width:4\"/><line x1=\"386.6025403784436\" y1=\"399.99999999999983\" x2=\"386.6025403784436\" y2=\"449.99999999999983\" stroke-linecap=\"round\" style=\"stroke:white;stroke-width:4\"/><line x1=\"386.6025403784436\" y1=\"449.99999999999983\" x2=\"343.30127018922167\" y2=\"424.99999999999983\" stroke-linecap=\"round\" style=\"stroke:white;stroke-width:4\"/><line x1=\"343.30127018922167\" y1=\"424.99999999999983\" x2=\"299.9999999999997\" y2=\"449.99999999999983\" stroke-linecap=\"round\" style=\"stroke:white;stroke-width:4\"/>\n",
              "        \n",
              "      <g visibility=visible transform=\"rotate(180,299.9999999999997,449.99999999999983) translate(299.9999999999997, 449.99999999999983)\">\n",
              "        <circle stroke=\"white\" stroke-width=\"3\" fill=\"transparent\" r=\"12\" cx=\"0\" cy=\"0\"/>\n",
              "        <polygon points=\"0,19 3,16 -3,16\" style=\"fill:white;stroke:white;stroke-width:2\"/>\n",
              "      </g>\n",
              "    \n",
              "      </svg>\n",
              "    "
            ],
            "text/plain": [
              "<IPython.core.display.HTML object>"
            ]
          },
          "metadata": {
            "tags": []
          }
        }
      ]
    }
  ]
}