{
  "nbformat": 4,
  "nbformat_minor": 0,
  "metadata": {
    "colab": {
      "name": "edinaldo_aula_7b.ipynb",
      "provenance": [],
      "authorship_tag": "ABX9TyMbQQBBGi4C8vYGpLQzt9Za",
      "include_colab_link": true
    },
    "kernelspec": {
      "name": "python3",
      "display_name": "Python 3"
    }
  },
  "cells": [
    {
      "cell_type": "markdown",
      "metadata": {
        "id": "view-in-github",
        "colab_type": "text"
      },
      "source": [
        "<a href=\"https://colab.research.google.com/github/Edinaldobjr/aulas_de_python/blob/master/exercicios/edinaldo_aula_7b.ipynb\" target=\"_parent\"><img src=\"https://colab.research.google.com/assets/colab-badge.svg\" alt=\"Open In Colab\"/></a>"
      ]
    },
    {
      "cell_type": "markdown",
      "metadata": {
        "id": "ukcGc6MUtXl4"
      },
      "source": [
        "## Exercícios\n",
        "https://penseallen.github.io/PensePython2e/05-cond-recur.html\n",
        "\n",
        "1. O módulo time fornece uma função, também chamada time, que devolve a Hora Média de Greenwich na “época”, que é um momento arbitrário usado como ponto de referência. Em sistemas UNIX, a época é primeiro de janeiro de 1970."
      ]
    },
    {
      "cell_type": "code",
      "metadata": {
        "id": "_vNAy-wRtXl5",
        "outputId": "7d1b226e-6751-4f41-9593-733e97529ae8",
        "colab": {
          "base_uri": "https://localhost:8080/",
          "height": 34
        }
      },
      "source": [
        "import time\n",
        "time.time()"
      ],
      "execution_count": null,
      "outputs": [
        {
          "output_type": "execute_result",
          "data": {
            "text/plain": [
              "1602811885.2674031"
            ]
          },
          "metadata": {
            "tags": []
          },
          "execution_count": 6
        }
      ]
    },
    {
      "cell_type": "markdown",
      "metadata": {
        "id": "6PCPU7YnCYZV"
      },
      "source": [
        "Escreva um script que leia a hora atual e a converta em um tempo em horas, minutos e segundos, mais o número de dias desde a época."
      ]
    },
    {
      "cell_type": "code",
      "metadata": {
        "id": "vklcxkoJjsk3"
      },
      "source": [
        ""
      ],
      "execution_count": null,
      "outputs": []
    },
    {
      "cell_type": "markdown",
      "metadata": {
        "id": "0GPsuxs0CZ2f"
      },
      "source": [
        "2. O último teorema de Fermat diz que não existem números inteiros a, b e c tais que `a**n + b**n == c**n` para quaisquer valores de n maiores que 2.\n",
        "   1. Escreva uma função chamada `check_fermat` que receba quatro parâmetros – a, b, c e n – e verifique se o teorema de Fermat se mantém. Se n for maior que 2 e `a**n + b**n == c**n` o programa deve imprimir, “Holy smokes, Fermat was wrong!” Senão o programa deve exibir “No, that doesn’t work.”\n",
        "   1. Escreva uma função que peça ao usuário para digitar valores para a, b, c e n, os converta em números inteiros e use `check_fermat` para verificar se violam o teorema de Fermat."
      ]
    },
    {
      "cell_type": "code",
      "metadata": {
        "id": "RtGeMew8jtNI"
      },
      "source": [
        ""
      ],
      "execution_count": null,
      "outputs": []
    },
    {
      "cell_type": "markdown",
      "metadata": {
        "id": "Ccx6RkOjCoG0"
      },
      "source": [
        "3. Há um teste simples para ver se é possível formar um triângulo para quaisquer três comprimentos: Se algum dos três comprimentos for maior que a soma dos outros dois, então você não pode formar um triângulo. Senão, você pode. (Se a soma de dois comprimentos igualar o terceiro, eles formam um triângulo chamado “degenerado”.)\n",
        "   1. Escreva uma função chamada `is_triangle` que receba três números inteiros como argumentos, e que imprima “Yes” ou “No”, dependendo da possibilidade de formar ou não um triângulo de gravetos com os comprimentos dados.\n",
        "   1. Escreva uma função que peça ao usuário para digitar três comprimentos de gravetos, os converta em números inteiros e use `is_triangle` para verificar se os gravetos com os comprimentos dados podem formar um triângulo."
      ]
    },
    {
      "cell_type": "code",
      "metadata": {
        "id": "mrzQ3_cxjuef"
      },
      "source": [
        ""
      ],
      "execution_count": null,
      "outputs": []
    },
    {
      "cell_type": "markdown",
      "metadata": {
        "id": "y_tsQq67C73t"
      },
      "source": [
        "4. Leia a próxima função e veja se consegue compreender o que ela faz (veja os exemplos no Capítulo 4). Então execute-a e veja se acertou."
      ]
    },
    {
      "cell_type": "code",
      "metadata": {
        "id": "p1LUrtA2C99E"
      },
      "source": [
        "def draw(t, length, n):\n",
        "    if n == 0:\n",
        "        return\n",
        "    angle = 50\n",
        "    t.forward(length * n)\n",
        "    t.left(angle)\n",
        "    draw(t, length, n-1)\n",
        "    t.right(2 * angle)\n",
        "    draw(t, length, n-1)\n",
        "    t.left(angle)\n",
        "    t.backward(length * n)"
      ],
      "execution_count": null,
      "outputs": []
    },
    {
      "cell_type": "markdown",
      "metadata": {
        "id": "WpeZVhIBElfQ"
      },
      "source": [
        "A curva de Koch é um fractal que parece com o da Figura abaixo. \n",
        "![](https://github.com/PenseAllen/PensePython2e/raw/master/fig/tnkp_0502.png)\n",
        "\n",
        "Para desenhar uma curva de Koch com o comprimento x, tudo o que você tem que fazer é:\n",
        "\n",
        "1. Desenhe uma curva de Koch com o comprimento x/3.\n",
        "\n",
        "1. Vire 60 graus à esquerda.\n",
        "\n",
        "1. Desenhe uma curva de Koch com o comprimento x/3.\n",
        "\n",
        "1. Vire 120 graus à direita.\n",
        "\n",
        "1. Desenhe uma curva de Koch com o comprimento x/3.\n",
        "\n",
        "1. Vire 60 graus à esquerda.\n",
        "\n",
        "1. Desenhe uma curva de Koch com o comprimento x/3.\n",
        "\n",
        "\n",
        "A exceção é se x for menor que 3: neste caso, você pode desenhar apenas uma linha reta com o comprimento x.\n",
        "\n",
        "1. Escreva uma função chamada `koch` que receba um `ColabTurtle` (ou turtle) e um comprimento como parâmetros, e use o `ColabTurtle` para desenhar uma curva de Koch com o comprimento dado.\n",
        "\n",
        "1. Escreva uma função chamada `snowflake` que desenhe três curvas de Koch para fazer o traçado de um floco de neve.\n",
        "\n",
        "1. A curva de Koch pode ser generalizada de vários modos. Veja exemplos em http://en.wikipedia.org/wiki/Koch_snowflake e implemente o seu favorito."
      ]
    }
  ]
}