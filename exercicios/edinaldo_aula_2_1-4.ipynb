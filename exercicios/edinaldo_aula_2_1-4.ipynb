{
  "nbformat": 4,
  "nbformat_minor": 0,
  "metadata": {
    "colab": {
      "name": "edinaldo_aula_2.ipynb",
      "provenance": [],
      "authorship_tag": "ABX9TyPQqySkAlo405c7pZyDMHbH",
      "include_colab_link": true
    },
    "kernelspec": {
      "name": "python3",
      "display_name": "Python 3"
    }
  },
  "cells": [
    {
      "cell_type": "markdown",
      "metadata": {
        "id": "view-in-github",
        "colab_type": "text"
      },
      "source": [
        "<a href=\"https://colab.research.google.com/github/Edinaldobjr/aulas_de_python/blob/master/exercicios/edinaldo_aula_2_1-4.ipynb\" target=\"_parent\"><img src=\"https://colab.research.google.com/assets/colab-badge.svg\" alt=\"Open In Colab\"/></a>"
      ]
    },
    {
      "cell_type": "markdown",
      "metadata": {
        "id": "Vz8GxGVqyAm5",
        "colab_type": "text"
      },
      "source": [
        "## Exercícios\n"
      ]
    },
    {
      "cell_type": "markdown",
      "metadata": {
        "id": "OfbpET7W0bkS",
        "colab_type": "text"
      },
      "source": [
        "### Exercício 1:\n",
        "Considere as seguintes declarações de atribuições:\n",
        "   * largura = 17 \n",
        "   * altura = 12.0\n",
        "   * delimitador = \".\"\n",
        "   \n",
        "Para cada uma das expressões a seguir, escreva o valor das expressões e o tipo (do valor da expressão):\n",
        "1. largura/2\n",
        "1. largura/2.0\n",
        "1. altura/3\n",
        "1. 1 + 2 * 5\n",
        "1. delimitador*5\n",
        "\n",
        "Use o interpretador de python para verificar suas respostas."
      ]
    },
    {
      "cell_type": "code",
      "metadata": {
        "id": "DwzhKNI103sG",
        "colab_type": "code",
        "colab": {
          "base_uri": "https://localhost:8080/",
          "height": 102
        },
        "outputId": "3f8c5481-ec63-4730-d225-0af18903047d"
      },
      "source": [
        "largura = 17\n",
        "altura = 12.0\n",
        "delimitador = \".\"\n",
        "\n",
        "print(largura / 2, type(largura / 2))\n",
        "print(largura / 2.0, type(largura / 2.0))\n",
        "print(altura / 3, type(altura / 3))\n",
        "print(1 + 2 * 5, type(1 + 2 * 5))\n",
        "print(delimitador * 5, type(delimitador * 5))\n"
      ],
      "execution_count": 4,
      "outputs": [
        {
          "output_type": "stream",
          "text": [
            "8.5 <class 'float'>\n",
            "8.5 <class 'float'>\n",
            "4.0 <class 'float'>\n",
            "11 <class 'int'>\n",
            "..... <class 'str'>\n"
          ],
          "name": "stdout"
        }
      ]
    },
    {
      "cell_type": "markdown",
      "metadata": {
        "id": "ePVh7pm00oxI",
        "colab_type": "text"
      },
      "source": [
        "### Exercício 2:\n",
        "O volume de uma esfera de raio *r* é $\\frac{4}{3} \\pi r^{3}$ \n",
        "\n",
        "Qual é o volume de uma esfera de raio 5?"
      ]
    },
    {
      "cell_type": "code",
      "metadata": {
        "id": "9oVTunwn0-TJ",
        "colab_type": "code",
        "colab": {
          "base_uri": "https://localhost:8080/",
          "height": 34
        },
        "outputId": "b0f4aa2a-7887-4de2-93ba-f579af00ae8d"
      },
      "source": [
        "import math\n",
        "\n",
        "raio = 5\n",
        "volume = 4/3*math.pi*raio**3\n",
        "\n",
        "print('O volume da esfera é de {:.2f} cm³.'.format(volume))"
      ],
      "execution_count": null,
      "outputs": [
        {
          "output_type": "stream",
          "text": [
            "O volume da esfera é de 523.60 cm³.\n"
          ],
          "name": "stdout"
        }
      ]
    },
    {
      "cell_type": "markdown",
      "metadata": {
        "id": "5OuReTpS0tN9",
        "colab_type": "text"
      },
      "source": [
        "### Exercício 3:\n",
        "Suponha que o preço de um livro seja 24.95 reais, porém as livrarias têm desconto de 40%. Os custos de envio são de 3.00 reais para o primeiro livro e 0.75 reais para os livros adicionais. Qual é o custo total da compra de 60 livros?  "
      ]
    },
    {
      "cell_type": "code",
      "metadata": {
        "id": "UHygH6De1ED8",
        "colab_type": "code",
        "colab": {
          "base_uri": "https://localhost:8080/",
          "height": 34
        },
        "outputId": "abebaa87-312d-4d43-da57-aa8e1f4ede70"
      },
      "source": [
        "preco_livro = 24.95\n",
        "desconto = 40\n",
        "envio_1 = 3.00\n",
        "envio_resto = 0.75\n",
        "total_livros = 60\n",
        "\n",
        "preco_compra = preco_livro * total_livros * (1 - desconto / 100)\n",
        "\n",
        "frete = envio_1 + (total_livros - 1) * envio_resto\n",
        "\n",
        "preco_total = preco_compra + frete\n",
        "\n",
        "print('O preço para a compra de 60 livros é de {:.2f} Reais.'.format(preco_total))"
      ],
      "execution_count": null,
      "outputs": [
        {
          "output_type": "stream",
          "text": [
            "O preço para a compra de 60 livros é de 945.45 Reais.\n"
          ],
          "name": "stdout"
        }
      ]
    },
    {
      "cell_type": "markdown",
      "metadata": {
        "id": "d3fFl8IA0whz",
        "colab_type": "text"
      },
      "source": [
        "### Exercício 4:\n",
        "Um laser vermelho (com comprimento de onda $\\lambda = 632.8$ nm) incide em uma fenda dupla produzindo um padrão de interferência com franjas claras e escuras, em um anteparo situado a uma distância D = 1.98 m da fenda. Calcule a distância $\\Delta y$ entre dois máximos consecutivos de interferência. Considere o espaçamento entre as fendas, $d$, como sendo igual a 0.250 mm.\n",
        "*Dica: a distância entre dois máximos de interferência consecutivos pode ser aproximada por $\\Delta y = \\frac{\\lambda D}{d}$.*"
      ]
    },
    {
      "cell_type": "code",
      "metadata": {
        "id": "tWGV1BV61Igl",
        "colab_type": "code",
        "colab": {
          "base_uri": "https://localhost:8080/",
          "height": 34
        },
        "outputId": "2f2a6ab0-7da0-4316-fddb-3f9538524532"
      },
      "source": [
        "lamb = 632.8 * 10 ** (-9)     # em manometros\n",
        "D = 1.98\n",
        "d = 0.250 * 10 ** (-3)        # em milimetros\n",
        "\n",
        "Delta_y = (lamb * D) / d\n",
        "\n",
        "print('A distância entre os dois máximos consecutivos de interferencia é de {} m ou aproximadamente {:.0f} mm.'\n",
        "      .format(Delta_y, Delta_y * 1000))"
      ],
      "execution_count": null,
      "outputs": [
        {
          "output_type": "stream",
          "text": [
            "A distância entre os dois máximos consecutivos de interferencia é de 0.005011776 m ou aproximadamente 5 mm.\n"
          ],
          "name": "stdout"
        }
      ]
    }
  ]
}