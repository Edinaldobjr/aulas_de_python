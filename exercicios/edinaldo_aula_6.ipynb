{
  "nbformat": 4,
  "nbformat_minor": 0,
  "metadata": {
    "colab": {
      "name": "edinaldo_aula_6.ipynb",
      "provenance": [],
      "authorship_tag": "ABX9TyMaCsXgQVo3keILFbXxppAG",
      "include_colab_link": true
    },
    "kernelspec": {
      "name": "python3",
      "display_name": "Python 3"
    }
  },
  "cells": [
    {
      "cell_type": "markdown",
      "metadata": {
        "id": "view-in-github",
        "colab_type": "text"
      },
      "source": [
        "<a href=\"https://colab.research.google.com/github/Edinaldobjr/aulas_de_python/blob/master/exercicios/edinaldo_aula_6.ipynb\" target=\"_parent\"><img src=\"https://colab.research.google.com/assets/colab-badge.svg\" alt=\"Open In Colab\"/></a>"
      ]
    },
    {
      "cell_type": "markdown",
      "metadata": {
        "id": "7xJo458eRIz_"
      },
      "source": [
        "### Exercícios\n",
        "\n",
        "1. Considere o seguinte script:"
      ]
    },
    {
      "cell_type": "code",
      "metadata": {
        "id": "NajHrqwGdYXZ",
        "outputId": "1c0cba21-5af4-4e52-d032-24b8e5ecf626",
        "colab": {
          "base_uri": "https://localhost:8080/",
          "height": 170
        }
      },
      "source": [
        "!pip3 install ColabTurtle"
      ],
      "execution_count": null,
      "outputs": [
        {
          "output_type": "stream",
          "text": [
            "Collecting ColabTurtle\n",
            "  Downloading https://files.pythonhosted.org/packages/49/01/6da7091c2c6c917cce99c000b89acb6aa27b66ef6eafc0c0ccf59b98694f/ColabTurtle-2.0.0.tar.gz\n",
            "Building wheels for collected packages: ColabTurtle\n",
            "  Building wheel for ColabTurtle (setup.py) ... \u001b[?25l\u001b[?25hdone\n",
            "  Created wheel for ColabTurtle: filename=ColabTurtle-2.0.0-cp36-none-any.whl size=4032 sha256=129db50351eeb9d39a719d086275513076a81382a9d95e2e8638741d9a8a31e4\n",
            "  Stored in directory: /root/.cache/pip/wheels/a8/29/ec/ad346f0042ae467cc74f4378916348faf975b07890651dcae7\n",
            "Successfully built ColabTurtle\n",
            "Installing collected packages: ColabTurtle\n",
            "Successfully installed ColabTurtle-2.0.0\n"
          ],
          "name": "stdout"
        }
      ]
    },
    {
      "cell_type": "code",
      "metadata": {
        "id": "vB4IycDrhrGa",
        "outputId": "905a1987-3079-410c-8039-0b60704f5aca",
        "colab": {
          "base_uri": "https://localhost:8080/",
          "height": 521
        }
      },
      "source": [
        "import ColabTurtle.Turtle as tess\n",
        " \n",
        "def draw_bar(t, height):\n",
        "    \"\"\" Get turtle t to draw one bar, of height. \"\"\"\n",
        "    t.forward(height)\n",
        "    t.right(90)\n",
        "    t.forward(40)\n",
        "    t.right(90)\n",
        "    t.forward(height)\n",
        "    t.left(90)\n",
        "    t.forward(10)\n",
        "    t.left(90)\n",
        " \n",
        "tess.initializeTurtle()   # inicialização\n",
        "tess.speed(10)\n",
        "tess.color(\"blue\")\n",
        "tess.bgcolor(\"white\")\n",
        "tess.penup() #levantar a caneta\n",
        "tess.goto(10,450) #mudar posicao de inicio \n",
        "tess.pendown() #abaixar a caneta\n",
        " \n",
        "xs = [48,117,200,240,160,260,220]\n",
        " \n",
        "for a in xs:\n",
        "    draw_bar(tess, a)"
      ],
      "execution_count": null,
      "outputs": [
        {
          "output_type": "display_data",
          "data": {
            "text/html": [
              "\n",
              "      <svg width=\"800\" height=\"500\">\n",
              "        <rect width=\"100%\" height=\"100%\" fill=\"white\"/>\n",
              "        <line x1=\"10\" y1=\"450\" x2=\"9.999999999999991\" y2=\"402.0\" stroke-linecap=\"round\" style=\"stroke:blue;stroke-width:4\"/><line x1=\"9.999999999999991\" y1=\"402.0\" x2=\"49.99999999999999\" y2=\"402.0\" stroke-linecap=\"round\" style=\"stroke:blue;stroke-width:4\"/><line x1=\"49.99999999999999\" y1=\"402.0\" x2=\"49.99999999999999\" y2=\"450.0\" stroke-linecap=\"round\" style=\"stroke:blue;stroke-width:4\"/><line x1=\"49.99999999999999\" y1=\"450.0\" x2=\"59.99999999999999\" y2=\"450.0\" stroke-linecap=\"round\" style=\"stroke:blue;stroke-width:4\"/><line x1=\"59.99999999999999\" y1=\"450.0\" x2=\"59.99999999999997\" y2=\"333.0\" stroke-linecap=\"round\" style=\"stroke:blue;stroke-width:4\"/><line x1=\"59.99999999999997\" y1=\"333.0\" x2=\"99.99999999999997\" y2=\"333.0\" stroke-linecap=\"round\" style=\"stroke:blue;stroke-width:4\"/><line x1=\"99.99999999999997\" y1=\"333.0\" x2=\"99.99999999999999\" y2=\"450.0\" stroke-linecap=\"round\" style=\"stroke:blue;stroke-width:4\"/><line x1=\"99.99999999999999\" y1=\"450.0\" x2=\"109.99999999999999\" y2=\"450.0\" stroke-linecap=\"round\" style=\"stroke:blue;stroke-width:4\"/><line x1=\"109.99999999999999\" y1=\"450.0\" x2=\"109.99999999999994\" y2=\"250.0\" stroke-linecap=\"round\" style=\"stroke:blue;stroke-width:4\"/><line x1=\"109.99999999999994\" y1=\"250.0\" x2=\"149.99999999999994\" y2=\"250.0\" stroke-linecap=\"round\" style=\"stroke:blue;stroke-width:4\"/><line x1=\"149.99999999999994\" y1=\"250.0\" x2=\"149.99999999999994\" y2=\"450.0\" stroke-linecap=\"round\" style=\"stroke:blue;stroke-width:4\"/><line x1=\"149.99999999999994\" y1=\"450.0\" x2=\"159.99999999999994\" y2=\"450.0\" stroke-linecap=\"round\" style=\"stroke:blue;stroke-width:4\"/><line x1=\"159.99999999999994\" y1=\"450.0\" x2=\"159.9999999999999\" y2=\"210.0\" stroke-linecap=\"round\" style=\"stroke:blue;stroke-width:4\"/><line x1=\"159.9999999999999\" y1=\"210.0\" x2=\"199.9999999999999\" y2=\"210.0\" stroke-linecap=\"round\" style=\"stroke:blue;stroke-width:4\"/><line x1=\"199.9999999999999\" y1=\"210.0\" x2=\"199.99999999999991\" y2=\"450.0\" stroke-linecap=\"round\" style=\"stroke:blue;stroke-width:4\"/><line x1=\"199.99999999999991\" y1=\"450.0\" x2=\"209.99999999999991\" y2=\"450.0\" stroke-linecap=\"round\" style=\"stroke:blue;stroke-width:4\"/><line x1=\"209.99999999999991\" y1=\"450.0\" x2=\"209.9999999999999\" y2=\"290.0\" stroke-linecap=\"round\" style=\"stroke:blue;stroke-width:4\"/><line x1=\"209.9999999999999\" y1=\"290.0\" x2=\"249.9999999999999\" y2=\"290.0\" stroke-linecap=\"round\" style=\"stroke:blue;stroke-width:4\"/><line x1=\"249.9999999999999\" y1=\"290.0\" x2=\"249.9999999999999\" y2=\"450.0\" stroke-linecap=\"round\" style=\"stroke:blue;stroke-width:4\"/><line x1=\"249.9999999999999\" y1=\"450.0\" x2=\"259.9999999999999\" y2=\"450.0\" stroke-linecap=\"round\" style=\"stroke:blue;stroke-width:4\"/><line x1=\"259.9999999999999\" y1=\"450.0\" x2=\"259.99999999999983\" y2=\"190.0\" stroke-linecap=\"round\" style=\"stroke:blue;stroke-width:4\"/><line x1=\"259.99999999999983\" y1=\"190.0\" x2=\"299.99999999999983\" y2=\"190.0\" stroke-linecap=\"round\" style=\"stroke:blue;stroke-width:4\"/><line x1=\"299.99999999999983\" y1=\"190.0\" x2=\"299.99999999999983\" y2=\"450.0\" stroke-linecap=\"round\" style=\"stroke:blue;stroke-width:4\"/><line x1=\"299.99999999999983\" y1=\"450.0\" x2=\"309.99999999999983\" y2=\"450.0\" stroke-linecap=\"round\" style=\"stroke:blue;stroke-width:4\"/><line x1=\"309.99999999999983\" y1=\"450.0\" x2=\"309.9999999999998\" y2=\"230.0\" stroke-linecap=\"round\" style=\"stroke:blue;stroke-width:4\"/><line x1=\"309.9999999999998\" y1=\"230.0\" x2=\"349.9999999999998\" y2=\"230.0\" stroke-linecap=\"round\" style=\"stroke:blue;stroke-width:4\"/><line x1=\"349.9999999999998\" y1=\"230.0\" x2=\"349.9999999999998\" y2=\"450.0\" stroke-linecap=\"round\" style=\"stroke:blue;stroke-width:4\"/><line x1=\"349.9999999999998\" y1=\"450.0\" x2=\"359.9999999999998\" y2=\"450.0\" stroke-linecap=\"round\" style=\"stroke:blue;stroke-width:4\"/>\n",
              "        \n",
              "      <g visibility=visible transform=\"rotate(180,359.9999999999998,450.0) translate(359.9999999999998, 450.0)\">\n",
              "        <circle stroke=\"blue\" stroke-width=\"3\" fill=\"transparent\" r=\"12\" cx=\"0\" cy=\"0\"/>\n",
              "        <polygon points=\"0,19 3,16 -3,16\" style=\"fill:blue;stroke:blue;stroke-width:2\"/>\n",
              "      </g>\n",
              "    \n",
              "      </svg>\n",
              "    "
            ],
            "text/plain": [
              "<IPython.core.display.HTML object>"
            ]
          },
          "metadata": {
            "tags": []
          }
        }
      ]
    },
    {
      "cell_type": "markdown",
      "metadata": {
        "id": "7UXSE3AaRI0H"
      },
      "source": [
        "1) Modifique-o para que o resultado seja um **histograma**, como o mostrado na figura abaixo.\n",
        "Amplie seu script para que seja possível passar ao programa dados (frequência), com o valor do bin (classe de frequência) e cores determinados pelo usuário.\n",
        "\n",
        "\n",
        "Adicione declarações condicionais à função para casos passíveis de gerar erros, como por exemplo, se alguma variável do argumento da \n",
        "função não for definida.\n",
        "\n",
        "***Exemplo***: amplie sua função para tomar como argumento uma lista que contenha as frequências do histograma e verifique que o argumento realmente é uma lista. Caso não seja, imprima uma mensagem de erro.\n",
        "\n",
        "https://github.com/malbouis/Python_intro/blob/master/aulas_2019/pics/histo.png\n",
        "![shapes](https://github.com/malbouis/Python_intro/blob/master/aulas_2019/pics/histo.png)\n",
        "\n"
      ]
    },
    {
      "cell_type": "code",
      "metadata": {
        "id": "dUale48PvGBN"
      },
      "source": [
        "# Com dicionário\n",
        "import ColabTurtle.Turtle as tess\n",
        "\n",
        "def fazer_barra(t, dicionario):\n",
        "    for a in dicionario:\n",
        "        draw_bar(t, a, dicionario)\n",
        "\n",
        "def pos_inicial(t):\n",
        "    t.penup() #levantar a caneta\n",
        "    t.goto(10,450) #mudar posicao de inicio \n",
        "    t.pendown() #abaixar a caneta\n",
        "\n",
        "def draw_bar(t, height, dicionario):\n",
        "    \"\"\" Get turtle t to draw one bar, of height. \"\"\"\n",
        "    t.color(dicionario[height])\n",
        "    t.forward(height)\n",
        "    t.right(90)\n",
        "    t.forward(40)\n",
        "    t.right(90)\n",
        "    t.forward(height)\n",
        "    t.left(90)\n",
        "    t.penup()\n",
        "    t.forward(10)\n",
        "    t.pendown()\n",
        "    t.left(90)\n",
        "\n",
        "# xs = {48:'red', 117:'blue', 200:'green', 240:'yellow', 160:'black', 260:'purple', 220:'red'}\n",
        "dic = {}\n",
        "\n",
        "n = int(input('Digite o numero de elementos: '))\n",
        "for _ in range(n):\n",
        "    a = int(input('Digite a altura: '))\n",
        "    b = input('Digite a cor: ')\n",
        "    dic.update({a:b})\n",
        "\n",
        "print(dic)\n",
        "\n",
        "tess.initializeTurtle()   # inicialização\n",
        "tess.speed(10)\n",
        "tess.bgcolor(\"white\")\n",
        "pos_inicial(tess)\n",
        "fazer_barra(tess, dic)\n"
      ],
      "execution_count": null,
      "outputs": []
    },
    {
      "cell_type": "code",
      "metadata": {
        "id": "6cVSmOpxqpvI",
        "outputId": "8799a3a9-fa36-456a-fda4-99f3c8db5b95",
        "colab": {
          "base_uri": "https://localhost:8080/",
          "height": 623
        }
      },
      "source": [
        "# com listas\n",
        "import ColabTurtle.Turtle as tess\n",
        "\n",
        "def fazer_barra(t, n, altura, cores, largura):\n",
        "    j = 0\n",
        "    while j < n:\n",
        "        draw_bar(t, altura[j], cores[j], largura)\n",
        "        j += 1\n",
        "\n",
        "def pos_inicial(t):\n",
        "    t.penup() #levantar a caneta\n",
        "    t.goto(10,450) #mudar posicao de inicio \n",
        "    t.pendown() #abaixar a caneta\n",
        "\n",
        "def draw_bar(t, height, cor, bin):\n",
        "    \"\"\" Get turtle t to draw one bar, of height. \"\"\"\n",
        "    t.color(cor)\n",
        "    t.forward(height)\n",
        "    t.right(90)\n",
        "    t.forward(bin)\n",
        "    t.right(90)\n",
        "    t.forward(height)\n",
        "    t.left(90)\n",
        "    t.penup()\n",
        "    t.forward(10)\n",
        "    t.pendown()\n",
        "    t.left(90)\n",
        "\n",
        "altura = []\n",
        "cores = []\n",
        "\n",
        "n = int(input('Digite o numero de elementos: '))\n",
        "largura = int(input('Digite a largura da coluna: '))\n",
        "print()\n",
        "\n",
        "i = 0\n",
        "while i < n:\n",
        "    a = int(input('Digite a altura: '))\n",
        "    altura.append(a)\n",
        "    b = input('Digite a cor: ')\n",
        "    cores.append(b)\n",
        "    print()\n",
        "    i += 1\n",
        "    \n",
        "tess.initializeTurtle()   # inicialização\n",
        "tess.speed(10)\n",
        "tess.bgcolor(\"white\")\n",
        "pos_inicial(tess)\n",
        "fazer_barra(tess, n, altura, cores, largura)\n",
        "\n",
        "\n"
      ],
      "execution_count": null,
      "outputs": [
        {
          "output_type": "stream",
          "text": [
            "Digite o numero de elementos: 2\n",
            "Digite a largura da coluna: 100\n",
            "Digite a altura: 100\n",
            "Digite a cor: red\n",
            "Digite a altura: 300\n",
            "Digite a cor: red\n"
          ],
          "name": "stdout"
        },
        {
          "output_type": "display_data",
          "data": {
            "text/html": [
              "\n",
              "      <svg width=\"800\" height=\"500\">\n",
              "        <rect width=\"100%\" height=\"100%\" fill=\"white\"/>\n",
              "        <line x1=\"10\" y1=\"450\" x2=\"9.999999999999982\" y2=\"350.0\" stroke-linecap=\"round\" style=\"stroke:red;stroke-width:4\"/><line x1=\"9.999999999999982\" y1=\"350.0\" x2=\"109.99999999999999\" y2=\"350.0\" stroke-linecap=\"round\" style=\"stroke:red;stroke-width:4\"/><line x1=\"109.99999999999999\" y1=\"350.0\" x2=\"109.99999999999999\" y2=\"450.0\" stroke-linecap=\"round\" style=\"stroke:red;stroke-width:4\"/><line x1=\"119.99999999999999\" y1=\"450.0\" x2=\"119.99999999999993\" y2=\"150.0\" stroke-linecap=\"round\" style=\"stroke:red;stroke-width:4\"/><line x1=\"119.99999999999993\" y1=\"150.0\" x2=\"219.99999999999994\" y2=\"150.0\" stroke-linecap=\"round\" style=\"stroke:red;stroke-width:4\"/><line x1=\"219.99999999999994\" y1=\"150.0\" x2=\"219.99999999999997\" y2=\"450.0\" stroke-linecap=\"round\" style=\"stroke:red;stroke-width:4\"/>\n",
              "        \n",
              "      <g visibility=visible transform=\"rotate(180,229.99999999999997,450.0) translate(229.99999999999997, 450.0)\">\n",
              "        <circle stroke=\"red\" stroke-width=\"3\" fill=\"transparent\" r=\"12\" cx=\"0\" cy=\"0\"/>\n",
              "        <polygon points=\"0,19 3,16 -3,16\" style=\"fill:red;stroke:red;stroke-width:2\"/>\n",
              "      </g>\n",
              "    \n",
              "      </svg>\n",
              "    "
            ],
            "text/plain": [
              "<IPython.core.display.HTML object>"
            ]
          },
          "metadata": {
            "tags": []
          }
        }
      ]
    },
    {
      "cell_type": "markdown",
      "metadata": {
        "id": "1s71QvSvvFcL"
      },
      "source": [
        "2) Repita o exercício 1) usando **Manipulação de exceção em Python** (pesquisem!!!!), com as cláusulas ```try``` e ```except```.  <=== **A ser apresentado em sala de aula**.\n",
        "\n"
      ]
    },
    {
      "cell_type": "code",
      "metadata": {
        "id": "OqlTqbSKvE5L"
      },
      "source": [
        "import ColabTurtle.Turtle as tess\n",
        "\n",
        "def fazer_barra(t, n, altura, cores, largura):\n",
        "    j = 0\n",
        "    while j < n:\n",
        "        draw_bar(t, altura[j], cores[j], largura)\n",
        "        j += 1\n",
        "\n",
        "def pos_inicial(t):\n",
        "    t.penup() #levantar a caneta\n",
        "    t.goto(10,450) #mudar posicao de inicio \n",
        "    t.pendown() #abaixar a caneta\n",
        "\n",
        "def draw_bar(t, height, cor, bin):\n",
        "    \"\"\" Get turtle t to draw one bar, of height. \"\"\"\n",
        "    t.color(cor)\n",
        "    t.forward(height)\n",
        "    t.right(90)\n",
        "    t.forward(bin)\n",
        "    t.right(90)\n",
        "    t.forward(height)\n",
        "    t.left(90)\n",
        "    t.penup()\n",
        "    t.forward(10)\n",
        "    t.pendown()\n",
        "    t.left(90)\n",
        "\n",
        "def frequencia():\n",
        "    while True:\n",
        "        try:\n",
        "            a = int(input('Digite a altura: '))\n",
        "            return altura.append(a)\n",
        "            break\n",
        "        except ValueError:\n",
        "            print(\"\\nOops! Digite valores inteiros positivos...\")\n",
        "\n",
        "def collor():\n",
        "    while True:\n",
        "        try:\n",
        "            b = input('Digite a cor: ')\n",
        "            if b in ('white', 'yellow', 'orange', 'red', 'green', 'blue', 'purple', 'grey', 'black'):\n",
        "                return cores.append(b)\n",
        "                break\n",
        "            else:\n",
        "                print(\"\\nOops! Digite uma das opções ('white', 'yellow', 'orange', 'red', 'green', 'blue', 'purple', 'grey', 'black')\")\n",
        "        except ValueError:\n",
        "            print(\"Oops!\")\n",
        "\n",
        "altura = []\n",
        "cores = []\n",
        "\n",
        "n = int(input('Digite o numero de elementos: '))\n",
        "largura = int(input('Digite a largura da coluna: '))\n",
        "print()\n",
        "\n",
        "i = 0\n",
        "while i < n:\n",
        "    frequencia()\n",
        "    collor()\n",
        "    print()\n",
        "    i += 1\n",
        "    \n",
        "tess.initializeTurtle()   # inicialização\n",
        "tess.speed(10)\n",
        "tess.bgcolor(\"white\")\n",
        "pos_inicial(tess)\n",
        "fazer_barra(tess, n, altura, cores, largura)\n",
        "\n"
      ],
      "execution_count": null,
      "outputs": []
    },
    {
      "cell_type": "markdown",
      "metadata": {
        "id": "isn2xuFsvLcN"
      },
      "source": [
        "3) **Desafio**: Faça um programa equivalente ao do item 1., utilizando ***matplotlib*** e ***numpy*** ao invés de ***turtle***"
      ]
    },
    {
      "cell_type": "code",
      "metadata": {
        "id": "3cjHeNWxvLCI",
        "outputId": "2ac7da4e-069b-4504-f0f4-173ef99b190e",
        "colab": {
          "base_uri": "https://localhost:8080/",
          "height": 265
        }
      },
      "source": [
        "import matplotlib.pyplot as plt\n",
        "\n",
        "data = [1, 2, 3, 4, 5, 6]\n",
        "bin = [10,10,20,20,30,30]\n",
        "\n",
        "plt.hist(data, bin, rwidth=0.5, color='purple')\n",
        "plt.show()"
      ],
      "execution_count": null,
      "outputs": [
        {
          "output_type": "display_data",
          "data": {
            "image/png": "[encoded data removed]",
            "text/plain": [
              "<Figure size 432x288 with 1 Axes>"
            ]
          },
          "metadata": {
            "tags": [],
            "needs_background": "light"
          }
        }
      ]
    }
  ]
}