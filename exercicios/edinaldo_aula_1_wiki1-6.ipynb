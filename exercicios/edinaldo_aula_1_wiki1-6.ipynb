{
  "nbformat": 4,
  "nbformat_minor": 0,
  "metadata": {
    "colab": {
      "name": "edinaldo_aula_1_wiki1-6.ipynb",
      "provenance": [],
      "authorship_tag": "ABX9TyNspwmuyN5f4dhP0xScZpZ0",
      "include_colab_link": true
    },
    "kernelspec": {
      "name": "python3",
      "display_name": "Python 3"
    }
  },
  "cells": [
    {
      "cell_type": "markdown",
      "metadata": {
        "id": "view-in-github",
        "colab_type": "text"
      },
      "source": [
        "<a href=\"https://colab.research.google.com/github/Edinaldobjr/aulas_de_python/blob/master/exercicios/edinaldo_aula_1_wiki1-6.ipynb\" target=\"_parent\"><img src=\"https://colab.research.google.com/assets/colab-badge.svg\" alt=\"Open In Colab\"/></a>"
      ]
    },
    {
      "cell_type": "markdown",
      "metadata": {
        "id": "SfSehhpVMTTr"
      },
      "source": [
        "Exercicios Wiki"
      ]
    },
    {
      "cell_type": "markdown",
      "metadata": {
        "id": "OKfhOkO4MXq0"
      },
      "source": [
        "1. Se você fizer uma corrida de 10 quilômetros em 43 minutos e 30 segundos, qual será seu tempo médio por milha? Qual é a sua velocidade média em milhas por hora? (Dica: há 1,61 quilômetros em uma milha)."
      ]
    },
    {
      "cell_type": "code",
      "metadata": {
        "id": "ZvKr1WGbMeZv",
        "outputId": "db38052e-9849-4193-fc9e-fee509338594",
        "colab": {
          "base_uri": "https://localhost:8080/",
          "height": 88
        }
      },
      "source": [
        "print('Distância percorrida 10 km '\n",
        "      'no intervalo de tempo de 43 min e 30 seg.')\n",
        "dist_km = 10      # Distancia em Quilômetros\n",
        "dist_mi = dist_km / 1.61    # Conversão de Quilômetros para Milhas\n",
        "\n",
        "print('\\nA distância é de {:.2f} milhas'.format(dist_mi), end=' ')\n",
        "\n",
        "tempo_min = 43    # tempo em minutos\n",
        "tempo_seg = 30    # tempo em segundos\n",
        "tempo_total_hora = (tempo_min / 60) + (tempo_seg / 3600)    # tempo total em horas\n",
        "\n",
        "velocidade_milhas = dist_mi / tempo_total_hora    # velocidade em milhas\n",
        "\n",
        "tempo_milha = 1 / velocidade_milhas     # tempo por milha\n",
        "\n",
        "print(f'com velocidade média é de {velocidade_milhas:.2f} milhas por hora e com tempo médio por ' \n",
        "      f'milha de {tempo_milha:.2f}.')"
      ],
      "execution_count": 1,
      "outputs": [
        {
          "output_type": "stream",
          "text": [
            "Distância percorrida 10 km no intervalo de tempo de 43 min e 30 seg.\n",
            "\n",
            "A distância é de 6.21 milhas com velocidade média é de 8.57 milhas por hora e com tempo médio por milha de 0.12.\n"
          ],
          "name": "stdout"
        }
      ]
    },
    {
      "cell_type": "markdown",
      "metadata": {
        "id": "D0cBo0_2MmHB"
      },
      "source": [
        "2. Desde sua varanda você escuta o som do primeiro fogo artificial do reveillon 3 segundos depois de ver a luz, qual a distância? (o som tem velocidade 343 m/s e a luz 3 * 10**8 m/s)."
      ]
    },
    {
      "cell_type": "code",
      "metadata": {
        "id": "itiQdd_GMqAT",
        "outputId": "81263e90-1c09-47b5-f9f4-72c3ddef5e42",
        "colab": {
          "base_uri": "https://localhost:8080/",
          "height": 34
        }
      },
      "source": [
        "velocidade_som = 343        # metros por segundo\n",
        "tempo = 3                   # segundos\n",
        "\n",
        "distancia = velocidade_som * tempo\n",
        "\n",
        "print(f'A distancia dos fogos de artificio é de aproximadamente {distancia} metros.')"
      ],
      "execution_count": 2,
      "outputs": [
        {
          "output_type": "stream",
          "text": [
            "A distancia dos fogos de artificio é de aproximadamente 1029 metros.\n"
          ],
          "name": "stdout"
        }
      ]
    },
    {
      "cell_type": "markdown",
      "metadata": {
        "id": "Qt9Yo_nQMu6c"
      },
      "source": [
        "3. Ache os zeros da função y = 3x² - 4x - 10."
      ]
    },
    {
      "cell_type": "code",
      "metadata": {
        "id": "yyWoq9ClM3Aw",
        "outputId": "f01c6b15-c200-45f5-d232-557d5737db8d",
        "colab": {
          "base_uri": "https://localhost:8080/",
          "height": 34
        }
      },
      "source": [
        "a = 3\n",
        "b = -4\n",
        "c = -10\n",
        "\n",
        "delta = (b**2-4*a*c)\n",
        "\n",
        "print('Esta equação possui duas raízes reais e distintas', end=' ')\n",
        "\n",
        "x1 = (-b + delta ** (1 / 2)) / 2 * a\n",
        "x2 = (-b - delta ** (1 / 2)) / 2 * a\n",
        "\n",
        "print(f\"que são {x1:.2f} e {x2:.2f}.\")"
      ],
      "execution_count": 3,
      "outputs": [
        {
          "output_type": "stream",
          "text": [
            "Esta equação possui duas raízes reais e distintas que são 23.49 e -11.49.\n"
          ],
          "name": "stdout"
        }
      ]
    },
    {
      "cell_type": "markdown",
      "metadata": {
        "id": "2RTwzmjaM_D6"
      },
      "source": [
        "4. Se, ao meio dia, a sombra de um poste de 5 m de altura tem apenas 50 cm de comprimento no chão, qual o ângulo zenital do sol?"
      ]
    },
    {
      "cell_type": "code",
      "metadata": {
        "id": "nc1SQt8pNCaT",
        "outputId": "9bf69f65-4591-4c8f-9c3e-eb4b8738dcd0",
        "colab": {
          "base_uri": "https://localhost:8080/",
          "height": 34
        }
      },
      "source": [
        "import math\n",
        "\n",
        "h = 5       # metros\n",
        "d = 0.05    # metros\n",
        "\n",
        "ang = math.degrees(math.atan(d / h))\n",
        "\n",
        "print(f'O ângulo zenital é de {ang:.2f} graus')"
      ],
      "execution_count": 4,
      "outputs": [
        {
          "output_type": "stream",
          "text": [
            "O ângulo zenital é de 0.57 graus\n"
          ],
          "name": "stdout"
        }
      ]
    },
    {
      "cell_type": "markdown",
      "metadata": {
        "id": "POi92CI5NUPu"
      },
      "source": [
        "5. Calcule o seu IMC = M / A**2 (com a massa em Kg e a altura em metros). Um valor saudável estara --em geral-- entre 20-25. Um bebê de 6 meses \"gorducho\" tem 70 cm de \"comprimento\" e 11 kg de massa, qual o IMC dele?"
      ]
    },
    {
      "cell_type": "code",
      "metadata": {
        "id": "gkGLlAZxNY-O",
        "outputId": "7e97e52a-8edf-4540-c575-b927454801ab",
        "colab": {
          "base_uri": "https://localhost:8080/",
          "height": 34
        }
      },
      "source": [
        "altura = 0.70        # metros\n",
        "massa = 11           # quilogramas\n",
        "\n",
        "imc = massa / altura ** 2\n",
        "\n",
        "if 20 <= imc <= 25:\n",
        "    print(f'O IMC é de {imc:.2f} que está saudável.')\n",
        "elif imc < 20:\n",
        "    print(f'O IMC é de {imc:.2f} que está magro.')\n",
        "else:\n",
        "    print(f'O IMC é de {imc:.2f} que está obeso.')"
      ],
      "execution_count": 6,
      "outputs": [
        {
          "output_type": "stream",
          "text": [
            "O IMC é de 22.45 que está saudável.\n"
          ],
          "name": "stdout"
        }
      ]
    },
    {
      "cell_type": "markdown",
      "metadata": {
        "id": "HvqWvROGOYES"
      },
      "source": [
        "6. Calcule a velocidade final de um objeto em queda livre a partir de 3 metros de altura (sem resistencia do ar). Calcule o tempo que esse objeto demora para cair."
      ]
    },
    {
      "cell_type": "code",
      "metadata": {
        "id": "xtpovC-YOZ-S",
        "outputId": "070670f0-d7ab-44ac-c15d-1d0bbe0eb575",
        "colab": {
          "base_uri": "https://localhost:8080/",
          "height": 34
        }
      },
      "source": [
        "altura = 3      # metros\n",
        "gravidade = 10  # metros por segundo ao quadrado\n",
        "\n",
        "velocidade = (2 * gravidade * altura) * (1/2)\n",
        "\n",
        "tempo = velocidade / gravidade\n",
        "\n",
        "print(f'A velocidade final é de {velocidade} m/s e o tempo de queda é de {tempo} segundos.')\n"
      ],
      "execution_count": 7,
      "outputs": [
        {
          "output_type": "stream",
          "text": [
            "A velocidade final é de 30.0 m/s e o tempo de queda é de 3.0 segundos.\n"
          ],
          "name": "stdout"
        }
      ]
    }
  ]
}
