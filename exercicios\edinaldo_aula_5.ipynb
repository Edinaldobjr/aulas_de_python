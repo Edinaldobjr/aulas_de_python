{
  "nbformat": 4,
  "nbformat_minor": 0,
  "metadata": {
    "colab": {
      "name": "Untitled1.ipynb",
      "provenance": [],
      "authorship_tag": "ABX9TyNCwp2Tmprxbu+EwD3dNai8",
      "include_colab_link": true
    },
    "kernelspec": {
      "name": "python3",
      "display_name": "Python 3"
    }
  },
  "cells": [
    {
      "cell_type": "markdown",
      "metadata": {
        "id": "view-in-github",
        "colab_type": "text"
      },
      "source": [
        "<a href=\"https://colab.research.google.com/github/Edinaldobjr/aulas_de_python/blob/master/exercicios%5Cedinaldo_aula_5.ipynb\" target=\"_parent\"><img src=\"https://colab.research.google.com/assets/colab-badge.svg\" alt=\"Open In Colab\"/></a>"
      ]
    },
    {
      "cell_type": "code",
      "metadata": {
        "id": "13KBDZAudVXU",
        "outputId": "d1150af5-62a9-4549-c350-a5c7a8f29d42",
        "colab": {
          "base_uri": "https://localhost:8080/",
          "height": 34
        }
      },
      "source": [
        "!pip3 install ColabTurtle\n",
        "import ColabTurtle"
      ],
      "execution_count": 5,
      "outputs": [
        {
          "output_type": "stream",
          "text": [
            "Requirement already satisfied: ColabTurtle in /usr/local/lib/python3.6/dist-packages (2.0.0)\n"
          ],
          "name": "stdout"
        }
      ]
    },
    {
      "cell_type": "markdown",
      "metadata": {
        "id": "NsJ6R0HDgBGh"
      },
      "source": [
        "## Exercícios - Parte 1:\n",
        "1. [**Não é possível fazer no Google Colab. Pule para o exercício 2**] Modifique o programa da tartaruga (primeiro exemplo) para que, antes de criar a janela, ele solicite que o usuário insira a cor de fundo desejada. Ele deve armazenar as respostas do usuário em uma variável e modificar a cor da janela de acordo com os desejos do usuário. \n",
        "   * ***Dicas***: faça uso da função ***input***, built-in do python\n",
        "   * você pode encontrar uma lista de nomes de cores permitidos em http://www.tcl.tk/man/tcl8.4/TkCmd/colors.htm. Inclui alguns bem incomuns, como “peach puff” e “HotPink” ”***\n",
        "   \n",
        " \n",
        "   \n",
        "\n",
        "\n",
        "\n",
        "   \n",
        "\n",
        "\n"
      ]
    },
    {
      "cell_type": "code",
      "metadata": {
        "id": "qK60r9ZFbV6u"
      },
      "source": [
        ""
      ],
      "execution_count": 57,
      "outputs": []
    },
    {
      "cell_type": "markdown",
      "metadata": {
        "id": "96i5CgItbVzf"
      },
      "source": [
        "2. Faça modificações similares para permitir que o usuário mude a cor da tartaruga durante a execução do programa.\n",
        "   * Faça o mesmo para a largura da caneta da tartaruga. *Dica: seu diálogo com o usuário retornará uma string, mas o método ```pensize``` ( ```width``` no Google Colab) espera que seu argumento seja um **int**. Então, você precisará converter a **string** em um **int** antes de passá-la para **pensize**.*  "
      ]
    },
    {
      "cell_type": "code",
      "metadata": {
        "id": "imtQKOt3bVo1",
        "outputId": "ed1489e9-c0fa-4dd9-d546-0e37c5538f7b",
        "colab": {
          "base_uri": "https://localhost:8080/",
          "height": 538
        }
      },
      "source": [
        "import ColabTurtle.Turtle as teca\n",
        "teca = ColabTurtle.Turtle\n",
        "\n",
        "color = input(\"Digite a cor desejada: \")\n",
        "teca.initializeTurtle()\n",
        "teca.color(color)\n",
        "teca.width(3)\n",
        "teca.forward(50)\n",
        "teca.left(120)\n",
        "teca.forward(50)"
      ],
      "execution_count": 59,
      "outputs": [
        {
          "output_type": "stream",
          "text": [
            "Digite a cor desejada: blue\n"
          ],
          "name": "stdout"
        },
        {
          "output_type": "display_data",
          "data": {
            "text/html": [
              "\n",
              "      <svg width=\"800\" height=\"500\">\n",
              "        <rect width=\"100%\" height=\"100%\" fill=\"black\"/>\n",
              "        <line x1=\"400\" y1=\"250\" x2=\"400.0\" y2=\"200.0\" stroke-linecap=\"round\" style=\"stroke:blue;stroke-width:3\"/><line x1=\"400.0\" y1=\"200.0\" x2=\"356.69872981077805\" y2=\"225.0\" stroke-linecap=\"round\" style=\"stroke:blue;stroke-width:3\"/>\n",
              "        \n",
              "      <g visibility=visible transform=\"rotate(60,356.69872981077805,225.0) translate(356.69872981077805, 225.0)\">\n",
              "        <circle stroke=\"blue\" stroke-width=\"3\" fill=\"transparent\" r=\"12\" cx=\"0\" cy=\"0\"/>\n",
              "        <polygon points=\"0,19 3,16 -3,16\" style=\"fill:blue;stroke:blue;stroke-width:2\"/>\n",
              "      </g>\n",
              "    \n",
              "      </svg>\n",
              "    "
            ],
            "text/plain": [
              "<IPython.core.display.HTML object>"
            ]
          },
          "metadata": {
            "tags": []
          }
        }
      ]
    },
    {
      "cell_type": "markdown",
      "metadata": {
        "id": "SVE2oqE7bVhr"
      },
      "source": [
        "3. Investiguem os métodos e atributos do módulo ```turtle```  (```ColabTurtle``` no Google Colab);"
      ]
    },
    {
      "cell_type": "code",
      "metadata": {
        "id": "ptoN8lN5bVb9",
        "outputId": "c6e30f26-489c-45c3-b603-4cd8148e95f2",
        "colab": {
          "base_uri": "https://localhost:8080/",
          "height": 1000
        }
      },
      "source": [
        "help(ColabTurtle.Turtle)"
      ],
      "execution_count": 64,
      "outputs": [
        {
          "output_type": "stream",
          "text": [
            "Help on module ColabTurtle.Turtle in ColabTurtle:\n",
            "\n",
            "NAME\n",
            "    ColabTurtle.Turtle\n",
            "\n",
            "FUNCTIONS\n",
            "    backward(units)\n",
            "        # makes the turtle move backward by 'units' units\n",
            "    \n",
            "    bgcolor(color)\n",
            "        # change the background color of the drawing area; valid colors are defined at VALID_COLORS\n",
            "    \n",
            "    color(color)\n",
            "        # change the color of the pen; valid colors are defined at VALID_COLORS\n",
            "    \n",
            "    forward(units)\n",
            "        # makes the turtle move forward by 'units' units\n",
            "    \n",
            "    goto(x, y)\n",
            "        # move the turtle to a designated 'x'-'y' coordinate\n",
            "    \n",
            "    hideturtle()\n",
            "        # switch turtle visibility to ON\n",
            "    \n",
            "    initializeTurtle(initial_speed=4, initial_window_size=(800, 500))\n",
            "        # construct the display for turtle\n",
            "    \n",
            "    left(degrees)\n",
            "        # makes the turtle move right by 'degrees' degrees (NOT radians)\n",
            "    \n",
            "    pendown()\n",
            "        # lowers the pen such that following turtle moves will now cause drawings\n",
            "    \n",
            "    penup()\n",
            "        # raises the pen such that following turtle moves will not cause any drawings\n",
            "    \n",
            "    right(degrees)\n",
            "        # makes the turtle move right by 'degrees' degrees (NOT radians)\n",
            "    \n",
            "    setx(x)\n",
            "        # move the turtle to a designated 'x' x-coordinate, y-coordinate stays the same\n",
            "    \n",
            "    sety(y)\n",
            "        # move the turtle to a designated 'y' y-coordinate, x-coordinate stays the same\n",
            "    \n",
            "    showturtle()\n",
            "        # switch turtle visibility to ON\n",
            "    \n",
            "    speed(speed)\n",
            "        # update the speed of the moves, [1,10]\n",
            "    \n",
            "    width(width)\n",
            "        # change the width of the lines drawn by the turtle, in pixels\n",
            "\n",
            "DATA\n",
            "    DEFAULT_BACKGROUND_COLOR = 'black'\n",
            "    DEFAULT_IS_PEN_DOWN = True\n",
            "    DEFAULT_PEN_COLOR = 'white'\n",
            "    DEFAULT_PEN_WIDTH = 4\n",
            "    DEFAULT_SPEED = 4\n",
            "    DEFAULT_SVG_LINES_STRING = ''\n",
            "    DEFAULT_TURTLE_DEGREE = 270\n",
            "    DEFAULT_TURTLE_VISIBILITY = True\n",
            "    DEFAULT_WINDOW_SIZE = (800, 500)\n",
            "    SPEED_TO_SEC_MAP = {1: 1.5, 2: 0.9, 3: 0.7, 4: 0.5, 5: 0.3, 6: 0.18, 7...\n",
            "    SVG_TEMPLATE = '\\n      <svg width=\"{window_width}\" height=\"{wind...  ...\n",
            "    TURTLE_SVG_TEMPLATE = '\\n      <g visibility={visibility} transform=\"r...\n",
            "    VALID_COLORS = ('white', 'yellow', 'orange', 'red', 'green', 'blue', '...\n",
            "    background_color = 'black'\n",
            "    drawing_window = <DisplayHandle display_id=5b3bf46277506978edb8131fcaa...\n",
            "    is_pen_down = True\n",
            "    is_turtle_visible = True\n",
            "    pen_color = 'blue'\n",
            "    pen_width = 4\n",
            "    svg_lines_string = '<line x1=\"200.0\" y1=\"250.00000000000003\" x2=\"169.....\n",
            "    timeout = 0.02\n",
            "    turtle_degree = 324\n",
            "    turtle_pos = (590.0, 250.00000000000006)\n",
            "    window_size = (800, 500)\n",
            "\n",
            "FILE\n",
            "    /usr/local/lib/python3.6/dist-packages/ColabTurtle/Turtle.py\n",
            "\n",
            "\n"
          ],
          "name": "stdout"
        }
      ]
    },
    {
      "cell_type": "markdown",
      "metadata": {
        "id": "C_EpzylUbVWF"
      },
      "source": [
        "4. Desenhe um quadrado, usando a forma de tartaruga, ao invés da flecha, para desenhar (***caso esteja no Google Colab, não precisa mudar a forma***).\n",
        "   * mude a velocidade com que a tartaruga faz o desenho."
      ]
    },
    {
      "cell_type": "code",
      "metadata": {
        "id": "n05AMH8qbVQS"
      },
      "source": [
        "red = ColabTurtle.Turtle\n",
        "red.initializeTurtle()     \n",
        "red.color('red')        \n",
        "red.speed(4)\n",
        "\n",
        "for i in range(4):\n",
        "  red.forward(100)            \n",
        "  red.left(90)"
      ],
      "execution_count": null,
      "outputs": []
    },
    {
      "cell_type": "markdown",
      "metadata": {
        "id": "GP1THpUHbVKD"
      },
      "source": [
        "5. Sabendo que o ângulo interno da ponta de uma estrela de 5 pontas é de 36 graus, desenhe uma estrela.\n",
        "![title](https://github.com/malbouis/Python_intro/blob/master/aulas_2019/pics/estrela.png?raw=1)"
      ]
    },
    {
      "cell_type": "code",
      "metadata": {
        "id": "wOsPfbULbVDM",
        "outputId": "bbe38fcf-f377-442d-c9df-5f24357b2549",
        "colab": {
          "base_uri": "https://localhost:8080/",
          "height": 521
        }
      },
      "source": [
        "blue = ColabTurtle.Turtle\n",
        "blue.initializeTurtle()     \n",
        "blue.color('blue')        \n",
        "blue.speed(4)\n",
        "\n",
        "blue.left(18)\n",
        "for i in range(5):\n",
        "  blue.forward(100)            \n",
        "  blue.left(144)"
      ],
      "execution_count": 60,
      "outputs": [
        {
          "output_type": "display_data",
          "data": {
            "text/html": [
              "\n",
              "      <svg width=\"800\" height=\"500\">\n",
              "        <rect width=\"100%\" height=\"100%\" fill=\"black\"/>\n",
              "        <line x1=\"400\" y1=\"250\" x2=\"369.09830056250524\" y2=\"154.89434837048464\" stroke-linecap=\"round\" style=\"stroke:blue;stroke-width:4\"/><line x1=\"369.09830056250524\" y1=\"154.89434837048464\" x2=\"338.1966011250105\" y2=\"250.0\" stroke-linecap=\"round\" style=\"stroke:blue;stroke-width:4\"/><line x1=\"338.1966011250105\" y1=\"250.0\" x2=\"419.0983005625052\" y2=\"191.22147477075265\" stroke-linecap=\"round\" style=\"stroke:blue;stroke-width:4\"/><line x1=\"419.0983005625052\" y1=\"191.22147477075265\" x2=\"319.0983005625052\" y2=\"191.22147477075265\" stroke-linecap=\"round\" style=\"stroke:blue;stroke-width:4\"/><line x1=\"319.0983005625052\" y1=\"191.22147477075265\" x2=\"399.99999999999994\" y2=\"249.99999999999997\" stroke-linecap=\"round\" style=\"stroke:blue;stroke-width:4\"/>\n",
              "        \n",
              "      <g visibility=visible transform=\"rotate(162,399.99999999999994,249.99999999999997) translate(399.99999999999994, 249.99999999999997)\">\n",
              "        <circle stroke=\"blue\" stroke-width=\"3\" fill=\"transparent\" r=\"12\" cx=\"0\" cy=\"0\"/>\n",
              "        <polygon points=\"0,19 3,16 -3,16\" style=\"fill:blue;stroke:blue;stroke-width:2\"/>\n",
              "      </g>\n",
              "    \n",
              "      </svg>\n",
              "    "
            ],
            "text/plain": [
              "<IPython.core.display.HTML object>"
            ]
          },
          "metadata": {
            "tags": []
          }
        }
      ]
    },
    {
      "cell_type": "markdown",
      "metadata": {
        "id": "ewt1DX6rbU6w"
      },
      "source": [
        "6. Sabendo o ângulo interno da ponta de uma estrela, desenhe quatro estrelas em uma janela, com uma certa distância entre elas. Dica: use a função penup() e pendown() do módulo ```turtle```."
      ]
    },
    {
      "cell_type": "code",
      "metadata": {
        "id": "9jFUL2sCbUx-"
      },
      "source": [
        "def iniciar_esquerda(dist):\n",
        "    blue.penup()\n",
        "    blue.left(90)\n",
        "    blue.forward(dist)\n",
        "    blue.right(90)\n",
        "    blue.pendown()\n",
        "    blue.left(18)\n",
        "\n",
        "def estrela(tamanho):\n",
        "    for i in range(5):\n",
        "      blue.forward(tamanho)            \n",
        "      blue.left(144)\n",
        "\n",
        "def posicao_estrela(direita, frente):\n",
        "    blue.penup()\n",
        "    blue.right(direita)\n",
        "    blue.forward(frente)\n",
        "    blue.pendown()\n",
        "    blue.left(36)\n",
        "\n",
        "def rep_estrelas(n):\n",
        "    for i in range(n-2):\n",
        "      posicao_estrela(36,150)\n",
        "      estrela(100)\n",
        "\n",
        "blue = ColabTurtle.Turtle\n",
        "blue.initializeTurtle()     \n",
        "blue.color('blue')        \n",
        "blue.speed(5)\n",
        "\n",
        "# quantidade de estrelas\n",
        "\n",
        "numero = int(input('Quantidade de estrelas: '))\n",
        "\n",
        "if numero == 1:\n",
        "    iniciar_esquerda(200)\n",
        "    estrela(100)\n",
        "\n",
        "if numero == 2:\n",
        "    iniciar_esquerda(200)\n",
        "    estrela(100)\n",
        "    posicao_estrela(108,90)\n",
        "    estrela(100)\n",
        "\n",
        "else:\n",
        "    iniciar_esquerda(200)\n",
        "    estrela(100)\n",
        "    posicao_estrela(108,90)\n",
        "    estrela(100)\n",
        "    rep_estrelas(numero)\n",
        "\n"
      ],
      "execution_count": null,
      "outputs": []
    },
    {
      "cell_type": "code",
      "metadata": {
        "id": "L4L3Xn2lKU-1",
        "outputId": "0ff138f8-f03f-49bf-c3e6-5bf61ecb1f4b",
        "colab": {
          "base_uri": "https://localhost:8080/",
          "height": 521
        }
      },
      "source": [
        "def comecar_esquerda(distancia):\n",
        "    blue.penup()\n",
        "    blue.left(90)\n",
        "    blue.forward(distancia)\n",
        "    blue.right(144)\n",
        "    blue.pendown()\n",
        "\n",
        "def estrela(tamanho):\n",
        "    for i in range(5):\n",
        "      blue.forward(tamanho)            \n",
        "      blue.left(144)\n",
        "\n",
        "def andar_direita(distancia):\n",
        "    blue.penup()\n",
        "    blue.right(36)\n",
        "    blue.forward(distancia)\n",
        "    blue.left(36)\n",
        "    blue.pendown()\n",
        "    \n",
        "\n",
        "blue = ColabTurtle.Turtle\n",
        "blue.initializeTurtle()     \n",
        "blue.color('blue')        \n",
        "blue.speed(10)\n",
        "\n",
        "comecar_esquerda(240)\n",
        "\n",
        "for i in range(4):\n",
        "    estrela(100)\n",
        "    andar_direita(120)"
      ],
      "execution_count": 87,
      "outputs": [
        {
          "output_type": "display_data",
          "data": {
            "text/html": [
              "\n",
              "      <svg width=\"800\" height=\"500\">\n",
              "        <rect width=\"100%\" height=\"100%\" fill=\"black\"/>\n",
              "        <line x1=\"160.0\" y1=\"250.00000000000003\" x2=\"240.90169943749473\" y2=\"191.2214747707527\" stroke-linecap=\"round\" style=\"stroke:blue;stroke-width:4\"/><line x1=\"240.90169943749473\" y1=\"191.2214747707527\" x2=\"140.90169943749473\" y2=\"191.2214747707527\" stroke-linecap=\"round\" style=\"stroke:blue;stroke-width:4\"/><line x1=\"140.90169943749473\" y1=\"191.2214747707527\" x2=\"221.80339887498945\" y2=\"250.00000000000003\" stroke-linecap=\"round\" style=\"stroke:blue;stroke-width:4\"/><line x1=\"221.80339887498945\" y1=\"250.00000000000003\" x2=\"190.9016994374947\" y2=\"154.8943483704847\" stroke-linecap=\"round\" style=\"stroke:blue;stroke-width:4\"/><line x1=\"190.9016994374947\" y1=\"154.8943483704847\" x2=\"159.99999999999997\" y2=\"250.00000000000006\" stroke-linecap=\"round\" style=\"stroke:blue;stroke-width:4\"/><line x1=\"280.0\" y1=\"250.00000000000006\" x2=\"360.9016994374947\" y2=\"191.2214747707527\" stroke-linecap=\"round\" style=\"stroke:blue;stroke-width:4\"/><line x1=\"360.9016994374947\" y1=\"191.2214747707527\" x2=\"260.9016994374947\" y2=\"191.2214747707527\" stroke-linecap=\"round\" style=\"stroke:blue;stroke-width:4\"/><line x1=\"260.9016994374947\" y1=\"191.2214747707527\" x2=\"341.80339887498945\" y2=\"250.00000000000003\" stroke-linecap=\"round\" style=\"stroke:blue;stroke-width:4\"/><line x1=\"341.80339887498945\" y1=\"250.00000000000003\" x2=\"310.9016994374947\" y2=\"154.8943483704847\" stroke-linecap=\"round\" style=\"stroke:blue;stroke-width:4\"/><line x1=\"310.9016994374947\" y1=\"154.8943483704847\" x2=\"279.99999999999994\" y2=\"250.00000000000006\" stroke-linecap=\"round\" style=\"stroke:blue;stroke-width:4\"/><line x1=\"399.99999999999994\" y1=\"250.00000000000006\" x2=\"480.9016994374947\" y2=\"191.2214747707527\" stroke-linecap=\"round\" style=\"stroke:blue;stroke-width:4\"/><line x1=\"480.9016994374947\" y1=\"191.2214747707527\" x2=\"380.9016994374947\" y2=\"191.2214747707527\" stroke-linecap=\"round\" style=\"stroke:blue;stroke-width:4\"/><line x1=\"380.9016994374947\" y1=\"191.2214747707527\" x2=\"461.80339887498945\" y2=\"250.00000000000003\" stroke-linecap=\"round\" style=\"stroke:blue;stroke-width:4\"/><line x1=\"461.80339887498945\" y1=\"250.00000000000003\" x2=\"430.9016994374947\" y2=\"154.8943483704847\" stroke-linecap=\"round\" style=\"stroke:blue;stroke-width:4\"/><line x1=\"430.9016994374947\" y1=\"154.8943483704847\" x2=\"399.99999999999994\" y2=\"250.00000000000006\" stroke-linecap=\"round\" style=\"stroke:blue;stroke-width:4\"/><line x1=\"520.0\" y1=\"250.00000000000006\" x2=\"600.9016994374947\" y2=\"191.2214747707527\" stroke-linecap=\"round\" style=\"stroke:blue;stroke-width:4\"/><line x1=\"600.9016994374947\" y1=\"191.2214747707527\" x2=\"500.9016994374947\" y2=\"191.2214747707527\" stroke-linecap=\"round\" style=\"stroke:blue;stroke-width:4\"/><line x1=\"500.9016994374947\" y1=\"191.2214747707527\" x2=\"581.8033988749894\" y2=\"250.00000000000003\" stroke-linecap=\"round\" style=\"stroke:blue;stroke-width:4\"/><line x1=\"581.8033988749894\" y1=\"250.00000000000003\" x2=\"550.9016994374947\" y2=\"154.8943483704847\" stroke-linecap=\"round\" style=\"stroke:blue;stroke-width:4\"/><line x1=\"550.9016994374947\" y1=\"154.8943483704847\" x2=\"520.0\" y2=\"250.00000000000006\" stroke-linecap=\"round\" style=\"stroke:blue;stroke-width:4\"/>\n",
              "        \n",
              "      <g visibility=visible transform=\"rotate(234,640.0,250.00000000000006) translate(640.0, 250.00000000000006)\">\n",
              "        <circle stroke=\"blue\" stroke-width=\"3\" fill=\"transparent\" r=\"12\" cx=\"0\" cy=\"0\"/>\n",
              "        <polygon points=\"0,19 3,16 -3,16\" style=\"fill:blue;stroke:blue;stroke-width:2\"/>\n",
              "      </g>\n",
              "    \n",
              "      </svg>\n",
              "    "
            ],
            "text/plain": [
              "<IPython.core.display.HTML object>"
            ]
          },
          "metadata": {
            "tags": []
          }
        }
      ]
    },
    {
      "cell_type": "markdown",
      "metadata": {
        "id": "DZXmIVJAKyYj"
      },
      "source": [
        "## Exercícios em preparação para os próximos capítulos\n",
        "\n",
        "1. Escreva uma função chamada `square`, que toma um parâmetro `t`, que é uma `ColabTurtle`. Essa função deve usar o `ColabTurtle` para desenhar um quadrado. Escreva uma chamada de função que passe `joana` como argumento para `square` e rode o programa novamente. \n",
        "\n",
        "\n",
        "\n",
        "  \n",
        "\n",
        "\n",
        "\n",
        "\n"
      ]
    },
    {
      "cell_type": "code",
      "metadata": {
        "id": "b4nlFSfwa4Ri",
        "outputId": "ac94ad75-fd36-4610-d6e3-4c78508fc937",
        "colab": {
          "base_uri": "https://localhost:8080/",
          "height": 521
        }
      },
      "source": [
        "def square(t):\n",
        "  for i in range(4):\n",
        "        t.forward(100)\n",
        "        t.left(90)      \n",
        "        \n",
        "\n",
        "import ColabTurtle as joana\n",
        "joana = ColabTurtle.Turtle\n",
        "joana.initializeTurtle()\n",
        "joana.speed(5)\n",
        "square(joana)"
      ],
      "execution_count": 14,
      "outputs": [
        {
          "output_type": "display_data",
          "data": {
            "text/html": [
              "\n",
              "      <svg width=\"800\" height=\"500\">\n",
              "        <rect width=\"100%\" height=\"100%\" fill=\"black\"/>\n",
              "        <line x1=\"400\" y1=\"250\" x2=\"400.0\" y2=\"150.0\" stroke-linecap=\"round\" style=\"stroke:white;stroke-width:4\"/><line x1=\"400.0\" y1=\"150.0\" x2=\"300.0\" y2=\"150.0\" stroke-linecap=\"round\" style=\"stroke:white;stroke-width:4\"/><line x1=\"300.0\" y1=\"150.0\" x2=\"300.0\" y2=\"250.0\" stroke-linecap=\"round\" style=\"stroke:white;stroke-width:4\"/><line x1=\"300.0\" y1=\"250.0\" x2=\"400.0\" y2=\"250.0\" stroke-linecap=\"round\" style=\"stroke:white;stroke-width:4\"/>\n",
              "        \n",
              "      <g visibility=visible transform=\"rotate(180,400.0,250.0) translate(400.0, 250.0)\">\n",
              "        <circle stroke=\"white\" stroke-width=\"3\" fill=\"transparent\" r=\"12\" cx=\"0\" cy=\"0\"/>\n",
              "        <polygon points=\"0,19 3,16 -3,16\" style=\"fill:white;stroke:white;stroke-width:2\"/>\n",
              "      </g>\n",
              "    \n",
              "      </svg>\n",
              "    "
            ],
            "text/plain": [
              "<IPython.core.display.HTML object>"
            ]
          },
          "metadata": {
            "tags": []
          }
        }
      ]
    },
    {
      "cell_type": "markdown",
      "metadata": {
        "id": "GaK_3PYBa4Jn"
      },
      "source": [
        "2. Adicione um outro parâmetro, chamado `length`, à função `square`. Modifique o corpo da função de tal forma que o comprimento dos lados do quadrado seja `length` e então modifique a chamada da função para que seja passado o segundo argumento. Rode o programa novamente. Teste o seu programa com diversos valores para `length`."
      ]
    },
    {
      "cell_type": "code",
      "metadata": {
        "id": "4ToX5MzRa4CL",
        "outputId": "9a140949-3448-4c8c-b706-1aa9568ad9b0",
        "colab": {
          "base_uri": "https://localhost:8080/",
          "height": 521
        }
      },
      "source": [
        "def square(t, length):\n",
        "  for i in range(4):\n",
        "        t.forward(length)\n",
        "        t.left(90)      \n",
        "\n",
        "\n",
        "joana = ColabTurtle.Turtle\n",
        "joana.initializeTurtle()\n",
        "joana.speed(5)\n",
        "square(joana, 150)"
      ],
      "execution_count": null,
      "outputs": [
        {
          "output_type": "display_data",
          "data": {
            "text/html": [
              "\n",
              "      <svg width=\"800\" height=\"500\">\n",
              "        <rect width=\"100%\" height=\"100%\" fill=\"black\"/>\n",
              "        <line x1=\"400\" y1=\"250\" x2=\"400.0\" y2=\"100.0\" stroke-linecap=\"round\" style=\"stroke:white;stroke-width:4\"/><line x1=\"400.0\" y1=\"100.0\" x2=\"250.0\" y2=\"100.00000000000001\" stroke-linecap=\"round\" style=\"stroke:white;stroke-width:4\"/><line x1=\"250.0\" y1=\"100.00000000000001\" x2=\"250.0\" y2=\"250.0\" stroke-linecap=\"round\" style=\"stroke:white;stroke-width:4\"/><line x1=\"250.0\" y1=\"250.0\" x2=\"400.0\" y2=\"250.0\" stroke-linecap=\"round\" style=\"stroke:white;stroke-width:4\"/>\n",
              "        \n",
              "      <g visibility=visible transform=\"rotate(180,400.0,250.0) translate(400.0, 250.0)\">\n",
              "        <circle stroke=\"white\" stroke-width=\"3\" fill=\"transparent\" r=\"12\" cx=\"0\" cy=\"0\"/>\n",
              "        <polygon points=\"0,19 3,16 -3,16\" style=\"fill:white;stroke:white;stroke-width:2\"/>\n",
              "      </g>\n",
              "    \n",
              "      </svg>\n",
              "    "
            ],
            "text/plain": [
              "<IPython.core.display.HTML object>"
            ]
          },
          "metadata": {
            "tags": []
          }
        }
      ]
    },
    {
      "cell_type": "markdown",
      "metadata": {
        "id": "0d9K1DURa37N"
      },
      "source": [
        "3. Faça uma cópia da função `square` e mude o nome para `polygon`. Adicione um outro parâmetro chamado `n` e modifique o corpo da função para que ela desenhe um polígono regular de `n` lados. Dica: Os ângulos externos de um polígono regular de `n` lados são de `360/n` graus."
      ]
    },
    {
      "cell_type": "code",
      "metadata": {
        "id": "XrGav5F9a3yX",
        "outputId": "0c7cbb13-7261-4789-e303-d3c12f20d2d9",
        "colab": {
          "base_uri": "https://localhost:8080/",
          "height": 521
        }
      },
      "source": [
        "def polygon(t, length, n):\n",
        "  for i in range(n):\n",
        "        t.forward(length)\n",
        "        t.left(360/n)      \n",
        "\n",
        "joana = ColabTurtle.Turtle\n",
        "joana.initializeTurtle()\n",
        "joana.speed(5)\n",
        "polygon(joana, 30, 5)"
      ],
      "execution_count": 15,
      "outputs": [
        {
          "output_type": "display_data",
          "data": {
            "text/html": [
              "\n",
              "      <svg width=\"800\" height=\"500\">\n",
              "        <rect width=\"100%\" height=\"100%\" fill=\"black\"/>\n",
              "        <line x1=\"400\" y1=\"250\" x2=\"400.0\" y2=\"220.0\" stroke-linecap=\"round\" style=\"stroke:white;stroke-width:4\"/><line x1=\"400.0\" y1=\"220.0\" x2=\"371.4683045111454\" y2=\"210.72949016875157\" stroke-linecap=\"round\" style=\"stroke:white;stroke-width:4\"/><line x1=\"371.4683045111454\" y1=\"210.72949016875157\" x2=\"353.8347469423712\" y2=\"235.0\" stroke-linecap=\"round\" style=\"stroke:white;stroke-width:4\"/><line x1=\"353.8347469423712\" y1=\"235.0\" x2=\"371.46830451114545\" y2=\"259.27050983124843\" stroke-linecap=\"round\" style=\"stroke:white;stroke-width:4\"/><line x1=\"371.46830451114545\" y1=\"259.27050983124843\" x2=\"400.00000000000006\" y2=\"250.0\" stroke-linecap=\"round\" style=\"stroke:white;stroke-width:4\"/>\n",
              "        \n",
              "      <g visibility=visible transform=\"rotate(180.0,400.00000000000006,250.0) translate(400.00000000000006, 250.0)\">\n",
              "        <circle stroke=\"white\" stroke-width=\"3\" fill=\"transparent\" r=\"12\" cx=\"0\" cy=\"0\"/>\n",
              "        <polygon points=\"0,19 3,16 -3,16\" style=\"fill:white;stroke:white;stroke-width:2\"/>\n",
              "      </g>\n",
              "    \n",
              "      </svg>\n",
              "    "
            ],
            "text/plain": [
              "<IPython.core.display.HTML object>"
            ]
          },
          "metadata": {
            "tags": []
          }
        }
      ]
    },
    {
      "cell_type": "markdown",
      "metadata": {
        "id": "Yh_QHnwna3mW"
      },
      "source": [
        "4. Escreva uma função chamada `circle` que toma como argumento uma `Turtle`, `t`, e um raio, `r`, e desenha um círculo aproximado ao chamar a função `polygon` com `length` e número `n` de lados apropriados. Teste sua função com um intervalo de valores de `r`. Dica: Determine a circunferência do círculo e se certifique que `comprimento * n = circunferência`."
      ]
    },
    {
      "cell_type": "code",
      "metadata": {
        "id": "HW9pp6PHa3XR",
        "outputId": "1dddf8c6-44bc-4bca-9d5b-22258292b9b8",
        "colab": {
          "base_uri": "https://localhost:8080/",
          "height": 521
        }
      },
      "source": [
        "import math\n",
        "\n",
        "def polygon(t, length, n):\n",
        "  for i in range(n):\n",
        "        t.forward(length)\n",
        "        t.left(360/n) \n",
        "\n",
        "def circle(t, r): \n",
        "    circumference = 2 * math.pi * r  \n",
        "    n = 50\n",
        "    length = int(circumference / n )\n",
        "    polygon(t, length, n)\n",
        "\n",
        "joana.initializeTurtle()\n",
        "joana.speed(10)\n",
        "circle(joana, 40)"
      ],
      "execution_count": null,
      "outputs": [
        {
          "output_type": "display_data",
          "data": {
            "text/html": [
              "\n",
              "      <svg width=\"800\" height=\"500\">\n",
              "        <rect width=\"100%\" height=\"100%\" fill=\"black\"/>\n",
              "        <line x1=\"400\" y1=\"250\" x2=\"400.0\" y2=\"245.0\" stroke-linecap=\"round\" style=\"stroke:white;stroke-width:4\"/><line x1=\"400.0\" y1=\"245.0\" x2=\"399.3733338321785\" y2=\"240.0394264934276\" stroke-linecap=\"round\" style=\"stroke:white;stroke-width:4\"/><line x1=\"399.3733338321785\" y1=\"240.0394264934276\" x2=\"398.1298843963542\" y2=\"235.19651068778447\" stroke-linecap=\"round\" style=\"stroke:white;stroke-width:4\"/><line x1=\"398.1298843963542\" y1=\"235.19651068778447\" x2=\"396.28926163293085\" y2=\"230.54762825834322\" stroke-linecap=\"round\" style=\"stroke:white;stroke-width:4\"/><line x1=\"396.28926163293085\" y1=\"230.54762825834322\" x2=\"393.88049326242225\" y2=\"226.1660948581239\" stroke-linecap=\"round\" style=\"stroke:white;stroke-width:4\"/><line x1=\"393.88049326242225\" y1=\"226.1660948581239\" x2=\"390.9415670009599\" y2=\"222.12100988624917\" stroke-linecap=\"round\" style=\"stroke:white;stroke-width:4\"/><line x1=\"390.9415670009599\" y1=\"222.12100988624917\" x2=\"387.51883147131645\" y2=\"218.4761667491421\" stroke-linecap=\"round\" style=\"stroke:white;stroke-width:4\"/><line x1=\"387.51883147131645\" y1=\"218.4761667491421\" x2=\"383.6662652574375\" y2=\"215.28904680039864\" stroke-linecap=\"round\" style=\"stroke:white;stroke-width:4\"/><line x1=\"383.6662652574375\" y1=\"215.28904680039864\" x2=\"379.44462562992743\" y2=\"212.60991282550364\" stroke-linecap=\"round\" style=\"stroke:white;stroke-width:4\"/><line x1=\"379.44462562992743\" y1=\"212.60991282550364\" x2=\"374.9204903675973\" y2=\"210.48101636767828\" stroke-linecap=\"round\" style=\"stroke:white;stroke-width:4\"/><line x1=\"374.9204903675973\" y1=\"210.48101636767828\" x2=\"370.1652077861216\" y2=\"208.93593139580352\" stroke-linecap=\"round\" style=\"stroke:white;stroke-width:4\"/><line x1=\"370.1652077861216\" y1=\"208.93593139580352\" x2=\"365.25377153247814\" y2=\"207.9990248228749\" stroke-linecap=\"round\" style=\"stroke:white;stroke-width:4\"/><line x1=\"365.25377153247814\" y1=\"207.9990248228749\" x2=\"360.2636378903368\" y2=\"207.6850722252283\" stroke-linecap=\"round\" style=\"stroke:white;stroke-width:4\"/><line x1=\"360.2636378903368\" y1=\"207.6850722252283\" x2=\"355.2735042481954\" y2=\"207.99902482287487\" stroke-linecap=\"round\" style=\"stroke:white;stroke-width:4\"/><line x1=\"355.2735042481954\" y1=\"207.99902482287487\" x2=\"350.362067994552\" y2=\"208.9359313958035\" stroke-linecap=\"round\" style=\"stroke:white;stroke-width:4\"/><line x1=\"350.362067994552\" y1=\"208.9359313958035\" x2=\"345.6067854130762\" y2=\"210.48101636767822\" stroke-linecap=\"round\" style=\"stroke:white;stroke-width:4\"/><line x1=\"345.6067854130762\" y1=\"210.48101636767822\" x2=\"341.0826501507461\" y2=\"212.60991282550356\" stroke-linecap=\"round\" style=\"stroke:white;stroke-width:4\"/><line x1=\"341.0826501507461\" y1=\"212.60991282550356\" x2=\"336.861010523236\" y2=\"215.28904680039852\" stroke-linecap=\"round\" style=\"stroke:white;stroke-width:4\"/><line x1=\"336.861010523236\" y1=\"215.28904680039852\" x2=\"333.00844430935706\" y2=\"218.47616674914195\" stroke-linecap=\"round\" style=\"stroke:white;stroke-width:4\"/><line x1=\"333.00844430935706\" y1=\"218.47616674914195\" x2=\"329.5857087797136\" y2=\"222.121009886249\" stroke-linecap=\"round\" style=\"stroke:white;stroke-width:4\"/><line x1=\"329.5857087797136\" y1=\"222.121009886249\" x2=\"326.64678251825126\" y2=\"226.16609485812373\" stroke-linecap=\"round\" style=\"stroke:white;stroke-width:4\"/><line x1=\"326.64678251825126\" y1=\"226.16609485812373\" x2=\"324.23801414774266\" y2=\"230.54762825834302\" stroke-linecap=\"round\" style=\"stroke:white;stroke-width:4\"/><line x1=\"324.23801414774266\" y1=\"230.54762825834302\" x2=\"322.39739138431923\" y2=\"235.19651068778427\" stroke-linecap=\"round\" style=\"stroke:white;stroke-width:4\"/><line x1=\"322.39739138431923\" y1=\"235.19651068778427\" x2=\"321.15394194849495\" y2=\"240.0394264934274\" stroke-linecap=\"round\" style=\"stroke:white;stroke-width:4\"/><line x1=\"321.15394194849495\" y1=\"240.0394264934274\" x2=\"320.5272757806734\" y2=\"244.9999999999998\" stroke-linecap=\"round\" style=\"stroke:white;stroke-width:4\"/><line x1=\"320.5272757806734\" y1=\"244.9999999999998\" x2=\"320.5272757806734\" y2=\"249.9999999999998\" stroke-linecap=\"round\" style=\"stroke:white;stroke-width:4\"/><line x1=\"320.5272757806734\" y1=\"249.9999999999998\" x2=\"321.1539419484949\" y2=\"254.9605735065722\" stroke-linecap=\"round\" style=\"stroke:white;stroke-width:4\"/><line x1=\"321.1539419484949\" y1=\"254.9605735065722\" x2=\"322.3973913843191\" y2=\"259.80348931221533\" stroke-linecap=\"round\" style=\"stroke:white;stroke-width:4\"/><line x1=\"322.3973913843191\" y1=\"259.80348931221533\" x2=\"324.2380141477425\" y2=\"264.4523717416566\" stroke-linecap=\"round\" style=\"stroke:white;stroke-width:4\"/><line x1=\"324.2380141477425\" y1=\"264.4523717416566\" x2=\"326.64678251825103\" y2=\"268.8339051418759\" stroke-linecap=\"round\" style=\"stroke:white;stroke-width:4\"/><line x1=\"326.64678251825103\" y1=\"268.8339051418759\" x2=\"329.5857087797134\" y2=\"272.87899011375066\" stroke-linecap=\"round\" style=\"stroke:white;stroke-width:4\"/><line x1=\"329.5857087797134\" y1=\"272.87899011375066\" x2=\"333.00844430935683\" y2=\"276.5238332508577\" stroke-linecap=\"round\" style=\"stroke:white;stroke-width:4\"/><line x1=\"333.00844430935683\" y1=\"276.5238332508577\" x2=\"336.8610105232358\" y2=\"279.7109531996012\" stroke-linecap=\"round\" style=\"stroke:white;stroke-width:4\"/><line x1=\"336.8610105232358\" y1=\"279.7109531996012\" x2=\"341.08265015074585\" y2=\"282.3900871744962\" stroke-linecap=\"round\" style=\"stroke:white;stroke-width:4\"/><line x1=\"341.08265015074585\" y1=\"282.3900871744962\" x2=\"345.60678541307595\" y2=\"284.5189836323216\" stroke-linecap=\"round\" style=\"stroke:white;stroke-width:4\"/><line x1=\"345.60678541307595\" y1=\"284.5189836323216\" x2=\"350.3620679945517\" y2=\"286.06406860419634\" stroke-linecap=\"round\" style=\"stroke:white;stroke-width:4\"/><line x1=\"350.3620679945517\" y1=\"286.06406860419634\" x2=\"355.27350424819514\" y2=\"287.000975177125\" stroke-linecap=\"round\" style=\"stroke:white;stroke-width:4\"/><line x1=\"355.27350424819514\" y1=\"287.000975177125\" x2=\"360.2636378903365\" y2=\"287.31492777477155\" stroke-linecap=\"round\" style=\"stroke:white;stroke-width:4\"/><line x1=\"360.2636378903365\" y1=\"287.31492777477155\" x2=\"365.25377153247786\" y2=\"287.000975177125\" stroke-linecap=\"round\" style=\"stroke:white;stroke-width:4\"/><line x1=\"365.25377153247786\" y1=\"287.000975177125\" x2=\"370.1652077861213\" y2=\"286.0640686041964\" stroke-linecap=\"round\" style=\"stroke:white;stroke-width:4\"/><line x1=\"370.1652077861213\" y1=\"286.0640686041964\" x2=\"374.9204903675971\" y2=\"284.5189836323217\" stroke-linecap=\"round\" style=\"stroke:white;stroke-width:4\"/><line x1=\"374.9204903675971\" y1=\"284.5189836323217\" x2=\"379.4446256299272\" y2=\"282.39008717449633\" stroke-linecap=\"round\" style=\"stroke:white;stroke-width:4\"/><line x1=\"379.4446256299272\" y1=\"282.39008717449633\" x2=\"383.6662652574373\" y2=\"279.71095319960136\" stroke-linecap=\"round\" style=\"stroke:white;stroke-width:4\"/><line x1=\"383.6662652574373\" y1=\"279.71095319960136\" x2=\"387.5188314713163\" y2=\"276.52383325085793\" stroke-linecap=\"round\" style=\"stroke:white;stroke-width:4\"/><line x1=\"387.5188314713163\" y1=\"276.52383325085793\" x2=\"390.9415670009597\" y2=\"272.8789901137509\" stroke-linecap=\"round\" style=\"stroke:white;stroke-width:4\"/><line x1=\"390.9415670009597\" y1=\"272.8789901137509\" x2=\"393.8804932624221\" y2=\"268.8339051418762\" stroke-linecap=\"round\" style=\"stroke:white;stroke-width:4\"/><line x1=\"393.8804932624221\" y1=\"268.8339051418762\" x2=\"396.2892616329307\" y2=\"264.45237174165686\" stroke-linecap=\"round\" style=\"stroke:white;stroke-width:4\"/><line x1=\"396.2892616329307\" y1=\"264.45237174165686\" x2=\"398.1298843963541\" y2=\"259.8034893122156\" stroke-linecap=\"round\" style=\"stroke:white;stroke-width:4\"/><line x1=\"398.1298843963541\" y1=\"259.8034893122156\" x2=\"399.3733338321784\" y2=\"254.96057350657247\" stroke-linecap=\"round\" style=\"stroke:white;stroke-width:4\"/><line x1=\"399.3733338321784\" y1=\"254.96057350657247\" x2=\"399.99999999999994\" y2=\"250.00000000000009\" stroke-linecap=\"round\" style=\"stroke:white;stroke-width:4\"/>\n",
              "        \n",
              "      <g visibility=visible transform=\"rotate(180.00000000000034,399.99999999999994,250.00000000000009) translate(399.99999999999994, 250.00000000000009)\">\n",
              "        <circle stroke=\"white\" stroke-width=\"3\" fill=\"transparent\" r=\"12\" cx=\"0\" cy=\"0\"/>\n",
              "        <polygon points=\"0,19 3,16 -3,16\" style=\"fill:white;stroke:white;stroke-width:2\"/>\n",
              "      </g>\n",
              "    \n",
              "      </svg>\n",
              "    "
            ],
            "text/plain": [
              "<IPython.core.display.HTML object>"
            ]
          },
          "metadata": {
            "tags": []
          }
        }
      ]
    },
    {
      "cell_type": "markdown",
      "metadata": {
        "id": "PShhpxC7a3Fd"
      },
      "source": [
        "5. Faça uma versão mais geral da função `circle`, chamada `arc`, que toma um parâmetro adicional, `angle`, que determina qual a fração do circulo a ser desenhada. `angle` está em unidades de graus, logo quando `angle=360`, a função `arc` deve desenhar um cículo completo."
      ]
    },
    {
      "cell_type": "code",
      "metadata": {
        "id": "rHRvrAGKa21I",
        "outputId": "512a3317-ee7a-4dd4-c55a-75bf7518ce16",
        "colab": {
          "base_uri": "https://localhost:8080/",
          "height": 521
        }
      },
      "source": [
        "def arc(t, r, angle):\n",
        "    arc_length = 2 * math.pi * r * angle / 360\n",
        "    n = int(arc_length / 3) + 1\n",
        "    step_length = arc_length / n\n",
        "    step_angle = float(angle) / n\n",
        "    polyline(t, n, step_length, step_angle)\n",
        "\n",
        "joana.initializeTurtle()\n",
        "joana.speed(10)\n",
        "arc(joana, 40, 90)\n"
      ],
      "execution_count": null,
      "outputs": [
        {
          "output_type": "display_data",
          "data": {
            "text/html": [
              "\n",
              "      <svg width=\"800\" height=\"500\">\n",
              "        <rect width=\"100%\" height=\"100%\" fill=\"black\"/>\n",
              "        <line x1=\"400\" y1=\"250\" x2=\"400.0\" y2=\"248.0\" stroke-linecap=\"round\" style=\"stroke:white;stroke-width:4\"/><line x1=\"400.0\" y1=\"248.0\" x2=\"399.85053981282715\" y2=\"246.00559240563763\" stroke-linecap=\"round\" style=\"stroke:white;stroke-width:4\"/><line x1=\"399.85053981282715\" y1=\"246.00559240563763\" x2=\"399.5524552804748\" y2=\"244.02793075318738\" stroke-linecap=\"round\" style=\"stroke:white;stroke-width:4\"/><line x1=\"399.5524552804748\" y1=\"244.02793075318738\" x2=\"399.1074134125622\" y2=\"242.07807492882372\" stroke-linecap=\"round\" style=\"stroke:white;stroke-width:4\"/><line x1=\"399.1074134125622\" y1=\"242.07807492882372\" x2=\"398.5179030637404\" y2=\"240.16692931725143\" stroke-linecap=\"round\" style=\"stroke:white;stroke-width:4\"/><line x1=\"398.5179030637404\" y1=\"240.16692931725143\" x2=\"397.7872210150076\" y2=\"238.30518181996302\" stroke-linecap=\"round\" style=\"stroke:white;stroke-width:4\"/><line x1=\"397.7872210150076\" y1=\"238.30518181996302\" x2=\"396.9194535367725\" y2=\"236.50324408415818\" stroke-linecap=\"round\" style=\"stroke:white;stroke-width:4\"/><line x1=\"396.9194535367725\" y1=\"236.50324408415818\" x2=\"395.9194535367725\" y2=\"234.77119327658932\" stroke-linecap=\"round\" style=\"stroke:white;stroke-width:4\"/><line x1=\"395.9194535367725\" y1=\"234.77119327658932\" x2=\"394.79281342064525\" y2=\"233.11871572795732\" stroke-linecap=\"round\" style=\"stroke:white;stroke-width:4\"/><line x1=\"394.79281342064525\" y1=\"233.11871572795732\" x2=\"393.54583381692777\" y2=\"231.55505276302125\" stroke-linecap=\"round\" style=\"stroke:white;stroke-width:4\"/><line x1=\"393.54583381692777\" y1=\"231.55505276302125\" x2=\"392.1854883413859\" y2=\"230.0889490193616\" stroke-linecap=\"round\" style=\"stroke:white;stroke-width:4\"/><line x1=\"392.1854883413859\" y1=\"230.0889490193616\" x2=\"390.7193845977263\" y2=\"228.72860354381976\" stroke-linecap=\"round\" style=\"stroke:white;stroke-width:4\"/><line x1=\"390.7193845977263\" y1=\"228.72860354381976\" x2=\"389.15572163279023\" y2=\"227.48162394010228\" stroke-linecap=\"round\" style=\"stroke:white;stroke-width:4\"/><line x1=\"389.15572163279023\" y1=\"227.48162394010228\" x2=\"387.50324408415827\" y2=\"226.35498382397503\" stroke-linecap=\"round\" style=\"stroke:white;stroke-width:4\"/><line x1=\"387.50324408415827\" y1=\"226.35498382397503\" x2=\"385.7711932765894\" y2=\"225.35498382397503\" stroke-linecap=\"round\" style=\"stroke:white;stroke-width:4\"/><line x1=\"385.7711932765894\" y1=\"225.35498382397503\" x2=\"383.96925554078456\" y2=\"224.4872163457399\" stroke-linecap=\"round\" style=\"stroke:white;stroke-width:4\"/><line x1=\"383.96925554078456\" y1=\"224.4872163457399\" x2=\"382.1075080434961\" y2=\"223.7565342970071\" stroke-linecap=\"round\" style=\"stroke:white;stroke-width:4\"/><line x1=\"382.1075080434961\" y1=\"223.7565342970071\" x2=\"380.19636243192383\" y2=\"223.1670239481853\" stroke-linecap=\"round\" style=\"stroke:white;stroke-width:4\"/><line x1=\"380.19636243192383\" y1=\"223.1670239481853\" x2=\"378.2465066075602\" y2=\"222.72198208027265\" stroke-linecap=\"round\" style=\"stroke:white;stroke-width:4\"/><line x1=\"378.2465066075602\" y1=\"222.72198208027265\" x2=\"376.26884495510996\" y2=\"222.4238975479203\" stroke-linecap=\"round\" style=\"stroke:white;stroke-width:4\"/><line x1=\"376.26884495510996\" y1=\"222.4238975479203\" x2=\"374.2744373607476\" y2=\"222.27443736074744\" stroke-linecap=\"round\" style=\"stroke:white;stroke-width:4\"/>\n",
              "        \n",
              "      <g visibility=visible transform=\"rotate(90.00000000000017,374.2744373607476,222.27443736074744) translate(374.2744373607476, 222.27443736074744)\">\n",
              "        <circle stroke=\"white\" stroke-width=\"3\" fill=\"transparent\" r=\"12\" cx=\"0\" cy=\"0\"/>\n",
              "        <polygon points=\"0,19 3,16 -3,16\" style=\"fill:white;stroke:white;stroke-width:2\"/>\n",
              "      </g>\n",
              "    \n",
              "      </svg>\n",
              "    "
            ],
            "text/plain": [
              "<IPython.core.display.HTML object>"
            ]
          },
          "metadata": {
            "tags": []
          }
        }
      ]
    },
    {
      "cell_type": "markdown",
      "metadata": {
        "id": "Nrky4VThKyZS"
      },
      "source": [
        "## Exercícios - Parte 2:\n",
        "  \n",
        "1. Escreva um conjunto apropriadamente geral de funções que possam desenhar flores como na Figura abaixo:\n",
        "![flowers](https://github.com/malbouis/Python_intro/blob/master/aulas_2019/pics/flowers.png?raw=1)"
      ]
    },
    {
      "cell_type": "code",
      "metadata": {
        "id": "d5hg-HekcYce"
      },
      "source": [
        "import math\n",
        "\n",
        "def polyline(t, n, length, angle):\n",
        "    for i in range(n):\n",
        "        t.forward(int(length))\n",
        "        t.left(angle)\n",
        "\n",
        "def arc(t, r, angle):\n",
        "    arc_length = 2 * math.pi * r * angle / 360\n",
        "    n = int(arc_length / 3) + 1\n",
        "    step_length = arc_length / n\n",
        "    step_angle = float(angle) / n\n",
        "    polyline(t, n, step_length, step_angle)\n",
        "\n",
        "def petal(t, r, angle):\n",
        "    \"\"\"Draws a petal using two arcs.\n",
        "    t: Turtle\n",
        "    r: radius of the arcs\n",
        "    angle: angle (degrees) that subtends the arcs\n",
        "    \"\"\"\n",
        "    for i in range(2):\n",
        "        arc(t, r, angle)\n",
        "        t.left(180-angle)\n",
        "\n",
        "\n",
        "def flower(t, n, r, angle):\n",
        "    \"\"\"Draws a flower with n petals.\n",
        "    t: Turtle\n",
        "    n: number of petals\n",
        "    r: radius of the arcs\n",
        "    angle: angle (degrees) that subtends the arcs\n",
        "    \"\"\"\n",
        "    for i in range(n):\n",
        "        petal(t, r, angle)\n",
        "        t.left(360.0/n)\n",
        "\n",
        "\n",
        "def move(t, length):\n",
        "    \"\"\"Move Turtle (t) forward (length) units without leaving a trail.\n",
        "    Leaves the pen down.\n",
        "    \"\"\"\n",
        "    t.penup()\n",
        "    t.forward(length)\n",
        "    t.pendown()\n",
        "\n",
        "joana = ColabTurtle.Turtle\n",
        "joana.initializeTurtle()\n",
        "joana.speed(10)\n",
        "\n",
        "# draw a sequence of three flowers, as shown in the book.\n",
        "# move(joana, -100)\n",
        "flower(joana, 8, 60.0, 60.0)"
      ],
      "execution_count": null,
      "outputs": []
    },
    {
      "cell_type": "code",
      "metadata": {
        "id": "Y8yZaBToB_if",
        "outputId": "7828fc35-55fd-472b-de6b-ac8112b5941a",
        "colab": {
          "base_uri": "https://localhost:8080/",
          "height": 521
        }
      },
      "source": [
        "import math\n",
        "\n",
        "def iniciar_esquerda(t, dist):\n",
        "    t.penup()\n",
        "    t.left(90)\n",
        "    t.forward(dist)\n",
        "    t.right(90)\n",
        "    t.pendown()\n",
        "    # t.left(18)\n",
        "\n",
        "def polyline(t, n, length, angle):\n",
        "    for i in range(n):\n",
        "        t.forward(int(length))\n",
        "        t.left(angle)\n",
        "\n",
        "def arc(t, r, angle):\n",
        "    arc_length = 2 * math.pi * r * angle / 360\n",
        "    n = int(arc_length / 3) + 1\n",
        "    step_length = arc_length / n\n",
        "    step_angle = float(angle) / n\n",
        "    polyline(t, n, step_length, step_angle)\n",
        "\n",
        "def petala(t, r, ang):\n",
        "    for i in range(2):\n",
        "        arc(t, r, ang)\n",
        "        t.left(180-ang)\n",
        "\n",
        "\n",
        "def flor(t, n, r, ang):\n",
        "    for i in range(n):\n",
        "        petala(t, r, ang)\n",
        "        t.left(360.0/n)\n",
        "\n",
        "joana = ColabTurtle.Turtle\n",
        "joana.initializeTurtle()\n",
        "joana.speed(10)\n",
        "\n",
        "# draw a sequence of three flowers, as shown in the book.\n",
        "# iniciar_esquerda(joana, 100)\n",
        "flor(joana, 8, 100.0, 60.0)"
      ],
      "execution_count": 57,
      "outputs": [
        {
          "output_type": "display_data",
          "data": {
            "text/html": [
              "\n",
              "      <svg width=\"800\" height=\"500\">\n",
              "        <rect width=\"100%\" height=\"100%\" fill=\"black\"/>\n",
              "        <line x1=\"400\" y1=\"250\" x2=\"400.0\" y2=\"248.0\" stroke-linecap=\"round\" style=\"stroke:white;stroke-width:4\"/><line x1=\"400.0\" y1=\"248.0\" x2=\"399.9401690676612\" y2=\"246.00089513543298\" stroke-linecap=\"round\" style=\"stroke:white;stroke-width:4\"/><line x1=\"399.9401690676612\" y1=\"246.00089513543298\" x2=\"399.8205607597711\" y2=\"244.0044748758975\" stroke-linecap=\"round\" style=\"stroke:white;stroke-width:4\"/><line x1=\"399.8205607597711\" y1=\"244.0044748758975\" x2=\"399.64128214196427\" y2=\"242.01252628790704\" stroke-linecap=\"round\" style=\"stroke:white;stroke-width:4\"/><line x1=\"399.64128214196427\" y1=\"242.01252628790704\" x2=\"399.40249369288375\" y2=\"240.02683243522335\" stroke-linecap=\"round\" style=\"stroke:white;stroke-width:4\"/><line x1=\"399.40249369288375\" y1=\"240.02683243522335\" x2=\"399.1044091605314\" y2=\"238.0491707827731\" stroke-linecap=\"round\" style=\"stroke:white;stroke-width:4\"/><line x1=\"399.1044091605314\" y1=\"238.0491707827731\" x2=\"398.7472953709341\" y2=\"236.08131160557585\" stroke-linecap=\"round\" style=\"stroke:white;stroke-width:4\"/><line x1=\"398.7472953709341\" y1=\"236.08131160557585\" x2=\"398.3314719892986\" y2=\"234.12501640410824\" stroke-linecap=\"round\" style=\"stroke:white;stroke-width:4\"/><line x1=\"398.3314719892986\" y1=\"234.12501640410824\" x2=\"397.8573112338676\" y2=\"232.1820363275225\" stroke-linecap=\"round\" style=\"stroke:white;stroke-width:4\"/><line x1=\"397.8573112338676\" y1=\"232.1820363275225\" x2=\"397.32523754273427\" y2=\"230.25411060613078\" stroke-linecap=\"round\" style=\"stroke:white;stroke-width:4\"/><line x1=\"397.32523754273427\" y1=\"230.25411060613078\" x2=\"396.73572719391245\" y2=\"228.34296499455849\" stroke-linecap=\"round\" style=\"stroke:white;stroke-width:4\"/><line x1=\"396.73572719391245\" y1=\"228.34296499455849\" x2=\"396.0893078790035\" y2=\"226.45031022696017\" stroke-linecap=\"round\" style=\"stroke:white;stroke-width:4\"/><line x1=\"396.0893078790035\" y1=\"226.45031022696017\" x2=\"395.3865582308408\" y2=\"224.5778404856807\" stroke-linecap=\"round\" style=\"stroke:white;stroke-width:4\"/><line x1=\"395.3865582308408\" y1=\"224.5778404856807\" x2=\"394.62810730553497\" y2=\"222.7272318847327\" stroke-linecap=\"round\" style=\"stroke:white;stroke-width:4\"/><line x1=\"394.62810730553497\" y1=\"222.7272318847327\" x2=\"393.8146340193834\" y2=\"220.9001409694475\" stroke-linecap=\"round\" style=\"stroke:white;stroke-width:4\"/><line x1=\"393.8146340193834\" y1=\"220.9001409694475\" x2=\"392.94686654114827\" y2=\"219.09820323364266\" stroke-linecap=\"round\" style=\"stroke:white;stroke-width:4\"/><line x1=\"392.94686654114827\" y1=\"219.09820323364266\" x2=\"392.025581640247\" y2=\"217.32303165563357\" stroke-linecap=\"round\" style=\"stroke:white;stroke-width:4\"/><line x1=\"392.025581640247\" y1=\"217.32303165563357\" x2=\"391.0516039914383\" y2=\"215.5762152543993\" stroke-linecap=\"round\" style=\"stroke:white;stroke-width:4\"/><line x1=\"391.0516039914383\" y1=\"215.5762152543993\" x2=\"390.02580543662646\" y2=\"213.85931766719557\" stroke-linecap=\"round\" style=\"stroke:white;stroke-width:4\"/><line x1=\"390.02580543662646\" y1=\"213.85931766719557\" x2=\"388.94910420444506\" y2=\"212.1738757498875\" stroke-linecap=\"round\" style=\"stroke:white;stroke-width:4\"/><line x1=\"388.94910420444506\" y1=\"212.1738757498875\" x2=\"387.8224640883178\" y2=\"210.5213982012555\" stroke-linecap=\"round\" style=\"stroke:white;stroke-width:4\"/><line x1=\"387.8224640883178\" y1=\"210.5213982012555\" x2=\"386.6468935837329\" y2=\"208.9033642125056\" stroke-linecap=\"round\" style=\"stroke:white;stroke-width:4\"/><line x1=\"386.6468935837329\" y1=\"208.9033642125056\" x2=\"385.4234449855029\" y2=\"207.32122214319293\" stroke-linecap=\"round\" style=\"stroke:white;stroke-width:4\"/><line x1=\"385.4234449855029\" y1=\"207.32122214319293\" x2=\"384.15321344581855\" y2=\"205.77638822474373\" stroke-linecap=\"round\" style=\"stroke:white;stroke-width:4\"/><line x1=\"384.15321344581855\" y1=\"205.77638822474373\" x2=\"382.8373359939391\" y2=\"204.27024529273652\" stroke-linecap=\"round\" style=\"stroke:white;stroke-width:4\"/><line x1=\"382.8373359939391\" y1=\"204.27024529273652\" x2=\"381.47699051839726\" y2=\"202.80414154907686\" stroke-linecap=\"round\" style=\"stroke:white;stroke-width:4\"/><line x1=\"381.47699051839726\" y1=\"202.80414154907686\" x2=\"380.0733947126293\" y2=\"201.37938935517417\" stroke-linecap=\"round\" style=\"stroke:white;stroke-width:4\"/><line x1=\"380.0733947126293\" y1=\"201.37938935517417\" x2=\"378.6278049849745\" y2=\"199.99726405720045\" stroke-linecap=\"round\" style=\"stroke:white;stroke-width:4\"/><line x1=\"378.6278049849745\" y1=\"199.99726405720045\" x2=\"377.1415153340197\" y2=\"198.65900284448276\" stroke-linecap=\"round\" style=\"stroke:white;stroke-width:4\"/><line x1=\"377.1415153340197\" y1=\"198.65900284448276\" x2=\"375.6158561902952\" y2=\"197.36580364205116\" stroke-linecap=\"round\" style=\"stroke:white;stroke-width:4\"/><line x1=\"375.6158561902952\" y1=\"197.36580364205116\" x2=\"374.05219322535913\" y2=\"196.1188240383337\" stroke-linecap=\"round\" style=\"stroke:white;stroke-width:4\"/><line x1=\"374.05219322535913\" y1=\"196.1188240383337\" x2=\"372.4519261293367\" y2=\"194.9191802489579\" stroke-linecap=\"round\" style=\"stroke:white;stroke-width:4\"/><line x1=\"372.4519261293367\" y1=\"194.9191802489579\" x2=\"370.8164873580078\" y2=\"193.76794611758658\" stroke-linecap=\"round\" style=\"stroke:white;stroke-width:4\"/><line x1=\"370.8164873580078\" y1=\"193.76794611758658\" x2=\"369.1473408505652\" y2=\"192.66615215468238\" stroke-linecap=\"round\" style=\"stroke:white;stroke-width:4\"/><line x1=\"369.1473408505652\" y1=\"192.66615215468238\" x2=\"367.4459807191905\" y2=\"191.61478461506138\" stroke-linecap=\"round\" style=\"stroke:white;stroke-width:4\"/><line x1=\"367.4459807191905\" y1=\"191.61478461506138\" x2=\"367.4459807191905\" y2=\"193.61478461506138\" stroke-linecap=\"round\" style=\"stroke:white;stroke-width:4\"/><line x1=\"367.4459807191905\" y1=\"193.61478461506138\" x2=\"367.5058116515293\" y2=\"195.6138894796284\" stroke-linecap=\"round\" style=\"stroke:white;stroke-width:4\"/><line x1=\"367.5058116515293\" y1=\"195.6138894796284\" x2=\"367.6254199594194\" y2=\"197.61030973916388\" stroke-linecap=\"round\" style=\"stroke:white;stroke-width:4\"/><line x1=\"367.6254199594194\" y1=\"197.61030973916388\" x2=\"367.80469857722625\" y2=\"199.60225832715435\" stroke-linecap=\"round\" style=\"stroke:white;stroke-width:4\"/><line x1=\"367.80469857722625\" y1=\"199.60225832715435\" x2=\"368.04348702630676\" y2=\"201.58795217983803\" stroke-linecap=\"round\" style=\"stroke:white;stroke-width:4\"/><line x1=\"368.04348702630676\" y1=\"201.58795217983803\" x2=\"368.3415715586591\" y2=\"203.56561383228828\" stroke-linecap=\"round\" style=\"stroke:white;stroke-width:4\"/><line x1=\"368.3415715586591\" y1=\"203.56561383228828\" x2=\"368.6986853482564\" y2=\"205.53347300948553\" stroke-linecap=\"round\" style=\"stroke:white;stroke-width:4\"/><line x1=\"368.6986853482564\" y1=\"205.53347300948553\" x2=\"369.1145087298919\" y2=\"207.48976821095314\" stroke-linecap=\"round\" style=\"stroke:white;stroke-width:4\"/><line x1=\"369.1145087298919\" y1=\"207.48976821095314\" x2=\"369.5886694853229\" y2=\"209.43274828753889\" stroke-linecap=\"round\" style=\"stroke:white;stroke-width:4\"/><line x1=\"369.5886694853229\" y1=\"209.43274828753889\" x2=\"370.12074317645624\" y2=\"211.3606740089306\" stroke-linecap=\"round\" style=\"stroke:white;stroke-width:4\"/><line x1=\"370.12074317645624\" y1=\"211.3606740089306\" x2=\"370.71025352527806\" y2=\"213.27181962050287\" stroke-linecap=\"round\" style=\"stroke:white;stroke-width:4\"/><line x1=\"370.71025352527806\" y1=\"213.27181962050287\" x2=\"371.356672840187\" y2=\"215.16447438810118\" stroke-linecap=\"round\" style=\"stroke:white;stroke-width:4\"/><line x1=\"371.356672840187\" y1=\"215.16447438810118\" x2=\"372.0594224883497\" y2=\"217.03694412938066\" stroke-linecap=\"round\" style=\"stroke:white;stroke-width:4\"/><line x1=\"372.0594224883497\" y1=\"217.03694412938066\" x2=\"372.81787341365555\" y2=\"218.88755273032865\" stroke-linecap=\"round\" style=\"stroke:white;stroke-width:4\"/><line x1=\"372.81787341365555\" y1=\"218.88755273032865\" x2=\"373.6313466998072\" y2=\"220.71464364561385\" stroke-linecap=\"round\" style=\"stroke:white;stroke-width:4\"/><line x1=\"373.6313466998072\" y1=\"220.71464364561385\" x2=\"374.4991141780423\" y2=\"222.5165813814187\" stroke-linecap=\"round\" style=\"stroke:white;stroke-width:4\"/><line x1=\"374.4991141780423\" y1=\"222.5165813814187\" x2=\"375.4203990789436\" y2=\"224.29175295942778\" stroke-linecap=\"round\" style=\"stroke:white;stroke-width:4\"/><line x1=\"375.4203990789436\" y1=\"224.29175295942778\" x2=\"376.39437672775233\" y2=\"226.03856936066205\" stroke-linecap=\"round\" style=\"stroke:white;stroke-width:4\"/><line x1=\"376.39437672775233\" y1=\"226.03856936066205\" x2=\"377.4201752825642\" y2=\"227.75546694786578\" stroke-linecap=\"round\" style=\"stroke:white;stroke-width:4\"/><line x1=\"377.4201752825642\" y1=\"227.75546694786578\" x2=\"378.49687651474557\" y2=\"229.44090886517387\" stroke-linecap=\"round\" style=\"stroke:white;stroke-width:4\"/><line x1=\"378.49687651474557\" y1=\"229.44090886517387\" x2=\"379.6235166308728\" y2=\"231.09338641380586\" stroke-linecap=\"round\" style=\"stroke:white;stroke-width:4\"/><line x1=\"379.6235166308728\" y1=\"231.09338641380586\" x2=\"380.79908713545774\" y2=\"232.71142040255575\" stroke-linecap=\"round\" style=\"stroke:white;stroke-width:4\"/><line x1=\"380.79908713545774\" y1=\"232.71142040255575\" x2=\"382.02253573368773\" y2=\"234.29356247186843\" stroke-linecap=\"round\" style=\"stroke:white;stroke-width:4\"/><line x1=\"382.02253573368773\" y1=\"234.29356247186843\" x2=\"383.2927672733721\" y2=\"235.83839639031763\" stroke-linecap=\"round\" style=\"stroke:white;stroke-width:4\"/><line x1=\"383.2927672733721\" y1=\"235.83839639031763\" x2=\"384.6086447252515\" y2=\"237.34453932232483\" stroke-linecap=\"round\" style=\"stroke:white;stroke-width:4\"/><line x1=\"384.6086447252515\" y1=\"237.34453932232483\" x2=\"385.96899020079337\" y2=\"238.8106430659845\" stroke-linecap=\"round\" style=\"stroke:white;stroke-width:4\"/><line x1=\"385.96899020079337\" y1=\"238.8106430659845\" x2=\"387.37258600656133\" y2=\"240.23539525988718\" stroke-linecap=\"round\" style=\"stroke:white;stroke-width:4\"/><line x1=\"387.37258600656133\" y1=\"240.23539525988718\" x2=\"388.81817573421614\" y2=\"241.6175205578609\" stroke-linecap=\"round\" style=\"stroke:white;stroke-width:4\"/><line x1=\"388.81817573421614\" y1=\"241.6175205578609\" x2=\"390.30446538517094\" y2=\"242.9557817705786\" stroke-linecap=\"round\" style=\"stroke:white;stroke-width:4\"/><line x1=\"390.30446538517094\" y1=\"242.9557817705786\" x2=\"391.83012452889545\" y2=\"244.2489809730102\" stroke-linecap=\"round\" style=\"stroke:white;stroke-width:4\"/><line x1=\"391.83012452889545\" y1=\"244.2489809730102\" x2=\"393.3937874938315\" y2=\"245.49596057672764\" stroke-linecap=\"round\" style=\"stroke:white;stroke-width:4\"/><line x1=\"393.3937874938315\" y1=\"245.49596057672764\" x2=\"394.99405458985393\" y2=\"246.69560436610345\" stroke-linecap=\"round\" style=\"stroke:white;stroke-width:4\"/><line x1=\"394.99405458985393\" y1=\"246.69560436610345\" x2=\"396.6294933611828\" y2=\"247.8468384974748\" stroke-linecap=\"round\" style=\"stroke:white;stroke-width:4\"/><line x1=\"396.6294933611828\" y1=\"247.8468384974748\" x2=\"398.29863986862546\" y2=\"248.948632460379\" stroke-linecap=\"round\" style=\"stroke:white;stroke-width:4\"/><line x1=\"398.29863986862546\" y1=\"248.948632460379\" x2=\"400.0000000000001\" y2=\"250.0\" stroke-linecap=\"round\" style=\"stroke:white;stroke-width:4\"/><line x1=\"400.0000000000001\" y1=\"250.0\" x2=\"398.585786437627\" y2=\"248.58578643762692\" stroke-linecap=\"round\" style=\"stroke:white;stroke-width:4\"/><line x1=\"398.585786437627\" y1=\"248.58578643762692\" x2=\"397.12989897360717\" y2=\"247.21451268957006\" stroke-linecap=\"round\" style=\"stroke:white;stroke-width:4\"/><line x1=\"397.12989897360717\" y1=\"247.21451268957006\" x2=\"395.6336408243961\" y2=\"245.88740623154965\" stroke-linecap=\"round\" style=\"stroke:white;stroke-width:4\"/><line x1=\"395.6336408243961\" y1=\"245.88740623154965\" x2=\"394.09835134368006\" y2=\"244.6056550035796\" stroke-linecap=\"round\" style=\"stroke:white;stroke-width:4\"/><line x1=\"394.09835134368006\" y1=\"244.6056550035796\" x2=\"392.52540482347314\" y2=\"243.3704063466004\" stroke-linecap=\"round\" style=\"stroke:white;stroke-width:4\"/><line x1=\"392.52540482347314\" y1=\"243.3704063466004\" x2=\"390.9162092639398\" y2=\"242.1827659754534\" stroke-linecap=\"round\" style=\"stroke:white;stroke-width:4\"/><line x1=\"390.9162092639398\" y1=\"242.1827659754534\" x2=\"389.2722051130439\" y2=\"241.04379698911652\" stroke-linecap=\"round\" style=\"stroke:white;stroke-width:4\"/><line x1=\"389.2722051130439\" y1=\"241.04379698911652\" x2=\"387.59486397715307\" y2=\"239.95451891908647\" stroke-linecap=\"round\" style=\"stroke:white;stroke-width:4\"/><line x1=\"387.59486397715307\" y1=\"239.95451891908647\" x2=\"385.8856873037511\" y2=\"238.91590681676013\" stroke-linecap=\"round\" style=\"stroke:white;stroke-width:4\"/><line x1=\"385.8856873037511\" y1=\"238.91590681676013\" x2=\"384.14620503743976\" y2=\"237.92889038063143\" stroke-linecap=\"round\" style=\"stroke:white;stroke-width:4\"/><line x1=\"384.14620503743976\" y1=\"237.92889038063143\" x2=\"382.37797425043055\" y2=\"236.9943531240853\" stroke-linecap=\"round\" style=\"stroke:white;stroke-width:4\"/><line x1=\"382.37797425043055\" y1=\"236.9943531240853\" x2=\"380.58257774875466\" y2=\"236.11313158453356\" stroke-linecap=\"round\" style=\"stroke:white;stroke-width:4\"/><line x1=\"380.58257774875466\" y1=\"236.11313158453356\" x2=\"378.761622655437\" y2=\"235.28601457460053\" stroke-linecap=\"round\" style=\"stroke:white;stroke-width:4\"/><line x1=\"378.761622655437\" y1=\"235.28601457460053\" x2=\"376.91673897190356\" y2=\"234.51374247602905\" stroke-linecap=\"round\" style=\"stroke:white;stroke-width:4\"/><line x1=\"376.91673897190356\" y1=\"234.51374247602905\" x2=\"375.04957811890915\" y2=\"233.79700657693846\" stroke-linecap=\"round\" style=\"stroke:white;stroke-width:4\"/><line x1=\"375.04957811890915\" y1=\"233.79700657693846\" x2=\"373.1618114582924\" y2=\"233.13644845302812\" stroke-linecap=\"round\" style=\"stroke:white;stroke-width:4\"/><line x1=\"373.1618114582924\" y1=\"233.13644845302812\" x2=\"371.25512879688046\" y2=\"232.53265939328034\" stroke-linecap=\"round\" style=\"stroke:white;stroke-width:4\"/><line x1=\"371.25512879688046\" y1=\"232.53265939328034\" x2=\"369.33123687388303\" y2=\"231.98617987067652\" stroke-linecap=\"round\" style=\"stroke:white;stroke-width:4\"/><line x1=\"369.33123687388303\" y1=\"231.98617987067652\" x2=\"367.3918578331297\" y2=\"231.49749905840073\" stroke-linecap=\"round\" style=\"stroke:white;stroke-width:4\"/><line x1=\"367.3918578331297\" y1=\"231.49749905840073\" x2=\"365.4387276815177\" y2=\"231.0670543919635\" stroke-linecap=\"round\" style=\"stroke:white;stroke-width:4\"/><line x1=\"365.4387276815177\" y1=\"231.0670543919635\" x2=\"363.47359473505117\" y2=\"230.69523117763768\" stroke-linecap=\"round\" style=\"stroke:white;stroke-width:4\"/><line x1=\"363.47359473505117\" y1=\"230.69523117763768\" x2=\"361.4982180538609\" y2=\"230.38236224755724\" stroke-linecap=\"round\" style=\"stroke:white;stroke-width:4\"/><line x1=\"361.4982180538609\" y1=\"230.38236224755724\" x2=\"359.51436586760775\" y2=\"230.12872766178737\" stroke-linecap=\"round\" style=\"stroke:white;stroke-width:4\"/><line x1=\"359.51436586760775\" y1=\"230.12872766178737\" x2=\"357.5238139926775\" y2=\"229.9345544576328\" stroke-linecap=\"round\" style=\"stroke:white;stroke-width:4\"/><line x1=\"357.5238139926775\" y1=\"229.9345544576328\" x2=\"355.5283442425846\" y2=\"229.80001644640873\" stroke-linecap=\"round\" style=\"stroke:white;stroke-width:4\"/><line x1=\"355.5283442425846\" y1=\"229.80001644640873\" x2=\"353.5297428330078\" y2=\"229.72523405785608\" stroke-linecap=\"round\" style=\"stroke:white;stroke-width:4\"/><line x1=\"353.5297428330078\" y1=\"229.72523405785608\" x2=\"351.5297987828852\" y2=\"229.71027423234062\" stroke-linecap=\"round\" style=\"stroke:white;stroke-width:4\"/><line x1=\"351.5297987828852\" y1=\"229.71027423234062\" x2=\"349.5303023130002\" y2=\"229.75515036093225\" stroke-linecap=\"round\" style=\"stroke:white;stroke-width:4\"/><line x1=\"349.5303023130002\" y1=\"229.75515036093225\" x2=\"347.5330432434911\" y2=\"229.85982227341816\" stroke-linecap=\"round\" style=\"stroke:white;stroke-width:4\"/><line x1=\"347.5330432434911\" y1=\"229.85982227341816\" x2=\"345.53980939171976\" y2=\"230.02419627426065\" stroke-linecap=\"round\" style=\"stroke:white;stroke-width:4\"/><line x1=\"345.53980939171976\" y1=\"230.02419627426065\" x2=\"343.5523849719333\" y2=\"230.24812522646727\" stroke-linecap=\"round\" style=\"stroke:white;stroke-width:4\"/><line x1=\"343.5523849719333\" y1=\"230.24812522646727\" x2=\"341.5725489981502\" y2=\"230.53140868329845\" stroke-linecap=\"round\" style=\"stroke:white;stroke-width:4\"/><line x1=\"341.5725489981502\" y1=\"230.53140868329845\" x2=\"339.60207369170206\" y2=\"230.8737930676944\" stroke-linecap=\"round\" style=\"stroke:white;stroke-width:4\"/><line x1=\"339.60207369170206\" y1=\"230.8737930676944\" x2=\"337.6427228948556\" y2=\"231.27497189926098\" stroke-linecap=\"round\" style=\"stroke:white;stroke-width:4\"/><line x1=\"337.6427228948556\" y1=\"231.27497189926098\" x2=\"335.6962504919347\" y2=\"231.73458606861104\" stroke-linecap=\"round\" style=\"stroke:white;stroke-width:4\"/><line x1=\"335.6962504919347\" y1=\"231.73458606861104\" x2=\"337.1104640543078\" y2=\"233.14879963098412\" stroke-linecap=\"round\" style=\"stroke:white;stroke-width:4\"/><line x1=\"337.1104640543078\" y1=\"233.14879963098412\" x2=\"338.5663515183276\" y2=\"234.52007337904098\" stroke-linecap=\"round\" style=\"stroke:white;stroke-width:4\"/><line x1=\"338.5663515183276\" y1=\"234.52007337904098\" x2=\"340.0626096675387\" y2=\"235.8471798370614\" stroke-linecap=\"round\" style=\"stroke:white;stroke-width:4\"/><line x1=\"340.0626096675387\" y1=\"235.8471798370614\" x2=\"341.5978991482547\" y2=\"237.12893106503142\" stroke-linecap=\"round\" style=\"stroke:white;stroke-width:4\"/><line x1=\"341.5978991482547\" y1=\"237.12893106503142\" x2=\"343.17084566846165\" y2=\"238.36417972201065\" stroke-linecap=\"round\" style=\"stroke:white;stroke-width:4\"/><line x1=\"343.17084566846165\" y1=\"238.36417972201065\" x2=\"344.780041227995\" y2=\"239.55182009315763\" stroke-linecap=\"round\" style=\"stroke:white;stroke-width:4\"/><line x1=\"344.780041227995\" y1=\"239.55182009315763\" x2=\"346.42404537889087\" y2=\"240.69078907949452\" stroke-linecap=\"round\" style=\"stroke:white;stroke-width:4\"/><line x1=\"346.42404537889087\" y1=\"240.69078907949452\" x2=\"348.1013865147817\" y2=\"241.78006714952457\" stroke-linecap=\"round\" style=\"stroke:white;stroke-width:4\"/><line x1=\"348.1013865147817\" y1=\"241.78006714952457\" x2=\"349.81056318818366\" y2=\"242.81867925185088\" stroke-linecap=\"round\" style=\"stroke:white;stroke-width:4\"/><line x1=\"349.81056318818366\" y1=\"242.81867925185088\" x2=\"351.5500454544951\" y2=\"243.80569568797955\" stroke-linecap=\"round\" style=\"stroke:white;stroke-width:4\"/><line x1=\"351.5500454544951\" y1=\"243.80569568797955\" x2=\"353.3182762415043\" y2=\"244.74023294452567\" stroke-linecap=\"round\" style=\"stroke:white;stroke-width:4\"/><line x1=\"353.3182762415043\" y1=\"244.74023294452567\" x2=\"355.1136727431802\" y2=\"245.62145448407742\" stroke-linecap=\"round\" style=\"stroke:white;stroke-width:4\"/><line x1=\"355.1136727431802\" y1=\"245.62145448407742\" x2=\"356.93462783649784\" y2=\"246.44857149401045\" stroke-linecap=\"round\" style=\"stroke:white;stroke-width:4\"/><line x1=\"356.93462783649784\" y1=\"246.44857149401045\" x2=\"358.7795115200313\" y2=\"247.22084359258193\" stroke-linecap=\"round\" style=\"stroke:white;stroke-width:4\"/><line x1=\"358.7795115200313\" y1=\"247.22084359258193\" x2=\"360.6466723730257\" y2=\"247.93757949167252\" stroke-linecap=\"round\" style=\"stroke:white;stroke-width:4\"/><line x1=\"360.6466723730257\" y1=\"247.93757949167252\" x2=\"362.53443903364246\" y2=\"248.59813761558283\" stroke-linecap=\"round\" style=\"stroke:white;stroke-width:4\"/><line x1=\"362.53443903364246\" y1=\"248.59813761558283\" x2=\"364.4411216950544\" y2=\"249.2019266753306\" stroke-linecap=\"round\" style=\"stroke:white;stroke-width:4\"/><line x1=\"364.4411216950544\" y1=\"249.2019266753306\" x2=\"366.3650136180518\" y2=\"249.74840619793443\" stroke-linecap=\"round\" style=\"stroke:white;stroke-width:4\"/><line x1=\"366.3650136180518\" y1=\"249.74840619793443\" x2=\"368.30439265880517\" y2=\"250.2370870102102\" stroke-linecap=\"round\" style=\"stroke:white;stroke-width:4\"/><line x1=\"368.30439265880517\" y1=\"250.2370870102102\" x2=\"370.25752281041713\" y2=\"250.66753167664743\" stroke-linecap=\"round\" style=\"stroke:white;stroke-width:4\"/><line x1=\"370.25752281041713\" y1=\"250.66753167664743\" x2=\"372.2226557568837\" y2=\"251.03935489097324\" stroke-linecap=\"round\" style=\"stroke:white;stroke-width:4\"/><line x1=\"372.2226557568837\" y1=\"251.03935489097324\" x2=\"374.19803243807394\" y2=\"251.35222382105368\" stroke-linecap=\"round\" style=\"stroke:white;stroke-width:4\"/><line x1=\"374.19803243807394\" y1=\"251.35222382105368\" x2=\"376.1818846243271\" y2=\"251.60585840682356\" stroke-linecap=\"round\" style=\"stroke:white;stroke-width:4\"/><line x1=\"376.1818846243271\" y1=\"251.60585840682356\" x2=\"378.17243649925734\" y2=\"251.80003161097812\" stroke-linecap=\"round\" style=\"stroke:white;stroke-width:4\"/><line x1=\"378.17243649925734\" y1=\"251.80003161097812\" x2=\"380.16790624935027\" y2=\"251.9345696222022\" stroke-linecap=\"round\" style=\"stroke:white;stroke-width:4\"/><line x1=\"380.16790624935027\" y1=\"251.9345696222022\" x2=\"382.16650765892706\" y2=\"252.0093520107548\" stroke-linecap=\"round\" style=\"stroke:white;stroke-width:4\"/><line x1=\"382.16650765892706\" y1=\"252.0093520107548\" x2=\"384.1664517090496\" y2=\"252.02431183627027\" stroke-linecap=\"round\" style=\"stroke:white;stroke-width:4\"/><line x1=\"384.1664517090496\" y1=\"252.02431183627027\" x2=\"386.1659481789346\" y2=\"251.97943570767865\" stroke-linecap=\"round\" style=\"stroke:white;stroke-width:4\"/><line x1=\"386.1659481789346\" y1=\"251.97943570767865\" x2=\"388.16320724844377\" y2=\"251.87476379519273\" stroke-linecap=\"round\" style=\"stroke:white;stroke-width:4\"/><line x1=\"388.16320724844377\" y1=\"251.87476379519273\" x2=\"390.1564411002151\" y2=\"251.71038979435025\" stroke-linecap=\"round\" style=\"stroke:white;stroke-width:4\"/><line x1=\"390.1564411002151\" y1=\"251.71038979435025\" x2=\"392.14386552000155\" y2=\"251.48646084214363\" stroke-linecap=\"round\" style=\"stroke:white;stroke-width:4\"/><line x1=\"392.14386552000155\" y1=\"251.48646084214363\" x2=\"394.12370149378467\" y2=\"251.20317738531244\" stroke-linecap=\"round\" style=\"stroke:white;stroke-width:4\"/><line x1=\"394.12370149378467\" y1=\"251.20317738531244\" x2=\"396.0941768002328\" y2=\"250.8607930009165\" stroke-linecap=\"round\" style=\"stroke:white;stroke-width:4\"/><line x1=\"396.0941768002328\" y1=\"250.8607930009165\" x2=\"398.05352759707927\" y2=\"250.45961416934992\" stroke-linecap=\"round\" style=\"stroke:white;stroke-width:4\"/><line x1=\"398.05352759707927\" y1=\"250.45961416934992\" x2=\"400.00000000000017\" y2=\"249.99999999999986\" stroke-linecap=\"round\" style=\"stroke:white;stroke-width:4\"/><line x1=\"400.00000000000017\" y1=\"249.99999999999986\" x2=\"398.00000000000017\" y2=\"249.9999999999999\" stroke-linecap=\"round\" style=\"stroke:white;stroke-width:4\"/><line x1=\"398.00000000000017\" y1=\"249.9999999999999\" x2=\"396.00089513543315\" y2=\"250.0598309323387\" stroke-linecap=\"round\" style=\"stroke:white;stroke-width:4\"/><line x1=\"396.00089513543315\" y1=\"250.0598309323387\" x2=\"394.0044748758977\" y2=\"250.1794392402288\" stroke-linecap=\"round\" style=\"stroke:white;stroke-width:4\"/><line x1=\"394.0044748758977\" y1=\"250.1794392402288\" x2=\"392.01252628790724\" y2=\"250.35871785803567\" stroke-linecap=\"round\" style=\"stroke:white;stroke-width:4\"/><line x1=\"392.01252628790724\" y1=\"250.35871785803567\" x2=\"390.0268324352236\" y2=\"250.5975063071162\" stroke-linecap=\"round\" style=\"stroke:white;stroke-width:4\"/><line x1=\"390.0268324352236\" y1=\"250.5975063071162\" x2=\"388.04917078277333\" y2=\"250.89559083946855\" stroke-linecap=\"round\" style=\"stroke:white;stroke-width:4\"/><line x1=\"388.04917078277333\" y1=\"250.89559083946855\" x2=\"386.08131160557605\" y2=\"251.25270462906585\" stroke-linecap=\"round\" style=\"stroke:white;stroke-width:4\"/><line x1=\"386.08131160557605\" y1=\"251.25270462906585\" x2=\"384.12501640410846\" y2=\"251.66852801070138\" stroke-linecap=\"round\" style=\"stroke:white;stroke-width:4\"/><line x1=\"384.12501640410846\" y1=\"251.66852801070138\" x2=\"382.1820363275227\" y2=\"252.1426887661324\" stroke-linecap=\"round\" style=\"stroke:white;stroke-width:4\"/><line x1=\"382.1820363275227\" y1=\"252.1426887661324\" x2=\"380.254110606131\" y2=\"252.67476245726579\" stroke-linecap=\"round\" style=\"stroke:white;stroke-width:4\"/><line x1=\"380.254110606131\" y1=\"252.67476245726579\" x2=\"378.3429649945587\" y2=\"253.2642728060876\" stroke-linecap=\"round\" style=\"stroke:white;stroke-width:4\"/><line x1=\"378.3429649945587\" y1=\"253.2642728060876\" x2=\"376.45031022696037\" y2=\"253.91069212099654\" stroke-linecap=\"round\" style=\"stroke:white;stroke-width:4\"/><line x1=\"376.45031022696037\" y1=\"253.91069212099654\" x2=\"374.5778404856809\" y2=\"254.61344176915924\" stroke-linecap=\"round\" style=\"stroke:white;stroke-width:4\"/><line x1=\"374.5778404856809\" y1=\"254.61344176915924\" x2=\"372.72723188473293\" y2=\"255.37189269446512\" stroke-linecap=\"round\" style=\"stroke:white;stroke-width:4\"/><line x1=\"372.72723188473293\" y1=\"255.37189269446512\" x2=\"370.90014096944776\" y2=\"256.1853659806167\" stroke-linecap=\"round\" style=\"stroke:white;stroke-width:4\"/><line x1=\"370.90014096944776\" y1=\"256.1853659806167\" x2=\"369.09820323364295\" y2=\"257.05313345885185\" stroke-linecap=\"round\" style=\"stroke:white;stroke-width:4\"/><line x1=\"369.09820323364295\" y1=\"257.05313345885185\" x2=\"367.3230316556338\" y2=\"257.97441835975314\" stroke-linecap=\"round\" style=\"stroke:white;stroke-width:4\"/><line x1=\"367.3230316556338\" y1=\"257.97441835975314\" x2=\"365.5762152543996\" y2=\"258.94839600856193\" stroke-linecap=\"round\" style=\"stroke:white;stroke-width:4\"/><line x1=\"365.5762152543996\" y1=\"258.94839600856193\" x2=\"363.85931766719585\" y2=\"259.97419456337377\" stroke-linecap=\"round\" style=\"stroke:white;stroke-width:4\"/><line x1=\"363.85931766719585\" y1=\"259.97419456337377\" x2=\"362.17387574988777\" y2=\"261.05089579555516\" stroke-linecap=\"round\" style=\"stroke:white;stroke-width:4\"/><line x1=\"362.17387574988777\" y1=\"261.05089579555516\" x2=\"360.5213982012558\" y2=\"262.1775359116824\" stroke-linecap=\"round\" style=\"stroke:white;stroke-width:4\"/><line x1=\"360.5213982012558\" y1=\"262.1775359116824\" x2=\"358.90336421250595\" y2=\"263.3531064162674\" stroke-linecap=\"round\" style=\"stroke:white;stroke-width:4\"/><line x1=\"358.90336421250595\" y1=\"263.3531064162674\" x2=\"357.32122214319327\" y2=\"264.57655501449744\" stroke-linecap=\"round\" style=\"stroke:white;stroke-width:4\"/><line x1=\"357.32122214319327\" y1=\"264.57655501449744\" x2=\"355.7763882247441\" y2=\"265.84678655418185\" stroke-linecap=\"round\" style=\"stroke:white;stroke-width:4\"/><line x1=\"355.7763882247441\" y1=\"265.84678655418185\" x2=\"354.2702452927369\" y2=\"267.1626640060613\" stroke-linecap=\"round\" style=\"stroke:white;stroke-width:4\"/><line x1=\"354.2702452927369\" y1=\"267.1626640060613\" x2=\"352.80414154907726\" y2=\"268.52300948160314\" stroke-linecap=\"round\" style=\"stroke:white;stroke-width:4\"/><line x1=\"352.80414154907726\" y1=\"268.52300948160314\" x2=\"351.37938935517457\" y2=\"269.92660528737116\" stroke-linecap=\"round\" style=\"stroke:white;stroke-width:4\"/><line x1=\"351.37938935517457\" y1=\"269.92660528737116\" x2=\"349.9972640572009\" y2=\"271.37219501502597\" stroke-linecap=\"round\" style=\"stroke:white;stroke-width:4\"/><line x1=\"349.9972640572009\" y1=\"271.37219501502597\" x2=\"348.6590028444832\" y2=\"272.85848466598077\" stroke-linecap=\"round\" style=\"stroke:white;stroke-width:4\"/><line x1=\"348.6590028444832\" y1=\"272.85848466598077\" x2=\"347.3658036420516\" y2=\"274.38414380970534\" stroke-linecap=\"round\" style=\"stroke:white;stroke-width:4\"/><line x1=\"347.3658036420516\" y1=\"274.38414380970534\" x2=\"346.1188240383342\" y2=\"275.94780677464144\" stroke-linecap=\"round\" style=\"stroke:white;stroke-width:4\"/><line x1=\"346.1188240383342\" y1=\"275.94780677464144\" x2=\"344.9191802489584\" y2=\"277.54807387066387\" stroke-linecap=\"round\" style=\"stroke:white;stroke-width:4\"/><line x1=\"344.9191802489584\" y1=\"277.54807387066387\" x2=\"343.7679461175871\" y2=\"279.18351264199276\" stroke-linecap=\"round\" style=\"stroke:white;stroke-width:4\"/><line x1=\"343.7679461175871\" y1=\"279.18351264199276\" x2=\"342.6661521546829\" y2=\"280.8526591494354\" stroke-linecap=\"round\" style=\"stroke:white;stroke-width:4\"/><line x1=\"342.6661521546829\" y1=\"280.8526591494354\" x2=\"341.6147846150619\" y2=\"282.5540192808101\" stroke-linecap=\"round\" style=\"stroke:white;stroke-width:4\"/><line x1=\"341.6147846150619\" y1=\"282.5540192808101\" x2=\"343.6147846150619\" y2=\"282.5540192808101\" stroke-linecap=\"round\" style=\"stroke:white;stroke-width:4\"/><line x1=\"343.6147846150619\" y1=\"282.5540192808101\" x2=\"345.61388947962894\" y2=\"282.4941883484713\" stroke-linecap=\"round\" style=\"stroke:white;stroke-width:4\"/><line x1=\"345.61388947962894\" y1=\"282.4941883484713\" x2=\"347.6103097391644\" y2=\"282.37458004058124\" stroke-linecap=\"round\" style=\"stroke:white;stroke-width:4\"/><line x1=\"347.6103097391644\" y1=\"282.37458004058124\" x2=\"349.60225832715486\" y2=\"282.1953014227743\" stroke-linecap=\"round\" style=\"stroke:white;stroke-width:4\"/><line x1=\"349.60225832715486\" y1=\"282.1953014227743\" x2=\"351.5879521798385\" y2=\"281.9565129736938\" stroke-linecap=\"round\" style=\"stroke:white;stroke-width:4\"/><line x1=\"351.5879521798385\" y1=\"281.9565129736938\" x2=\"353.56561383228876\" y2=\"281.6584284413414\" stroke-linecap=\"round\" style=\"stroke:white;stroke-width:4\"/><line x1=\"353.56561383228876\" y1=\"281.6584284413414\" x2=\"355.533473009486\" y2=\"281.3013146517441\" stroke-linecap=\"round\" style=\"stroke:white;stroke-width:4\"/><line x1=\"355.533473009486\" y1=\"281.3013146517441\" x2=\"357.48976821095357\" y2=\"280.88549127010856\" stroke-linecap=\"round\" style=\"stroke:white;stroke-width:4\"/><line x1=\"357.48976821095357\" y1=\"280.88549127010856\" x2=\"359.4327482875393\" y2=\"280.41133051467756\" stroke-linecap=\"round\" style=\"stroke:white;stroke-width:4\"/><line x1=\"359.4327482875393\" y1=\"280.41133051467756\" x2=\"361.360674008931\" y2=\"279.87925682354415\" stroke-linecap=\"round\" style=\"stroke:white;stroke-width:4\"/><line x1=\"361.360674008931\" y1=\"279.87925682354415\" x2=\"363.2718196205033\" y2=\"279.28974647472234\" stroke-linecap=\"round\" style=\"stroke:white;stroke-width:4\"/><line x1=\"363.2718196205033\" y1=\"279.28974647472234\" x2=\"365.16447438810167\" y2=\"278.6433271598134\" stroke-linecap=\"round\" style=\"stroke:white;stroke-width:4\"/><line x1=\"365.16447438810167\" y1=\"278.6433271598134\" x2=\"367.03694412938114\" y2=\"277.9405775116507\" stroke-linecap=\"round\" style=\"stroke:white;stroke-width:4\"/><line x1=\"367.03694412938114\" y1=\"277.9405775116507\" x2=\"368.8875527303291\" y2=\"277.1821265863448\" stroke-linecap=\"round\" style=\"stroke:white;stroke-width:4\"/><line x1=\"368.8875527303291\" y1=\"277.1821265863448\" x2=\"370.7146436456143\" y2=\"276.36865330019316\" stroke-linecap=\"round\" style=\"stroke:white;stroke-width:4\"/><line x1=\"370.7146436456143\" y1=\"276.36865330019316\" x2=\"372.5165813814191\" y2=\"275.50088582195804\" stroke-linecap=\"round\" style=\"stroke:white;stroke-width:4\"/><line x1=\"372.5165813814191\" y1=\"275.50088582195804\" x2=\"374.29175295942815\" y2=\"274.57960092105674\" stroke-linecap=\"round\" style=\"stroke:white;stroke-width:4\"/><line x1=\"374.29175295942815\" y1=\"274.57960092105674\" x2=\"376.0385693606624\" y2=\"273.60562327224795\" stroke-linecap=\"round\" style=\"stroke:white;stroke-width:4\"/><line x1=\"376.0385693606624\" y1=\"273.60562327224795\" x2=\"377.7554669478661\" y2=\"272.5798247174361\" stroke-linecap=\"round\" style=\"stroke:white;stroke-width:4\"/><line x1=\"377.7554669478661\" y1=\"272.5798247174361\" x2=\"379.4409088651742\" y2=\"271.5031234852547\" stroke-linecap=\"round\" style=\"stroke:white;stroke-width:4\"/><line x1=\"379.4409088651742\" y1=\"271.5031234852547\" x2=\"381.0933864138062\" y2=\"270.37648336912747\" stroke-linecap=\"round\" style=\"stroke:white;stroke-width:4\"/><line x1=\"381.0933864138062\" y1=\"270.37648336912747\" x2=\"382.71142040255603\" y2=\"269.2009128645425\" stroke-linecap=\"round\" style=\"stroke:white;stroke-width:4\"/><line x1=\"382.71142040255603\" y1=\"269.2009128645425\" x2=\"384.2935624718687\" y2=\"267.97746426631244\" stroke-linecap=\"round\" style=\"stroke:white;stroke-width:4\"/><line x1=\"384.2935624718687\" y1=\"267.97746426631244\" x2=\"385.8383963903179\" y2=\"266.70723272662804\" stroke-linecap=\"round\" style=\"stroke:white;stroke-width:4\"/><line x1=\"385.8383963903179\" y1=\"266.70723272662804\" x2=\"387.3445393223251\" y2=\"265.3913552747486\" stroke-linecap=\"round\" style=\"stroke:white;stroke-width:4\"/><line x1=\"387.3445393223251\" y1=\"265.3913552747486\" x2=\"388.8106430659847\" y2=\"264.03100979920674\" stroke-linecap=\"round\" style=\"stroke:white;stroke-width:4\"/><line x1=\"388.8106430659847\" y1=\"264.03100979920674\" x2=\"390.2353952598874\" y2=\"262.6274139934387\" stroke-linecap=\"round\" style=\"stroke:white;stroke-width:4\"/><line x1=\"390.2353952598874\" y1=\"262.6274139934387\" x2=\"391.6175205578611\" y2=\"261.1818242657839\" stroke-linecap=\"round\" style=\"stroke:white;stroke-width:4\"/><line x1=\"391.6175205578611\" y1=\"261.1818242657839\" x2=\"392.95578177057877\" y2=\"259.6955346148291\" stroke-linecap=\"round\" style=\"stroke:white;stroke-width:4\"/><line x1=\"392.95578177057877\" y1=\"259.6955346148291\" x2=\"394.24898097301036\" y2=\"258.16987547110455\" stroke-linecap=\"round\" style=\"stroke:white;stroke-width:4\"/><line x1=\"394.24898097301036\" y1=\"258.16987547110455\" x2=\"395.4959605767278\" y2=\"256.60621250616845\" stroke-linecap=\"round\" style=\"stroke:white;stroke-width:4\"/><line x1=\"395.4959605767278\" y1=\"256.60621250616845\" x2=\"396.69560436610357\" y2=\"255.005945410146\" stroke-linecap=\"round\" style=\"stroke:white;stroke-width:4\"/><line x1=\"396.69560436610357\" y1=\"255.005945410146\" x2=\"397.8468384974749\" y2=\"253.37050663881712\" stroke-linecap=\"round\" style=\"stroke:white;stroke-width:4\"/><line x1=\"397.8468384974749\" y1=\"253.37050663881712\" x2=\"398.9486324603791\" y2=\"251.70136013137449\" stroke-linecap=\"round\" style=\"stroke:white;stroke-width:4\"/><line x1=\"398.9486324603791\" y1=\"251.70136013137449\" x2=\"400.00000000000006\" y2=\"249.99999999999977\" stroke-linecap=\"round\" style=\"stroke:white;stroke-width:4\"/><line x1=\"400.00000000000006\" y1=\"249.99999999999977\" x2=\"398.585786437627\" y2=\"251.4142135623729\" stroke-linecap=\"round\" style=\"stroke:white;stroke-width:4\"/><line x1=\"398.585786437627\" y1=\"251.4142135623729\" x2=\"397.21451268957014\" y2=\"252.87010102639275\" stroke-linecap=\"round\" style=\"stroke:white;stroke-width:4\"/><line x1=\"397.21451268957014\" y1=\"252.87010102639275\" x2=\"395.88740623154973\" y2=\"254.36635917560383\" stroke-linecap=\"round\" style=\"stroke:white;stroke-width:4\"/><line x1=\"395.88740623154973\" y1=\"254.36635917560383\" x2=\"394.6056550035797\" y2=\"255.90164865631988\" stroke-linecap=\"round\" style=\"stroke:white;stroke-width:4\"/><line x1=\"394.6056550035797\" y1=\"255.90164865631988\" x2=\"393.37040634660053\" y2=\"257.4745951765268\" stroke-linecap=\"round\" style=\"stroke:white;stroke-width:4\"/><line x1=\"393.37040634660053\" y1=\"257.4745951765268\" x2=\"392.18276597545355\" y2=\"259.08379073606017\" stroke-linecap=\"round\" style=\"stroke:white;stroke-width:4\"/><line x1=\"392.18276597545355\" y1=\"259.08379073606017\" x2=\"391.0437969891167\" y2=\"260.727794886956\" stroke-linecap=\"round\" style=\"stroke:white;stroke-width:4\"/><line x1=\"391.0437969891167\" y1=\"260.727794886956\" x2=\"389.95451891908664\" y2=\"262.4051360228469\" stroke-linecap=\"round\" style=\"stroke:white;stroke-width:4\"/><line x1=\"389.95451891908664\" y1=\"262.4051360228469\" x2=\"388.91590681676036\" y2=\"264.1143126962488\" stroke-linecap=\"round\" style=\"stroke:white;stroke-width:4\"/><line x1=\"388.91590681676036\" y1=\"264.1143126962488\" x2=\"387.9288903806317\" y2=\"265.85379496256024\" stroke-linecap=\"round\" style=\"stroke:white;stroke-width:4\"/><line x1=\"387.9288903806317\" y1=\"265.85379496256024\" x2=\"386.9943531240856\" y2=\"267.6220257495695\" stroke-linecap=\"round\" style=\"stroke:white;stroke-width:4\"/><line x1=\"386.9943531240856\" y1=\"267.6220257495695\" x2=\"386.11313158453385\" y2=\"269.4174222512454\" stroke-linecap=\"round\" style=\"stroke:white;stroke-width:4\"/><line x1=\"386.11313158453385\" y1=\"269.4174222512454\" x2=\"385.2860145746008\" y2=\"271.23837734456305\" stroke-linecap=\"round\" style=\"stroke:white;stroke-width:4\"/><line x1=\"385.2860145746008\" y1=\"271.23837734456305\" x2=\"384.51374247602934\" y2=\"273.0832610280965\" stroke-linecap=\"round\" style=\"stroke:white;stroke-width:4\"/><line x1=\"384.51374247602934\" y1=\"273.0832610280965\" x2=\"383.79700657693877\" y2=\"274.9504218810909\" stroke-linecap=\"round\" style=\"stroke:white;stroke-width:4\"/><line x1=\"383.79700657693877\" y1=\"274.9504218810909\" x2=\"383.1364484530285\" y2=\"276.83818854170767\" stroke-linecap=\"round\" style=\"stroke:white;stroke-width:4\"/><line x1=\"383.1364484530285\" y1=\"276.83818854170767\" x2=\"382.5326593932807\" y2=\"278.7448712031196\" stroke-linecap=\"round\" style=\"stroke:white;stroke-width:4\"/><line x1=\"382.5326593932807\" y1=\"278.7448712031196\" x2=\"381.9861798706769\" y2=\"280.668763126117\" stroke-linecap=\"round\" style=\"stroke:white;stroke-width:4\"/><line x1=\"381.9861798706769\" y1=\"280.668763126117\" x2=\"381.49749905840116\" y2=\"282.60814216687044\" stroke-linecap=\"round\" style=\"stroke:white;stroke-width:4\"/><line x1=\"381.49749905840116\" y1=\"282.60814216687044\" x2=\"381.06705439196395\" y2=\"284.5612723184824\" stroke-linecap=\"round\" style=\"stroke:white;stroke-width:4\"/><line x1=\"381.06705439196395\" y1=\"284.5612723184824\" x2=\"380.69523117763816\" y2=\"286.526405264949\" stroke-linecap=\"round\" style=\"stroke:white;stroke-width:4\"/><line x1=\"380.69523117763816\" y1=\"286.526405264949\" x2=\"380.38236224755775\" y2=\"288.50178194613926\" stroke-linecap=\"round\" style=\"stroke:white;stroke-width:4\"/><line x1=\"380.38236224755775\" y1=\"288.50178194613926\" x2=\"380.1287276617879\" y2=\"290.4856341323924\" stroke-linecap=\"round\" style=\"stroke:white;stroke-width:4\"/><line x1=\"380.1287276617879\" y1=\"290.4856341323924\" x2=\"379.93455445763334\" y2=\"292.47618600732267\" stroke-linecap=\"round\" style=\"stroke:white;stroke-width:4\"/><line x1=\"379.93455445763334\" y1=\"292.47618600732267\" x2=\"379.8000164464093\" y2=\"294.4716557574156\" stroke-linecap=\"round\" style=\"stroke:white;stroke-width:4\"/><line x1=\"379.8000164464093\" y1=\"294.4716557574156\" x2=\"379.7252340578567\" y2=\"296.4702571669924\" stroke-linecap=\"round\" style=\"stroke:white;stroke-width:4\"/><line x1=\"379.7252340578567\" y1=\"296.4702571669924\" x2=\"379.7102742323413\" y2=\"298.47020121711495\" stroke-linecap=\"round\" style=\"stroke:white;stroke-width:4\"/><line x1=\"379.7102742323413\" y1=\"298.47020121711495\" x2=\"379.75515036093293\" y2=\"300.46969768699995\" stroke-linecap=\"round\" style=\"stroke:white;stroke-width:4\"/><line x1=\"379.75515036093293\" y1=\"300.46969768699995\" x2=\"379.85982227341884\" y2=\"302.4669567565091\" stroke-linecap=\"round\" style=\"stroke:white;stroke-width:4\"/><line x1=\"379.85982227341884\" y1=\"302.4669567565091\" x2=\"380.0241962742613\" y2=\"304.4601906082804\" stroke-linecap=\"round\" style=\"stroke:white;stroke-width:4\"/><line x1=\"380.0241962742613\" y1=\"304.4601906082804\" x2=\"380.248125226468\" y2=\"306.4476150280669\" stroke-linecap=\"round\" style=\"stroke:white;stroke-width:4\"/><line x1=\"380.248125226468\" y1=\"306.4476150280669\" x2=\"380.5314086832992\" y2=\"308.42745100185\" stroke-linecap=\"round\" style=\"stroke:white;stroke-width:4\"/><line x1=\"380.5314086832992\" y1=\"308.42745100185\" x2=\"380.8737930676952\" y2=\"310.3979263082981\" stroke-linecap=\"round\" style=\"stroke:white;stroke-width:4\"/><line x1=\"380.8737930676952\" y1=\"310.3979263082981\" x2=\"381.2749718992618\" y2=\"312.3572771051446\" stroke-linecap=\"round\" style=\"stroke:white;stroke-width:4\"/><line x1=\"381.2749718992618\" y1=\"312.3572771051446\" x2=\"381.73458606861186\" y2=\"314.3037495080655\" stroke-linecap=\"round\" style=\"stroke:white;stroke-width:4\"/><line x1=\"381.73458606861186\" y1=\"314.3037495080655\" x2=\"383.1487996309849\" y2=\"312.8895359456924\" stroke-linecap=\"round\" style=\"stroke:white;stroke-width:4\"/><line x1=\"383.1487996309849\" y1=\"312.8895359456924\" x2=\"384.5200733790418\" y2=\"311.43364848167255\" stroke-linecap=\"round\" style=\"stroke:white;stroke-width:4\"/><line x1=\"384.5200733790418\" y1=\"311.43364848167255\" x2=\"385.8471798370622\" y2=\"309.93739033246146\" stroke-linecap=\"round\" style=\"stroke:white;stroke-width:4\"/><line x1=\"385.8471798370622\" y1=\"309.93739033246146\" x2=\"387.1289310650322\" y2=\"308.40210085174544\" stroke-linecap=\"round\" style=\"stroke:white;stroke-width:4\"/><line x1=\"387.1289310650322\" y1=\"308.40210085174544\" x2=\"388.3641797220114\" y2=\"306.8291543315385\" stroke-linecap=\"round\" style=\"stroke:white;stroke-width:4\"/><line x1=\"388.3641797220114\" y1=\"306.8291543315385\" x2=\"389.55182009315837\" y2=\"305.21995877200516\" stroke-linecap=\"round\" style=\"stroke:white;stroke-width:4\"/><line x1=\"389.55182009315837\" y1=\"305.21995877200516\" x2=\"390.69078907949523\" y2=\"303.5759546211093\" stroke-linecap=\"round\" style=\"stroke:white;stroke-width:4\"/><line x1=\"390.69078907949523\" y1=\"303.5759546211093\" x2=\"391.7800671495253\" y2=\"301.89861348521845\" stroke-linecap=\"round\" style=\"stroke:white;stroke-width:4\"/><line x1=\"391.7800671495253\" y1=\"301.89861348521845\" x2=\"392.81867925185156\" y2=\"300.1894368118165\" stroke-linecap=\"round\" style=\"stroke:white;stroke-width:4\"/><line x1=\"392.81867925185156\" y1=\"300.1894368118165\" x2=\"393.80569568798023\" y2=\"298.4499545455051\" stroke-linecap=\"round\" style=\"stroke:white;stroke-width:4\"/><line x1=\"393.80569568798023\" y1=\"298.4499545455051\" x2=\"394.7402329445263\" y2=\"296.6817237584958\" stroke-linecap=\"round\" style=\"stroke:white;stroke-width:4\"/><line x1=\"394.7402329445263\" y1=\"296.6817237584958\" x2=\"395.6214544840781\" y2=\"294.8863272568199\" stroke-linecap=\"round\" style=\"stroke:white;stroke-width:4\"/><line x1=\"395.6214544840781\" y1=\"294.8863272568199\" x2=\"396.4485714940111\" y2=\"293.0653721635023\" stroke-linecap=\"round\" style=\"stroke:white;stroke-width:4\"/><line x1=\"396.4485714940111\" y1=\"293.0653721635023\" x2=\"397.2208435925826\" y2=\"291.2204884799688\" stroke-linecap=\"round\" style=\"stroke:white;stroke-width:4\"/><line x1=\"397.2208435925826\" y1=\"291.2204884799688\" x2=\"397.93757949167315\" y2=\"289.3533276269744\" stroke-linecap=\"round\" style=\"stroke:white;stroke-width:4\"/><line x1=\"397.93757949167315\" y1=\"289.3533276269744\" x2=\"398.5981376155834\" y2=\"287.46556096635766\" stroke-linecap=\"round\" style=\"stroke:white;stroke-width:4\"/><line x1=\"398.5981376155834\" y1=\"287.46556096635766\" x2=\"399.2019266753312\" y2=\"285.5588783049457\" stroke-linecap=\"round\" style=\"stroke:white;stroke-width:4\"/><line x1=\"399.2019266753312\" y1=\"285.5588783049457\" x2=\"399.748406197935\" y2=\"283.6349863819483\" stroke-linecap=\"round\" style=\"stroke:white;stroke-width:4\"/><line x1=\"399.748406197935\" y1=\"283.6349863819483\" x2=\"400.23708701021076\" y2=\"281.6956073411949\" stroke-linecap=\"round\" style=\"stroke:white;stroke-width:4\"/><line x1=\"400.23708701021076\" y1=\"281.6956073411949\" x2=\"400.66753167664797\" y2=\"279.7424771895829\" stroke-linecap=\"round\" style=\"stroke:white;stroke-width:4\"/><line x1=\"400.66753167664797\" y1=\"279.7424771895829\" x2=\"401.03935489097375\" y2=\"277.7773442431163\" stroke-linecap=\"round\" style=\"stroke:white;stroke-width:4\"/><line x1=\"401.03935489097375\" y1=\"277.7773442431163\" x2=\"401.35222382105417\" y2=\"275.80196756192606\" stroke-linecap=\"round\" style=\"stroke:white;stroke-width:4\"/><line x1=\"401.35222382105417\" y1=\"275.80196756192606\" x2=\"401.60585840682404\" y2=\"273.8181153756729\" stroke-linecap=\"round\" style=\"stroke:white;stroke-width:4\"/><line x1=\"401.60585840682404\" y1=\"273.8181153756729\" x2=\"401.8000316109786\" y2=\"271.82756350074266\" stroke-linecap=\"round\" style=\"stroke:white;stroke-width:4\"/><line x1=\"401.8000316109786\" y1=\"271.82756350074266\" x2=\"401.9345696222026\" y2=\"269.83209375064973\" stroke-linecap=\"round\" style=\"stroke:white;stroke-width:4\"/><line x1=\"401.9345696222026\" y1=\"269.83209375064973\" x2=\"402.0093520107552\" y2=\"267.83349234107294\" stroke-linecap=\"round\" style=\"stroke:white;stroke-width:4\"/><line x1=\"402.0093520107552\" y1=\"267.83349234107294\" x2=\"402.0243118362706\" y2=\"265.8335482909504\" stroke-linecap=\"round\" style=\"stroke:white;stroke-width:4\"/><line x1=\"402.0243118362706\" y1=\"265.8335482909504\" x2=\"401.979435707679\" y2=\"263.8340518210654\" stroke-linecap=\"round\" style=\"stroke:white;stroke-width:4\"/><line x1=\"401.979435707679\" y1=\"263.8340518210654\" x2=\"401.8747637951931\" y2=\"261.83679275155623\" stroke-linecap=\"round\" style=\"stroke:white;stroke-width:4\"/><line x1=\"401.8747637951931\" y1=\"261.83679275155623\" x2=\"401.7103897943506\" y2=\"259.8435588997849\" stroke-linecap=\"round\" style=\"stroke:white;stroke-width:4\"/><line x1=\"401.7103897943506\" y1=\"259.8435588997849\" x2=\"401.4864608421439\" y2=\"257.85613447999845\" stroke-linecap=\"round\" style=\"stroke:white;stroke-width:4\"/><line x1=\"401.4864608421439\" y1=\"257.85613447999845\" x2=\"401.2031773853127\" y2=\"255.87629850621533\" stroke-linecap=\"round\" style=\"stroke:white;stroke-width:4\"/><line x1=\"401.2031773853127\" y1=\"255.87629850621533\" x2=\"400.8607930009167\" y2=\"253.9058231997672\" stroke-linecap=\"round\" style=\"stroke:white;stroke-width:4\"/><line x1=\"400.8607930009167\" y1=\"253.9058231997672\" x2=\"400.4596141693501\" y2=\"251.94647240292076\" stroke-linecap=\"round\" style=\"stroke:white;stroke-width:4\"/><line x1=\"400.4596141693501\" y1=\"251.94647240292076\" x2=\"400.00000000000006\" y2=\"249.99999999999986\" stroke-linecap=\"round\" style=\"stroke:white;stroke-width:4\"/><line x1=\"400.00000000000006\" y1=\"249.99999999999986\" x2=\"400.0000000000001\" y2=\"251.99999999999986\" stroke-linecap=\"round\" style=\"stroke:white;stroke-width:4\"/><line x1=\"400.0000000000001\" y1=\"251.99999999999986\" x2=\"400.05983093233897\" y2=\"253.99910486456687\" stroke-linecap=\"round\" style=\"stroke:white;stroke-width:4\"/><line x1=\"400.05983093233897\" y1=\"253.99910486456687\" x2=\"400.1794392402291\" y2=\"255.99552512410233\" stroke-linecap=\"round\" style=\"stroke:white;stroke-width:4\"/><line x1=\"400.1794392402291\" y1=\"255.99552512410233\" x2=\"400.358717858036\" y2=\"257.9874737120928\" stroke-linecap=\"round\" style=\"stroke:white;stroke-width:4\"/><line x1=\"400.358717858036\" y1=\"257.9874737120928\" x2=\"400.59750630711653\" y2=\"259.9731675647765\" stroke-linecap=\"round\" style=\"stroke:white;stroke-width:4\"/><line x1=\"400.59750630711653\" y1=\"259.9731675647765\" x2=\"400.8955908394689\" y2=\"261.9508292172267\" stroke-linecap=\"round\" style=\"stroke:white;stroke-width:4\"/><line x1=\"400.8955908394689\" y1=\"261.9508292172267\" x2=\"401.2527046290662\" y2=\"263.91868839442395\" stroke-linecap=\"round\" style=\"stroke:white;stroke-width:4\"/><line x1=\"401.2527046290662\" y1=\"263.91868839442395\" x2=\"401.6685280107018\" y2=\"265.87498359589154\" stroke-linecap=\"round\" style=\"stroke:white;stroke-width:4\"/><line x1=\"401.6685280107018\" y1=\"265.87498359589154\" x2=\"402.14268876613284\" y2=\"267.8179636724773\" stroke-linecap=\"round\" style=\"stroke:white;stroke-width:4\"/><line x1=\"402.14268876613284\" y1=\"267.8179636724773\" x2=\"402.67476245726624\" y2=\"269.745889393869\" stroke-linecap=\"round\" style=\"stroke:white;stroke-width:4\"/><line x1=\"402.67476245726624\" y1=\"269.745889393869\" x2=\"403.26427280608806\" y2=\"271.6570350054413\" stroke-linecap=\"round\" style=\"stroke:white;stroke-width:4\"/><line x1=\"403.26427280608806\" y1=\"271.6570350054413\" x2=\"403.910692120997\" y2=\"273.5496897730396\" stroke-linecap=\"round\" style=\"stroke:white;stroke-width:4\"/><line x1=\"403.910692120997\" y1=\"273.5496897730396\" x2=\"404.6134417691597\" y2=\"275.42215951431905\" stroke-linecap=\"round\" style=\"stroke:white;stroke-width:4\"/><line x1=\"404.6134417691597\" y1=\"275.42215951431905\" x2=\"405.3718926944656\" y2=\"277.272768115267\" stroke-linecap=\"round\" style=\"stroke:white;stroke-width:4\"/><line x1=\"405.3718926944656\" y1=\"277.272768115267\" x2=\"406.18536598061723\" y2=\"279.0998590305522\" stroke-linecap=\"round\" style=\"stroke:white;stroke-width:4\"/><line x1=\"406.18536598061723\" y1=\"279.0998590305522\" x2=\"407.05313345885236\" y2=\"280.901796766357\" stroke-linecap=\"round\" style=\"stroke:white;stroke-width:4\"/><line x1=\"407.05313345885236\" y1=\"280.901796766357\" x2=\"407.97441835975366\" y2=\"282.67696834436606\" stroke-linecap=\"round\" style=\"stroke:white;stroke-width:4\"/><line x1=\"407.97441835975366\" y1=\"282.67696834436606\" x2=\"408.94839600856244\" y2=\"284.4237847456003\" stroke-linecap=\"round\" style=\"stroke:white;stroke-width:4\"/><line x1=\"408.94839600856244\" y1=\"284.4237847456003\" x2=\"409.9741945633743\" y2=\"286.14068233280403\" stroke-linecap=\"round\" style=\"stroke:white;stroke-width:4\"/><line x1=\"409.9741945633743\" y1=\"286.14068233280403\" x2=\"411.0508957955557\" y2=\"287.8261242501121\" stroke-linecap=\"round\" style=\"stroke:white;stroke-width:4\"/><line x1=\"411.0508957955557\" y1=\"287.8261242501121\" x2=\"412.1775359116829\" y2=\"289.4786017987441\" stroke-linecap=\"round\" style=\"stroke:white;stroke-width:4\"/><line x1=\"412.1775359116829\" y1=\"289.4786017987441\" x2=\"413.3531064162679\" y2=\"291.09663578749394\" stroke-linecap=\"round\" style=\"stroke:white;stroke-width:4\"/><line x1=\"413.3531064162679\" y1=\"291.09663578749394\" x2=\"414.57655501449796\" y2=\"292.6787778568066\" stroke-linecap=\"round\" style=\"stroke:white;stroke-width:4\"/><line x1=\"414.57655501449796\" y1=\"292.6787778568066\" x2=\"415.84678655418236\" y2=\"294.2236117752558\" stroke-linecap=\"round\" style=\"stroke:white;stroke-width:4\"/><line x1=\"415.84678655418236\" y1=\"294.2236117752558\" x2=\"417.1626640060618\" y2=\"295.729754707263\" stroke-linecap=\"round\" style=\"stroke:white;stroke-width:4\"/><line x1=\"417.1626640060618\" y1=\"295.729754707263\" x2=\"418.52300948160365\" y2=\"297.19585845092263\" stroke-linecap=\"round\" style=\"stroke:white;stroke-width:4\"/><line x1=\"418.52300948160365\" y1=\"297.19585845092263\" x2=\"419.9266052873717\" y2=\"298.62061064482526\" stroke-linecap=\"round\" style=\"stroke:white;stroke-width:4\"/><line x1=\"419.9266052873717\" y1=\"298.62061064482526\" x2=\"421.3721950150265\" y2=\"300.00273594279895\" stroke-linecap=\"round\" style=\"stroke:white;stroke-width:4\"/><line x1=\"421.3721950150265\" y1=\"300.00273594279895\" x2=\"422.8584846659813\" y2=\"301.3409971555166\" stroke-linecap=\"round\" style=\"stroke:white;stroke-width:4\"/><line x1=\"422.8584846659813\" y1=\"301.3409971555166\" x2=\"424.38414380970585\" y2=\"302.6341963579482\" stroke-linecap=\"round\" style=\"stroke:white;stroke-width:4\"/><line x1=\"424.38414380970585\" y1=\"302.6341963579482\" x2=\"425.94780677464195\" y2=\"303.88117596166563\" stroke-linecap=\"round\" style=\"stroke:white;stroke-width:4\"/><line x1=\"425.94780677464195\" y1=\"303.88117596166563\" x2=\"427.5480738706644\" y2=\"305.0808197510414\" stroke-linecap=\"round\" style=\"stroke:white;stroke-width:4\"/><line x1=\"427.5480738706644\" y1=\"305.0808197510414\" x2=\"429.1835126419933\" y2=\"306.23205388241274\" stroke-linecap=\"round\" style=\"stroke:white;stroke-width:4\"/><line x1=\"429.1835126419933\" y1=\"306.23205388241274\" x2=\"430.8526591494359\" y2=\"307.33384784531694\" stroke-linecap=\"round\" style=\"stroke:white;stroke-width:4\"/><line x1=\"430.8526591494359\" y1=\"307.33384784531694\" x2=\"432.5540192808106\" y2=\"308.3852153849379\" stroke-linecap=\"round\" style=\"stroke:white;stroke-width:4\"/><line x1=\"432.5540192808106\" y1=\"308.3852153849379\" x2=\"432.55401928081056\" y2=\"306.3852153849379\" stroke-linecap=\"round\" style=\"stroke:white;stroke-width:4\"/><line x1=\"432.55401928081056\" y1=\"306.3852153849379\" x2=\"432.4941883484717\" y2=\"304.3861105203709\" stroke-linecap=\"round\" style=\"stroke:white;stroke-width:4\"/><line x1=\"432.4941883484717\" y1=\"304.3861105203709\" x2=\"432.3745800405816\" y2=\"302.38969026083544\" stroke-linecap=\"round\" style=\"stroke:white;stroke-width:4\"/><line x1=\"432.3745800405816\" y1=\"302.38969026083544\" x2=\"432.19530142277466\" y2=\"300.397741672845\" stroke-linecap=\"round\" style=\"stroke:white;stroke-width:4\"/><line x1=\"432.19530142277466\" y1=\"300.397741672845\" x2=\"431.95651297369415\" y2=\"298.4120478201613\" stroke-linecap=\"round\" style=\"stroke:white;stroke-width:4\"/><line x1=\"431.95651297369415\" y1=\"298.4120478201613\" x2=\"431.65842844134175\" y2=\"296.43438616771107\" stroke-linecap=\"round\" style=\"stroke:white;stroke-width:4\"/><line x1=\"431.65842844134175\" y1=\"296.43438616771107\" x2=\"431.30131465174446\" y2=\"294.46652699051384\" stroke-linecap=\"round\" style=\"stroke:white;stroke-width:4\"/><line x1=\"431.30131465174446\" y1=\"294.46652699051384\" x2=\"430.8854912701089\" y2=\"292.51023178904626\" stroke-linecap=\"round\" style=\"stroke:white;stroke-width:4\"/><line x1=\"430.8854912701089\" y1=\"292.51023178904626\" x2=\"430.41133051467784\" y2=\"290.5672517124605\" stroke-linecap=\"round\" style=\"stroke:white;stroke-width:4\"/><line x1=\"430.41133051467784\" y1=\"290.5672517124605\" x2=\"429.87925682354444\" y2=\"288.6393259910688\" stroke-linecap=\"round\" style=\"stroke:white;stroke-width:4\"/><line x1=\"429.87925682354444\" y1=\"288.6393259910688\" x2=\"429.28974647472256\" y2=\"286.7281803794965\" stroke-linecap=\"round\" style=\"stroke:white;stroke-width:4\"/><line x1=\"429.28974647472256\" y1=\"286.7281803794965\" x2=\"428.6433271598136\" y2=\"284.8355256118982\" stroke-linecap=\"round\" style=\"stroke:white;stroke-width:4\"/><line x1=\"428.6433271598136\" y1=\"284.8355256118982\" x2=\"427.9405775116509\" y2=\"282.96305587061875\" stroke-linecap=\"round\" style=\"stroke:white;stroke-width:4\"/><line x1=\"427.9405775116509\" y1=\"282.96305587061875\" x2=\"427.18212658634496\" y2=\"281.1124472696708\" stroke-linecap=\"round\" style=\"stroke:white;stroke-width:4\"/><line x1=\"427.18212658634496\" y1=\"281.1124472696708\" x2=\"426.36865330019333\" y2=\"279.2853563543856\" stroke-linecap=\"round\" style=\"stroke:white;stroke-width:4\"/><line x1=\"426.36865330019333\" y1=\"279.2853563543856\" x2=\"425.50088582195815\" y2=\"277.4834186185808\" stroke-linecap=\"round\" style=\"stroke:white;stroke-width:4\"/><line x1=\"425.50088582195815\" y1=\"277.4834186185808\" x2=\"424.57960092105685\" y2=\"275.70824704057173\" stroke-linecap=\"round\" style=\"stroke:white;stroke-width:4\"/><line x1=\"424.57960092105685\" y1=\"275.70824704057173\" x2=\"423.60562327224807\" y2=\"273.9614306393375\" stroke-linecap=\"round\" style=\"stroke:white;stroke-width:4\"/><line x1=\"423.60562327224807\" y1=\"273.9614306393375\" x2=\"422.5798247174362\" y2=\"272.24453305213376\" stroke-linecap=\"round\" style=\"stroke:white;stroke-width:4\"/><line x1=\"422.5798247174362\" y1=\"272.24453305213376\" x2=\"421.50312348525483\" y2=\"270.55909113482574\" stroke-linecap=\"round\" style=\"stroke:white;stroke-width:4\"/><line x1=\"421.50312348525483\" y1=\"270.55909113482574\" x2=\"420.3764833691275\" y2=\"268.90661358619377\" stroke-linecap=\"round\" style=\"stroke:white;stroke-width:4\"/><line x1=\"420.3764833691275\" y1=\"268.90661358619377\" x2=\"419.20091286454254\" y2=\"267.2885795974439\" stroke-linecap=\"round\" style=\"stroke:white;stroke-width:4\"/><line x1=\"419.20091286454254\" y1=\"267.2885795974439\" x2=\"417.9774642663125\" y2=\"265.70643752813123\" stroke-linecap=\"round\" style=\"stroke:white;stroke-width:4\"/><line x1=\"417.9774642663125\" y1=\"265.70643752813123\" x2=\"416.7072327266281\" y2=\"264.16160360968206\" stroke-linecap=\"round\" style=\"stroke:white;stroke-width:4\"/><line x1=\"416.7072327266281\" y1=\"264.16160360968206\" x2=\"415.3913552747486\" y2=\"262.65546067767485\" stroke-linecap=\"round\" style=\"stroke:white;stroke-width:4\"/><line x1=\"415.3913552747486\" y1=\"262.65546067767485\" x2=\"414.03100979920674\" y2=\"261.1893569340152\" stroke-linecap=\"round\" style=\"stroke:white;stroke-width:4\"/><line x1=\"414.03100979920674\" y1=\"261.1893569340152\" x2=\"412.6274139934387\" y2=\"259.7646047401126\" stroke-linecap=\"round\" style=\"stroke:white;stroke-width:4\"/><line x1=\"412.6274139934387\" y1=\"259.7646047401126\" x2=\"411.1818242657839\" y2=\"258.3824794421389\" stroke-linecap=\"round\" style=\"stroke:white;stroke-width:4\"/><line x1=\"411.1818242657839\" y1=\"258.3824794421389\" x2=\"409.6955346148291\" y2=\"257.04421822942123\" stroke-linecap=\"round\" style=\"stroke:white;stroke-width:4\"/><line x1=\"409.6955346148291\" y1=\"257.04421822942123\" x2=\"408.16987547110455\" y2=\"255.75101902698967\" stroke-linecap=\"round\" style=\"stroke:white;stroke-width:4\"/><line x1=\"408.16987547110455\" y1=\"255.75101902698967\" x2=\"406.60621250616845\" y2=\"254.50403942327225\" stroke-linecap=\"round\" style=\"stroke:white;stroke-width:4\"/><line x1=\"406.60621250616845\" y1=\"254.50403942327225\" x2=\"405.005945410146\" y2=\"253.30439563389646\" stroke-linecap=\"round\" style=\"stroke:white;stroke-width:4\"/><line x1=\"405.005945410146\" y1=\"253.30439563389646\" x2=\"403.3705066388171\" y2=\"252.15316150252517\" stroke-linecap=\"round\" style=\"stroke:white;stroke-width:4\"/><line x1=\"403.3705066388171\" y1=\"252.15316150252517\" x2=\"401.7013601313745\" y2=\"251.051367539621\" stroke-linecap=\"round\" style=\"stroke:white;stroke-width:4\"/><line x1=\"401.7013601313745\" y1=\"251.051367539621\" x2=\"399.9999999999998\" y2=\"250.00000000000003\" stroke-linecap=\"round\" style=\"stroke:white;stroke-width:4\"/><line x1=\"399.9999999999998\" y1=\"250.00000000000003\" x2=\"401.4142135623729\" y2=\"251.41421356237308\" stroke-linecap=\"round\" style=\"stroke:white;stroke-width:4\"/><line x1=\"401.4142135623729\" y1=\"251.41421356237308\" x2=\"402.8701010263927\" y2=\"252.78548731042991\" stroke-linecap=\"round\" style=\"stroke:white;stroke-width:4\"/><line x1=\"402.8701010263927\" y1=\"252.78548731042991\" x2=\"404.3663591756038\" y2=\"254.1125937684503\" stroke-linecap=\"round\" style=\"stroke:white;stroke-width:4\"/><line x1=\"404.3663591756038\" y1=\"254.1125937684503\" x2=\"405.9016486563199\" y2=\"255.3943449964203\" stroke-linecap=\"round\" style=\"stroke:white;stroke-width:4\"/><line x1=\"405.9016486563199\" y1=\"255.3943449964203\" x2=\"407.4745951765268\" y2=\"256.6295936533995\" stroke-linecap=\"round\" style=\"stroke:white;stroke-width:4\"/><line x1=\"407.4745951765268\" y1=\"256.6295936533995\" x2=\"409.08379073606017\" y2=\"257.8172340245465\" stroke-linecap=\"round\" style=\"stroke:white;stroke-width:4\"/><line x1=\"409.08379073606017\" y1=\"257.8172340245465\" x2=\"410.727794886956\" y2=\"258.95620301088337\" stroke-linecap=\"round\" style=\"stroke:white;stroke-width:4\"/><line x1=\"410.727794886956\" y1=\"258.95620301088337\" x2=\"412.4051360228469\" y2=\"260.04548108091336\" stroke-linecap=\"round\" style=\"stroke:white;stroke-width:4\"/><line x1=\"412.4051360228469\" y1=\"260.04548108091336\" x2=\"414.1143126962488\" y2=\"261.08409318323964\" stroke-linecap=\"round\" style=\"stroke:white;stroke-width:4\"/><line x1=\"414.1143126962488\" y1=\"261.08409318323964\" x2=\"415.85379496256024\" y2=\"262.0711096193683\" stroke-linecap=\"round\" style=\"stroke:white;stroke-width:4\"/><line x1=\"415.85379496256024\" y1=\"262.0711096193683\" x2=\"417.6220257495695\" y2=\"263.0056468759144\" stroke-linecap=\"round\" style=\"stroke:white;stroke-width:4\"/><line x1=\"417.6220257495695\" y1=\"263.0056468759144\" x2=\"419.4174222512454\" y2=\"263.88686841546615\" stroke-linecap=\"round\" style=\"stroke:white;stroke-width:4\"/><line x1=\"419.4174222512454\" y1=\"263.88686841546615\" x2=\"421.23837734456305\" y2=\"264.71398542539913\" stroke-linecap=\"round\" style=\"stroke:white;stroke-width:4\"/><line x1=\"421.23837734456305\" y1=\"264.71398542539913\" x2=\"423.0832610280965\" y2=\"265.48625752397055\" stroke-linecap=\"round\" style=\"stroke:white;stroke-width:4\"/><line x1=\"423.0832610280965\" y1=\"265.48625752397055\" x2=\"424.9504218810909\" y2=\"266.2029934230611\" stroke-linecap=\"round\" style=\"stroke:white;stroke-width:4\"/><line x1=\"424.9504218810909\" y1=\"266.2029934230611\" x2=\"426.83818854170767\" y2=\"266.8635515469714\" stroke-linecap=\"round\" style=\"stroke:white;stroke-width:4\"/><line x1=\"426.83818854170767\" y1=\"266.8635515469714\" x2=\"428.7448712031196\" y2=\"267.4673406067192\" stroke-linecap=\"round\" style=\"stroke:white;stroke-width:4\"/><line x1=\"428.7448712031196\" y1=\"267.4673406067192\" x2=\"430.668763126117\" y2=\"268.013820129323\" stroke-linecap=\"round\" style=\"stroke:white;stroke-width:4\"/><line x1=\"430.668763126117\" y1=\"268.013820129323\" x2=\"432.60814216687044\" y2=\"268.5025009415987\" stroke-linecap=\"round\" style=\"stroke:white;stroke-width:4\"/><line x1=\"432.60814216687044\" y1=\"268.5025009415987\" x2=\"434.5612723184824\" y2=\"268.93294560803594\" stroke-linecap=\"round\" style=\"stroke:white;stroke-width:4\"/><line x1=\"434.5612723184824\" y1=\"268.93294560803594\" x2=\"436.526405264949\" y2=\"269.3047688223617\" stroke-linecap=\"round\" style=\"stroke:white;stroke-width:4\"/><line x1=\"436.526405264949\" y1=\"269.3047688223617\" x2=\"438.50178194613926\" y2=\"269.61763775244214\" stroke-linecap=\"round\" style=\"stroke:white;stroke-width:4\"/><line x1=\"438.50178194613926\" y1=\"269.61763775244214\" x2=\"440.4856341323924\" y2=\"269.871272338212\" stroke-linecap=\"round\" style=\"stroke:white;stroke-width:4\"/><line x1=\"440.4856341323924\" y1=\"269.871272338212\" x2=\"442.47618600732267\" y2=\"270.06544554236655\" stroke-linecap=\"round\" style=\"stroke:white;stroke-width:4\"/><line x1=\"442.47618600732267\" y1=\"270.06544554236655\" x2=\"444.4716557574156\" y2=\"270.1999835535906\" stroke-linecap=\"round\" style=\"stroke:white;stroke-width:4\"/><line x1=\"444.4716557574156\" y1=\"270.1999835535906\" x2=\"446.4702571669924\" y2=\"270.2747659421432\" stroke-linecap=\"round\" style=\"stroke:white;stroke-width:4\"/><line x1=\"446.4702571669924\" y1=\"270.2747659421432\" x2=\"448.47020121711495\" y2=\"270.2897257676586\" stroke-linecap=\"round\" style=\"stroke:white;stroke-width:4\"/><line x1=\"448.47020121711495\" y1=\"270.2897257676586\" x2=\"450.46969768699995\" y2=\"270.2448496390669\" stroke-linecap=\"round\" style=\"stroke:white;stroke-width:4\"/><line x1=\"450.46969768699995\" y1=\"270.2448496390669\" x2=\"452.4669567565091\" y2=\"270.140177726581\" stroke-linecap=\"round\" style=\"stroke:white;stroke-width:4\"/><line x1=\"452.4669567565091\" y1=\"270.140177726581\" x2=\"454.4601906082804\" y2=\"269.9758037257385\" stroke-linecap=\"round\" style=\"stroke:white;stroke-width:4\"/><line x1=\"454.4601906082804\" y1=\"269.9758037257385\" x2=\"456.4476150280669\" y2=\"269.7518747735318\" stroke-linecap=\"round\" style=\"stroke:white;stroke-width:4\"/><line x1=\"456.4476150280669\" y1=\"269.7518747735318\" x2=\"458.42745100185\" y2=\"269.4685913167006\" stroke-linecap=\"round\" style=\"stroke:white;stroke-width:4\"/><line x1=\"458.42745100185\" y1=\"269.4685913167006\" x2=\"460.3979263082981\" y2=\"269.1262069323046\" stroke-linecap=\"round\" style=\"stroke:white;stroke-width:4\"/><line x1=\"460.3979263082981\" y1=\"269.1262069323046\" x2=\"462.3572771051446\" y2=\"268.72502810073803\" stroke-linecap=\"round\" style=\"stroke:white;stroke-width:4\"/><line x1=\"462.3572771051446\" y1=\"268.72502810073803\" x2=\"464.3037495080655\" y2=\"268.26541393138797\" stroke-linecap=\"round\" style=\"stroke:white;stroke-width:4\"/><line x1=\"464.3037495080655\" y1=\"268.26541393138797\" x2=\"462.8895359456924\" y2=\"266.8512003690149\" stroke-linecap=\"round\" style=\"stroke:white;stroke-width:4\"/><line x1=\"462.8895359456924\" y1=\"266.8512003690149\" x2=\"461.43364848167255\" y2=\"265.4799266209581\" stroke-linecap=\"round\" style=\"stroke:white;stroke-width:4\"/><line x1=\"461.43364848167255\" y1=\"265.4799266209581\" x2=\"459.93739033246146\" y2=\"264.1528201629377\" stroke-linecap=\"round\" style=\"stroke:white;stroke-width:4\"/><line x1=\"459.93739033246146\" y1=\"264.1528201629377\" x2=\"458.4021008517454\" y2=\"262.8710689349677\" stroke-linecap=\"round\" style=\"stroke:white;stroke-width:4\"/><line x1=\"458.4021008517454\" y1=\"262.8710689349677\" x2=\"456.82915433153846\" y2=\"261.6358202779885\" stroke-linecap=\"round\" style=\"stroke:white;stroke-width:4\"/><line x1=\"456.82915433153846\" y1=\"261.6358202779885\" x2=\"455.2199587720051\" y2=\"260.4481799068415\" stroke-linecap=\"round\" style=\"stroke:white;stroke-width:4\"/><line x1=\"455.2199587720051\" y1=\"260.4481799068415\" x2=\"453.57595462110925\" y2=\"259.30921092050465\" stroke-linecap=\"round\" style=\"stroke:white;stroke-width:4\"/><line x1=\"453.57595462110925\" y1=\"259.30921092050465\" x2=\"451.8986134852184\" y2=\"258.21993285047466\" stroke-linecap=\"round\" style=\"stroke:white;stroke-width:4\"/><line x1=\"451.8986134852184\" y1=\"258.21993285047466\" x2=\"450.18943681181645\" y2=\"257.1813207481484\" stroke-linecap=\"round\" style=\"stroke:white;stroke-width:4\"/><line x1=\"450.18943681181645\" y1=\"257.1813207481484\" x2=\"448.449954545505\" y2=\"256.1943043120197\" stroke-linecap=\"round\" style=\"stroke:white;stroke-width:4\"/><line x1=\"448.449954545505\" y1=\"256.1943043120197\" x2=\"446.68172375849576\" y2=\"255.25976705547365\" stroke-linecap=\"round\" style=\"stroke:white;stroke-width:4\"/><line x1=\"446.68172375849576\" y1=\"255.25976705547365\" x2=\"444.88632725681987\" y2=\"254.37854551592193\" stroke-linecap=\"round\" style=\"stroke:white;stroke-width:4\"/><line x1=\"444.88632725681987\" y1=\"254.37854551592193\" x2=\"443.0653721635022\" y2=\"253.55142850598892\" stroke-linecap=\"round\" style=\"stroke:white;stroke-width:4\"/><line x1=\"443.0653721635022\" y1=\"253.55142850598892\" x2=\"441.22048847996876\" y2=\"252.77915640741747\" stroke-linecap=\"round\" style=\"stroke:white;stroke-width:4\"/><line x1=\"441.22048847996876\" y1=\"252.77915640741747\" x2=\"439.35332762697436\" y2=\"252.06242050832694\" stroke-linecap=\"round\" style=\"stroke:white;stroke-width:4\"/><line x1=\"439.35332762697436\" y1=\"252.06242050832694\" x2=\"437.4655609663576\" y2=\"251.40186238441666\" stroke-linecap=\"round\" style=\"stroke:white;stroke-width:4\"/><line x1=\"437.4655609663576\" y1=\"251.40186238441666\" x2=\"435.55887830494567\" y2=\"250.7980733246689\" stroke-linecap=\"round\" style=\"stroke:white;stroke-width:4\"/><line x1=\"435.55887830494567\" y1=\"250.7980733246689\" x2=\"433.63498638194824\" y2=\"250.25159380206512\" stroke-linecap=\"round\" style=\"stroke:white;stroke-width:4\"/><line x1=\"433.63498638194824\" y1=\"250.25159380206512\" x2=\"431.69560734119483\" y2=\"249.76291298978938\" stroke-linecap=\"round\" style=\"stroke:white;stroke-width:4\"/><line x1=\"431.69560734119483\" y1=\"249.76291298978938\" x2=\"429.74247718958287\" y2=\"249.3324683233522\" stroke-linecap=\"round\" style=\"stroke:white;stroke-width:4\"/><line x1=\"429.74247718958287\" y1=\"249.3324683233522\" x2=\"427.77734424311626\" y2=\"248.96064510902642\" stroke-linecap=\"round\" style=\"stroke:white;stroke-width:4\"/><line x1=\"427.77734424311626\" y1=\"248.96064510902642\" x2=\"425.80196756192595\" y2=\"248.647776178946\" stroke-linecap=\"round\" style=\"stroke:white;stroke-width:4\"/><line x1=\"425.80196756192595\" y1=\"248.647776178946\" x2=\"423.8181153756728\" y2=\"248.39414159317616\" stroke-linecap=\"round\" style=\"stroke:white;stroke-width:4\"/><line x1=\"423.8181153756728\" y1=\"248.39414159317616\" x2=\"421.82756350074254\" y2=\"248.19996838902165\" stroke-linecap=\"round\" style=\"stroke:white;stroke-width:4\"/><line x1=\"421.82756350074254\" y1=\"248.19996838902165\" x2=\"419.8320937506496\" y2=\"248.06543037779764\" stroke-linecap=\"round\" style=\"stroke:white;stroke-width:4\"/><line x1=\"419.8320937506496\" y1=\"248.06543037779764\" x2=\"417.8334923410728\" y2=\"247.99064798924505\" stroke-linecap=\"round\" style=\"stroke:white;stroke-width:4\"/><line x1=\"417.8334923410728\" y1=\"247.99064798924505\" x2=\"415.83354829095026\" y2=\"247.97568816372964\" stroke-linecap=\"round\" style=\"stroke:white;stroke-width:4\"/><line x1=\"415.83354829095026\" y1=\"247.97568816372964\" x2=\"413.83405182106526\" y2=\"248.02056429232132\" stroke-linecap=\"round\" style=\"stroke:white;stroke-width:4\"/><line x1=\"413.83405182106526\" y1=\"248.02056429232132\" x2=\"411.8367927515561\" y2=\"248.12523620480727\" stroke-linecap=\"round\" style=\"stroke:white;stroke-width:4\"/><line x1=\"411.8367927515561\" y1=\"248.12523620480727\" x2=\"409.84355889978485\" y2=\"248.28961020564978\" stroke-linecap=\"round\" style=\"stroke:white;stroke-width:4\"/><line x1=\"409.84355889978485\" y1=\"248.28961020564978\" x2=\"407.8561344799984\" y2=\"248.51353915785646\" stroke-linecap=\"round\" style=\"stroke:white;stroke-width:4\"/><line x1=\"407.8561344799984\" y1=\"248.51353915785646\" x2=\"405.8762985062153\" y2=\"248.7968226146877\" stroke-linecap=\"round\" style=\"stroke:white;stroke-width:4\"/><line x1=\"405.8762985062153\" y1=\"248.7968226146877\" x2=\"403.90582319976716\" y2=\"249.1392069990837\" stroke-linecap=\"round\" style=\"stroke:white;stroke-width:4\"/><line x1=\"403.90582319976716\" y1=\"249.1392069990837\" x2=\"401.9464724029207\" y2=\"249.5403858306503\" stroke-linecap=\"round\" style=\"stroke:white;stroke-width:4\"/><line x1=\"401.9464724029207\" y1=\"249.5403858306503\" x2=\"399.9999999999998\" y2=\"250.0000000000004\" stroke-linecap=\"round\" style=\"stroke:white;stroke-width:4\"/><line x1=\"399.9999999999998\" y1=\"250.0000000000004\" x2=\"401.9999999999998\" y2=\"250.00000000000034\" stroke-linecap=\"round\" style=\"stroke:white;stroke-width:4\"/><line x1=\"401.9999999999998\" y1=\"250.00000000000034\" x2=\"403.9991048645668\" y2=\"249.9401690676615\" stroke-linecap=\"round\" style=\"stroke:white;stroke-width:4\"/><line x1=\"403.9991048645668\" y1=\"249.9401690676615\" x2=\"405.99552512410224\" y2=\"249.82056075977135\" stroke-linecap=\"round\" style=\"stroke:white;stroke-width:4\"/><line x1=\"405.99552512410224\" y1=\"249.82056075977135\" x2=\"407.9874737120927\" y2=\"249.6412821419644\" stroke-linecap=\"round\" style=\"stroke:white;stroke-width:4\"/><line x1=\"407.9874737120927\" y1=\"249.6412821419644\" x2=\"409.97316756477636\" y2=\"249.40249369288387\" stroke-linecap=\"round\" style=\"stroke:white;stroke-width:4\"/><line x1=\"409.97316756477636\" y1=\"249.40249369288387\" x2=\"411.9508292172266\" y2=\"249.10440916053145\" stroke-linecap=\"round\" style=\"stroke:white;stroke-width:4\"/><line x1=\"411.9508292172266\" y1=\"249.10440916053145\" x2=\"413.91868839442384\" y2=\"248.74729537093413\" stroke-linecap=\"round\" style=\"stroke:white;stroke-width:4\"/><line x1=\"413.91868839442384\" y1=\"248.74729537093413\" x2=\"415.8749835958914\" y2=\"248.33147198929854\" stroke-linecap=\"round\" style=\"stroke:white;stroke-width:4\"/><line x1=\"415.8749835958914\" y1=\"248.33147198929854\" x2=\"417.81796367247716\" y2=\"247.85731123386748\" stroke-linecap=\"round\" style=\"stroke:white;stroke-width:4\"/><line x1=\"417.81796367247716\" y1=\"247.85731123386748\" x2=\"419.7458893938689\" y2=\"247.32523754273407\" stroke-linecap=\"round\" style=\"stroke:white;stroke-width:4\"/><line x1=\"419.7458893938689\" y1=\"247.32523754273407\" x2=\"421.6570350054411\" y2=\"246.7357271939122\" stroke-linecap=\"round\" style=\"stroke:white;stroke-width:4\"/><line x1=\"421.6570350054411\" y1=\"246.7357271939122\" x2=\"423.5496897730394\" y2=\"246.08930787900323\" stroke-linecap=\"round\" style=\"stroke:white;stroke-width:4\"/><line x1=\"423.5496897730394\" y1=\"246.08930787900323\" x2=\"425.4221595143189\" y2=\"245.38655823084048\" stroke-linecap=\"round\" style=\"stroke:white;stroke-width:4\"/><line x1=\"425.4221595143189\" y1=\"245.38655823084048\" x2=\"427.27276811526684\" y2=\"244.62810730553457\" stroke-linecap=\"round\" style=\"stroke:white;stroke-width:4\"/><line x1=\"427.27276811526684\" y1=\"244.62810730553457\" x2=\"429.099859030552\" y2=\"243.8146340193829\" stroke-linecap=\"round\" style=\"stroke:white;stroke-width:4\"/><line x1=\"429.099859030552\" y1=\"243.8146340193829\" x2=\"430.9017967663568\" y2=\"242.94686654114773\" stroke-linecap=\"round\" style=\"stroke:white;stroke-width:4\"/><line x1=\"430.9017967663568\" y1=\"242.94686654114773\" x2=\"432.6769683443659\" y2=\"242.0255816402464\" stroke-linecap=\"round\" style=\"stroke:white;stroke-width:4\"/><line x1=\"432.6769683443659\" y1=\"242.0255816402464\" x2=\"434.42378474560013\" y2=\"241.05160399143762\" stroke-linecap=\"round\" style=\"stroke:white;stroke-width:4\"/><line x1=\"434.42378474560013\" y1=\"241.05160399143762\" x2=\"436.1406823328038\" y2=\"240.02580543662575\" stroke-linecap=\"round\" style=\"stroke:white;stroke-width:4\"/><line x1=\"436.1406823328038\" y1=\"240.02580543662575\" x2=\"437.82612425011183\" y2=\"238.94910420444432\" stroke-linecap=\"round\" style=\"stroke:white;stroke-width:4\"/><line x1=\"437.82612425011183\" y1=\"238.94910420444432\" x2=\"439.4786017987438\" y2=\"237.82246408831702\" stroke-linecap=\"round\" style=\"stroke:white;stroke-width:4\"/><line x1=\"439.4786017987438\" y1=\"237.82246408831702\" x2=\"441.09663578749365\" y2=\"236.646893583732\" stroke-linecap=\"round\" style=\"stroke:white;stroke-width:4\"/><line x1=\"441.09663578749365\" y1=\"236.646893583732\" x2=\"442.6787778568063\" y2=\"235.42344498550193\" stroke-linecap=\"round\" style=\"stroke:white;stroke-width:4\"/><line x1=\"442.6787778568063\" y1=\"235.42344498550193\" x2=\"444.22361177525545\" y2=\"234.15321344581753\" stroke-linecap=\"round\" style=\"stroke:white;stroke-width:4\"/><line x1=\"444.22361177525545\" y1=\"234.15321344581753\" x2=\"445.7297547072626\" y2=\"232.83733599393804\" stroke-linecap=\"round\" style=\"stroke:white;stroke-width:4\"/><line x1=\"445.7297547072626\" y1=\"232.83733599393804\" x2=\"447.19585845092223\" y2=\"231.47699051839615\" stroke-linecap=\"round\" style=\"stroke:white;stroke-width:4\"/><line x1=\"447.19585845092223\" y1=\"231.47699051839615\" x2=\"448.62061064482486\" y2=\"230.07339471262813\" stroke-linecap=\"round\" style=\"stroke:white;stroke-width:4\"/><line x1=\"448.62061064482486\" y1=\"230.07339471262813\" x2=\"450.00273594279855\" y2=\"228.6278049849733\" stroke-linecap=\"round\" style=\"stroke:white;stroke-width:4\"/><line x1=\"450.00273594279855\" y1=\"228.6278049849733\" x2=\"451.3409971555162\" y2=\"227.14151533401846\" stroke-linecap=\"round\" style=\"stroke:white;stroke-width:4\"/><line x1=\"451.3409971555162\" y1=\"227.14151533401846\" x2=\"452.63419635794776\" y2=\"225.6158561902939\" stroke-linecap=\"round\" style=\"stroke:white;stroke-width:4\"/><line x1=\"452.63419635794776\" y1=\"225.6158561902939\" x2=\"453.8811759616652\" y2=\"224.0521932253578\" stroke-linecap=\"round\" style=\"stroke:white;stroke-width:4\"/><line x1=\"453.8811759616652\" y1=\"224.0521932253578\" x2=\"455.08081975104096\" y2=\"222.45192612933533\" stroke-linecap=\"round\" style=\"stroke:white;stroke-width:4\"/><line x1=\"455.08081975104096\" y1=\"222.45192612933533\" x2=\"456.23205388241223\" y2=\"220.81648735800644\" stroke-linecap=\"round\" style=\"stroke:white;stroke-width:4\"/><line x1=\"456.23205388241223\" y1=\"220.81648735800644\" x2=\"457.33384784531637\" y2=\"219.1473408505638\" stroke-linecap=\"round\" style=\"stroke:white;stroke-width:4\"/><line x1=\"457.33384784531637\" y1=\"219.1473408505638\" x2=\"458.38521538493734\" y2=\"217.4459807191891\" stroke-linecap=\"round\" style=\"stroke:white;stroke-width:4\"/><line x1=\"458.38521538493734\" y1=\"217.4459807191891\" x2=\"456.38521538493734\" y2=\"217.44598071918918\" stroke-linecap=\"round\" style=\"stroke:white;stroke-width:4\"/><line x1=\"456.38521538493734\" y1=\"217.44598071918918\" x2=\"454.3861105203703\" y2=\"217.50581165152803\" stroke-linecap=\"round\" style=\"stroke:white;stroke-width:4\"/><line x1=\"454.3861105203703\" y1=\"217.50581165152803\" x2=\"452.38969026083487\" y2=\"217.62541995941817\" stroke-linecap=\"round\" style=\"stroke:white;stroke-width:4\"/><line x1=\"452.38969026083487\" y1=\"217.62541995941817\" x2=\"450.3977416728444\" y2=\"217.8046985772251\" stroke-linecap=\"round\" style=\"stroke:white;stroke-width:4\"/><line x1=\"450.3977416728444\" y1=\"217.8046985772251\" x2=\"448.41204782016075\" y2=\"218.04348702630568\" stroke-linecap=\"round\" style=\"stroke:white;stroke-width:4\"/><line x1=\"448.41204782016075\" y1=\"218.04348702630568\" x2=\"446.4343861677105\" y2=\"218.3415715586581\" stroke-linecap=\"round\" style=\"stroke:white;stroke-width:4\"/><line x1=\"446.4343861677105\" y1=\"218.3415715586581\" x2=\"444.4665269905133\" y2=\"218.69868534825545\" stroke-linecap=\"round\" style=\"stroke:white;stroke-width:4\"/><line x1=\"444.4665269905133\" y1=\"218.69868534825545\" x2=\"442.5102317890457\" y2=\"219.11450872989104\" stroke-linecap=\"round\" style=\"stroke:white;stroke-width:4\"/><line x1=\"442.5102317890457\" y1=\"219.11450872989104\" x2=\"440.56725171245995\" y2=\"219.5886694853221\" stroke-linecap=\"round\" style=\"stroke:white;stroke-width:4\"/><line x1=\"440.56725171245995\" y1=\"219.5886694853221\" x2=\"438.6393259910683\" y2=\"220.12074317645553\" stroke-linecap=\"round\" style=\"stroke:white;stroke-width:4\"/><line x1=\"438.6393259910683\" y1=\"220.12074317645553\" x2=\"436.72818037949605\" y2=\"220.7102535252774\" stroke-linecap=\"round\" style=\"stroke:white;stroke-width:4\"/><line x1=\"436.72818037949605\" y1=\"220.7102535252774\" x2=\"434.83552561189776\" y2=\"221.3566728401864\" stroke-linecap=\"round\" style=\"stroke:white;stroke-width:4\"/><line x1=\"434.83552561189776\" y1=\"221.3566728401864\" x2=\"432.9630558706183\" y2=\"222.05942248834916\" stroke-linecap=\"round\" style=\"stroke:white;stroke-width:4\"/><line x1=\"432.9630558706183\" y1=\"222.05942248834916\" x2=\"431.1124472696703\" y2=\"222.8178734136551\" stroke-linecap=\"round\" style=\"stroke:white;stroke-width:4\"/><line x1=\"431.1124472696703\" y1=\"222.8178734136551\" x2=\"429.28535635438516\" y2=\"223.63134669980676\" stroke-linecap=\"round\" style=\"stroke:white;stroke-width:4\"/><line x1=\"429.28535635438516\" y1=\"223.63134669980676\" x2=\"427.48341861858034\" y2=\"224.49911417804194\" stroke-linecap=\"round\" style=\"stroke:white;stroke-width:4\"/><line x1=\"427.48341861858034\" y1=\"224.49911417804194\" x2=\"425.7082470405713\" y2=\"225.42039907894326\" stroke-linecap=\"round\" style=\"stroke:white;stroke-width:4\"/><line x1=\"425.7082470405713\" y1=\"225.42039907894326\" x2=\"423.96143063933704\" y2=\"226.39437672775207\" stroke-linecap=\"round\" style=\"stroke:white;stroke-width:4\"/><line x1=\"423.96143063933704\" y1=\"226.39437672775207\" x2=\"422.24453305213336\" y2=\"227.42017528256395\" stroke-linecap=\"round\" style=\"stroke:white;stroke-width:4\"/><line x1=\"422.24453305213336\" y1=\"227.42017528256395\" x2=\"420.55909113482534\" y2=\"228.49687651474537\" stroke-linecap=\"round\" style=\"stroke:white;stroke-width:4\"/><line x1=\"420.55909113482534\" y1=\"228.49687651474537\" x2=\"418.9066135861934\" y2=\"229.62351663087267\" stroke-linecap=\"round\" style=\"stroke:white;stroke-width:4\"/><line x1=\"418.9066135861934\" y1=\"229.62351663087267\" x2=\"417.2885795974435\" y2=\"230.79908713545768\" stroke-linecap=\"round\" style=\"stroke:white;stroke-width:4\"/><line x1=\"417.2885795974435\" y1=\"230.79908713545768\" x2=\"415.7064375281309\" y2=\"232.02253573368776\" stroke-linecap=\"round\" style=\"stroke:white;stroke-width:4\"/><line x1=\"415.7064375281309\" y1=\"232.02253573368776\" x2=\"414.1616036096817\" y2=\"233.2927672733722\" stroke-linecap=\"round\" style=\"stroke:white;stroke-width:4\"/><line x1=\"414.1616036096817\" y1=\"233.2927672733722\" x2=\"412.65546067767457\" y2=\"234.60864472525168\" stroke-linecap=\"round\" style=\"stroke:white;stroke-width:4\"/><line x1=\"412.65546067767457\" y1=\"234.60864472525168\" x2=\"411.189356934015\" y2=\"235.96899020079357\" stroke-linecap=\"round\" style=\"stroke:white;stroke-width:4\"/><line x1=\"411.189356934015\" y1=\"235.96899020079357\" x2=\"409.76460474011236\" y2=\"237.37258600656162\" stroke-linecap=\"round\" style=\"stroke:white;stroke-width:4\"/><line x1=\"409.76460474011236\" y1=\"237.37258600656162\" x2=\"408.3824794421387\" y2=\"238.81817573421645\" stroke-linecap=\"round\" style=\"stroke:white;stroke-width:4\"/><line x1=\"408.3824794421387\" y1=\"238.81817573421645\" x2=\"407.044218229421\" y2=\"240.30446538517128\" stroke-linecap=\"round\" style=\"stroke:white;stroke-width:4\"/><line x1=\"407.044218229421\" y1=\"240.30446538517128\" x2=\"405.75101902698947\" y2=\"241.83012452889588\" stroke-linecap=\"round\" style=\"stroke:white;stroke-width:4\"/><line x1=\"405.75101902698947\" y1=\"241.83012452889588\" x2=\"404.50403942327205\" y2=\"243.39378749383198\" stroke-linecap=\"round\" style=\"stroke:white;stroke-width:4\"/><line x1=\"404.50403942327205\" y1=\"243.39378749383198\" x2=\"403.30439563389626\" y2=\"244.99405458985444\" stroke-linecap=\"round\" style=\"stroke:white;stroke-width:4\"/><line x1=\"403.30439563389626\" y1=\"244.99405458985444\" x2=\"402.153161502525\" y2=\"246.62949336118336\" stroke-linecap=\"round\" style=\"stroke:white;stroke-width:4\"/><line x1=\"402.153161502525\" y1=\"246.62949336118336\" x2=\"401.05136753962086\" y2=\"248.29863986862603\" stroke-linecap=\"round\" style=\"stroke:white;stroke-width:4\"/><line x1=\"401.05136753962086\" y1=\"248.29863986862603\" x2=\"399.9999999999999\" y2=\"250.00000000000074\" stroke-linecap=\"round\" style=\"stroke:white;stroke-width:4\"/><line x1=\"399.9999999999999\" y1=\"250.00000000000074\" x2=\"401.41421356237294\" y2=\"248.58578643762758\" stroke-linecap=\"round\" style=\"stroke:white;stroke-width:4\"/><line x1=\"401.41421356237294\" y1=\"248.58578643762758\" x2=\"402.78548731042974\" y2=\"247.1298989736077\" stroke-linecap=\"round\" style=\"stroke:white;stroke-width:4\"/><line x1=\"402.78548731042974\" y1=\"247.1298989736077\" x2=\"404.1125937684501\" y2=\"245.6336408243966\" stroke-linecap=\"round\" style=\"stroke:white;stroke-width:4\"/><line x1=\"404.1125937684501\" y1=\"245.6336408243966\" x2=\"405.3943449964201\" y2=\"244.09835134368052\" stroke-linecap=\"round\" style=\"stroke:white;stroke-width:4\"/><line x1=\"405.3943449964201\" y1=\"244.09835134368052\" x2=\"406.6295936533993\" y2=\"242.52540482347356\" stroke-linecap=\"round\" style=\"stroke:white;stroke-width:4\"/><line x1=\"406.6295936533993\" y1=\"242.52540482347356\" x2=\"407.8172340245462\" y2=\"240.91620926394017\" stroke-linecap=\"round\" style=\"stroke:white;stroke-width:4\"/><line x1=\"407.8172340245462\" y1=\"240.91620926394017\" x2=\"408.9562030108831\" y2=\"239.27220511304432\" stroke-linecap=\"round\" style=\"stroke:white;stroke-width:4\"/><line x1=\"408.9562030108831\" y1=\"239.27220511304432\" x2=\"410.0454810809131\" y2=\"237.59486397715344\" stroke-linecap=\"round\" style=\"stroke:white;stroke-width:4\"/><line x1=\"410.0454810809131\" y1=\"237.59486397715344\" x2=\"411.08409318323936\" y2=\"235.88568730375147\" stroke-linecap=\"round\" style=\"stroke:white;stroke-width:4\"/><line x1=\"411.08409318323936\" y1=\"235.88568730375147\" x2=\"412.071109619368\" y2=\"234.14620503744004\" stroke-linecap=\"round\" style=\"stroke:white;stroke-width:4\"/><line x1=\"412.071109619368\" y1=\"234.14620503744004\" x2=\"413.005646875914\" y2=\"232.37797425043078\" stroke-linecap=\"round\" style=\"stroke:white;stroke-width:4\"/><line x1=\"413.005646875914\" y1=\"232.37797425043078\" x2=\"413.8868684154657\" y2=\"230.58257774875486\" stroke-linecap=\"round\" style=\"stroke:white;stroke-width:4\"/><line x1=\"413.8868684154657\" y1=\"230.58257774875486\" x2=\"414.7139854253987\" y2=\"228.76162265543718\" stroke-linecap=\"round\" style=\"stroke:white;stroke-width:4\"/><line x1=\"414.7139854253987\" y1=\"228.76162265543718\" x2=\"415.4862575239701\" y2=\"226.9167389719037\" stroke-linecap=\"round\" style=\"stroke:white;stroke-width:4\"/><line x1=\"415.4862575239701\" y1=\"226.9167389719037\" x2=\"416.2029934230606\" y2=\"225.04957811890927\" stroke-linecap=\"round\" style=\"stroke:white;stroke-width:4\"/><line x1=\"416.2029934230606\" y1=\"225.04957811890927\" x2=\"416.8635515469709\" y2=\"223.1618114582925\" stroke-linecap=\"round\" style=\"stroke:white;stroke-width:4\"/><line x1=\"416.8635515469709\" y1=\"223.1618114582925\" x2=\"417.4673406067186\" y2=\"221.25512879688054\" stroke-linecap=\"round\" style=\"stroke:white;stroke-width:4\"/><line x1=\"417.4673406067186\" y1=\"221.25512879688054\" x2=\"418.01382012932237\" y2=\"219.3312368738831\" stroke-linecap=\"round\" style=\"stroke:white;stroke-width:4\"/><line x1=\"418.01382012932237\" y1=\"219.3312368738831\" x2=\"418.5025009415981\" y2=\"217.39185783312973\" stroke-linecap=\"round\" style=\"stroke:white;stroke-width:4\"/><line x1=\"418.5025009415981\" y1=\"217.39185783312973\" x2=\"418.93294560803525\" y2=\"215.43872768151778\" stroke-linecap=\"round\" style=\"stroke:white;stroke-width:4\"/><line x1=\"418.93294560803525\" y1=\"215.43872768151778\" x2=\"419.304768822361\" y2=\"213.4735947350512\" stroke-linecap=\"round\" style=\"stroke:white;stroke-width:4\"/><line x1=\"419.304768822361\" y1=\"213.4735947350512\" x2=\"419.61763775244134\" y2=\"211.4982180538609\" stroke-linecap=\"round\" style=\"stroke:white;stroke-width:4\"/><line x1=\"419.61763775244134\" y1=\"211.4982180538609\" x2=\"419.87127233821116\" y2=\"209.51436586760778\" stroke-linecap=\"round\" style=\"stroke:white;stroke-width:4\"/><line x1=\"419.87127233821116\" y1=\"209.51436586760778\" x2=\"420.06544554236564\" y2=\"207.52381399267753\" stroke-linecap=\"round\" style=\"stroke:white;stroke-width:4\"/><line x1=\"420.06544554236564\" y1=\"207.52381399267753\" x2=\"420.1999835535896\" y2=\"205.5283442425846\" stroke-linecap=\"round\" style=\"stroke:white;stroke-width:4\"/><line x1=\"420.1999835535896\" y1=\"205.5283442425846\" x2=\"420.2747659421422\" y2=\"203.52974283300782\" stroke-linecap=\"round\" style=\"stroke:white;stroke-width:4\"/><line x1=\"420.2747659421422\" y1=\"203.52974283300782\" x2=\"420.2897257676576\" y2=\"201.52979878288528\" stroke-linecap=\"round\" style=\"stroke:white;stroke-width:4\"/><line x1=\"420.2897257676576\" y1=\"201.52979878288528\" x2=\"420.24484963906593\" y2=\"199.53030231300028\" stroke-linecap=\"round\" style=\"stroke:white;stroke-width:4\"/><line x1=\"420.24484963906593\" y1=\"199.53030231300028\" x2=\"420.14017772657996\" y2=\"197.53304324349114\" stroke-linecap=\"round\" style=\"stroke:white;stroke-width:4\"/><line x1=\"420.14017772657996\" y1=\"197.53304324349114\" x2=\"419.9758037257374\" y2=\"195.53980939171984\" stroke-linecap=\"round\" style=\"stroke:white;stroke-width:4\"/><line x1=\"419.9758037257374\" y1=\"195.53980939171984\" x2=\"419.75187477353074\" y2=\"193.55238497193338\" stroke-linecap=\"round\" style=\"stroke:white;stroke-width:4\"/><line x1=\"419.75187477353074\" y1=\"193.55238497193338\" x2=\"419.4685913166995\" y2=\"191.57254899815027\" stroke-linecap=\"round\" style=\"stroke:white;stroke-width:4\"/><line x1=\"419.4685913166995\" y1=\"191.57254899815027\" x2=\"419.12620693230343\" y2=\"189.60207369170217\" stroke-linecap=\"round\" style=\"stroke:white;stroke-width:4\"/><line x1=\"419.12620693230343\" y1=\"189.60207369170217\" x2=\"418.7250281007368\" y2=\"187.64272289485572\" stroke-linecap=\"round\" style=\"stroke:white;stroke-width:4\"/><line x1=\"418.7250281007368\" y1=\"187.64272289485572\" x2=\"418.26541393138666\" y2=\"185.69625049193485\" stroke-linecap=\"round\" style=\"stroke:white;stroke-width:4\"/><line x1=\"418.26541393138666\" y1=\"185.69625049193485\" x2=\"416.8512003690136\" y2=\"187.110464054308\" stroke-linecap=\"round\" style=\"stroke:white;stroke-width:4\"/><line x1=\"416.8512003690136\" y1=\"187.110464054308\" x2=\"415.4799266209568\" y2=\"188.5663515183279\" stroke-linecap=\"round\" style=\"stroke:white;stroke-width:4\"/><line x1=\"415.4799266209568\" y1=\"188.5663515183279\" x2=\"414.15282016293645\" y2=\"190.06260966753902\" stroke-linecap=\"round\" style=\"stroke:white;stroke-width:4\"/><line x1=\"414.15282016293645\" y1=\"190.06260966753902\" x2=\"412.87106893496644\" y2=\"191.5978991482551\" stroke-linecap=\"round\" style=\"stroke:white;stroke-width:4\"/><line x1=\"412.87106893496644\" y1=\"191.5978991482551\" x2=\"411.6358202779873\" y2=\"193.17084566846205\" stroke-linecap=\"round\" style=\"stroke:white;stroke-width:4\"/><line x1=\"411.6358202779873\" y1=\"193.17084566846205\" x2=\"410.4481799068404\" y2=\"194.78004122799544\" stroke-linecap=\"round\" style=\"stroke:white;stroke-width:4\"/><line x1=\"410.4481799068404\" y1=\"194.78004122799544\" x2=\"409.3092109205036\" y2=\"196.42404537889132\" stroke-linecap=\"round\" style=\"stroke:white;stroke-width:4\"/><line x1=\"409.3092109205036\" y1=\"196.42404537889132\" x2=\"408.2199328504736\" y2=\"198.1013865147822\" stroke-linecap=\"round\" style=\"stroke:white;stroke-width:4\"/><line x1=\"408.2199328504736\" y1=\"198.1013865147822\" x2=\"407.1813207481473\" y2=\"199.81056318818418\" stroke-linecap=\"round\" style=\"stroke:white;stroke-width:4\"/><line x1=\"407.1813207481473\" y1=\"199.81056318818418\" x2=\"406.1943043120187\" y2=\"201.5500454544956\" stroke-linecap=\"round\" style=\"stroke:white;stroke-width:4\"/><line x1=\"406.1943043120187\" y1=\"201.5500454544956\" x2=\"405.25976705547265\" y2=\"203.31827624150486\" stroke-linecap=\"round\" style=\"stroke:white;stroke-width:4\"/><line x1=\"405.25976705547265\" y1=\"203.31827624150486\" x2=\"404.37854551592096\" y2=\"205.11367274318079\" stroke-linecap=\"round\" style=\"stroke:white;stroke-width:4\"/><line x1=\"404.37854551592096\" y1=\"205.11367274318079\" x2=\"403.551428505988\" y2=\"206.93462783649846\" stroke-linecap=\"round\" style=\"stroke:white;stroke-width:4\"/><line x1=\"403.551428505988\" y1=\"206.93462783649846\" x2=\"402.77915640741656\" y2=\"208.77951152003195\" stroke-linecap=\"round\" style=\"stroke:white;stroke-width:4\"/><line x1=\"402.77915640741656\" y1=\"208.77951152003195\" x2=\"402.06242050832606\" y2=\"210.64667237302638\" stroke-linecap=\"round\" style=\"stroke:white;stroke-width:4\"/><line x1=\"402.06242050832606\" y1=\"210.64667237302638\" x2=\"401.4018623844158\" y2=\"212.53443903364314\" stroke-linecap=\"round\" style=\"stroke:white;stroke-width:4\"/><line x1=\"401.4018623844158\" y1=\"212.53443903364314\" x2=\"400.79807332466805\" y2=\"214.4411216950551\" stroke-linecap=\"round\" style=\"stroke:white;stroke-width:4\"/><line x1=\"400.79807332466805\" y1=\"214.4411216950551\" x2=\"400.2515938020643\" y2=\"216.36501361805253\" stroke-linecap=\"round\" style=\"stroke:white;stroke-width:4\"/><line x1=\"400.2515938020643\" y1=\"216.36501361805253\" x2=\"399.7629129897886\" y2=\"218.30439265880594\" stroke-linecap=\"round\" style=\"stroke:white;stroke-width:4\"/><line x1=\"399.7629129897886\" y1=\"218.30439265880594\" x2=\"399.33246832335146\" y2=\"220.2575228104179\" stroke-linecap=\"round\" style=\"stroke:white;stroke-width:4\"/><line x1=\"399.33246832335146\" y1=\"220.2575228104179\" x2=\"398.96064510902573\" y2=\"222.22265575688448\" stroke-linecap=\"round\" style=\"stroke:white;stroke-width:4\"/><line x1=\"398.96064510902573\" y1=\"222.22265575688448\" x2=\"398.6477761789454\" y2=\"224.19803243807476\" stroke-linecap=\"round\" style=\"stroke:white;stroke-width:4\"/><line x1=\"398.6477761789454\" y1=\"224.19803243807476\" x2=\"398.39414159317556\" y2=\"226.1818846243279\" stroke-linecap=\"round\" style=\"stroke:white;stroke-width:4\"/><line x1=\"398.39414159317556\" y1=\"226.1818846243279\" x2=\"398.1999683890211\" y2=\"228.17243649925814\" stroke-linecap=\"round\" style=\"stroke:white;stroke-width:4\"/><line x1=\"398.1999683890211\" y1=\"228.17243649925814\" x2=\"398.0654303777971\" y2=\"230.16790624935106\" stroke-linecap=\"round\" style=\"stroke:white;stroke-width:4\"/><line x1=\"398.0654303777971\" y1=\"230.16790624935106\" x2=\"397.9906479892445\" y2=\"232.16650765892786\" stroke-linecap=\"round\" style=\"stroke:white;stroke-width:4\"/><line x1=\"397.9906479892445\" y1=\"232.16650765892786\" x2=\"397.9756881637291\" y2=\"234.1664517090504\" stroke-linecap=\"round\" style=\"stroke:white;stroke-width:4\"/><line x1=\"397.9756881637291\" y1=\"234.1664517090504\" x2=\"398.0205642923208\" y2=\"236.1659481789354\" stroke-linecap=\"round\" style=\"stroke:white;stroke-width:4\"/><line x1=\"398.0205642923208\" y1=\"236.1659481789354\" x2=\"398.12523620480675\" y2=\"238.16320724844454\" stroke-linecap=\"round\" style=\"stroke:white;stroke-width:4\"/><line x1=\"398.12523620480675\" y1=\"238.16320724844454\" x2=\"398.2896102056493\" y2=\"240.15644110021583\" stroke-linecap=\"round\" style=\"stroke:white;stroke-width:4\"/><line x1=\"398.2896102056493\" y1=\"240.15644110021583\" x2=\"398.513539157856\" y2=\"242.1438655200023\" stroke-linecap=\"round\" style=\"stroke:white;stroke-width:4\"/><line x1=\"398.513539157856\" y1=\"242.1438655200023\" x2=\"398.79682261468724\" y2=\"244.1237014937854\" stroke-linecap=\"round\" style=\"stroke:white;stroke-width:4\"/><line x1=\"398.79682261468724\" y1=\"244.1237014937854\" x2=\"399.1392069990833\" y2=\"246.0941768002335\" stroke-linecap=\"round\" style=\"stroke:white;stroke-width:4\"/><line x1=\"399.1392069990833\" y1=\"246.0941768002335\" x2=\"399.54038583064994\" y2=\"248.05352759707995\" stroke-linecap=\"round\" style=\"stroke:white;stroke-width:4\"/><line x1=\"399.54038583064994\" y1=\"248.05352759707995\" x2=\"400.00000000000006\" y2=\"250.00000000000082\" stroke-linecap=\"round\" style=\"stroke:white;stroke-width:4\"/>\n",
              "        \n",
              "      <g visibility=visible transform=\"rotate(179.9999999999976,400.00000000000006,250.00000000000082) translate(400.00000000000006, 250.00000000000082)\">\n",
              "        <circle stroke=\"white\" stroke-width=\"3\" fill=\"transparent\" r=\"12\" cx=\"0\" cy=\"0\"/>\n",
              "        <polygon points=\"0,19 3,16 -3,16\" style=\"fill:white;stroke:white;stroke-width:2\"/>\n",
              "      </g>\n",
              "    \n",
              "      </svg>\n",
              "    "
            ],
            "text/plain": [
              "<IPython.core.display.HTML object>"
            ]
          },
          "metadata": {
            "tags": []
          }
        }
      ]
    },
    {
      "cell_type": "markdown",
      "metadata": {
        "id": "XBjk0hy0cX5L"
      },
      "source": [
        "2. Escreva um conjunto apropriadamente geral de funções que podem desenhar formas como na figura:\n",
        "![shapes](https://github.com/malbouis/Python_intro/blob/master/aulas_2019/pics/shapes_turtle.png?raw=1)\n",
        "\n",
        "Veja mais exercícios em: \n",
        "\n",
        "http://greenteapress.com/thinkpython2/html/thinkpython2005.html#sec42\n",
        "\n",
        "http://dfnae.fis.uerj.br/twiki/bin/view/DFNAE/IntroPython#Aula_6\n"
      ]
    },
    {
      "cell_type": "code",
      "metadata": {
        "id": "3Hp9e9v-cXZr",
        "outputId": "037e7718-7c8e-48ff-aff0-ca4e886d645b",
        "colab": {
          "base_uri": "https://localhost:8080/",
          "height": 521
        }
      },
      "source": [
        "def poligono(t, length, n):\n",
        "  for i in range(n):\n",
        "        t.forward(length)\n",
        "        t.left(360/n*2)\n",
        "        t.forward(100)\n",
        "        t.left(180)\n",
        "        t.forward(100)\n",
        "        t.left(360/n*2)\n",
        "\n",
        "joana = ColabTurtle.Turtle\n",
        "joana.initializeTurtle()\n",
        "joana.speed(5)\n",
        "\n",
        "\n",
        "joana.forward(100)\n",
        "joana.left(135)\n",
        "joana.forward(100)\n",
        "joana.left(90)\n",
        "joana.forward(100)\n",
        "joana.left(135)\n",
        "\n"
      ],
      "execution_count": 54,
      "outputs": [
        {
          "output_type": "display_data",
          "data": {
            "text/html": [
              "\n",
              "      <svg width=\"800\" height=\"500\">\n",
              "        <rect width=\"100%\" height=\"100%\" fill=\"black\"/>\n",
              "        <line x1=\"400\" y1=\"250\" x2=\"400.0\" y2=\"150.0\" stroke-linecap=\"round\" style=\"stroke:white;stroke-width:4\"/><line x1=\"400.0\" y1=\"150.0\" x2=\"329.28932188134524\" y2=\"220.71067811865476\" stroke-linecap=\"round\" style=\"stroke:white;stroke-width:4\"/><line x1=\"329.28932188134524\" y1=\"220.71067811865476\" x2=\"400.0\" y2=\"291.4213562373095\" stroke-linecap=\"round\" style=\"stroke:white;stroke-width:4\"/>\n",
              "        \n",
              "      <g visibility=visible transform=\"rotate(180,400.0,291.4213562373095) translate(400.0, 291.4213562373095)\">\n",
              "        <circle stroke=\"white\" stroke-width=\"3\" fill=\"transparent\" r=\"12\" cx=\"0\" cy=\"0\"/>\n",
              "        <polygon points=\"0,19 3,16 -3,16\" style=\"fill:white;stroke:white;stroke-width:2\"/>\n",
              "      </g>\n",
              "    \n",
              "      </svg>\n",
              "    "
            ],
            "text/plain": [
              "<IPython.core.display.HTML object>"
            ]
          },
          "metadata": {
            "tags": []
          }
        }
      ]
    },
    {
      "cell_type": "markdown",
      "metadata": {
        "id": "th4ycSX4cXF2"
      },
      "source": [
        "3. Adicione instruções para desenhar o talo e folha da flor. Faça a refatoração apropriada para a interface da flor completa ficar \"limpa\"."
      ]
    },
    {
      "cell_type": "code",
      "metadata": {
        "id": "K0SQexjmcWX4"
      },
      "source": [
        ""
      ],
      "execution_count": null,
      "outputs": []
    },
    {
      "cell_type": "markdown",
      "metadata": {
        "id": "0YGnPm25cVk3"
      },
      "source": [
        "4. As letras do alfabeto podem ser construídas a partir de um número moderado de elementos básicos, como linhas verticais e horizontais e algumas curvas. Projete um alfabeto que possa ser desenhado com um número mínimo de elementos básicos e depois escreva funções que desenhem as letras.\n",
        "\n",
        "   A. Você deve escrever uma função para cada letra, com os nomes ```draw_a_```, ```_draw_b_```, etc., e colocar suas funções em um arquivo chamado ```letters.py```. Você pode baixar uma “turtle typewriter” de http://thinkpython2.com/code/typewriter.py para ajudá-lo a testar seu código.\n",
        "\n",
        "   B. Você pode obter uma solução em http://thinkpython2.com/code/letters.py; também requer http://thinkpython2.com/code/polygon.py."
      ]
    },
    {
      "cell_type": "code",
      "metadata": {
        "id": "pEjmxwLicVau"
      },
      "source": [
        ""
      ],
      "execution_count": null,
      "outputs": []
    },
    {
      "cell_type": "markdown",
      "metadata": {
        "id": "hfOMKAFbcTxP"
      },
      "source": [
        "5. Leia sobre espirais em http://en.wikipedia.org/wiki/Spiral; em seguida, escreva um programa que desenhe uma espiral arquimediana (ou um dos outros tipos). Solução: http://thinkpython2.com/code/spiral.py."
      ]
    },
    {
      "cell_type": "code",
      "metadata": {
        "id": "sCvObBBgcTZI"
      },
      "source": [
        ""
      ],
      "execution_count": null,
      "outputs": []
    }
  ]
}